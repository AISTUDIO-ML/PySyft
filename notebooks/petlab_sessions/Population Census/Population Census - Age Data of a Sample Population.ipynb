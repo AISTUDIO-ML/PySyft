{
 "cells": [
  {
   "cell_type": "markdown",
   "id": "e6fc1059",
   "metadata": {},
   "source": [
    "### Data Owner Flow"
   ]
  },
  {
   "cell_type": "code",
   "execution_count": 3,
   "id": "96ffa4ba",
   "metadata": {},
   "outputs": [],
   "source": [
    "import syft as sy\n",
    "import pandas as pd"
   ]
  },
  {
   "cell_type": "code",
   "execution_count": 4,
   "id": "2e713e72",
   "metadata": {},
   "outputs": [],
   "source": [
    "canada_age_data = pd.read_csv(\"https://raw.githubusercontent.com/OpenMined/datasets/main/synthetic_people_2020/people_in_canada.csv\")"
   ]
  },
  {
   "cell_type": "code",
   "execution_count": 7,
   "id": "c6bdcecd",
   "metadata": {},
   "outputs": [
    {
     "data": {
      "text/html": [
       "<div>\n",
       "<style scoped>\n",
       "    .dataframe tbody tr th:only-of-type {\n",
       "        vertical-align: middle;\n",
       "    }\n",
       "\n",
       "    .dataframe tbody tr th {\n",
       "        vertical-align: top;\n",
       "    }\n",
       "\n",
       "    .dataframe thead th {\n",
       "        text-align: right;\n",
       "    }\n",
       "</style>\n",
       "<table border=\"1\" class=\"dataframe\">\n",
       "  <thead>\n",
       "    <tr style=\"text-align: right;\">\n",
       "      <th></th>\n",
       "      <th>ISO3_code</th>\n",
       "      <th>Location</th>\n",
       "      <th>Age</th>\n",
       "      <th>person_id</th>\n",
       "    </tr>\n",
       "  </thead>\n",
       "  <tbody>\n",
       "    <tr>\n",
       "      <th>0</th>\n",
       "      <td>CAN</td>\n",
       "      <td>Canada</td>\n",
       "      <td>0</td>\n",
       "      <td>953066471</td>\n",
       "    </tr>\n",
       "    <tr>\n",
       "      <th>1</th>\n",
       "      <td>CAN</td>\n",
       "      <td>Canada</td>\n",
       "      <td>0</td>\n",
       "      <td>769938298</td>\n",
       "    </tr>\n",
       "    <tr>\n",
       "      <th>2</th>\n",
       "      <td>CAN</td>\n",
       "      <td>Canada</td>\n",
       "      <td>0</td>\n",
       "      <td>870031209</td>\n",
       "    </tr>\n",
       "    <tr>\n",
       "      <th>3</th>\n",
       "      <td>CAN</td>\n",
       "      <td>Canada</td>\n",
       "      <td>1</td>\n",
       "      <td>881785451</td>\n",
       "    </tr>\n",
       "    <tr>\n",
       "      <th>4</th>\n",
       "      <td>CAN</td>\n",
       "      <td>Canada</td>\n",
       "      <td>1</td>\n",
       "      <td>134841618</td>\n",
       "    </tr>\n",
       "    <tr>\n",
       "      <th>...</th>\n",
       "      <td>...</td>\n",
       "      <td>...</td>\n",
       "      <td>...</td>\n",
       "      <td>...</td>\n",
       "    </tr>\n",
       "    <tr>\n",
       "      <th>326</th>\n",
       "      <td>CAN</td>\n",
       "      <td>Canada</td>\n",
       "      <td>83</td>\n",
       "      <td>450261489</td>\n",
       "    </tr>\n",
       "    <tr>\n",
       "      <th>327</th>\n",
       "      <td>CAN</td>\n",
       "      <td>Canada</td>\n",
       "      <td>84</td>\n",
       "      <td>485488090</td>\n",
       "    </tr>\n",
       "    <tr>\n",
       "      <th>328</th>\n",
       "      <td>CAN</td>\n",
       "      <td>Canada</td>\n",
       "      <td>85</td>\n",
       "      <td>374404152</td>\n",
       "    </tr>\n",
       "    <tr>\n",
       "      <th>329</th>\n",
       "      <td>CAN</td>\n",
       "      <td>Canada</td>\n",
       "      <td>86</td>\n",
       "      <td>756925311</td>\n",
       "    </tr>\n",
       "    <tr>\n",
       "      <th>330</th>\n",
       "      <td>CAN</td>\n",
       "      <td>Canada</td>\n",
       "      <td>87</td>\n",
       "      <td>268351289</td>\n",
       "    </tr>\n",
       "  </tbody>\n",
       "</table>\n",
       "<p>331 rows × 4 columns</p>\n",
       "</div>"
      ],
      "text/plain": [
       "    ISO3_code Location  Age  person_id\n",
       "0         CAN   Canada    0  953066471\n",
       "1         CAN   Canada    0  769938298\n",
       "2         CAN   Canada    0  870031209\n",
       "3         CAN   Canada    1  881785451\n",
       "4         CAN   Canada    1  134841618\n",
       "..        ...      ...  ...        ...\n",
       "326       CAN   Canada   83  450261489\n",
       "327       CAN   Canada   84  485488090\n",
       "328       CAN   Canada   85  374404152\n",
       "329       CAN   Canada   86  756925311\n",
       "330       CAN   Canada   87  268351289\n",
       "\n",
       "[331 rows x 4 columns]"
      ]
     },
     "execution_count": 7,
     "metadata": {},
     "output_type": "execute_result"
    }
   ],
   "source": [
    "canada_age_data"
   ]
  },
  {
   "cell_type": "code",
   "execution_count": 9,
   "id": "22fd05c0",
   "metadata": {},
   "outputs": [
    {
     "data": {
      "text/plain": [
       "(0, 87)"
      ]
     },
     "execution_count": 9,
     "metadata": {},
     "output_type": "execute_result"
    }
   ],
   "source": [
    "canada_age_data[\"Age\"].min(), canada_age_data[\"Age\"].max()"
   ]
  },
  {
   "cell_type": "code",
   "execution_count": 11,
   "id": "80cbac0f",
   "metadata": {},
   "outputs": [
    {
     "name": "stdout",
     "output_type": "stream",
     "text": [
      "Tensor annotated with DP Metadata\n"
     ]
    }
   ],
   "source": [
    "age_data = sy.Tensor(canada_age_data[\"Age\"]).annotate_with_dp_metadata(min_val=0, max_val=100, data_subjects=canada_age_data[\"person_id\"])"
   ]
  },
  {
   "cell_type": "code",
   "execution_count": 16,
   "id": "3525642e",
   "metadata": {},
   "outputs": [
    {
     "data": {
      "text/plain": [
       "331"
      ]
     },
     "execution_count": 16,
     "metadata": {},
     "output_type": "execute_result"
    }
   ],
   "source": [
    "age_data.child.data_subjects.sum()"
   ]
  },
  {
   "cell_type": "code",
   "execution_count": 18,
   "id": "389198bd",
   "metadata": {},
   "outputs": [
    {
     "name": "stdout",
     "output_type": "stream",
     "text": [
      "\u001b[93mWARNING:\u001b[0m CHANGE YOUR USERNAME AND PASSWORD!!! \n",
      "\n",
      "Anyone can login as an admin to your node right now because your password is still the default PySyft username and password!!!\n",
      "\n",
      "Connecting to localhost... done! \t Logging into canada... done!\n"
     ]
    }
   ],
   "source": [
    "domain_client = sy.login(email=\"info@openmined.org\", password=\"changethis\", port=8081)"
   ]
  },
  {
   "cell_type": "code",
   "execution_count": 21,
   "id": "25c41e74",
   "metadata": {},
   "outputs": [
    {
     "name": "stderr",
     "output_type": "stream",
     "text": [
      "kj/filesystem-disk-unix.c++:1690: warning: PWD environment variable doesn't match current directory; pwd = /home/shubham/PySyft\n"
     ]
    },
    {
     "name": "stdout",
     "output_type": "stream",
     "text": [
      "Loading dataset...\r",
      "Loading dataset... checking assets...\r",
      "Loading dataset... checking dataset name for uniqueness...\r",
      "Loading dataset... checking dataset name for uniqueness...                                                                                                                    \r",
      "Loading dataset... checking asset types...                              \r",
      "Loading dataset... uploading...🚀                        "
     ]
    },
    {
     "name": "stderr",
     "output_type": "stream",
     "text": [
      "Uploading `Age (Years)`: 100%|\u001b[32m███████████████████████████████████████\u001b[0m| 1/1 [00:00<00:00, 177.80it/s]\u001b[0m"
     ]
    },
    {
     "name": "stdout",
     "output_type": "stream",
     "text": [
      "\r",
      "Dataset is uploaded successfully !!! 🎉\n",
      "\n",
      "Run `<your client variable>.datasets` to see your new dataset loaded into your machine!\n"
     ]
    },
    {
     "name": "stderr",
     "output_type": "stream",
     "text": [
      "\n"
     ]
    }
   ],
   "source": [
    "domain_client.load_dataset(\n",
    "    name=\"Canada population census\",\n",
    "    assets={\"Age (Years)\": age_data},\n",
    "    description=(\n",
    "        \"This contains age data from a sample population of canada\"\n",
    "    )\n",
    ")"
   ]
  },
  {
   "cell_type": "code",
   "execution_count": 22,
   "id": "379953b2",
   "metadata": {},
   "outputs": [
    {
     "data": {
      "text/html": [
       "<style>\n",
       "                #myInput {\n",
       "                  background-position: 10px 12px; /* Position the search icon */\n",
       "                  background-repeat: no-repeat; /* Do not repeat the icon image */\n",
       "                  background-color: #bbb;\n",
       "                  width: 98%; /* Full-width */\n",
       "                  font-size: 14px; /* Increase font-size */\n",
       "                  padding: 12px 20px 12px 40px; /* Add some padding */\n",
       "                  border: 1px solid #ddd; /* Add a grey border */\n",
       "                  margin-bottom: 12px; /* Add some space below the input */\n",
       "                }\n",
       "\n",
       "                #myTable {\n",
       "                  border-collapse: collapse; /* Collapse borders */\n",
       "                  width: 100%; /* Full-width */\n",
       "                  border: 1px solid #ddd; /* Add a grey border */\n",
       "                  font-size: 14px; /* Increase font-size */\n",
       "                }\n",
       "\n",
       "                #myTable th, #myTable td {\n",
       "                  text-align: left; /* Left-align text */\n",
       "                  padding: 10px; /* Add padding */\n",
       "                }\n",
       "\n",
       "                #myTable tr {\n",
       "                  /* Add a bottom border to all table rows */\n",
       "                  border-bottom: 1px solid #ddd;\n",
       "                }\n",
       "\n",
       "                #myTable tr.header, #myTable tr:hover {\n",
       "                  /* Add a grey background color to the table header and on hover */\n",
       "                  background-color: #777;\n",
       "                }\n",
       "                </style>\n",
       "\n",
       "                <table id=\"myTable\" style=\"width:1000px\">\n",
       "                  <tr class=\"header\">\n",
       "                    <th style=\"width:30px\">Idx</th>\n",
       "                    <th style=\"width:20%;\">Name</th>\n",
       "                    <th style=\"width:35%;\">Description</th>\n",
       "                    <th style=\"width:20%;\">Assets</th>\n",
       "                    <th style=\"width:300px;\">Id</th>\n",
       "                  </tr>\n",
       "                \n",
       "\n",
       "          <tr>\n",
       "            <td>[0]</td>\n",
       "            <td>Canada population census</td>\n",
       "            <td>This contains age data from a sample population of canada</td>\n",
       "            <td>[\"Age (Years)\"] -> <class 'syft.core.tensor.tensor.Tensor'><br /><br /></td>\n",
       "            <td>7f5ccfb2-67ef-4705-bc69-677afa6b95a4</td>\n",
       "          </tr>\n",
       "        </table>\n",
       "\n",
       "        <script>\n",
       "        function myFunction() {\n",
       "          // Declare variables\n",
       "          var input, filter, table, tr, td, i, txtValue;\n",
       "          input = document.getElementById(\"myInput\");\n",
       "          filter = input.value.toUpperCase();\n",
       "          table = document.getElementById(\"myTable\");\n",
       "          tr = table.getElementsByTagName(\"tr\");\n",
       "\n",
       "          // Loop through all table rows, and hide those who don't match the search query\n",
       "          for (i = 0; i < tr.length; i++) {\n",
       "            name_td = tr[i].getElementsByTagName(\"td\")[1];\n",
       "            desc_td = tr[i].getElementsByTagName(\"td\")[2];\n",
       "            asset_td = tr[i].getElementsByTagName(\"td\")[3];\n",
       "            id_td = tr[i].getElementsByTagName(\"td\")[4];\n",
       "            if (name_td || desc_td || asset_td || id_td) {\n",
       "              name_txtValue = name_td.textContent || name_td.innerText;\n",
       "              desc_txtValue = desc_td.textContent || name_td.innerText;\n",
       "              asset_txtValue = asset_td.textContent || name_td.innerText;\n",
       "              id_txtValue = id_td.textContent || name_td.innerText;\n",
       "              name_bool = name_txtValue.toUpperCase().indexOf(filter) > -1;\n",
       "              desc_bool = desc_txtValue.toUpperCase().indexOf(filter) > -1;\n",
       "              asset_bool = asset_txtValue.toUpperCase().indexOf(filter) > -1;\n",
       "              id_bool = id_txtValue.toUpperCase().indexOf(filter) > -1;\n",
       "              if (name_bool || desc_bool || asset_bool || id_bool) {\n",
       "                tr[i].style.display = \"\";\n",
       "              } else {\n",
       "                tr[i].style.display = \"none\";\n",
       "              }\n",
       "            }\n",
       "          }\n",
       "        }\n",
       "        </script>"
      ],
      "text/plain": [
       "<syft.core.node.common.client_manager.dataset_api.DatasetRequestAPI at 0x7f9cbab58730>"
      ]
     },
     "execution_count": 22,
     "metadata": {},
     "output_type": "execute_result"
    }
   ],
   "source": [
    "domain_client.datasets"
   ]
  },
  {
   "cell_type": "code",
   "execution_count": 24,
   "id": "5dacb22f",
   "metadata": {},
   "outputs": [
    {
     "name": "stdout",
     "output_type": "stream",
     "text": [
      "Dataset: Canada population census\n",
      "Description: This contains age data from a sample population of canada\n",
      "\n"
     ]
    },
    {
     "data": {
      "text/html": [
       "<style>\n",
       "        #myInput {\n",
       "          background-position: 10px 12px; /* Position the search icon */\n",
       "          background-repeat: no-repeat; /* Do not repeat the icon image */\n",
       "          background-color: #bbb;\n",
       "          width: 98%; /* Full-width */\n",
       "          font-size: 14px; /* Increase font-size */\n",
       "          padding: 12px 20px 12px 40px; /* Add some padding */\n",
       "          border: 1px solid #ddd; /* Add a grey border */\n",
       "          margin-bottom: 12px; /* Add some space below the input */\n",
       "        }\n",
       "\n",
       "        #myTable {\n",
       "          border-collapse: collapse; /* Collapse borders */\n",
       "          width: 50%; /* Full-width */\n",
       "          border: 1px solid #ddd; /* Add a grey border */\n",
       "          font-size: 14px; /* Increase font-size */\n",
       "        }\n",
       "\n",
       "        #myTable th, #myTable td {\n",
       "          text-align: left; /* Left-align text */\n",
       "          padding: 10px; /* Add padding */\n",
       "        }\n",
       "\n",
       "        #myTable tr {\n",
       "          /* Add a bottom border to all table rows */\n",
       "          border-bottom: 1px solid #ddd;\n",
       "        }\n",
       "\n",
       "        #myTable tr.header, #myTable tr:hover {\n",
       "          /* Add a grey background color to the table header and on hover */\n",
       "          background-color: #777;\n",
       "        }\n",
       "        </style>\n",
       "\n",
       "        <table id=\"myTable\">\n",
       "          <tr class=\"header\">\n",
       "            <th style=\"width:15%;\">Asset Key</th>\n",
       "            <th style=\"width:20%;\">Type</th>\n",
       "            <th style=\"width:10%;\">Shape</th>\n",
       "          </tr>\n",
       "        \n",
       "\n",
       "              <tr>\n",
       "            <td>[\"Age (Years)\"]</td>\n",
       "            <td><class 'syft.core.tensor.tensor.Tensor'></td>\n",
       "            <td>(331,)</td>\n",
       "          </tr>\n",
       "        </table>\n",
       "\n",
       "        "
      ],
      "text/plain": [
       "<syft.core.node.common.client_manager.dataset_api.Dataset at 0x7f9cbb370670>"
      ]
     },
     "execution_count": 24,
     "metadata": {},
     "output_type": "execute_result"
    }
   ],
   "source": [
    "domain_client.datasets[0]"
   ]
  },
  {
   "cell_type": "code",
   "execution_count": 25,
   "id": "225cbe87",
   "metadata": {},
   "outputs": [],
   "source": [
    "age_data = domain_client.datasets[0][\"Age (Years)\"]"
   ]
  },
  {
   "cell_type": "code",
   "execution_count": 27,
   "id": "5e843d5c",
   "metadata": {},
   "outputs": [
    {
     "data": {
      "text/plain": [
       "array([ 8, 46, 89, 34,  7, 79,  6, 54, 20, 28, 46, 28, 96, 44, 14, 26, 90,\n",
       "       10,  9, 42, 86, 56, 96, 54, 43, 81,  1, 93, 78, 62,  3, 85, 49, 52,\n",
       "       98, 35, 29, 72, 15, 36, 44, 78, 91,  0, 42, 55, 48, 66, 63,  3, 35,\n",
       "       83, 60, 79, 47, 83, 92, 65, 33, 38,  4, 55, 78, 93, 14,  4, 44, 14,\n",
       "       22, 44, 50,  1, 49, 37, 61, 20, 21, 26, 83, 34, 84, 31, 91,  0, 39,\n",
       "       63, 23, 57, 70, 92, 66, 87, 51, 12, 62,  9, 85, 34, 51, 58, 32, 70,\n",
       "       75, 93, 76, 28, 89, 41, 34, 14, 15, 65, 14, 55, 62, 72, 53, 23, 96,\n",
       "       91, 58, 26, 56, 61, 59, 35, 68, 86, 12, 28,  1, 11, 34,  8, 17, 60,\n",
       "       49, 83, 17, 54, 24, 71, 23, 67, 22, 69,  1, 13, 10, 94, 41, 82, 78,\n",
       "       87, 42, 71, 36, 70, 69, 63, 36, 49,  4, 52, 81, 93, 26, 83, 61,  4,\n",
       "       35, 47, 86, 90, 75, 17, 93,  5, 75, 97, 26, 56, 56, 61, 59, 43, 65,\n",
       "       82, 20, 13, 64,  9, 57, 70, 77,  4, 37, 26, 85, 42, 90, 62, 86, 17,\n",
       "       66, 71, 67, 10, 41, 96,  3, 87, 60, 79, 43, 24, 65,  1, 84, 71, 18,\n",
       "       61, 84, 70, 66, 47, 14, 63, 27, 99, 89, 40, 83, 17, 33, 84,  6, 29,\n",
       "       41, 72, 64, 92, 47, 54, 82, 61, 22, 58, 36, 72, 27, 35, 85, 32, 67,\n",
       "       50,  4, 81, 74, 19, 97, 79, 39, 44, 87,  7, 13, 91, 42, 17, 74, 99,\n",
       "       24, 71, 54, 97, 10, 40,  4, 52, 71, 85, 57, 28, 77, 85, 17, 42, 13,\n",
       "       10, 26, 70, 77, 34, 35, 66, 48, 54, 80, 38,  9, 69,  4, 62, 83, 96,\n",
       "       70, 67, 58,  7, 88, 61, 88, 27, 60, 58, 94,  9, 77,  1, 19,  5, 93,\n",
       "       93, 94, 15, 23, 58, 24, 14, 14])\n",
       "\n",
       " (The data printed above is synthetic - it's an imitation of the real data.)"
      ]
     },
     "execution_count": 27,
     "metadata": {},
     "output_type": "execute_result"
    }
   ],
   "source": [
    "age_data"
   ]
  },
  {
   "cell_type": "code",
   "execution_count": 28,
   "id": "e885f0d1",
   "metadata": {},
   "outputs": [
    {
     "name": "stdout",
     "output_type": "stream",
     "text": [
      "User created successfully!\n"
     ]
    },
    {
     "data": {
      "text/plain": [
       "{'name': 'Sheldon Cooper',\n",
       " 'email': 'sheldon@test.com',\n",
       " 'password': 'bazinga',\n",
       " 'url': 'localhost'}"
      ]
     },
     "execution_count": 28,
     "metadata": {},
     "output_type": "execute_result"
    }
   ],
   "source": [
    "domain_client.create_user(name=\"Sheldon Cooper\", email=\"sheldon@test.com\", password=\"bazinga\", budget=99999)"
   ]
  },
  {
   "cell_type": "markdown",
   "id": "426b5f1e",
   "metadata": {},
   "source": [
    "### Data Scientist Flow"
   ]
  },
  {
   "cell_type": "code",
   "execution_count": 29,
   "id": "4ac93c85",
   "metadata": {},
   "outputs": [
    {
     "name": "stdout",
     "output_type": "stream",
     "text": [
      "Connecting to localhost... done! \t Logging into canada... done!\n"
     ]
    }
   ],
   "source": [
    "ds_domain_client = sy.login(email=\"sheldon@test.com\", password=\"bazinga\", port=8081)"
   ]
  },
  {
   "cell_type": "code",
   "execution_count": 32,
   "id": "2b55ce0a",
   "metadata": {},
   "outputs": [
    {
     "name": "stdout",
     "output_type": "stream",
     "text": [
      "Dataset: Canada population census\n",
      "Description: This contains age data from a sample population of canada\n",
      "\n"
     ]
    },
    {
     "data": {
      "text/html": [
       "<style>\n",
       "        #myInput {\n",
       "          background-position: 10px 12px; /* Position the search icon */\n",
       "          background-repeat: no-repeat; /* Do not repeat the icon image */\n",
       "          background-color: #bbb;\n",
       "          width: 98%; /* Full-width */\n",
       "          font-size: 14px; /* Increase font-size */\n",
       "          padding: 12px 20px 12px 40px; /* Add some padding */\n",
       "          border: 1px solid #ddd; /* Add a grey border */\n",
       "          margin-bottom: 12px; /* Add some space below the input */\n",
       "        }\n",
       "\n",
       "        #myTable {\n",
       "          border-collapse: collapse; /* Collapse borders */\n",
       "          width: 50%; /* Full-width */\n",
       "          border: 1px solid #ddd; /* Add a grey border */\n",
       "          font-size: 14px; /* Increase font-size */\n",
       "        }\n",
       "\n",
       "        #myTable th, #myTable td {\n",
       "          text-align: left; /* Left-align text */\n",
       "          padding: 10px; /* Add padding */\n",
       "        }\n",
       "\n",
       "        #myTable tr {\n",
       "          /* Add a bottom border to all table rows */\n",
       "          border-bottom: 1px solid #ddd;\n",
       "        }\n",
       "\n",
       "        #myTable tr.header, #myTable tr:hover {\n",
       "          /* Add a grey background color to the table header and on hover */\n",
       "          background-color: #777;\n",
       "        }\n",
       "        </style>\n",
       "\n",
       "        <table id=\"myTable\">\n",
       "          <tr class=\"header\">\n",
       "            <th style=\"width:15%;\">Asset Key</th>\n",
       "            <th style=\"width:20%;\">Type</th>\n",
       "            <th style=\"width:10%;\">Shape</th>\n",
       "          </tr>\n",
       "        \n",
       "\n",
       "              <tr>\n",
       "            <td>[\"Age (Years)\"]</td>\n",
       "            <td><class 'syft.core.tensor.tensor.Tensor'></td>\n",
       "            <td>(331,)</td>\n",
       "          </tr>\n",
       "        </table>\n",
       "\n",
       "        "
      ],
      "text/plain": [
       "<syft.core.node.common.client_manager.dataset_api.Dataset at 0x7f9cbb4062b0>"
      ]
     },
     "execution_count": 32,
     "metadata": {},
     "output_type": "execute_result"
    }
   ],
   "source": [
    "ds_domain_client.datasets[0]"
   ]
  },
  {
   "cell_type": "code",
   "execution_count": 33,
   "id": "1d551581",
   "metadata": {},
   "outputs": [],
   "source": [
    "age_data = ds_domain_client.datasets[0][\"Age (Years)\"]"
   ]
  },
  {
   "cell_type": "code",
   "execution_count": 35,
   "id": "806bc0dc",
   "metadata": {},
   "outputs": [],
   "source": [
    "mean_age = age_data.mean()"
   ]
  },
  {
   "cell_type": "code",
   "execution_count": 41,
   "id": "4e00f8e6",
   "metadata": {},
   "outputs": [],
   "source": [
    "age_gt_60 = age_data > 60\n",
    "people_above_age_of_60 = age_gt_60.sum()"
   ]
  },
  {
   "cell_type": "code",
   "execution_count": 42,
   "id": "caa4daaa",
   "metadata": {},
   "outputs": [
    {
     "data": {
      "text/plain": [
       "248.32248095223784\n",
       "\n",
       " (The data printed above is synthetic - it's an imitation of the real data.)"
      ]
     },
     "execution_count": 42,
     "metadata": {},
     "output_type": "execute_result"
    }
   ],
   "source": [
    "people_above_age_of_60"
   ]
  },
  {
   "cell_type": "code",
   "execution_count": 43,
   "id": "142f92ae",
   "metadata": {},
   "outputs": [],
   "source": [
    "mean_age_public = mean_age.publish(sigma=10)"
   ]
  },
  {
   "cell_type": "code",
   "execution_count": 44,
   "id": "cb26e558",
   "metadata": {},
   "outputs": [
    {
     "data": {
      "text/plain": [
       "True"
      ]
     },
     "execution_count": 44,
     "metadata": {},
     "output_type": "execute_result"
    }
   ],
   "source": [
    "mean_age_public.exists"
   ]
  },
  {
   "cell_type": "code",
   "execution_count": 45,
   "id": "0a55427e",
   "metadata": {},
   "outputs": [
    {
     "data": {
      "text/plain": [
       "49.59812881781183"
      ]
     },
     "execution_count": 45,
     "metadata": {},
     "output_type": "execute_result"
    }
   ],
   "source": [
    "mean_age_public.get(delete_obj=True)"
   ]
  },
  {
   "cell_type": "code",
   "execution_count": 48,
   "id": "0c08c882",
   "metadata": {},
   "outputs": [
    {
     "data": {
      "text/plain": [
       "99973.94527769806"
      ]
     },
     "execution_count": 48,
     "metadata": {},
     "output_type": "execute_result"
    }
   ],
   "source": [
    "ds_domain_client.privacy_budget"
   ]
  },
  {
   "cell_type": "code",
   "execution_count": 57,
   "id": "22446903",
   "metadata": {},
   "outputs": [
    {
     "data": {
      "text/plain": [
       "39.531722054380666"
      ]
     },
     "execution_count": 57,
     "metadata": {},
     "output_type": "execute_result"
    }
   ],
   "source": [
    "canada_age_data[\"Age\"].mean()"
   ]
  },
  {
   "cell_type": "code",
   "execution_count": 50,
   "id": "758cfef0",
   "metadata": {},
   "outputs": [],
   "source": [
    "people_above_age_of_60_public = people_above_age_of_60.publish(sigma=5)"
   ]
  },
  {
   "cell_type": "code",
   "execution_count": 52,
   "id": "3c344e78",
   "metadata": {},
   "outputs": [
    {
     "data": {
      "text/plain": [
       "True"
      ]
     },
     "execution_count": 52,
     "metadata": {},
     "output_type": "execute_result"
    }
   ],
   "source": [
    "people_above_age_of_60_public.exists"
   ]
  },
  {
   "cell_type": "code",
   "execution_count": 53,
   "id": "27d829bc",
   "metadata": {},
   "outputs": [
    {
     "data": {
      "text/plain": [
       "76.67296184511981"
      ]
     },
     "execution_count": 53,
     "metadata": {},
     "output_type": "execute_result"
    }
   ],
   "source": [
    "people_above_age_of_60_public.get(delete_obj=True)"
   ]
  },
  {
   "cell_type": "code",
   "execution_count": 55,
   "id": "049dac12",
   "metadata": {},
   "outputs": [
    {
     "data": {
      "text/plain": [
       "99808.62834082622"
      ]
     },
     "execution_count": 55,
     "metadata": {},
     "output_type": "execute_result"
    }
   ],
   "source": [
    "ds_domain_client.privacy_budget"
   ]
  },
  {
   "cell_type": "code",
   "execution_count": 56,
   "id": "3d0241d3",
   "metadata": {},
   "outputs": [
    {
     "data": {
      "text/plain": [
       "69"
      ]
     },
     "execution_count": 56,
     "metadata": {},
     "output_type": "execute_result"
    }
   ],
   "source": [
    "sum(canada_age_data[\"Age\"] > 60)"
   ]
  },
  {
   "cell_type": "code",
   "execution_count": 72,
   "id": "bceecb3a",
   "metadata": {},
   "outputs": [],
   "source": [
    "mean_age_yrs = mean_age.round()"
   ]
  },
  {
   "cell_type": "code",
   "execution_count": 80,
   "id": "45fb8b04",
   "metadata": {},
   "outputs": [],
   "source": [
    "mean_age_months = mean_age - mean_age_yrs\n",
    "mean_age_months = mean_age_months * 12"
   ]
  },
  {
   "cell_type": "code",
   "execution_count": 81,
   "id": "a472461a",
   "metadata": {},
   "outputs": [
    {
     "data": {
      "text/plain": [
       "True"
      ]
     },
     "execution_count": 81,
     "metadata": {},
     "output_type": "execute_result"
    }
   ],
   "source": [
    "mean_age_months.exists"
   ]
  },
  {
   "cell_type": "code",
   "execution_count": 90,
   "id": "d679e087",
   "metadata": {},
   "outputs": [],
   "source": [
    "mean_age_months_pub = mean_age_months.publish(sigma=1)"
   ]
  },
  {
   "cell_type": "code",
   "execution_count": null,
   "id": "d62f6fbe",
   "metadata": {},
   "outputs": [],
   "source": [
    "mean_age_yrs_pub = mean_age_yrs.publish(sigma=5)"
   ]
  },
  {
   "cell_type": "code",
   "execution_count": 84,
   "id": "ebacf86f",
   "metadata": {},
   "outputs": [
    {
     "data": {
      "text/plain": [
       "False"
      ]
     },
     "execution_count": 84,
     "metadata": {},
     "output_type": "execute_result"
    }
   ],
   "source": [
    "mean_age_months_pub.exists"
   ]
  },
  {
   "cell_type": "code",
   "execution_count": 91,
   "id": "d29be427",
   "metadata": {},
   "outputs": [
    {
     "data": {
      "text/plain": [
       "True"
      ]
     },
     "execution_count": 91,
     "metadata": {},
     "output_type": "execute_result"
    }
   ],
   "source": [
    "mean_age_months_pub.exists"
   ]
  },
  {
   "cell_type": "code",
   "execution_count": 93,
   "id": "9cfe4dec",
   "metadata": {},
   "outputs": [
    {
     "data": {
      "text/plain": [
       "(41.260079693944675, -4.742555601438492)"
      ]
     },
     "execution_count": 93,
     "metadata": {},
     "output_type": "execute_result"
    }
   ],
   "source": [
    "mean_age_yrs_pub.get(delete_obj=False), mean_age_months_pub.get(delete_obj=False)"
   ]
  },
  {
   "cell_type": "code",
   "execution_count": null,
   "id": "5fa5c3d2",
   "metadata": {},
   "outputs": [],
   "source": []
  },
  {
   "cell_type": "code",
   "execution_count": null,
   "id": "8a4500cb",
   "metadata": {},
   "outputs": [],
   "source": []
  },
  {
   "cell_type": "markdown",
   "id": "90a02ac4",
   "metadata": {},
   "source": []
  }
 ],
 "metadata": {
  "kernelspec": {
   "display_name": "Python 3 (ipykernel)",
   "language": "python",
   "name": "python3"
  },
  "language_info": {
   "codemirror_mode": {
    "name": "ipython",
    "version": 3
   },
   "file_extension": ".py",
   "mimetype": "text/x-python",
   "name": "python",
   "nbconvert_exporter": "python",
   "pygments_lexer": "ipython3",
   "version": "3.9.7"
  }
 },
 "nbformat": 4,
 "nbformat_minor": 5
}
