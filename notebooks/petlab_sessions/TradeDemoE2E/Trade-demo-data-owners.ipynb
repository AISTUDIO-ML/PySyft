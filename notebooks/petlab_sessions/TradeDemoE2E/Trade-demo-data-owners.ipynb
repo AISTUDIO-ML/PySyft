{
 "cells": [
  {
   "cell_type": "markdown",
   "id": "968aec29",
   "metadata": {},
   "source": [
    "## Align Zoom and Notebook Side By Side"
   ]
  },
  {
   "cell_type": "markdown",
   "id": "760275a6",
   "metadata": {},
   "source": [
    "![split_screenshot.png](img/split_screenshot.png)"
   ]
  },
  {
   "cell_type": "markdown",
   "id": "c42e219c-c3ab-45a4-832e-70a573bbb2de",
   "metadata": {},
   "source": [
    "<img src=\"img/heading_tutorial.jpg\" style=\"width: 100%; margin:0;\" />"
   ]
  },
  {
   "cell_type": "markdown",
   "id": "542ac39c-2b8f-4a98-a5f9-b0435017aa95",
   "metadata": {},
   "source": [
    "<img src=\"img/tab_intro.png\" style=\"width: 664px; margin:0;\" />"
   ]
  },
  {
   "cell_type": "code",
   "execution_count": null,
   "id": "ab5fb444-29f3-48ea-ac63-0473bbdeac5a",
   "metadata": {},
   "outputs": [],
   "source": [
    "# run this cell\n",
    "! echo \"Hello from the Linux Shell\"\n",
    "\n",
    "! echo \"\\n✅ Step Complete\\n\""
   ]
  },
  {
   "cell_type": "markdown",
   "id": "9ad10bcc-52d6-4972-b159-f5ace118c985",
   "metadata": {},
   "source": [
    "<br /><br />"
   ]
  },
  {
   "cell_type": "markdown",
   "id": "84e847fe-3329-4dfb-b51e-cff796ca66e7",
   "metadata": {},
   "source": [
    "<br /><br />"
   ]
  },
  {
   "cell_type": "markdown",
   "id": "f0e6c33b-87da-49cb-a0e8-e18b2f86dfe2",
   "metadata": {},
   "source": [
    "<img src=\"img/heading_overview.jpg\" style=\"width: 100%; margin:0;\" />"
   ]
  },
  {
   "cell_type": "markdown",
   "id": "fb32cfd0-3470-4c18-915e-f6f8a7fccfa8",
   "metadata": {},
   "source": [
    "<br /><br />"
   ]
  },
  {
   "cell_type": "markdown",
   "id": "41f1b3de-79f4-41a4-a84f-06ca5fb50d7c",
   "metadata": {},
   "source": [
    "<img src=\"img/heading_domain.jpg\" style=\"width: 100%; margin:0;\" />"
   ]
  },
  {
   "cell_type": "markdown",
   "id": "247ce15d-2a60-42af-89f7-8cbb898bdbc6",
   "metadata": {
    "tags": []
   },
   "source": [
    "<br /><br />"
   ]
  },
  {
   "cell_type": "markdown",
   "id": "df7c2ffa-bfa1-4797-a30a-99624b4e9786",
   "metadata": {},
   "source": [
    "<img src=\"img/tab_install_pip.png\" alt=\"tab\" style=\"width: 664px; margin:0;\" />"
   ]
  },
  {
   "cell_type": "code",
   "execution_count": null,
   "id": "abe45ddc-7e04-4bdb-b347-e499d4506173",
   "metadata": {
    "scrolled": true,
    "tags": []
   },
   "outputs": [],
   "source": [
    "# run this cell\n",
    "! sudo apt update && sudo apt install python3-pip\n",
    "\n",
    "! echo \"\\n✅ Step Complete\\n\""
   ]
  },
  {
   "cell_type": "markdown",
   "id": "1c127338-6c52-46d4-864f-eed7c6d0b070",
   "metadata": {},
   "source": [
    "<br /><br />"
   ]
  },
  {
   "cell_type": "markdown",
   "id": "65ea5238",
   "metadata": {},
   "source": [
    "<img src=\"img/tab_install_hagrid.png\" alt=\"tab\" style=\"width: 664px; margin:0;\" />"
   ]
  },
  {
   "cell_type": "code",
   "execution_count": null,
   "id": "b3e74753-2bb6-4b45-986c-2fc6d51abb83",
   "metadata": {
    "scrolled": true,
    "tags": []
   },
   "outputs": [],
   "source": [
    "# run this cell\n",
    "! pip install -U hagrid\n",
    "\n",
    "! echo \"\\n✅ Step Complete\\n\""
   ]
  },
  {
   "cell_type": "markdown",
   "id": "c7bf9f18-0acf-476f-b4af-38b19cd1b14e",
   "metadata": {},
   "source": [
    "<br /><br />"
   ]
  },
  {
   "cell_type": "markdown",
   "id": "71af3469-e7bc-401b-8719-cfcb1daf8314",
   "metadata": {},
   "source": [
    "<img src=\"img/tab_install_syft.png\" style=\"width: 664px; margin:0;\" />"
   ]
  },
  {
   "cell_type": "code",
   "execution_count": null,
   "id": "2ddb00d1-c3f1-43fa-8c49-6615fce0cbc2",
   "metadata": {
    "scrolled": true,
    "tags": []
   },
   "outputs": [],
   "source": [
    "# run this cell\n",
    "! pip install --pre -U syft\n",
    "\n",
    "! echo \"\\n✅ Step Complete\\n\""
   ]
  },
  {
   "cell_type": "markdown",
   "id": "c7b3d0ba-adb2-417f-b55e-a01fac92b649",
   "metadata": {},
   "source": [
    "<br /><br />"
   ]
  },
  {
   "cell_type": "markdown",
   "id": "7c47d7c7-10c7-4b29-8126-fd1bd84576e2",
   "metadata": {},
   "source": [
    "<img src=\"img/tab_launch_domain.png\" alt=\"tab\" style=\"width: 664px; margin:0;\" />"
   ]
  },
  {
   "cell_type": "code",
   "execution_count": null,
   "id": "895bf875-92ae-4fe1-ab9c-2440ccd552ca",
   "metadata": {
    "scrolled": true,
    "tags": []
   },
   "outputs": [],
   "source": [
    "# edit DOMAIN_NAME and run this cell\n",
    "\n",
    "DOMAIN_NAME = \"Canada\"\n",
    "\n",
    "! hagrid launch {DOMAIN_NAME} to docker:80 --tag=latest --tail=false --silent\n",
    "\n",
    "! echo \"\\n✅ Step Complete\\n\""
   ]
  },
  {
   "cell_type": "markdown",
   "id": "2cf78185-a56f-42a7-910f-0eb40d8ceafa",
   "metadata": {},
   "source": [
    "<br /><br />"
   ]
  },
  {
   "cell_type": "markdown",
   "id": "4a4a81f0-35a7-4d67-b01a-f9cc4edb994e",
   "metadata": {},
   "source": [
    "<img src=\"img/tab_check_domain.png\" alt=\"tab\" style=\"width: 664px; margin:0;\" />"
   ]
  },
  {
   "cell_type": "code",
   "execution_count": null,
   "id": "59478a49-bc31-4384-a19d-1e8129a03769",
   "metadata": {
    "scrolled": true,
    "tags": []
   },
   "outputs": [],
   "source": [
    "# run this cell\n",
    "! hagrid check \"localhost:80\" --wait --silent\n",
    "\n",
    "! echo \"\\n✅ Step Complete\\n\""
   ]
  },
  {
   "cell_type": "markdown",
   "id": "749582ab-c594-410a-b550-e918bc5da59c",
   "metadata": {},
   "source": [
    "<br /><br />"
   ]
  },
  {
   "cell_type": "markdown",
   "id": "a582c187-4593-4d4d-9b7c-53c71dc4bc9d",
   "metadata": {},
   "source": [
    "<br /><br />"
   ]
  },
  {
   "cell_type": "markdown",
   "id": "30046b27-9ec8-4875-8c4e-ea307affe98f",
   "metadata": {},
   "source": [
    "<img src=\"img/heading_data.jpg\" style=\"width: 100%; margin:0;\" />"
   ]
  },
  {
   "cell_type": "markdown",
   "id": "2262e45b-a57c-4deb-b7ce-0fc5f4510535",
   "metadata": {},
   "source": [
    "<br /><br />"
   ]
  },
  {
   "cell_type": "markdown",
   "id": "5e6a6033-aee8-40f4-a73d-c8883f8591c8",
   "metadata": {},
   "source": [
    "<img src=\"img/tab_import_syft.png\" style=\"width: 664px; margin:0;\" />"
   ]
  },
  {
   "cell_type": "code",
   "execution_count": null,
   "id": "e403ad85-3e53-465c-a630-5a2f46692f14",
   "metadata": {},
   "outputs": [],
   "source": [
    "# run this cell\n",
    "import syft as sy\n",
    "from utils import *\n",
    "print(\"Syft is imported\")"
   ]
  },
  {
   "cell_type": "markdown",
   "id": "7ba67146-a1e1-428a-a0b8-bc9887c297f5",
   "metadata": {},
   "source": [
    "<br /><br />"
   ]
  },
  {
   "cell_type": "markdown",
   "id": "e6baeedc-36ab-497c-af4a-6794e9ba0858",
   "metadata": {},
   "source": [
    "<img src=\"img/tab_python_client_login.png\" style=\"width: 664px; margin:0;\" />"
   ]
  },
  {
   "cell_type": "code",
   "execution_count": null,
   "id": "04b38279-ce5c-4257-ae54-771ab6650dc7",
   "metadata": {},
   "outputs": [],
   "source": [
    "domain_client = sy.login(\n",
    "    url=\"localhost:80\",#auto_detect_domain_host_ip(),\n",
    "    email=\"info@openmined.org\",\n",
    "    password=\"changethis\"\n",
    ")"
   ]
  },
  {
   "cell_type": "markdown",
   "id": "6be8bc9a-a202-4bdc-a58e-4d17d589b927",
   "metadata": {
    "tags": []
   },
   "source": [
    "<br /><br />"
   ]
  },
  {
   "cell_type": "markdown",
   "id": "1ddea1a4-712c-4e7f-8c6f-1ff3880c64bc",
   "metadata": {},
   "source": [
    "<img src=\"img/tab_get_dataset.png\" style=\"width: 664px; margin:0;\" />"
   ]
  },
  {
   "cell_type": "code",
   "execution_count": null,
   "id": "e1cb609a-e618-4c1e-ad27-fd4cf9e05602",
   "metadata": {},
   "outputs": [],
   "source": [
    "# add url to MY_DATASET_URL then run this cell\n",
    "\n",
    "MY_DATASET_URL = \"https://raw.githubusercontent.com/OpenMined/PySyft/dev/notebooks/trade_demo/datasets/ca%20-%20feb%202021.csv\"\n",
    "\n",
    "trade_dataset = download_dataset_as_dataframe(MY_DATASET_URL)"
   ]
  },
  {
   "cell_type": "markdown",
   "id": "9e077e78-c8d2-47f2-b125-2c3a4622f396",
   "metadata": {},
   "source": [
    "<br /><br />"
   ]
  },
  {
   "cell_type": "markdown",
   "id": "6e50bce3-fc61-4786-828d-8ed29c83b7ff",
   "metadata": {},
   "source": [
    "<img src=\"img/tab_preview_dataset.png\" style=\"width: 664px; margin:0;\" />"
   ]
  },
  {
   "cell_type": "code",
   "execution_count": null,
   "id": "8aa3c8e4-3672-4213-b877-e8211bb511e7",
   "metadata": {},
   "outputs": [],
   "source": [
    "trade_dataset.head()"
   ]
  },
  {
   "cell_type": "markdown",
   "id": "390e990b-2fdc-4508-ac10-8fe7277bd46e",
   "metadata": {},
   "source": [
    "<br /><br />"
   ]
  },
  {
   "cell_type": "markdown",
   "id": "e9299949-971c-41d3-8ec9-016798176f6a",
   "metadata": {},
   "source": [
    "<img src=\"img/tab_preprocess_data.png\" style=\"width: 664px; margin:0;\" />"
   ]
  },
  {
   "cell_type": "code",
   "execution_count": null,
   "id": "6738dcbd",
   "metadata": {},
   "outputs": [],
   "source": [
    "# run this cell\n",
    "\n",
    "# Filter trade details of imported commodities\n",
    "imports = trade_dataset[trade_dataset['Trade Flow'] == \"Imports\"]\n",
    "\n",
    "# Filter trade details of exported commodities\n",
    "exports = trade_dataset[trade_dataset['Trade Flow'] == \"Exports\"]"
   ]
  },
  {
   "cell_type": "code",
   "execution_count": null,
   "id": "f209bdea",
   "metadata": {},
   "outputs": [],
   "source": [
    "# run this cell\n",
    "\n",
    "# Extract the trade value of the imported commodities\n",
    "trade_value_of_imported_commodites = imports['Trade Value (US$)'].to_numpy()\n",
    "\n",
    "# Extract the trade value of the exported commodities\n",
    "trade_value_of_exported_commodites = exports['Trade Value (US$)'].to_numpy()"
   ]
  },
  {
   "cell_type": "markdown",
   "id": "6c1729b3-0d33-4ae7-af65-e373fab01fe9",
   "metadata": {},
   "source": [
    "<br /><br />"
   ]
  },
  {
   "cell_type": "markdown",
   "id": "789c2c4e-f0d0-4a92-8fcc-37fd98631557",
   "metadata": {},
   "source": [
    "<img src=\"img/tab_annotate_import.png\" style=\"width: 664px; margin:0;\" />"
   ]
  },
  {
   "cell_type": "code",
   "execution_count": null,
   "id": "c9f4f75f-a4b6-4337-8bc7-147ace57a14f",
   "metadata": {},
   "outputs": [],
   "source": [
    "# run this cell\n",
    "\n",
    "# Filter out the countries from which commodities were imported\n",
    "countries_from_which_commodities_are_imported = imports[\"Partner\"]\n",
    "\n",
    "data_subjects_for_imported_commodities = sy.DataSubjectArray.from_objs(\n",
    "    countries_from_which_commodities_are_imported\n",
    ")\n",
    "\n",
    "# annotate traded value of imported commodities with dp metadata\n",
    "imports_data = sy.Tensor(\n",
    "    trade_value_of_imported_commodites\n",
    ").annotated_with_dp_metadata(min_val=0, max_val=255, data_subjects=data_subjects_for_imported_commodities)"
   ]
  },
  {
   "cell_type": "markdown",
   "id": "e40e887c-0bbf-461c-9cc5-6b7468e588ff",
   "metadata": {},
   "source": [
    "<br /><br />"
   ]
  },
  {
   "cell_type": "markdown",
   "id": "7d9a9d6d-e9b2-4474-970d-d7a860e1e63e",
   "metadata": {},
   "source": [
    "<img src=\"img/tab_annotate_export.png\" style=\"width: 664px; margin:0;\" />"
   ]
  },
  {
   "cell_type": "code",
   "execution_count": null,
   "id": "1c484423-2e61-4d6e-95a8-ba846f04e798",
   "metadata": {},
   "outputs": [],
   "source": [
    "# run this cell\n",
    "\n",
    "# Filter out the countries to which commodities were exported\n",
    "countries_to_which_commodities_are_exported = exports[\"Partner\"]\n",
    "\n",
    "data_subjects_for_exported_commodities = sy.DataSubjectArray.from_objs(countries_to_which_commodities_are_exported)\n",
    "\n",
    "\n",
    "# annotate traded value of exported commodities with dp metadata\n",
    "exports_data = sy.Tensor(\n",
    "    trade_value_of_exported_commodites\n",
    ").annotated_with_dp_metadata(min_val=0, max_val=1, data_subjects=data_subjects_for_exported_commodities)"
   ]
  },
  {
   "cell_type": "markdown",
   "id": "1c31d710-edc4-4528-8f3b-765a17bedf18",
   "metadata": {},
   "source": [
    "<br /><br />"
   ]
  },
  {
   "cell_type": "markdown",
   "id": "975ccd16-5d0e-4b14-a7b6-d42016fcac33",
   "metadata": {},
   "source": [
    "<img src=\"img/tab_upload_dataset.png\" style=\"width: 664px; margin:0;\" />"
   ]
  },
  {
   "cell_type": "code",
   "execution_count": null,
   "id": "90900d1e-9e67-4c76-93d7-ea605a059c0d",
   "metadata": {},
   "outputs": [],
   "source": [
    "# run this cell\n",
    "\n",
    "# Upload data to the domain\n",
    "domain_client.load_dataset(\n",
    "    name=\"Imports and Exports Trade dataset Feb 2021\",\n",
    "    assets={\n",
    "        \"imports\": imports_data, \n",
    "        \"exports\": exports_data\n",
    "    },\n",
    "    description=\"This dataset contains information about all of imports and exports \\\n",
    "    in the month of Feb 2021. Measured in USD.\",\n",
    ")"
   ]
  },
  {
   "cell_type": "markdown",
   "id": "b009b00e-2b50-4a34-b9c1-9432c97c7b75",
   "metadata": {},
   "source": [
    "<br /><br />"
   ]
  },
  {
   "cell_type": "markdown",
   "id": "f3d72705-39f8-4ced-ba71-d86286677426",
   "metadata": {},
   "source": [
    "<img src=\"img/tab_check_dataset.png\" style=\"width: 664px; margin:0;\" />"
   ]
  },
  {
   "cell_type": "code",
   "execution_count": null,
   "id": "7e1bcb0f-3c6b-4bf6-b7ed-2ee4b2b16d62",
   "metadata": {},
   "outputs": [],
   "source": [
    "# run this cell\n",
    "domain_client.datasets"
   ]
  },
  {
   "cell_type": "markdown",
   "id": "ec09d9c2-4016-4362-805b-d5e6da71e209",
   "metadata": {},
   "source": [
    "<br /><br />"
   ]
  },
  {
   "cell_type": "markdown",
   "id": "ff9ac597-ed96-4703-89f4-8a7c0d2b2290",
   "metadata": {},
   "source": [
    "<br /><br />"
   ]
  },
  {
   "cell_type": "markdown",
   "id": "db7f0b9e-3397-4926-af99-bd50f1522904",
   "metadata": {},
   "source": [
    "<img src=\"img/heading_network.jpg\" style=\"width: 100%; margin:0;\" />"
   ]
  },
  {
   "cell_type": "markdown",
   "id": "6402241d-8503-4fb7-9497-15b26b00336e",
   "metadata": {},
   "source": [
    "<br /><br />"
   ]
  },
  {
   "cell_type": "markdown",
   "id": "bca43818-fcab-44d5-bc4d-c47307789423",
   "metadata": {},
   "source": [
    "<img src=\"img/tab_browse_networks.png\" style=\"width: 664px; margin:0;\" />"
   ]
  },
  {
   "cell_type": "code",
   "execution_count": null,
   "id": "f10886dc-55ba-4fc9-8525-7cbf61ad2ce0",
   "metadata": {},
   "outputs": [],
   "source": [
    "# run this cell\n",
    "sy.networks"
   ]
  },
  {
   "cell_type": "markdown",
   "id": "fe2b98e7-df71-4c26-8508-f30af7ece840",
   "metadata": {},
   "source": [
    "<br /><br />"
   ]
  },
  {
   "cell_type": "markdown",
   "id": "0edcd596-cf43-4ffa-9356-496642402d9b",
   "metadata": {},
   "source": [
    "<img src=\"img/tab_join_network.png\" style=\"width: 664px; margin:0;\" />"
   ]
  },
  {
   "cell_type": "code",
   "execution_count": null,
   "id": "e507b125-cdfc-4ff1-85c6-bb45a96800f8",
   "metadata": {},
   "outputs": [],
   "source": [
    "# run this cell\n",
    "NETWORK_NAME = \"UN PET Lab Network\"\n",
    "network_client = sy.networks[NETWORK_NAME]\n",
    "domain_client.apply_to_network(network_client)"
   ]
  },
  {
   "cell_type": "markdown",
   "id": "28c522c8-2f8b-4797-a4e1-ca61e5bd0cde",
   "metadata": {},
   "source": [
    "<br /><br />"
   ]
  },
  {
   "cell_type": "markdown",
   "id": "901bb9a8-0767-4e71-95bb-0da74c481ee1",
   "metadata": {},
   "source": [
    "<img src=\"img/tab_see_domains.png\" style=\"width: 664px; margin:0;\" />"
   ]
  },
  {
   "cell_type": "code",
   "execution_count": null,
   "id": "d407b9f3-56fe-484b-a069-262ceb0e3c39",
   "metadata": {},
   "outputs": [],
   "source": [
    "# run this cell\n",
    "network_client.domains"
   ]
  },
  {
   "cell_type": "markdown",
   "id": "6f33b0ae-7838-477d-ae54-8e1fe29a313a",
   "metadata": {},
   "source": [
    "<br /><br />"
   ]
  },
  {
   "cell_type": "markdown",
   "id": "a0995981-751e-4c09-9d0b-62b605fb83fa",
   "metadata": {},
   "source": [
    "<br /><br />"
   ]
  },
  {
   "cell_type": "markdown",
   "id": "95ebeff5-e187-4743-bd08-70568ce9ecd6",
   "metadata": {},
   "source": [
    "<img src=\"img/heading_account.jpg\" style=\"width: 100%; margin:0;\" />"
   ]
  },
  {
   "cell_type": "markdown",
   "id": "ce3c930d-2bf1-418d-9eae-fbeab293f7a9",
   "metadata": {},
   "source": [
    "<br /><br />"
   ]
  },
  {
   "cell_type": "markdown",
   "id": "fff90e70-df4b-4a5f-b095-61e2c37f531e",
   "metadata": {},
   "source": [
    "<img src=\"img/tab_create_user.png\" style=\"width: 664px; margin:0;\" />"
   ]
  },
  {
   "cell_type": "code",
   "execution_count": null,
   "id": "e1d65ed8-4c44-45f9-bc35-33409e5a4956",
   "metadata": {},
   "outputs": [],
   "source": [
    "# run this cell\n",
    "data_scientist_details = domain_client.create_user(\n",
    "    name=\"Sam Carter\",\n",
    "    email=\"sam@stargate.net\",\n",
    "    password=\"changethis\",\n",
    "    budget=99999\n",
    ")"
   ]
  },
  {
   "cell_type": "markdown",
   "id": "53190a67-6dbf-4c09-b3c3-5e0b38d35776",
   "metadata": {},
   "source": [
    "<br /><br />"
   ]
  },
  {
   "cell_type": "markdown",
   "id": "fb2f637a-22df-4754-b765-2a3b92e7e530",
   "metadata": {},
   "source": [
    "<img src=\"img/tab_copy_details.png\" style=\"width: 664px; margin:0;\" />"
   ]
  },
  {
   "cell_type": "code",
   "execution_count": null,
   "id": "ff69d828-12b0-420a-9a8b-bf1e0f86285c",
   "metadata": {},
   "outputs": [],
   "source": [
    "# run this cell then copy the output\n",
    "print(\"Please give these details to the Data Scientist 👇🏽\")\n",
    "print(data_scientist_details)"
   ]
  },
  {
   "cell_type": "markdown",
   "id": "09a7da08-70d8-45bf-a00c-b22f6a85644d",
   "metadata": {},
   "source": [
    "<br /><br />"
   ]
  },
  {
   "cell_type": "markdown",
   "id": "f9bb8ab2-d602-442a-9993-5aa2dc2a40bb",
   "metadata": {},
   "source": [
    "<img src=\"img/heading_recap.jpg\" style=\"width: 100%; margin:0;\" />"
   ]
  },
  {
   "cell_type": "markdown",
   "id": "c8f8dc74-f9f1-4c2d-9d50-2faea7d1a004",
   "metadata": {},
   "source": [
    "<br /><br />"
   ]
  },
  {
   "cell_type": "markdown",
   "id": "ccd0014d-a251-4bdb-bcaf-a3b6d08e044e",
   "metadata": {},
   "source": [
    "# Thank You"
   ]
  },
  {
   "cell_type": "markdown",
   "id": "4d8bb9ca-9e33-41b6-aed2-cbd480e05940",
   "metadata": {},
   "source": [
    "If you have any questions for our team please don't hesitate to reach out via email or the slack link below."
   ]
  },
  {
   "cell_type": "markdown",
   "id": "752cc663-5ba1-4d60-9d83-d67d10c01331",
   "metadata": {},
   "source": [
    "# Links"
   ]
  },
  {
   "cell_type": "markdown",
   "id": "168238be-d65a-4134-ac50-8b65b0b08845",
   "metadata": {},
   "source": [
    "🌍 Web:&nbsp;&nbsp;&nbsp;&nbsp;&nbsp;&nbsp;&nbsp; https://blog.openmined.org/  \n",
    "💬 Slack:&nbsp;&nbsp;&nbsp;&nbsp;&nbsp; https://openmined.slack.com/  \n",
    "🎥 Course:&nbsp;&nbsp; https://courses.openmined.org/  \n",
    "📰 Blog:&nbsp;&nbsp;&nbsp;&nbsp;&nbsp;&nbsp; https://blog.openmined.org/  \n",
    "🐙 Code:&nbsp;&nbsp;&nbsp;&nbsp;&nbsp; https://github.com/OpenMined/PySyft"
   ]
  }
 ],
 "metadata": {
  "interpreter": {
   "hash": "630449982b6186a6531308cd76ed4d510e9db65154e43844c2906c6a20ad2a6d"
  },
  "kernelspec": {
   "display_name": "Python 3 (ipykernel)",
   "language": "python",
   "name": "python3"
  },
  "language_info": {
   "codemirror_mode": {
    "name": "ipython",
    "version": 3
   },
   "file_extension": ".py",
   "mimetype": "text/x-python",
   "name": "python",
   "nbconvert_exporter": "python",
   "pygments_lexer": "ipython3",
   "version": "3.9.7"
  },
  "toc-autonumbering": false
 },
 "nbformat": 4,
 "nbformat_minor": 5
}
