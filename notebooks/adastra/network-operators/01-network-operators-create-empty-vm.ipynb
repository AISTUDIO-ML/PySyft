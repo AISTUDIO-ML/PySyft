{
 "cells": [
  {
   "cell_type": "markdown",
   "id": "4cfd6c5a-09bd-42e6-aba6-24971da44d99",
   "metadata": {},
   "source": [
    "# Create an empty Ubuntu VM on Azure"
   ]
  },
  {
   "cell_type": "markdown",
   "id": "6495454f-0cf2-4d21-8a60-d01ba9b67b88",
   "metadata": {},
   "source": [
    "Install HAGrid"
   ]
  },
  {
   "cell_type": "markdown",
   "id": "5597864f-3ab6-4957-8a57-f865200b8314",
   "metadata": {},
   "source": [
    "```\n",
    "pip install hagrid\n",
    "```"
   ]
  },
  {
   "cell_type": "markdown",
   "id": "1e32e1a3-59e0-45f1-bfa0-3d008ca7413e",
   "metadata": {},
   "source": [
    "__NOTE__: Just in case there are some issues with a VM we should provision are few extra, here we use node_count 12 for a session of 10 users"
   ]
  },
  {
   "cell_type": "markdown",
   "id": "c698bf82-4346-40a7-b618-db3a471768d1",
   "metadata": {},
   "source": [
    "Run hagrid launch with these arguments:"
   ]
  },
  {
   "cell_type": "markdown",
   "id": "cb74a71b-6d04-4c18-98dd-6ac3040cbfde",
   "metadata": {},
   "source": [
    "```\n",
    "hagrid launch to azure --image_name=domain_0.7.0 --jupyter --ansible_extras=\"install=false,aa_demo=true\" --node_count 12\n",
    "```"
   ]
  },
  {
   "cell_type": "markdown",
   "id": "abc09642-a3a6-4b3a-88ee-1489b90263b6",
   "metadata": {},
   "source": [
    "- Use a new unique resource group for this session like: aa-test-1\n",
    "- Choose the location where your demo participants will be located, e.g. `eastus`, `westus` etc\n",
    "- Choose an 8 core machine like `Standard_D8s_v3`\n",
    "- Set the username to `azureuser`\n",
    "- Choose password and then `n` to auto-generate password\n",
    "- Set an easy to remember 12 character password like: `Adastrademo2022`\n",
    "- What ever you enter into Repo and Branch will be ignored"
   ]
  },
  {
   "cell_type": "markdown",
   "id": "2e3a1002-a097-494c-81fd-daf6fe2bdb1d",
   "metadata": {},
   "source": [
    "![ip_address](img/hagrid_bare_vm.png)"
   ]
  },
  {
   "cell_type": "markdown",
   "id": "0788b388-01ea-4aee-b47d-ba2ad15ff6d5",
   "metadata": {},
   "source": [
    "After it is finished you should see this message"
   ]
  },
  {
   "cell_type": "markdown",
   "id": "57b64cff-f09f-4af5-81a7-10789cab991f",
   "metadata": {},
   "source": [
    "![ip_address](img/hagrid_bare_vm_output.png)"
   ]
  },
  {
   "cell_type": "markdown",
   "id": "cbd970a1-fa74-4928-9b72-5afcffcd8041",
   "metadata": {},
   "source": [
    "Now run this to get JSON containing the information for all the VMs:"
   ]
  },
  {
   "cell_type": "markdown",
   "id": "e62978aa-99e5-469c-b69a-ede97f17295c",
   "metadata": {},
   "source": [
    "```\n",
    "cat ~/.hagrid/host_ips.json\n",
    "```"
   ]
  },
  {
   "cell_type": "code",
   "execution_count": 10,
   "id": "187a4aa7",
   "metadata": {},
   "outputs": [],
   "source": [
    "import os\n",
    "import json\n",
    "\n",
    "# paste the path to host ip json here\n",
    "HOST_IP_PATH = \"~/.hagrid/host_ips.json\"\n",
    "HOST_IP_PATH = os.path.expanduser(HOST_IP_PATH)\n",
    "\n",
    "with open(HOST_IP_PATH) as fp:\n",
    "    host_ips = json.loads(fp.read())"
   ]
  },
  {
   "cell_type": "code",
   "execution_count": 11,
   "id": "e849c95e",
   "metadata": {},
   "outputs": [
    {
     "data": {
      "text/plain": [
       "{'host_ips': [{'username': 'azureuser',\n",
       "   'password': 'Adastrademo2022',\n",
       "   'ip_address': '20.245.2.237',\n",
       "   'jupyter_token': 'rce4r1712ejdzz2tfkak1unfp69pi0dy9jdlfxrnkqykmtos'},\n",
       "  {'username': 'azureuser',\n",
       "   'password': 'Adastrademo2022',\n",
       "   'ip_address': '20.245.3.8',\n",
       "   'jupyter_token': 'scs9u4o58e5pp8jelzi7fo2txdmzim25kp3hn9a24p0oemc2'},\n",
       "  {'username': 'azureuser',\n",
       "   'password': 'Adastrademo2022',\n",
       "   'ip_address': '20.245.2.223',\n",
       "   'jupyter_token': '66ce29qudc52226d90gwxz8mw1hsag73wha2cn40n89slq64'},\n",
       "  {'username': 'azureuser',\n",
       "   'password': 'Adastrademo2022',\n",
       "   'ip_address': '20.245.2.236',\n",
       "   'jupyter_token': 'akdufkewvcwa0jtujrmxj3mhujy12uww5oqtxd4y9i6xhnsh'},\n",
       "  {'username': 'azureuser',\n",
       "   'password': 'Adastrademo2022',\n",
       "   'ip_address': '20.245.3.9',\n",
       "   'jupyter_token': 'rfutvu3owuveszu8t4wyiuyvk4eerya1t9ca21zdfdza8lo5'},\n",
       "  {'username': 'azureuser',\n",
       "   'password': 'Adastrademo2022',\n",
       "   'ip_address': '20.245.2.221',\n",
       "   'jupyter_token': 's82w54ldz41o2392656hcg3mbynwn2nbzs9jn138pa5s7y7k'},\n",
       "  {'username': 'azureuser',\n",
       "   'password': 'Adastrademo2022',\n",
       "   'ip_address': '20.245.3.16',\n",
       "   'jupyter_token': 'fxx8jfegd3dc9w1sarzcgspgaz9724t4v030vdm4t6me5kyi'},\n",
       "  {'username': 'azureuser',\n",
       "   'password': 'Adastrademo2022',\n",
       "   'ip_address': '20.245.3.10',\n",
       "   'jupyter_token': 'll7lbggvgy4za4tn14go7i3xl7u1026s69f1hhsew86eudmx'},\n",
       "  {'username': 'azureuser',\n",
       "   'password': 'Adastrademo2022',\n",
       "   'ip_address': '20.245.2.238',\n",
       "   'jupyter_token': 'icc1a8dyrumdcz1p86ofd69ld69sjfcvndho0489nke2csnh'},\n",
       "  {'username': 'azureuser',\n",
       "   'password': 'Adastrademo2022',\n",
       "   'ip_address': '20.245.2.220',\n",
       "   'jupyter_token': '8nk6ol6yoa3ash13d4udufdiwclxbi4d8ghlp3fuuzqwvhg9'},\n",
       "  {'username': 'azureuser',\n",
       "   'password': 'Adastrademo2022',\n",
       "   'ip_address': '20.245.2.211',\n",
       "   'jupyter_token': '7kw85zubeeorw9gyeppc6q8g5mlonnany1py7mtxhwpyg258'},\n",
       "  {'username': 'azureuser',\n",
       "   'password': 'Adastrademo2022',\n",
       "   'ip_address': '20.245.2.239',\n",
       "   'jupyter_token': 'sb4g9of1fwfmb6pp1jh5yvs7lcuiv5xtd2ea0xfr4s3lhzyc'},\n",
       "  {'username': 'azureuser',\n",
       "   'password': 'Adastrademo2022',\n",
       "   'ip_address': '20.245.3.11',\n",
       "   'jupyter_token': 'kngp9pjlzwpa4808g3dik3ecbsnvum6v8uj2rvfh3ef8b5im'},\n",
       "  {'username': 'azureuser',\n",
       "   'password': 'Adastrademo2022',\n",
       "   'ip_address': '20.245.2.210',\n",
       "   'jupyter_token': '9amj6r9162dpffgewxztkpfhb6lbpknv7gabrgj47vgeilad'}]}"
      ]
     },
     "execution_count": 11,
     "metadata": {},
     "output_type": "execute_result"
    }
   ],
   "source": [
    "host_ips"
   ]
  },
  {
   "cell_type": "code",
   "execution_count": 12,
   "id": "a84951c8-0b81-4934-9887-8e0d1856b93f",
   "metadata": {},
   "outputs": [],
   "source": [
    "# update TOTAL_PARTICIPANTS\n",
    "# use the total participants not the total machines, e.g. 10 not 12\n",
    "# as this is used to calculate the data split assignment\n",
    "TOTAL_PARTICIPANTS = 10"
   ]
  },
  {
   "cell_type": "code",
   "execution_count": 13,
   "id": "735aa206-70c2-4204-adc5-e134bcb49c2d",
   "metadata": {},
   "outputs": [
    {
     "name": "stdout",
     "output_type": "stream",
     "text": [
      "Total participants: 10\n"
     ]
    }
   ],
   "source": [
    "# optionally add names or emails here which will be printed below to help keep track of assignment\n",
    "participants = [\n",
    "    \"Teo\",\n",
    "    \"Ruchi\",\n",
    "    \"Kyoko\",\n",
    "    \"Ivy\",\n",
    "    \"Shubham\",\n",
    "    \"Irina\",\n",
    "    \"Laura\",\n",
    "    \"Ionesio\",\n",
    "    \"Ronnie\",\n",
    "    \"Rasswanth\",\n",
    "]\n",
    "\n",
    "assert len(participants) <= TOTAL_PARTICIPANTS, \"TOTAL_PARTICIPANTS should be less than or equal to the length of participant list\"\n",
    "print(\"Total participants:\", len(participants))"
   ]
  },
  {
   "cell_type": "markdown",
   "id": "393d5372",
   "metadata": {},
   "source": [
    "If you need to re-partition the MedNIST dataset and create new data subsets, switch to [prepare MedNIST dataset notebook](02-prepare-datasets-MedNIST.ipynb)."
   ]
  },
  {
   "cell_type": "code",
   "execution_count": 14,
   "id": "5d208c27",
   "metadata": {},
   "outputs": [],
   "source": [
    "import requests\n",
    "\n",
    "\n",
    "DATASET_INFO_FILEPATH = \"https://raw.githubusercontent.com/OpenMined/datasets/main/TissueMNIST/dataset.json\"\n",
    "\n",
    "def get_dataset_urls():\n",
    "    \n",
    "    data_subset_urls = []\n",
    "    \n",
    "    response = requests.get(DATASET_INFO_FILEPATH)\n",
    "    data_subset_info = response.json()\n",
    "    DATASET_REPO_URL = \"https://raw.githubusercontent.com/OpenMined/datasets/main/TissueMNIST/subsets/\"\n",
    "    \n",
    "    for dataset_name in data_subset_info.values():\n",
    "        url = DATASET_REPO_URL + dataset_name\n",
    "        data_subset_urls.append(url)\n",
    "        \n",
    "    return data_subset_urls"
   ]
  },
  {
   "cell_type": "code",
   "execution_count": 15,
   "id": "139da440-fa18-4c39-a451-647643930068",
   "metadata": {},
   "outputs": [],
   "source": [
    "def check_ip_port(host_ip: str, port: int) -> bool:\n",
    "    import socket\n",
    "    try:\n",
    "        sock = socket.socket(socket.AF_INET, socket.SOCK_STREAM)\n",
    "        sock.settimeout(2)\n",
    "        result = sock.connect_ex((host_ip, port))\n",
    "        sock.close()\n",
    "        if result == 0:\n",
    "            return True\n",
    "    except Exception:\n",
    "        pass\n",
    "    return False"
   ]
  },
  {
   "cell_type": "code",
   "execution_count": 16,
   "id": "db7499ee-c70e-40b7-babd-9c006a4af309",
   "metadata": {},
   "outputs": [],
   "source": [
    "def get_icon(status: bool) -> str:\n",
    "    return \"✅\" if status else \"❌\""
   ]
  },
  {
   "cell_type": "code",
   "execution_count": 7,
   "id": "3b67c540-1f37-4994-b144-402d5f602820",
   "metadata": {},
   "outputs": [],
   "source": [
    "def check_hosts_ready(host_ips: dict) -> None:\n",
    "    for host in host_ips[\"host_ips\"]:\n",
    "        print(\"-----------------------\")\n",
    "        host_ip = host[\"ip_address\"]\n",
    "        # make sure the containers are not running\n",
    "        http_up = check_ip_port(host_ip=host_ip, port=80)\n",
    "        print(f\"{get_icon(not http_up)} Containers Off {host_ip}:80\")\n",
    "        \n",
    "        # make sure jupyter notebooks is up\n",
    "        jupyter_up = check_ip_port(host_ip=host_ip, port=8888)\n",
    "        print(f\"{get_icon(jupyter_up)} Jupyter Up {host_ip}:8888\")\n",
    "        \n",
    "        # make sure SSH is up\n",
    "        ssh_up = check_ip_port(host_ip=host_ip, port=22)\n",
    "        print(f\"{get_icon(ssh_up)} SSH Up {host_ip}:22\")\n",
    "\n",
    "        print()\n",
    "        all_status = (not http_up) and jupyter_up and ssh_up\n",
    "        print(f\"{get_icon(all_status)} Node {host_ip} Ready!\")\n",
    "        print(\"-----------------------\")\n",
    "        print()"
   ]
  },
  {
   "cell_type": "code",
   "execution_count": 31,
   "id": "0a3daa70-c704-4861-bbf9-5e24501ee71a",
   "metadata": {},
   "outputs": [
    {
     "name": "stdout",
     "output_type": "stream",
     "text": [
      "-----------------------\n",
      "✅ Containers Off 20.232.50.67:80\n",
      "❌ Jupyter Up 20.232.50.67:8888\n"
     ]
    },
    {
     "ename": "KeyboardInterrupt",
     "evalue": "",
     "output_type": "error",
     "traceback": [
      "\u001b[0;31m---------------------------------------------------------------------------\u001b[0m",
      "\u001b[0;31mKeyboardInterrupt\u001b[0m                         Traceback (most recent call last)",
      "Input \u001b[0;32mIn [31]\u001b[0m, in \u001b[0;36m<module>\u001b[0;34m\u001b[0m\n\u001b[0;32m----> 1\u001b[0m \u001b[43mcheck_hosts_ready\u001b[49m\u001b[43m(\u001b[49m\u001b[43mhost_ips\u001b[49m\u001b[43m)\u001b[49m\n",
      "Input \u001b[0;32mIn [30]\u001b[0m, in \u001b[0;36mcheck_hosts_ready\u001b[0;34m(host_ips)\u001b[0m\n\u001b[1;32m     11\u001b[0m \u001b[38;5;28mprint\u001b[39m(\u001b[38;5;124mf\u001b[39m\u001b[38;5;124m\"\u001b[39m\u001b[38;5;132;01m{\u001b[39;00mget_icon(jupyter_up)\u001b[38;5;132;01m}\u001b[39;00m\u001b[38;5;124m Jupyter Up \u001b[39m\u001b[38;5;132;01m{\u001b[39;00mhost_ip\u001b[38;5;132;01m}\u001b[39;00m\u001b[38;5;124m:8888\u001b[39m\u001b[38;5;124m\"\u001b[39m)\n\u001b[1;32m     13\u001b[0m \u001b[38;5;66;03m# make sure SSH is up\u001b[39;00m\n\u001b[0;32m---> 14\u001b[0m ssh_up \u001b[38;5;241m=\u001b[39m \u001b[43mcheck_ip_port\u001b[49m\u001b[43m(\u001b[49m\u001b[43mhost_ip\u001b[49m\u001b[38;5;241;43m=\u001b[39;49m\u001b[43mhost_ip\u001b[49m\u001b[43m,\u001b[49m\u001b[43m \u001b[49m\u001b[43mport\u001b[49m\u001b[38;5;241;43m=\u001b[39;49m\u001b[38;5;241;43m22\u001b[39;49m\u001b[43m)\u001b[49m\n\u001b[1;32m     15\u001b[0m \u001b[38;5;28mprint\u001b[39m(\u001b[38;5;124mf\u001b[39m\u001b[38;5;124m\"\u001b[39m\u001b[38;5;132;01m{\u001b[39;00mget_icon(ssh_up)\u001b[38;5;132;01m}\u001b[39;00m\u001b[38;5;124m SSH Up \u001b[39m\u001b[38;5;132;01m{\u001b[39;00mhost_ip\u001b[38;5;132;01m}\u001b[39;00m\u001b[38;5;124m:22\u001b[39m\u001b[38;5;124m\"\u001b[39m)\n\u001b[1;32m     17\u001b[0m \u001b[38;5;28mprint\u001b[39m()\n",
      "Input \u001b[0;32mIn [28]\u001b[0m, in \u001b[0;36mcheck_ip_port\u001b[0;34m(host_ip, port)\u001b[0m\n\u001b[1;32m      4\u001b[0m sock \u001b[38;5;241m=\u001b[39m socket\u001b[38;5;241m.\u001b[39msocket(socket\u001b[38;5;241m.\u001b[39mAF_INET, socket\u001b[38;5;241m.\u001b[39mSOCK_STREAM)\n\u001b[1;32m      5\u001b[0m sock\u001b[38;5;241m.\u001b[39msettimeout(\u001b[38;5;241m2\u001b[39m)\n\u001b[0;32m----> 6\u001b[0m result \u001b[38;5;241m=\u001b[39m \u001b[43msock\u001b[49m\u001b[38;5;241;43m.\u001b[39;49m\u001b[43mconnect_ex\u001b[49m\u001b[43m(\u001b[49m\u001b[43m(\u001b[49m\u001b[43mhost_ip\u001b[49m\u001b[43m,\u001b[49m\u001b[43m \u001b[49m\u001b[43mport\u001b[49m\u001b[43m)\u001b[49m\u001b[43m)\u001b[49m\n\u001b[1;32m      7\u001b[0m sock\u001b[38;5;241m.\u001b[39mclose()\n\u001b[1;32m      8\u001b[0m \u001b[38;5;28;01mif\u001b[39;00m result \u001b[38;5;241m==\u001b[39m \u001b[38;5;241m0\u001b[39m:\n",
      "\u001b[0;31mKeyboardInterrupt\u001b[0m: "
     ]
    }
   ],
   "source": [
    "check_hosts_ready(host_ips)"
   ]
  },
  {
   "cell_type": "code",
   "execution_count": 17,
   "id": "dcf677a0-967f-4202-8584-8003c11e9da7",
   "metadata": {},
   "outputs": [],
   "source": [
    "def output_user_details(host_ips: dict, participants: list[str] = []) -> None:\n",
    "    notebook_path = \"adastra/data-owners/data-owners-presentation.ipynb\"\n",
    "    print(\"===============================\")\n",
    "    print(\"Ad Astra Demo 1\")\n",
    "    print(\"===============================\")\n",
    "    print()\n",
    "    print(\"Send to each participant\")\n",
    "    print()\n",
    "    if TOTAL_PARTICIPANTS > len(host_ips[\"host_ips\"]):\n",
    "        raise Exception(\n",
    "            f\"TOTAL_PARTICIPANTS: {TOTAL_PARTICIPANTS} is less than VM count: {len(host_ips['host_ips'])}\"\n",
    "        )\n",
    "    partition = 0\n",
    "    dataset_urls = get_dataset_urls()\n",
    "    num_of_urls = len(dataset_urls)\n",
    "    for host in host_ips[\"host_ips\"]:\n",
    "        partition += 1\n",
    "        if partition <= len(participants):\n",
    "            print(f\"Hi {participants[partition - 1]},\")\n",
    "        if partition <= TOTAL_PARTICIPANTS:\n",
    "            print(\"These are your Session Details:\")\n",
    "        else:\n",
    "            print(\"Spare Session Details:\")\n",
    "        print(\"-------------------------------\")\n",
    "        print(f\"VM Username: {host['username']}\")\n",
    "        print(f\"VM Password: {host['password']}\")\n",
    "        print(f\"VM IP Address: {host['ip_address']}\")\n",
    "        print(f\"📎 MY_DATASET_URL:\\n{dataset_urls[partition%num_of_urls]}\")\n",
    "\n",
    "        print()\n",
    "        print(f\"👉🏽 Start Here:\")\n",
    "        print(\n",
    "            f\"http://{host['ip_address']}:8888/lab/tree/notebooks/{notebook_path}\"\n",
    "            f\"?token={host['jupyter_token']}\"\n",
    "        )\n",
    "        print()"
   ]
  },
  {
   "cell_type": "code",
   "execution_count": 18,
   "id": "1bf67dae-b4c3-4202-bfe7-db511c5f03a8",
   "metadata": {},
   "outputs": [
    {
     "name": "stdout",
     "output_type": "stream",
     "text": [
      "===============================\n",
      "Ad Astra Demo 1\n",
      "===============================\n",
      "\n",
      "Send to each participant\n",
      "\n",
      "Hi Teo,\n",
      "These are your Session Details:\n",
      "-------------------------------\n",
      "VM Username: azureuser\n",
      "VM Password: Adastrademo2022\n",
      "VM IP Address: 20.245.2.237\n",
      "📎 MY_DATASET_URL:\n",
      "https://raw.githubusercontent.com/OpenMined/datasets/main/TissueMNIST/subsets/TissueMNIST-1ffc51892957453e908919645da3ea90.pkl\n",
      "\n",
      "👉🏽 Start Here:\n",
      "http://20.245.2.237:8888/lab/tree/notebooks/adastra/data-owners/data-owners-presentation.ipynb?token=rce4r1712ejdzz2tfkak1unfp69pi0dy9jdlfxrnkqykmtos\n",
      "\n",
      "Hi Ruchi,\n",
      "These are your Session Details:\n",
      "-------------------------------\n",
      "VM Username: azureuser\n",
      "VM Password: Adastrademo2022\n",
      "VM IP Address: 20.245.3.8\n",
      "📎 MY_DATASET_URL:\n",
      "https://raw.githubusercontent.com/OpenMined/datasets/main/TissueMNIST/subsets/TissueMNIST-551b7b7265d84bfd8dea36476a7e77f6.pkl\n",
      "\n",
      "👉🏽 Start Here:\n",
      "http://20.245.3.8:8888/lab/tree/notebooks/adastra/data-owners/data-owners-presentation.ipynb?token=scs9u4o58e5pp8jelzi7fo2txdmzim25kp3hn9a24p0oemc2\n",
      "\n",
      "Hi Kyoko,\n",
      "These are your Session Details:\n",
      "-------------------------------\n",
      "VM Username: azureuser\n",
      "VM Password: Adastrademo2022\n",
      "VM IP Address: 20.245.2.223\n",
      "📎 MY_DATASET_URL:\n",
      "https://raw.githubusercontent.com/OpenMined/datasets/main/TissueMNIST/subsets/TissueMNIST-da94b910ad0e41c79c8a41993d61a1da.pkl\n",
      "\n",
      "👉🏽 Start Here:\n",
      "http://20.245.2.223:8888/lab/tree/notebooks/adastra/data-owners/data-owners-presentation.ipynb?token=66ce29qudc52226d90gwxz8mw1hsag73wha2cn40n89slq64\n",
      "\n",
      "Hi Ivy,\n",
      "These are your Session Details:\n",
      "-------------------------------\n",
      "VM Username: azureuser\n",
      "VM Password: Adastrademo2022\n",
      "VM IP Address: 20.245.2.236\n",
      "📎 MY_DATASET_URL:\n",
      "https://raw.githubusercontent.com/OpenMined/datasets/main/TissueMNIST/subsets/TissueMNIST-a0cf7a7eccb1499295144380f7e42ce9.pkl\n",
      "\n",
      "👉🏽 Start Here:\n",
      "http://20.245.2.236:8888/lab/tree/notebooks/adastra/data-owners/data-owners-presentation.ipynb?token=akdufkewvcwa0jtujrmxj3mhujy12uww5oqtxd4y9i6xhnsh\n",
      "\n",
      "Hi Shubham,\n",
      "These are your Session Details:\n",
      "-------------------------------\n",
      "VM Username: azureuser\n",
      "VM Password: Adastrademo2022\n",
      "VM IP Address: 20.245.3.9\n",
      "📎 MY_DATASET_URL:\n",
      "https://raw.githubusercontent.com/OpenMined/datasets/main/TissueMNIST/subsets/TissueMNIST-e6916fbe07ec4302be04779d346e8a94.pkl\n",
      "\n",
      "👉🏽 Start Here:\n",
      "http://20.245.3.9:8888/lab/tree/notebooks/adastra/data-owners/data-owners-presentation.ipynb?token=rfutvu3owuveszu8t4wyiuyvk4eerya1t9ca21zdfdza8lo5\n",
      "\n",
      "Hi Irina,\n",
      "These are your Session Details:\n",
      "-------------------------------\n",
      "VM Username: azureuser\n",
      "VM Password: Adastrademo2022\n",
      "VM IP Address: 20.245.2.221\n",
      "📎 MY_DATASET_URL:\n",
      "https://raw.githubusercontent.com/OpenMined/datasets/main/TissueMNIST/subsets/TissueMNIST-5d33bbd49e5e4581b27887515db08667.pkl\n",
      "\n",
      "👉🏽 Start Here:\n",
      "http://20.245.2.221:8888/lab/tree/notebooks/adastra/data-owners/data-owners-presentation.ipynb?token=s82w54ldz41o2392656hcg3mbynwn2nbzs9jn138pa5s7y7k\n",
      "\n",
      "Hi Laura,\n",
      "These are your Session Details:\n",
      "-------------------------------\n",
      "VM Username: azureuser\n",
      "VM Password: Adastrademo2022\n",
      "VM IP Address: 20.245.3.16\n",
      "📎 MY_DATASET_URL:\n",
      "https://raw.githubusercontent.com/OpenMined/datasets/main/TissueMNIST/subsets/TissueMNIST-e4070bc30ce647b0a7eaebcc39af878e.pkl\n",
      "\n",
      "👉🏽 Start Here:\n",
      "http://20.245.3.16:8888/lab/tree/notebooks/adastra/data-owners/data-owners-presentation.ipynb?token=fxx8jfegd3dc9w1sarzcgspgaz9724t4v030vdm4t6me5kyi\n",
      "\n",
      "Hi Ionesio,\n",
      "These are your Session Details:\n",
      "-------------------------------\n",
      "VM Username: azureuser\n",
      "VM Password: Adastrademo2022\n",
      "VM IP Address: 20.245.3.10\n",
      "📎 MY_DATASET_URL:\n",
      "https://raw.githubusercontent.com/OpenMined/datasets/main/TissueMNIST/subsets/TissueMNIST-28ceeda0704d4279966c45298fda85bd.pkl\n",
      "\n",
      "👉🏽 Start Here:\n",
      "http://20.245.3.10:8888/lab/tree/notebooks/adastra/data-owners/data-owners-presentation.ipynb?token=ll7lbggvgy4za4tn14go7i3xl7u1026s69f1hhsew86eudmx\n",
      "\n",
      "Hi Ronnie,\n",
      "These are your Session Details:\n",
      "-------------------------------\n",
      "VM Username: azureuser\n",
      "VM Password: Adastrademo2022\n",
      "VM IP Address: 20.245.2.238\n",
      "📎 MY_DATASET_URL:\n",
      "https://raw.githubusercontent.com/OpenMined/datasets/main/TissueMNIST/subsets/TissueMNIST-5f1ad502d31b42ddacd22edd879fd8d1.pkl\n",
      "\n",
      "👉🏽 Start Here:\n",
      "http://20.245.2.238:8888/lab/tree/notebooks/adastra/data-owners/data-owners-presentation.ipynb?token=icc1a8dyrumdcz1p86ofd69ld69sjfcvndho0489nke2csnh\n",
      "\n",
      "Hi Rasswanth,\n",
      "These are your Session Details:\n",
      "-------------------------------\n",
      "VM Username: azureuser\n",
      "VM Password: Adastrademo2022\n",
      "VM IP Address: 20.245.2.220\n",
      "📎 MY_DATASET_URL:\n",
      "https://raw.githubusercontent.com/OpenMined/datasets/main/TissueMNIST/subsets/TissueMNIST-3b51212847fd4838a9c388f2387d18f4.pkl\n",
      "\n",
      "👉🏽 Start Here:\n",
      "http://20.245.2.220:8888/lab/tree/notebooks/adastra/data-owners/data-owners-presentation.ipynb?token=8nk6ol6yoa3ash13d4udufdiwclxbi4d8ghlp3fuuzqwvhg9\n",
      "\n",
      "Spare Session Details:\n",
      "-------------------------------\n",
      "VM Username: azureuser\n",
      "VM Password: Adastrademo2022\n",
      "VM IP Address: 20.245.2.211\n",
      "📎 MY_DATASET_URL:\n",
      "https://raw.githubusercontent.com/OpenMined/datasets/main/TissueMNIST/subsets/TissueMNIST-debc134425f847f687a408ee62d7830f.pkl\n",
      "\n",
      "👉🏽 Start Here:\n",
      "http://20.245.2.211:8888/lab/tree/notebooks/adastra/data-owners/data-owners-presentation.ipynb?token=7kw85zubeeorw9gyeppc6q8g5mlonnany1py7mtxhwpyg258\n",
      "\n",
      "Spare Session Details:\n",
      "-------------------------------\n",
      "VM Username: azureuser\n",
      "VM Password: Adastrademo2022\n",
      "VM IP Address: 20.245.2.239\n",
      "📎 MY_DATASET_URL:\n",
      "https://raw.githubusercontent.com/OpenMined/datasets/main/TissueMNIST/subsets/TissueMNIST-793a3eaf934a4803ad7d9aebc4ac6626.pkl\n",
      "\n",
      "👉🏽 Start Here:\n",
      "http://20.245.2.239:8888/lab/tree/notebooks/adastra/data-owners/data-owners-presentation.ipynb?token=sb4g9of1fwfmb6pp1jh5yvs7lcuiv5xtd2ea0xfr4s3lhzyc\n",
      "\n",
      "Spare Session Details:\n",
      "-------------------------------\n",
      "VM Username: azureuser\n",
      "VM Password: Adastrademo2022\n",
      "VM IP Address: 20.245.3.11\n",
      "📎 MY_DATASET_URL:\n",
      "https://raw.githubusercontent.com/OpenMined/datasets/main/TissueMNIST/subsets/TissueMNIST-9f33629fb04244e895aec43235abebea.pkl\n",
      "\n",
      "👉🏽 Start Here:\n",
      "http://20.245.3.11:8888/lab/tree/notebooks/adastra/data-owners/data-owners-presentation.ipynb?token=kngp9pjlzwpa4808g3dik3ecbsnvum6v8uj2rvfh3ef8b5im\n",
      "\n",
      "Spare Session Details:\n",
      "-------------------------------\n",
      "VM Username: azureuser\n",
      "VM Password: Adastrademo2022\n",
      "VM IP Address: 20.245.2.210\n",
      "📎 MY_DATASET_URL:\n",
      "https://raw.githubusercontent.com/OpenMined/datasets/main/TissueMNIST/subsets/TissueMNIST-8ef7ce90fbfa4ca1b650006ec7de9a33.pkl\n",
      "\n",
      "👉🏽 Start Here:\n",
      "http://20.245.2.210:8888/lab/tree/notebooks/adastra/data-owners/data-owners-presentation.ipynb?token=9amj6r9162dpffgewxztkpfhb6lbpknv7gabrgj47vgeilad\n",
      "\n"
     ]
    }
   ],
   "source": [
    "output_user_details(host_ips, participants)"
   ]
  },
  {
   "cell_type": "code",
   "execution_count": null,
   "id": "e6161423",
   "metadata": {},
   "outputs": [],
   "source": []
  }
 ],
 "metadata": {
  "kernelspec": {
   "display_name": "Python 3 (ipykernel)",
   "language": "python",
   "name": "python3"
  },
  "language_info": {
   "codemirror_mode": {
    "name": "ipython",
    "version": 3
   },
   "file_extension": ".py",
   "mimetype": "text/x-python",
   "name": "python",
   "nbconvert_exporter": "python",
   "pygments_lexer": "ipython3",
   "version": "3.9.7"
  }
 },
 "nbformat": 4,
 "nbformat_minor": 5
}
