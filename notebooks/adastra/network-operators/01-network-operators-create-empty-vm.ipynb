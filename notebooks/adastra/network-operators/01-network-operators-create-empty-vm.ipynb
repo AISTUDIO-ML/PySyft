{
 "cells": [
  {
   "cell_type": "markdown",
   "id": "4cfd6c5a-09bd-42e6-aba6-24971da44d99",
   "metadata": {},
   "source": [
    "# Create an empty Ubuntu VM on Azure"
   ]
  },
  {
   "cell_type": "markdown",
   "id": "6495454f-0cf2-4d21-8a60-d01ba9b67b88",
   "metadata": {},
   "source": [
    "Install HAGrid"
   ]
  },
  {
   "cell_type": "markdown",
   "id": "5597864f-3ab6-4957-8a57-f865200b8314",
   "metadata": {},
   "source": [
    "```\n",
    "pip install hagrid\n",
    "```"
   ]
  },
  {
   "cell_type": "markdown",
   "id": "1e32e1a3-59e0-45f1-bfa0-3d008ca7413e",
   "metadata": {},
   "source": [
    "__NOTE__: Just in case there are some issues with a VM we should provision are few extra, here we use node_count 12 for a session of 10 users"
   ]
  },
  {
   "cell_type": "markdown",
   "id": "c698bf82-4346-40a7-b618-db3a471768d1",
   "metadata": {},
   "source": [
    "Run hagrid launch with these arguments:"
   ]
  },
  {
   "cell_type": "markdown",
   "id": "cb74a71b-6d04-4c18-98dd-6ac3040cbfde",
   "metadata": {},
   "source": [
    "```\n",
    "hagrid launch to azure --image_name=domain_0.7.0 --jupyter --ansible_extras=\"install=false,aa_demo=true\" --node_count 12\n",
    "```"
   ]
  },
  {
   "cell_type": "markdown",
   "id": "abc09642-a3a6-4b3a-88ee-1489b90263b6",
   "metadata": {},
   "source": [
    "- Use a new unique resource group for this session like: aa-test-1\n",
    "- Choose the location where your demo participants will be located, e.g. `eastus`, `westus` etc\n",
    "- Choose an 8 core machine like `Standard_D8s_v3`\n",
    "- Set the username to `azureuser`\n",
    "- Choose password and then `n` to auto-generate password\n",
    "- Set an easy to remember 12 character password like: `Adastrademo2022`\n",
    "- What ever you enter into Repo and Branch will be ignored"
   ]
  },
  {
   "cell_type": "markdown",
   "id": "2e3a1002-a097-494c-81fd-daf6fe2bdb1d",
   "metadata": {},
   "source": [
    "![ip_address](img/hagrid_bare_vm.png)"
   ]
  },
  {
   "cell_type": "markdown",
   "id": "0788b388-01ea-4aee-b47d-ba2ad15ff6d5",
   "metadata": {},
   "source": [
    "After it is finished you should see this message"
   ]
  },
  {
   "cell_type": "markdown",
   "id": "57b64cff-f09f-4af5-81a7-10789cab991f",
   "metadata": {},
   "source": [
    "![ip_address](img/hagrid_bare_vm_output.png)"
   ]
  },
  {
   "cell_type": "markdown",
   "id": "cbd970a1-fa74-4928-9b72-5afcffcd8041",
   "metadata": {},
   "source": [
    "Now run this to get JSON containing the information for all the VMs:"
   ]
  },
  {
   "cell_type": "markdown",
   "id": "e62978aa-99e5-469c-b69a-ede97f17295c",
   "metadata": {},
   "source": [
    "```\n",
    "cat ~/.hagrid/host_ips.json\n",
    "```"
   ]
  },
  {
   "cell_type": "code",
   "execution_count": 1,
   "id": "187a4aa7",
   "metadata": {},
   "outputs": [],
   "source": [
    "import os\n",
    "import json\n",
    "\n",
    "# paste the path to host ip json here\n",
    "HOST_IP_PATH = \"~/.hagrid/host_ips.json\"\n",
    "HOST_IP_PATH = os.path.expanduser(HOST_IP_PATH)\n",
    "\n",
    "with open(HOST_IP_PATH) as fp:\n",
    "    host_ips = json.loads(fp.read())"
   ]
  },
  {
   "cell_type": "code",
   "execution_count": 2,
   "id": "e849c95e",
   "metadata": {},
   "outputs": [
    {
     "data": {
      "text/plain": [
       "{'host_ips': [{'username': 'azureuser',\n",
       "   'password': 'Adastrademo2022',\n",
       "   'ip_address': '52.188.79.206',\n",
       "   'jupyter_token': 'nhvntkwi4l3zam5o1xv45c2h9alf6r39vmmvg9irxph9hkzl'},\n",
       "  {'username': 'azureuser',\n",
       "   'password': 'Adastrademo2022',\n",
       "   'ip_address': '52.188.79.139',\n",
       "   'jupyter_token': '08shavto27rswkurfges38v7er0barwal0ioq4i3519l8ant'},\n",
       "  {'username': 'azureuser',\n",
       "   'password': 'Adastrademo2022',\n",
       "   'ip_address': '52.188.79.75',\n",
       "   'jupyter_token': 'zolffc9rtfvl1djxmt7d27l3f79flfo2xll3ykduy8f1kqcu'},\n",
       "  {'username': 'azureuser',\n",
       "   'password': 'Adastrademo2022',\n",
       "   'ip_address': '20.185.73.219',\n",
       "   'jupyter_token': '838kdzh4jdqf1hk3eayynmexuid5r0zbnzds5m0jci13usrw'},\n",
       "  {'username': 'azureuser',\n",
       "   'password': 'Adastrademo2022',\n",
       "   'ip_address': '20.185.73.214',\n",
       "   'jupyter_token': 'n56nx4snq0o7hhq91r0gp7xdonzmjy4aiarvcenmzjsw8n3l'},\n",
       "  {'username': 'azureuser',\n",
       "   'password': 'Adastrademo2022',\n",
       "   'ip_address': '20.185.74.201',\n",
       "   'jupyter_token': '63bdws7s6kf7191wevdrgtka1t8acqdajwfn3aj3pvcz3zax'},\n",
       "  {'username': 'azureuser',\n",
       "   'password': 'Adastrademo2022',\n",
       "   'ip_address': '20.185.74.155',\n",
       "   'jupyter_token': '538q4fagsz7x9r3sc2qwdgz9dh9uz08q271h9hb534uq0t9s'},\n",
       "  {'username': 'azureuser',\n",
       "   'password': 'Adastrademo2022',\n",
       "   'ip_address': '20.185.73.15',\n",
       "   'jupyter_token': 'qbljxuf9w4ygktnjquhc6kb1bsf16icjqpry1ipbujcdj2b3'},\n",
       "  {'username': 'azureuser',\n",
       "   'password': 'Adastrademo2022',\n",
       "   'ip_address': '20.185.72.105',\n",
       "   'jupyter_token': 'vc8jzjq6gy8sbjdxn5rlv7637ohky033xa65odg7qe44thgo'},\n",
       "  {'username': 'azureuser',\n",
       "   'password': 'Adastrademo2022',\n",
       "   'ip_address': '20.185.72.61',\n",
       "   'jupyter_token': '960g6y8p8t8bf5gw1v0keibokm0ktd1eopanipsae6pae5b0'},\n",
       "  {'username': 'azureuser',\n",
       "   'password': 'Adastrademo2022',\n",
       "   'ip_address': '20.185.72.52',\n",
       "   'jupyter_token': 'gfs12go46qj959a6jqqi5eg193tmoolij6baalo4wifdmdk3'},\n",
       "  {'username': 'azureuser',\n",
       "   'password': 'Adastrademo2022',\n",
       "   'ip_address': '20.185.73.131',\n",
       "   'jupyter_token': 'mg42ct5qg5n2d7eso9hv2rnus66auo79uixypn678sfg45vk'}]}"
      ]
     },
     "execution_count": 2,
     "metadata": {},
     "output_type": "execute_result"
    }
   ],
   "source": [
    "host_ips"
   ]
  },
  {
   "cell_type": "code",
   "execution_count": 3,
   "id": "a84951c8-0b81-4934-9887-8e0d1856b93f",
   "metadata": {},
   "outputs": [],
   "source": [
    "# update TOTAL_PARTICIPANTS\n",
    "# use the total participants not the total machines, e.g. 10 not 12\n",
    "# as this is used to calculate the data split assignment\n",
    "TOTAL_PARTICIPANTS = 10"
   ]
  },
  {
   "cell_type": "code",
   "execution_count": 4,
   "id": "67eb1f9c-96f9-4967-982b-a7c5718a16ca",
   "metadata": {},
   "outputs": [],
   "source": [
    "# add names and emails so we can send out the links with details via email"
   ]
  },
  {
   "cell_type": "code",
   "execution_count": 36,
   "id": "150ba276-9362-4c01-aaf6-a040b6cac761",
   "metadata": {},
   "outputs": [],
   "source": [
    "participants = {\n",
    "    \"Madhava Jay\": \"madhava@openmined.org\",\n",
    "    # \"Shubham Gupta\": \"shubham@openmined.org\",\n",
    "}"
   ]
  },
  {
   "cell_type": "code",
   "execution_count": 6,
   "id": "735aa206-70c2-4204-adc5-e134bcb49c2d",
   "metadata": {},
   "outputs": [
    {
     "name": "stdout",
     "output_type": "stream",
     "text": [
      "Total participants: 2\n"
     ]
    }
   ],
   "source": [
    "# optionally add names or emails here which will be printed below to help keep track of assignment\n",
    "\n",
    "assert len(participants) <= TOTAL_PARTICIPANTS, \"TOTAL_PARTICIPANTS should be less than or equal to the length of participant list\"\n",
    "print(\"Total participants:\", len(participants))"
   ]
  },
  {
   "cell_type": "markdown",
   "id": "393d5372",
   "metadata": {},
   "source": [
    "If you need to re-partition the MedNIST dataset and create new data subsets, switch to [prepare MedNIST dataset notebook](02-prepare-datasets-MedNIST.ipynb)."
   ]
  },
  {
   "cell_type": "code",
   "execution_count": 7,
   "id": "5d208c27",
   "metadata": {},
   "outputs": [],
   "source": [
    "import requests\n",
    "datasets =  [\"MedNIST\",\"TissueMNIST\"]\n",
    "curr_dataset_name = datasets[1]\n",
    "DATASET_INFO_FILEPATH = f\"https://raw.githubusercontent.com/OpenMined/datasets/main/{curr_dataset_name}/dataset.json\"\n",
    "\n",
    "def get_dataset_urls():\n",
    "    \n",
    "    data_subset_urls = []\n",
    "    \n",
    "    response = requests.get(DATASET_INFO_FILEPATH)\n",
    "    data_subset_info = response.json()\n",
    "    DATASET_REPO_URL = f\"https://raw.githubusercontent.com/OpenMined/datasets/main/{curr_dataset_name}/subsets/\"\n",
    "    \n",
    "    for dataset_name in data_subset_info.values():\n",
    "        url = DATASET_REPO_URL + dataset_name\n",
    "        data_subset_urls.append(url)\n",
    "        \n",
    "    return data_subset_urls"
   ]
  },
  {
   "cell_type": "code",
   "execution_count": 8,
   "id": "139da440-fa18-4c39-a451-647643930068",
   "metadata": {},
   "outputs": [],
   "source": [
    "def check_ip_port(host_ip: str, port: int) -> bool:\n",
    "    import socket\n",
    "    try:\n",
    "        sock = socket.socket(socket.AF_INET, socket.SOCK_STREAM)\n",
    "        sock.settimeout(2)\n",
    "        result = sock.connect_ex((host_ip, port))\n",
    "        sock.close()\n",
    "        if result == 0:\n",
    "            return True\n",
    "    except Exception:\n",
    "        pass\n",
    "    return False"
   ]
  },
  {
   "cell_type": "code",
   "execution_count": 9,
   "id": "db7499ee-c70e-40b7-babd-9c006a4af309",
   "metadata": {},
   "outputs": [],
   "source": [
    "def get_icon(status: bool) -> str:\n",
    "    return \"✅\" if status else \"❌\""
   ]
  },
  {
   "cell_type": "code",
   "execution_count": 10,
   "id": "3b67c540-1f37-4994-b144-402d5f602820",
   "metadata": {},
   "outputs": [],
   "source": [
    "def check_hosts_ready(host_ips: dict) -> None:\n",
    "    for host in host_ips[\"host_ips\"]:\n",
    "        print(\"-----------------------\")\n",
    "        host_ip = host[\"ip_address\"]\n",
    "        # make sure the containers are not running\n",
    "        http_up = check_ip_port(host_ip=host_ip, port=80)\n",
    "        print(f\"{get_icon(not http_up)} Containers Off {host_ip}:80\")\n",
    "        \n",
    "        # make sure jupyter notebooks is up\n",
    "        jupyter_up = check_ip_port(host_ip=host_ip, port=8888)\n",
    "        print(f\"{get_icon(jupyter_up)} Jupyter Up {host_ip}:8888\")\n",
    "        \n",
    "        # make sure SSH is up\n",
    "        ssh_up = check_ip_port(host_ip=host_ip, port=22)\n",
    "        print(f\"{get_icon(ssh_up)} SSH Up {host_ip}:22\")\n",
    "\n",
    "        print()\n",
    "        all_status = (not http_up) and jupyter_up and ssh_up\n",
    "        print(f\"{get_icon(all_status)} Node {host_ip} Ready!\")\n",
    "        print(\"-----------------------\")\n",
    "        print()"
   ]
  },
  {
   "cell_type": "code",
   "execution_count": 11,
   "id": "0a3daa70-c704-4861-bbf9-5e24501ee71a",
   "metadata": {},
   "outputs": [
    {
     "name": "stdout",
     "output_type": "stream",
     "text": [
      "-----------------------\n",
      "❌ Containers Off 52.188.79.206:80\n",
      "❌ Jupyter Up 52.188.79.206:8888\n",
      "❌ SSH Up 52.188.79.206:22\n",
      "\n",
      "❌ Node 52.188.79.206 Ready!\n",
      "-----------------------\n",
      "\n",
      "-----------------------\n"
     ]
    },
    {
     "ename": "KeyboardInterrupt",
     "evalue": "",
     "output_type": "error",
     "traceback": [
      "\u001b[0;31m---------------------------------------------------------------------------\u001b[0m",
      "\u001b[0;31mKeyboardInterrupt\u001b[0m                         Traceback (most recent call last)",
      "Input \u001b[0;32mIn [11]\u001b[0m, in \u001b[0;36m<cell line: 1>\u001b[0;34m()\u001b[0m\n\u001b[0;32m----> 1\u001b[0m \u001b[43mcheck_hosts_ready\u001b[49m\u001b[43m(\u001b[49m\u001b[43mhost_ips\u001b[49m\u001b[43m)\u001b[49m\n",
      "Input \u001b[0;32mIn [10]\u001b[0m, in \u001b[0;36mcheck_hosts_ready\u001b[0;34m(host_ips)\u001b[0m\n\u001b[1;32m      4\u001b[0m host_ip \u001b[38;5;241m=\u001b[39m host[\u001b[38;5;124m\"\u001b[39m\u001b[38;5;124mip_address\u001b[39m\u001b[38;5;124m\"\u001b[39m]\n\u001b[1;32m      5\u001b[0m \u001b[38;5;66;03m# make sure the containers are not running\u001b[39;00m\n\u001b[0;32m----> 6\u001b[0m http_up \u001b[38;5;241m=\u001b[39m \u001b[43mcheck_ip_port\u001b[49m\u001b[43m(\u001b[49m\u001b[43mhost_ip\u001b[49m\u001b[38;5;241;43m=\u001b[39;49m\u001b[43mhost_ip\u001b[49m\u001b[43m,\u001b[49m\u001b[43m \u001b[49m\u001b[43mport\u001b[49m\u001b[38;5;241;43m=\u001b[39;49m\u001b[38;5;241;43m80\u001b[39;49m\u001b[43m)\u001b[49m\n\u001b[1;32m      7\u001b[0m \u001b[38;5;28mprint\u001b[39m(\u001b[38;5;124mf\u001b[39m\u001b[38;5;124m\"\u001b[39m\u001b[38;5;132;01m{\u001b[39;00mget_icon(\u001b[38;5;129;01mnot\u001b[39;00m http_up)\u001b[38;5;132;01m}\u001b[39;00m\u001b[38;5;124m Containers Off \u001b[39m\u001b[38;5;132;01m{\u001b[39;00mhost_ip\u001b[38;5;132;01m}\u001b[39;00m\u001b[38;5;124m:80\u001b[39m\u001b[38;5;124m\"\u001b[39m)\n\u001b[1;32m      9\u001b[0m \u001b[38;5;66;03m# make sure jupyter notebooks is up\u001b[39;00m\n",
      "Input \u001b[0;32mIn [8]\u001b[0m, in \u001b[0;36mcheck_ip_port\u001b[0;34m(host_ip, port)\u001b[0m\n\u001b[1;32m      4\u001b[0m sock \u001b[38;5;241m=\u001b[39m socket\u001b[38;5;241m.\u001b[39msocket(socket\u001b[38;5;241m.\u001b[39mAF_INET, socket\u001b[38;5;241m.\u001b[39mSOCK_STREAM)\n\u001b[1;32m      5\u001b[0m sock\u001b[38;5;241m.\u001b[39msettimeout(\u001b[38;5;241m2\u001b[39m)\n\u001b[0;32m----> 6\u001b[0m result \u001b[38;5;241m=\u001b[39m \u001b[43msock\u001b[49m\u001b[38;5;241;43m.\u001b[39;49m\u001b[43mconnect_ex\u001b[49m\u001b[43m(\u001b[49m\u001b[43m(\u001b[49m\u001b[43mhost_ip\u001b[49m\u001b[43m,\u001b[49m\u001b[43m \u001b[49m\u001b[43mport\u001b[49m\u001b[43m)\u001b[49m\u001b[43m)\u001b[49m\n\u001b[1;32m      7\u001b[0m sock\u001b[38;5;241m.\u001b[39mclose()\n\u001b[1;32m      8\u001b[0m \u001b[38;5;28;01mif\u001b[39;00m result \u001b[38;5;241m==\u001b[39m \u001b[38;5;241m0\u001b[39m:\n",
      "\u001b[0;31mKeyboardInterrupt\u001b[0m: "
     ]
    }
   ],
   "source": [
    "check_hosts_ready(host_ips)"
   ]
  },
  {
   "cell_type": "code",
   "execution_count": 12,
   "id": "dcf677a0-967f-4202-8584-8003c11e9da7",
   "metadata": {},
   "outputs": [],
   "source": [
    "def output_user_details(host_ips: dict, participants: dict[str, str] = {}) -> None:\n",
    "    notebook_path = \"adastra/data-owners/data-owners-presentation.ipynb\"\n",
    "    print(\"===============================\")\n",
    "    print(\"Ad Astra Demo 1\")\n",
    "    print(\"===============================\")\n",
    "    print()\n",
    "    print(\"Send to each participant\")\n",
    "    print()\n",
    "    if TOTAL_PARTICIPANTS > len(host_ips[\"host_ips\"]):\n",
    "        raise Exception(\n",
    "            f\"TOTAL_PARTICIPANTS: {TOTAL_PARTICIPANTS} is less than VM count: {len(host_ips['host_ips'])}\"\n",
    "        )\n",
    "    partition = 0\n",
    "    dataset_urls = get_dataset_urls()\n",
    "    num_of_urls = len(dataset_urls)\n",
    "    for host in host_ips[\"host_ips\"]:\n",
    "        partition += 1\n",
    "        if partition <= len(participants):\n",
    "            print(f\"Hi {list(participants.keys())[partition - 1]},\")\n",
    "        if partition <= TOTAL_PARTICIPANTS:\n",
    "            print(\"These are your Session Details:\")\n",
    "        else:\n",
    "            print(\"Spare Session Details:\")\n",
    "        print(\"-------------------------------\")\n",
    "        # print(f\"VM Username: {host['username']}\")\n",
    "        # print(f\"VM Password: {host['password']}\")\n",
    "        # print(f\"VM IP Address: {host['ip_address']}\")\n",
    "        print(f\"📎 MY_DATASET_URL:\\n{dataset_urls[partition%num_of_urls]}\")\n",
    "\n",
    "        print()\n",
    "        print(f\"👉🏽 Start Here:\")\n",
    "        print(\n",
    "            f\"http://{host['ip_address']}:8888/lab/tree/notebooks/{notebook_path}\"\n",
    "            f\"?token={host['jupyter_token']}\"\n",
    "        )\n",
    "        print()"
   ]
  },
  {
   "cell_type": "code",
   "execution_count": 13,
   "id": "1bf67dae-b4c3-4202-bfe7-db511c5f03a8",
   "metadata": {},
   "outputs": [
    {
     "name": "stdout",
     "output_type": "stream",
     "text": [
      "===============================\n",
      "Ad Astra Demo 1\n",
      "===============================\n",
      "\n",
      "Send to each participant\n",
      "\n",
      "Hi Madhava Jay,\n",
      "These are your Session Details:\n",
      "-------------------------------\n",
      "📎 MY_DATASET_URL:\n",
      "https://raw.githubusercontent.com/OpenMined/datasets/main/TissueMNIST/subsets/TissueMNIST-1ffc51892957453e908919645da3ea90.pkl\n",
      "\n",
      "👉🏽 Start Here:\n",
      "http://52.188.79.206:8888/lab/tree/notebooks/adastra/data-owners/data-owners-presentation.ipynb?token=nhvntkwi4l3zam5o1xv45c2h9alf6r39vmmvg9irxph9hkzl\n",
      "\n",
      "Hi Shubham Gupta,\n",
      "These are your Session Details:\n",
      "-------------------------------\n",
      "📎 MY_DATASET_URL:\n",
      "https://raw.githubusercontent.com/OpenMined/datasets/main/TissueMNIST/subsets/TissueMNIST-551b7b7265d84bfd8dea36476a7e77f6.pkl\n",
      "\n",
      "👉🏽 Start Here:\n",
      "http://52.188.79.139:8888/lab/tree/notebooks/adastra/data-owners/data-owners-presentation.ipynb?token=08shavto27rswkurfges38v7er0barwal0ioq4i3519l8ant\n",
      "\n",
      "These are your Session Details:\n",
      "-------------------------------\n",
      "📎 MY_DATASET_URL:\n",
      "https://raw.githubusercontent.com/OpenMined/datasets/main/TissueMNIST/subsets/TissueMNIST-da94b910ad0e41c79c8a41993d61a1da.pkl\n",
      "\n",
      "👉🏽 Start Here:\n",
      "http://52.188.79.75:8888/lab/tree/notebooks/adastra/data-owners/data-owners-presentation.ipynb?token=zolffc9rtfvl1djxmt7d27l3f79flfo2xll3ykduy8f1kqcu\n",
      "\n",
      "These are your Session Details:\n",
      "-------------------------------\n",
      "📎 MY_DATASET_URL:\n",
      "https://raw.githubusercontent.com/OpenMined/datasets/main/TissueMNIST/subsets/TissueMNIST-a0cf7a7eccb1499295144380f7e42ce9.pkl\n",
      "\n",
      "👉🏽 Start Here:\n",
      "http://20.185.73.219:8888/lab/tree/notebooks/adastra/data-owners/data-owners-presentation.ipynb?token=838kdzh4jdqf1hk3eayynmexuid5r0zbnzds5m0jci13usrw\n",
      "\n",
      "These are your Session Details:\n",
      "-------------------------------\n",
      "📎 MY_DATASET_URL:\n",
      "https://raw.githubusercontent.com/OpenMined/datasets/main/TissueMNIST/subsets/TissueMNIST-e6916fbe07ec4302be04779d346e8a94.pkl\n",
      "\n",
      "👉🏽 Start Here:\n",
      "http://20.185.73.214:8888/lab/tree/notebooks/adastra/data-owners/data-owners-presentation.ipynb?token=n56nx4snq0o7hhq91r0gp7xdonzmjy4aiarvcenmzjsw8n3l\n",
      "\n",
      "These are your Session Details:\n",
      "-------------------------------\n",
      "📎 MY_DATASET_URL:\n",
      "https://raw.githubusercontent.com/OpenMined/datasets/main/TissueMNIST/subsets/TissueMNIST-5d33bbd49e5e4581b27887515db08667.pkl\n",
      "\n",
      "👉🏽 Start Here:\n",
      "http://20.185.74.201:8888/lab/tree/notebooks/adastra/data-owners/data-owners-presentation.ipynb?token=63bdws7s6kf7191wevdrgtka1t8acqdajwfn3aj3pvcz3zax\n",
      "\n",
      "These are your Session Details:\n",
      "-------------------------------\n",
      "📎 MY_DATASET_URL:\n",
      "https://raw.githubusercontent.com/OpenMined/datasets/main/TissueMNIST/subsets/TissueMNIST-e4070bc30ce647b0a7eaebcc39af878e.pkl\n",
      "\n",
      "👉🏽 Start Here:\n",
      "http://20.185.74.155:8888/lab/tree/notebooks/adastra/data-owners/data-owners-presentation.ipynb?token=538q4fagsz7x9r3sc2qwdgz9dh9uz08q271h9hb534uq0t9s\n",
      "\n",
      "These are your Session Details:\n",
      "-------------------------------\n",
      "📎 MY_DATASET_URL:\n",
      "https://raw.githubusercontent.com/OpenMined/datasets/main/TissueMNIST/subsets/TissueMNIST-28ceeda0704d4279966c45298fda85bd.pkl\n",
      "\n",
      "👉🏽 Start Here:\n",
      "http://20.185.73.15:8888/lab/tree/notebooks/adastra/data-owners/data-owners-presentation.ipynb?token=qbljxuf9w4ygktnjquhc6kb1bsf16icjqpry1ipbujcdj2b3\n",
      "\n",
      "These are your Session Details:\n",
      "-------------------------------\n",
      "📎 MY_DATASET_URL:\n",
      "https://raw.githubusercontent.com/OpenMined/datasets/main/TissueMNIST/subsets/TissueMNIST-5f1ad502d31b42ddacd22edd879fd8d1.pkl\n",
      "\n",
      "👉🏽 Start Here:\n",
      "http://20.185.72.105:8888/lab/tree/notebooks/adastra/data-owners/data-owners-presentation.ipynb?token=vc8jzjq6gy8sbjdxn5rlv7637ohky033xa65odg7qe44thgo\n",
      "\n",
      "These are your Session Details:\n",
      "-------------------------------\n",
      "📎 MY_DATASET_URL:\n",
      "https://raw.githubusercontent.com/OpenMined/datasets/main/TissueMNIST/subsets/TissueMNIST-3b51212847fd4838a9c388f2387d18f4.pkl\n",
      "\n",
      "👉🏽 Start Here:\n",
      "http://20.185.72.61:8888/lab/tree/notebooks/adastra/data-owners/data-owners-presentation.ipynb?token=960g6y8p8t8bf5gw1v0keibokm0ktd1eopanipsae6pae5b0\n",
      "\n",
      "Spare Session Details:\n",
      "-------------------------------\n",
      "📎 MY_DATASET_URL:\n",
      "https://raw.githubusercontent.com/OpenMined/datasets/main/TissueMNIST/subsets/TissueMNIST-debc134425f847f687a408ee62d7830f.pkl\n",
      "\n",
      "👉🏽 Start Here:\n",
      "http://20.185.72.52:8888/lab/tree/notebooks/adastra/data-owners/data-owners-presentation.ipynb?token=gfs12go46qj959a6jqqi5eg193tmoolij6baalo4wifdmdk3\n",
      "\n",
      "Spare Session Details:\n",
      "-------------------------------\n",
      "📎 MY_DATASET_URL:\n",
      "https://raw.githubusercontent.com/OpenMined/datasets/main/TissueMNIST/subsets/TissueMNIST-793a3eaf934a4803ad7d9aebc4ac6626.pkl\n",
      "\n",
      "👉🏽 Start Here:\n",
      "http://20.185.73.131:8888/lab/tree/notebooks/adastra/data-owners/data-owners-presentation.ipynb?token=mg42ct5qg5n2d7eso9hv2rnus66auo79uixypn678sfg45vk\n",
      "\n"
     ]
    }
   ],
   "source": [
    "output_user_details(host_ips, participants)"
   ]
  },
  {
   "cell_type": "code",
   "execution_count": 54,
   "id": "ab04be91-bc6a-439a-8c2a-57ada6a58bbc",
   "metadata": {},
   "outputs": [],
   "source": [
    "addresses_sent_to = []"
   ]
  },
  {
   "cell_type": "code",
   "execution_count": 25,
   "id": "22e8608a-be88-4d7c-a35d-2bc55446127e",
   "metadata": {},
   "outputs": [
    {
     "data": {
      "text/plain": [
       "[]"
      ]
     },
     "execution_count": 25,
     "metadata": {},
     "output_type": "execute_result"
    }
   ],
   "source": [
    "addresses_sent_to"
   ]
  },
  {
   "cell_type": "code",
   "execution_count": 26,
   "id": "48b37523-271d-4299-b710-e5a77f08feb8",
   "metadata": {},
   "outputs": [
    {
     "name": "stdout",
     "output_type": "stream",
     "text": [
      "Collecting sendgrid\n",
      "  Downloading sendgrid-6.9.7-py3-none-any.whl (101 kB)\n",
      "\u001b[2K     \u001b[90m━━━━━━━━━━━━━━━━━━━━━━━━━━━━━━━━━━━━━━━\u001b[0m \u001b[32m101.1/101.1 KB\u001b[0m \u001b[31m2.8 MB/s\u001b[0m eta \u001b[36m0:00:00\u001b[0m\n",
      "\u001b[?25hCollecting starkbank-ecdsa>=2.0.1\n",
      "  Downloading starkbank-ecdsa-2.0.3.tar.gz (12 kB)\n",
      "  Preparing metadata (setup.py) ... \u001b[?25ldone\n",
      "\u001b[?25hCollecting python-http-client>=3.2.1\n",
      "  Downloading python_http_client-3.3.7-py3-none-any.whl (8.4 kB)\n",
      "Building wheels for collected packages: starkbank-ecdsa\n",
      "  Building wheel for starkbank-ecdsa (setup.py) ... \u001b[?25ldone\n",
      "\u001b[?25h  Created wheel for starkbank-ecdsa: filename=starkbank_ecdsa-2.0.3-py3-none-any.whl size=14229 sha256=276862cfb5e6476b682e9bf9cb07204e2e46edb9d3f215269aa95e4644e2bf29\n",
      "  Stored in directory: /Users/madhavajay/Library/Caches/pip/wheels/e3/bb/37/b77a2a1b31257de6f06fe38f590bf2396ec3477a65cdae06a8\n",
      "Successfully built starkbank-ecdsa\n",
      "Installing collected packages: starkbank-ecdsa, python-http-client, sendgrid\n",
      "Successfully installed python-http-client-3.3.7 sendgrid-6.9.7 starkbank-ecdsa-2.0.3\n",
      "\u001b[33mWARNING: You are using pip version 22.0.4; however, version 22.1.1 is available.\n",
      "You should consider upgrading via the '/Users/madhavajay/dev/PySyft/.tox/syft.jupyter/bin/python -m pip install --upgrade pip' command.\u001b[0m\u001b[33m\n",
      "\u001b[0m"
     ]
    }
   ],
   "source": [
    "!pip install sendgrid"
   ]
  },
  {
   "cell_type": "code",
   "execution_count": 44,
   "id": "7cde21fa-d4a2-4f9e-b957-f005b56ddb2c",
   "metadata": {},
   "outputs": [],
   "source": [
    "# from_address='research@openmined.org'\n",
    "from_address='madhava@openmined.org' # test"
   ]
  },
  {
   "cell_type": "code",
   "execution_count": 45,
   "id": "dd80a45d-aa1a-4346-afd1-28c489087935",
   "metadata": {},
   "outputs": [],
   "source": [
    "SENDGRID_API_KEY = \"\""
   ]
  },
  {
   "cell_type": "code",
   "execution_count": 50,
   "id": "e7ca2666-2f24-4dda-84f9-428f807d41ac",
   "metadata": {},
   "outputs": [],
   "source": [
    "template = \"\"\"\n",
    "<!DOCTYPE html PUBLIC \"-//W3C//DTD XHTML 1.0 Strict//EN\" \"http://www.w3.org/TR/xhtml1/DTD/xhtml1-strict.dtd\">\n",
    "<html\n",
    "  data-editor-version=\"2\"\n",
    "  class=\"sg-campaigns\"\n",
    "  xmlns=\"http://www.w3.org/1999/xhtml\"\n",
    ">\n",
    "<head>\n",
    "    <meta http-equiv=\"Content-Type\" content=\"text/html; charset=utf-8\" />\n",
    "    <meta\n",
    "      name=\"viewport\"\n",
    "      content=\"width=device-width, initial-scale=1, minimum-scale=1, maximum-scale=1\"\n",
    "    />\n",
    "    <style>\n",
    "      body {\n",
    "        font-family: \"Chivo\", sans-serif;\n",
    "      }\n",
    "    </style>\n",
    "</head>\n",
    "<table width=\"100%\">\n",
    "<tr>\n",
    "<td align=\"center\">\n",
    "<img src=\"http://cdn.mcauto-images-production.sendgrid.net/919ca6f839ef4a13/8ac55789-f733-4ce7-929c-3a9483e9ffeb/600x257.png\" width=\"400px\" style=\"text-align:center;\" />\n",
    "</td>\n",
    "</tr>\n",
    "</table>\n",
    "<body>\n",
    "\"\"\"\n",
    "\n",
    "close_template = \"\"\"\n",
    "</body>\n",
    "</html>\n",
    "\"\"\""
   ]
  },
  {
   "cell_type": "code",
   "execution_count": 51,
   "id": "95b2e522-7104-4f6c-b087-94802a7fc930",
   "metadata": {},
   "outputs": [],
   "source": [
    "def send_email(person, email, host, notebook_url, dataset_url) -> bool:\n",
    "    print(\"send email to\", person, email, host)\n",
    "    # using SendGrid's Python Library\n",
    "    # https://github.com/sendgrid/sendgrid-python\n",
    "    import os\n",
    "    from sendgrid import SendGridAPIClient\n",
    "    from sendgrid.helpers.mail import Mail\n",
    "\n",
    "    message = Mail(\n",
    "        from_email=from_address,\n",
    "        to_emails=email,\n",
    "        subject=\"OpenMined: Medical Federated Learning Program - Session 1\",\n",
    "        html_content=f\"\"\"\n",
    "        {template}\n",
    "        <p>Hi {person},</p>\n",
    "        \n",
    "        <p>These are your session details for the Medical Federated Learning Program - Session 1:</p>\n",
    "        <p>👇🏽 Click this link to start your interactive Jupyter Notebook<br />\n",
    "        {notebook_url}</p>\n",
    "        <p>📎 Copy and Paste this later during the demo:<br /><br />\n",
    "        MY_DATASET_URL=\"{dataset_url}\"</p>\n",
    "\n",
    "        <br />\n",
    "        Regards,<br />\n",
    "        The OpenMined Research Team<br />\n",
    "        openmined.org\n",
    "        {close_template}\n",
    "        \"\"\")\n",
    "    try:\n",
    "        sg = SendGridAPIClient(SENDGRID_API_KEY)\n",
    "        response = sg.send(message)\n",
    "        if response.status_code == 202:\n",
    "            return True\n",
    "        else:\n",
    "            print(response.status_code)\n",
    "            print(response.body)\n",
    "            print(response.headers)\n",
    "            return False\n",
    "    except Exception as e:\n",
    "        print(e.message)\n",
    "        return False\n",
    "    return True"
   ]
  },
  {
   "cell_type": "code",
   "execution_count": 55,
   "id": "2e1c498b-d6ec-4cfa-850c-f2fd6be933ec",
   "metadata": {},
   "outputs": [],
   "source": [
    "def send_emails(host_ips: dict, participants: dict[str, str] = {}) -> None:\n",
    "    notebook_path = \"adastra/data-owners/data-owners-presentation.ipynb\"\n",
    "    print(\"===============================\")\n",
    "    print(\"Ad Astra Demo 1\")\n",
    "    print(\"===============================\")\n",
    "    print()\n",
    "    print(\"Send to each participant\")\n",
    "    print()\n",
    "    if TOTAL_PARTICIPANTS > len(host_ips[\"host_ips\"]):\n",
    "        raise Exception(\n",
    "            f\"TOTAL_PARTICIPANTS: {TOTAL_PARTICIPANTS} is less than VM count: {len(host_ips['host_ips'])}\"\n",
    "        )\n",
    "    partition = 0\n",
    "\n",
    "    dataset_urls = get_dataset_urls()\n",
    "    num_of_urls = len(dataset_urls)\n",
    "    for host in host_ips[\"host_ips\"]:\n",
    "        try:\n",
    "            partition += 1\n",
    "            notebook_url = f\"http://{host['ip_address']}:8888/lab/tree/notebooks/{notebook_path}?token={host['jupyter_token']}\"\n",
    "            dataset_url = dataset_urls[partition%num_of_urls]\n",
    "            if partition <= len(participants):\n",
    "                person_name = list(participants.keys())[partition - 1]\n",
    "                print(f\"Hi {person_name},\")\n",
    "                person_email = participants[person_name]\n",
    "                if person_email not in addresses_sent_to:\n",
    "                    if send_email(person_name, person_email, host, notebook_url, dataset_url):\n",
    "                        addresses_sent_to.append(person_email)\n",
    "                else:\n",
    "                    print(f\"Already emailed: {person_name} {person_email}\")\n",
    "            if partition <= TOTAL_PARTICIPANTS:\n",
    "                print(\"These are your Session Details:\")\n",
    "            else:\n",
    "                print(\"Spare Session Details:\")\n",
    "            print(\"-------------------------------\")\n",
    "            # print(f\"VM Username: {host['username']}\")\n",
    "            # print(f\"VM Password: {host['password']}\")\n",
    "            # print(f\"VM IP Address: {host['ip_address']}\")\n",
    "            print(f\"📎 MY_DATASET_URL: \\n{dataset_url}\")\n",
    "\n",
    "            print()\n",
    "            print(f\"👉🏽 Start Here:\")\n",
    "            print(notebook_url)\n",
    "            print()\n",
    "        except Exception as e:\n",
    "            print(f\"Failed to send details for partition: {partition}\", e)"
   ]
  },
  {
   "cell_type": "code",
   "execution_count": 56,
   "id": "49fd4ae2-ab5e-41a2-aa4a-5f2b06200876",
   "metadata": {},
   "outputs": [
    {
     "name": "stdout",
     "output_type": "stream",
     "text": [
      "===============================\n",
      "Ad Astra Demo 1\n",
      "===============================\n",
      "\n",
      "Send to each participant\n",
      "\n",
      "Hi Madhava Jay,\n",
      "send email to Madhava Jay madhava@openmined.org {'username': 'azureuser', 'password': 'Adastrademo2022', 'ip_address': '52.188.79.206', 'jupyter_token': 'nhvntkwi4l3zam5o1xv45c2h9alf6r39vmmvg9irxph9hkzl'}\n",
      "These are your Session Details:\n",
      "-------------------------------\n",
      "📎 MY_DATASET_URL: \n",
      "https://raw.githubusercontent.com/OpenMined/datasets/main/TissueMNIST/subsets/TissueMNIST-1ffc51892957453e908919645da3ea90.pkl\n",
      "\n",
      "👉🏽 Start Here:\n",
      "http://52.188.79.206:8888/lab/tree/notebooks/adastra/data-owners/data-owners-presentation.ipynb?token=nhvntkwi4l3zam5o1xv45c2h9alf6r39vmmvg9irxph9hkzl\n",
      "\n",
      "These are your Session Details:\n",
      "-------------------------------\n",
      "📎 MY_DATASET_URL: \n",
      "https://raw.githubusercontent.com/OpenMined/datasets/main/TissueMNIST/subsets/TissueMNIST-551b7b7265d84bfd8dea36476a7e77f6.pkl\n",
      "\n",
      "👉🏽 Start Here:\n",
      "http://52.188.79.139:8888/lab/tree/notebooks/adastra/data-owners/data-owners-presentation.ipynb?token=08shavto27rswkurfges38v7er0barwal0ioq4i3519l8ant\n",
      "\n",
      "These are your Session Details:\n",
      "-------------------------------\n",
      "📎 MY_DATASET_URL: \n",
      "https://raw.githubusercontent.com/OpenMined/datasets/main/TissueMNIST/subsets/TissueMNIST-da94b910ad0e41c79c8a41993d61a1da.pkl\n",
      "\n",
      "👉🏽 Start Here:\n",
      "http://52.188.79.75:8888/lab/tree/notebooks/adastra/data-owners/data-owners-presentation.ipynb?token=zolffc9rtfvl1djxmt7d27l3f79flfo2xll3ykduy8f1kqcu\n",
      "\n",
      "These are your Session Details:\n",
      "-------------------------------\n",
      "📎 MY_DATASET_URL: \n",
      "https://raw.githubusercontent.com/OpenMined/datasets/main/TissueMNIST/subsets/TissueMNIST-a0cf7a7eccb1499295144380f7e42ce9.pkl\n",
      "\n",
      "👉🏽 Start Here:\n",
      "http://20.185.73.219:8888/lab/tree/notebooks/adastra/data-owners/data-owners-presentation.ipynb?token=838kdzh4jdqf1hk3eayynmexuid5r0zbnzds5m0jci13usrw\n",
      "\n",
      "These are your Session Details:\n",
      "-------------------------------\n",
      "📎 MY_DATASET_URL: \n",
      "https://raw.githubusercontent.com/OpenMined/datasets/main/TissueMNIST/subsets/TissueMNIST-e6916fbe07ec4302be04779d346e8a94.pkl\n",
      "\n",
      "👉🏽 Start Here:\n",
      "http://20.185.73.214:8888/lab/tree/notebooks/adastra/data-owners/data-owners-presentation.ipynb?token=n56nx4snq0o7hhq91r0gp7xdonzmjy4aiarvcenmzjsw8n3l\n",
      "\n",
      "These are your Session Details:\n",
      "-------------------------------\n",
      "📎 MY_DATASET_URL: \n",
      "https://raw.githubusercontent.com/OpenMined/datasets/main/TissueMNIST/subsets/TissueMNIST-5d33bbd49e5e4581b27887515db08667.pkl\n",
      "\n",
      "👉🏽 Start Here:\n",
      "http://20.185.74.201:8888/lab/tree/notebooks/adastra/data-owners/data-owners-presentation.ipynb?token=63bdws7s6kf7191wevdrgtka1t8acqdajwfn3aj3pvcz3zax\n",
      "\n",
      "These are your Session Details:\n",
      "-------------------------------\n",
      "📎 MY_DATASET_URL: \n",
      "https://raw.githubusercontent.com/OpenMined/datasets/main/TissueMNIST/subsets/TissueMNIST-e4070bc30ce647b0a7eaebcc39af878e.pkl\n",
      "\n",
      "👉🏽 Start Here:\n",
      "http://20.185.74.155:8888/lab/tree/notebooks/adastra/data-owners/data-owners-presentation.ipynb?token=538q4fagsz7x9r3sc2qwdgz9dh9uz08q271h9hb534uq0t9s\n",
      "\n",
      "These are your Session Details:\n",
      "-------------------------------\n",
      "📎 MY_DATASET_URL: \n",
      "https://raw.githubusercontent.com/OpenMined/datasets/main/TissueMNIST/subsets/TissueMNIST-28ceeda0704d4279966c45298fda85bd.pkl\n",
      "\n",
      "👉🏽 Start Here:\n",
      "http://20.185.73.15:8888/lab/tree/notebooks/adastra/data-owners/data-owners-presentation.ipynb?token=qbljxuf9w4ygktnjquhc6kb1bsf16icjqpry1ipbujcdj2b3\n",
      "\n",
      "These are your Session Details:\n",
      "-------------------------------\n",
      "📎 MY_DATASET_URL: \n",
      "https://raw.githubusercontent.com/OpenMined/datasets/main/TissueMNIST/subsets/TissueMNIST-5f1ad502d31b42ddacd22edd879fd8d1.pkl\n",
      "\n",
      "👉🏽 Start Here:\n",
      "http://20.185.72.105:8888/lab/tree/notebooks/adastra/data-owners/data-owners-presentation.ipynb?token=vc8jzjq6gy8sbjdxn5rlv7637ohky033xa65odg7qe44thgo\n",
      "\n",
      "These are your Session Details:\n",
      "-------------------------------\n",
      "📎 MY_DATASET_URL: \n",
      "https://raw.githubusercontent.com/OpenMined/datasets/main/TissueMNIST/subsets/TissueMNIST-3b51212847fd4838a9c388f2387d18f4.pkl\n",
      "\n",
      "👉🏽 Start Here:\n",
      "http://20.185.72.61:8888/lab/tree/notebooks/adastra/data-owners/data-owners-presentation.ipynb?token=960g6y8p8t8bf5gw1v0keibokm0ktd1eopanipsae6pae5b0\n",
      "\n",
      "Spare Session Details:\n",
      "-------------------------------\n",
      "📎 MY_DATASET_URL: \n",
      "https://raw.githubusercontent.com/OpenMined/datasets/main/TissueMNIST/subsets/TissueMNIST-debc134425f847f687a408ee62d7830f.pkl\n",
      "\n",
      "👉🏽 Start Here:\n",
      "http://20.185.72.52:8888/lab/tree/notebooks/adastra/data-owners/data-owners-presentation.ipynb?token=gfs12go46qj959a6jqqi5eg193tmoolij6baalo4wifdmdk3\n",
      "\n",
      "Spare Session Details:\n",
      "-------------------------------\n",
      "📎 MY_DATASET_URL: \n",
      "https://raw.githubusercontent.com/OpenMined/datasets/main/TissueMNIST/subsets/TissueMNIST-793a3eaf934a4803ad7d9aebc4ac6626.pkl\n",
      "\n",
      "👉🏽 Start Here:\n",
      "http://20.185.73.131:8888/lab/tree/notebooks/adastra/data-owners/data-owners-presentation.ipynb?token=mg42ct5qg5n2d7eso9hv2rnus66auo79uixypn678sfg45vk\n",
      "\n"
     ]
    }
   ],
   "source": [
    "send_emails(host_ips, participants)"
   ]
  },
  {
   "cell_type": "code",
   "execution_count": null,
   "id": "2ce62725-19ef-4a39-b61a-98c448faaa36",
   "metadata": {},
   "outputs": [],
   "source": []
  }
 ],
 "metadata": {
  "interpreter": {
   "hash": "630449982b6186a6531308cd76ed4d510e9db65154e43844c2906c6a20ad2a6d"
  },
  "kernelspec": {
   "display_name": "Python 3 (ipykernel)",
   "language": "python",
   "name": "python3"
  },
  "language_info": {
   "codemirror_mode": {
    "name": "ipython",
    "version": 3
   },
   "file_extension": ".py",
   "mimetype": "text/x-python",
   "name": "python",
   "nbconvert_exporter": "python",
   "pygments_lexer": "ipython3",
   "version": "3.10.3"
  }
 },
 "nbformat": 4,
 "nbformat_minor": 5
}
