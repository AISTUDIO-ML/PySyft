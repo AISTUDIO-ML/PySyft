{
 "cells": [
  {
   "cell_type": "markdown",
   "id": "1a72486f-ffbd-4800-bc03-5e6427964faa",
   "metadata": {
    "tags": []
   },
   "source": [
    "# Notebook 4: Upload a Dataset"
   ]
  },
  {
   "cell_type": "markdown",
   "id": "0484a120-b651-434d-a439-039200c3e9b2",
   "metadata": {
    "tags": []
   },
   "source": [
    "## Setup Variables\n",
    "\n",
    "Before we start let's store some variables that will come in handy later in the notebook."
   ]
  },
  {
   "cell_type": "markdown",
   "id": "4e441585-10a1-4316-b6e3-8c385fe6f054",
   "metadata": {},
   "source": [
    "<img src=\"img/tab_run.png\" alt=\"tab\" style=\"width: 100px; margin:0;\" />"
   ]
  },
  {
   "cell_type": "code",
   "execution_count": null,
   "id": "8683929a-fbf8-4ade-a7e0-90d35c378675",
   "metadata": {},
   "outputs": [],
   "source": [
    "# autodetect the host_ip\n",
    "from utils import auto_detect_domain_host_ip\n",
    "\n",
    "DOMAIN_HOST_IP = auto_detect_domain_host_ip()"
   ]
  },
  {
   "cell_type": "code",
   "execution_count": null,
   "id": "a497bd88-53c9-4bd9-acba-e152b983d383",
   "metadata": {
    "tags": []
   },
   "outputs": [],
   "source": [
    "# Set the email and password of your Domain node.\n",
    "# We will be using the default email and password that got created during Domain creation.\n",
    "\n",
    "ADMIN_EMAIL=\"info@openmined.org\"\n",
    "ADMIN_PASSWORD=\"changethis\""
   ]
  },
  {
   "cell_type": "markdown",
   "id": "78ca2364",
   "metadata": {},
   "source": [
    "## Step 1: Log into our Domain"
   ]
  },
  {
   "cell_type": "markdown",
   "id": "7f937d35-3d89-4a98-b1b9-7b65eed94926",
   "metadata": {},
   "source": [
    "<img src=\"img/tab_run.png\" alt=\"tab\" style=\"width: 100px; margin:0;\" />"
   ]
  },
  {
   "cell_type": "code",
   "execution_count": null,
   "id": "b923206d",
   "metadata": {},
   "outputs": [],
   "source": [
    "import syft as sy\n",
    "\n",
    "print(f\"You're running syft version: {sy.__version__}\")"
   ]
  },
  {
   "cell_type": "markdown",
   "id": "d3d4ad69-5bb8-481b-936e-73659604662c",
   "metadata": {},
   "source": [
    "<img src=\"img/tab_run.png\" alt=\"tab\" style=\"width: 100px; margin:0;\" />"
   ]
  },
  {
   "cell_type": "code",
   "execution_count": null,
   "id": "7f682a99",
   "metadata": {},
   "outputs": [],
   "source": [
    "# Let's log into the domain using the credentials\n",
    "try:\n",
    "    domain_client = sy.login(\n",
    "        url=DOMAIN_HOST_IP, email=ADMIN_EMAIL, password=ADMIN_PASSWORD\n",
    "    )\n",
    "    print()\n",
    "    print(\"🎉 You successfully connected to your domain!\")\n",
    "except Exception as e:\n",
    "    print(\"❌ Unable to connect, did you set the `DOMAIN_HOST_IP` variable above?\")\n",
    "    raise e"
   ]
  },
  {
   "cell_type": "markdown",
   "id": "770bc6e1-8106-4079-a916-1f6fea2bec40",
   "metadata": {},
   "source": [
    "## Step 2: Creating a Dataset"
   ]
  },
  {
   "cell_type": "markdown",
   "id": "7ec81c52-dff5-4471-85c5-4b05fd865f27",
   "metadata": {},
   "source": [
    "<img src=\"img/tab_info.png\" alt=\"tab\" style=\"width: 100px; margin:0;\" />"
   ]
  },
  {
   "cell_type": "markdown",
   "id": "55ad95a9",
   "metadata": {},
   "source": [
    "### MedNIST Dataset\n",
    "\n",
    "We will be using the MedNIST dataset. The MedNIST dataset was gathered from several sets from TCIA, the RSNA Bone Age Challenge, and the NIH Chest X-ray dataset.\n",
    "\n",
    "The dataset is kindly made available by Dr. Bradley J. Erickson M.D., Ph.D. (Department of Radiology, Mayo Clinic) under the Creative Commons CC BY-SA 4.0 license. If you use the MedNIST dataset, please acknowledge the source, e.g. https://colab.research.google.com/drive/1wy8XUSnNWlhDNazFdvGBHLfdkGvOHBKe#scrollTo=ZaHFhidyCBJa\n",
    "\n",
    "Let's move on to download and extract the dataset."
   ]
  },
  {
   "cell_type": "markdown",
   "id": "9d5af725",
   "metadata": {},
   "source": [
    "The dataset has been stored pickle file. Lets download the dataset using the instructions below."
   ]
  },
  {
   "cell_type": "markdown",
   "id": "b0dcc170",
   "metadata": {},
   "source": [
    "Copy your variables `MY_DATASET_URL` from your session details."
   ]
  },
  {
   "cell_type": "markdown",
   "id": "7d79ecf5",
   "metadata": {},
   "source": [
    "```\n",
    "Hi Person,\n",
    "These are your Session Details:\n",
    "-------------------------------\n",
    "Username: azureuser\n",
    "Password: **********\n",
    "VM IP Address: x.x.x.x\n",
    "    \n",
    "📎 MY_DATASET_URL:\n",
    "'https://media.githubusercontent.com/media/shubham3121/datasets/main/MedNIST/subsets/xxxxxxx.pkl'\n",
    "\n",
    "```"
   ]
  },
  {
   "cell_type": "markdown",
   "id": "157a39e9-9b51-49ee-b4c4-c54c43db7b6f",
   "metadata": {},
   "source": [
    "<img src=\"img/tab_edit.png\" alt=\"tab\" style=\"width: 100px; margin:0;\" />"
   ]
  },
  {
   "cell_type": "code",
   "execution_count": null,
   "id": "83ab0392",
   "metadata": {},
   "outputs": [],
   "source": [
    "# replace these with your own from the session details\n",
    "# paste your dataset url here\n",
    "MY_DATASET_URL = \"\""
   ]
  },
  {
   "cell_type": "markdown",
   "id": "fbbfc59b-3fb4-47cb-b04f-3d608c525610",
   "metadata": {},
   "source": [
    "<img src=\"img/tab_run.png\" alt=\"tab\" style=\"width: 100px; margin:0;\" />"
   ]
  },
  {
   "cell_type": "code",
   "execution_count": null,
   "id": "35e6a8b8-89f4-4849-a1dd-02fc166da76f",
   "metadata": {},
   "outputs": [],
   "source": [
    "# download MedNIST.pkl\n",
    "from utils import download_mednist_dataset\n",
    "\n",
    "FILE_PATH = download_mednist_dataset(MY_DATASET_URL)"
   ]
  },
  {
   "cell_type": "markdown",
   "id": "a864da2e",
   "metadata": {},
   "source": [
    "Now, before we move forward, let's store some variables related to the dataset.\n",
    "\n",
    "We require your participant number and the total participant count in the session to allocate you a unique subset of the MedNIST data."
   ]
  },
  {
   "cell_type": "markdown",
   "id": "7515311f",
   "metadata": {},
   "source": [
    "### Load the Dataset"
   ]
  },
  {
   "cell_type": "markdown",
   "id": "3b1e2f45",
   "metadata": {},
   "source": [
    "Below are some helper methods, thatwe will require to load the dataset."
   ]
  },
  {
   "cell_type": "markdown",
   "id": "1809b708-b161-45e0-a7fb-f0690de5e016",
   "metadata": {},
   "source": [
    "<img src=\"img/tab_run.png\" alt=\"tab\" style=\"width: 100px; margin:0;\" />"
   ]
  },
  {
   "cell_type": "code",
   "execution_count": null,
   "id": "ef5c71ae",
   "metadata": {},
   "outputs": [],
   "source": [
    "# Import helper methods\n",
    "from syft.core.adp.data_subject_list import DataSubjectList\n",
    "from utils import (\n",
    "    get_data_description,\n",
    "    get_label_mapping,\n",
    "    split_into_train_test_val_sets,\n",
    "    load_data_as_df,\n",
    "    get_dataset_name,\n",
    ")"
   ]
  },
  {
   "cell_type": "markdown",
   "id": "92c465da-4ebc-4aea-8901-7f1cba1d3a2d",
   "metadata": {},
   "source": [
    "<img src=\"img/tab_run.png\" alt=\"tab\" style=\"width: 100px; margin:0;\" />"
   ]
  },
  {
   "cell_type": "code",
   "execution_count": null,
   "id": "6009afa0-5903-4d37-a99a-d39b754c920a",
   "metadata": {},
   "outputs": [],
   "source": [
    "# Let's load the dataset as a dataframe\n",
    "dataset_df = load_data_as_df(FILE_PATH)"
   ]
  },
  {
   "cell_type": "markdown",
   "id": "20d58d15-18a7-4eff-9c76-c7337b25d15a",
   "metadata": {},
   "source": [
    "<img src=\"img/tab_run.png\" alt=\"tab\" style=\"width: 100px; margin:0;\" />"
   ]
  },
  {
   "cell_type": "code",
   "execution_count": null,
   "id": "6b03793c",
   "metadata": {},
   "outputs": [],
   "source": [
    "# Let's get a peek of the dataset\n",
    "dataset_df.head()"
   ]
  },
  {
   "cell_type": "markdown",
   "id": "8c9d9ee1-e13c-410b-8b49-52c301408d50",
   "metadata": {},
   "source": [
    "<img src=\"img/tab_run.png\" alt=\"tab\" style=\"width: 100px; margin:0;\" />"
   ]
  },
  {
   "cell_type": "code",
   "execution_count": null,
   "id": "db786ca5",
   "metadata": {},
   "outputs": [],
   "source": [
    "# Split the dataset into `train`, `validation` and `test` sets.\n",
    "data_dict = split_into_train_test_val_sets(dataset_df)"
   ]
  },
  {
   "cell_type": "markdown",
   "id": "e26d0740-1a4b-4afd-9af3-b48cdc575ad2",
   "metadata": {},
   "source": [
    "<img src=\"img/tab_run.png\" alt=\"tab\" style=\"width: 100px; margin:0;\" />"
   ]
  },
  {
   "cell_type": "code",
   "execution_count": null,
   "id": "4ce363b2",
   "metadata": {},
   "outputs": [],
   "source": [
    "data_dict[\"train\"].shape, data_dict[\"val\"].shape, data_dict[\"test\"].shape"
   ]
  },
  {
   "cell_type": "markdown",
   "id": "6a0d7bf0",
   "metadata": {},
   "source": [
    "Get the dataset description, that needs to be provided to the domain while uploading the dataset."
   ]
  },
  {
   "cell_type": "markdown",
   "id": "a77dcd83-305b-4a30-be20-907567ef870a",
   "metadata": {},
   "source": [
    "<img src=\"img/tab_run.png\" alt=\"tab\" style=\"width: 100px; margin:0;\" />"
   ]
  },
  {
   "cell_type": "code",
   "execution_count": null,
   "id": "47807e56",
   "metadata": {},
   "outputs": [],
   "source": [
    "dataset_description = get_data_description(dataset_df)\n",
    "print(dataset_description)"
   ]
  },
  {
   "cell_type": "markdown",
   "id": "b0fb9e23",
   "metadata": {},
   "source": [
    "We can see that dataset description contains a brief info about the dataset and also a few meta information related to the dataset."
   ]
  },
  {
   "cell_type": "markdown",
   "id": "da69b7c3",
   "metadata": {},
   "source": [
    "### Prepare Dataset for Upload"
   ]
  },
  {
   "cell_type": "markdown",
   "id": "5cc10b07",
   "metadata": {},
   "source": [
    "In the next step we will create assets for our datasets. Asset is a collection of private data. In our case the images and labels in the train, val and test sets will be part of the assets."
   ]
  },
  {
   "cell_type": "markdown",
   "id": "d23c16a3-c43a-47af-a8b7-1392c2631ba9",
   "metadata": {},
   "source": [
    "<img src=\"img/tab_run.png\" alt=\"tab\" style=\"width: 100px; margin:0;\" />"
   ]
  },
  {
   "cell_type": "code",
   "execution_count": null,
   "id": "2d2c2ab5",
   "metadata": {},
   "outputs": [],
   "source": [
    "import numpy as np\n",
    "\n",
    "assets = dict()\n",
    "\n",
    "for name, data in data_dict.items():\n",
    "\n",
    "    # Let's create data subjects list.\n",
    "    # Data Subjects are the individuals whose privacy we're trying to protect.\n",
    "    data_subjects = DataSubjectList.from_series(data[\"patient_id\"])\n",
    "\n",
    "    # Convert images to numpy int64 array\n",
    "    images = data[\"image\"]\n",
    "    images = np.dstack(images.values).astype(np.int64)  # type cast to int64\n",
    "    dims = images.shape\n",
    "    images = images.reshape(dims[0] * dims[1], dims[2])  # reshape to 2D array\n",
    "    images = np.rollaxis(images, -1)\n",
    "\n",
    "    # Convert labels to numpy int64 array\n",
    "    labels = data[\"label\"].to_numpy().astype(\"int64\")\n",
    "\n",
    "    # Next we will make your data private private with min, max and data subjects.\n",
    "    # The min and max are minimum and maximum value in the given data.\n",
    "\n",
    "    # converting images to private data\n",
    "    image_data = sy.Tensor(images).private(\n",
    "        min_val=0, max_val=255, data_subjects=data_subjects\n",
    "    )\n",
    "\n",
    "    # converting labels to private data\n",
    "    label_data = sy.Tensor(labels).private(\n",
    "        min_val=0, max_val=5, data_subjects=data_subjects\n",
    "    )\n",
    "\n",
    "    assets[f\"{name}_images\"] = image_data\n",
    "    assets[f\"{name}_labels\"] = label_data"
   ]
  },
  {
   "cell_type": "markdown",
   "id": "11bc8fd6",
   "metadata": {},
   "source": [
    "Finally, we will upload the assets to the domain."
   ]
  },
  {
   "cell_type": "markdown",
   "id": "297660f6-a229-43ef-b52a-1e131d44261a",
   "metadata": {},
   "source": [
    "## Step 3: Upload the Dataset"
   ]
  },
  {
   "cell_type": "markdown",
   "id": "0603aaf8-7b91-4bd8-bb01-e0d904802952",
   "metadata": {},
   "source": [
    "<img src=\"img/tab_run.png\" alt=\"tab\" style=\"width: 100px; margin:0;\" />"
   ]
  },
  {
   "cell_type": "code",
   "execution_count": null,
   "id": "9b8df79f",
   "metadata": {},
   "outputs": [],
   "source": [
    "# creating/uploading the dataset\n",
    "# Name of the dataset\n",
    "# Gets the dataset name from the dataset url\n",
    "name = get_dataset_name(MY_DATASET_URL)"
   ]
  },
  {
   "cell_type": "markdown",
   "id": "5cc890be-a384-477d-b3e6-b13dc9fe6568",
   "metadata": {},
   "source": [
    "<img src=\"img/tab_run.png\" alt=\"tab\" style=\"width: 100px; margin:0;\" />"
   ]
  },
  {
   "cell_type": "code",
   "execution_count": null,
   "id": "ef4be075-2712-4e97-94a2-9547a33464da",
   "metadata": {},
   "outputs": [],
   "source": [
    "# upload the MedNIST data\n",
    "domain_client.load_dataset(\n",
    "    assets=assets, name=name, description=dataset_description, use_blob_storage=True\n",
    ")"
   ]
  },
  {
   "cell_type": "markdown",
   "id": "ba5c03e4",
   "metadata": {},
   "source": [
    "Now let's check if the dataset we successfully uploaded"
   ]
  },
  {
   "cell_type": "markdown",
   "id": "00e168a6-8ae6-4777-acf9-50e555538f17",
   "metadata": {},
   "source": [
    "<img src=\"img/tab_run.png\" alt=\"tab\" style=\"width: 100px; margin:0;\" />"
   ]
  },
  {
   "cell_type": "code",
   "execution_count": null,
   "id": "f43b1d7b-579f-4cb9-b5f6-8dab895d8111",
   "metadata": {},
   "outputs": [],
   "source": [
    "domain_client.datasets"
   ]
  },
  {
   "cell_type": "markdown",
   "id": "e26a7cd3-a9c3-4de8-96e5-72c28ee6da8a",
   "metadata": {},
   "source": [
    "<img src=\"img/tab_run.png\" alt=\"tab\" style=\"width: 100px; margin:0;\" />"
   ]
  },
  {
   "cell_type": "code",
   "execution_count": null,
   "id": "991e5bb1",
   "metadata": {},
   "outputs": [],
   "source": [
    "domain_client.datasets[0]"
   ]
  },
  {
   "cell_type": "markdown",
   "id": "ee7c4aa2-1833-49c6-8fa1-92421f156961",
   "metadata": {},
   "source": [
    "## Step 4: Create a Data Scientist Account"
   ]
  },
  {
   "cell_type": "markdown",
   "id": "d6b743e0-0892-4b66-93a3-5eb0ff90ab17",
   "metadata": {},
   "source": [
    "<img src=\"img/tab_edit.png\" alt=\"tab\" style=\"width: 100px; margin:0;\" />"
   ]
  },
  {
   "cell_type": "code",
   "execution_count": null,
   "id": "b2878747-ff5c-4805-b069-1c4e283d2a5c",
   "metadata": {},
   "outputs": [],
   "source": [
    "data_scientist_details = {\n",
    "    \"name\": \"Samantha Carter\",\n",
    "    \"email\": \"sam@sg1.net\",\n",
    "    \"password\": \"stargate\",\n",
    "    \"budget\": 9999,\n",
    "}"
   ]
  },
  {
   "cell_type": "markdown",
   "id": "1dfc5a9f-5200-46e1-8cec-31fe020561af",
   "metadata": {},
   "source": [
    "<img src=\"img/tab_run.png\" alt=\"tab\" style=\"width: 100px; margin:0;\" />"
   ]
  },
  {
   "cell_type": "code",
   "execution_count": null,
   "id": "781c9baf-9715-46cb-bc64-790597a369f3",
   "metadata": {},
   "outputs": [],
   "source": [
    "domain_client.users.create(**data_scientist_details)"
   ]
  },
  {
   "cell_type": "markdown",
   "id": "908288b4-ed6f-443e-a745-9f9cfbe71652",
   "metadata": {},
   "source": [
    "<img src=\"img/tab_run.png\" alt=\"tab\" style=\"width: 100px; margin:0;\" />"
   ]
  },
  {
   "cell_type": "code",
   "execution_count": null,
   "id": "f5aec7e8-29d8-48b4-89d2-80a2252558ad",
   "metadata": {},
   "outputs": [],
   "source": [
    "print(\"Please give these details to the data scientist 👇🏽\")\n",
    "login_details = {}\n",
    "login_details[\"url\"] = DOMAIN_HOST_IP\n",
    "login_details[\"name\"] = data_scientist_details[\"name\"]\n",
    "login_details[\"email\"] = data_scientist_details[\"email\"]\n",
    "login_details[\"password\"] = data_scientist_details[\"password\"]\n",
    "login_details[\"dataset_name\"] = name\n",
    "print()\n",
    "print(login_details)"
   ]
  },
  {
   "cell_type": "markdown",
   "id": "72c020f5-a019-4c07-adee-280ffe26c129",
   "metadata": {},
   "source": [
    "<img src=\"img/tab_copy_send.png\" alt=\"tab\" style=\"width: 123px; margin:0;\" />"
   ]
  },
  {
   "cell_type": "markdown",
   "id": "5783c273-42d0-4449-b5c7-f2fe064dca8b",
   "metadata": {},
   "source": [
    "Please copy the output of the above Run cell and share it with your Data Scientist or Demo Coordinator."
   ]
  },
  {
   "cell_type": "markdown",
   "id": "f4223b8e-fc12-442d-944e-ba8b9103261f",
   "metadata": {},
   "source": [
    "<img src=\"img/tab_finish.png\" alt=\"tab\" style=\"width: 100px; margin:0;\" />"
   ]
  },
  {
   "cell_type": "markdown",
   "id": "12551e29-c6de-47bd-9c1b-f7ed46357c04",
   "metadata": {},
   "source": [
    "🙌🏽 Notebook Complete!\n",
    "\n",
    "🖐 Raise your hand in Zoom\n",
    "\n",
    "👉🏽 Then, click to continue to Notebook 5: [05-complete.ipynb](05-complete.ipynb)"
   ]
  }
 ],
 "metadata": {
  "kernelspec": {
   "display_name": "Python 3 (ipykernel)",
   "language": "python",
   "name": "python3"
  },
  "language_info": {
   "codemirror_mode": {
    "name": "ipython",
    "version": 3
   },
   "file_extension": ".py",
   "mimetype": "text/x-python",
   "name": "python",
   "nbconvert_exporter": "python",
   "pygments_lexer": "ipython3",
   "version": "3.10.3"
  }
 },
 "nbformat": 4,
 "nbformat_minor": 5
}
