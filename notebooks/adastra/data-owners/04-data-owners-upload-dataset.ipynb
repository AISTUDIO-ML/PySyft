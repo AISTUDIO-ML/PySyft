{
 "cells": [
  {
   "cell_type": "markdown",
   "id": "1a72486f-ffbd-4800-bc03-5e6427964faa",
   "metadata": {
    "tags": []
   },
   "source": [
    "# Step 4: Upload a Dataset"
   ]
  },
  {
   "cell_type": "markdown",
   "id": "0484a120-b651-434d-a439-039200c3e9b2",
   "metadata": {
    "tags": []
   },
   "source": [
    "## Setup Variables\n",
    "\n",
    "Before we start let's store some variables that will come in handy later in the notebook."
   ]
  },
  {
   "cell_type": "code",
   "execution_count": 1,
   "id": "8683929a-fbf8-4ade-a7e0-90d35c378675",
   "metadata": {},
   "outputs": [
    {
     "name": "stdout",
     "output_type": "stream",
     "text": [
      "Your DOMAIN_HOST_IP is: 223.177.170.11\n"
     ]
    }
   ],
   "source": [
    "# autodetect the host_ip\n",
    "from utils import auto_detect_domain_host_ip\n",
    "\n",
    "DOMAIN_HOST_IP = auto_detect_domain_host_ip()"
   ]
  },
  {
   "cell_type": "code",
   "execution_count": 2,
   "id": "fa8d9d3d",
   "metadata": {},
   "outputs": [],
   "source": [
    "DOMAIN_HOST_IP=\"localhost\""
   ]
  },
  {
   "cell_type": "code",
   "execution_count": 3,
   "id": "a497bd88-53c9-4bd9-acba-e152b983d383",
   "metadata": {
    "tags": []
   },
   "outputs": [],
   "source": [
    "# Set the email and password of your Domain node.\n",
    "# We will be using the default email and password that got created during Domain creation.\n",
    "\n",
    "ADMIN_EMAIL=\"info@openmined.org\"\n",
    "ADMIN_PASSWORD=\"changethis\""
   ]
  },
  {
   "cell_type": "markdown",
   "id": "78ca2364",
   "metadata": {},
   "source": [
    "## Step 4a: Log into our Domain"
   ]
  },
  {
   "cell_type": "code",
   "execution_count": 4,
   "id": "b923206d",
   "metadata": {},
   "outputs": [
    {
     "name": "stderr",
     "output_type": "stream",
     "text": [
      "/home/shubham/anaconda3/envs/syft/lib/python3.9/site-packages/tqdm/auto.py:22: TqdmWarning: IProgress not found. Please update jupyter and ipywidgets. See https://ipywidgets.readthedocs.io/en/stable/user_install.html\n",
      "  from .autonotebook import tqdm as notebook_tqdm\n"
     ]
    },
    {
     "name": "stdout",
     "output_type": "stream",
     "text": [
      "You're running syft version: 0.7.0-beta.18\n"
     ]
    }
   ],
   "source": [
    "import syft as sy\n",
    "\n",
    "print(f\"You're running syft version: {sy.__version__}\")"
   ]
  },
  {
   "cell_type": "code",
   "execution_count": 5,
   "id": "7f682a99",
   "metadata": {},
   "outputs": [
    {
     "name": "stdout",
     "output_type": "stream",
     "text": [
      "WARNING: CHANGE YOUR USERNAME AND PASSWORD!!! \n",
      "\n",
      "Anyone can login as an admin to your node right now because your password is still the default PySyft username and password!!!\n",
      "\n",
      "Connecting to localhost... done! \t Logging into canada... done!\n",
      "\n",
      "🎉 You successfully connected to your domain!\n"
     ]
    }
   ],
   "source": [
    "# Let's log into the domain using the credentials\n",
    "try:\n",
    "    domain_client = sy.login(\n",
    "        url=DOMAIN_HOST_IP, email=ADMIN_EMAIL, password=ADMIN_PASSWORD, port=8081\n",
    "    )\n",
    "    print()\n",
    "    print(\"🎉 You successfully connected to your domain!\")\n",
    "except Exception as e:\n",
    "    print(\"❌ Unable to connect, did you set the `DOMAIN_HOST_IP` variable above?\")\n",
    "    raise e"
   ]
  },
  {
   "cell_type": "markdown",
   "id": "770bc6e1-8106-4079-a916-1f6fea2bec40",
   "metadata": {},
   "source": [
    "## Step 4b: Creating a Dataset"
   ]
  },
  {
   "cell_type": "markdown",
   "id": "55ad95a9",
   "metadata": {},
   "source": [
    "### MedNIST Dataset\n",
    "\n",
    "We will be using the MedNIST dataset. The MedNIST dataset was gathered from several sets from TCIA, the RSNA Bone Age Challenge, and the NIH Chest X-ray dataset.\n",
    "\n",
    "The dataset is kindly made available by Dr. Bradley J. Erickson M.D., Ph.D. (Department of Radiology, Mayo Clinic) under the Creative Commons CC BY-SA 4.0 license. If you use the MedNIST dataset, please acknowledge the source, e.g. https://colab.research.google.com/drive/1wy8XUSnNWlhDNazFdvGBHLfdkGvOHBKe#scrollTo=ZaHFhidyCBJa\n",
    "\n",
    "Let's move on to download and extract the dataset."
   ]
  },
  {
   "cell_type": "markdown",
   "id": "9d5af725",
   "metadata": {},
   "source": [
    "The dataset has been stored pickle file. Lets download the dataset using the instructions below."
   ]
  },
  {
   "cell_type": "code",
   "execution_count": 6,
   "id": "35e6a8b8-89f4-4849-a1dd-02fc166da76f",
   "metadata": {},
   "outputs": [
    {
     "name": "stdout",
     "output_type": "stream",
     "text": [
      "MedNIST is already downloaded\n"
     ]
    }
   ],
   "source": [
    "# download MedNIST.pkl\n",
    "from utils import download_mednist_dataset\n",
    "\n",
    "download_mednist_dataset()"
   ]
  },
  {
   "cell_type": "markdown",
   "id": "a864da2e",
   "metadata": {},
   "source": [
    "Now, before we move forward, let's store some variables related to the dataset.\n",
    "\n",
    "We require your participant number and the total participant count in the session to allocate you a unique subset of the MedNIST data."
   ]
  },
  {
   "cell_type": "markdown",
   "id": "08c64cc5-4d3c-4251-a790-57c6f3c33f32",
   "metadata": {},
   "source": [
    "### Participant Number"
   ]
  },
  {
   "cell_type": "markdown",
   "id": "2b0834a9-5afd-4f2f-89ef-cade508d3ca4",
   "metadata": {},
   "source": [
    "Copy your variables `MY_PARTICIPANT_NUMBER` and `TOTAL_PARTICIPANTS` from your session details."
   ]
  },
  {
   "cell_type": "markdown",
   "id": "1234a1d7-24b8-46ee-b038-2486a6f62406",
   "metadata": {},
   "source": [
    "```\n",
    "Hi Person,\n",
    "These are your Session Details:\n",
    "-------------------------------\n",
    "Username: azureuser\n",
    "Password: **********\n",
    "VM IP Address: x.x.x.x\n",
    "\n",
    "MY_PARTICIPANT_NUMBER=1\n",
    "TOTAL_PARTICIPANTS=10\n",
    "```"
   ]
  },
  {
   "cell_type": "code",
   "execution_count": 7,
   "id": "d35940e8-82d4-4e23-b4e5-f8744300c3da",
   "metadata": {},
   "outputs": [],
   "source": [
    "# file path where the MedNIST.pkl is downloaded\n",
    "FILE_PATH = \"./MedNIST.pkl\""
   ]
  },
  {
   "cell_type": "code",
   "execution_count": 9,
   "id": "05104edb-4b9c-4608-8e76-b3ebe8a60ba6",
   "metadata": {},
   "outputs": [],
   "source": [
    "# replace these with your own from the session details\n",
    "MY_PARTICIPANT_NUMBER = 1\n",
    "TOTAL_PARTICIPANTS = 10"
   ]
  },
  {
   "cell_type": "markdown",
   "id": "7515311f",
   "metadata": {},
   "source": [
    "### Load the Dataset"
   ]
  },
  {
   "cell_type": "markdown",
   "id": "3b1e2f45",
   "metadata": {},
   "source": [
    "Below are some helper methods, thatwe will require to load the dataset."
   ]
  },
  {
   "cell_type": "code",
   "execution_count": 10,
   "id": "ef5c71ae",
   "metadata": {},
   "outputs": [],
   "source": [
    "# Import helper methods\n",
    "from syft.core.adp.data_subject_list import DataSubjectList\n",
    "from utils import (\n",
    "    get_data_description,\n",
    "    get_label_mapping,\n",
    "    split_into_train_test_val_sets,\n",
    "    load_data_as_df,\n",
    ")"
   ]
  },
  {
   "cell_type": "code",
   "execution_count": 11,
   "id": "6009afa0-5903-4d37-a99a-d39b754c920a",
   "metadata": {},
   "outputs": [
    {
     "name": "stdout",
     "output_type": "stream",
     "text": [
      "Columns: Index(['patient_id', 'image', 'label'], dtype='object')\n",
      "Total Images: 5895\n",
      "Label Mapping {'AbdomenCT': 0, 'BreastMRI': 1, 'CXR': 2, 'ChestCT': 3, 'Hand': 4, 'HeadCT': 5}\n"
     ]
    }
   ],
   "source": [
    "# Let's load the dataset as a dataframe\n",
    "dataset_df = load_data_as_df(MY_PARTICIPANT_NUMBER, TOTAL_PARTICIPANTS, FILE_PATH)"
   ]
  },
  {
   "cell_type": "code",
   "execution_count": 12,
   "id": "6b03793c",
   "metadata": {},
   "outputs": [
    {
     "data": {
      "text/html": [
       "<div>\n",
       "<style scoped>\n",
       "    .dataframe tbody tr th:only-of-type {\n",
       "        vertical-align: middle;\n",
       "    }\n",
       "\n",
       "    .dataframe tbody tr th {\n",
       "        vertical-align: top;\n",
       "    }\n",
       "\n",
       "    .dataframe thead th {\n",
       "        text-align: right;\n",
       "    }\n",
       "</style>\n",
       "<table border=\"1\" class=\"dataframe\">\n",
       "  <thead>\n",
       "    <tr style=\"text-align: right;\">\n",
       "      <th></th>\n",
       "      <th>patient_id</th>\n",
       "      <th>image</th>\n",
       "      <th>label</th>\n",
       "    </tr>\n",
       "  </thead>\n",
       "  <tbody>\n",
       "    <tr>\n",
       "      <th>0</th>\n",
       "      <td>11000</td>\n",
       "      <td>[[101, 101, 101, 101, 101, 101, 101, 101, 101,...</td>\n",
       "      <td>0</td>\n",
       "    </tr>\n",
       "    <tr>\n",
       "      <th>1</th>\n",
       "      <td>11002</td>\n",
       "      <td>[[25, 25, 25, 25, 25, 25, 25, 25, 25, 25, 25, ...</td>\n",
       "      <td>5</td>\n",
       "    </tr>\n",
       "    <tr>\n",
       "      <th>2</th>\n",
       "      <td>11002</td>\n",
       "      <td>[[126, 126, 126, 126, 126, 126, 126, 126, 126,...</td>\n",
       "      <td>3</td>\n",
       "    </tr>\n",
       "    <tr>\n",
       "      <th>3</th>\n",
       "      <td>11004</td>\n",
       "      <td>[[3, 3, 3, 3, 3, 3, 2, 2, 2, 2, 3, 3, 3, 3, 3,...</td>\n",
       "      <td>4</td>\n",
       "    </tr>\n",
       "    <tr>\n",
       "      <th>4</th>\n",
       "      <td>11004</td>\n",
       "      <td>[[101, 101, 101, 101, 101, 101, 101, 101, 101,...</td>\n",
       "      <td>0</td>\n",
       "    </tr>\n",
       "  </tbody>\n",
       "</table>\n",
       "</div>"
      ],
      "text/plain": [
       "   patient_id                                              image  label\n",
       "0       11000  [[101, 101, 101, 101, 101, 101, 101, 101, 101,...      0\n",
       "1       11002  [[25, 25, 25, 25, 25, 25, 25, 25, 25, 25, 25, ...      5\n",
       "2       11002  [[126, 126, 126, 126, 126, 126, 126, 126, 126,...      3\n",
       "3       11004  [[3, 3, 3, 3, 3, 3, 2, 2, 2, 2, 3, 3, 3, 3, 3,...      4\n",
       "4       11004  [[101, 101, 101, 101, 101, 101, 101, 101, 101,...      0"
      ]
     },
     "execution_count": 12,
     "metadata": {},
     "output_type": "execute_result"
    }
   ],
   "source": [
    "# Let's get a peek of the dataset\n",
    "dataset_df.head()"
   ]
  },
  {
   "cell_type": "code",
   "execution_count": 13,
   "id": "db786ca5",
   "metadata": {},
   "outputs": [],
   "source": [
    "# Split the dataset into `train`, `validation` and `test` sets.\n",
    "data_dict = split_into_train_test_val_sets(dataset_df)"
   ]
  },
  {
   "cell_type": "code",
   "execution_count": 14,
   "id": "4ce363b2",
   "metadata": {},
   "outputs": [
    {
     "data": {
      "text/plain": [
       "((4707, 3), (585, 3), (603, 3))"
      ]
     },
     "execution_count": 14,
     "metadata": {},
     "output_type": "execute_result"
    }
   ],
   "source": [
    "data_dict[\"train\"].shape, data_dict[\"val\"].shape, data_dict[\"test\"].shape"
   ]
  },
  {
   "cell_type": "markdown",
   "id": "6a0d7bf0",
   "metadata": {},
   "source": [
    "Get the dataset description, that needs to be provided to the domain while uploading the dataset."
   ]
  },
  {
   "cell_type": "code",
   "execution_count": 15,
   "id": "47807e56",
   "metadata": {},
   "outputs": [
    {
     "name": "stdout",
     "output_type": "stream",
     "text": [
      "The MedNIST dataset was gathered from several sets from TCIA, the RSNA Bone Age Challenge, and the NIH Chest X-ray dataset. The dataset is kindly made available by Dr. Bradley J. Erickson M.D., Ph.D. (Department of Radiology, Mayo Clinic) under the Creative Commons CC BY-SA 4.0 license.\n",
      "Label Count: 6\n",
      "Label Mapping: {\"AbdomenCT\": 0, \"BreastMRI\": 1, \"CXR\": 2, \"ChestCT\": 3, \"Hand\": 4, \"HeadCT\": 5}\n",
      "Image Dimensions: (64, 64)\n",
      "Total Images: 5895\n",
      "\n"
     ]
    }
   ],
   "source": [
    "dataset_description = get_data_description(dataset_df)\n",
    "print(dataset_description)"
   ]
  },
  {
   "cell_type": "markdown",
   "id": "b0fb9e23",
   "metadata": {},
   "source": [
    "We can see that dataset description contains a brief info about the dataset and also a few meta information related to the dataset."
   ]
  },
  {
   "cell_type": "markdown",
   "id": "da69b7c3",
   "metadata": {},
   "source": [
    "### Prepare Dataset for Upload"
   ]
  },
  {
   "cell_type": "markdown",
   "id": "5cc10b07",
   "metadata": {},
   "source": [
    "In the next step we will create assets for our datasets. Asset is a collection of private data. In our case the images and labels in the train, val and test sets will be part of the assets."
   ]
  },
  {
   "cell_type": "code",
   "execution_count": 16,
   "id": "2d2c2ab5",
   "metadata": {},
   "outputs": [],
   "source": [
    "import numpy as np\n",
    "\n",
    "assets = dict()\n",
    "\n",
    "for name, data in data_dict.items():\n",
    "\n",
    "    # Let's create data subjects list.\n",
    "    # Data Subjects are the individuals whose privacy we're trying to protect.\n",
    "    data_subjects = DataSubjectList.from_series(data[\"patient_id\"])\n",
    "\n",
    "    # Convert images to numpy int64 array\n",
    "    images = data[\"image\"]\n",
    "    images = np.dstack(images.values).astype(np.int64)\n",
    "    images = np.rollaxis(images, -1)\n",
    "\n",
    "    # Convert labels to numpy int64 array\n",
    "    labels = data[\"label\"].to_numpy().astype(\"int64\")\n",
    "\n",
    "    # Next we will make your data private private with min, max and data subjects.\n",
    "    # The min and max are minimum and maximum value in the given data.\n",
    "\n",
    "    # converting images to private data\n",
    "    image_data = sy.Tensor(images).private(\n",
    "        min_val=0, max_val=255, data_subjects=data_subjects\n",
    "    )\n",
    "\n",
    "    # converting labels to private data\n",
    "    label_data = sy.Tensor(labels).private(\n",
    "        min_val=0, max_val=5, data_subjects=data_subjects\n",
    "    )\n",
    "\n",
    "    assets[f\"{name}_images\"] = image_data\n",
    "    assets[f\"{name}_labels\"] = label_data"
   ]
  },
  {
   "cell_type": "markdown",
   "id": "11bc8fd6",
   "metadata": {},
   "source": [
    "Finally, we will upload the assets to the domain."
   ]
  },
  {
   "cell_type": "markdown",
   "id": "297660f6-a229-43ef-b52a-1e131d44261a",
   "metadata": {},
   "source": [
    "## Step 4c: Upload the Dataset"
   ]
  },
  {
   "cell_type": "code",
   "execution_count": 17,
   "id": "9b8df79f",
   "metadata": {},
   "outputs": [],
   "source": [
    "# creating/uploading the dataset\n",
    "# Name of the dataset\n",
    "\n",
    "name = f\"MedNIST Data {MY_PARTICIPANT_NUMBER}/{TOTAL_PARTICIPANTS}\""
   ]
  },
  {
   "cell_type": "code",
   "execution_count": 18,
   "id": "ef4be075-2712-4e97-94a2-9547a33464da",
   "metadata": {},
   "outputs": [
    {
     "name": "stdout",
     "output_type": "stream",
     "text": [
      "Loading dataset...\r",
      "Loading dataset... checking assets...\r",
      "Loading dataset... checking dataset name for uniqueness...\r",
      "Loading dataset... checking dataset name for uniqueness...                                                                                                                    \r",
      "Loading dataset... checking asset types...                              \r",
      "Loading dataset... uploading...🚀                        "
     ]
    },
    {
     "name": "stderr",
     "output_type": "stream",
     "text": [
      "kj/filesystem-disk-unix.c++:1690: warning: PWD environment variable doesn't match current directory; pwd = /home/shubham/PySyft\n",
      "Uploading `train_images`: 100%|\u001b[32m███████████████████████████████████████\u001b[0m| 1/1 [00:00<00:00, 16.13it/s]\u001b[0m\n",
      "Uploading `train_labels`: 100%|\u001b[32m██████████████████████████████████████\u001b[0m| 1/1 [00:00<00:00, 169.51it/s]\u001b[0m\n",
      "Uploading `val_images`: 100%|\u001b[32m█████████████████████████████████████████\u001b[0m| 1/1 [00:00<00:00, 48.54it/s]\u001b[0m\n",
      "Uploading `val_labels`: 100%|\u001b[32m████████████████████████████████████████\u001b[0m| 1/1 [00:00<00:00, 163.22it/s]\u001b[0m\n",
      "Uploading `test_images`: 100%|\u001b[32m████████████████████████████████████████\u001b[0m| 1/1 [00:00<00:00, 48.42it/s]\u001b[0m\n",
      "Uploading `test_labels`: 100%|\u001b[32m███████████████████████████████████████\u001b[0m| 1/1 [00:00<00:00, 212.03it/s]\u001b[0m\n"
     ]
    },
    {
     "name": "stdout",
     "output_type": "stream",
     "text": [
      "\r",
      "Dataset is uploaded successfully !!! 🎉\n",
      "\n",
      "Run `<your client variable>.datasets` to see your new dataset loaded into your machine!\n"
     ]
    }
   ],
   "source": [
    "# upload the MedNIST data\n",
    "domain_client.load_dataset(\n",
    "    assets=assets, name=name, description=dataset_description, use_blob_storage=True\n",
    ")"
   ]
  },
  {
   "cell_type": "markdown",
   "id": "ba5c03e4",
   "metadata": {},
   "source": [
    "Now let's check if the dataset we successfully uploaded"
   ]
  },
  {
   "cell_type": "code",
   "execution_count": 19,
   "id": "f43b1d7b-579f-4cb9-b5f6-8dab895d8111",
   "metadata": {},
   "outputs": [
    {
     "data": {
      "text/html": [
       "<style>\n",
       "                #myInput {\n",
       "                  background-position: 10px 12px; /* Position the search icon */\n",
       "                  background-repeat: no-repeat; /* Do not repeat the icon image */\n",
       "                  background-color: #bbb;\n",
       "                  width: 98%; /* Full-width */\n",
       "                  font-size: 14px; /* Increase font-size */\n",
       "                  padding: 12px 20px 12px 40px; /* Add some padding */\n",
       "                  border: 1px solid #ddd; /* Add a grey border */\n",
       "                  margin-bottom: 12px; /* Add some space below the input */\n",
       "                }\n",
       "\n",
       "                #myTable {\n",
       "                  border-collapse: collapse; /* Collapse borders */\n",
       "                  width: 100%; /* Full-width */\n",
       "                  border: 1px solid #ddd; /* Add a grey border */\n",
       "                  font-size: 14px; /* Increase font-size */\n",
       "                }\n",
       "\n",
       "                #myTable th, #myTable td {\n",
       "                  text-align: left; /* Left-align text */\n",
       "                  padding: 10px; /* Add padding */\n",
       "                }\n",
       "\n",
       "                #myTable tr {\n",
       "                  /* Add a bottom border to all table rows */\n",
       "                  border-bottom: 1px solid #ddd;\n",
       "                }\n",
       "\n",
       "                #myTable tr.header, #myTable tr:hover {\n",
       "                  /* Add a grey background color to the table header and on hover */\n",
       "                  background-color: #777;\n",
       "                }\n",
       "                </style>\n",
       "\n",
       "                <table id=\"myTable\" style=\"width:1000px\">\n",
       "                  <tr class=\"header\">\n",
       "                    <th style=\"width:30px\">Idx</th>\n",
       "                    <th style=\"width:20%;\">Name</th>\n",
       "                    <th style=\"width:35%;\">Description</th>\n",
       "                    <th style=\"width:20%;\">Assets</th>\n",
       "                    <th style=\"width:300px;\">Id</th>\n",
       "                  </tr>\n",
       "                \n",
       "\n",
       "          <tr>\n",
       "            <td>[0]</td>\n",
       "            <td>MedNIST Data 6/10</td>\n",
       "            <td>The MedNIST dataset was gathered from several sets from TCIA,\n",
       "    the RSNA Bone Age Challenge, and the NIH Chest X-ray dataset.\n",
       "    The dataset is kindly made available by Dr. Bradley J. Erickson M.D., Ph.D. (Department of Radiology, Mayo Clinic)\n",
       "    under the Creative Commons CC BY-SA 4.0 license.\n",
       "Label Count: 6\n",
       "Label Mapping: {\"AbdomenCT\": 0, \"BreastMRI\": 1, \"CXR\": 2, \"ChestCT\": 3, \"Hand\": 4, \"HeadCT\": 5}\n",
       "Image Dimensions: (64, 64)\n",
       "Total Images: 5895\n",
       "</td>\n",
       "            <td>[\"train_images\"] -> <class 'syft.core.tensor.tensor.Tensor'><br /><br />[\"train_labels\"] -> <class 'syft.core.tensor.tensor.Tensor'><br /><br />[\"val_images\"] -> <class 'syft.core.tensor.tensor.Tensor'><br /><br />...<br /><br /></td>\n",
       "            <td>05bb34a0-5b24-4071-92ed-d7e9d18e1289</td>\n",
       "          </tr>\n",
       "\n",
       "          <tr>\n",
       "            <td>[1]</td>\n",
       "            <td>MedNIST Data 1/10</td>\n",
       "            <td>The MedNIST dataset was gathered from several sets from TCIA, the RSNA Bone Age Challenge, and the NIH Chest X-ray dataset. The dataset is kindly made available by Dr. Bradley J. Erickson M.D., Ph.D. (Department of Radiology, Mayo Clinic) under the Creative Commons CC BY-SA 4.0 license.\n",
       "Label Count: 6\n",
       "Label Mapping: {\"AbdomenCT\": 0, \"BreastMRI\": 1, \"CXR\": 2, \"ChestCT\": 3, \"Hand\": 4, \"HeadCT\": 5}\n",
       "Image Dimensions: (64, 64)\n",
       "Total Images: 5895\n",
       "</td>\n",
       "            <td>[\"train_images\"] -> <class 'syft.core.tensor.tensor.Tensor'><br /><br />[\"train_labels\"] -> <class 'syft.core.tensor.tensor.Tensor'><br /><br />[\"val_images\"] -> <class 'syft.core.tensor.tensor.Tensor'><br /><br />...<br /><br /></td>\n",
       "            <td>83078e03-01a5-4ae6-95fc-e89433acb519</td>\n",
       "          </tr>\n",
       "        </table>\n",
       "\n",
       "        <script>\n",
       "        function myFunction() {\n",
       "          // Declare variables\n",
       "          var input, filter, table, tr, td, i, txtValue;\n",
       "          input = document.getElementById(\"myInput\");\n",
       "          filter = input.value.toUpperCase();\n",
       "          table = document.getElementById(\"myTable\");\n",
       "          tr = table.getElementsByTagName(\"tr\");\n",
       "\n",
       "          // Loop through all table rows, and hide those who don't match the search query\n",
       "          for (i = 0; i < tr.length; i++) {\n",
       "            name_td = tr[i].getElementsByTagName(\"td\")[1];\n",
       "            desc_td = tr[i].getElementsByTagName(\"td\")[2];\n",
       "            asset_td = tr[i].getElementsByTagName(\"td\")[3];\n",
       "            id_td = tr[i].getElementsByTagName(\"td\")[4];\n",
       "            if (name_td || desc_td || asset_td || id_td) {\n",
       "              name_txtValue = name_td.textContent || name_td.innerText;\n",
       "              desc_txtValue = desc_td.textContent || name_td.innerText;\n",
       "              asset_txtValue = asset_td.textContent || name_td.innerText;\n",
       "              id_txtValue = id_td.textContent || name_td.innerText;\n",
       "              name_bool = name_txtValue.toUpperCase().indexOf(filter) > -1;\n",
       "              desc_bool = desc_txtValue.toUpperCase().indexOf(filter) > -1;\n",
       "              asset_bool = asset_txtValue.toUpperCase().indexOf(filter) > -1;\n",
       "              id_bool = id_txtValue.toUpperCase().indexOf(filter) > -1;\n",
       "              if (name_bool || desc_bool || asset_bool || id_bool) {\n",
       "                tr[i].style.display = \"\";\n",
       "              } else {\n",
       "                tr[i].style.display = \"none\";\n",
       "              }\n",
       "            }\n",
       "          }\n",
       "        }\n",
       "        </script>"
      ],
      "text/plain": [
       "<syft.core.node.common.client_manager.dataset_api.DatasetRequestAPI at 0x7fbc781be100>"
      ]
     },
     "execution_count": 19,
     "metadata": {},
     "output_type": "execute_result"
    }
   ],
   "source": [
    "domain_client.datasets"
   ]
  },
  {
   "cell_type": "code",
   "execution_count": 20,
   "id": "991e5bb1",
   "metadata": {},
   "outputs": [
    {
     "name": "stdout",
     "output_type": "stream",
     "text": [
      "Dataset: MedNIST Data 6/10\n",
      "Description: The MedNIST dataset was gathered from several sets from TCIA,\n",
      "    the RSNA Bone Age Challenge, and the NIH Chest X-ray dataset.\n",
      "    The dataset is kindly made available by Dr. Bradley J. Erickson M.D., Ph.D. (Department of Radiology, Mayo Clinic)\n",
      "    under the Creative Commons CC BY-SA 4.0 license.\n",
      "Label Count: 6\n",
      "Label Mapping: {\"AbdomenCT\": 0, \"BreastMRI\": 1, \"CXR\": 2, \"ChestCT\": 3, \"Hand\": 4, \"HeadCT\": 5}\n",
      "Image Dimensions: (64, 64)\n",
      "Total Images: 5895\n",
      "\n",
      "\n"
     ]
    },
    {
     "data": {
      "text/html": [
       "<style>\n",
       "        #myInput {\n",
       "          background-position: 10px 12px; /* Position the search icon */\n",
       "          background-repeat: no-repeat; /* Do not repeat the icon image */\n",
       "          background-color: #bbb;\n",
       "          width: 98%; /* Full-width */\n",
       "          font-size: 14px; /* Increase font-size */\n",
       "          padding: 12px 20px 12px 40px; /* Add some padding */\n",
       "          border: 1px solid #ddd; /* Add a grey border */\n",
       "          margin-bottom: 12px; /* Add some space below the input */\n",
       "        }\n",
       "\n",
       "        #myTable {\n",
       "          border-collapse: collapse; /* Collapse borders */\n",
       "          width: 50%; /* Full-width */\n",
       "          border: 1px solid #ddd; /* Add a grey border */\n",
       "          font-size: 14px; /* Increase font-size */\n",
       "        }\n",
       "\n",
       "        #myTable th, #myTable td {\n",
       "          text-align: left; /* Left-align text */\n",
       "          padding: 10px; /* Add padding */\n",
       "        }\n",
       "\n",
       "        #myTable tr {\n",
       "          /* Add a bottom border to all table rows */\n",
       "          border-bottom: 1px solid #ddd;\n",
       "        }\n",
       "\n",
       "        #myTable tr.header, #myTable tr:hover {\n",
       "          /* Add a grey background color to the table header and on hover */\n",
       "          background-color: #777;\n",
       "        }\n",
       "        </style>\n",
       "\n",
       "        <table id=\"myTable\">\n",
       "          <tr class=\"header\">\n",
       "            <th style=\"width:15%;\">Asset Key</th>\n",
       "            <th style=\"width:20%;\">Type</th>\n",
       "            <th style=\"width:10%;\">Shape</th>\n",
       "          </tr>\n",
       "        \n",
       "\n",
       "              <tr>\n",
       "            <td>[\"train_images\"]</td>\n",
       "            <td><class 'syft.core.tensor.tensor.Tensor'></td>\n",
       "            <td>(4722, 64, 64)</td>\n",
       "          </tr>\n",
       "\n",
       "              <tr>\n",
       "            <td>[\"train_labels\"]</td>\n",
       "            <td><class 'syft.core.tensor.tensor.Tensor'></td>\n",
       "            <td>(4722,)</td>\n",
       "          </tr>\n",
       "\n",
       "              <tr>\n",
       "            <td>[\"val_images\"]</td>\n",
       "            <td><class 'syft.core.tensor.tensor.Tensor'></td>\n",
       "            <td>(588, 64, 64)</td>\n",
       "          </tr>\n",
       "\n",
       "              <tr>\n",
       "            <td>[\"val_labels\"]</td>\n",
       "            <td><class 'syft.core.tensor.tensor.Tensor'></td>\n",
       "            <td>(588,)</td>\n",
       "          </tr>\n",
       "\n",
       "              <tr>\n",
       "            <td>[\"test_images\"]</td>\n",
       "            <td><class 'syft.core.tensor.tensor.Tensor'></td>\n",
       "            <td>(585, 64, 64)</td>\n",
       "          </tr>\n",
       "\n",
       "              <tr>\n",
       "            <td>[\"test_labels\"]</td>\n",
       "            <td><class 'syft.core.tensor.tensor.Tensor'></td>\n",
       "            <td>(585,)</td>\n",
       "          </tr>\n",
       "        </table>\n",
       "\n",
       "        "
      ],
      "text/plain": [
       "<syft.core.node.common.client_manager.dataset_api.Dataset at 0x7fbc781be820>"
      ]
     },
     "execution_count": 20,
     "metadata": {},
     "output_type": "execute_result"
    }
   ],
   "source": [
    "domain_client.datasets[0]"
   ]
  },
  {
   "cell_type": "markdown",
   "id": "ee7c4aa2-1833-49c6-8fa1-92421f156961",
   "metadata": {},
   "source": [
    "## Step 4d: Create a Data Scientist Account"
   ]
  },
  {
   "cell_type": "code",
   "execution_count": 21,
   "id": "b2878747-ff5c-4805-b069-1c4e283d2a5c",
   "metadata": {},
   "outputs": [],
   "source": [
    "data_scientist_details = {\n",
    "    \"name\": \"Samantha Carter\",\n",
    "    \"email\": \"sam@sg1.net\",\n",
    "    \"password\": \"stargate\",\n",
    "    \"budget\": 9999,\n",
    "}"
   ]
  },
  {
   "cell_type": "code",
   "execution_count": 22,
   "id": "781c9baf-9715-46cb-bc64-790597a369f3",
   "metadata": {},
   "outputs": [],
   "source": [
    "domain_client.users.create(**data_scientist_details)"
   ]
  },
  {
   "cell_type": "code",
   "execution_count": 23,
   "id": "f5aec7e8-29d8-48b4-89d2-80a2252558ad",
   "metadata": {},
   "outputs": [
    {
     "name": "stdout",
     "output_type": "stream",
     "text": [
      "Please give these details to the data scientist 👇🏽\n",
      "\n",
      "{'url': 'localhost', 'name': 'Samantha Carter', 'email': 'sam@sg1.net', 'password': 'stargate', 'dataset_name': 'MedNIST Data 1/10'}\n"
     ]
    }
   ],
   "source": [
    "print(\"Please give these details to the data scientist 👇🏽\")\n",
    "login_details = {}\n",
    "login_details[\"url\"] = DOMAIN_HOST_IP\n",
    "login_details[\"name\"] = data_scientist_details[\"name\"]\n",
    "login_details[\"email\"] = data_scientist_details[\"email\"]\n",
    "login_details[\"password\"] = data_scientist_details[\"password\"]\n",
    "login_details[\"dataset_name\"] = name\n",
    "print()\n",
    "print(login_details)"
   ]
  },
  {
   "cell_type": "code",
   "execution_count": null,
   "id": "106b8985-3694-43d2-aac5-2285941b2235",
   "metadata": {},
   "outputs": [],
   "source": []
  }
 ],
 "metadata": {
  "kernelspec": {
   "display_name": "Python 3 (ipykernel)",
   "language": "python",
   "name": "python3"
  },
  "language_info": {
   "codemirror_mode": {
    "name": "ipython",
    "version": 3
   },
   "file_extension": ".py",
   "mimetype": "text/x-python",
   "name": "python",
   "nbconvert_exporter": "python",
   "pygments_lexer": "ipython3",
   "version": "3.9.7"
  }
 },
 "nbformat": 4,
 "nbformat_minor": 5
}
