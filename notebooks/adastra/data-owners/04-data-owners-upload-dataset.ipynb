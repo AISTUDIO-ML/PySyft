{
 "cells": [
  {
   "cell_type": "markdown",
   "id": "1a72486f-ffbd-4800-bc03-5e6427964faa",
   "metadata": {
    "tags": []
   },
   "source": [
    "# Step 4: Upload a Dataset"
   ]
  },
  {
   "cell_type": "markdown",
   "id": "0484a120-b651-434d-a439-039200c3e9b2",
   "metadata": {
    "tags": []
   },
   "source": [
    "## Setup Variables\n",
    "\n",
    "Before we start let's store some variables that will come in handy later in the notebook."
   ]
  },
  {
   "cell_type": "code",
   "execution_count": null,
   "id": "8683929a-fbf8-4ade-a7e0-90d35c378675",
   "metadata": {},
   "outputs": [],
   "source": [
    "# autodetect the host_ip\n",
    "CURL_OUTPUT=!echo $(curl -s ifconfig.co)\n",
    "DOMAIN_HOST_IP=\"\"\n",
    "import sys\n",
    "if \"google.colab\" not in sys.modules:\n",
    "    DOMAIN_HOST_IP=CURL_OUTPUT[0]\n",
    "    print(f\"Your DOMAIN_HOST_IP is: {DOMAIN_HOST_IP}\")\n",
    "else:\n",
    "    print(f\"Google Colab detected, please manually set the DOMAIN_HOST_IP variable\")"
   ]
  },
  {
   "cell_type": "code",
   "execution_count": null,
   "id": "a497bd88-53c9-4bd9-acba-e152b983d383",
   "metadata": {
    "tags": []
   },
   "outputs": [],
   "source": [
    "# Set the email and password of your Domain node.\n",
    "# We will be using the default email and password that got created during Domain creation.\n",
    "# Please update the email and password below incase you update them.\n",
    "\n",
    "ADMIN_EMAIL=\"info@openmined.org\"\n",
    "ADMIN_PASSWORD=\"changethis\""
   ]
  },
  {
   "cell_type": "markdown",
   "id": "770bc6e1-8106-4079-a916-1f6fea2bec40",
   "metadata": {},
   "source": [
    "## Step 4a: Creating a Dataset"
   ]
  },
  {
   "cell_type": "markdown",
   "id": "55ad95a9",
   "metadata": {},
   "source": [
    "### MedNIST Dataset\n",
    "\n",
    "We will be using the MedNIST dataset. The MedNIST dataset was gathered from several sets from TCIA, the RSNA Bone Age Challenge, and the NIH Chest X-ray dataset.\n",
    "\n",
    "The dataset is kindly made available by Dr. Bradley J. Erickson M.D., Ph.D. (Department of Radiology, Mayo Clinic) under the Creative Commons CC BY-SA 4.0 license. If you use the MedNIST dataset, please acknowledge the source, e.g. https://colab.research.google.com/drive/1wy8XUSnNWlhDNazFdvGBHLfdkGvOHBKe#scrollTo=ZaHFhidyCBJa\n",
    "\n",
    "Let's move on to download and extract the dataset."
   ]
  },
  {
   "cell_type": "markdown",
   "id": "9d5af725",
   "metadata": {},
   "source": [
    "The dataset has been stored pickle file. Lets download the dataset using the instructions below."
   ]
  },
  {
   "cell_type": "code",
   "execution_count": null,
   "id": "35e6a8b8-89f4-4849-a1dd-02fc166da76f",
   "metadata": {},
   "outputs": [],
   "source": [
    "# download MedNIST.pkl\n",
    "if not os.path.exists(\"./MedNIST.pkl\"):\n",
    "    os.system('curl -O \"https://media.githubusercontent.com/media/shubham3121/datasets/main/MedNIST/MedNIST.pkl\"')\n",
    "else:\n",
    "    print(\"MedNIST already downloaded\")"
   ]
  },
  {
   "cell_type": "markdown",
   "id": "a864da2e",
   "metadata": {},
   "source": [
    "Now, before we move forward, let's store some variables related to the dataset.\n",
    "\n",
    "We require your participant number and the total participant count in the session to allocate you a unique subset of the MedNIST data."
   ]
  },
  {
   "cell_type": "markdown",
   "id": "08c64cc5-4d3c-4251-a790-57c6f3c33f32",
   "metadata": {},
   "source": [
    "### Participant Number"
   ]
  },
  {
   "cell_type": "markdown",
   "id": "2b0834a9-5afd-4f2f-89ef-cade508d3ca4",
   "metadata": {},
   "source": [
    "Copy your variables `MY_PARTICIPANT_NUMBER` and `TOTAL_PARTICIPANTS` from your session details."
   ]
  },
  {
   "cell_type": "markdown",
   "id": "1234a1d7-24b8-46ee-b038-2486a6f62406",
   "metadata": {},
   "source": [
    "```\n",
    "Hi Person,\n",
    "These are your Session Details:\n",
    "-------------------------------\n",
    "Username: azureuser\n",
    "Password: **********\n",
    "VM IP Address: x.x.x.x\n",
    "\n",
    "MY_PARTICIPANT_NUMBER=1\n",
    "TOTAL_PARTICIPANTS=10\n",
    "```"
   ]
  },
  {
   "cell_type": "code",
   "execution_count": null,
   "id": "d35940e8-82d4-4e23-b4e5-f8744300c3da",
   "metadata": {},
   "outputs": [],
   "source": [
    "# file path where the MedNIST.pkl is downloaded\n",
    "FILE_PATH = \"./MedNIST.pkl\""
   ]
  },
  {
   "cell_type": "code",
   "execution_count": null,
   "id": "05104edb-4b9c-4608-8e76-b3ebe8a60ba6",
   "metadata": {},
   "outputs": [],
   "source": [
    "# replace these with your own from the session details\n",
    "MY_PARTICIPANT_NUMBER = 1\n",
    "TOTAL_PARTICIPANTS = 10"
   ]
  },
  {
   "cell_type": "markdown",
   "id": "7515311f",
   "metadata": {},
   "source": [
    "### Load the Dataset"
   ]
  },
  {
   "cell_type": "markdown",
   "id": "3b1e2f45",
   "metadata": {},
   "source": [
    "Below are some helper methods, thatwe will require to load the dataset."
   ]
  },
  {
   "cell_type": "code",
   "execution_count": null,
   "id": "ef5c71ae",
   "metadata": {},
   "outputs": [],
   "source": [
    "# Helper Methods\n",
    "\n",
    "import os\n",
    "import json\n",
    "import pandas as pd\n",
    "from PIL import Image\n",
    "from enum import Enum\n",
    "from collections import defaultdict\n",
    "import numpy as np\n",
    "from syft.core.adp.data_subject_list import DataSubjectList\n",
    "\n",
    "\n",
    "def get_label_mapping():\n",
    "    # the data uses the following mapping\n",
    "    mapping = {\n",
    "        \"AbdomenCT\": 0, \n",
    "        \"BreastMRI\": 1, \n",
    "        \"CXR\": 2, \n",
    "        \"ChestCT\": 3, \n",
    "        \"Hand\": 4, \n",
    "        \"HeadCT\": 5\n",
    "    }\n",
    "    return mapping\n",
    "\n",
    "def load_data_as_df(file_path=\"./MedNIST.pkl\"):\n",
    "    df = pd.read_pickle(file_path)\n",
    "    df.sort_values(\"patient_id\", inplace=True, ignore_index=True)\n",
    "    \n",
    "    # Calculate start and end index based on your participant number\n",
    "    batch_size = df.shape[0] // TOTAL_PARTICIPANTS\n",
    "    start_idx = (MY_PARTICIPANT_NUMBER - 1) * batch_size\n",
    "    end_idx = start_idx + batch_size\n",
    "    \n",
    "    # Slice the dataframe according\n",
    "    df = df[start_idx: end_idx]\n",
    "    \n",
    "    # Get label mapping\n",
    "    mapping = get_label_mapping()\n",
    "    \n",
    "    total_num = df.shape[0]\n",
    "    print(\"Columns:\", df.columns)\n",
    "    print(\"Total Images:\", total_num)\n",
    "    print(\"Label Mapping\", mapping)\n",
    "    return df\n",
    "\n",
    "def get_data_description(data):\n",
    "    unique_label_cnt = data.label.nunique()\n",
    "    lable_mapping = json.dumps(get_label_mapping())\n",
    "    image_size = data.iloc[0][\"image\"].shape\n",
    "    description = f\"The MedNIST dataset was gathered from several sets from TCIA, the RSNA Bone Age Challenge, and the NIH Chest X-ray dataset. The dataset is kindly made available by Dr. Bradley J. Erickson M.D., Ph.D. (Department of Radiology, Mayo Clinic) under the Creative Commons CC BY-SA 4.0 license.\\n\"\n",
    "    description += f\"Label Count: {unique_label_cnt}\\n\"\n",
    "    description += f\"Label Mapping: {lable_mapping}\\n\"\n",
    "    description += f\"Image Dimensions: {image_size}\\n\"\n",
    "    description += f\"Total Images: {data.shape[0]}\\n\"\n",
    "    return description"
   ]
  },
  {
   "cell_type": "code",
   "execution_count": null,
   "id": "6009afa0-5903-4d37-a99a-d39b754c920a",
   "metadata": {},
   "outputs": [],
   "source": [
    "# Let's load the dataset as a dataframe\n",
    "dataset_df = load_data_as_df(FILE_PATH)"
   ]
  },
  {
   "cell_type": "code",
   "execution_count": null,
   "id": "06960e2e",
   "metadata": {},
   "outputs": [],
   "source": [
    "# Let's get a peek of the dataset\n",
    "dataset_df.head()"
   ]
  },
  {
   "cell_type": "markdown",
   "id": "6a0d7bf0",
   "metadata": {},
   "source": [
    "Get the dataset description, that needs to be provided to the domain while uploading the dataset."
   ]
  },
  {
   "cell_type": "code",
   "execution_count": null,
   "id": "47807e56",
   "metadata": {},
   "outputs": [],
   "source": [
    "dataset_description = get_data_description(dataset_df)\n",
    "print(dataset_description)"
   ]
  },
  {
   "cell_type": "markdown",
   "id": "b0fb9e23",
   "metadata": {},
   "source": [
    "We can see that dataset description contains a brief info about the dataset and also a few meta information related to the dataset."
   ]
  },
  {
   "cell_type": "markdown",
   "id": "da69b7c3",
   "metadata": {},
   "source": [
    "### Prepare Dataset for Upload"
   ]
  },
  {
   "cell_type": "markdown",
   "id": "5cc10b07",
   "metadata": {},
   "source": [
    "Let's create data subjects list. Data Subjects are the individuals whose privacy we're trying to protect. Here the patients are the data subjects."
   ]
  },
  {
   "cell_type": "code",
   "execution_count": null,
   "id": "31bcedde-1de3-4897-9a0e-6b33dab141da",
   "metadata": {},
   "outputs": [],
   "source": [
    "data_subjects = DataSubjectList.from_series(dataset_df['patient_id'])"
   ]
  },
  {
   "cell_type": "markdown",
   "id": "1f9015d5",
   "metadata": {},
   "source": [
    "Next we need to convert our image and label data to numpy array of type **int64**."
   ]
  },
  {
   "cell_type": "code",
   "execution_count": null,
   "id": "bbb68475",
   "metadata": {},
   "outputs": [],
   "source": [
    "# Convert images to numpy int64 array\n",
    "images = dataset_df['image']\n",
    "images = np.dstack(images.values).astype(np.int64)\n",
    "images = np.rollaxis(images,-1)"
   ]
  },
  {
   "cell_type": "code",
   "execution_count": null,
   "id": "d178684c",
   "metadata": {},
   "outputs": [],
   "source": [
    "# Convert labels to numpy int64 array\n",
    "labels = dataset_df['label'].to_numpy().astype(\"int64\")"
   ]
  },
  {
   "cell_type": "markdown",
   "id": "093521f0",
   "metadata": {},
   "source": [
    "Next we will make your data private private with min, max and data subjects. The min and max are minimum and maximum value in the given data."
   ]
  },
  {
   "cell_type": "code",
   "execution_count": null,
   "id": "fee38f31",
   "metadata": {},
   "outputs": [],
   "source": [
    "# converting images to private data\n",
    "image_data = sy.Tensor(images).private(min_val=0, max_val=255, data_subjects=data_subjects)"
   ]
  },
  {
   "cell_type": "code",
   "execution_count": null,
   "id": "1632d9b8",
   "metadata": {},
   "outputs": [],
   "source": [
    "# converting labels to private data\n",
    "label_data = sy.Tensor(labels).private(min_val=0, max_val=5, data_subjects=data_subjects)"
   ]
  },
  {
   "cell_type": "markdown",
   "id": "11bc8fd6",
   "metadata": {},
   "source": [
    "Finally, we will upload the images and labels to the domain."
   ]
  },
  {
   "cell_type": "code",
   "execution_count": null,
   "id": "bc2e9b0d-eade-4680-9c34-bccfac99e814",
   "metadata": {},
   "outputs": [],
   "source": [
    "# creating/uploading the dataset\n",
    "\n",
    "# Name of the dataset\n",
    "name = f\"MedNIST Data {MY_PARTICIPANT_NUMBER}/{TOTAL_PARTICIPANTS}\""
   ]
  },
  {
   "cell_type": "markdown",
   "id": "e74e3015-f0f8-4942-9fdd-a090d8bad0c9",
   "metadata": {},
   "source": [
    "## Step 4b: Log into our Domain"
   ]
  },
  {
   "cell_type": "code",
   "execution_count": null,
   "id": "639da3b9-1198-4e48-bd81-99f8f1c60f8d",
   "metadata": {},
   "outputs": [],
   "source": [
    "# install syft if we are on google colab\n",
    "import sys, os; os.system(\"pip install --pre syft\") if \"google.colab\" in sys.modules else \"\"\n",
    "import syft as sy\n",
    "print(f\"You're running syft version: {sy.__version__}\")"
   ]
  },
  {
   "cell_type": "code",
   "execution_count": null,
   "id": "25235262-47dd-4e16-8d31-d2abefb1b17e",
   "metadata": {},
   "outputs": [],
   "source": [
    "# Let's log into the domain using the credentials\n",
    "try:\n",
    "    domain_client = sy.login(url=DOMAIN_HOST_IP, email=ADMIN_EMAIL, password=ADMIN_PASSWORD)\n",
    "    print()\n",
    "    print(\"🎉 You successfully connected to your domain!\")\n",
    "except Exception as e:\n",
    "    print(\"❌ Unable to connect, did you set the `DOMAIN_HOST_IP` variable above?\")\n",
    "    raise e"
   ]
  },
  {
   "cell_type": "markdown",
   "id": "297660f6-a229-43ef-b52a-1e131d44261a",
   "metadata": {},
   "source": [
    "## Step 4c: Upload the Dataset"
   ]
  },
  {
   "cell_type": "code",
   "execution_count": null,
   "id": "ef4be075-2712-4e97-94a2-9547a33464da",
   "metadata": {},
   "outputs": [],
   "source": [
    "# upload the MedNIST data\n",
    "domain_client.load_dataset(\n",
    "    assets={\"images\": image_data, \"labels\": label_data},\n",
    "    name=name,\n",
    "    description=dataset_description,\n",
    "    use_blob_storage=True\n",
    ")"
   ]
  },
  {
   "cell_type": "markdown",
   "id": "ba5c03e4",
   "metadata": {},
   "source": [
    "Now let's check if the dataset we successfully uploaded"
   ]
  },
  {
   "cell_type": "code",
   "execution_count": null,
   "id": "f43b1d7b-579f-4cb9-b5f6-8dab895d8111",
   "metadata": {},
   "outputs": [],
   "source": [
    "domain_client.datasets"
   ]
  },
  {
   "cell_type": "markdown",
   "id": "ee7c4aa2-1833-49c6-8fa1-92421f156961",
   "metadata": {},
   "source": [
    "## Step 4d: Create a Data Scientist Account"
   ]
  },
  {
   "cell_type": "code",
   "execution_count": null,
   "id": "b2878747-ff5c-4805-b069-1c4e283d2a5c",
   "metadata": {},
   "outputs": [],
   "source": [
    "data_scientist_details = {\n",
    "    \"name\": \"Samantha Carter\",\n",
    "    \"email\": \"sam@sg1.net\",\n",
    "    \"password\": \"stargate\",\n",
    "    \"budget\": 9999,\n",
    "}"
   ]
  },
  {
   "cell_type": "code",
   "execution_count": null,
   "id": "781c9baf-9715-46cb-bc64-790597a369f3",
   "metadata": {},
   "outputs": [],
   "source": [
    "domain_client.users.create(**data_scientist_details)"
   ]
  },
  {
   "cell_type": "code",
   "execution_count": null,
   "id": "f5aec7e8-29d8-48b4-89d2-80a2252558ad",
   "metadata": {},
   "outputs": [],
   "source": [
    "print(\"Please give these details to the data scientist 👇🏽\")\n",
    "login_details = {}\n",
    "login_details[\"url\"] = DOMAIN_HOST_IP\n",
    "login_details[\"name\"] = data_scientist_details[\"name\"]\n",
    "login_details[\"email\"] = data_scientist_details[\"email\"]\n",
    "login_details[\"password\"] = data_scientist_details[\"password\"]\n",
    "login_details[\"dataset_name\"] = name\n",
    "print()\n",
    "print(login_details)"
   ]
  },
  {
   "cell_type": "code",
   "execution_count": null,
   "id": "106b8985-3694-43d2-aac5-2285941b2235",
   "metadata": {},
   "outputs": [],
   "source": []
  }
 ],
 "metadata": {
  "kernelspec": {
   "display_name": "Python 3 (ipykernel)",
   "language": "python",
   "name": "python3"
  },
  "language_info": {
   "codemirror_mode": {
    "name": "ipython",
    "version": 3
   },
   "file_extension": ".py",
   "mimetype": "text/x-python",
   "name": "python",
   "nbconvert_exporter": "python",
   "pygments_lexer": "ipython3",
   "version": "3.10.3"
  }
 },
 "nbformat": 4,
 "nbformat_minor": 5
}
