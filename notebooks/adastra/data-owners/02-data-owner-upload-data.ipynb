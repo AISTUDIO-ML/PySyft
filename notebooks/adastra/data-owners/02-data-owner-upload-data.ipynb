{
 "cells": [
  {
   "cell_type": "markdown",
   "id": "1cddde3e",
   "metadata": {},
   "source": [
    "## Create Dataset"
   ]
  },
  {
   "cell_type": "markdown",
   "id": "f4e38dca",
   "metadata": {},
   "source": [
    "Now that our Domain is part of the OpenMined network (as described in notebook [data-owners-start.ipynb](http://localhost:8888/notebooks/notebooks/adastra/data-owners/01-data-owners-start.ipynb)), let's move on to add a dataset to our Domain."
   ]
  },
  {
   "cell_type": "markdown",
   "id": "dd9c2420",
   "metadata": {},
   "source": [
    "First let's login into our Domain."
   ]
  },
  {
   "cell_type": "code",
   "execution_count": null,
   "id": "491319e3",
   "metadata": {},
   "outputs": [],
   "source": [
    "# autodetect the host_ip\n",
    "CURL_OUTPUT=!echo $(curl -s ifconfig.co)\n",
    "DOMAIN_HOST_IP=\"\"\n",
    "import sys\n",
    "if \"google.colab\" not in sys.modules:\n",
    "    DOMAIN_HOST_IP=CURL_OUTPUT[0]\n",
    "    print(f\"Your DOMAIN_HOST_IP is: {DOMAIN_HOST_IP}\")\n",
    "else:\n",
    "    print(f\"Google Colab detected, please manually set the DOMAIN_HOST_IP variable\")"
   ]
  },
  {
   "cell_type": "code",
   "execution_count": null,
   "id": "5585862f",
   "metadata": {},
   "outputs": [],
   "source": [
    "# Set the email and password of your Domain node.\n",
    "# We will be using the default email and password that got created during Domain creation.\n",
    "# Please update the email and password below incase you update them.\n",
    "\n",
    "ADMIN_EMAIL=\"info@openmined.org\"\n",
    "ADMIN_PASSWORD=\"changethis\""
   ]
  },
  {
   "cell_type": "code",
   "execution_count": null,
   "id": "02f3d6d5",
   "metadata": {},
   "outputs": [],
   "source": [
    "# Import syft package\n",
    "import syft as sy"
   ]
  },
  {
   "cell_type": "code",
   "execution_count": null,
   "id": "32cacda1",
   "metadata": {},
   "outputs": [],
   "source": [
    "# Let's log into the domain using the credentials\n",
    "\n",
    "try:\n",
    "    domain_client = sy.login(url=\"localhost\", email=ADMIN_EMAIL, password=ADMIN_PASSWORD, port=8081)\n",
    "    print()\n",
    "    print(\"🎉 You successfully connected to your domain!\")\n",
    "except Exception as e:\n",
    "    print(\"❌ Unable to connect, did you set the `DOMAIN_HOST_IP` variable above?\")\n",
    "    raise e"
   ]
  },
  {
   "cell_type": "markdown",
   "id": "2714ff76",
   "metadata": {},
   "source": [
    "### MedNIST Dataset\n",
    "\n",
    "We will be using the MedNIST dataset. The MedNIST dataset was gathered from several sets from TCIA, the RSNA Bone Age Challenge, and the NIH Chest X-ray dataset.\n",
    "\n",
    "The dataset is kindly made available by Dr. Bradley J. Erickson M.D., Ph.D. (Department of Radiology, Mayo Clinic) under the Creative Commons CC BY-SA 4.0 license. If you use the MedNIST dataset, please acknowledge the source, e.g. https://colab.research.google.com/drive/1wy8XUSnNWlhDNazFdvGBHLfdkGvOHBKe#scrollTo=ZaHFhidyCBJa\n",
    "\n",
    "Let's move on to download and extract the dataset."
   ]
  },
  {
   "cell_type": "markdown",
   "id": "0e23dc55",
   "metadata": {},
   "source": [
    "The dataset has been stored pickle file. Lets download the dataset using the instructions below."
   ]
  },
  {
   "cell_type": "code",
   "execution_count": null,
   "id": "cfa69daf",
   "metadata": {},
   "outputs": [],
   "source": [
    "# download MedNIST.pkl\n",
    "if not os.path.exists(\"./MedNIST.pkl\"):\n",
    "    os.system('curl -O \"https://media.githubusercontent.com/media/shubham3121/datasets/main/MedNIST/MedNIST.pkl\"')\n",
    "else:\n",
    "    print(\"MedNIST already downloaded\")"
   ]
  },
  {
   "cell_type": "markdown",
   "id": "a27df7ef",
   "metadata": {},
   "source": [
    "Now, before we move forward, let's store some variables related to the dataset.\n",
    "\n",
    "We require your participant number and the total participant count in the session to allocate you a unique subset of the MedNIST data."
   ]
  },
  {
   "cell_type": "markdown",
   "id": "8746c4e1",
   "metadata": {},
   "source": [
    "### Participant Number"
   ]
  },
  {
   "cell_type": "markdown",
   "id": "fda84f5f",
   "metadata": {},
   "source": [
    "Copy your variables `MY_PARTICIPANT_NUMBER` and `TOTAL_PARTICIPANTS` from your session details."
   ]
  },
  {
   "cell_type": "markdown",
   "id": "3ddab3a2",
   "metadata": {},
   "source": [
    "```\n",
    "Hi Person,\n",
    "These are your Session Details:\n",
    "-------------------------------\n",
    "Username: azureuser\n",
    "Password: **********\n",
    "VM IP Address: x.x.x.x\n",
    "\n",
    "MY_PARTICIPANT_NUMBER=1\n",
    "TOTAL_PARTICIPANTS=10\n",
    "```"
   ]
  },
  {
   "cell_type": "code",
   "execution_count": null,
   "id": "27d4a61d",
   "metadata": {},
   "outputs": [],
   "source": [
    "# file path where the MedNIST.pkl is downloaded\n",
    "FILE_PATH = \"./MedNIST.pkl\""
   ]
  },
  {
   "cell_type": "code",
   "execution_count": null,
   "id": "7f202505",
   "metadata": {},
   "outputs": [],
   "source": [
    "# replace these with your own from the session details\n",
    "MY_PARTICIPANT_NUMBER = 1\n",
    "TOTAL_PARTICIPANTS = 10"
   ]
  },
  {
   "cell_type": "markdown",
   "id": "664dc14c",
   "metadata": {},
   "source": [
    "### Load the Dataset"
   ]
  },
  {
   "cell_type": "markdown",
   "id": "427dc9d2",
   "metadata": {},
   "source": [
    "Below are some helper methods, thatwe will require to load the dataset."
   ]
  },
  {
   "cell_type": "code",
   "execution_count": null,
   "id": "6e995bef",
   "metadata": {},
   "outputs": [],
   "source": [
    "# Helper Methods\n",
    "\n",
    "import os\n",
    "import json\n",
    "import pandas as pd\n",
    "from PIL import Image\n",
    "from enum import Enum\n",
    "from collections import defaultdict\n",
    "import numpy as np\n",
    "from syft.core.adp.data_subject_list import DataSubjectList\n",
    "\n",
    "\n",
    "def get_label_mapping():\n",
    "    # the data uses the following mapping\n",
    "    mapping = {\n",
    "        \"AbdomenCT\": 0, \n",
    "        \"BreastMRI\": 1, \n",
    "        \"CXR\": 2, \n",
    "        \"ChestCT\": 3, \n",
    "        \"Hand\": 4, \n",
    "        \"HeadCT\": 5\n",
    "    }\n",
    "    return mapping\n",
    "\n",
    "def load_data_as_df(file_path=\"./MedNIST.pkl\"):\n",
    "    df = pd.read_pickle(file_path)\n",
    "    df.sort_values(\"patient_id\", inplace=True, ignore_index=True)\n",
    "    \n",
    "    # Calculate start and end index based on your participant number\n",
    "    batch_size = df.shape[0] // TOTAL_PARTICIPANTS\n",
    "    start_idx = (MY_PARTICIPANT_NUMBER - 1) * batch_size\n",
    "    end_idx = start_idx + batch_size\n",
    "    \n",
    "    # Slice the dataframe according\n",
    "    df = df[start_idx: end_idx]\n",
    "    \n",
    "    # Get label mapping\n",
    "    mapping = get_label_mapping()\n",
    "    \n",
    "    total_num = df.shape[0]\n",
    "    print(\"Columns:\", df.columns)\n",
    "    print(\"Total Images:\", total_num)\n",
    "    print(\"Label Mapping\", mapping)\n",
    "    return df\n",
    "\n",
    "def get_data_description(data):\n",
    "    unique_label_cnt = data.label.nunique()\n",
    "    lable_mapping = json.dumps(get_label_mapping())\n",
    "    image_size = data.iloc[0][\"image\"].shape\n",
    "    description = f\"The MedNIST dataset was gathered from several sets from TCIA, the RSNA Bone Age Challenge, and the NIH Chest X-ray dataset. The dataset is kindly made available by Dr. Bradley J. Erickson M.D., Ph.D. (Department of Radiology, Mayo Clinic) under the Creative Commons CC BY-SA 4.0 license.\\n\"\n",
    "    description += f\"Label Count: {unique_label_cnt}\\n\"\n",
    "    description += f\"Label Mapping: {lable_mapping}\\n\"\n",
    "    description += f\"Image Dimensions: {image_size}\\n\"\n",
    "    description += f\"Total Images: {data.shape[0]}\\n\"\n",
    "    return description"
   ]
  },
  {
   "cell_type": "code",
   "execution_count": null,
   "id": "c13a6c00",
   "metadata": {},
   "outputs": [],
   "source": [
    "# Let's load the dataset as a dataframe\n",
    "dataset_df = load_data_as_df(FILE_PATH)"
   ]
  },
  {
   "cell_type": "code",
   "execution_count": null,
   "id": "49155d8c",
   "metadata": {},
   "outputs": [],
   "source": [
    "# Let's get a peek of the dataset\n",
    "dataset_df.head()"
   ]
  },
  {
   "cell_type": "markdown",
   "id": "caccde4c",
   "metadata": {},
   "source": [
    "Get the dataset description, that needs to be provided to the domain while uploading the dataset."
   ]
  },
  {
   "cell_type": "code",
   "execution_count": null,
   "id": "cc917801",
   "metadata": {},
   "outputs": [],
   "source": [
    "dataset_description = get_data_description(dataset_df)\n",
    "print(dataset_description)"
   ]
  },
  {
   "cell_type": "markdown",
   "id": "86264a62",
   "metadata": {},
   "source": [
    "We can see that dataset description contains a brief info about the dataset and also a few meta information related to the dataset."
   ]
  },
  {
   "cell_type": "markdown",
   "id": "466c6b9b",
   "metadata": {},
   "source": [
    "### Prepare Dataset for Upload"
   ]
  },
  {
   "cell_type": "markdown",
   "id": "d6123ad7",
   "metadata": {},
   "source": [
    "Let's create data subjects list. Data Subjects are the individuals whose privacy we're trying to protect. Here the patients are the data subjects."
   ]
  },
  {
   "cell_type": "code",
   "execution_count": null,
   "id": "700ed77d",
   "metadata": {},
   "outputs": [],
   "source": [
    "data_subjects = DataSubjectList.from_series(dataset_df['patient_id'])"
   ]
  },
  {
   "cell_type": "markdown",
   "id": "eaa1863c",
   "metadata": {},
   "source": [
    "Next we need to convert our image and label data to numpy array of type **int64**."
   ]
  },
  {
   "cell_type": "code",
   "execution_count": null,
   "id": "f93f8394",
   "metadata": {},
   "outputs": [],
   "source": [
    "# Convert images to numpy int64 array\n",
    "images = dataset_df['image']\n",
    "images = np.dstack(images.values).astype(np.int64)\n",
    "images = np.rollaxis(images,-1)"
   ]
  },
  {
   "cell_type": "code",
   "execution_count": null,
   "id": "51b0df41",
   "metadata": {},
   "outputs": [],
   "source": [
    "# Convert labels to numpy int64 array\n",
    "labels = dataset_df['label'].to_numpy().astype(\"int64\")"
   ]
  },
  {
   "cell_type": "markdown",
   "id": "91081726",
   "metadata": {},
   "source": [
    "Next we will make your data private private with min, max and data subjects. The min and max are minimum and maximum value in the given data."
   ]
  },
  {
   "cell_type": "code",
   "execution_count": null,
   "id": "28c27053",
   "metadata": {},
   "outputs": [],
   "source": [
    "# converting images to private data\n",
    "image_data = sy.Tensor(images).private(min_val=0, max_val=255, data_subjects=data_subjects)"
   ]
  },
  {
   "cell_type": "code",
   "execution_count": null,
   "id": "e42f7f47",
   "metadata": {},
   "outputs": [],
   "source": [
    "# converting labels to private data\n",
    "label_data = sy.Tensor(labels).private(min_val=0, max_val=5, data_subjects=data_subjects)"
   ]
  },
  {
   "cell_type": "markdown",
   "id": "f8cec763",
   "metadata": {},
   "source": [
    "Finally, we will upload the images and labels to the domain."
   ]
  },
  {
   "cell_type": "code",
   "execution_count": null,
   "id": "401468e6",
   "metadata": {},
   "outputs": [],
   "source": [
    "# creating/uploading the dataset\n",
    "\n",
    "# Name of the dataset\n",
    "name = f\"MedNIST Data {MY_PARTICIPANT_NUMBER}/{TOTAL_PARTICIPANTS}\"\n",
    "\n",
    "# upload the MedNIST data\n",
    "domain_client.load_dataset(\n",
    "    assets={\"images\": image_data, \"labels\": label_data},\n",
    "    name=name,\n",
    "    description=dataset_description,\n",
    "    use_blob_storage=True\n",
    ")"
   ]
  },
  {
   "cell_type": "markdown",
   "id": "9d9f205a",
   "metadata": {},
   "source": [
    "Now let's check if the dataset we successfully uploaded"
   ]
  },
  {
   "cell_type": "code",
   "execution_count": null,
   "id": "db978d69",
   "metadata": {},
   "outputs": [],
   "source": [
    "domain_client.datasets"
   ]
  },
  {
   "cell_type": "markdown",
   "id": "8c2f4d56",
   "metadata": {},
   "source": [
    "## Create a Data Scientist Account"
   ]
  },
  {
   "cell_type": "code",
   "execution_count": null,
   "id": "84e0182d",
   "metadata": {},
   "outputs": [],
   "source": [
    "data_scientist_details = {\n",
    "    \"name\": \"Samantha Carter\",\n",
    "    \"email\": \"sam@sg1.net\",\n",
    "    \"password\": \"stargate\",\n",
    "    \"budget\": 9999,\n",
    "}"
   ]
  },
  {
   "cell_type": "code",
   "execution_count": null,
   "id": "063e7b1f",
   "metadata": {},
   "outputs": [],
   "source": [
    "domain_client.users.create(**data_scientist_details)"
   ]
  },
  {
   "cell_type": "code",
   "execution_count": null,
   "id": "8f8b2028",
   "metadata": {},
   "outputs": [],
   "source": [
    "print(\"Please give these details to the data scientist 👇🏽\")\n",
    "login_details = {}\n",
    "login_details[\"url\"] = DOMAIN_HOST_IP\n",
    "login_details[\"name\"] = data_scientist_details[\"name\"]\n",
    "login_details[\"email\"] = data_scientist_details[\"email\"]\n",
    "login_details[\"password\"] = data_scientist_details[\"password\"]\n",
    "login_details[\"dataset_name\"] = name\n",
    "print()\n",
    "print(login_details)"
   ]
  }
 ],
 "metadata": {
  "kernelspec": {
   "display_name": "Python 3 (ipykernel)",
   "language": "python",
   "name": "python3"
  },
  "language_info": {
   "codemirror_mode": {
    "name": "ipython",
    "version": 3
   },
   "file_extension": ".py",
   "mimetype": "text/x-python",
   "name": "python",
   "nbconvert_exporter": "python",
   "pygments_lexer": "ipython3",
   "version": "3.9.7"
  }
 },
 "nbformat": 4,
 "nbformat_minor": 5
}
