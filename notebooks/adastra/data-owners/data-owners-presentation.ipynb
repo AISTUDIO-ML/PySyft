{
 "cells": [
  {
   "cell_type": "code",
   "execution_count": null,
   "id": "b3e74753-2bb6-4b45-986c-2fc6d51abb83",
   "metadata": {},
   "outputs": [],
   "source": [
    "%%time\n",
    "%%capture pip\n",
    "!sudo apt update && sudo apt install python3-pip"
   ]
  },
  {
   "cell_type": "code",
   "execution_count": null,
   "id": "bdeaad6c-73f5-4c19-8e35-b6508738653b",
   "metadata": {},
   "outputs": [],
   "source": [
    "%%time\n",
    "%%capture pip_hagrid\n",
    "!pip install -U hagrid"
   ]
  },
  {
   "cell_type": "code",
   "execution_count": null,
   "id": "76a033e5-c39e-4850-94e3-38fd7736427f",
   "metadata": {},
   "outputs": [],
   "source": [
    "%%time\n",
    "%%capture hagrid\n",
    "!hagrid launch to docker:80 --tag=latest --tail=false"
   ]
  },
  {
   "cell_type": "code",
   "execution_count": null,
   "id": "67de9bfa-cc44-4bbd-af63-e20fc0276b44",
   "metadata": {},
   "outputs": [],
   "source": [
    "%%time\n",
    "!hagrid check --wait --silent"
   ]
  },
  {
   "cell_type": "code",
   "execution_count": null,
   "id": "4e232581-3ef0-4ea8-9ceb-97a453ecb6da",
   "metadata": {},
   "outputs": [],
   "source": [
    "%%time\n",
    "%%capture syft\n",
    "!pip install -q --pre syft"
   ]
  }
 ],
 "metadata": {
  "kernelspec": {
   "display_name": "Python 3 (ipykernel)",
   "language": "python",
   "name": "python3"
  },
  "language_info": {
   "codemirror_mode": {
    "name": "ipython",
    "version": 3
   },
   "file_extension": ".py",
   "mimetype": "text/x-python",
   "name": "python",
   "nbconvert_exporter": "python",
   "pygments_lexer": "ipython3",
   "version": "3.10.3"
  }
 },
 "nbformat": 4,
 "nbformat_minor": 5
}
