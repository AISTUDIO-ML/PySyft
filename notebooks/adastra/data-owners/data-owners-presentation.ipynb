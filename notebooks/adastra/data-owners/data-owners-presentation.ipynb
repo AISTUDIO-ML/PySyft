{
 "cells": [
  {
   "cell_type": "markdown",
   "id": "547c77a9-fdb5-43bb-b4d9-55cb2727b08c",
   "metadata": {},
   "source": [
    "# Domain Deployment Tutorial\n",
    "\n",
    "By the end of this tutorial, you will have launched a domain server and loaded in private data. This will enable a data scientist somewhere else to use your data for data science without being able to download it.\n",
    "\n",
    "- **Section 1**: Setup your Notebook\n",
    "- **Section 2**: Install Dependencies\n",
    "- **Section 3**: Launch Server\n",
    "- **Section 4**: Upload Data to your server\n",
    "- **Section 5**: Join a Network\n",
    "- **Section 6**: Create a Data Scientist account\n",
    "- **Section 7**: Conclusion"
   ]
  },
  {
   "cell_type": "markdown",
   "id": "b57b901d-655e-4dcc-97c0-2a3291242601",
   "metadata": {},
   "source": [
    "# BEGIN SECTION 1: SETUP YOUR NOTEBOOK"
   ]
  },
  {
   "cell_type": "markdown",
   "id": "b382ecbd-aad1-4961-ac45-39e198237cb3",
   "metadata": {},
   "source": [
    " "
   ]
  },
  {
   "cell_type": "markdown",
   "id": "06e264b9",
   "metadata": {},
   "source": [
    "### Step 0: Instructions"
   ]
  },
  {
   "cell_type": "markdown",
   "id": "cf74016b",
   "metadata": {},
   "source": [
    "Every time you see the image below, it means we want to you to wait as a concept will be explained at this step."
   ]
  },
  {
   "cell_type": "markdown",
   "id": "66a7502f",
   "metadata": {},
   "source": [
    "<img src=\"img/tab_info.png\" alt=\"tab\" style=\"width: 100px; margin:0;\" />"
   ]
  },
  {
   "cell_type": "markdown",
   "id": "69164650",
   "metadata": {},
   "source": [
    "Every time you see the `RUN` image below, it means we want to you to run the cell below the image."
   ]
  },
  {
   "cell_type": "markdown",
   "id": "714126e1",
   "metadata": {},
   "source": [
    "<img src=\"img/tab_run.png\" alt=\"tab\" style=\"width: 100px; margin:0;\" />"
   ]
  },
  {
   "cell_type": "markdown",
   "id": "02c849b1",
   "metadata": {},
   "source": [
    "\n"
   ]
  },
  {
   "cell_type": "markdown",
   "id": "adf1af27",
   "metadata": {},
   "source": [
    "\n"
   ]
  },
  {
   "cell_type": "markdown",
   "id": "e233dd12-0a7c-47ce-b407-6e3bf501d1ed",
   "metadata": {},
   "source": [
    "### Step 1: Verify you have your Session Details"
   ]
  },
  {
   "cell_type": "markdown",
   "id": "55408f10-79b6-447d-8ac5-758e73d36e14",
   "metadata": {},
   "source": [
    "<img src=\"img/tab_info.png\" alt=\"tab\" style=\"width: 100px; margin:0;\" />\n",
    "\n",
    "\n",
    "**Example Details**\n",
    "\n",
    "```\n",
    "Hi Person,\n",
    "These are your Session Details:\n",
    "-------------------------------\n",
    "VM Username: azureuser\n",
    "VM Password: **********\n",
    "VM IP Address: x.x.x.x\n",
    "\n",
    "📎 MY_DATASET_URL:\n",
    "https://media.githubusercontent.com/media/shubham3121/datasets/main/MedNIST/subsets/xxxxxxx.pkl\n",
    "```"
   ]
  },
  {
   "cell_type": "markdown",
   "id": "c8458245-6508-4e82-9672-9d3367ea0308",
   "metadata": {},
   "source": [
    " "
   ]
  },
  {
   "cell_type": "markdown",
   "id": "3a95fd6f-9919-4a0b-b921-50a154e089da",
   "metadata": {},
   "source": [
    " "
   ]
  },
  {
   "cell_type": "markdown",
   "id": "648d772e-3b0b-4f28-9461-2169206a1c70",
   "metadata": {},
   "source": [
    "### Step 2: Learn to run a cell in the notebook"
   ]
  },
  {
   "cell_type": "markdown",
   "id": "d293a305-2470-42aa-a7ff-23cfddb36d92",
   "metadata": {},
   "source": [
    "To run a cell either click on the ▶ button (top left hand corner) or press `Shift + Enter` from your keyboard."
   ]
  },
  {
   "cell_type": "markdown",
   "id": "df41fb88",
   "metadata": {},
   "source": [
    "<img src=\"img/tab_run.png\" alt=\"tab\" style=\"width: 100px; margin:0;\" />"
   ]
  },
  {
   "cell_type": "code",
   "execution_count": null,
   "id": "a621e307-62ed-4681-b0d6-6805339d43d3",
   "metadata": {
    "tags": []
   },
   "outputs": [],
   "source": [
    "print(\"Hello World !!!\")"
   ]
  },
  {
   "cell_type": "markdown",
   "id": "7ffac716-ca81-466f-9225-1844a1302f35",
   "metadata": {},
   "source": [
    "\n"
   ]
  },
  {
   "cell_type": "markdown",
   "id": "f39af652-a2a5-41ea-8a28-1436432f7083",
   "metadata": {},
   "source": [
    "\n"
   ]
  },
  {
   "cell_type": "markdown",
   "id": "2d08d3ae-9e52-418f-ae35-d8f27f6913b1",
   "metadata": {},
   "source": [
    "### Step 3: 🖐 Raise your hand in Zoom"
   ]
  },
  {
   "cell_type": "markdown",
   "id": "f2108cef-b57f-42f2-bc3f-2cae2c4ff3e1",
   "metadata": {},
   "source": [
    " "
   ]
  },
  {
   "cell_type": "markdown",
   "id": "12e86d70-54e3-49c9-bf13-edf8f00d4dfd",
   "metadata": {},
   "source": [
    "\n"
   ]
  },
  {
   "cell_type": "markdown",
   "id": "c18ed609-084f-41c2-9b84-d1536f73f0b0",
   "metadata": {},
   "source": [
    "# BEGIN SECTION 2: INSTALL DEPENDENCIES"
   ]
  },
  {
   "cell_type": "markdown",
   "id": "ccefb851-db1a-4cb7-914a-66afc7358b46",
   "metadata": {},
   "source": [
    "\n"
   ]
  },
  {
   "cell_type": "markdown",
   "id": "c91c7e3a-f838-408e-ac1a-f1dbedabdb9f",
   "metadata": {},
   "source": [
    " "
   ]
  },
  {
   "cell_type": "markdown",
   "id": "6198c092-6d8c-4807-8a75-2d44a6019475",
   "metadata": {},
   "source": [
    "### Step 4: Install the latest version of \"pip\""
   ]
  },
  {
   "cell_type": "markdown",
   "id": "65ea5238",
   "metadata": {},
   "source": [
    "<img src=\"img/tab_run.png\" alt=\"tab\" style=\"width: 100px; margin:0;\" />"
   ]
  },
  {
   "cell_type": "code",
   "execution_count": null,
   "id": "b3e74753-2bb6-4b45-986c-2fc6d51abb83",
   "metadata": {},
   "outputs": [],
   "source": [
    "%%capture pip\n",
    "!sudo apt update && sudo apt install python3-pip\n",
    "print(\"pip is successfully installed !!!\")"
   ]
  },
  {
   "cell_type": "markdown",
   "id": "55d7eba4-08ff-46c1-8a34-18aa4affa4fb",
   "metadata": {},
   "source": [
    " "
   ]
  },
  {
   "cell_type": "markdown",
   "id": "a1cfc758-582b-4fd8-9c3a-e94d61641bd6",
   "metadata": {},
   "source": [
    " "
   ]
  },
  {
   "cell_type": "markdown",
   "id": "efdc42ae-cd7c-4d21-8ae6-1010dc4027c0",
   "metadata": {},
   "source": [
    "### Step 5: Install the latest version of \"hagrid\""
   ]
  },
  {
   "cell_type": "markdown",
   "id": "d2f7a656",
   "metadata": {},
   "source": [
    "<img src=\"img/tab_run.png\" alt=\"tab\" style=\"width: 100px; margin:0;\" />"
   ]
  },
  {
   "cell_type": "code",
   "execution_count": null,
   "id": "bdeaad6c-73f5-4c19-8e35-b6508738653b",
   "metadata": {},
   "outputs": [],
   "source": [
    "%%capture pip_hagrid\n",
    "!pip install -U hagrid\n",
    "print(\"Hagrid is successfully installed !!!\")"
   ]
  },
  {
   "cell_type": "markdown",
   "id": "418a30ec-395d-49f7-97df-5aa9bf4f51d7",
   "metadata": {},
   "source": [
    " "
   ]
  },
  {
   "cell_type": "markdown",
   "id": "4d30bb29-be2e-4daf-96aa-4dc70206fcf7",
   "metadata": {},
   "source": [
    " "
   ]
  },
  {
   "cell_type": "markdown",
   "id": "21097126-ee43-416d-9721-5dfacd5bcfe6",
   "metadata": {},
   "source": [
    "### Step 6: Install the latest version of \"PySyft\""
   ]
  },
  {
   "cell_type": "markdown",
   "id": "27260d52",
   "metadata": {},
   "source": [
    "<img src=\"img/tab_run.png\" alt=\"tab\" style=\"width: 100px; margin:0;\" />"
   ]
  },
  {
   "cell_type": "code",
   "execution_count": null,
   "id": "5ddde18a-8170-4b42-b01d-0b4b3db00ab0",
   "metadata": {},
   "outputs": [],
   "source": [
    "%%capture syft\n",
    "!pip install -q --pre syft\n",
    "print(\"Syft is successfully installed !!!\")"
   ]
  },
  {
   "cell_type": "markdown",
   "id": "6f9fd31b-aa2a-4fe6-82ce-a66b7324f5a9",
   "metadata": {},
   "source": [
    "\n"
   ]
  },
  {
   "cell_type": "markdown",
   "id": "d76dfd3a-0a63-4d8e-896b-368f936b280a",
   "metadata": {},
   "source": [
    "\n"
   ]
  },
  {
   "cell_type": "markdown",
   "id": "26861085-bb35-4531-8dbe-4d0262265334",
   "metadata": {},
   "source": [
    "### Step 7: 🖐 Raise your hand in Zoom"
   ]
  },
  {
   "cell_type": "markdown",
   "id": "4ba0ab8e-cabd-4a69-bfb8-30a2884f5e52",
   "metadata": {},
   "source": [
    " "
   ]
  },
  {
   "cell_type": "markdown",
   "id": "f471296b-9cb5-4fc0-8d62-c6f13c07cc24",
   "metadata": {},
   "source": [
    " "
   ]
  },
  {
   "cell_type": "markdown",
   "id": "f7ffee24-c46b-428e-81d9-2787522dc874",
   "metadata": {},
   "source": [
    "# BEGIN SECTION 3: LAUNCH SERVER"
   ]
  },
  {
   "cell_type": "markdown",
   "id": "350c47e1-0e68-4ec8-be8f-443c8ada1027",
   "metadata": {},
   "source": [
    "\n"
   ]
  },
  {
   "cell_type": "markdown",
   "id": "be128fd5-0e43-4e77-9e9a-1052347d782b",
   "metadata": {},
   "source": [
    "### Step 8: Use hagrid to launch your domain node server\n",
    "\n",
    "\n",
    "The HAGrid launch command follows the following format:\n",
    "```bash\n",
    "    hagrid launch <node_type> <node_name> to <target_host>\n",
    "```"
   ]
  },
  {
   "cell_type": "markdown",
   "id": "52dd96c0",
   "metadata": {},
   "source": [
    "<img src=\"img/tab_run.png\" alt=\"tab\" style=\"width: 100px; margin:0;\" />"
   ]
  },
  {
   "cell_type": "code",
   "execution_count": null,
   "id": "76a033e5-c39e-4850-94e3-38fd7736427f",
   "metadata": {},
   "outputs": [],
   "source": [
    "%%capture hagrid\n",
    "!hagrid launch to docker:80 --tag=latest --tail=false"
   ]
  },
  {
   "cell_type": "markdown",
   "id": "bfd585c6-9a8e-4f37-8d0f-87f56cc57b93",
   "metadata": {},
   "source": [
    " "
   ]
  },
  {
   "cell_type": "markdown",
   "id": "eda95a20-7151-41dc-97f6-d9636650eea4",
   "metadata": {},
   "source": [
    " "
   ]
  },
  {
   "cell_type": "markdown",
   "id": "cdddecde-34e9-4cdc-8cbc-13c2f0d65182",
   "metadata": {},
   "source": [
    "### Step 9: Check the health of your domain node"
   ]
  },
  {
   "cell_type": "markdown",
   "id": "99d139f1",
   "metadata": {},
   "source": [
    "<img src=\"img/tab_run.png\" alt=\"tab\" style=\"width: 100px; margin:0;\" />"
   ]
  },
  {
   "cell_type": "code",
   "execution_count": null,
   "id": "67de9bfa-cc44-4bbd-af63-e20fc0276b44",
   "metadata": {},
   "outputs": [],
   "source": [
    "!hagrid check --wait --silent"
   ]
  },
  {
   "cell_type": "markdown",
   "id": "c67ed41d-079a-4dc0-9df1-677330afbb06",
   "metadata": {},
   "source": [
    "\n"
   ]
  },
  {
   "cell_type": "markdown",
   "id": "7b414ddb-f461-4ef3-8ba9-51ee790b5bdf",
   "metadata": {},
   "source": [
    "\n"
   ]
  },
  {
   "cell_type": "markdown",
   "id": "45784f0f-e285-4f29-985d-158fbf925047",
   "metadata": {},
   "source": [
    "### Step 10: 🖐 Raise your hand in Zoom"
   ]
  },
  {
   "cell_type": "markdown",
   "id": "142f3d5b-b240-424b-b30a-596e4a64bb2b",
   "metadata": {},
   "source": [
    " "
   ]
  },
  {
   "cell_type": "markdown",
   "id": "bc335cb4-4af9-4934-98a7-de15693910fa",
   "metadata": {},
   "source": [
    " "
   ]
  },
  {
   "cell_type": "markdown",
   "id": "cb42fb65-babb-4077-b093-ab2f5e7531a2",
   "metadata": {},
   "source": [
    "# BEGIN SECTION 4: UPLOAD DATA TO YOUR PRIVATE DATA SERVER"
   ]
  },
  {
   "cell_type": "markdown",
   "id": "4268fb39-da03-48f3-8b30-3cdb906e5215",
   "metadata": {},
   "source": [
    "\n"
   ]
  },
  {
   "cell_type": "markdown",
   "id": "3ff70535-bacc-4fbf-95b3-3d70b356bf63",
   "metadata": {},
   "source": [
    "\n"
   ]
  },
  {
   "cell_type": "markdown",
   "id": "3782ebb6-ad11-493a-806d-0ba3be3cbce2",
   "metadata": {},
   "source": [
    " "
   ]
  },
  {
   "cell_type": "markdown",
   "id": "5e6a6033-aee8-40f4-a73d-c8883f8591c8",
   "metadata": {},
   "source": [
    "### Step 11: Import Syft Library"
   ]
  },
  {
   "cell_type": "markdown",
   "id": "348dfc8c",
   "metadata": {},
   "source": [
    "<img src=\"img/tab_run.png\" alt=\"tab\" style=\"width: 100px; margin:0;\" />"
   ]
  },
  {
   "cell_type": "code",
   "execution_count": null,
   "id": "e950a634-dd42-4763-9600-fef6e830422b",
   "metadata": {},
   "outputs": [],
   "source": [
    "import syft as sy\n",
    "\n",
    "print(f\"You're running syft version: {sy.__version__}\")"
   ]
  },
  {
   "cell_type": "markdown",
   "id": "6b36af41-4b93-42ad-8fea-d7f48aace137",
   "metadata": {},
   "source": [
    "\n"
   ]
  },
  {
   "cell_type": "markdown",
   "id": "2aa2e67d-4c5e-4f92-b279-7f1649f88356",
   "metadata": {},
   "source": [
    "\n"
   ]
  },
  {
   "cell_type": "markdown",
   "id": "666e2de5-d371-4ebc-a9bd-7a32f7746eba",
   "metadata": {},
   "source": [
    "### Step 12: Set Login credentials"
   ]
  },
  {
   "cell_type": "markdown",
   "id": "e45a8070",
   "metadata": {},
   "source": [
    "<img src=\"img/tab_run.png\" alt=\"tab\" style=\"width: 100px; margin:0;\" />"
   ]
  },
  {
   "cell_type": "code",
   "execution_count": null,
   "id": "39ed2783-9b58-4a16-92c5-75cc7175e3c9",
   "metadata": {},
   "outputs": [],
   "source": [
    "from utils import *\n",
    "\n",
    "DOMAIN_HOST_IP = auto_detect_domain_host_ip()\n",
    "ADMIN_EMAIL=\"info@openmined.org\"\n",
    "ADMIN_PASSWORD=\"changethis\"\n",
    "\n",
    "print(\"💳 Login Credentials are set !!!\")"
   ]
  },
  {
   "cell_type": "markdown",
   "id": "78849088-b30a-4737-8e2f-6b3419f733ce",
   "metadata": {},
   "source": [
    " "
   ]
  },
  {
   "cell_type": "markdown",
   "id": "fd1bff1a-7d5e-44ef-b6a5-ae50fe070915",
   "metadata": {},
   "source": [
    " "
   ]
  },
  {
   "cell_type": "markdown",
   "id": "cd3b686c-6cc4-4cea-82b6-93622216e6f0",
   "metadata": {},
   "source": [
    "### Step 13: Use Syft library to log into your Domain"
   ]
  },
  {
   "cell_type": "markdown",
   "id": "474e072f",
   "metadata": {},
   "source": [
    "<img src=\"img/tab_run.png\" alt=\"tab\" style=\"width: 100px; margin:0;\" />"
   ]
  },
  {
   "cell_type": "code",
   "execution_count": null,
   "id": "f43f1d83-e705-4b50-8a0d-55e51845d73d",
   "metadata": {},
   "outputs": [],
   "source": [
    "domain_client = sy.login(url=DOMAIN_HOST_IP, email=ADMIN_EMAIL, password=ADMIN_PASSWORD)"
   ]
  },
  {
   "cell_type": "markdown",
   "id": "b62c4914-85ae-48b3-8851-2562f2a43060",
   "metadata": {},
   "source": [
    "\n"
   ]
  },
  {
   "cell_type": "markdown",
   "id": "a153cd86-7f38-45d8-ac33-e678d58f8f58",
   "metadata": {},
   "source": [
    "\n"
   ]
  },
  {
   "cell_type": "markdown",
   "id": "e99d5b1d-a92f-4950-a591-270e13ba9a59",
   "metadata": {},
   "source": [
    "### Step 14: Your Unique Dataset"
   ]
  },
  {
   "cell_type": "markdown",
   "id": "14b604bc",
   "metadata": {},
   "source": [
    "<img src=\"img/tab_info.png\" alt=\"tab\" style=\"width: 100px; margin:0;\" />\n",
    "\n",
    "\n",
    "You have been provided a link to your unique dataset in your session details.\n",
    "\n",
    "TODO: Add an image highlighting the dataset url."
   ]
  },
  {
   "cell_type": "markdown",
   "id": "c2003233-bf74-45dd-83f3-f4d25e6ebdce",
   "metadata": {},
   "source": [
    "\n"
   ]
  },
  {
   "cell_type": "markdown",
   "id": "6be8bc9a-a202-4bdc-a58e-4d17d589b927",
   "metadata": {},
   "source": [
    "\n"
   ]
  },
  {
   "cell_type": "markdown",
   "id": "5b62af4f-61ff-4064-9f05-b180ce500b53",
   "metadata": {},
   "source": [
    "### Step 15: Copy and Paste dataset URL from your Session Details"
   ]
  },
  {
   "cell_type": "markdown",
   "id": "b36074cb",
   "metadata": {},
   "source": [
    "<img src=\"img/tab_run.png\" alt=\"tab\" style=\"width: 100px; margin:0;\" />"
   ]
  },
  {
   "cell_type": "code",
   "execution_count": null,
   "id": "377c38d1-f523-486b-893a-95c7348dbc1f",
   "metadata": {},
   "outputs": [],
   "source": [
    "MY_DATASET_URL = \"\"\n",
    "print(\"My Dataset URL: \", MY_DATASET_URL)"
   ]
  },
  {
   "cell_type": "markdown",
   "id": "ba22c611-f479-468d-8a79-0bd3e6c2a1bf",
   "metadata": {},
   "source": [
    "\n"
   ]
  },
  {
   "cell_type": "markdown",
   "id": "3e5f38aa-9b7a-483c-a68e-ce86cc59b5b4",
   "metadata": {},
   "source": [
    " "
   ]
  },
  {
   "cell_type": "markdown",
   "id": "153bd3f4-aeb2-4ab5-9471-7730fe3bf02a",
   "metadata": {},
   "source": [
    "### Step 16: Download Dataset"
   ]
  },
  {
   "cell_type": "markdown",
   "id": "5cfe49c7",
   "metadata": {},
   "source": [
    "<img src=\"img/tab_run.png\" alt=\"tab\" style=\"width: 100px; margin:0;\" />"
   ]
  },
  {
   "cell_type": "code",
   "execution_count": null,
   "id": "f1b5511c-9a63-4f13-9b7b-8acad34e0bc3",
   "metadata": {},
   "outputs": [],
   "source": [
    "dataset = download_tissue_mnist_dataset(MY_DATASET_URL)"
   ]
  },
  {
   "cell_type": "markdown",
   "id": "c9ab0f24-c7e8-42d5-85bc-494986496174",
   "metadata": {},
   "source": [
    "\n"
   ]
  },
  {
   "cell_type": "markdown",
   "id": "390e990b-2fdc-4508-ac10-8fe7277bd46e",
   "metadata": {},
   "source": [
    "\n"
   ]
  },
  {
   "cell_type": "markdown",
   "id": "2acefcd1-5d71-4c75-8371-3163cc73369f",
   "metadata": {},
   "source": [
    "### Step 17: Glance over the downloaded dataset"
   ]
  },
  {
   "cell_type": "markdown",
   "id": "b1a37b59",
   "metadata": {},
   "source": [
    "<img src=\"img/tab_run.png\" alt=\"tab\" style=\"width: 100px; margin:0;\" />"
   ]
  },
  {
   "cell_type": "code",
   "execution_count": null,
   "id": "eea7eaae-2645-4b08-a559-eb73bfd911cd",
   "metadata": {},
   "outputs": [],
   "source": [
    "# Let's get a peek of the dataset\n",
    "dataset.head()"
   ]
  },
  {
   "cell_type": "markdown",
   "id": "f6b3f781-ad22-4b5d-b1a4-5ef21ed249c0",
   "metadata": {},
   "source": [
    " "
   ]
  },
  {
   "cell_type": "markdown",
   "id": "fd8d17c6-cb08-47ba-b44c-101d0fcc71c9",
   "metadata": {},
   "source": [
    " "
   ]
  },
  {
   "cell_type": "markdown",
   "id": "231bf6b8",
   "metadata": {},
   "source": [
    "### Step 18: Split and preprocess dataset"
   ]
  },
  {
   "cell_type": "code",
   "execution_count": null,
   "id": "6738dcbd",
   "metadata": {},
   "outputs": [],
   "source": [
    "train, val, test = split_and_preprocess_dataset(data=dataset)"
   ]
  },
  {
   "cell_type": "markdown",
   "id": "f4e2182f",
   "metadata": {},
   "source": [
    "\n"
   ]
  },
  {
   "cell_type": "markdown",
   "id": "8713bfcb",
   "metadata": {},
   "source": [
    "\n"
   ]
  },
  {
   "cell_type": "markdown",
   "id": "819483e3-8cf9-4e1a-b0df-1ff72162aeca",
   "metadata": {},
   "source": [
    "### Step 19: Make Training data private"
   ]
  },
  {
   "cell_type": "markdown",
   "id": "433423d8",
   "metadata": {},
   "source": [
    "<img src=\"img/tab_run.png\" alt=\"tab\" style=\"width: 100px; margin:0;\" />"
   ]
  },
  {
   "cell_type": "code",
   "execution_count": null,
   "id": "c9f4f75f-a4b6-4337-8bc7-147ace57a14f",
   "metadata": {},
   "outputs": [],
   "source": [
    "data_subjects = DataSubjectList.from_series(train[\"patient_ids\"])\n",
    "train_image_data = sy.Tensor(train[\"images\"]).private(min_val=0, max_val=255, data_subjects=data_subjects)\n",
    "train_label_data = sy.Tensor(train[\"labels\"]).private(min_val=0, max_val=5, data_subjects=data_subjects)"
   ]
  },
  {
   "cell_type": "markdown",
   "id": "d281fe04-a745-43d5-9962-d200cacaa6f8",
   "metadata": {},
   "source": [
    " "
   ]
  },
  {
   "cell_type": "markdown",
   "id": "d87396a9-5843-4a6f-869c-a4fe24b899c3",
   "metadata": {},
   "source": [
    " "
   ]
  },
  {
   "cell_type": "markdown",
   "id": "9cfb8303-b8cb-4eb8-a29b-19a158c2405a",
   "metadata": {},
   "source": [
    "### Step 20: Make Validation data private"
   ]
  },
  {
   "cell_type": "markdown",
   "id": "f1427981",
   "metadata": {},
   "source": [
    "<img src=\"img/tab_run.png\" alt=\"tab\" style=\"width: 100px; margin:0;\" />"
   ]
  },
  {
   "cell_type": "code",
   "execution_count": null,
   "id": "8dc513fe-a074-4056-a83a-6166520217b8",
   "metadata": {},
   "outputs": [],
   "source": [
    "data_subjects = DataSubjectList.from_series(val[\"patient_ids\"])\n",
    "val_image_data = sy.Tensor(val[\"images\"]).private(min_val=0, max_val=255, data_subjects=data_subjects)\n",
    "val_label_data = sy.Tensor(val[\"labels\"]).private(min_val=0, max_val=5, data_subjects=data_subjects)"
   ]
  },
  {
   "cell_type": "markdown",
   "id": "0909bdc6-d290-4cbd-bf0e-44a1959c83b0",
   "metadata": {},
   "source": [
    " "
   ]
  },
  {
   "cell_type": "markdown",
   "id": "bf9064f7-4ecc-4000-aab8-45487a8bc3ab",
   "metadata": {},
   "source": [
    " "
   ]
  },
  {
   "cell_type": "markdown",
   "id": "b109af66-30c1-47f6-a2a8-0d8707b0c4dd",
   "metadata": {},
   "source": [
    "### Step 21: Make Test data private"
   ]
  },
  {
   "cell_type": "markdown",
   "id": "748cbca4",
   "metadata": {},
   "source": [
    "<img src=\"img/tab_run.png\" alt=\"tab\" style=\"width: 100px; margin:0;\" />"
   ]
  },
  {
   "cell_type": "code",
   "execution_count": null,
   "id": "559f103d-f477-4678-8125-179d2e5af5fe",
   "metadata": {},
   "outputs": [],
   "source": [
    "data_subjects = DataSubjectList.from_series(test[\"patient_ids\"])\n",
    "test_image_data = sy.Tensor(test[\"images\"]).private(min_val=0, max_val=255, data_subjects=data_subjects)\n",
    "test_label_data = sy.Tensor(test[\"labels\"]).private(min_val=0, max_val=5, data_subjects=data_subjects)"
   ]
  },
  {
   "cell_type": "markdown",
   "id": "79c111b7-4a39-4b28-ad5f-902ec3a99e10",
   "metadata": {},
   "source": [
    " "
   ]
  },
  {
   "cell_type": "markdown",
   "id": "829e800c-95cd-42f6-9bf9-dd1f4ceed885",
   "metadata": {},
   "source": [
    " "
   ]
  },
  {
   "cell_type": "markdown",
   "id": "54b2b3bb-d558-4171-990b-b429bcc9d4e0",
   "metadata": {},
   "source": [
    "### Step 22: Create Assets mapping"
   ]
  },
  {
   "cell_type": "markdown",
   "id": "95047ce6",
   "metadata": {},
   "source": [
    "<img src=\"img/tab_run.png\" alt=\"tab\" style=\"width: 100px; margin:0;\" />"
   ]
  },
  {
   "cell_type": "code",
   "execution_count": null,
   "id": "92f45835-4306-462d-afa3-2c90e2e90c82",
   "metadata": {},
   "outputs": [],
   "source": [
    "assets = {\n",
    "    \"train_images\": train_image_data,\n",
    "    \"train_labels\": train_label_data,\n",
    "    \"val_images\": val_image_data,\n",
    "    \"val_labels\": val_label_data,\n",
    "    \"test_images\": test_image_data,\n",
    "    \"test_labels\": test_label_data,\n",
    "}"
   ]
  },
  {
   "cell_type": "markdown",
   "id": "1693de2c-b18e-4172-8941-0941fb3f97ee",
   "metadata": {},
   "source": [
    " "
   ]
  },
  {
   "cell_type": "markdown",
   "id": "b3725de1-e916-45b9-94ed-4017424596e4",
   "metadata": {},
   "source": [
    " "
   ]
  },
  {
   "cell_type": "markdown",
   "id": "8748c78a-1f81-469e-9c9f-536a16eb4329",
   "metadata": {},
   "source": [
    "### Step 23: Set dataset name"
   ]
  },
  {
   "cell_type": "markdown",
   "id": "10cc1608",
   "metadata": {},
   "source": [
    "<img src=\"img/tab_run.png\" alt=\"tab\" style=\"width: 100px; margin:0;\" />"
   ]
  },
  {
   "cell_type": "code",
   "execution_count": null,
   "id": "38149e9c-98d3-45ec-8a8c-8628fa73e077",
   "metadata": {},
   "outputs": [],
   "source": [
    "dataset_name = \"TissueMNIST\"\n",
    "print(dataset_name)"
   ]
  },
  {
   "cell_type": "markdown",
   "id": "fc06703a-7b50-4ca5-a67f-c9e20dcc6ffb",
   "metadata": {},
   "source": [
    " "
   ]
  },
  {
   "cell_type": "markdown",
   "id": "3e5aac80-a2c7-4887-961a-75c43f556752",
   "metadata": {},
   "source": [
    " "
   ]
  },
  {
   "cell_type": "markdown",
   "id": "a3479901-e0ab-4072-8735-33e191bbb8b4",
   "metadata": {},
   "source": [
    "### Step 24: Set dataset description"
   ]
  },
  {
   "cell_type": "markdown",
   "id": "0a270380",
   "metadata": {},
   "source": [
    "<img src=\"img/tab_run.png\" alt=\"tab\" style=\"width: 100px; margin:0;\" />"
   ]
  },
  {
   "cell_type": "code",
   "execution_count": null,
   "id": "3003f9fe-a7fc-4859-a347-df7fcdfb5f7f",
   "metadata": {},
   "outputs": [],
   "source": [
    "dataset_description = \"\"\n",
    "print(dataset_description)"
   ]
  },
  {
   "cell_type": "markdown",
   "id": "8d0f5cfe-b75e-4271-b0e3-59455407f783",
   "metadata": {},
   "source": [
    " "
   ]
  },
  {
   "cell_type": "markdown",
   "id": "e8003afc-66e1-4433-b485-44d89ad09a28",
   "metadata": {},
   "source": [
    " "
   ]
  },
  {
   "cell_type": "markdown",
   "id": "24c7bd6a-f9d0-447d-bec3-21cc37c59d8f",
   "metadata": {},
   "source": [
    "### Step 25: Upload Dataset to the Domain node"
   ]
  },
  {
   "cell_type": "markdown",
   "id": "b07b63fc-d0de-41d6-932d-58045260d353",
   "metadata": {},
   "source": [
    "<img src=\"img/tab_run.png\" alt=\"tab\" style=\"width: 100px; margin:0;\" />"
   ]
  },
  {
   "cell_type": "code",
   "execution_count": null,
   "id": "90900d1e-9e67-4c76-93d7-ea605a059c0d",
   "metadata": {},
   "outputs": [],
   "source": [
    "# upload the MedNIST data\n",
    "domain_client.load_dataset(\n",
    "    assets=assets, name=dataset_name, description=dataset_description\n",
    ")"
   ]
  },
  {
   "cell_type": "markdown",
   "id": "4c1e7ddd-9e3d-431f-b12e-d21b135e6bf0",
   "metadata": {},
   "source": [
    "\n"
   ]
  },
  {
   "cell_type": "markdown",
   "id": "f81d9529-36e3-4fdd-b0ae-3fef518224fd",
   "metadata": {},
   "source": [
    "\n"
   ]
  },
  {
   "cell_type": "markdown",
   "id": "594487e9-0ce1-4c91-b36d-ff3a390f09aa",
   "metadata": {},
   "source": [
    "### Step 26: View Uploaded Datasets"
   ]
  },
  {
   "cell_type": "markdown",
   "id": "6335e47a",
   "metadata": {},
   "source": [
    "<img src=\"img/tab_run.png\" alt=\"tab\" style=\"width: 100px; margin:0;\" />"
   ]
  },
  {
   "cell_type": "code",
   "execution_count": null,
   "id": "7e1bcb0f-3c6b-4bf6-b7ed-2ee4b2b16d62",
   "metadata": {},
   "outputs": [],
   "source": [
    "domain_client.datasets"
   ]
  },
  {
   "cell_type": "markdown",
   "id": "fc588eed-0c47-496d-83ca-7c3fed916fd9",
   "metadata": {},
   "source": [
    " "
   ]
  },
  {
   "cell_type": "markdown",
   "id": "cd99d1c9-1029-46b4-9e0e-ab5ba1e8079b",
   "metadata": {},
   "source": [
    " "
   ]
  },
  {
   "cell_type": "markdown",
   "id": "a2f6808c-88e6-4244-8761-52d75927bd4c",
   "metadata": {},
   "source": [
    "### Step 27: View assets of the uploaded dataset"
   ]
  },
  {
   "cell_type": "markdown",
   "id": "00a2cc41",
   "metadata": {},
   "source": [
    "<img src=\"img/tab_run.png\" alt=\"tab\" style=\"width: 100px; margin:0;\" />"
   ]
  },
  {
   "cell_type": "code",
   "execution_count": null,
   "id": "beeee994-6af8-4ad8-a3c1-00f36e0daeb3",
   "metadata": {},
   "outputs": [],
   "source": [
    "domain_client.datasets[0]"
   ]
  },
  {
   "cell_type": "markdown",
   "id": "d3c3b766-2b09-44b4-ab6d-fc06edc450ad",
   "metadata": {},
   "source": [
    "\n"
   ]
  },
  {
   "cell_type": "markdown",
   "id": "726761c9-1158-4847-a03d-b3824fc1e0be",
   "metadata": {},
   "source": [
    "\n"
   ]
  },
  {
   "cell_type": "markdown",
   "id": "472d500a-9c35-4d23-91a4-ace0b094c3ba",
   "metadata": {},
   "source": [
    "### Step 28: 🖐 Raise your hand in Zoom"
   ]
  },
  {
   "cell_type": "markdown",
   "id": "ea5655f7-f02e-42d3-a05f-309bcc14b365",
   "metadata": {},
   "source": [
    " "
   ]
  },
  {
   "cell_type": "markdown",
   "id": "5e5f64e7-1b49-430d-b0ca-cd8196c3e16a",
   "metadata": {},
   "source": [
    " \n"
   ]
  },
  {
   "cell_type": "markdown",
   "id": "c81475fa-8810-4444-acf4-d6b2f789225b",
   "metadata": {},
   "source": [
    "# BEGIN SECTION 5: JOIN A NETWORK"
   ]
  },
  {
   "cell_type": "markdown",
   "id": "db7f0b9e-3397-4926-af99-bd50f1522904",
   "metadata": {},
   "source": [
    "\n"
   ]
  },
  {
   "cell_type": "markdown",
   "id": "d3d2b91a-fd39-4cc4-9e50-d7e2118d1be8",
   "metadata": {},
   "source": [
    "\n"
   ]
  },
  {
   "cell_type": "markdown",
   "id": "37916567-391b-43eb-868f-670759c1139b",
   "metadata": {},
   "source": [
    "### Step 29: What is a Network ?"
   ]
  },
  {
   "cell_type": "markdown",
   "id": "7f33d7e7",
   "metadata": {},
   "source": [
    "<img src=\"img/tab_info.png\" alt=\"tab\" style=\"width: 100px; margin:0;\" />"
   ]
  },
  {
   "cell_type": "markdown",
   "id": "c176a2b1",
   "metadata": {},
   "source": [
    "A Network Node is a node that connects different domains to a broader base of data scientists also known as a network's members. It is a server which exists outside of any data owner's institution, providing services to the network of data owners and data scientists. In short, a Network node provides a secure interface between its cohorts or Domains and its members or Data Scientists.\n",
    "\n",
    "For the scope of this demonstration, OpenMined has created a Network node called Ad Astra, to which we will register our Domain Node to."
   ]
  },
  {
   "cell_type": "markdown",
   "id": "9235876c-afe3-4516-ab84-74efaf8ef719",
   "metadata": {},
   "source": [
    "\n"
   ]
  },
  {
   "cell_type": "markdown",
   "id": "6abe0bd4-6167-40b9-b436-5176c148cf96",
   "metadata": {},
   "source": [
    "\n"
   ]
  },
  {
   "cell_type": "markdown",
   "id": "206a0a4b-33c1-4de0-bf64-72fa3ddfef21",
   "metadata": {},
   "source": [
    "### Step 30: Browse available Networks"
   ]
  },
  {
   "cell_type": "markdown",
   "id": "c9c4877a",
   "metadata": {},
   "source": [
    "<img src=\"img/tab_run.png\" alt=\"tab\" style=\"width: 100px; margin:0;\" />"
   ]
  },
  {
   "cell_type": "code",
   "execution_count": null,
   "id": "f10886dc-55ba-4fc9-8525-7cbf61ad2ce0",
   "metadata": {},
   "outputs": [],
   "source": [
    "sy.networks"
   ]
  },
  {
   "cell_type": "markdown",
   "id": "839de41b-9540-4520-872b-2f3177f9d13a",
   "metadata": {},
   "source": [
    "\n"
   ]
  },
  {
   "cell_type": "markdown",
   "id": "3c894bdf-08f4-4c5a-abec-b77537fd7f40",
   "metadata": {},
   "source": [
    "\n"
   ]
  },
  {
   "cell_type": "markdown",
   "id": "1ce89a5b-8a55-4a49-a75b-32d05624a83b",
   "metadata": {},
   "source": [
    "### Step 31: Select a Network"
   ]
  },
  {
   "cell_type": "code",
   "execution_count": null,
   "id": "63791d5e-89b2-49c8-9af7-36f6edb447d2",
   "metadata": {},
   "outputs": [],
   "source": [
    "network_client = sy.networks[\"Ad Astra Demo 1\"]"
   ]
  },
  {
   "cell_type": "markdown",
   "id": "767b6803-2a93-4e08-8c2a-eb0ea6424bd2",
   "metadata": {},
   "source": [
    "\n"
   ]
  },
  {
   "cell_type": "markdown",
   "id": "857bda3c-3cc0-4a64-a493-5eb065a8fc59",
   "metadata": {},
   "source": [
    "\n"
   ]
  },
  {
   "cell_type": "markdown",
   "id": "b484c9b4-3f72-4b6c-872e-71c79d7cdc8b",
   "metadata": {},
   "source": [
    "### Step 32: List the domains available on the selected Network"
   ]
  },
  {
   "cell_type": "markdown",
   "id": "9bc2c783",
   "metadata": {},
   "source": [
    "<img src=\"img/tab_run.png\" alt=\"tab\" style=\"width: 100px; margin:0;\" />"
   ]
  },
  {
   "cell_type": "code",
   "execution_count": null,
   "id": "86a97ccc-75c2-4d3a-a5b2-33c84bb2bd7c",
   "metadata": {},
   "outputs": [],
   "source": [
    "network_client.domains"
   ]
  },
  {
   "cell_type": "markdown",
   "id": "13f9d6db-6f7f-4b29-9735-6c95b046831c",
   "metadata": {},
   "source": [
    "\n"
   ]
  },
  {
   "cell_type": "markdown",
   "id": "30114344-5781-4e2b-a98f-ccca0a6f245f",
   "metadata": {},
   "source": [
    "\n"
   ]
  },
  {
   "cell_type": "markdown",
   "id": "6b038ad1-4842-42d0-9e35-008f572083e0",
   "metadata": {},
   "source": [
    "### Step 33: Join the selected Network"
   ]
  },
  {
   "cell_type": "markdown",
   "id": "ae613e1a",
   "metadata": {},
   "source": [
    "<img src=\"img/tab_run.png\" alt=\"tab\" style=\"width: 100px; margin:0;\" />"
   ]
  },
  {
   "cell_type": "code",
   "execution_count": null,
   "id": "e507b125-cdfc-4ff1-85c6-bb45a96800f8",
   "metadata": {},
   "outputs": [],
   "source": [
    "domain_client.apply_to_network(network_client)"
   ]
  },
  {
   "cell_type": "markdown",
   "id": "71256454-3ec8-4bcf-8eda-f8a380d191db",
   "metadata": {},
   "source": [
    "\n"
   ]
  },
  {
   "cell_type": "markdown",
   "id": "59be255f-0309-46e7-b4a5-2713415d75ca",
   "metadata": {},
   "source": [
    "\n"
   ]
  },
  {
   "cell_type": "markdown",
   "id": "7d281289-cd9a-4a32-a125-19d0e76afa32",
   "metadata": {},
   "source": [
    "### Step 34: Verify if our domain is part of the Network"
   ]
  },
  {
   "cell_type": "markdown",
   "id": "304b3003",
   "metadata": {},
   "source": [
    "<img src=\"img/tab_run.png\" alt=\"tab\" style=\"width: 100px; margin:0;\" />"
   ]
  },
  {
   "cell_type": "code",
   "execution_count": null,
   "id": "d407b9f3-56fe-484b-a069-262ceb0e3c39",
   "metadata": {},
   "outputs": [],
   "source": [
    "network_client.domains"
   ]
  },
  {
   "cell_type": "markdown",
   "id": "cad2c503-dfb4-493b-aaa6-467f11d64a45",
   "metadata": {},
   "source": [
    "\n"
   ]
  },
  {
   "cell_type": "markdown",
   "id": "1457e14f-0541-4853-ab0e-0253a28814c0",
   "metadata": {},
   "source": [
    "\n"
   ]
  },
  {
   "cell_type": "markdown",
   "id": "bce23ced-0515-423e-ade1-09384d6eea86",
   "metadata": {},
   "source": [
    "\n"
   ]
  },
  {
   "cell_type": "markdown",
   "id": "c5e2bcec-c44c-48b5-88f0-9a11a21ae383",
   "metadata": {},
   "source": [
    "### Step 35: 🖐 Raise your hand in Zoom"
   ]
  },
  {
   "cell_type": "markdown",
   "id": "075fdfaf-c1e0-46f1-b816-43fae454af29",
   "metadata": {},
   "source": [
    "\n"
   ]
  },
  {
   "cell_type": "markdown",
   "id": "9f65d37f-864f-479e-838e-8c97ed1b8dc1",
   "metadata": {},
   "source": [
    "\n"
   ]
  },
  {
   "cell_type": "markdown",
   "id": "3c4e562c-5d2f-4a52-b3aa-efd4d3b1f25d",
   "metadata": {},
   "source": [
    "\n"
   ]
  },
  {
   "cell_type": "markdown",
   "id": "2a1aa62f-c7e7-4e48-966a-ab1961da1c87",
   "metadata": {},
   "source": [
    "# BEGIN SECTION 6: CREATE USER"
   ]
  },
  {
   "cell_type": "markdown",
   "id": "bb4e6fcd-5916-472a-a0e1-2b6bdbd70e1f",
   "metadata": {},
   "source": [
    "\n"
   ]
  },
  {
   "cell_type": "markdown",
   "id": "0484822a-f0ac-4b5b-9c56-19a66ce1d669",
   "metadata": {},
   "source": [
    "\n"
   ]
  },
  {
   "cell_type": "markdown",
   "id": "98ee36dc-0475-4d6d-96b7-2c0d9144b38c",
   "metadata": {},
   "source": [
    "### Step 36: Create a Data Scientist User"
   ]
  },
  {
   "cell_type": "markdown",
   "id": "642c1ad3",
   "metadata": {},
   "source": [
    "<img src=\"img/tab_run.png\" alt=\"tab\" style=\"width: 100px; margin:0;\" />"
   ]
  },
  {
   "cell_type": "code",
   "execution_count": null,
   "id": "e1d65ed8-4c44-45f9-bc35-33409e5a4956",
   "metadata": {},
   "outputs": [],
   "source": [
    "ds_login_credentials = domain_client.create_user(name=\"Default Name\", email=\"Default Email\", password=\"Default Password\")"
   ]
  },
  {
   "cell_type": "markdown",
   "id": "7c025de9-a5a9-42bc-88b4-52d0ce7a42ca",
   "metadata": {},
   "source": [
    "\n"
   ]
  },
  {
   "cell_type": "markdown",
   "id": "cacd00d3-f907-445e-b9a7-2fcda9d8d19a",
   "metadata": {},
   "source": [
    "\n"
   ]
  },
  {
   "cell_type": "markdown",
   "id": "946f22c4-f2e0-4fab-9784-c3b4b7092008",
   "metadata": {},
   "source": [
    "### Step 37: Display DS login credentials"
   ]
  },
  {
   "cell_type": "markdown",
   "id": "9ecdade7",
   "metadata": {},
   "source": [
    "<img src=\"img/tab_run.png\" alt=\"tab\" style=\"width: 100px; margin:0;\" />"
   ]
  },
  {
   "cell_type": "code",
   "execution_count": null,
   "id": "f19f2c66-ed2e-4b54-9290-7c756cea0317",
   "metadata": {},
   "outputs": [],
   "source": [
    "print(ds_login_credentials)"
   ]
  },
  {
   "cell_type": "markdown",
   "id": "55f030a9-3eee-46c6-9d44-0e379cd66839",
   "metadata": {},
   "source": [
    "\n"
   ]
  },
  {
   "cell_type": "markdown",
   "id": "9d2323d6-7aca-4037-863e-2b2522b6a7b0",
   "metadata": {},
   "source": [
    "\n"
   ]
  },
  {
   "cell_type": "markdown",
   "id": "c967af30-91c5-45b8-baea-78c0020a6feb",
   "metadata": {},
   "source": [
    "### Step 38: 🖐 Raise your hand in Zoom"
   ]
  },
  {
   "cell_type": "markdown",
   "id": "3fe3478f-b0b3-45ce-b7f8-f35711734a20",
   "metadata": {},
   "source": [
    "\n",
    "\n"
   ]
  },
  {
   "cell_type": "markdown",
   "id": "e01fb00b-27de-4ca8-b84c-2dc91bff0a66",
   "metadata": {},
   "source": [
    "\n"
   ]
  },
  {
   "cell_type": "markdown",
   "id": "96420fed-b0d4-4966-b3fa-c2adc7048bcf",
   "metadata": {},
   "source": [
    "# BEGIN SECTION 7: Conclusion"
   ]
  },
  {
   "cell_type": "markdown",
   "id": "5efa9999-0e88-48ca-8e5b-cc0ca8df4fc6",
   "metadata": {},
   "source": [
    "\n"
   ]
  },
  {
   "cell_type": "markdown",
   "id": "71508198-78d6-4418-946f-1d0881e9d200",
   "metadata": {},
   "source": [
    "\n"
   ]
  },
  {
   "cell_type": "markdown",
   "id": "8f378c06-397f-485c-8b3e-ff7c51b5f9c1",
   "metadata": {},
   "source": [
    "### Step 39: Submit Data Scientist Credentials"
   ]
  },
  {
   "cell_type": "markdown",
   "id": "80f21299-3293-4a26-8868-491b20db54a6",
   "metadata": {},
   "source": [
    "\n"
   ]
  },
  {
   "cell_type": "markdown",
   "id": "047917f1-4030-49ef-87bb-76724b463f07",
   "metadata": {},
   "source": [
    "\n"
   ]
  },
  {
   "cell_type": "markdown",
   "id": "6887031f-4f96-4789-b1c2-ca391b87451d",
   "metadata": {},
   "source": [
    "### Step 40: Fill Survey"
   ]
  },
  {
   "cell_type": "markdown",
   "id": "f6ad48be-c0b9-452c-b58f-ecad7e3521ff",
   "metadata": {},
   "source": [
    "\n"
   ]
  },
  {
   "cell_type": "markdown",
   "id": "8d42ab48-a4c0-40bb-a11f-0006041989b7",
   "metadata": {},
   "source": [
    "\n"
   ]
  },
  {
   "cell_type": "markdown",
   "id": "a576e7c9-21d1-4277-9e14-15e98fdc798a",
   "metadata": {},
   "source": [
    "### Step 41: Join the slack channel"
   ]
  },
  {
   "cell_type": "markdown",
   "id": "57144e90-6250-47e5-a846-080adf8aaa7f",
   "metadata": {},
   "source": [
    "\n"
   ]
  },
  {
   "cell_type": "markdown",
   "id": "2fa2b3d5-52af-4d8d-ae10-fde9cdc4abe5",
   "metadata": {},
   "source": [
    "\n"
   ]
  },
  {
   "cell_type": "markdown",
   "id": "9d2a3daf-9a57-4f0a-96c7-7fa7d1d98cb6",
   "metadata": {},
   "source": [
    "# 🙌🏽 Notebook Complete!"
   ]
  }
 ],
 "metadata": {
  "kernelspec": {
   "display_name": "Python 3 (ipykernel)",
   "language": "python",
   "name": "python3"
  },
  "language_info": {
   "codemirror_mode": {
    "name": "ipython",
    "version": 3
   },
   "file_extension": ".py",
   "mimetype": "text/x-python",
   "name": "python",
   "nbconvert_exporter": "python",
   "pygments_lexer": "ipython3",
   "version": "3.9.7"
  },
  "toc-autonumbering": false
 },
 "nbformat": 4,
 "nbformat_minor": 5
}
