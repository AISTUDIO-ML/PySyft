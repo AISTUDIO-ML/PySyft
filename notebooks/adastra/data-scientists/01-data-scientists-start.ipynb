{
 "cells": [
  {
   "cell_type": "code",
   "execution_count": 1,
   "id": "39ac81b7-c51a-4f38-bd5a-fcf52bf6d8cc",
   "metadata": {},
   "outputs": [
    {
     "name": "stdout",
     "output_type": "stream",
     "text": [
      "You're running syft version: 0.7.0-beta.18\n"
     ]
    }
   ],
   "source": [
    "# install syft if we are on google colab\n",
    "import sys, os; os.system(\"pip install --pre syft\") if \"google.colab\" in sys.modules else \"\"\n",
    "import syft as sy\n",
    "print(f\"You're running syft version: {sy.__version__}\")"
   ]
  },
  {
   "cell_type": "code",
   "execution_count": 2,
   "id": "5f341209-b087-40e0-9405-72208b0a2163",
   "metadata": {},
   "outputs": [],
   "source": [
    "domains = {} # our logged in domain clients\n",
    "domain_credentials = set() # our set of domain credentials"
   ]
  },
  {
   "cell_type": "code",
   "execution_count": 3,
   "id": "043563d9-0566-466b-af81-aa63f7327629",
   "metadata": {},
   "outputs": [],
   "source": [
    "# enter the dict given from the data owner\n",
    "def add_credentials(credentials_dict_list):\n",
    "    for credentials_dict in credentials_dict_list:\n",
    "        fs = frozenset(credentials_dict.items())\n",
    "        domain_credentials.add(fs)"
   ]
  },
  {
   "cell_type": "code",
   "execution_count": 4,
   "id": "2f276285-b413-42c6-8620-e92d57954ecc",
   "metadata": {},
   "outputs": [],
   "source": [
    "add_credentials(\n",
    "    [\n",
    "        {'url': '20.237.223.53', 'name': 'Samantha Carter', 'email': 'sam@sg1.net', 'password': 'stargate', 'dataset_name': 'MedNIST Data 1/10'},\n",
    "        {'url': '20.237.223.58', 'name': 'Samantha Carter', 'email': 'sam@sg1.net', 'password': 'stargate', 'dataset_name': 'MedNIST Data 5/10'},\n",
    "        #{'url': '20.237.223.187', 'name': 'Samantha Carter', 'email': 'sam@sg1.net', 'password': 'stargate', 'dataset_name': 'MedNIST Data 10/10'}\n",
    "        #{'url': '20.237.223.58', 'name': 'Samantha Carter', 'email': 'info@openmined.org', 'password': 'changethis', 'dataset_name': 'MedNIST Data 5/10'},\n",
    "    ]   \n",
    ")"
   ]
  },
  {
   "cell_type": "code",
   "execution_count": 5,
   "id": "9c1e6076-2922-407b-845e-6fa20481d088",
   "metadata": {},
   "outputs": [
    {
     "data": {
      "text/plain": [
       "{frozenset({('dataset_name', 'MedNIST Data 5/10'),\n",
       "            ('email', 'sam@sg1.net'),\n",
       "            ('name', 'Samantha Carter'),\n",
       "            ('password', 'stargate'),\n",
       "            ('url', '20.237.223.58')}),\n",
       " frozenset({('dataset_name', 'MedNIST Data 1/10'),\n",
       "            ('email', 'sam@sg1.net'),\n",
       "            ('name', 'Samantha Carter'),\n",
       "            ('password', 'stargate'),\n",
       "            ('url', '20.237.223.53')})}"
      ]
     },
     "execution_count": 5,
     "metadata": {},
     "output_type": "execute_result"
    }
   ],
   "source": [
    "domain_credentials"
   ]
  },
  {
   "cell_type": "code",
   "execution_count": 6,
   "id": "7ac6888e-cc6a-4e89-bdf3-fb8eb2418f89",
   "metadata": {},
   "outputs": [],
   "source": [
    "def login_to_domains(force: bool = False):\n",
    "    for fd in domain_credentials:\n",
    "        credentials = dict(fd)\n",
    "        if credentials[\"url\"] not in domains or force:\n",
    "            try:\n",
    "                details = credentials.copy()\n",
    "                del details[\"name\"]\n",
    "                del details[\"dataset_name\"]\n",
    "                client = sy.login(**details)\n",
    "                domains[credentials[\"url\"]] = client\n",
    "            except Exception as e:\n",
    "                print(e)"
   ]
  },
  {
   "cell_type": "code",
   "execution_count": 7,
   "id": "c433a592-62cd-4dce-8389-2907592c8e5e",
   "metadata": {},
   "outputs": [
    {
     "name": "stdout",
     "output_type": "stream",
     "text": [
      "Connecting to 20.237.223.58... done! \t Logging into clever_russell... done!\n",
      "Connecting to 20.237.223.53... done! \t Logging into strange_sutskever... done!\n"
     ]
    }
   ],
   "source": [
    "login_to_domains()"
   ]
  },
  {
   "cell_type": "code",
   "execution_count": 8,
   "id": "6e8da9a2-7c4d-41db-8c11-b40a6a8ac2e2",
   "metadata": {},
   "outputs": [],
   "source": [
    "#domain_client = domains['20.237.223.58']"
   ]
  },
  {
   "cell_type": "code",
   "execution_count": 9,
   "id": "fc139e5b-a73d-4bf8-bc0f-9184e0aba7e4",
   "metadata": {},
   "outputs": [
    {
     "name": "stderr",
     "output_type": "stream",
     "text": [
      "[2022-05-11T07:58:16.413480+0000][CRITICAL][logger]][32364] 'Class' object has no attribute 'generate_przs'\n",
      "[2022-05-11T07:58:16.440526+0000][CRITICAL][logger]][32364] 'Class' object has no attribute 'generate_przs'\n",
      "[2022-05-11T07:58:16.464718+0000][CRITICAL][logger]][32364] 'Class' object has no attribute 'generate_przs'\n",
      "[2022-05-11T07:58:16.483536+0000][CRITICAL][logger]][32364] 'Class' object has no attribute 'generate_przs'\n",
      "[2022-05-11T07:58:16.684981+0000][CRITICAL][logger]][32364] 'Class' object has no attribute 'generate_przs'\n",
      "[2022-05-11T07:58:16.707182+0000][CRITICAL][logger]][32364] 'Class' object has no attribute 'generate_przs'\n",
      "[2022-05-11T07:58:16.731108+0000][CRITICAL][logger]][32364] 'Class' object has no attribute 'generate_przs'\n",
      "[2022-05-11T07:58:16.753517+0000][CRITICAL][logger]][32364] 'Class' object has no attribute 'generate_przs'\n"
     ]
    }
   ],
   "source": [
    "pixels, labels = None, None\n",
    "\n",
    "for ip, domain_client in domains.items():\n",
    "    data = domain_client.datasets[0]\n",
    "    if pixels is None:\n",
    "        pixels = data[\"images\"]\n",
    "        labels = data[\"labels\"]\n",
    "        pixels.public_shape = (5895, 64, 64)\n",
    "        labels.public_shape = (5895,)\n",
    "    else:\n",
    "        _images = data[\"images\"]\n",
    "        _labels = data[\"labels\"]\n",
    "        _images.public_shape = (5895, 64, 64)\n",
    "        _labels.public_shape = (5895,)\n",
    "        pixels = pixels.concatenate(_images, )\n",
    "        labels = labels.concatenate(_labels)"
   ]
  },
  {
   "cell_type": "code",
   "execution_count": 10,
   "id": "64495f62-3f35-456f-b07d-15018a502f75",
   "metadata": {},
   "outputs": [
    {
     "data": {
      "text/plain": [
       "(\n",
       " \n",
       " MPCTensor.shape=(11790, 64, 64)\n",
       " \t .child[0] = <TensorPointer -> clever_russell:d86bcffc8069a2726fe96a2205eec9e1>\n",
       " \t .child[1] = <TensorPointer -> strange_sutskever:0c5825ec366b63856748301a8c8fe926>,\n",
       " \n",
       " \n",
       " MPCTensor.shape=(11790,)\n",
       " \t .child[0] = <TensorPointer -> clever_russell:28609c5e32e1dc991a1904965fe5225e>\n",
       " \t .child[1] = <TensorPointer -> strange_sutskever:874b93ded2a6591a1ff8ca0913bee409>)"
      ]
     },
     "execution_count": 10,
     "metadata": {},
     "output_type": "execute_result"
    }
   ],
   "source": [
    "pixels, labels"
   ]
  },
  {
   "cell_type": "code",
   "execution_count": 10,
   "id": "920cc966-0956-4d04-9c52-433102175c4e",
   "metadata": {},
   "outputs": [
    {
     "name": "stdout",
     "output_type": "stream",
     "text": [
      "Requirement already satisfied: sklearn in /home/om/PySyft/.tox/syft.jupyter/lib/python3.8/site-packages (0.0)\n",
      "Requirement already satisfied: scikit-learn in /home/om/PySyft/.tox/syft.jupyter/lib/python3.8/site-packages (from sklearn) (1.0.2)\n",
      "Requirement already satisfied: threadpoolctl>=2.0.0 in /home/om/PySyft/.tox/syft.jupyter/lib/python3.8/site-packages (from scikit-learn->sklearn) (3.1.0)\n",
      "Requirement already satisfied: numpy>=1.14.6 in /home/om/PySyft/.tox/syft.jupyter/lib/python3.8/site-packages (from scikit-learn->sklearn) (1.22.3)\n",
      "Requirement already satisfied: scipy>=1.1.0 in /home/om/PySyft/.tox/syft.jupyter/lib/python3.8/site-packages (from scikit-learn->sklearn) (1.8.0)\n",
      "Requirement already satisfied: joblib>=0.11 in /home/om/PySyft/.tox/syft.jupyter/lib/python3.8/site-packages (from scikit-learn->sklearn) (1.1.0)\n"
     ]
    }
   ],
   "source": [
    "!pip install sklearn"
   ]
  },
  {
   "cell_type": "code",
   "execution_count": 11,
   "id": "32af95ea-2781-487e-853a-b5f04e9b12cc",
   "metadata": {},
   "outputs": [],
   "source": [
    "import numpy as np\n",
    "import pandas as pd\n",
    "from matplotlib import pyplot as plt\n",
    "from sklearn import preprocessing\n",
    "from tqdm.notebook import tqdm"
   ]
  },
  {
   "cell_type": "code",
   "execution_count": 12,
   "id": "d622bdaa-b8a8-41f7-b147-afb7e5583b2c",
   "metadata": {},
   "outputs": [],
   "source": [
    "X_train = pixels.T"
   ]
  },
  {
   "cell_type": "code",
   "execution_count": 13,
   "id": "31f5cc86-9823-4842-8606-fa24579e7384",
   "metadata": {},
   "outputs": [
    {
     "name": "stdout",
     "output_type": "stream",
     "text": [
      "**Warning**: Fetching proxy_only will not delete the real object\n",
      "**Warning**: Proxy data class does not exist for this object. Fetching the real data.\n"
     ]
    },
    {
     "data": {
      "text/plain": [
       "(4096, 5895)"
      ]
     },
     "execution_count": 13,
     "metadata": {},
     "output_type": "execute_result"
    }
   ],
   "source": [
    "X_train.get(proxy_only=True).shape"
   ]
  },
  {
   "cell_type": "code",
   "execution_count": 200,
   "id": "31fdd6e7-1afa-4f36-9603-a6b428849445",
   "metadata": {},
   "outputs": [],
   "source": []
  },
  {
   "cell_type": "code",
   "execution_count": 202,
   "id": "8beb3334-4111-436b-bfc4-0391121577bd",
   "metadata": {},
   "outputs": [],
   "source": [
    "# m, n = 5895, 4096\n",
    "# split = 0.8\n",
    "# idx = round(split * n)\n",
    "\n",
    "# Y_dev = labels[0:idx]\n",
    "# X_dev = pixels[0:idx]\n",
    "# X_dev = X_dev / 255.\n",
    "\n",
    "# Y_train = labels[idx:]\n",
    "# X_train = pixels[idx:]\n",
    "# X_train = X_train / 255.\n",
    "X_train = pixels.T\n",
    "X_train = X_train / 255.0\n",
    "Y_train = labels / 255."
   ]
  },
  {
   "cell_type": "code",
   "execution_count": 206,
   "id": "fb5c6fc2-96dd-404b-8ad0-eed9180f447d",
   "metadata": {},
   "outputs": [
    {
     "name": "stdout",
     "output_type": "stream",
     "text": [
      "**Warning**: Fetching proxy_only will not delete the real object\n",
      "**Warning**: Proxy data class does not exist for this object. Fetching the real data.\n",
      "**Warning**: Fetching proxy_only will not delete the real object\n",
      "**Warning**: Proxy data class does not exist for this object. Fetching the real data.\n"
     ]
    },
    {
     "data": {
      "text/plain": [
       "(5895,)"
      ]
     },
     "execution_count": 206,
     "metadata": {},
     "output_type": "execute_result"
    }
   ],
   "source": [
    "X_train.get(proxy_only=True).shape\n",
    "Y_train.get(proxy_only=True).shape"
   ]
  },
  {
   "cell_type": "code",
   "execution_count": 207,
   "id": "0b8aa572-db50-4730-a175-94287da1b75d",
   "metadata": {},
   "outputs": [],
   "source": [
    "def init_params():\n",
    "    W1 = np.random.rand(6, 4096) - 0.5\n",
    "    b1 = np.random.rand(6, 1) - 0.5\n",
    "    W2 = np.random.rand(6, 6) - 0.5\n",
    "    b2 = np.random.rand(6, 1) - 0.5\n",
    "    return W1, b1, W2, b2\n",
    "\n",
    "def ReLU(Z):\n",
    "    return np.maximum(Z, 0)\n",
    "\n",
    "def softmax(Z):\n",
    "    A = np.exp(Z) / sum(np.exp(Z))\n",
    "    return A\n",
    "    \n",
    "def forward_prop(W1, b1, W2, b2, X):\n",
    "    print(\"W1\", W1.shape)\n",
    "    print(\"X\", X.get(proxy_only=True).shape)\n",
    "    Z1 = W1@(X) + b1\n",
    "    A1 = ReLU(Z1)\n",
    "    Z2 = W2@(A1) + b2\n",
    "    A2 = softmax(Z2)\n",
    "    return Z1, A1, Z2, A2\n",
    "\n",
    "def ReLU_deriv(Z):\n",
    "    return Z > 0\n",
    "\n",
    "def one_hot(Y):\n",
    "    one_hot_Y = np.zeros((Y.size, Y.max() + 1))\n",
    "    one_hot_Y[np.arange(Y.size), Y] = 1\n",
    "    one_hot_Y = one_hot_Y.T\n",
    "    return one_hot_Y\n",
    "\n",
    "def backward_prop(Z1, A1, Z2, A2, W1, W2, X, Y):\n",
    "    one_hot_Y = one_hot(Y)\n",
    "    dZ2 = A2 - one_hot_Y\n",
    "    dW2 = 1 / m * dZ2@(A1.T)\n",
    "    db2 = 1 / m * dZ2.sum()\n",
    "    dZ1 = W2.T@(dZ2) * ReLU_deriv(Z1)\n",
    "    dW1 = 1 / m * dZ1@(X.T)\n",
    "    db1 = 1 / m * dZ1.sum()\n",
    "    return dW1, db1, dW2, db2\n",
    "\n",
    "def update_params(W1, b1, W2, b2, dW1, db1, dW2, db2, alpha):\n",
    "    W1 = W1 - alpha * dW1\n",
    "    b1 = b1 - alpha * db1    \n",
    "    W2 = W2 - alpha * dW2  \n",
    "    b2 = b2 - alpha * db2    \n",
    "    return W1, b1, W2, b2"
   ]
  },
  {
   "cell_type": "code",
   "execution_count": 209,
   "id": "66ceb55a-762e-45b4-bc94-8d4c31f00064",
   "metadata": {},
   "outputs": [],
   "source": [
    "def get_predictions(A2):\n",
    "    return np.argmax(A2)\n",
    "\n",
    "def get_accuracy(predictions, Y):\n",
    "    return np.sum(predictions == Y) / Y.size\n",
    "\n",
    "def gradient_descent(X, Y, alpha, iterations):\n",
    "    W1, b1, W2, b2 = init_params()\n",
    "    print(\"[INFO]: Starting training!\\n\")\n",
    "    for i in tqdm(range(iterations)):\n",
    "        Z1, A1, Z2, A2 = forward_prop(W1, b1, W2, b2, X)\n",
    "        dW1, db1, dW2, db2 = backward_prop(Z1, A1, Z2, A2, W1, W2, X, Y)\n",
    "        W1, b1, W2, b2 = update_params(W1, b1, W2, b2, dW1, db1, dW2, db2, alpha)\n",
    "        if i % 40 == 0:\n",
    "            print(\"Predicition will be availabe in the next iteration.....Thank you for your support.\")\n",
    "            # predictions = get_predictions(A2)\n",
    "            # print(\"Iteration: \", i, \" Accuracy : \" ,get_accuracy(predictions, Y))\n",
    "    return W1, b1, W2, b2"
   ]
  },
  {
   "cell_type": "code",
   "execution_count": 211,
   "id": "59df4317-0f40-45a8-ace0-49afc02afa6e",
   "metadata": {},
   "outputs": [
    {
     "name": "stdout",
     "output_type": "stream",
     "text": [
      "**Warning**: Fetching proxy_only will not delete the real object\n",
      "**Warning**: Proxy data class does not exist for this object. Fetching the real data.\n",
      "(4096, 5895)\n",
      "**Warning**: Fetching proxy_only will not delete the real object\n",
      "**Warning**: Proxy data class does not exist for this object. Fetching the real data.\n",
      "(5895,)\n"
     ]
    }
   ],
   "source": [
    "print(X_train.get(proxy_only=True).shape)\n",
    "print(Y_train.get(proxy_only=True).shape)"
   ]
  },
  {
   "cell_type": "code",
   "execution_count": 212,
   "id": "482bcf5e-a8fe-471c-8a24-f6533b91148a",
   "metadata": {},
   "outputs": [
    {
     "name": "stdout",
     "output_type": "stream",
     "text": [
      "[INFO]: Starting training!\n",
      "\n"
     ]
    },
    {
     "data": {
      "application/vnd.jupyter.widget-view+json": {
       "model_id": "afc228478a3c45c5ac442513fe8b29c4",
       "version_major": 2,
       "version_minor": 0
      },
      "text/plain": [
       "  0%|          | 0/1 [00:00<?, ?it/s]"
      ]
     },
     "metadata": {},
     "output_type": "display_data"
    },
    {
     "name": "stdout",
     "output_type": "stream",
     "text": [
      "W1 (6, 4096)\n",
      "**Warning**: Fetching proxy_only will not delete the real object\n",
      "**Warning**: Proxy data class does not exist for this object. Fetching the real data.\n",
      "X (4096, 5895)\n",
      "{'request_block': True, 'timeout_secs': 25, 'delete_obj': False}\n"
     ]
    },
    {
     "name": "stderr",
     "output_type": "stream",
     "text": [
      "[2022-05-11T07:47:46.179144+0000][CRITICAL][logger]][25341] UnknownPrivateException has been triggered.\n",
      "[2022-05-11T07:47:46.180319+0000][CRITICAL][logger]][25341] Request to access data length rejected.\n"
     ]
    },
    {
     "ename": "ValueError",
     "evalue": "matmul: Input operand 1 does not have enough dimensions (has 0, gufunc core with signature (n?,k),(k,m?)->(n?,m?) requires 1)",
     "output_type": "error",
     "traceback": [
      "\u001b[0;31m---------------------------------------------------------------------------\u001b[0m",
      "\u001b[0;31mValueError\u001b[0m                                Traceback (most recent call last)",
      "Input \u001b[0;32mIn [212]\u001b[0m, in \u001b[0;36m<cell line: 1>\u001b[0;34m()\u001b[0m\n\u001b[0;32m----> 1\u001b[0m W1, b1, W2, b2 \u001b[38;5;241m=\u001b[39m \u001b[43mgradient_descent\u001b[49m\u001b[43m(\u001b[49m\u001b[43mX_train\u001b[49m\u001b[43m,\u001b[49m\u001b[43m \u001b[49m\u001b[43mY_train\u001b[49m\u001b[43m,\u001b[49m\u001b[43m \u001b[49m\u001b[38;5;241;43m0.10\u001b[39;49m\u001b[43m,\u001b[49m\u001b[43m \u001b[49m\u001b[38;5;241;43m1\u001b[39;49m\u001b[43m)\u001b[49m\n",
      "Input \u001b[0;32mIn [209]\u001b[0m, in \u001b[0;36mgradient_descent\u001b[0;34m(X, Y, alpha, iterations)\u001b[0m\n\u001b[1;32m      9\u001b[0m \u001b[38;5;28mprint\u001b[39m(\u001b[38;5;124m\"\u001b[39m\u001b[38;5;124m[INFO]: Starting training!\u001b[39m\u001b[38;5;130;01m\\n\u001b[39;00m\u001b[38;5;124m\"\u001b[39m)\n\u001b[1;32m     10\u001b[0m \u001b[38;5;28;01mfor\u001b[39;00m i \u001b[38;5;129;01min\u001b[39;00m tqdm(\u001b[38;5;28mrange\u001b[39m(iterations)):\n\u001b[0;32m---> 11\u001b[0m     Z1, A1, Z2, A2 \u001b[38;5;241m=\u001b[39m \u001b[43mforward_prop\u001b[49m\u001b[43m(\u001b[49m\u001b[43mW1\u001b[49m\u001b[43m,\u001b[49m\u001b[43m \u001b[49m\u001b[43mb1\u001b[49m\u001b[43m,\u001b[49m\u001b[43m \u001b[49m\u001b[43mW2\u001b[49m\u001b[43m,\u001b[49m\u001b[43m \u001b[49m\u001b[43mb2\u001b[49m\u001b[43m,\u001b[49m\u001b[43m \u001b[49m\u001b[43mX\u001b[49m\u001b[43m)\u001b[49m\n\u001b[1;32m     12\u001b[0m     dW1, db1, dW2, db2 \u001b[38;5;241m=\u001b[39m backward_prop(Z1, A1, Z2, A2, W1, W2, X, Y)\n\u001b[1;32m     13\u001b[0m     W1, b1, W2, b2 \u001b[38;5;241m=\u001b[39m update_params(W1, b1, W2, b2, dW1, db1, dW2, db2, alpha)\n",
      "Input \u001b[0;32mIn [207]\u001b[0m, in \u001b[0;36mforward_prop\u001b[0;34m(W1, b1, W2, b2, X)\u001b[0m\n\u001b[1;32m     16\u001b[0m \u001b[38;5;28mprint\u001b[39m(\u001b[38;5;124m\"\u001b[39m\u001b[38;5;124mW1\u001b[39m\u001b[38;5;124m\"\u001b[39m, W1\u001b[38;5;241m.\u001b[39mshape)\n\u001b[1;32m     17\u001b[0m \u001b[38;5;28mprint\u001b[39m(\u001b[38;5;124m\"\u001b[39m\u001b[38;5;124mX\u001b[39m\u001b[38;5;124m\"\u001b[39m, X\u001b[38;5;241m.\u001b[39mget(proxy_only\u001b[38;5;241m=\u001b[39m\u001b[38;5;28;01mTrue\u001b[39;00m)\u001b[38;5;241m.\u001b[39mshape)\n\u001b[0;32m---> 18\u001b[0m Z1 \u001b[38;5;241m=\u001b[39m \u001b[43mW1\u001b[49m\u001b[38;5;241;43m@\u001b[39;49m\u001b[43m(\u001b[49m\u001b[43mX\u001b[49m\u001b[43m)\u001b[49m \u001b[38;5;241m+\u001b[39m b1\n\u001b[1;32m     19\u001b[0m A1 \u001b[38;5;241m=\u001b[39m ReLU(Z1)\n\u001b[1;32m     20\u001b[0m Z2 \u001b[38;5;241m=\u001b[39m W2\u001b[38;5;241m@\u001b[39m(A1) \u001b[38;5;241m+\u001b[39m b2\n",
      "\u001b[0;31mValueError\u001b[0m: matmul: Input operand 1 does not have enough dimensions (has 0, gufunc core with signature (n?,k),(k,m?)->(n?,m?) requires 1)"
     ]
    }
   ],
   "source": [
    "W1, b1, W2, b2 = gradient_descent(X_train, Y_train, 0.10, 1)"
   ]
  },
  {
   "cell_type": "code",
   "execution_count": 179,
   "id": "6305aeaf-f313-4f62-a85d-1abe7e4384a5",
   "metadata": {},
   "outputs": [],
   "source": [
    "W1, b1, W2, b2 = init_params()"
   ]
  },
  {
   "cell_type": "code",
   "execution_count": 214,
   "id": "f771d395-cf32-4218-a4fe-f10c3afa99e3",
   "metadata": {},
   "outputs": [
    {
     "name": "stderr",
     "output_type": "stream",
     "text": [
      "[2022-05-11T07:48:31.715898+0000][CRITICAL][logger]][25341] UnknownPrivateException has been triggered.\n",
      "[2022-05-11T07:48:31.717206+0000][CRITICAL][logger]][25341] Request to access data length rejected.\n"
     ]
    },
    {
     "name": "stdout",
     "output_type": "stream",
     "text": [
      "{'request_block': True, 'timeout_secs': 25, 'delete_obj': False}\n"
     ]
    },
    {
     "ename": "ValueError",
     "evalue": "matmul: Input operand 1 does not have enough dimensions (has 0, gufunc core with signature (n?,k),(k,m?)->(n?,m?) requires 1)",
     "output_type": "error",
     "traceback": [
      "\u001b[0;31m---------------------------------------------------------------------------\u001b[0m",
      "\u001b[0;31mValueError\u001b[0m                                Traceback (most recent call last)",
      "Input \u001b[0;32mIn [214]\u001b[0m, in \u001b[0;36m<cell line: 1>\u001b[0;34m()\u001b[0m\n\u001b[0;32m----> 1\u001b[0m x \u001b[38;5;241m=\u001b[39m \u001b[43mW1\u001b[49m\u001b[38;5;129;43m@X_train\u001b[39;49m\u001b[38;5;241;43m.\u001b[39;49m\u001b[43mT\u001b[49m\n",
      "\u001b[0;31mValueError\u001b[0m: matmul: Input operand 1 does not have enough dimensions (has 0, gufunc core with signature (n?,k),(k,m?)->(n?,m?) requires 1)"
     ]
    }
   ],
   "source": [
    "x = W1@X_train"
   ]
  },
  {
   "cell_type": "code",
   "execution_count": 215,
   "id": "5e743553-f543-497b-9d36-3a83eefc2f14",
   "metadata": {},
   "outputs": [],
   "source": [
    "x = X_train.get_copy()"
   ]
  },
  {
   "cell_type": "code",
   "execution_count": null,
   "id": "16434506-6a51-4b8b-b046-3513a4217271",
   "metadata": {},
   "outputs": [],
   "source": [
    "x.child.child.child"
   ]
  },
  {
   "cell_type": "code",
   "execution_count": null,
   "id": "0cf13af8-980e-4004-8371-50fb1d563ab9",
   "metadata": {},
   "outputs": [],
   "source": [
    "W1@x"
   ]
  },
  {
   "cell_type": "code",
   "execution_count": null,
   "id": "18457f9e-985a-4b7a-b021-f41b55e90594",
   "metadata": {},
   "outputs": [],
   "source": []
  },
  {
   "cell_type": "code",
   "execution_count": null,
   "id": "ecb34854-558a-4940-a510-196abc64dfc6",
   "metadata": {},
   "outputs": [],
   "source": []
  }
 ],
 "metadata": {
  "kernelspec": {
   "display_name": "Python 3 (ipykernel)",
   "language": "python",
   "name": "python3"
  },
  "language_info": {
   "codemirror_mode": {
    "name": "ipython",
    "version": 3
   },
   "file_extension": ".py",
   "mimetype": "text/x-python",
   "name": "python",
   "nbconvert_exporter": "python",
   "pygments_lexer": "ipython3",
   "version": "3.8.10"
  }
 },
 "nbformat": 4,
 "nbformat_minor": 5
}
