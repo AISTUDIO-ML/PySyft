{
 "cells": [
  {
   "cell_type": "code",
   "execution_count": 21,
   "id": "78157ab5-0c83-4afd-9179-a90d5e551433",
   "metadata": {},
   "outputs": [],
   "source": [
    "# Import syft\n",
    "import syft as sy"
   ]
  },
  {
   "cell_type": "code",
   "execution_count": 35,
   "id": "67e30815-68c2-46ea-b785-a9ac813e6bcf",
   "metadata": {},
   "outputs": [],
   "source": [
    "# The default email and password that got created during Domain creation, edit the below if you have your own credentials\n",
    "ADMIN_EMAIL=\"info@openmined.org\"\n",
    "ADMIN_PASSWORD=\"changethis\""
   ]
  },
  {
   "cell_type": "code",
   "execution_count": null,
   "id": "97147676-2181-48cd-91c4-921939263839",
   "metadata": {},
   "outputs": [],
   "source": [
    "# Connect yourself to a domain with a domain's URL or host one on your own\n",
    "domain_client = sy.login(\n",
    "    url=\"<insert_url_here>\", email=ADMIN_EMAIL, password=ADMIN_PASSWORD\n",
    ")"
   ]
  },
  {
   "cell_type": "code",
   "execution_count": null,
   "id": "1290409a-c707-4fe6-a838-a891c52c8e0b",
   "metadata": {},
   "outputs": [],
   "source": [
    "# Fetch all publcily visible and available networks\n",
    "sy.networks"
   ]
  },
  {
   "cell_type": "code",
   "execution_count": null,
   "id": "8d009dd1-6e4c-4790-9fcc-bd63825cf26c",
   "metadata": {},
   "outputs": [],
   "source": [
    "# You can connect to a network as a guest user (with limited privileges) if we do not provide any credentials\n",
    "network_client = sy.networks[\"UN PET Lab Network\"]\n",
    "\n",
    "# Or you can connect directly via a URL provided as:\n",
    "# todo: confirm the command for this"
   ]
  },
  {
   "cell_type": "code",
   "execution_count": 8,
   "id": "a5b6a9ac-67d1-42d0-af62-52b7e72adc29",
   "metadata": {},
   "outputs": [
    {
     "data": {
      "text/html": [
       "<div>\n",
       "<style scoped>\n",
       "    .dataframe tbody tr th:only-of-type {\n",
       "        vertical-align: middle;\n",
       "    }\n",
       "\n",
       "    .dataframe tbody tr th {\n",
       "        vertical-align: top;\n",
       "    }\n",
       "\n",
       "    .dataframe thead th {\n",
       "        text-align: right;\n",
       "    }\n",
       "</style>\n",
       "<table border=\"1\" class=\"dataframe\">\n",
       "  <thead>\n",
       "    <tr style=\"text-align: right;\">\n",
       "      <th></th>\n",
       "      <th>host_or_ip</th>\n",
       "      <th>id</th>\n",
       "      <th>is_vpn</th>\n",
       "      <th>name</th>\n",
       "      <th>port</th>\n",
       "      <th>private</th>\n",
       "      <th>protocol</th>\n",
       "    </tr>\n",
       "  </thead>\n",
       "  <tbody>\n",
       "    <tr>\n",
       "      <th>0</th>\n",
       "      <td>100.64.0.2</td>\n",
       "      <td>43fb0145036941c1a228d09ff7a1e458</td>\n",
       "      <td>1</td>\n",
       "      <td>teo</td>\n",
       "      <td>80</td>\n",
       "      <td>0</td>\n",
       "      <td>http</td>\n",
       "    </tr>\n",
       "    <tr>\n",
       "      <th>1</th>\n",
       "      <td>100.64.0.3</td>\n",
       "      <td>b03e5244f0c245ce888707dcc0ffb6df</td>\n",
       "      <td>1</td>\n",
       "      <td>turbo</td>\n",
       "      <td>80</td>\n",
       "      <td>0</td>\n",
       "      <td>http</td>\n",
       "    </tr>\n",
       "    <tr>\n",
       "      <th>2</th>\n",
       "      <td>100.64.0.4</td>\n",
       "      <td>8cbd6c9895ef4e2d8d7cda5ee8b82a52</td>\n",
       "      <td>1</td>\n",
       "      <td>canada</td>\n",
       "      <td>80</td>\n",
       "      <td>0</td>\n",
       "      <td>http</td>\n",
       "    </tr>\n",
       "    <tr>\n",
       "      <th>3</th>\n",
       "      <td>100.64.0.5</td>\n",
       "      <td>bdd9d4de22374c4a81013266b9b0f1a2</td>\n",
       "      <td>1</td>\n",
       "      <td>test_domain</td>\n",
       "      <td>80</td>\n",
       "      <td>0</td>\n",
       "      <td>http</td>\n",
       "    </tr>\n",
       "  </tbody>\n",
       "</table>\n",
       "</div>"
      ],
      "text/plain": [
       "<syft.core.node.common.client_manager.domain_api.DomainRequestAPI at 0x7f91b8db5b50>"
      ]
     },
     "execution_count": 8,
     "metadata": {},
     "output_type": "execute_result"
    }
   ],
   "source": [
    "# Fetch all the available domains in the network you are connected to currently\n",
    "network_client.domains"
   ]
  },
  {
   "cell_type": "code",
   "execution_count": null,
   "id": "1ae5975f-95cd-49b8-ba00-25b3226dc8f5",
   "metadata": {},
   "outputs": [],
   "source": [
    "# We, now, apply our domain to the network we connected to.\n",
    "domain_client.apply_to_network(network_client)"
   ]
  },
  {
   "cell_type": "code",
   "execution_count": null,
   "id": "99f13f05-e79d-4c3a-98b1-ae2360ef14a6",
   "metadata": {},
   "outputs": [],
   "source": [
    "# We can now see our domain as well in the network, hence we successfully added it!\n",
    "network_client.domains"
   ]
  },
  {
   "cell_type": "code",
   "execution_count": null,
   "id": "a8510bcb-7a92-4d02-ba79-577c1e18f956",
   "metadata": {},
   "outputs": [],
   "source": [
    "# Verify if your domain is succesfully connected to the Network node via VPN\n",
    "domain_client.vpn_status()"
   ]
  }
 ],
 "metadata": {
  "kernelspec": {
   "display_name": "Python 3 (ipykernel)",
   "language": "python",
   "name": "python3"
  },
  "language_info": {
   "codemirror_mode": {
    "name": "ipython",
    "version": 3
   },
   "file_extension": ".py",
   "mimetype": "text/x-python",
   "name": "python",
   "nbconvert_exporter": "python",
   "pygments_lexer": "ipython3",
   "version": "3.9.12"
  }
 },
 "nbformat": 4,
 "nbformat_minor": 5
}
