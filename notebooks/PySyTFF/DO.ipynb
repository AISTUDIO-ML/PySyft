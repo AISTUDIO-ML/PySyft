{
 "cells": [
  {
   "cell_type": "code",
   "execution_count": null,
   "metadata": {},
   "outputs": [],
   "source": []
  },
  {
   "cell_type": "code",
   "execution_count": null,
   "metadata": {},
   "outputs": [],
   "source": [
    "# download MedNIST.pkl\n",
    "if not os.path.exists(\"./MedNIST.pkl\"):\n",
    "    os.system('curl -O \"https://media.githubusercontent.com/media/shubham3121/datasets/main/MedNIST/MedNIST.pkl\"')\n",
    "else:\n",
    "    print(\"MedNIST already downloaded\")"
   ]
  },
  {
   "cell_type": "code",
   "execution_count": null,
   "metadata": {},
   "outputs": [],
   "source": [
    "# Helper Methods\n",
    "\n",
    "import os\n",
    "import json\n",
    "import pandas as pd\n",
    "from PIL import Image\n",
    "from enum import Enum\n",
    "from collections import defaultdict\n",
    "import numpy as np\n",
    "from syft.core.adp.data_subject_list import DataSubjectList\n",
    "\n",
    "\n",
    "def get_label_mapping():\n",
    "    # the data uses the following mapping\n",
    "    mapping = {\n",
    "        \"AbdomenCT\": 0, \n",
    "        \"BreastMRI\": 1, \n",
    "        \"CXR\": 2, \n",
    "        \"ChestCT\": 3, \n",
    "        \"Hand\": 4, \n",
    "        \"HeadCT\": 5\n",
    "    }\n",
    "    return mapping\n",
    "\n",
    "df = pd.read_pickle(\"./MedNIST.pkl\")\n",
    "mapping = get_label_mapping()\n",
    "\n",
    "total_num = df.shape[0]\n",
    "print(\"Columns:\", df.columns)\n",
    "print(\"Total Images:\", total_num)\n",
    "print(\"Label Mapping\", mapping)"
   ]
  },
  {
   "cell_type": "code",
   "execution_count": null,
   "metadata": {},
   "outputs": [],
   "source": []
  }
 ],
 "metadata": {
  "kernelspec": {
   "display_name": "Python 3.9.5 64-bit",
   "language": "python",
   "name": "python3"
  },
  "language_info": {
   "name": "python",
   "version": "3.9.5"
  },
  "orig_nbformat": 4,
  "vscode": {
   "interpreter": {
    "hash": "f9f85f796d01129d0dd105a088854619f454435301f6ffec2fea96ecbd9be4ac"
   }
  }
 },
 "nbformat": 4,
 "nbformat_minor": 2
}
