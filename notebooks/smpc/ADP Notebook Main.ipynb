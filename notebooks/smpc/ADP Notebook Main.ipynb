{
 "cells": [
  {
   "cell_type": "code",
   "execution_count": 4,
   "id": "67c2d127-c955-4313-b7d2-c584f037f85b",
   "metadata": {},
   "outputs": [
    {
     "name": "stdout",
     "output_type": "stream",
     "text": [
      "The autoreload extension is already loaded. To reload it, use:\n",
      "  %reload_ext autoreload\n"
     ]
    }
   ],
   "source": [
    "%load_ext autoreload\n",
    "%autoreload 2\n",
    "import syft as sy\n",
    "sy.logger.remove()\n",
    "import numpy as np\n",
    "import pandas as pd\n",
    "from syft.core.adp.entity import Entity\n",
    "from syft.core.tensor.autodp.single_entity_phi import SingleEntityPhiTensor as SEPT\n",
    "from syft.core.tensor.smpc.mpc_tensor import MPCTensor\n",
    "import time\n",
    "import uuid\n",
    "from typing import Any\n",
    "from typing import Dict\n",
    "from syft.core.smpc.protocol.aby3 import ABY3\n",
    "data = sy.Tensor(np.array([-2,0,-2,-2,0]))\n",
    "import operator"
   ]
  },
  {
   "cell_type": "code",
   "execution_count": 5,
   "id": "aa74bb27-e8aa-404b-a32f-cdff0c36390b",
   "metadata": {},
   "outputs": [
    {
     "name": "stdout",
     "output_type": "stream",
     "text": [
      "WARNING: CHANGE YOUR USERNAME AND PASSWORD!!! \n",
      "\n",
      "Anyone can login as an admin to your node right now because your password is still the default PySyft username and password!!!\n",
      "\n",
      "Connecting to localhost... done! \t Logging into adp... done!\n",
      "WARNING: CHANGE YOUR USERNAME AND PASSWORD!!! \n",
      "\n",
      "Anyone can login as an admin to your node right now because your password is still the default PySyft username and password!!!\n",
      "\n",
      "Connecting to localhost... done! \t Logging into musing_sutskever... done!\n"
     ]
    }
   ],
   "source": [
    "DOMAIN1_PORT = 8081\n",
    "DOMAIN2_PORT = 8082\n",
    "p1 =  sy.login(email=\"info@openmined.org\",password=\"changethis\",port=DOMAIN1_PORT)\n",
    "p2 = sy.login(email=\"info@openmined.org\",password=\"changethis\",port=DOMAIN2_PORT)\n",
    "t1 = data.send(p1)\n",
    "t2 = data.send(p2)"
   ]
  },
  {
   "cell_type": "code",
   "execution_count": 6,
   "id": "61aef60e-249b-435d-bd42-83af7f13d780",
   "metadata": {},
   "outputs": [
    {
     "name": "stdout",
     "output_type": "stream",
     "text": [
      "WARNING: CHANGE YOUR USERNAME AND PASSWORD!!! \n",
      "\n",
      "Anyone can login as an admin to your node right now because your password is still the default PySyft username and password!!!\n",
      "\n",
      "Connecting to localhost... done! \t Logging into adp... done!\n"
     ]
    },
    {
     "name": "stderr",
     "output_type": "stream",
     "text": [
      "/tmp/ipykernel_108706/3138192200.py:3: DtypeWarning: Columns (14) have mixed types. Specify dtype option on import or set low_memory=False.\n",
      "  return pd.read_csv(f\"../trade_demo/datasets/{csv_file}\")[0:10]\n"
     ]
    },
    {
     "name": "stdout",
     "output_type": "stream",
     "text": [
      "Dataset is uploaded successfully !!! 🎉                                                                                                                                       \n",
      "\n",
      "Run `<your client variable>.datasets` to see your new dataset loaded into your machine!\n",
      "WARNING: CHANGE YOUR USERNAME AND PASSWORD!!! \n",
      "\n",
      "Anyone can login as an admin to your node right now because your password is still the default PySyft username and password!!!\n",
      "\n",
      "Connecting to localhost... done! \t Logging into musing_sutskever... done!\n",
      "Dataset is uploaded successfully !!! 🎉                                                                                                                                       \n",
      "\n",
      "Run `<your client variable>.datasets` to see your new dataset loaded into your machine!\n"
     ]
    },
    {
     "name": "stderr",
     "output_type": "stream",
     "text": [
      "/tmp/ipykernel_108706/3138192200.py:3: DtypeWarning: Columns (14) have mixed types. Specify dtype option on import or set low_memory=False.\n",
      "  return pd.read_csv(f\"../trade_demo/datasets/{csv_file}\")[0:10]\n"
     ]
    }
   ],
   "source": [
    "ROOT_DIR = \"/home/azureuser/PySyft\"\n",
    "def load_data(csv_file: str) -> pd.DataFrame:\n",
    "    return pd.read_csv(f\"../trade_demo/datasets/{csv_file}\")[0:10]\n",
    "\n",
    "def get_user_details(unique_email: str) -> Dict[str, Any]:\n",
    "    return {\n",
    "        \"name\": \"Sheldon Cooper\",\n",
    "        \"email\": unique_email,\n",
    "        \"password\": \"bazinga\",\n",
    "        \"budget\": 10,\n",
    "    }\n",
    "\n",
    "unique_email = f\"{uuid.uuid4()}@caltech.edu\"\n",
    "\n",
    "# Canada\n",
    "ca_root = sy.login(email=\"info@openmined.org\", password=\"changethis\", port=DOMAIN1_PORT)\n",
    "ca_data = load_data(csv_file=\"ca - feb 2021.csv\")\n",
    "\n",
    "\n",
    "# canada_trade = (\n",
    "#     (np.array(list(ca_data[\"Trade Value (US$)\"])) / 1000)[0:10]\n",
    "# ).astype(np.int64)\n",
    "canada_trade = np.array([[1,2],[3,4]])\n",
    "trade_partners = ((list(ca_data[\"Partner\"])))[0:10]\n",
    "\n",
    "entities = list()\n",
    "for i in range(len(trade_partners)):\n",
    "    entities.append(Entity(name=trade_partners[i]))\n",
    "\n",
    "sampled_canada_dataset = sy.Tensor(canada_trade)\n",
    "sampled_canada_dataset.public_shape = sampled_canada_dataset.shape\n",
    "sampled_canada_dataset = sampled_canada_dataset.private(\n",
    "      0, 3, entities=[entities[0].name]*canada_trade.shape[0],ndept=True\n",
    ").tag(\"trade_flow\")\n",
    "\n",
    "# load dataset\n",
    "ca_root.load_dataset(\n",
    "    assets={\"Canada Trade\": sampled_canada_dataset},\n",
    "    name=\"Canada Trade Data - First few rows\",\n",
    "    description=(\n",
    "        \"A collection of reports from Canada's statistics bureau about how \"\n",
    "        + \"much it thinks it imports and exports from other countries.\"\n",
    "    ),\n",
    "    skip_checks=True,\n",
    "    \n",
    ")\n",
    "\n",
    "assert len(ca_root.datasets) > 0\n",
    "\n",
    "\n",
    "\n",
    "# Italy\n",
    "it_root = sy.login(email=\"info@openmined.org\", password=\"changethis\", port=DOMAIN2_PORT)\n",
    "it_data = load_data(csv_file=\"it - feb 2021.csv\")\n",
    "\n",
    "# italy_trade = ((np.array(list(it_data[\"Trade Value (US$)\"])) / 1000)[0:10]).astype(\n",
    "#     np.int64\n",
    "# )\n",
    "italy_trade = np.array([[1,2],[3,4]])\n",
    "trade_partners = ((list(it_data[\"Partner\"])))[0:10]\n",
    "\n",
    "entities = list()\n",
    "for i in range(len(trade_partners)):\n",
    "    entities.append(Entity(name=\"Other Asia, nes\"))\n",
    "\n",
    "# Upload a private dataset to the Domain object, as the root owner\n",
    "sampled_italy_dataset = sy.Tensor(italy_trade)\n",
    "sampled_italy_dataset.public_shape = sampled_italy_dataset.shape\n",
    "sampled_italy_dataset = sampled_italy_dataset.private(\n",
    "    0, 3, entities=[entities[0].name]*canada_trade.shape[0],ndept=True,\n",
    ").tag(\"trade_flow\")\n",
    "\n",
    "it_root.load_dataset(\n",
    "    assets={\"Italy Trade\": sampled_italy_dataset},\n",
    "    name=\"Italy Trade Data - First few rows\",\n",
    "    description=(\n",
    "        \"A collection of reports from iStat's statistics bureau about how \"\n",
    "        + \"much it thinks it imports and exports from other countries.\"\n",
    "    ),\n",
    "    skip_checks=True,\n",
    "    \n",
    ")\n",
    "\n"
   ]
  },
  {
   "cell_type": "code",
   "execution_count": 7,
   "id": "61a48e46-80d3-460d-b6de-5ccc46daf72b",
   "metadata": {
    "tags": []
   },
   "outputs": [],
   "source": [
    "x = p1.datasets[-1][\"Canada Trade\"]\n",
    "y = p2.datasets[-1][\"Italy Trade\"]"
   ]
  },
  {
   "cell_type": "code",
   "execution_count": 12,
   "id": "82d9b26c-8b99-4ef5-b17d-a76680a80d8f",
   "metadata": {},
   "outputs": [
    {
     "data": {
      "text/plain": [
       "syft.core.tensor.autodp.ndim_entity_phi.TensorWrappedNDimEntityPhiTensorPointer"
      ]
     },
     "execution_count": 12,
     "metadata": {},
     "output_type": "execute_result"
    }
   ],
   "source": [
    "type(x)"
   ]
  },
  {
   "cell_type": "code",
   "execution_count": 14,
   "id": "e7b34836-3a93-4742-b082-3a41e3da4cbe",
   "metadata": {},
   "outputs": [
    {
     "data": {
      "text/plain": [
       "<syft.core.adp.data_subject_list.DataSubjectList at 0x7f74d072ff10>"
      ]
     },
     "execution_count": 14,
     "metadata": {},
     "output_type": "execute_result"
    }
   ],
   "source": [
    "x.entities"
   ]
  },
  {
   "cell_type": "code",
   "execution_count": 10,
   "id": "cab1feb4",
   "metadata": {},
   "outputs": [
    {
     "ename": "Exception",
     "evalue": "Object with id <UID: 5ebaa1c30598c069a7d67a2d99779861> still doesn't exist after 10 second timeout.",
     "output_type": "error",
     "traceback": [
      "\u001b[0;31m---------------------------------------------------------------------------\u001b[0m",
      "\u001b[0;31mException\u001b[0m                                 Traceback (most recent call last)",
      "Input \u001b[0;32mIn [10]\u001b[0m, in \u001b[0;36m<cell line: 7>\u001b[0;34m()\u001b[0m\n\u001b[1;32m      5\u001b[0m res \u001b[38;5;241m=\u001b[39m op(x,y)\n\u001b[1;32m      6\u001b[0m \u001b[38;5;66;03m#For comparison increase the timeout\u001b[39;00m\n\u001b[0;32m----> 7\u001b[0m \u001b[43mres\u001b[49m\u001b[38;5;241;43m.\u001b[39;49m\u001b[43mblock_with_timeout\u001b[49m\u001b[43m(\u001b[49m\u001b[38;5;241;43m10\u001b[39;49m\u001b[43m)\u001b[49m\n\u001b[1;32m      8\u001b[0m val \u001b[38;5;241m=\u001b[39m res\u001b[38;5;241m.\u001b[39mget_copy()\n",
      "File \u001b[0;32m~/PycharmProjects/PySyft/packages/syft/src/syft/core/tensor/smpc/mpc_tensor.py:395\u001b[0m, in \u001b[0;36mMPCTensor.block_with_timeout\u001b[0;34m(self, secs, secs_per_poll)\u001b[0m\n\u001b[1;32m    392\u001b[0m \u001b[38;5;124;03m\"\"\"Block until all shares have been created or until timeout expires.\"\"\"\u001b[39;00m\n\u001b[1;32m    394\u001b[0m \u001b[38;5;28;01mfor\u001b[39;00m share \u001b[38;5;129;01min\u001b[39;00m \u001b[38;5;28mself\u001b[39m\u001b[38;5;241m.\u001b[39mchild:\n\u001b[0;32m--> 395\u001b[0m     \u001b[43mshare\u001b[49m\u001b[38;5;241;43m.\u001b[39;49m\u001b[43mblock_with_timeout\u001b[49m\u001b[43m(\u001b[49m\u001b[43msecs\u001b[49m\u001b[38;5;241;43m=\u001b[39;49m\u001b[43msecs\u001b[49m\u001b[43m,\u001b[49m\u001b[43m \u001b[49m\u001b[43msecs_per_poll\u001b[49m\u001b[38;5;241;43m=\u001b[39;49m\u001b[43msecs_per_poll\u001b[49m\u001b[43m)\u001b[49m\n\u001b[1;32m    397\u001b[0m \u001b[38;5;28;01mreturn\u001b[39;00m \u001b[38;5;28mself\u001b[39m\n",
      "File \u001b[0;32m~/PycharmProjects/PySyft/packages/syft/src/syft/core/pointer/pointer.py:180\u001b[0m, in \u001b[0;36mPointer.block_with_timeout\u001b[0;34m(self, secs, secs_per_poll)\u001b[0m\n\u001b[1;32m    177\u001b[0m     secs \u001b[38;5;241m-\u001b[39m\u001b[38;5;241m=\u001b[39m secs_per_poll\n\u001b[1;32m    179\u001b[0m \u001b[38;5;28;01mif\u001b[39;00m \u001b[38;5;129;01mnot\u001b[39;00m \u001b[38;5;28mself\u001b[39m\u001b[38;5;241m.\u001b[39mexists:\n\u001b[0;32m--> 180\u001b[0m     \u001b[38;5;28;01mraise\u001b[39;00m \u001b[38;5;167;01mException\u001b[39;00m(\n\u001b[1;32m    181\u001b[0m         \u001b[38;5;124mf\u001b[39m\u001b[38;5;124m\"\u001b[39m\u001b[38;5;124mObject with id \u001b[39m\u001b[38;5;132;01m{\u001b[39;00m\u001b[38;5;28mself\u001b[39m\u001b[38;5;241m.\u001b[39mid_at_location\u001b[38;5;132;01m}\u001b[39;00m\u001b[38;5;124m still doesn\u001b[39m\u001b[38;5;124m'\u001b[39m\u001b[38;5;124mt exist after \u001b[39m\u001b[38;5;132;01m{\u001b[39;00mtotal_secs\u001b[38;5;132;01m}\u001b[39;00m\u001b[38;5;124m second timeout.\u001b[39m\u001b[38;5;124m\"\u001b[39m\n\u001b[1;32m    182\u001b[0m     )\n\u001b[1;32m    184\u001b[0m \u001b[38;5;28;01mreturn\u001b[39;00m \u001b[38;5;28mself\u001b[39m\n",
      "\u001b[0;31mException\u001b[0m: Object with id <UID: 5ebaa1c30598c069a7d67a2d99779861> still doesn't exist after 10 second timeout."
     ]
    }
   ],
   "source": [
    "# working operations\n",
    "ops = [\"add\",\"sub\",\"mul\",\"matmul\",\"lt\",\"gt\",\"eq\",\"ne\",\"ge\",\"le\"]\n",
    "idx = 2 # points to the op\n",
    "op = getattr(operator,ops[idx])\n",
    "res = op(x,y)\n",
    "#For comparison increase the timeout\n",
    "res.block_with_timeout(10)\n",
    "val = res.get_copy()"
   ]
  },
  {
   "cell_type": "code",
   "execution_count": 28,
   "id": "444ca3f2",
   "metadata": {},
   "outputs": [
    {
     "data": {
      "text/plain": [
       "array([[ True,  True],\n",
       "       [ True,  True]])"
      ]
     },
     "execution_count": 28,
     "metadata": {},
     "output_type": "execute_result"
    }
   ],
   "source": [
    "val.round() == op(sampled_canada_dataset.decode(),sampled_italy_dataset.decode())"
   ]
  },
  {
   "cell_type": "code",
   "execution_count": 30,
   "id": "426515dc",
   "metadata": {},
   "outputs": [
    {
     "name": "stdout",
     "output_type": "stream",
     "text": [
      "[[0. 0.]\n",
      " [0. 0.]]\n",
      "[[False False]\n",
      " [False False]]\n"
     ]
    }
   ],
   "source": [
    "print(val.round()) #FPT result\n",
    "print(op(sampled_canada_dataset.decode(),sampled_italy_dataset.decode())) #Acutal result"
   ]
  },
  {
   "cell_type": "code",
   "execution_count": null,
   "id": "275ef347",
   "metadata": {},
   "outputs": [],
   "source": [
    "# DEBUG CELL\n",
    "# print((sampled_canada_dataset).decode())\n",
    "# print((sampled_italy_dataset).decode())\n",
    "# print(op(sampled_canada_dataset.decode(),sampled_italy_dataset.decode()).round())\n",
    "# print(res.get_copy().round())"
   ]
  },
  {
   "cell_type": "code",
   "execution_count": null,
   "id": "93a79b31-f9fa-4f33-8718-ce29ed6ca44d",
   "metadata": {},
   "outputs": [],
   "source": [
    "p =res\n",
    "public_result = p.publish(sigma=10000)"
   ]
  },
  {
   "cell_type": "code",
   "execution_count": null,
   "id": "f3755dd6-13d3-4df9-96f6-8e291b24cf7c",
   "metadata": {},
   "outputs": [],
   "source": [
    "pb_res = public_result.get_copy()"
   ]
  },
  {
   "cell_type": "code",
   "execution_count": null,
   "id": "8e6d2d59",
   "metadata": {},
   "outputs": [],
   "source": [
    "pb_res"
   ]
  },
  {
   "cell_type": "code",
   "execution_count": null,
   "id": "de806e56",
   "metadata": {},
   "outputs": [],
   "source": []
  },
  {
   "cell_type": "code",
   "execution_count": null,
   "id": "983f5748-be7a-4270-80ea-dae37565fe22",
   "metadata": {},
   "outputs": [],
   "source": [
    "#Below are debug cells\n",
    "a=np.array([ -789925275 ,  798267317, -1708906764,  1806674886,  1165022425,   480477472,\n",
    "    54663083  ,  78462192,  -974424744, -1538872148],dtype=np.int32)\n",
    "b=np.array([  789925275,  -798266317 , 1708920764, -1806674886, -1165022425,  -480477472,\n",
    "   -54663083  , -78459192  , 974424744 , 1538872148],dtype=np.int32)"
   ]
  },
  {
   "cell_type": "code",
   "execution_count": null,
   "id": "1ade5fe6-e98e-462b-9364-219d55ce6444",
   "metadata": {},
   "outputs": [],
   "source": [
    "(a+b)/1000"
   ]
  },
  {
   "cell_type": "code",
   "execution_count": null,
   "id": "b6ff36cf",
   "metadata": {},
   "outputs": [],
   "source": [
    "sampled_canada_dataset.decode()"
   ]
  },
  {
   "cell_type": "code",
   "execution_count": null,
   "id": "d379aaf7",
   "metadata": {},
   "outputs": [],
   "source": [
    "a=np.array([-1362805391  ,1471796679 , 2126726498   ,874113086 , -532526475, -1815214451,\n",
    "  1602118491,  1561978677 , -970006488 ,  792178136],dtype=np.int32)\n",
    "\n",
    "b=np.array([ 1362805391, -1470796679 ,-2084726498  ,-874113086  , 532526475  ,1815214451,\n",
    " -1602118491 ,-1558978677 ,  970006488  ,-792178136],dtype=np.int32)\n"
   ]
  },
  {
   "cell_type": "code",
   "execution_count": null,
   "id": "a46e0ea4",
   "metadata": {},
   "outputs": [],
   "source": [
    "a= np.array([ 1300758168, -1917863768, -1667359440,  2060242384 ,  -49469704 ,-1556715208,\n",
    "   -95689592 ,   94451448 , -656120896, -1904153536],dtype=np.int32)\n",
    "\n",
    "b=np.array( [-1300758168 ,-1377103528  , 717686480, -2060242384,    49469704,  1556715208,\n",
    "    95689592, -1389418744 ,  656120896  ,1904153536],dtype=np.int32)"
   ]
  },
  {
   "cell_type": "code",
   "execution_count": null,
   "id": "cfb33553",
   "metadata": {},
   "outputs": [],
   "source": [
    "res.child[0].get_copy()+res.child[1].get_copy()"
   ]
  },
  {
   "cell_type": "code",
   "execution_count": null,
   "id": "cd9ac8a5",
   "metadata": {},
   "outputs": [],
   "source": [
    "def value(a):\n",
    "    v1 = a.child[0].get_copy()\n",
    "    v2 = a.child[1].get_copy()\n",
    "    v = v1+v2\n",
    "    return v.child"
   ]
  }
 ],
 "metadata": {
  "interpreter": {
   "hash": "630449982b6186a6531308cd76ed4d510e9db65154e43844c2906c6a20ad2a6d"
  },
  "kernelspec": {
   "display_name": "Python 3 (ipykernel)",
   "language": "python",
   "name": "python3"
  },
  "language_info": {
   "codemirror_mode": {
    "name": "ipython",
    "version": 3
   },
   "file_extension": ".py",
   "mimetype": "text/x-python",
   "name": "python",
   "nbconvert_exporter": "python",
   "pygments_lexer": "ipython3",
   "version": "3.8.10"
  }
 },
 "nbformat": 4,
 "nbformat_minor": 5
}
