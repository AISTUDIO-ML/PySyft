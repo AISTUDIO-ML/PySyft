{
 "cells": [
  {
   "cell_type": "code",
   "execution_count": null,
   "metadata": {},
   "outputs": [],
   "source": [
    "import syft as sy\n",
    "import numpy as np\n",
    "from syft.core.adp.entity import Entity\n",
    "from syft.core.tensor.smpc.mpc_tensor import MPCTensor\n",
    "sy.logger.remove()"
   ]
  },
  {
   "cell_type": "code",
   "execution_count": null,
   "metadata": {},
   "outputs": [],
   "source": [
    "DOMAIN1_PORT = 8081\n",
    "DOMAIN2_PORT = 8082\n",
    "p1 =  sy.login(email=\"info@openmined.org\",password=\"changethis\",port=DOMAIN1_PORT)\n",
    "p2 = sy.login(email=\"info@openmined.org\",password=\"changethis\",port=DOMAIN2_PORT)\n",
    "parties = [p1,p2]\n",
    "t1 = sy.Tensor(np.array([1,2,3])).send(p1)\n",
    "t2 = sy.Tensor(np.array([1,2,3])).send(p2)"
   ]
  },
  {
   "cell_type": "code",
   "execution_count": null,
   "metadata": {},
   "outputs": [],
   "source": [
    "#Creation of training data.\n",
    "#Should modify to a concatenate type for pointer abstraction.\n",
    "\n",
    "X = np.array([ [0,0,1],[0,1,1],[1,0,1],[1,1,1] ])\n",
    "y = np.array([[0,1,1,0]]).T\n",
    "\n",
    "\n",
    "entity = Entity(name=\"rasswanth\")\n",
    "min_vals = np.array([0]*X.shape[0])\n",
    "max_vals = np.array([1]*X.shape[0])\n",
    "\n",
    "X = sy.Tensor(X)\n",
    "X.public_shape = X.shape\n",
    "X = X.private(\n",
    "    0,3 , entities=[entity.name]*X.shape[0],ndept=True,\n",
    ").tag(\"trade_flow\")\n",
    "\n",
    "d1 = X.send(p1)\n",
    "\n",
    "X = MPCTensor(secret=d1,parties=parties,shape=X.shape)\n",
    "\n",
    "y = sy.Tensor(y)\n",
    "y.public_shape = y.shape\n",
    "y = y.private(\n",
    "    0, 3, entities=[entity.name]*y.shape[0],ndept=True,\n",
    ").tag(\"trade_flow\")\n",
    "\n",
    "d2 = y.send(p1)\n",
    "\n",
    "y = MPCTensor(secret=d2,parties=parties,shape=y.shape)\n",
    "\n"
   ]
  },
  {
   "cell_type": "code",
   "execution_count": null,
   "metadata": {},
   "outputs": [],
   "source": [
    "def relu(x,deriv=False):\n",
    "    if deriv==True:\n",
    "        return x>0\n",
    "    return x*(x>0)"
   ]
  },
  {
   "cell_type": "code",
   "execution_count": null,
   "metadata": {},
   "outputs": [],
   "source": [
    "\n",
    "syn0 = 2*np.random.random((3,4)) - 1\n",
    "syn1 = 2*np.random.random((4,1)) - 1"
   ]
  },
  {
   "cell_type": "code",
   "execution_count": null,
   "metadata": {},
   "outputs": [],
   "source": [
    "for j in range(1):\n",
    "    l1 = relu(X @ syn0)  ; l1.block\n",
    "    l2 = relu(l1 @ syn1) ; l2.block \n",
    "    l2_delta = (y - l2)* relu(l2,deriv=True) ; l2_delta.block\n",
    "    l1_delta = (l2_delta@(syn1.T)) * relu(l1,deriv=True) ; l1_delta.block\n",
    "    syn1  = syn1 + l1.T @ l2_delta ; syn1.block\n",
    "    syn0 =  syn0 + X.T @ l1_delta ; syn0.block"
   ]
  },
  {
   "cell_type": "code",
   "execution_count": null,
   "metadata": {},
   "outputs": [],
   "source": [
    "syn0_dp = syn0.publish(sigma=1e4)\n",
    "syn1_dp = syn1.publish(sigma=1e4)"
   ]
  },
  {
   "cell_type": "code",
   "execution_count": null,
   "metadata": {},
   "outputs": [],
   "source": [
    "print(syn0_dp.get_copy())\n",
    "print(syn1_dp.get_copy())"
   ]
  }
 ],
 "metadata": {
  "interpreter": {
   "hash": "630449982b6186a6531308cd76ed4d510e9db65154e43844c2906c6a20ad2a6d"
  },
  "kernelspec": {
   "display_name": "Python 3.9.4 64-bit ('python39-2vM0bQN-': pipenv)",
   "name": "python3"
  },
  "language_info": {
   "codemirror_mode": {
    "name": "ipython",
    "version": 3
   },
   "file_extension": ".py",
   "mimetype": "text/x-python",
   "name": "python",
   "nbconvert_exporter": "python",
   "pygments_lexer": "ipython3",
   "version": "3.9.4"
  },
  "orig_nbformat": 4
 },
 "nbformat": 4,
 "nbformat_minor": 2
}
