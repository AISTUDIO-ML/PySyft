{
 "cells": [
  {
   "cell_type": "code",
   "execution_count": 1,
   "metadata": {},
   "outputs": [
    {
     "name": "stderr",
     "output_type": "stream",
     "text": [
      "/home/azureuser/.local/share/virtualenvs/python39-2vM0bQN-/lib/python3.9/site-packages/tqdm/auto.py:22: TqdmWarning: IProgress not found. Please update jupyter and ipywidgets. See https://ipywidgets.readthedocs.io/en/stable/user_install.html\n",
      "  from .autonotebook import tqdm as notebook_tqdm\n"
     ]
    }
   ],
   "source": [
    "import syft as sy\n",
    "import numpy as np\n",
    "from syft.core.adp.entity import Entity\n",
    "from syft.core.tensor.smpc.mpc_tensor import MPCTensor\n",
    "sy.logger.remove()"
   ]
  },
  {
   "cell_type": "code",
   "execution_count": 2,
   "metadata": {},
   "outputs": [
    {
     "name": "stdout",
     "output_type": "stream",
     "text": [
      "WARNING: CHANGE YOUR USERNAME AND PASSWORD!!! \n",
      "\n",
      "Anyone can login as an admin to your node right now because your password is still the default PySyft username and password!!!\n",
      "\n",
      "Connecting to localhost... done! \t Logging into canada... done!\n",
      "WARNING: CHANGE YOUR USERNAME AND PASSWORD!!! \n",
      "\n",
      "Anyone can login as an admin to your node right now because your password is still the default PySyft username and password!!!\n",
      "\n",
      "Connecting to localhost... done! \t Logging into italy... done!\n"
     ]
    },
    {
     "name": "stderr",
     "output_type": "stream",
     "text": [
      "kj/filesystem-disk-unix.c++:1690: warning: PWD environment variable doesn't match current directory; pwd = /home/azureuser\n"
     ]
    }
   ],
   "source": [
    "DOMAIN1_PORT = 8081\n",
    "DOMAIN2_PORT = 8082\n",
    "p1 =  sy.login(email=\"info@openmined.org\",password=\"changethis\",port=DOMAIN1_PORT)\n",
    "p2 = sy.login(email=\"info@openmined.org\",password=\"changethis\",port=DOMAIN2_PORT)\n",
    "parties = [p1,p2]\n",
    "t1 = sy.Tensor(np.array([1,2,3])).send(p1)\n",
    "t2 = sy.Tensor(np.array([1,2,3])).send(p2)"
   ]
  },
  {
   "cell_type": "code",
   "execution_count": 3,
   "metadata": {},
   "outputs": [],
   "source": [
    "#Creation of training data.\n",
    "#Should modify to a concatenate type for pointer abstraction.\n",
    "\n",
    "X = np.array([ [0,0,1],[0,1,1],[1,0,1],[1,1,1] ])\n",
    "y = np.array([[0,1,1,0]]).T\n",
    "x_min_vals = np.array([[0,0,0]])\n",
    "x_max_vals = np.array([[1,1,1]])\n",
    "y_min_vals = np.array([0])\n",
    "y_max_vals = np.array([1])\n",
    "\n",
    "entity = Entity(name=\"rasswanth\")\n",
    "min_vals = np.array([0]*X.shape[0])\n",
    "max_vals = np.array([1]*X.shape[0])\n",
    "\n",
    "X = sy.Tensor(X)\n",
    "X.public_shape = X.shape\n",
    "X = X.private(\n",
    "    x_min_vals,x_max_vals , entities=[entity.name]*X.shape[0],ndept=True,\n",
    ").tag(\"trade_flow\")\n",
    "\n",
    "d1 = X.send(p1)\n",
    "\n",
    "X = MPCTensor(secret=d1,parties=parties,shape=X.shape)\n",
    "\n",
    "y = sy.Tensor(y)\n",
    "y.public_shape = y.shape\n",
    "y = y.private(\n",
    "    y_min_vals, y_max_vals, entities=[entity.name]*y.shape[0],ndept=True,\n",
    ").tag(\"trade_flow\")\n",
    "\n",
    "d2 = y.send(p1)\n",
    "\n",
    "y = MPCTensor(secret=d2,parties=parties,shape=y.shape)\n",
    "\n"
   ]
  },
  {
   "cell_type": "code",
   "execution_count": 4,
   "metadata": {},
   "outputs": [],
   "source": [
    "def relu(x,deriv=False):\n",
    "    if deriv==True:\n",
    "        return x>0\n",
    "    return x*(x>0)"
   ]
  },
  {
   "cell_type": "code",
   "execution_count": 5,
   "metadata": {},
   "outputs": [],
   "source": [
    "\n",
    "syn0 = 2*np.random.random((3,4)) - 1\n",
    "syn1 = 2*np.random.random((4,1)) - 1"
   ]
  },
  {
   "cell_type": "code",
   "execution_count": null,
   "metadata": {},
   "outputs": [],
   "source": [
    "for j in range(1):\n",
    "    l1 = relu(X @ syn0)  ; l1.block\n",
    "    l2 = relu(l1 @ syn1) ; l2.block \n",
    "    l2_delta = (y - l2)* relu(l2,deriv=True) ; l2_delta.block\n",
    "    l1_delta = (l2_delta@(syn1.T)) * relu(l1,deriv=True) ; l1_delta.block\n",
    "    syn1  = syn1 + l1.T @ l2_delta ; syn1.block\n",
    "    syn0 =  syn0 + X.T @ l1_delta ; syn0.block"
   ]
  },
  {
   "cell_type": "code",
   "execution_count": 6,
   "metadata": {},
   "outputs": [
    {
     "name": "stderr",
     "output_type": "stream",
     "text": [
      "Computing...:   0%|          | 0/64 [00:00<?, ?it/s]/home/azureuser/PySyft/packages/syft/src/syft/core/tensor/smpc/utils.py:72: RuntimeWarning: overflow encountered in multiply\n",
      "  res = op(np.empty(x_shape), np.empty(y_shape)).shape\n",
      "Computing...: 100%|██████████| 64/64 [00:38<00:00,  1.65it/s]\n"
     ]
    },
    {
     "data": {
      "text/plain": [
       "\n",
       "\n",
       "MPCTensor.shape=(4, 4)\n",
       "\t .child[0] = <TensorPointer -> canada:eeeb503ca633e0ec9b3162fb7bab4c4b>\n",
       "\t .child[1] = <TensorPointer -> italy:eeeb503ca633e0ec9b3162fb7bab4c4b>"
      ]
     },
     "execution_count": 6,
     "metadata": {},
     "output_type": "execute_result"
    }
   ],
   "source": [
    "l1 = relu(X @ syn0)  ; l1.block"
   ]
  },
  {
   "cell_type": "code",
   "execution_count": 7,
   "metadata": {},
   "outputs": [
    {
     "name": "stderr",
     "output_type": "stream",
     "text": [
      "/home/azureuser/PySyft/packages/syft/src/syft/core/tensor/smpc/utils.py:72: RuntimeWarning: overflow encountered in matmul\n",
      "  res = op(np.empty(x_shape), np.empty(y_shape)).shape\n",
      "Computing...: 100%|██████████| 64/64 [00:38<00:00,  1.65it/s]\n"
     ]
    },
    {
     "data": {
      "text/plain": [
       "\n",
       "\n",
       "MPCTensor.shape=(4, 1)\n",
       "\t .child[0] = <TensorPointer -> canada:a4369566d34fddbe9eb9ab447061bb85>\n",
       "\t .child[1] = <TensorPointer -> italy:a4369566d34fddbe9eb9ab447061bb85>"
      ]
     },
     "execution_count": 7,
     "metadata": {},
     "output_type": "execute_result"
    }
   ],
   "source": [
    "l2 = relu(l1 @ syn1) ; l2.block "
   ]
  },
  {
   "cell_type": "code",
   "execution_count": 8,
   "metadata": {},
   "outputs": [
    {
     "name": "stderr",
     "output_type": "stream",
     "text": [
      "Computing...: 100%|██████████| 64/64 [00:38<00:00,  1.65it/s]\n"
     ]
    },
    {
     "data": {
      "text/plain": [
       "\n",
       "\n",
       "MPCTensor.shape=(4, 1)\n",
       "\t .child[0] = <TensorPointer -> canada:b7d501bf26ff7cc1581fce1478a9ba5b>\n",
       "\t .child[1] = <TensorPointer -> italy:b7d501bf26ff7cc1581fce1478a9ba5b>"
      ]
     },
     "execution_count": 8,
     "metadata": {},
     "output_type": "execute_result"
    }
   ],
   "source": [
    "l2_delta = (y - l2)* relu(l2,deriv=True) ; l2_delta.block"
   ]
  },
  {
   "cell_type": "code",
   "execution_count": 11,
   "metadata": {},
   "outputs": [
    {
     "name": "stderr",
     "output_type": "stream",
     "text": [
      "Computing...: 100%|██████████| 64/64 [00:38<00:00,  1.65it/s]\n"
     ]
    },
    {
     "data": {
      "text/plain": [
       "\n",
       "\n",
       "MPCTensor.shape=(4, 4)\n",
       "\t .child[0] = <TensorPointer -> canada:c2a70790ad2c8968289539821840e5a3>\n",
       "\t .child[1] = <TensorPointer -> italy:c2a70790ad2c8968289539821840e5a3>"
      ]
     },
     "execution_count": 11,
     "metadata": {},
     "output_type": "execute_result"
    }
   ],
   "source": [
    "l1_delta = (l2_delta@(syn1.T)) * relu(l1,deriv=True) ; l1_delta.block"
   ]
  },
  {
   "cell_type": "code",
   "execution_count": null,
   "metadata": {},
   "outputs": [],
   "source": [
    "syn1  = l1.T @ l2_delta  + syn1; syn1.block"
   ]
  },
  {
   "cell_type": "code",
   "execution_count": null,
   "metadata": {},
   "outputs": [],
   "source": [
    "syn0 =  X.T @ l1_delta  + syn0; syn0.block"
   ]
  },
  {
   "cell_type": "code",
   "execution_count": 26,
   "metadata": {},
   "outputs": [],
   "source": [
    "res = X.T @ l1_delta"
   ]
  },
  {
   "cell_type": "code",
   "execution_count": 33,
   "metadata": {},
   "outputs": [],
   "source": [
    "v1 = X.T\n",
    "v2 = l1_delta"
   ]
  },
  {
   "cell_type": "code",
   "execution_count": 34,
   "metadata": {},
   "outputs": [],
   "source": [
    "def get_val(val):\n",
    "    t1 = val.child[0].get_copy()\n",
    "    t2 = val.child[0].get_copy()\n",
    "    return t1+t2"
   ]
  },
  {
   "cell_type": "code",
   "execution_count": 35,
   "metadata": {},
   "outputs": [],
   "source": [
    "v1 = get_val(v1)\n",
    "v2 = get_val(v2)"
   ]
  },
  {
   "cell_type": "code",
   "execution_count": 51,
   "metadata": {},
   "outputs": [
    {
     "data": {
      "text/plain": [
       "array([[nan, nan, nan, nan],\n",
       "       [nan, nan, nan, nan],\n",
       "       [nan, nan, nan, nan]])"
      ]
     },
     "execution_count": 51,
     "metadata": {},
     "output_type": "execute_result"
    }
   ],
   "source": [
    "v1.child.min_vals.to_numpy() @ v2.child.min_vals.to_numpy()"
   ]
  },
  {
   "cell_type": "code",
   "execution_count": 50,
   "metadata": {},
   "outputs": [
    {
     "data": {
      "text/plain": [
       "<lazyrepeatarray data: [[nan nan nan nan]\n",
       " [nan nan nan nan]\n",
       " [nan nan nan nan]\n",
       " [nan nan nan nan]] -> shape: (4, 4)>"
      ]
     },
     "execution_count": 50,
     "metadata": {},
     "output_type": "execute_result"
    }
   ],
   "source": [
    "v2.child.min_vals"
   ]
  },
  {
   "cell_type": "code",
   "execution_count": null,
   "metadata": {},
   "outputs": [],
   "source": [
    "syn0_dp = syn0.publish(sigma=1e4)\n",
    "syn1_dp = syn1.publish(sigma=1e4)"
   ]
  },
  {
   "cell_type": "code",
   "execution_count": null,
   "metadata": {},
   "outputs": [],
   "source": [
    "print(syn0_dp.get_copy())\n",
    "print(syn1_dp.get_copy())"
   ]
  }
 ],
 "metadata": {
  "interpreter": {
   "hash": "630449982b6186a6531308cd76ed4d510e9db65154e43844c2906c6a20ad2a6d"
  },
  "kernelspec": {
   "display_name": "Python 3.9.4 64-bit ('python39-2vM0bQN-': pipenv)",
   "name": "python3"
  },
  "language_info": {
   "codemirror_mode": {
    "name": "ipython",
    "version": 3
   },
   "file_extension": ".py",
   "mimetype": "text/x-python",
   "name": "python",
   "nbconvert_exporter": "python",
   "pygments_lexer": "ipython3",
   "version": "3.9.4"
  },
  "orig_nbformat": 4
 },
 "nbformat": 4,
 "nbformat_minor": 2
}
