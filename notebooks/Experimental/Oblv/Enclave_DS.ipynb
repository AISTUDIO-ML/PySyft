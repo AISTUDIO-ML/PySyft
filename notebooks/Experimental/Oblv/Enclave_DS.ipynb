{
 "cells": [
  {
   "cell_type": "markdown",
   "id": "f2579ecf-4881-43e5-a73c-76f57990eb6c",
   "metadata": {},
   "source": [
    "Oblv Client is from our PyOblv package.\n",
    "ds_abc is the PySyft Client for the Data Scientist on domain abc\n",
    "ds_xyz is the PySyft Client for the Data Scientist on domain xyz"
   ]
  },
  {
   "cell_type": "code",
   "execution_count": null,
   "id": "10856963-4b31-41bf-a53f-10f460841d89",
   "metadata": {},
   "outputs": [],
   "source": [
    "%load_ext autoreload\n",
    "%autoreload 2\n",
    "import syft as sy\n",
    "import oblv\n",
    "canada = sy.login(url=\"localhost\",port=8081,email=\"sheldon@caltech.edu\",password=\"changethis\")\n",
    "italy = sy.login(url=\"localhost\",port=8082,email=\"sheldon@caltech.edu\",password=\"changethis\")"
   ]
  },
  {
   "cell_type": "code",
   "execution_count": null,
   "id": "fd58bbdd-0f25-4417-b55b-034a222da790",
   "metadata": {},
   "outputs": [],
   "source": [
    "#Oblivious client facilitates Secure Enclave Deployment\n",
    "oblv_client = oblv.authenticate(\"your_api_key\")"
   ]
  },
  {
   "cell_type": "code",
   "execution_count": null,
   "id": "18f4df9d-bee0-40c9-9c02-2dd1bb05f477",
   "metadata": {},
   "outputs": [],
   "source": [
    "depl = sy.create_deployment(oblv_client,[canada,italy],\"demo_openmined\",\"first\",infra=\"r5.xlarge\")\n"
   ]
  },
  {
   "cell_type": "code",
   "execution_count": null,
   "id": "b0a7760d-c890-42d3-ac83-7b846e5cd4b2",
   "metadata": {},
   "outputs": [],
   "source": [
    "depl.deployment_id"
   ]
  },
  {
   "cell_type": "code",
   "execution_count": null,
   "id": "75c2f5af-be3f-4741-86a0-a08a6f073aca",
   "metadata": {},
   "outputs": [],
   "source": [
    "# depl = sy.create_deployment(oblv_client,[ds_abc,ds_xyz],\"demo_openmined\",\"first\",infra=\"m5.2xlarge\")\n",
    "# depl = sy.oblv.model.DeploymentClient(deployment_id=\"d-4f7dddd2-5c3f-4beb-9eaa-9e97ecfc205a\",oblv_client=oblv_client,domain_clients=[ds_abc,ds_xyz],user_key_name=\"first\") #connection_port key can be added to set the port on which oblv_proxy will run\n",
    "# depl.deployment_id"
   ]
  },
  {
   "cell_type": "code",
   "execution_count": null,
   "id": "83784728-30ea-427a-8b04-f6c475c2c196",
   "metadata": {},
   "outputs": [],
   "source": [
    "depl_info = oblv_client.deployment_info(depl.deployment_id)\n",
    "print(depl_info.current_state)"
   ]
  },
  {
   "cell_type": "code",
   "execution_count": null,
   "id": "7fee5aba-948c-4f16-b200-9aa872a431c9",
   "metadata": {},
   "outputs": [],
   "source": [
    "canada_ptr = canada.store[-1]\n",
    "italy_ptr = italy.store[-1]"
   ]
  },
  {
   "cell_type": "code",
   "execution_count": null,
   "id": "526530ee-263f-4c2d-b29c-d0a31b7b1c36",
   "metadata": {},
   "outputs": [],
   "source": [
    "depl.__dict__"
   ]
  },
  {
   "cell_type": "markdown",
   "id": "4f08540b-39e3-42c0-a1c9-59c86d89eeb2",
   "metadata": {},
   "source": [
    "tensor_abc and tensor_xyz are the two tensors selected from two different domains.\n",
    "\n",
    "Creating a deploynent now, using both the domains (abc and xyz).\n",
    "\n",
    "The public-private key pair was already generated for both these domains, but if it is not, the admins of the domain can use the method **create_key** in oblv api to create one."
   ]
  },
  {
   "cell_type": "markdown",
   "id": "834c49d6-7878-403b-8a54-f52b01d121af",
   "metadata": {},
   "source": [
    "Deployment with shown id is created. The status of the deployment can be checked with the next block. Once the status is **Running**, the further steps can be taken after an initialization of the connection. \n",
    "\n",
    "The port on which the connection is to be made can be specified either during the time of creation of deployment or can be later updated as shown below.\n",
    "\n",
    "*Do not change the connection port after initializing the connection*"
   ]
  },
  {
   "cell_type": "code",
   "execution_count": null,
   "id": "0b0579f7-f468-4420-a6ee-af355b8ddd53",
   "metadata": {},
   "outputs": [],
   "source": [
    "canada.oblv.check_connection(depl)"
   ]
  },
  {
   "cell_type": "code",
   "execution_count": null,
   "id": "6166a160-067d-42e8-94b8-5f1e5ffb034f",
   "metadata": {},
   "outputs": [],
   "source": [
    "depl.check_proxy_running()"
   ]
  },
  {
   "cell_type": "code",
   "execution_count": null,
   "id": "1348ef25-5b86-4359-ab23-c81b48fa9bca",
   "metadata": {},
   "outputs": [],
   "source": [
    "depl.initiate_connection(3032)"
   ]
  },
  {
   "cell_type": "code",
   "execution_count": null,
   "id": "fec016eb-fe9a-4c4e-8821-77dbcaccfbb6",
   "metadata": {},
   "outputs": [],
   "source": [
    "canada_dataset = canada.oblv.send_dataset(deployment=depl,dataset=canada_ptr)\n",
    "italy_dataset = italy.oblv.send_dataset(deployment=depl,dataset=italy_ptr)"
   ]
  },
  {
   "cell_type": "code",
   "execution_count": null,
   "id": "23c6648d-9f68-4c96-b842-961523f1a6c9",
   "metadata": {},
   "outputs": [],
   "source": [
    "depl.get_uploaded_datasets()"
   ]
  },
  {
   "cell_type": "code",
   "execution_count": null,
   "id": "182c179a-5645-434d-b8e3-ced4c981b156",
   "metadata": {},
   "outputs": [],
   "source": [
    "type(canada_dataset)"
   ]
  },
  {
   "cell_type": "code",
   "execution_count": null,
   "id": "9da7a387-a26e-41f4-b209-3628fd3c2bd2",
   "metadata": {},
   "outputs": [],
   "source": [
    "dataset_result = canada_dataset + italy_dataset\n",
    "# dataset_result = sy.OblvTensorWrapper(id=\"r-3533056d-e408-40bc-8550-d6d98d7cfca3\",deployment_client=depl)"
   ]
  },
  {
   "cell_type": "code",
   "execution_count": null,
   "id": "9af53cdf-0861-4b5a-ae2d-52efd57ce0f9",
   "metadata": {},
   "outputs": [],
   "source": [
    "# import numpy as np\n",
    "# arr = np.array([1,2,3,4,5])\n",
    "# dataset_result = dataset_abc + arr"
   ]
  },
  {
   "cell_type": "code",
   "execution_count": null,
   "id": "fea3a766-163f-447a-bee9-bab650eb6243",
   "metadata": {},
   "outputs": [],
   "source": [
    "dataset_sum_result = dataset_result.sum(keepdims=True)\n",
    "# dataset_result = sy.OblvTensorWrapper(id=\"r-3533056d-e408-40bc-8550-d6d98d7cfca3\",deployment_client=depl)"
   ]
  },
  {
   "cell_type": "code",
   "execution_count": null,
   "id": "afeb6a1d-c0b8-4571-a3ee-b98dc6489c03",
   "metadata": {},
   "outputs": [],
   "source": [
    "dataset_sum_result.id"
   ]
  },
  {
   "cell_type": "code",
   "execution_count": null,
   "id": "e10c3ee2-9925-41fc-ba61-6533531da4ff",
   "metadata": {},
   "outputs": [],
   "source": [
    "# p_id = depl.request_publish(dataset_sum_result.id, sigma=0.5)\n",
    "p_id=dataset_sum_result.request_publish(sigma=1000)\n",
    "\n",
    "print(p_id)"
   ]
  },
  {
   "cell_type": "code",
   "execution_count": null,
   "id": "1978df79-2111-4848-91f1-3c5f5c37b0bb",
   "metadata": {},
   "outputs": [],
   "source": [
    "print(canada.privacy_budget)\n",
    "print(italy.privacy_budget)"
   ]
  },
  {
   "cell_type": "code",
   "execution_count": null,
   "id": "f5119e92-c05f-4387-bef7-688120ebe119",
   "metadata": {},
   "outputs": [],
   "source": [
    "depl.check_publish_request_status(p_id)"
   ]
  },
  {
   "cell_type": "code",
   "execution_count": null,
   "id": "e7b6a812-2f73-4b35-92d1-7d4328a0c174",
   "metadata": {},
   "outputs": [],
   "source": [
    "print(canada.privacy_budget)\n",
    "print(italy.privacy_budget)"
   ]
  },
  {
   "cell_type": "code",
   "execution_count": null,
   "id": "fd59c948-0e1f-4cab-82d1-6c01c38781e1",
   "metadata": {},
   "outputs": [],
   "source": [
    "result = depl.fetch_result(p_id)\n",
    "print(result)"
   ]
  },
  {
   "cell_type": "code",
   "execution_count": null,
   "id": "bad69992-1375-41ee-9837-93587eac23b8",
   "metadata": {},
   "outputs": [],
   "source": [
    "depl.close_connection()\n",
    "oblv_client.remove_deployment(depl.deployment_id)"
   ]
  },
  {
   "cell_type": "code",
   "execution_count": null,
   "id": "08787574-7d88-4cc5-81cb-75c31992c5c3",
   "metadata": {},
   "outputs": [],
   "source": [
    "italy.oblv.get_key()"
   ]
  },
  {
   "cell_type": "code",
   "execution_count": null,
   "id": "b8310267-dd81-466b-9415-0b5c00749a12",
   "metadata": {},
   "outputs": [],
   "source": [
    "depl.fetch_current_proxy_logs()"
   ]
  },
  {
   "cell_type": "markdown",
   "id": "ca800e41-d510-42c3-9d4f-ea3044323885",
   "metadata": {},
   "source": [
    "Known Issues - \n",
    "\n",
    "Large dataset cannot be used as of now, cause they go in long re-runs for cache calculation.\n",
    "\n",
    "Proxy sends 200 status code while the enclave returns 400.\n",
    "\n",
    "Mean method when performed on tensor returns a tensor with data_subjects not of type of array and it fails when we perform publish on it.\n"
   ]
  }
 ],
 "metadata": {
  "kernelspec": {
   "display_name": "Python 3 (ipykernel)",
   "language": "python",
   "name": "python3"
  },
  "language_info": {
   "codemirror_mode": {
    "name": "ipython",
    "version": 3
   },
   "file_extension": ".py",
   "mimetype": "text/x-python",
   "name": "python",
   "nbconvert_exporter": "python",
   "pygments_lexer": "ipython3",
   "version": "3.9.13"
  }
 },
 "nbformat": 4,
 "nbformat_minor": 5
}
