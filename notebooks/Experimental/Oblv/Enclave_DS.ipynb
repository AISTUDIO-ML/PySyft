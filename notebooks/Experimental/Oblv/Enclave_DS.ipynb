{
 "cells": [
  {
   "cell_type": "markdown",
   "id": "f2579ecf-4881-43e5-a73c-76f57990eb6c",
   "metadata": {},
   "source": [
    "Oblv Client is from our PyOblv package.\n",
    "ds_abc is the PySyft Client for the Data Scientist on domain abc\n",
    "ds_xyz is the PySyft Client for the Data Scientist on domain xyz"
   ]
  },
  {
   "cell_type": "code",
   "execution_count": 1,
   "id": "10856963-4b31-41bf-a53f-10f460841d89",
   "metadata": {},
   "outputs": [
    {
     "name": "stdout",
     "output_type": "stream",
     "text": [
      "\u001b[93mWARNING:\u001b[0m CHANGE YOUR PASSWORD!!! \n",
      "\n",
      "Anyone can login into your account right now because your password is the default PySyft password!!!\n",
      "\n",
      "Connecting to localhost... done! \t Logging into canada... done!\n",
      "\u001b[93mWARNING:\u001b[0m CHANGE YOUR PASSWORD!!! \n",
      "\n",
      "Anyone can login into your account right now because your password is the default PySyft password!!!\n",
      "\n",
      "Connecting to localhost... done! \t Logging into italy... done!\n"
     ]
    }
   ],
   "source": [
    "%load_ext autoreload\n",
    "%autoreload 2\n",
    "import syft as sy\n",
    "import oblv\n",
    "canada = sy.login(url=\"localhost\",port=8081,email=\"sheldon@caltech.edu\",password=\"changethis\")\n",
    "italy = sy.login(url=\"localhost\",port=8082,email=\"sheldon@caltech.edu\",password=\"changethis\")"
   ]
  },
  {
   "cell_type": "code",
   "execution_count": 2,
   "id": "fd58bbdd-0f25-4417-b55b-034a222da790",
   "metadata": {},
   "outputs": [],
   "source": [
    "#Oblivious client facilitates Secure Enclave Deployment\n",
    "oblv_client = oblv.authenticate(\"your_api_key_here\")"
   ]
  },
  {
   "cell_type": "code",
   "execution_count": 3,
   "id": "18f4df9d-bee0-40c9-9c02-2dd1bb05f477",
   "metadata": {},
   "outputs": [
    {
     "name": "stdout",
     "output_type": "stream",
     "text": [
      "passed  MIIBCgKCAQEAlW4HN7SA5tfPIidkp/BRgZwOd/ZnjmkyjxGTzee6S3MpVDquiTwY1m/Oa4tU19HDmEeZboMAgG/XSDoArIvvLmP7vtTDaemaLGUCAiLxMeCBdB0qlTVoaqT03M2JuS3LXwdjGPAzoOz+7x0fmM02PrzdNNN2iPhe73S6g7ZWDyGetAV32To15Ht/DvKIZoHguZAf1aBM5LY/YMC6ufODNX04NxGvnv56IF2YAKfkg3slzYwdrxBBdZQiTNgjmcOrVYqYToVk34VFfzc6n6Ms3YmjmK7e1kTvAyPko1PSaDBOXNWnNYeicyQGKkdbuoyVzbF/l9X+6+DZiQXkg+YHLQIDAQAB\n"
     ]
    },
    {
     "data": {
      "text/plain": [
       "'d-5c6cc2c6-8d2e-45d7-aeb8-09baffa489c3'"
      ]
     },
     "execution_count": 3,
     "metadata": {},
     "output_type": "execute_result"
    }
   ],
   "source": [
    "depl = sy.create_deployment(oblv_client,[canada,italy],\"demo_openmined_1\",\"first\",infra=\"r5.xlarge\")\n",
    "depl.deployment_id"
   ]
  },
  {
   "cell_type": "code",
   "execution_count": null,
   "id": "75c2f5af-be3f-4741-86a0-a08a6f073aca",
   "metadata": {},
   "outputs": [],
   "source": [
    "# To use an already existing enclave\n",
    "# depl = sy.oblv.model.DeploymentClient(deployment_id=\"d-2dfedbb1-7904-493b-8793-1a9554badae7\",oblv_client=oblv_client,domain_clients=[canada,italy],user_key_name=\"first\") #connection_port key can be added to set the port on which oblv_proxy will run\n",
    "# depl.deployment_id"
   ]
  },
  {
   "cell_type": "code",
   "execution_count": 5,
   "id": "83784728-30ea-427a-8b04-f6c475c2c196",
   "metadata": {},
   "outputs": [
    {
     "name": "stdout",
     "output_type": "stream",
     "text": [
      "Running\n"
     ]
    }
   ],
   "source": [
    "depl_info = oblv_client.deployment_info(depl.deployment_id)\n",
    "print(depl_info.current_state)"
   ]
  },
  {
   "cell_type": "code",
   "execution_count": 6,
   "id": "7fee5aba-948c-4f16-b200-9aa872a431c9",
   "metadata": {},
   "outputs": [],
   "source": [
    "canada_ptr = canada.store[-1]\n",
    "italy_ptr = italy.store[-1]"
   ]
  },
  {
   "cell_type": "code",
   "execution_count": 7,
   "id": "526530ee-263f-4c2d-b29c-d0a31b7b1c36",
   "metadata": {},
   "outputs": [
    {
     "data": {
      "text/plain": [
       "{'deployment_id': 'd-5c6cc2c6-8d2e-45d7-aeb8-09baffa489c3',\n",
       " 'user_key_name': 'first',\n",
       " 'oblv_client': <oblv.oblv_client.OblvClient at 0x107891af0>,\n",
       " 'client': [<DomainClient - canada: <UID: 78242698ef914e03af8efea4438fbb71>>,\n",
       "  <DomainClient - italy: <UID: a0674e22a28f43c8a1b6f031d571e5ef>>],\n",
       " '_DeploymentClient__conn_string': '',\n",
       " '_DeploymentClient__process': None,\n",
       " '_DeploymentClient__logs': None}"
      ]
     },
     "execution_count": 7,
     "metadata": {},
     "output_type": "execute_result"
    }
   ],
   "source": [
    "depl.__dict__"
   ]
  },
  {
   "cell_type": "markdown",
   "id": "4f08540b-39e3-42c0-a1c9-59c86d89eeb2",
   "metadata": {},
   "source": [
    "tensor_abc and tensor_xyz are the two tensors selected from two different domains.\n",
    "\n",
    "Creating a deploynent now, using both the domains (abc and xyz).\n",
    "\n",
    "The public-private key pair was already generated for both these domains, but if it is not, the admins of the domain can use the method **create_key** in oblv api to create one."
   ]
  },
  {
   "cell_type": "markdown",
   "id": "834c49d6-7878-403b-8a54-f52b01d121af",
   "metadata": {},
   "source": [
    "Deployment with shown id is created. The status of the deployment can be checked with the next block. Once the status is **Running**, the further steps can be taken after an initialization of the connection. \n",
    "\n",
    "The port on which the connection is to be made can be specified either during the time of creation of deployment or can be later updated as shown below.\n",
    "\n",
    "*Do not change the connection port after initializing the connection*"
   ]
  },
  {
   "cell_type": "code",
   "execution_count": 8,
   "id": "0b0579f7-f468-4420-a6ee-af355b8ddd53",
   "metadata": {},
   "outputs": [
    {
     "data": {
      "text/plain": [
       "'Successfully connected to the enclave'"
      ]
     },
     "execution_count": 8,
     "metadata": {},
     "output_type": "execute_result"
    }
   ],
   "source": [
    "canada.oblv.check_connection(depl)"
   ]
  },
  {
   "cell_type": "code",
   "execution_count": 9,
   "id": "6166a160-067d-42e8-94b8-5f1e5ffb034f",
   "metadata": {},
   "outputs": [
    {
     "data": {
      "text/plain": [
       "False"
      ]
     },
     "execution_count": 9,
     "metadata": {},
     "output_type": "execute_result"
    }
   ],
   "source": [
    "depl.check_proxy_running()"
   ]
  },
  {
   "cell_type": "code",
   "execution_count": 10,
   "id": "1348ef25-5b86-4359-ab23-c81b48fa9bca",
   "metadata": {},
   "outputs": [
    {
     "name": "stdout",
     "output_type": "stream",
     "text": [
      "Successfully connected to proxy on port 3032. The logs can be found at /Users/rasswanth/.oblv_syft_logs/proxy_logs_16_12_2022_15_54_46.log\n"
     ]
    }
   ],
   "source": [
    "depl.initiate_connection(3032)"
   ]
  },
  {
   "cell_type": "code",
   "execution_count": 11,
   "id": "fec016eb-fe9a-4c4e-8821-77dbcaccfbb6",
   "metadata": {},
   "outputs": [],
   "source": [
    "canada_dataset = canada.oblv.send_dataset(deployment=depl,dataset=canada_ptr)\n",
    "italy_dataset = italy.oblv.send_dataset(deployment=depl,dataset=italy_ptr)"
   ]
  },
  {
   "cell_type": "code",
   "execution_count": 12,
   "id": "23c6648d-9f68-4c96-b842-961523f1a6c9",
   "metadata": {},
   "outputs": [
    {
     "data": {
      "text/plain": [
       "[{'id': '5dd4043cf7be46a2a3da08439d48e702', 'owner': 'canada'},\n",
       " {'id': 'f40063c692a447f7bc9b00255ef1d98e', 'owner': 'italy'}]"
      ]
     },
     "execution_count": 12,
     "metadata": {},
     "output_type": "execute_result"
    }
   ],
   "source": [
    "depl.get_uploaded_datasets()"
   ]
  },
  {
   "cell_type": "code",
   "execution_count": 13,
   "id": "182c179a-5645-434d-b8e3-ced4c981b156",
   "metadata": {},
   "outputs": [
    {
     "data": {
      "text/plain": [
       "syft.oblv.oblv_tensor_wrapper.OblvTensorWrapper"
      ]
     },
     "execution_count": 13,
     "metadata": {},
     "output_type": "execute_result"
    }
   ],
   "source": [
    "type(canada_dataset)"
   ]
  },
  {
   "cell_type": "code",
   "execution_count": 14,
   "id": "9da7a387-a26e-41f4-b209-3628fd3c2bd2",
   "metadata": {},
   "outputs": [],
   "source": [
    "dataset_result = canada_dataset + italy_dataset\n",
    "# dataset_result = sy.OblvTensorWrapper(id=\"r-3533056d-e408-40bc-8550-d6d98d7cfca3\",deployment_client=depl)"
   ]
  },
  {
   "cell_type": "code",
   "execution_count": null,
   "id": "9af53cdf-0861-4b5a-ae2d-52efd57ce0f9",
   "metadata": {},
   "outputs": [],
   "source": [
    "# import numpy as np\n",
    "# arr = np.array([1,2,3,4,5])\n",
    "# dataset_result = dataset_abc + arr"
   ]
  },
  {
   "cell_type": "code",
   "execution_count": 15,
   "id": "fea3a766-163f-447a-bee9-bab650eb6243",
   "metadata": {},
   "outputs": [],
   "source": [
    "dataset_sum_result = dataset_result.sum(keepdims=True)\n",
    "# dataset_result = sy.OblvTensorWrapper(id=\"r-3533056d-e408-40bc-8550-d6d98d7cfca3\",deployment_client=depl)"
   ]
  },
  {
   "cell_type": "code",
   "execution_count": 16,
   "id": "afeb6a1d-c0b8-4571-a3ee-b98dc6489c03",
   "metadata": {},
   "outputs": [
    {
     "data": {
      "text/plain": [
       "'r-a4f0c414-cbe1-48b0-b6c7-97981c5ad8b4'"
      ]
     },
     "execution_count": 16,
     "metadata": {},
     "output_type": "execute_result"
    }
   ],
   "source": [
    "dataset_sum_result.id"
   ]
  },
  {
   "cell_type": "code",
   "execution_count": 17,
   "id": "e10c3ee2-9925-41fc-ba61-6533531da4ff",
   "metadata": {},
   "outputs": [
    {
     "name": "stdout",
     "output_type": "stream",
     "text": [
      "p-aef8c3a5-9f5a-4031-a526-9931b584967e\n"
     ]
    }
   ],
   "source": [
    "# p_id = depl.request_publish(dataset_sum_result.id, sigma=0.5)\n",
    "p_id=dataset_sum_result.request_publish(sigma=1000)\n",
    "\n",
    "print(p_id)"
   ]
  },
  {
   "cell_type": "code",
   "execution_count": 18,
   "id": "1978df79-2111-4848-91f1-3c5f5c37b0bb",
   "metadata": {},
   "outputs": [
    {
     "name": "stdout",
     "output_type": "stream",
     "text": [
      "9999998.94627288\n",
      "9999998.94627288\n"
     ]
    }
   ],
   "source": [
    "print(canada.privacy_budget)\n",
    "print(italy.privacy_budget)"
   ]
  },
  {
   "cell_type": "code",
   "execution_count": 19,
   "id": "f5119e92-c05f-4387-bef7-688120ebe119",
   "metadata": {},
   "outputs": [
    {
     "name": "stdout",
     "output_type": "stream",
     "text": [
      "Result is ready\n"
     ]
    }
   ],
   "source": [
    "depl.check_publish_request_status(p_id)"
   ]
  },
  {
   "cell_type": "code",
   "execution_count": 20,
   "id": "e7b6a812-2f73-4b35-92d1-7d4328a0c174",
   "metadata": {},
   "outputs": [
    {
     "name": "stdout",
     "output_type": "stream",
     "text": [
      "9999998.89254576\n",
      "9999998.89254576\n"
     ]
    }
   ],
   "source": [
    "print(canada.privacy_budget)\n",
    "print(italy.privacy_budget)"
   ]
  },
  {
   "cell_type": "code",
   "execution_count": 21,
   "id": "fd59c948-0e1f-4cab-82d1-6c01c38781e1",
   "metadata": {},
   "outputs": [
    {
     "name": "stdout",
     "output_type": "stream",
     "text": [
      "[-125.08190333363657]\n"
     ]
    }
   ],
   "source": [
    "result = depl.fetch_result(p_id)\n",
    "print(result)"
   ]
  },
  {
   "cell_type": "code",
   "execution_count": 22,
   "id": "bad69992-1375-41ee-9837-93587eac23b8",
   "metadata": {},
   "outputs": [
    {
     "data": {
      "text/plain": [
       "{\n",
       "  \"message\": \"Delete Deployment Initiated\"\n",
       "}"
      ]
     },
     "execution_count": 22,
     "metadata": {},
     "output_type": "execute_result"
    }
   ],
   "source": [
    "depl.close_connection()\n",
    "oblv_client.remove_deployment(depl.deployment_id)"
   ]
  },
  {
   "cell_type": "code",
   "execution_count": 23,
   "id": "08787574-7d88-4cc5-81cb-75c31992c5c3",
   "metadata": {},
   "outputs": [
    {
     "data": {
      "text/plain": [
       "'MIIBCgKCAQEA07ia/xeYHaiWCNH+P5pqugUoC3cliY1jbpR2QjN0Saxgc/tbTVDSfW2ac08zynyCYB2OzfYgStG+VSol+eNRjcmc/StCeMZlxjOL0c7KVejDI/p1SfCgyqHYugd6ajeXIcXStU68mxsI1NsivCXW9UCT1WHAXY1sq7R5bg2WazmcGDSFyXceA0kX2AQ045Pc3q5uozwpRPk09sIUIPJZEmEl/KM0nlRCpuvT3OQB3jsaNQJRV0WpB5wI9oS3MT9tMUuVBLIJJ9ni93T+6ViHSrA0+b/3cCb999SUI6Hb2/t9L3y3GDBbJ4LqVVsbndo+RTk0QYcdDbw746Fic6L0oQIDAQAB'"
      ]
     },
     "execution_count": 23,
     "metadata": {},
     "output_type": "execute_result"
    }
   ],
   "source": [
    "italy.oblv.get_key()"
   ]
  },
  {
   "cell_type": "code",
   "execution_count": 24,
   "id": "b8310267-dd81-466b-9415-0b5c00749a12",
   "metadata": {},
   "outputs": [
    {
     "name": "stdout",
     "output_type": "stream",
     "text": [
      "Configuration file stored at: \"/Users/rasswanth/Library/Application Support/oblv/oblv_config.yaml\"\n",
      "\n",
      "Saved connect command. Use reconnect for reusing cached command.\n",
      "[2022-12-16T10:24:48Z INFO  lib_ccli::signing] Creating client hello message for handshake with enclave...\n",
      "[2022-12-16T10:24:48Z INFO  lib_ccli] Establishing connection to enclave https://conso-appli-cakogfo83hif-1195392546.enclave.oblivious.ai:443\n",
      "[2022-12-16T10:24:48Z INFO  lib_ccli::communication] Sending client hello message to enclave...\n",
      "[2022-12-16T10:24:50Z INFO  lib_ccli] Received attestation document from enclave.\n",
      "[2022-12-16T10:24:50Z INFO  lib_ccli] Verifying the received attestation document...\n",
      "[2022-12-16T10:24:50Z INFO  lib_ccli::attestation_doc] ===> Validate if module id is empty.\n",
      "[2022-12-16T10:24:50Z INFO  lib_ccli::attestation_doc] ===> Validate digest signature.\n",
      "[2022-12-16T10:24:50Z INFO  lib_ccli::attestation_doc] ===> Validate PCR map length.\n",
      "[2022-12-16T10:24:50Z INFO  lib_ccli::attestation_doc] ===> Validate PCRs.\n",
      "[2022-12-16T10:24:50Z WARN  lib_ccli::attestation_doc] ===> PCRs check disabled by user\n",
      "[2022-12-16T10:24:50Z INFO  lib_ccli::attestation_doc] ===> Validate certificate.\n",
      "[2022-12-16T10:24:50Z INFO  lib_ccli::attestation_doc] ===> Parse user data.\n",
      "[2022-12-16T10:24:50Z INFO  lib_ccli::attestation_doc] Attestation document verified.\n",
      "[2022-12-16T10:24:50Z INFO  lib_ccli] Enclave verification successful.\n",
      "[2022-12-16T10:24:50Z INFO  lib_ccli] Start listening to incoming requests from client applications.\n",
      "[2022-12-16T10:24:50Z INFO  lib_ccli] Starting proxy server on localhost:3032...\n",
      "[2022-12-16T10:24:50Z INFO  warp::server] Server::run; addr=127.0.0.1:3032\n",
      "[2022-12-16T10:24:50Z INFO  warp::server] listening on http://127.0.0.1:3032\n",
      "[2022-12-16T10:25:10Z INFO  lib_ccli::request_processor] Received client request to endpoint: \"/tensor/dataset/list\"\n",
      "[2022-12-16T10:25:10Z INFO  lib_ccli::request_processor] Forwarding request to endpoint...\n",
      "[2022-12-16T10:25:11Z INFO  lib_ccli::request_processor] Received response from server.\n",
      "[2022-12-16T10:25:15Z INFO  lib_ccli::request_processor] Received client request to endpoint: \"/tensor/action\"\n",
      "[2022-12-16T10:25:15Z INFO  lib_ccli::request_processor] Forwarding request to endpoint...\n",
      "[2022-12-16T10:25:16Z INFO  lib_ccli::request_processor] Received response from server.\n",
      "[2022-12-16T10:25:21Z INFO  lib_ccli::request_processor] Received client request to endpoint: \"/tensor/action\"\n",
      "[2022-12-16T10:25:21Z INFO  lib_ccli::request_processor] Forwarding request to endpoint...\n",
      "[2022-12-16T10:25:22Z INFO  lib_ccli::request_processor] Received response from server.\n",
      "[2022-12-16T10:25:25Z INFO  lib_ccli::request_processor] Received client request to endpoint: \"/tensor/publish/request\"\n",
      "[2022-12-16T10:25:25Z INFO  lib_ccli::request_processor] Forwarding request to endpoint...\n",
      "[2022-12-16T10:25:25Z INFO  lib_ccli::request_processor] Received response from server.\n",
      "[2022-12-16T10:25:38Z INFO  lib_ccli::request_processor] Received client request to endpoint: \"/tensor/publish/result_ready\"\n",
      "[2022-12-16T10:25:38Z INFO  lib_ccli::request_processor] Forwarding request to endpoint...\n",
      "[2022-12-16T10:25:38Z INFO  lib_ccli::request_processor] Received response from server.\n",
      "[2022-12-16T10:26:48Z INFO  lib_ccli::request_processor] Received client request to endpoint: \"/tensor/publish/result\"\n",
      "[2022-12-16T10:26:48Z INFO  lib_ccli::request_processor] Forwarding request to endpoint...\n",
      "[2022-12-16T10:26:50Z INFO  lib_ccli::request_processor] Received response from server.\n",
      "\n"
     ]
    }
   ],
   "source": [
    "depl.fetch_current_proxy_logs()"
   ]
  },
  {
   "cell_type": "markdown",
   "id": "ca800e41-d510-42c3-9d4f-ea3044323885",
   "metadata": {},
   "source": [
    "Known Issues - \n",
    "\n",
    "Large dataset cannot be used as of now, cause they go in long re-runs for cache calculation.\n",
    "\n",
    "Proxy sends 200 status code while the enclave returns 400.\n",
    "\n",
    "Mean method when performed on tensor returns a tensor with data_subjects not of type of array and it fails when we perform publish on it.\n"
   ]
  }
 ],
 "metadata": {
  "kernelspec": {
   "display_name": "Python 3 (ipykernel)",
   "language": "python",
   "name": "python3"
  },
  "language_info": {
   "codemirror_mode": {
    "name": "ipython",
    "version": 3
   },
   "file_extension": ".py",
   "mimetype": "text/x-python",
   "name": "python",
   "nbconvert_exporter": "python",
   "pygments_lexer": "ipython3",
   "version": "3.9.13"
  }
 },
 "nbformat": 4,
 "nbformat_minor": 5
}
