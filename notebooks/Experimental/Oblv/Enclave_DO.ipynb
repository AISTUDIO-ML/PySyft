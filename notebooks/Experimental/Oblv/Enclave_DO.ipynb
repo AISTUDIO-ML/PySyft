{
 "cells": [
  {
   "cell_type": "code",
   "execution_count": 1,
   "id": "f7295315-9a4f-4638-b122-e7b43179c8d9",
   "metadata": {},
   "outputs": [
    {
     "name": "stdout",
     "output_type": "stream",
     "text": [
      "\u001b[93mWARNING:\u001b[0m CHANGE YOUR USERNAME AND PASSWORD!!! \n",
      "\n",
      "Anyone can login as an admin to your node right now because your password is still the default PySyft username and password!!!\n",
      "\n",
      "Connecting to localhost... done! \t Logging into canada... done!\n",
      "\u001b[93mWARNING:\u001b[0m CHANGE YOUR USERNAME AND PASSWORD!!! \n",
      "\n",
      "Anyone can login as an admin to your node right now because your password is still the default PySyft username and password!!!\n",
      "\n",
      "Connecting to localhost... done! \t Logging into italy... done!\n"
     ]
    }
   ],
   "source": [
    "%load_ext autoreload\n",
    "%autoreload 2\n",
    "import syft as sy\n",
    "import oblv\n",
    "canada = sy.login(url=\"localhost\",port=8081,email=\"info@openmined.org\",password=\"changethis\")\n",
    "italy = sy.login(url=\"localhost\",port=8082,email=\"info@openmined.org\",password=\"changethis\")"
   ]
  },
  {
   "cell_type": "code",
   "execution_count": 2,
   "id": "29b31277-9ec0-48b8-b98e-338378dc6d0d",
   "metadata": {},
   "outputs": [
    {
     "name": "stdout",
     "output_type": "stream",
     "text": [
      "Success\n",
      "Success\n"
     ]
    }
   ],
   "source": [
    "print(canada.oblv.create_key())\n",
    "print(italy.oblv.create_key())"
   ]
  },
  {
   "cell_type": "code",
   "execution_count": 3,
   "id": "79a7e094-7cac-4781-b124-e658cfbd7767",
   "metadata": {},
   "outputs": [
    {
     "name": "stdout",
     "output_type": "stream",
     "text": [
      "Tensor annotated with DP Metadata!\n",
      "You can upload this Tensor to a domain node by calling `<domain_client>.load_dataset` and passing in this tensor as an asset.\n"
     ]
    },
    {
     "name": "stderr",
     "output_type": "stream",
     "text": [
      "/var/folders/q_/bf0dgn9d0gn14h2h2rmv55pm0000gn/T/ipykernel_11873/3389207498.py:3: DeprecationWarning: This method is deprecated in v0.7.0 and will be removed in future version updates. It is replaced with `annotate_with_dp_metadata` to provide a user-friendly experience. One can call `help(syft.Tensor.annotate_with_dp_metadata)` to learn more about its use.\n",
      "  tensor = sy.Tensor(data).private(min_val=0,max_val=4,data_subjects=[\"natsu\"])\n"
     ]
    }
   ],
   "source": [
    "import numpy as np\n",
    "data = np.array([1,2,3])\n",
    "tensor = sy.Tensor(data).private(min_val=0,max_val=4,data_subjects=[\"natsu\"])"
   ]
  },
  {
   "cell_type": "code",
   "execution_count": 4,
   "id": "6287535d-cf70-470a-a464-b71ca5b8853d",
   "metadata": {},
   "outputs": [
    {
     "name": "stdout",
     "output_type": "stream",
     "text": [
      "User created successfully!\n",
      "User created successfully!\n"
     ]
    },
    {
     "data": {
      "text/plain": [
       "{'name': 'Sheldon Cooper',\n",
       " 'email': 'sheldon@caltech.edu',\n",
       " 'password': 'changethis',\n",
       " 'url': 'localhost'}"
      ]
     },
     "execution_count": 4,
     "metadata": {},
     "output_type": "execute_result"
    }
   ],
   "source": [
    "canada.create_user(name=\"Sheldon Cooper\",email=\"sheldon@caltech.edu\",password=\"changethis\",budget=9_999_999)\n",
    "italy.create_user(name=\"Sheldon Cooper\",email=\"sheldon@caltech.edu\",password=\"changethis\",budget=9_999_999)"
   ]
  },
  {
   "cell_type": "code",
   "execution_count": 5,
   "id": "bd01f6fc-c5c8-4688-9da2-9238291f5aa6",
   "metadata": {},
   "outputs": [
    {
     "name": "stderr",
     "output_type": "stream",
     "text": [
      "Uploading `5dd4043cf7be46a2a3da08439d48e702`: 100%|\u001b[32m███████████████████\u001b[0m| 1/1 [00:00<00:00,  4.70it/s]\u001b[0m\n"
     ]
    },
    {
     "data": {
      "text/plain": [
       "PointerId: 5dd4043cf7be46a2a3da08439d48e702\n",
       "Status: \u001b[93mProcessing\u001b[0m\n",
       "Representation: array([2, 2, 2])\n",
       "\n",
       "(The data printed above is synthetic - it's an imitation of the real data.)"
      ]
     },
     "execution_count": 5,
     "metadata": {},
     "output_type": "execute_result"
    }
   ],
   "source": [
    "tensor.send(canada)"
   ]
  },
  {
   "cell_type": "code",
   "execution_count": 6,
   "id": "371b3602-5ac9-4e7f-83b5-f1a8085a51a8",
   "metadata": {},
   "outputs": [
    {
     "name": "stderr",
     "output_type": "stream",
     "text": [
      "Uploading `f40063c692a447f7bc9b00255ef1d98e`: 100%|\u001b[32m███████████████████\u001b[0m| 1/1 [00:00<00:00,  4.73it/s]\u001b[0m\n"
     ]
    },
    {
     "data": {
      "text/plain": [
       "PointerId: f40063c692a447f7bc9b00255ef1d98e\n",
       "Status: \u001b[93mProcessing\u001b[0m\n",
       "Representation: array([3, 3, 0])\n",
       "\n",
       "(The data printed above is synthetic - it's an imitation of the real data.)"
      ]
     },
     "execution_count": 6,
     "metadata": {},
     "output_type": "execute_result"
    }
   ],
   "source": [
    "tensor.send(italy)"
   ]
  },
  {
   "cell_type": "code",
   "execution_count": 7,
   "id": "bcc631ea-8259-4247-aada-46697baec586",
   "metadata": {},
   "outputs": [
    {
     "data": {
      "text/html": [
       "<div>\n",
       "<style scoped>\n",
       "    .dataframe tbody tr th:only-of-type {\n",
       "        vertical-align: middle;\n",
       "    }\n",
       "\n",
       "    .dataframe tbody tr th {\n",
       "        vertical-align: top;\n",
       "    }\n",
       "\n",
       "    .dataframe thead th {\n",
       "        text-align: right;\n",
       "    }\n",
       "</style>\n",
       "<table border=\"1\" class=\"dataframe\">\n",
       "  <thead>\n",
       "    <tr style=\"text-align: right;\">\n",
       "      <th></th>\n",
       "      <th>ID</th>\n",
       "      <th>Tags</th>\n",
       "      <th>Description</th>\n",
       "      <th>object_type</th>\n",
       "    </tr>\n",
       "  </thead>\n",
       "  <tbody>\n",
       "    <tr>\n",
       "      <th>0</th>\n",
       "      <td>&lt;UID: 5dd4043cf7be46a2a3da08439d48e702&gt;</td>\n",
       "      <td>[]</td>\n",
       "      <td></td>\n",
       "      <td>&lt;class 'syft.core.tensor.tensor.Tensor'&gt;</td>\n",
       "    </tr>\n",
       "  </tbody>\n",
       "</table>\n",
       "</div>"
      ],
      "text/plain": [
       "[PointerId: 5dd4043cf7be46a2a3da08439d48e702\n",
       "Status: \u001b[92mReady\u001b[0m\n",
       "Representation: array([3, 3, 0])\n",
       "\n",
       "(The data printed above is synthetic - it's an imitation of the real data.)]"
      ]
     },
     "execution_count": 7,
     "metadata": {},
     "output_type": "execute_result"
    }
   ],
   "source": [
    "canada.store"
   ]
  },
  {
   "cell_type": "code",
   "execution_count": 8,
   "id": "898d5e8d-c267-40b8-9b4f-66d1e4f5e785",
   "metadata": {},
   "outputs": [
    {
     "data": {
      "text/html": [
       "<div>\n",
       "<style scoped>\n",
       "    .dataframe tbody tr th:only-of-type {\n",
       "        vertical-align: middle;\n",
       "    }\n",
       "\n",
       "    .dataframe tbody tr th {\n",
       "        vertical-align: top;\n",
       "    }\n",
       "\n",
       "    .dataframe thead th {\n",
       "        text-align: right;\n",
       "    }\n",
       "</style>\n",
       "<table border=\"1\" class=\"dataframe\">\n",
       "  <thead>\n",
       "    <tr style=\"text-align: right;\">\n",
       "      <th></th>\n",
       "      <th>ID</th>\n",
       "      <th>Tags</th>\n",
       "      <th>Description</th>\n",
       "      <th>object_type</th>\n",
       "    </tr>\n",
       "  </thead>\n",
       "  <tbody>\n",
       "    <tr>\n",
       "      <th>0</th>\n",
       "      <td>&lt;UID: f40063c692a447f7bc9b00255ef1d98e&gt;</td>\n",
       "      <td>[]</td>\n",
       "      <td></td>\n",
       "      <td>&lt;class 'syft.core.tensor.tensor.Tensor'&gt;</td>\n",
       "    </tr>\n",
       "  </tbody>\n",
       "</table>\n",
       "</div>"
      ],
      "text/plain": [
       "[PointerId: f40063c692a447f7bc9b00255ef1d98e\n",
       "Status: \u001b[92mReady\u001b[0m\n",
       "Representation: array([0, 1, 3])\n",
       "\n",
       "(The data printed above is synthetic - it's an imitation of the real data.)]"
      ]
     },
     "execution_count": 8,
     "metadata": {},
     "output_type": "execute_result"
    }
   ],
   "source": [
    "italy.store"
   ]
  },
  {
   "cell_type": "code",
   "execution_count": null,
   "id": "0915628c-61e6-48f2-b03b-14ca05e166fe",
   "metadata": {},
   "outputs": [],
   "source": []
  }
 ],
 "metadata": {
  "kernelspec": {
   "display_name": "Python 3 (ipykernel)",
   "language": "python",
   "name": "python3"
  },
  "language_info": {
   "codemirror_mode": {
    "name": "ipython",
    "version": 3
   },
   "file_extension": ".py",
   "mimetype": "text/x-python",
   "name": "python",
   "nbconvert_exporter": "python",
   "pygments_lexer": "ipython3",
   "version": "3.9.13"
  }
 },
 "nbformat": 4,
 "nbformat_minor": 5
}
