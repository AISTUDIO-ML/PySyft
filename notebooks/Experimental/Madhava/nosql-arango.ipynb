{
 "cells": [
  {
   "cell_type": "code",
   "execution_count": 2,
   "id": "6342e315-576d-4e75-b3c8-e338d614c66d",
   "metadata": {},
   "outputs": [],
   "source": [
    "# !pip install pyarango"
   ]
  },
  {
   "cell_type": "code",
   "execution_count": 33,
   "id": "c2f74465-e4f1-4d13-a4e1-9779b29373e9",
   "metadata": {},
   "outputs": [],
   "source": [
    "# future\n",
    "from __future__ import annotations\n",
    "\n",
    "# stdlib\n",
    "from typing import *\n",
    "from uuid import UUID\n",
    "from collections import defaultdict\n",
    "\n",
    "# third party\n",
    "import pydantic\n",
    "from pydantic import BaseModel\n",
    "import pyArango\n",
    "from pyArango.connection import *\n",
    "\n",
    "from nacl.signing import SigningKey\n",
    "\n",
    "# syft absolute\n",
    "import syft as sy\n",
    "from syft.core.common import UID\n",
    "from syft.lib.python import Dict as SyDict"
   ]
  },
  {
   "cell_type": "code",
   "execution_count": 10,
   "id": "8c807d11-4857-48e0-a13f-d21b0427ba02",
   "metadata": {},
   "outputs": [],
   "source": [
    "client = Connection(arangoURL='http://127.0.0.1:51930', username=\"root\", password=\"somepassword\")"
   ]
  },
  {
   "cell_type": "code",
   "execution_count": 21,
   "id": "deb8d6f5-fc5b-4fd6-b846-7cf19f571c05",
   "metadata": {},
   "outputs": [],
   "source": [
    "if client.hasDatabase(\"app\"):\n",
    "    db = client[\"app\"]\n",
    "else:\n",
    "    db = client.createDatabase(name=\"app\")"
   ]
  },
  {
   "cell_type": "code",
   "execution_count": 54,
   "id": "09de9117-f978-427a-8e42-3a9d2b1fddce",
   "metadata": {},
   "outputs": [],
   "source": [
    "if not db.hasCollection(\"users\"):\n",
    "    db.createCollection(name=\"users\")"
   ]
  },
  {
   "cell_type": "code",
   "execution_count": 154,
   "id": "6ae22ef4-04a9-453b-a7d5-e12abb18843e",
   "metadata": {},
   "outputs": [
    {
     "data": {
      "text/plain": [
       "{'_frontend': ArangoDB collection name: _frontend, id: 1541, type: document, status: loaded,\n",
       " '_appbundles': ArangoDB collection name: _appbundles, id: 1538, type: document, status: loaded,\n",
       " '_apps': ArangoDB collection name: _apps, id: 1535, type: document, status: loaded,\n",
       " '_jobs': ArangoDB collection name: _jobs, id: 1532, type: document, status: loaded,\n",
       " '_queues': ArangoDB collection name: _queues, id: 1529, type: document, status: loaded,\n",
       " '_aqlfunctions': ArangoDB collection name: _aqlfunctions, id: 1526, type: document, status: loaded,\n",
       " '_analyzers': ArangoDB collection name: _analyzers, id: 1523, type: document, status: loaded,\n",
       " '_graphs': ArangoDB collection name: _graphs, id: 1520, type: document, status: loaded,\n",
       " 'users': ArangoDB collection name: users, id: 1839, type: document, status: loaded}"
      ]
     },
     "execution_count": 154,
     "metadata": {},
     "output_type": "execute_result"
    }
   ],
   "source": [
    "db.collections"
   ]
  },
  {
   "cell_type": "code",
   "execution_count": 153,
   "id": "f7893c1e-639d-41da-a9a8-d9bd6976341d",
   "metadata": {},
   "outputs": [
    {
     "data": {
      "text/plain": [
       "<pyArango.query.SimpleQuery at 0x2b80c6190>"
      ]
     },
     "execution_count": 153,
     "metadata": {},
     "output_type": "execute_result"
    }
   ],
   "source": []
  },
  {
   "cell_type": "code",
   "execution_count": 56,
   "id": "5708beb9-2227-4372-a69c-a7e58fafbd06",
   "metadata": {},
   "outputs": [],
   "source": [
    "class SyftObjectRegistry:\n",
    "    __object_version_registry__: Dict[str, Dict[int, Type[SyftObject]]] = defaultdict(lambda: {})\n",
    "    def __init_subclass__(cls, **kwargs: Any) -> None:\n",
    "        super().__init_subclass__(**kwargs)\n",
    "        if hasattr(cls, \"__canonical_name__\"):\n",
    "            cls.__object_version_registry__[cls.__canonical_name__][int(cls.__version__)] = cls\n",
    "\n",
    "    @classmethod\n",
    "    def versioned_class(cls, name: str, version: int) -> Optional[Type[SyftObject]]:\n",
    "        if name not in cls.__object_version_registry__:\n",
    "            return None\n",
    "        classes = cls.__object_version_registry__[name]\n",
    "        if version not in classes:\n",
    "            return None\n",
    "        return classes[version]"
   ]
  },
  {
   "cell_type": "code",
   "execution_count": 127,
   "id": "9433e951-6871-412f-9bf9-9864955fd496",
   "metadata": {},
   "outputs": [],
   "source": [
    "class SyftObject(BaseModel, SyftObjectRegistry):    \n",
    "    class Config:\n",
    "        arbitrary_types_allowed = True\n",
    "\n",
    "    # all objects have a UID\n",
    "    id: UID = None # consistent and persistent uuid across systems\n",
    "    @pydantic.validator(\"id\", pre=True, always=True)\n",
    "    def make_id(cls, v):\n",
    "        return v if isinstance(v, UID) else UID()\n",
    "    \n",
    "    __canonical_name__: str # the name which doesn't change even when there are multiple classes\n",
    "    __version__: int # data is always versioned\n",
    "    __attr_state__: List[str] # persistent recursive serde keys\n",
    "    __attr_searchable__: List[str] # keys which can be searched in the ORM\n",
    "    __attr_unique__: List[str] # the unique keys for the particular Collection the objects will be stored in\n",
    "\n",
    "    def to_arango(self,doc) -> Dict[str, Any]:\n",
    "        for k in self.__attr_searchable__:\n",
    "            doc[k] = getattr(self, k)\n",
    "        blob = self.to_bytes()\n",
    "        doc[\"_id\"] = self.id.value\n",
    "        doc[\"__canonical_name__\"] = self.__canonical_name__\n",
    "        doc[\"__version__\"] = self.__version__\n",
    "        doc[\"__blob__\"] = blob\n",
    "        doc.save()\n",
    "\n",
    "    @staticmethod\n",
    "    def from_arango(bson: Any) -> SyftObject:\n",
    "        constructor = SyftObjectRegistry.versioned_class(\n",
    "            name=bson[\"__canonical_name__\"], version=bson[\"__version__\"]\n",
    "        )\n",
    "        return constructor(**sy.deserialize(bson[\"__blob__\"], from_bytes=True).upcast())\n",
    "\n",
    "    def to_bytes(self) -> bytes:\n",
    "        d = SyDict(**self)\n",
    "        return sy.serialize(d, to_bytes=True)\n",
    "    \n",
    "    @staticmethod\n",
    "    def from_bytes(blob: bytes) -> SyftObject:\n",
    "        return sy.deserialize(blob, from_bytes=True)\n",
    "\n",
    "    # allows splatting with **\n",
    "    def keys(self) -> KeysView[str]:\n",
    "        return self.__dict__.keys()\n",
    "\n",
    "    # allows splatting with **\n",
    "    def __getitem__(self, key: str) -> Any:\n",
    "        return self.__dict__.__getitem__(key)\n",
    "    \n",
    "    def _upgrade_version(self, latest: bool = True) -> SyftObject:\n",
    "        constructor = SyftObjectRegistry.versioned_class(\n",
    "            name=self.__canonical_name__, version=self.__version__+1\n",
    "        )\n",
    "        if not constructor:\n",
    "            return self\n",
    "        else:\n",
    "            # should we do some kind of recursive upgrades?\n",
    "            upgraded = constructor._from_previous_version(self)\n",
    "            if latest:\n",
    "                upgraded = upgraded._upgrade_version(latest=latest)\n",
    "            return upgraded"
   ]
  },
  {
   "cell_type": "code",
   "execution_count": 128,
   "id": "98364b25-1d76-4c0d-b790-a81743b554fb",
   "metadata": {},
   "outputs": [],
   "source": [
    "class SyftUser(SyftObject):\n",
    "    # version\n",
    "    __canonical_name__ = \"SyftUser\"\n",
    "    __version__ = 1\n",
    "\n",
    "    # fields\n",
    "    email: str\n",
    "    name: str\n",
    "    bad_key: bool = False\n",
    "\n",
    "    # serde / storage rules\n",
    "    __attr_state__ = [\"email\", \"name\", \"bad_key\"]\n",
    "    __attr_searchable__ = [\"email\", \"name\", \"bad_key\"]\n",
    "    __attr_unique__ = [\"email\"]"
   ]
  },
  {
   "cell_type": "code",
   "execution_count": 129,
   "id": "1e871c1e-52b5-46bd-9aa6-9ae46e23dc49",
   "metadata": {},
   "outputs": [],
   "source": [
    "class SyftUserV2(SyftObject):\n",
    "    # version\n",
    "    __canonical_name__ = \"SyftUser\"\n",
    "    __version__ = 2\n",
    "\n",
    "    # fields\n",
    "    email: str\n",
    "    name: str\n",
    "    signing_key: bytes\n",
    "\n",
    "    # serde / storage rules\n",
    "    __attr_state__ = [\"email\", \"name\"]\n",
    "    __attr_searchable__ = [\"email\", \"name\"]\n",
    "    __attr_unique__ = [\"email\"]\n",
    "    \n",
    "    @classmethod\n",
    "    def _from_previous_version(cls, userv1: SyftUser) -> SyftUserV2:\n",
    "        kwargs = dict(**userv1)\n",
    "        kwargs.update({\"signing_key\":bytes(SigningKey.generate())})\n",
    "        return cls(**kwargs) # ignore bad_key"
   ]
  },
  {
   "cell_type": "code",
   "execution_count": 130,
   "id": "35acb978-f15f-416b-91b6-91bab0a7e85d",
   "metadata": {},
   "outputs": [
    {
     "data": {
      "text/plain": [
       "pyArango.connection.Connection"
      ]
     },
     "execution_count": 130,
     "metadata": {},
     "output_type": "execute_result"
    }
   ],
   "source": [
    "type(client)"
   ]
  },
  {
   "cell_type": "code",
   "execution_count": 131,
   "id": "92b46b64-dd82-443e-9f86-40ea3756a612",
   "metadata": {},
   "outputs": [],
   "source": [
    "# a collection is like a table of documents but with what ever shape you like\n",
    "class SyftCollection:\n",
    "    _db: str\n",
    "    _collection_name: str\n",
    "    _collection: pyArango.collection.Collection\n",
    "    _syft_object_type: Dict[int, Type[SyftObject]]\n",
    "    \n",
    "    def __init__(self, client: pyArango.connection.Connection) -> None:\n",
    "        self._db = client[self._db]\n",
    "        self._collection = self._db[self._collection_name]\n",
    "\n",
    "    def add(self, obj: SyftObject) -> SyftObject:\n",
    "        doc = self._collection.createDocument()\n",
    "        obj.to_arango(doc)\n",
    "\n",
    "    def drop(self) -> None:\n",
    "        self._collection.truncate()\n",
    "\n",
    "    def delete() -> None: pass\n",
    "    def update() -> None: pass\n",
    "    def find(self, search_params: Dict[str, Any]) -> List[SyftObject]:\n",
    "        results = []\n",
    "        res = self._collection.find(search_params)\n",
    "        for d in res:\n",
    "            results.append(SyftObject.from_mongo(d))\n",
    "        return results\n",
    "    def find_one(self, search_params: Dict[str, Any]) -> Optional[SyftObject]:\n",
    "        d = self._collection.find_one(search_params)\n",
    "        if d is None:\n",
    "            return d\n",
    "        return SyftObject.from_mongo(d)"
   ]
  },
  {
   "cell_type": "code",
   "execution_count": 132,
   "id": "2c15ae0b-0077-4683-a58c-32d92afeed5e",
   "metadata": {},
   "outputs": [],
   "source": [
    "# a collection of SyftUsers\n",
    "class SyftUserCollection(SyftCollection):\n",
    "    _db = \"app\"\n",
    "    _collection_name = \"users\"\n",
    "    __canonical_object_name__ = \"SyftUser\""
   ]
  },
  {
   "cell_type": "code",
   "execution_count": 133,
   "id": "a3cb8f4e-3934-44a9-8065-9a834e38df31",
   "metadata": {},
   "outputs": [],
   "source": [
    "# do some object creation and serde"
   ]
  },
  {
   "cell_type": "code",
   "execution_count": 134,
   "id": "f8848709-d8ff-4f6c-b100-b369e313e4ab",
   "metadata": {},
   "outputs": [],
   "source": [
    "uid = UUID('3873fc45-f513-48ab-8a47-7306bc7382b0')"
   ]
  },
  {
   "cell_type": "code",
   "execution_count": 135,
   "id": "c05bab08-ba51-43a5-9c43-811493d547a5",
   "metadata": {},
   "outputs": [],
   "source": [
    "madhava = SyftUser(email=\"madhava@openmined.org\", name=\"Madhava\", id=uid)"
   ]
  },
  {
   "cell_type": "code",
   "execution_count": 136,
   "id": "81992e2e-b8ca-49df-8d91-3fe3b20f694a",
   "metadata": {},
   "outputs": [],
   "source": [
    "ser = madhava.to_bytes()"
   ]
  },
  {
   "cell_type": "code",
   "execution_count": 137,
   "id": "cbb14e17-9e54-4d89-a36e-87f2509cb274",
   "metadata": {},
   "outputs": [],
   "source": [
    "de = SyftUser.from_bytes(ser)"
   ]
  },
  {
   "cell_type": "code",
   "execution_count": 138,
   "id": "3886f178-3f0a-49d0-9ce1-dd7b9131ba83",
   "metadata": {},
   "outputs": [],
   "source": [
    "assert madhava == de"
   ]
  },
  {
   "cell_type": "code",
   "execution_count": 139,
   "id": "a03915f5-cad6-4420-8039-d6c862a3441c",
   "metadata": {},
   "outputs": [],
   "source": [
    "key = SigningKey.generate()"
   ]
  },
  {
   "cell_type": "code",
   "execution_count": 140,
   "id": "1584d9b5-867c-4213-8145-b3084101b196",
   "metadata": {},
   "outputs": [],
   "source": [
    "madhava_v2 = SyftUserV2(email=\"madhava@openmined.org\", name=\"Madhava\", signing_key=bytes(key))"
   ]
  },
  {
   "cell_type": "code",
   "execution_count": 141,
   "id": "14da3f84-5f4f-4deb-8e1a-db8c531c17b4",
   "metadata": {},
   "outputs": [
    {
     "data": {
      "text/plain": [
       "SyftUserV2(id=<UID: 1cfacf5b914e49ac9e9a1de539e9ccb7>, email='madhava@openmined.org', name='Madhava', signing_key=b'0uK\\x91\\xef\\tHD\\x8e\\xc2\\x99E\\xe1\\xf9A#\\x0f\\x92\\xac\\xf1\\x89=\\x02\\xf4\\xd2\\x91\\xee\\xa7\\xce\\x11Em')"
      ]
     },
     "execution_count": 141,
     "metadata": {},
     "output_type": "execute_result"
    }
   ],
   "source": [
    "madhava_v2"
   ]
  },
  {
   "cell_type": "code",
   "execution_count": 142,
   "id": "a05db109-f1b8-4598-87fc-c031654d7580",
   "metadata": {},
   "outputs": [],
   "source": [
    "assert madhava_v2.__canonical_name__ == madhava.__canonical_name__"
   ]
  },
  {
   "cell_type": "code",
   "execution_count": 143,
   "id": "d79af636-cc09-4372-9828-072ea933ed1e",
   "metadata": {},
   "outputs": [],
   "source": [
    "# do some collection stuff"
   ]
  },
  {
   "cell_type": "code",
   "execution_count": 144,
   "id": "d4f46e48-84f8-45b8-a02a-60a86d69e383",
   "metadata": {},
   "outputs": [],
   "source": [
    "user_collection = SyftUserCollection(client=client)\n",
    "user_collection.drop()"
   ]
  },
  {
   "cell_type": "code",
   "execution_count": 145,
   "id": "176afa2d-b131-44f4-8a80-6484aa5fe2cf",
   "metadata": {},
   "outputs": [
    {
     "ename": "UpdateError",
     "evalue": "invalid document type. Errors: {'code': 400, 'error': True, 'errorMessage': 'invalid document type', 'errorNum': 1227}",
     "output_type": "error",
     "traceback": [
      "\u001b[0;31m---------------------------------------------------------------------------\u001b[0m",
      "\u001b[0;31mUpdateError\u001b[0m                               Traceback (most recent call last)",
      "Input \u001b[0;32mIn [145]\u001b[0m, in \u001b[0;36m<cell line: 1>\u001b[0;34m()\u001b[0m\n\u001b[0;32m----> 1\u001b[0m \u001b[43muser_collection\u001b[49m\u001b[38;5;241;43m.\u001b[39;49m\u001b[43madd\u001b[49m\u001b[43m(\u001b[49m\u001b[43mmadhava\u001b[49m\u001b[43m)\u001b[49m\n",
      "Input \u001b[0;32mIn [131]\u001b[0m, in \u001b[0;36mSyftCollection.add\u001b[0;34m(self, obj)\u001b[0m\n\u001b[1;32m     12\u001b[0m \u001b[38;5;28;01mdef\u001b[39;00m \u001b[38;5;21madd\u001b[39m(\u001b[38;5;28mself\u001b[39m, obj: SyftObject) \u001b[38;5;241m-\u001b[39m\u001b[38;5;241m>\u001b[39m SyftObject:\n\u001b[1;32m     13\u001b[0m     doc \u001b[38;5;241m=\u001b[39m \u001b[38;5;28mself\u001b[39m\u001b[38;5;241m.\u001b[39m_collection\u001b[38;5;241m.\u001b[39mcreateDocument()\n\u001b[0;32m---> 14\u001b[0m     \u001b[43mobj\u001b[49m\u001b[38;5;241;43m.\u001b[39;49m\u001b[43mto_arango\u001b[49m\u001b[43m(\u001b[49m\u001b[43mdoc\u001b[49m\u001b[43m)\u001b[49m\n",
      "Input \u001b[0;32mIn [127]\u001b[0m, in \u001b[0;36mSyftObject.to_arango\u001b[0;34m(self, doc)\u001b[0m\n\u001b[1;32m     23\u001b[0m doc[\u001b[38;5;124m\"\u001b[39m\u001b[38;5;124m__version__\u001b[39m\u001b[38;5;124m\"\u001b[39m] \u001b[38;5;241m=\u001b[39m \u001b[38;5;28mself\u001b[39m\u001b[38;5;241m.\u001b[39m__version__\n\u001b[1;32m     24\u001b[0m doc[\u001b[38;5;124m\"\u001b[39m\u001b[38;5;124m__blob__\u001b[39m\u001b[38;5;124m\"\u001b[39m] \u001b[38;5;241m=\u001b[39m blob\n\u001b[0;32m---> 25\u001b[0m \u001b[43mdoc\u001b[49m\u001b[38;5;241;43m.\u001b[39;49m\u001b[43msave\u001b[49m\u001b[43m(\u001b[49m\u001b[43m)\u001b[49m\n",
      "File \u001b[0;32m~/PySyft/.tox/syft.jupyter/lib/python3.9/site-packages/pyArango/document.py:268\u001b[0m, in \u001b[0;36mDocument.save\u001b[0;34m(self, waitForSync, **docArgs)\u001b[0m\n\u001b[1;32m    263\u001b[0m \u001b[38;5;124;03m\"\"\"Saves the document to the database by either performing a POST (for a new document) or a PUT (complete document overwrite).\u001b[39;00m\n\u001b[1;32m    264\u001b[0m \u001b[38;5;124;03mIf you want to only update the modified fields use the .patch() function.\u001b[39;00m\n\u001b[1;32m    265\u001b[0m \u001b[38;5;124;03mUse docArgs to put things such as 'waitForSync = True' (for a full list cf ArangoDB's doc).\u001b[39;00m\n\u001b[1;32m    266\u001b[0m \u001b[38;5;124;03mIt will only trigger a saving of the document if it has been modified since the last save. If you want to force the saving you can use forceSave()\"\"\"\u001b[39;00m\n\u001b[1;32m    267\u001b[0m payload \u001b[38;5;241m=\u001b[39m \u001b[38;5;28mself\u001b[39m\u001b[38;5;241m.\u001b[39m_store\u001b[38;5;241m.\u001b[39mgetStore()\n\u001b[0;32m--> 268\u001b[0m \u001b[38;5;28;43mself\u001b[39;49m\u001b[38;5;241;43m.\u001b[39;49m\u001b[43m_save\u001b[49m\u001b[43m(\u001b[49m\u001b[43mpayload\u001b[49m\u001b[43m,\u001b[49m\u001b[43m \u001b[49m\u001b[43mwaitForSync\u001b[49m\u001b[43m \u001b[49m\u001b[38;5;241;43m=\u001b[39;49m\u001b[43m \u001b[49m\u001b[38;5;28;43;01mFalse\u001b[39;49;00m\u001b[43m,\u001b[49m\u001b[43m \u001b[49m\u001b[38;5;241;43m*\u001b[39;49m\u001b[38;5;241;43m*\u001b[39;49m\u001b[43mdocArgs\u001b[49m\u001b[43m)\u001b[49m\n",
      "File \u001b[0;32m~/PySyft/.tox/syft.jupyter/lib/python3.9/site-packages/pyArango/document.py:306\u001b[0m, in \u001b[0;36mDocument._save\u001b[0;34m(self, payload, waitForSync, **docArgs)\u001b[0m\n\u001b[1;32m    304\u001b[0m \u001b[38;5;28;01melse\u001b[39;00m:\n\u001b[1;32m    305\u001b[0m     \u001b[38;5;28;01mif\u001b[39;00m update:\n\u001b[0;32m--> 306\u001b[0m         \u001b[38;5;28;01mraise\u001b[39;00m UpdateError(data[\u001b[38;5;124m'\u001b[39m\u001b[38;5;124merrorMessage\u001b[39m\u001b[38;5;124m'\u001b[39m], data)\n\u001b[1;32m    307\u001b[0m     \u001b[38;5;28;01melse\u001b[39;00m:\n\u001b[1;32m    308\u001b[0m         \u001b[38;5;28;01mraise\u001b[39;00m CreationError(data[\u001b[38;5;124m'\u001b[39m\u001b[38;5;124merrorMessage\u001b[39m\u001b[38;5;124m'\u001b[39m], data)\n",
      "\u001b[0;31mUpdateError\u001b[0m: invalid document type. Errors: {'code': 400, 'error': True, 'errorMessage': 'invalid document type', 'errorNum': 1227}"
     ]
    }
   ],
   "source": [
    "user_collection.add(madhava)"
   ]
  },
  {
   "cell_type": "code",
   "execution_count": 120,
   "id": "4603d662-0263-440c-b9a7-80c9b1a7661f",
   "metadata": {},
   "outputs": [
    {
     "data": {
      "text/plain": [
       "<pyArango.query.SimpleQuery at 0x2967a2880>"
      ]
     },
     "execution_count": 120,
     "metadata": {},
     "output_type": "execute_result"
    }
   ],
   "source": [
    "user_collection._collection.fetchAll()"
   ]
  },
  {
   "cell_type": "code",
   "execution_count": 126,
   "id": "cdfc42f6-8527-4389-8e40-eec45e78b0fa",
   "metadata": {},
   "outputs": [
    {
     "data": {
      "text/plain": [
       "ArangoDB collection name: users, id: 1839, type: document, status: loaded"
      ]
     },
     "execution_count": 126,
     "metadata": {},
     "output_type": "execute_result"
    }
   ],
   "source": [
    "user_collection._collection."
   ]
  },
  {
   "cell_type": "code",
   "execution_count": 112,
   "id": "379ac6b8-66bf-44e9-88c6-8cbea75fda3d",
   "metadata": {},
   "outputs": [],
   "source": [
    "try:\n",
    "    user_collection.add(madhava)\n",
    "except pymongo.errors.DuplicateKeyError as e:\n",
    "    print(\"Duplicate key\")"
   ]
  },
  {
   "cell_type": "code",
   "execution_count": 122,
   "id": "eadf7de0-d5a5-458e-ad29-14cb7bdd6ec7",
   "metadata": {},
   "outputs": [],
   "source": [
    "madhava = user_collection._collection.fetchByExample({\"name\": \"Madhava\"},1)"
   ]
  },
  {
   "cell_type": "code",
   "execution_count": 123,
   "id": "3886351a-754b-4021-8068-73d48702ad63",
   "metadata": {},
   "outputs": [
    {
     "data": {
      "text/plain": [
       "pyArango.query.SimpleQuery"
      ]
     },
     "execution_count": 123,
     "metadata": {},
     "output_type": "execute_result"
    }
   ],
   "source": [
    "type(madhava)"
   ]
  },
  {
   "cell_type": "code",
   "execution_count": 28,
   "id": "f3af7233-8fd5-40bb-bf8f-b98c888732a9",
   "metadata": {},
   "outputs": [],
   "source": [
    "user_collection.add(madhava_v2)"
   ]
  },
  {
   "cell_type": "code",
   "execution_count": 29,
   "id": "995c23f8-ec37-403a-a126-b05b58ea8c1d",
   "metadata": {},
   "outputs": [],
   "source": [
    "madhavas = user_collection.find({\"name\": \"Madhava\"})"
   ]
  },
  {
   "cell_type": "code",
   "execution_count": 30,
   "id": "0dfb1160-126a-45b1-8b34-0fdbb285dd6e",
   "metadata": {},
   "outputs": [
    {
     "name": "stdout",
     "output_type": "stream",
     "text": [
      "1 id=<UID: 9cc591d7c101493c870672f946d14482> email='madhava@openmined.org' name='Madhava' bad_key=False\n",
      "2 id=<UID: 381f96a1451347d3b49b021ee5e9b770> email='madhava@openmined.org' name='Madhava' signing_key=b'\\x96h \\xad\\xcd\\x88\\xa9y\\x82f\\xdc\\xfa\\xce\\xd6\\xf5IV.\\xfe\\x00\\xdb%\\xff\\xd3\\xd2_\\x19\\xbe%e\\x17\\xb9'\n",
      "2 id=<UID: 9cc591d7c101493c870672f946d14482> email='madhava@openmined.org' name='Madhava' signing_key=b'=\\x86\\xcd\\xa2Y{\\xfc+\\xd5Vs:\\xb0q\\xe0\\xb7\\x04\\xb0\\x11H\\x8e\\x13+\\x1b\\x87;\\x8e\\xa1T\\xba\\xeca'\n",
      "2 id=<UID: 381f96a1451347d3b49b021ee5e9b770> email='madhava@openmined.org' name='Madhava' signing_key=b'\\x96h \\xad\\xcd\\x88\\xa9y\\x82f\\xdc\\xfa\\xce\\xd6\\xf5IV.\\xfe\\x00\\xdb%\\xff\\xd3\\xd2_\\x19\\xbe%e\\x17\\xb9'\n"
     ]
    }
   ],
   "source": [
    "# a collection of different versioned types\n",
    "upgraded = []\n",
    "for m in madhavas:\n",
    "    print(m.__version__, m)\n",
    "    upgraded.append(m._upgrade_version())\n",
    "    \n",
    "for m in upgraded:\n",
    "    print(m.__version__, m)"
   ]
  },
  {
   "cell_type": "code",
   "execution_count": null,
   "id": "8d1a760d-c420-4e4c-a322-ece5d5f2fcaf",
   "metadata": {},
   "outputs": [],
   "source": []
  }
 ],
 "metadata": {
  "kernelspec": {
   "display_name": "Python 3 (ipykernel)",
   "language": "python",
   "name": "python3"
  },
  "language_info": {
   "codemirror_mode": {
    "name": "ipython",
    "version": 3
   },
   "file_extension": ".py",
   "mimetype": "text/x-python",
   "name": "python",
   "nbconvert_exporter": "python",
   "pygments_lexer": "ipython3",
   "version": "3.9.13"
  }
 },
 "nbformat": 4,
 "nbformat_minor": 5
}
