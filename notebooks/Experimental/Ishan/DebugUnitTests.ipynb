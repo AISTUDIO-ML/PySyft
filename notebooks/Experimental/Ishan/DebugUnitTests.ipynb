{
 "cells": [
  {
   "cell_type": "code",
   "execution_count": 11,
   "id": "c148af3f-1a26-4758-a76e-0ec380518f0d",
   "metadata": {},
   "outputs": [],
   "source": [
    "from syft import PhiTensor as PT"
   ]
  },
  {
   "cell_type": "code",
   "execution_count": 12,
   "id": "2d371ea2-23cb-4c86-9af5-0fc283157fdf",
   "metadata": {},
   "outputs": [],
   "source": [
    "from syft.core.adp.data_subject_list import DataSubject\n",
    "import numpy as np\n",
    "\n",
    "ishan = np.array([DataSubject([\"Ishan\"])])"
   ]
  },
  {
   "cell_type": "code",
   "execution_count": 13,
   "id": "3a9d2ff5-9373-482d-8e53-a85fc48d77d6",
   "metadata": {},
   "outputs": [],
   "source": [
    "from syft import lazyrepeatarray as lra\n",
    "\n",
    "upper_bound = lra(data=5, shape=(3,3))\n",
    "lower_bound = lra(data=-5, shape=(3,3))\n",
    "\n",
    "reference_data = np.random.randint(-5, 5, (3,3))"
   ]
  },
  {
   "cell_type": "code",
   "execution_count": 14,
   "id": "dbff0612-44aa-4dae-9d45-dd62a2de8fc9",
   "metadata": {},
   "outputs": [],
   "source": [
    "reference_tensor = PT(\n",
    "    child=np.array(reference_data),\n",
    "    data_subject=ishan,\n",
    "    max_vals=upper_bound,\n",
    "    min_vals=lower_bound,\n",
    ")\n",
    "gamma_tensor = reference_tensor.gamma\n",
    "\n",
    "aux_tensor = gamma_tensor == reference_data\n",
    "result = aux_tensor.any()\n",
    "assert result.child\n",
    "assert list(result.sources.keys()) == [reference_tensor.id]\n",
    "state = {}\n",
    "for key in result.sources:\n",
    "    state[key] = result.sources[key].child\n",
    "assert (result.func(state) == result.child).all()\n",
    "\n",
    "result = (gamma_tensor == reference_data).any(axis=0)\n",
    "assert result.shape == (reference_data.shape[0],)\n",
    "assert list(result.sources.keys()) == [reference_tensor.id]\n",
    "state = {}\n",
    "for key in result.sources:\n",
    "    state[key] = result.sources[key].child\n",
    "assert (result.func(state) == result.child).all()\n",
    "\n",
    "result = (gamma_tensor == reference_data).any(keepdims=True)\n",
    "assert result.shape == (1, 1)\n",
    "assert list(result.sources.keys()) == [reference_tensor.id]\n",
    "state = {}\n",
    "for key in result.sources:\n",
    "    state[key] = result.sources[key].child\n",
    "assert (result.func(state) == result.child).all()\n",
    "\n",
    "result = (gamma_tensor == reference_data).any(keepdims=True, axis=0)\n",
    "assert result.shape == (1, reference_tensor.shape[0])\n",
    "assert list(result.sources.keys()) == [reference_tensor.id]\n",
    "state = {}\n",
    "for key in result.sources:\n",
    "    state[key] = result.sources[key].child\n",
    "assert (result.func(state) == result.child).all()\n",
    "\n",
    "condition = list(\n",
    "    np.random.choice(a=[False, True], size=(reference_data.shape[0] - 1))\n",
    ")\n",
    "condition.append(\n",
    "    True\n",
    ")  # If condition = [False, False, False ... False], this test will fail\n",
    "result = (gamma_tensor == reference_data).any(where=condition)\n",
    "assert result.child\n",
    "assert list(result.sources.keys()) == [reference_tensor.id]\n",
    "state = {}\n",
    "for key in result.sources:\n",
    "    state[key] = result.sources[key].child\n",
    "# print(state)\n",
    "# print(result.func(state))\n",
    "\n",
    "assert result.func(state).shape == result.child.shape\n",
    "assert (result.func(state) == result.child).all()  # TODO 0.7: debug this"
   ]
  },
  {
   "cell_type": "code",
   "execution_count": 15,
   "id": "de799791-9ded-4b8f-8936-247db08feb1b",
   "metadata": {},
   "outputs": [
    {
     "name": "stdout",
     "output_type": "stream",
     "text": [
      "[[0 1 0]\n",
      " [0 0 2]\n",
      " [0 0 0]]\n",
      "[[ 0  1 -2]\n",
      " [ 0  0  2]\n",
      " [ 0  0  0]]\n"
     ]
    },
    {
     "name": "stderr",
     "output_type": "stream",
     "text": [
      "/home/e/PycharmProjects/PySyft/packages/syft/src/syft/core/tensor/autodp/gamma_tensor.py:3367: RuntimeWarning: divide by zero encountered in floor_divide\n",
      "  sources.update(other.sources)\n",
      "/tmp/ipykernel_26149/1547835576.py:24: RuntimeWarning: divide by zero encountered in floor_divide\n",
      "  assert (output.child == (reference_data // (reference_data + 1))).all()\n"
     ]
    }
   ],
   "source": [
    "tensor = PT(\n",
    "    child=reference_data,\n",
    "    data_subject=ishan,\n",
    "    min_vals=lower_bound,\n",
    "    max_vals=upper_bound,\n",
    ")\n",
    "gamma_tensor = tensor.gamma\n",
    "output = gamma_tensor // 5\n",
    "assert (output.child == (reference_data // 5)).all()\n",
    "assert list(output.sources.keys()) == [tensor.id]\n",
    "state = {}\n",
    "for key in output.sources:\n",
    "    state[key] = output.sources[key].child\n",
    "assert (output.func(state) == output.child).all()\n",
    "\n",
    "tensor2 = PT(\n",
    "    child=reference_data + 1,\n",
    "    data_subject=ishan,\n",
    "    min_vals=lower_bound + 1,\n",
    "    max_vals=upper_bound + 1,\n",
    ")\n",
    "\n",
    "output = gamma_tensor // tensor2\n",
    "assert (output.child == (reference_data // (reference_data + 1))).all()\n",
    "assert list(output.sources.keys()) == [tensor.id, tensor2.id]\n",
    "state = {}\n",
    "for key in output.sources:\n",
    "    state[key] = output.sources[key].child\n",
    "print(output.child)\n",
    "print(output.func(state))"
   ]
  },
  {
   "cell_type": "code",
   "execution_count": 16,
   "id": "a0ed8f01-6102-4802-8fca-49d38cd711b5",
   "metadata": {},
   "outputs": [
    {
     "ename": "AssertionError",
     "evalue": "",
     "output_type": "error",
     "traceback": [
      "\u001b[0;31m---------------------------------------------------------------------------\u001b[0m",
      "\u001b[0;31mAssertionError\u001b[0m                            Traceback (most recent call last)",
      "\u001b[0;32m/tmp/ipykernel_26149/364272282.py\u001b[0m in \u001b[0;36m<module>\u001b[0;34m\u001b[0m\n\u001b[0;32m----> 1\u001b[0;31m \u001b[0;32massert\u001b[0m \u001b[0;34m(\u001b[0m\u001b[0moutput\u001b[0m\u001b[0;34m.\u001b[0m\u001b[0mfunc\u001b[0m\u001b[0;34m(\u001b[0m\u001b[0mstate\u001b[0m\u001b[0;34m)\u001b[0m \u001b[0;34m==\u001b[0m \u001b[0moutput\u001b[0m\u001b[0;34m.\u001b[0m\u001b[0mchild\u001b[0m\u001b[0;34m)\u001b[0m\u001b[0;34m.\u001b[0m\u001b[0mall\u001b[0m\u001b[0;34m(\u001b[0m\u001b[0;34m)\u001b[0m  \u001b[0;31m# TODO 0.7: fix this one\u001b[0m\u001b[0;34m\u001b[0m\u001b[0;34m\u001b[0m\u001b[0m\n\u001b[0m",
      "\u001b[0;31mAssertionError\u001b[0m: "
     ]
    }
   ],
   "source": [
    "assert (output.func(state) == output.child).all()  # TODO 0.7: fix this one"
   ]
  },
  {
   "cell_type": "code",
   "execution_count": null,
   "id": "dc497374-3f06-41bf-943a-34fad0edc189",
   "metadata": {},
   "outputs": [],
   "source": []
  }
 ],
 "metadata": {
  "kernelspec": {
   "display_name": "Python 3 (ipykernel)",
   "language": "python",
   "name": "python3"
  },
  "language_info": {
   "codemirror_mode": {
    "name": "ipython",
    "version": 3
   },
   "file_extension": ".py",
   "mimetype": "text/x-python",
   "name": "python",
   "nbconvert_exporter": "python",
   "pygments_lexer": "ipython3",
   "version": "3.9.7"
  }
 },
 "nbformat": 4,
 "nbformat_minor": 5
}
