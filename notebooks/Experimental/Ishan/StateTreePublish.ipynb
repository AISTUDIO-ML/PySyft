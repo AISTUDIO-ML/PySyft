{
 "cells": [
  {
   "cell_type": "code",
   "execution_count": 1,
   "id": "830c526c-6994-4fc9-97a0-a5e5a89f4f5b",
   "metadata": {},
   "outputs": [],
   "source": [
    "import syft as sy\n",
    "import numpy as np\n",
    "from syft.core.adp.data_subject_list import DataSubjectList"
   ]
  },
  {
   "cell_type": "code",
   "execution_count": 2,
   "id": "ce85b5c9-a6e7-478f-b4aa-19179703c5f8",
   "metadata": {},
   "outputs": [],
   "source": [
    "from syft.core.tensor.autodp.ndim_entity_phi import NDimEntityPhiTensor as NDEPT\n",
    "from syft.core.tensor.autodp.gamma_tensor import GammaTensor"
   ]
  },
  {
   "cell_type": "code",
   "execution_count": 3,
   "id": "d5ea4493-06e3-4aea-a7af-674f23f36cea",
   "metadata": {},
   "outputs": [],
   "source": [
    "tensor1 = NDEPT(\n",
    "    child=np.random.randint(low=5, high=100, size=(10,10), dtype=np.int64),\n",
    "    entities=np.ones((10, 10), dtype=np.int64),\n",
    "    min_vals=5,\n",
    "    max_vals=100,\n",
    ")\n",
    "\n",
    "tensor2 = NDEPT(\n",
    "    child=np.random.randint(low=5, high=100, size=(10,10), dtype=np.int64),\n",
    "    entities=np.zeros((10, 10), dtype=np.int64),\n",
    "    min_vals=5,\n",
    "    max_vals=100,\n",
    ")"
   ]
  },
  {
   "cell_type": "code",
   "execution_count": 4,
   "id": "107d5668-be5b-497a-abfb-c3760b5e715b",
   "metadata": {},
   "outputs": [],
   "source": [
    "gamma1 = tensor1.gamma\n",
    "gamma2 = tensor2.gamma"
   ]
  },
  {
   "cell_type": "code",
   "execution_count": 5,
   "id": "18b7a6a4-554b-4a82-b4e9-35979d6e690e",
   "metadata": {},
   "outputs": [
    {
     "data": {
      "text/plain": [
       "{}"
      ]
     },
     "execution_count": 5,
     "metadata": {},
     "output_type": "execute_result"
    }
   ],
   "source": [
    "gamma1.state"
   ]
  },
  {
   "cell_type": "code",
   "execution_count": 6,
   "id": "87192729-8f2d-42b2-81b4-0e4833ee3aa8",
   "metadata": {},
   "outputs": [
    {
     "data": {
      "text/plain": [
       "{}"
      ]
     },
     "execution_count": 6,
     "metadata": {},
     "output_type": "execute_result"
    }
   ],
   "source": [
    "gamma2.state"
   ]
  },
  {
   "cell_type": "code",
   "execution_count": 7,
   "id": "45d6e16f-f853-4b8c-a2e0-b7b3e5d5b5d9",
   "metadata": {},
   "outputs": [],
   "source": [
    "addition = gamma1 + gamma2"
   ]
  },
  {
   "cell_type": "code",
   "execution_count": 35,
   "id": "48671433-4065-47d0-9636-733942527872",
   "metadata": {},
   "outputs": [
    {
     "name": "stdout",
     "output_type": "stream",
     "text": [
      "1238310000 260984538\n"
     ]
    }
   ],
   "source": [
    "print(gamma1.id, gamma2.id)"
   ]
  },
  {
   "cell_type": "code",
   "execution_count": 8,
   "id": "6fe2396d-2d89-463f-a940-275bcb222d83",
   "metadata": {},
   "outputs": [
    {
     "data": {
      "text/plain": [
       "dict_keys(['1238310000', '260984538'])"
      ]
     },
     "execution_count": 8,
     "metadata": {},
     "output_type": "execute_result"
    }
   ],
   "source": [
    "# You can see that `addition` has a populated state:\n",
    "addition.state.keys()"
   ]
  },
  {
   "cell_type": "code",
   "execution_count": 9,
   "id": "7acf87aa-6b2b-45c1-bd19-77a9ecc47a62",
   "metadata": {},
   "outputs": [
    {
     "name": "stdout",
     "output_type": "stream",
     "text": [
      "<function no_op at 0x7f41ecff2b80>\n",
      "{}\n",
      "<function no_op at 0x7f41ecff2b80>\n",
      "{}\n",
      "<function GammaTensor.__add__.<locals>._add at 0x7f42a078a040>\n"
     ]
    }
   ],
   "source": [
    "# You can see that \n",
    "for k in addition.state.keys():\n",
    "    print(addition.state[k].func)\n",
    "    print(addition.state[k].state)\n",
    "print(addition.func)"
   ]
  },
  {
   "cell_type": "code",
   "execution_count": 10,
   "id": "82da834b-511c-491b-bd22-a484287c8b51",
   "metadata": {},
   "outputs": [
    {
     "data": {
      "text/plain": [
       "'1238310000'"
      ]
     },
     "execution_count": 10,
     "metadata": {},
     "output_type": "execute_result"
    }
   ],
   "source": [
    "gamma1.id"
   ]
  },
  {
   "cell_type": "code",
   "execution_count": 11,
   "id": "305421be-e6b8-4fb1-b0a3-8ffb02a431b9",
   "metadata": {},
   "outputs": [
    {
     "data": {
      "text/plain": [
       "'260984538'"
      ]
     },
     "execution_count": 11,
     "metadata": {},
     "output_type": "execute_result"
    }
   ],
   "source": [
    "gamma2.id"
   ]
  },
  {
   "cell_type": "code",
   "execution_count": 12,
   "id": "94b98920-6da4-4bae-9521-ff42de94247c",
   "metadata": {},
   "outputs": [
    {
     "data": {
      "text/plain": [
       "dict_keys(['1238310000', '260984538'])"
      ]
     },
     "execution_count": 12,
     "metadata": {},
     "output_type": "execute_result"
    }
   ],
   "source": [
    "addition.state.keys()"
   ]
  },
  {
   "cell_type": "code",
   "execution_count": 13,
   "id": "48685390-69b1-4956-9d7c-d8932e9d7e06",
   "metadata": {},
   "outputs": [
    {
     "data": {
      "text/plain": [
       "'86335634'"
      ]
     },
     "execution_count": 13,
     "metadata": {},
     "output_type": "execute_result"
    }
   ],
   "source": [
    "addition.id"
   ]
  },
  {
   "cell_type": "code",
   "execution_count": 18,
   "id": "86966a0c-1142-4635-beb7-a5ac3ca0973c",
   "metadata": {},
   "outputs": [
    {
     "data": {
      "text/plain": [
       "DeviceArray([[ 4259840,  1900544,  8192000,  6619136,  7143424,  3670016,\n",
       "               3866624, 10223616,  6815744,  7602176],\n",
       "             [ 5111808,  8650752,  9895936,  6356992,  6553600, 10485760,\n",
       "               6291456,  7864320,  6356992,  5701632],\n",
       "             [ 4653056,  6225920,  4587520,  7733248,  7012352,  5701632,\n",
       "               1900544,  4849664,  4259840,  5373952],\n",
       "             [ 3735552,  7667712,  9633792,  5570560,  5767168,  4718592,\n",
       "              10813440,  6356992,  8388608,  2359296],\n",
       "             [10354688,  8454144,  8388608,  6946816,  7274496,  3276800,\n",
       "               7864320,  4915200,  9043968,  2949120],\n",
       "             [ 4849664,  7733248,  3735552,  1441792,  7274496,  2818048,\n",
       "               4718592,  4456448,  3211264,  8847360],\n",
       "             [ 8585216,  9699328,  9240576,  6422528, 11862016, 12058624,\n",
       "               2490368,  5177344,  5373952,  9961472],\n",
       "             [ 9502720,  7864320,  6619136,  5636096,  8847360,  4915200,\n",
       "              12058624,  9830400,  3473408, 10354688],\n",
       "             [11927552, 10354688,  2752512,  8257536,  8323072,  2293760,\n",
       "              11403264,  8781824,  5898240, 10027008],\n",
       "             [ 9371648,  7143424,  7208960,  6553600, 12517376,  5505024,\n",
       "               1310720,  8519680, 12124160,  4128768]], dtype=int64)"
      ]
     },
     "execution_count": 18,
     "metadata": {},
     "output_type": "execute_result"
    }
   ],
   "source": [
    "# This is the function we will eventually run to compute everything and get the results\n",
    "addition.run(addition.state)"
   ]
  },
  {
   "cell_type": "code",
   "execution_count": 19,
   "id": "20aeb485-ab75-49ec-9ed5-ccbcf898d386",
   "metadata": {},
   "outputs": [
    {
     "data": {
      "text/plain": [
       "array([[ 4259840,  1900544,  8192000,  6619136,  7143424,  3670016,\n",
       "         3866624, 10223616,  6815744,  7602176],\n",
       "       [ 5111808,  8650752,  9895936,  6356992,  6553600, 10485760,\n",
       "         6291456,  7864320,  6356992,  5701632],\n",
       "       [ 4653056,  6225920,  4587520,  7733248,  7012352,  5701632,\n",
       "         1900544,  4849664,  4259840,  5373952],\n",
       "       [ 3735552,  7667712,  9633792,  5570560,  5767168,  4718592,\n",
       "        10813440,  6356992,  8388608,  2359296],\n",
       "       [10354688,  8454144,  8388608,  6946816,  7274496,  3276800,\n",
       "         7864320,  4915200,  9043968,  2949120],\n",
       "       [ 4849664,  7733248,  3735552,  1441792,  7274496,  2818048,\n",
       "         4718592,  4456448,  3211264,  8847360],\n",
       "       [ 8585216,  9699328,  9240576,  6422528, 11862016, 12058624,\n",
       "         2490368,  5177344,  5373952,  9961472],\n",
       "       [ 9502720,  7864320,  6619136,  5636096,  8847360,  4915200,\n",
       "        12058624,  9830400,  3473408, 10354688],\n",
       "       [11927552, 10354688,  2752512,  8257536,  8323072,  2293760,\n",
       "        11403264,  8781824,  5898240, 10027008],\n",
       "       [ 9371648,  7143424,  7208960,  6553600, 12517376,  5505024,\n",
       "         1310720,  8519680, 12124160,  4128768]])"
      ]
     },
     "execution_count": 19,
     "metadata": {},
     "output_type": "execute_result"
    }
   ],
   "source": [
    "gamma1.value + gamma2.value"
   ]
  },
  {
   "cell_type": "markdown",
   "id": "518ab29e-adf3-4860-b6db-661b1768a7e2",
   "metadata": {},
   "source": [
    "## Sum"
   ]
  },
  {
   "cell_type": "code",
   "execution_count": 21,
   "id": "7dab0d9e-cb4f-4a3a-ab6b-d1b9990b88a6",
   "metadata": {},
   "outputs": [
    {
     "data": {
      "text/plain": [
       "syft.core.tensor.autodp.ndim_entity_phi.NDimEntityPhiTensor"
      ]
     },
     "execution_count": 21,
     "metadata": {},
     "output_type": "execute_result"
    }
   ],
   "source": [
    "type(tensor1)"
   ]
  },
  {
   "cell_type": "code",
   "execution_count": 22,
   "id": "0bfc7311-0395-41f9-82cc-e311dd9c7734",
   "metadata": {},
   "outputs": [],
   "source": [
    "sum_result = tensor1.sum()"
   ]
  },
  {
   "cell_type": "code",
   "execution_count": 23,
   "id": "4978a8e7-a3eb-40cf-947c-35bf8719f10c",
   "metadata": {},
   "outputs": [
    {
     "data": {
      "text/plain": [
       "NDimEntityPhiTensor(child=FixedPrecisionTensor(child=21672404975616), min_vals=<lazyrepeatarray data: 500 -> shape: ()>, max_vals=<lazyrepeatarray data: 10000 -> shape: ()>)"
      ]
     },
     "execution_count": 23,
     "metadata": {},
     "output_type": "execute_result"
    }
   ],
   "source": [
    "sum_result"
   ]
  },
  {
   "cell_type": "code",
   "execution_count": 24,
   "id": "d5c1f67a-e91e-4195-9037-5c74e042971b",
   "metadata": {},
   "outputs": [],
   "source": [
    "sum_result = addition.sum()"
   ]
  },
  {
   "cell_type": "code",
   "execution_count": 27,
   "id": "4a09e72a-a0c3-4e6e-aafb-c9e2ee6898e9",
   "metadata": {},
   "outputs": [
    {
     "data": {
      "text/plain": [
       "dict_keys(['1238310000', '260984538'])"
      ]
     },
     "execution_count": 27,
     "metadata": {},
     "output_type": "execute_result"
    }
   ],
   "source": [
    "sum_result.state.keys()"
   ]
  },
  {
   "cell_type": "code",
   "execution_count": 28,
   "id": "0c884f4c-86d7-418a-bcc6-d55cd25f8e08",
   "metadata": {},
   "outputs": [
    {
     "data": {
      "text/plain": [
       "<function syft.core.tensor.autodp.gamma_tensor.GammaTensor.sum.<locals>._sum(state: 'dict') -> 'jax.numpy.DeviceArray'>"
      ]
     },
     "execution_count": 28,
     "metadata": {},
     "output_type": "execute_result"
    }
   ],
   "source": [
    "sum_result.func"
   ]
  },
  {
   "cell_type": "code",
   "execution_count": 29,
   "id": "cc7d896e-badf-4270-a12e-6bcc4029d55f",
   "metadata": {},
   "outputs": [
    {
     "data": {
      "text/plain": [
       "DeviceArray(683802624, dtype=int64)"
      ]
     },
     "execution_count": 29,
     "metadata": {},
     "output_type": "execute_result"
    }
   ],
   "source": [
    "sum_result.func(sum_result.state)"
   ]
  },
  {
   "cell_type": "code",
   "execution_count": 31,
   "id": "8ce5f2e7-0b7f-49ae-bd68-4411863f59b6",
   "metadata": {},
   "outputs": [
    {
     "data": {
      "text/plain": [
       "683802624"
      ]
     },
     "execution_count": 31,
     "metadata": {},
     "output_type": "execute_result"
    }
   ],
   "source": [
    "addition.value.sum()"
   ]
  },
  {
   "cell_type": "code",
   "execution_count": 33,
   "id": "ecc6a896-c1d8-42aa-bfcc-4a7fbe439a5f",
   "metadata": {},
   "outputs": [
    {
     "data": {
      "text/plain": [
       "array([[0, 0, 0, 0, 0, 0, 0, 0, 0, 0],\n",
       "       [0, 0, 0, 0, 0, 0, 0, 0, 0, 0],\n",
       "       [0, 0, 0, 0, 0, 0, 0, 0, 0, 0],\n",
       "       [0, 0, 0, 0, 0, 0, 0, 0, 0, 0],\n",
       "       [0, 0, 0, 0, 0, 0, 0, 0, 0, 0],\n",
       "       [0, 0, 0, 0, 0, 0, 0, 0, 0, 0],\n",
       "       [0, 0, 0, 0, 0, 0, 0, 0, 0, 0],\n",
       "       [0, 0, 0, 0, 0, 0, 0, 0, 0, 0],\n",
       "       [0, 0, 0, 0, 0, 0, 0, 0, 0, 0],\n",
       "       [0, 0, 0, 0, 0, 0, 0, 0, 0, 0]])"
      ]
     },
     "execution_count": 33,
     "metadata": {},
     "output_type": "execute_result"
    }
   ],
   "source": [
    "addition.data_subjects.data_subjects_indexed"
   ]
  },
  {
   "cell_type": "code",
   "execution_count": 34,
   "id": "eb647237-dd05-48f0-a49a-6d92be7cd811",
   "metadata": {},
   "outputs": [
    {
     "ename": "TypeError",
     "evalue": "publish() missing 3 required positional arguments: 'get_budget_for_user', 'deduct_epsilon_for_user', and 'ledger'",
     "output_type": "error",
     "traceback": [
      "\u001b[0;31m---------------------------------------------------------------------------\u001b[0m",
      "\u001b[0;31mTypeError\u001b[0m                                 Traceback (most recent call last)",
      "Input \u001b[0;32mIn [34]\u001b[0m, in \u001b[0;36m<cell line: 1>\u001b[0;34m()\u001b[0m\n\u001b[0;32m----> 1\u001b[0m \u001b[43msum_result\u001b[49m\u001b[38;5;241;43m.\u001b[39;49m\u001b[43mpublish\u001b[49m\u001b[43m(\u001b[49m\u001b[43m)\u001b[49m\n",
      "\u001b[0;31mTypeError\u001b[0m: publish() missing 3 required positional arguments: 'get_budget_for_user', 'deduct_epsilon_for_user', and 'ledger'"
     ]
    }
   ],
   "source": [
    "sum_result.publish()"
   ]
  },
  {
   "cell_type": "code",
   "execution_count": 37,
   "id": "c529663d-9510-4a04-8a3d-b39618fdc24b",
   "metadata": {},
   "outputs": [
    {
     "data": {
      "text/plain": [
       "2"
      ]
     },
     "execution_count": 37,
     "metadata": {},
     "output_type": "execute_result"
    }
   ],
   "source": [
    "len(sum_result.state.values()"
   ]
  },
  {
   "cell_type": "code",
   "execution_count": null,
   "id": "f89165a1-4f32-4073-995e-5ac918453822",
   "metadata": {},
   "outputs": [],
   "source": []
  }
 ],
 "metadata": {
  "kernelspec": {
   "display_name": "Python 3 (ipykernel)",
   "language": "python",
   "name": "python3"
  },
  "language_info": {
   "codemirror_mode": {
    "name": "ipython",
    "version": 3
   },
   "file_extension": ".py",
   "mimetype": "text/x-python",
   "name": "python",
   "nbconvert_exporter": "python",
   "pygments_lexer": "ipython3",
   "version": "3.8.10"
  }
 },
 "nbformat": 4,
 "nbformat_minor": 5
}
