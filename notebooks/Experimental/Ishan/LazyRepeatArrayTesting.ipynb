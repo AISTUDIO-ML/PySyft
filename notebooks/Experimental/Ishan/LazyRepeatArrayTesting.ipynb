{
 "cells": [
  {
   "cell_type": "code",
   "execution_count": null,
   "id": "8dba2bde-2489-41ce-8629-360138488477",
   "metadata": {},
   "outputs": [],
   "source": [
    "import numpy as np\n",
    "from syft.core.tensor.lazy_repeat_array import lazyrepeatarray"
   ]
  },
  {
   "cell_type": "code",
   "execution_count": null,
   "id": "6166cfcf-db54-4bfc-ac3f-5bdded87cba0",
   "metadata": {},
   "outputs": [],
   "source": [
    "array1 = lazyrepeatarray(4, (2,3))"
   ]
  },
  {
   "cell_type": "code",
   "execution_count": null,
   "id": "04100f3d-0d05-405d-91bd-760e3394f79c",
   "metadata": {},
   "outputs": [],
   "source": [
    "array1"
   ]
  },
  {
   "cell_type": "code",
   "execution_count": null,
   "id": "03789fd6-f7eb-4a09-b5a4-56f27ea31b26",
   "metadata": {},
   "outputs": [],
   "source": [
    "array1 @ np.ones((3,2))"
   ]
  },
  {
   "cell_type": "code",
   "execution_count": null,
   "id": "2cb46b25-ddb3-4f41-8a0a-fa244300c0d9",
   "metadata": {},
   "outputs": [],
   "source": [
    "np.matmul(np.ones((2,3)), np.ones((3, 2)))"
   ]
  },
  {
   "cell_type": "code",
   "execution_count": null,
   "id": "8ff08f78-dfdc-4ea9-b7d5-2e6a296c2aaa",
   "metadata": {},
   "outputs": [],
   "source": [
    "array1.data"
   ]
  },
  {
   "cell_type": "code",
   "execution_count": null,
   "id": "627e54d9-8449-473e-af39-a45f635abbd8",
   "metadata": {},
   "outputs": [],
   "source": [
    "array1.shape"
   ]
  },
  {
   "cell_type": "code",
   "execution_count": null,
   "id": "3c43287a-fa31-42df-b813-dcc6575bd717",
   "metadata": {},
   "outputs": [],
   "source": [
    "array1.data.shape"
   ]
  },
  {
   "cell_type": "code",
   "execution_count": null,
   "id": "2b3bba10-8a47-4ad3-9aa3-33546354bb34",
   "metadata": {},
   "outputs": [],
   "source": [
    "type(array1.data)"
   ]
  },
  {
   "cell_type": "code",
   "execution_count": null,
   "id": "c571606b-191d-4811-b4d6-c1a3a7877fdd",
   "metadata": {},
   "outputs": [],
   "source": [
    "array1.data.size"
   ]
  },
  {
   "cell_type": "code",
   "execution_count": null,
   "id": "692631e9-10e1-40d7-b508-8b2d25feb514",
   "metadata": {},
   "outputs": [],
   "source": [
    "np.matmul(np.ones(array1.shape), np.ones((3, 2))* 4)"
   ]
  },
  {
   "cell_type": "code",
   "execution_count": null,
   "id": "4861d325-b5bc-4e04-8ddb-923c40cbbb9a",
   "metadata": {},
   "outputs": [],
   "source": [
    "# Check if it works with a wrong shape\n",
    "array1 @ np.ones((1,3))"
   ]
  },
  {
   "cell_type": "code",
   "execution_count": null,
   "id": "02386975-bfdf-467d-9c4b-47ca8a1e3a79",
   "metadata": {},
   "outputs": [],
   "source": []
  }
 ],
 "metadata": {
  "kernelspec": {
   "display_name": "Python 3 (ipykernel)",
   "language": "python",
   "name": "python3"
  },
  "language_info": {
   "codemirror_mode": {
    "name": "ipython",
    "version": 3
   },
   "file_extension": ".py",
   "mimetype": "text/x-python",
   "name": "python",
   "nbconvert_exporter": "python",
   "pygments_lexer": "ipython3",
   "version": "3.8.10"
  }
 },
 "nbformat": 4,
 "nbformat_minor": 5
}
