{
 "cells": [
  {
   "cell_type": "markdown",
   "id": "5e06aa1a-b9d4-4b8b-8e3c-12448b6a74ea",
   "metadata": {},
   "source": [
    "## Upload Data"
   ]
  },
  {
   "cell_type": "code",
   "execution_count": null,
   "id": "e403ad85-3e53-465c-a630-5a2f46692f14",
   "metadata": {},
   "outputs": [],
   "source": [
    "# run this cell\n",
    "import syft as sy\n",
    "from utils import *\n",
    "print(\"Syft is imported\")"
   ]
  },
  {
   "cell_type": "code",
   "execution_count": null,
   "id": "04b38279-ce5c-4257-ae54-771ab6650dc7",
   "metadata": {},
   "outputs": [],
   "source": [
    "domain_client = sy.login(\n",
    "    url=auto_detect_domain_host_ip(),\n",
    "    email=\"info@openmined.org\",\n",
    "    password=\"changethis\"\n",
    ")"
   ]
  },
  {
   "cell_type": "code",
   "execution_count": null,
   "id": "e1cb609a-e618-4c1e-ad27-fd4cf9e05602",
   "metadata": {},
   "outputs": [],
   "source": [
    "# edit MY_DATASET_URL then run this cell\n",
    "\n",
    "MY_DATASET_URL = \"https://raw.githubusercontent.com/OpenMined/datasets/main/TissueMNIST/subsets/TissueMNIST-e6916fbe07ec4302be04779d346e8a94.pkl\"\n",
    "\n",
    "dataset = download_dataset(MY_DATASET_URL)\n",
    "# see footnotes for information about the dataset"
   ]
  },
  {
   "cell_type": "code",
   "execution_count": null,
   "id": "8aa3c8e4-3672-4213-b877-e8211bb511e7",
   "metadata": {},
   "outputs": [],
   "source": [
    "dataset.head()"
   ]
  },
  {
   "cell_type": "code",
   "execution_count": null,
   "id": "6738dcbd",
   "metadata": {},
   "outputs": [],
   "source": [
    "# run this cell\n",
    "train, val, test = split_and_preprocess_dataset(data=dataset)"
   ]
  },
  {
   "cell_type": "code",
   "execution_count": null,
   "id": "c9f4f75f-a4b6-4337-8bc7-147ace57a14f",
   "metadata": {},
   "outputs": [],
   "source": [
    "# run this cell\n",
    "data_subjects = DataSubjectList.from_series(train[\"patient_ids\"])\n",
    "train_image_data = sy.Tensor(train[\"images\"]).annotated_with_dp_metadata(\n",
    "    min_val=0, max_val=255, data_subjects=data_subjects\n",
    ")\n",
    "train_label_data = sy.Tensor(train[\"labels\"]).annotated_with_dp_metadata(\n",
    "    min_val=0, max_val=1, data_subjects=data_subjects\n",
    ")"
   ]
  },
  {
   "cell_type": "code",
   "execution_count": null,
   "id": "1c484423-2e61-4d6e-95a8-ba846f04e798",
   "metadata": {},
   "outputs": [],
   "source": [
    "data_subjects = DataSubjectList.from_series(val[\"patient_ids\"])\n",
    "val_image_data = sy.Tensor(val[\"images\"]).annotated_with_dp_metadata(\n",
    "    min_val=0, max_val=255, data_subjects=data_subjects\n",
    ")\n",
    "val_label_data = sy.Tensor(val[\"labels\"]).annotated_with_dp_metadata(\n",
    "    min_val=0, max_val=1, data_subjects=data_subjects\n",
    ")"
   ]
  },
  {
   "cell_type": "code",
   "execution_count": null,
   "id": "8f3029e9-26fd-45c6-a21c-a105ca90bdbd",
   "metadata": {},
   "outputs": [],
   "source": [
    "data_subjects = DataSubjectList.from_series(test[\"patient_ids\"])\n",
    "test_image_data = sy.Tensor(test[\"images\"]).annotated_with_dp_metadata(\n",
    "    min_val=0, max_val=255, data_subjects=data_subjects\n",
    ")\n",
    "test_label_data = sy.Tensor(test[\"labels\"]).annotated_with_dp_metadata(\n",
    "    min_val=0, max_val=1, data_subjects=data_subjects\n",
    ")"
   ]
  },
  {
   "cell_type": "code",
   "execution_count": null,
   "id": "90900d1e-9e67-4c76-93d7-ea605a059c0d",
   "metadata": {},
   "outputs": [],
   "source": [
    "# run this cell\n",
    "domain_client.load_dataset(\n",
    "    name=\"BreastCancerDataset\",\n",
    "    assets={\n",
    "        \"train_images\": train_image_data,\n",
    "        \"train_labels\": train_label_data,\n",
    "        \"val_images\": val_image_data,\n",
    "        \"val_labels\": val_label_data,\n",
    "        \"test_images\": test_image_data,\n",
    "        \"test_labels\": test_label_data,\n",
    "    },\n",
    "    description=\"Invasive Ductal Carcinoma (IDC) is the most common subtype of all breast cancers. \\\n",
    "    The modified dataset consisted of 162 whole mount slide images of Breast Cancer (BCa) specimens scanned at 40x. \\\n",
    "    Patches of size 50 x 50 were extracted from the original image. The labels 0 is non-IDC and 1 is IDC.\"\n",
    ")"
   ]
  },
  {
   "cell_type": "code",
   "execution_count": null,
   "id": "7e1bcb0f-3c6b-4bf6-b7ed-2ee4b2b16d62",
   "metadata": {},
   "outputs": [],
   "source": [
    "# run this cell\n",
    "domain_client.datasets"
   ]
  }
 ],
 "metadata": {
  "interpreter": {
   "hash": "630449982b6186a6531308cd76ed4d510e9db65154e43844c2906c6a20ad2a6d"
  },
  "kernelspec": {
   "display_name": "Python 3 (ipykernel)",
   "language": "python",
   "name": "python3"
  },
  "language_info": {
   "codemirror_mode": {
    "name": "ipython",
    "version": 3
   },
   "file_extension": ".py",
   "mimetype": "text/x-python",
   "name": "python",
   "nbconvert_exporter": "python",
   "pygments_lexer": "ipython3",
   "version": "3.9.7"
  },
  "toc-autonumbering": false
 },
 "nbformat": 4,
 "nbformat_minor": 5
}
