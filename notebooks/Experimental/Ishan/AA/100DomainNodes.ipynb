{
 "cells": [
  {
   "cell_type": "markdown",
   "id": "061ddbac",
   "metadata": {},
   "source": [
    "### Setup domain:\n",
    "\n",
    "notebooks/Experimental/Ishan/AA/setup-data.ipynb"
   ]
  },
  {
   "cell_type": "code",
   "execution_count": 1,
   "id": "55d8a7d4",
   "metadata": {},
   "outputs": [],
   "source": [
    "%load_ext autoreload\n",
    "%autoreload 2\n",
    "import syft as sy\n",
    "from tqdm import tqdm\n",
    "import time"
   ]
  },
  {
   "cell_type": "code",
   "execution_count": 2,
   "id": "9709ecc6-13a3-49be-ac36-f0bc22c942d6",
   "metadata": {},
   "outputs": [],
   "source": [
    "domain_addresses = [8081, 8082]  # replace with URLs\n",
    "username = \"info@openmined.org\"  # \"sam@stargate.net\"\n",
    "pw = \"changethis\""
   ]
  },
  {
   "cell_type": "code",
   "execution_count": 3,
   "id": "410d8d6c-a98c-40b7-98f0-b64bd45288a7",
   "metadata": {},
   "outputs": [],
   "source": [
    "from syft import nn\n",
    "\n",
    "def initialize_model() -> nn.Model:\n",
    "    model = nn.Model()\n",
    "\n",
    "    # Layer 1\n",
    "    model.add(nn.Convolution(nb_filter=32, filter_size=3, padding=2, input_shape=input_shape))\n",
    "    model.add(nn.BatchNorm(activation=nn.leaky_ReLU()))\n",
    "    model.add(nn.MaxPool(pool_size=2, stride=2))\n",
    "\n",
    "    # Layer 2\n",
    "    model.add(nn.Convolution(nb_filter=64, filter_size=3, padding=2))\n",
    "    model.add(nn.BatchNorm(activation=nn.leaky_ReLU()))\n",
    "    model.add(nn.MaxPool(pool_size=2, stride=2))\n",
    "\n",
    "    # # Layer 3\n",
    "    # model.add(nn.Convolution(nb_filter=128, filter_size=3, padding=2))\n",
    "    # model.add(nn.BatchNorm(activation=nn.leaky_ReLU()))\n",
    "    # model.add(nn.MaxPool(pool_size=2, stride=2))\n",
    "\n",
    "    # # Layer 4\n",
    "    # model.add(nn.Convolution(nb_filter=256, filter_size=3, padding=2))\n",
    "    # model.add(nn.BatchNorm(activation=nn.leaky_ReLU()))\n",
    "    # model.add(nn.MaxPool(pool_size=2, stride=2))\n",
    "\n",
    "    # Layer 5\n",
    "    model.add(nn.AvgPool(2))\n",
    "\n",
    "    # Layer 6\n",
    "    model.add(nn.Flatten())\n",
    "\n",
    "    # Layer 7\n",
    "    model.add(nn.Linear(2, 512))\n",
    "\n",
    "    model.initialize_weights()\n",
    "    return model"
   ]
  },
  {
   "cell_type": "code",
   "execution_count": 4,
   "id": "2125d5b8-d2fe-4f46-b0bb-ca1fb738fda4",
   "metadata": {},
   "outputs": [
    {
     "name": "stderr",
     "output_type": "stream",
     "text": [
      "  0%|                                                                                                                           | 0/2 [00:00<?, ?it/s]"
     ]
    },
    {
     "name": "stdout",
     "output_type": "stream",
     "text": [
      "WARNING: CHANGE YOUR USERNAME AND PASSWORD!!! \n",
      "\n",
      "Anyone can login as an admin to your node right now because your password is still the default PySyft username and password!!!\n",
      "\n",
      "Connecting to localhost... done! \t Logging into canada... done!\n"
     ]
    },
    {
     "name": "stderr",
     "output_type": "stream",
     "text": [
      "  0%|                                                                                                                           | 0/2 [06:19<?, ?it/s]"
     ]
    },
    {
     "name": "stdout",
     "output_type": "stream",
     "text": [
      "['Convolution0', 'BatchNorm1', 'MaxPool2', 'Convolution3', 'BatchNorm4', 'MaxPool5', 'AvgPool6', 'Flatten7', 'Linear8']\n"
     ]
    },
    {
     "name": "stderr",
     "output_type": "stream",
     "text": [
      "\n"
     ]
    },
    {
     "ename": "TypeError",
     "evalue": "'>' not supported between instances of 'list' and 'int'",
     "output_type": "error",
     "traceback": [
      "\u001b[0;31m---------------------------------------------------------------------------\u001b[0m",
      "\u001b[0;31mTypeError\u001b[0m                                 Traceback (most recent call last)",
      "\u001b[0;32m/tmp/ipykernel_977529/735119267.py\u001b[0m in \u001b[0;36m<module>\u001b[0;34m\u001b[0m\n\u001b[1;32m     29\u001b[0m     \u001b[0;31m# Update weights and move onto next domain node\u001b[0m\u001b[0;34m\u001b[0m\u001b[0;34m\u001b[0m\u001b[0;34m\u001b[0m\u001b[0m\n\u001b[1;32m     30\u001b[0m     \u001b[0mmodel\u001b[0m \u001b[0;34m=\u001b[0m \u001b[0minitialize_model\u001b[0m\u001b[0;34m(\u001b[0m\u001b[0;34m)\u001b[0m  \u001b[0;31m# replacing weights into existing model causes a NotImplementedError\u001b[0m\u001b[0;34m\u001b[0m\u001b[0;34m\u001b[0m\u001b[0m\n\u001b[0;32m---> 31\u001b[0;31m     \u001b[0mmodel\u001b[0m\u001b[0;34m.\u001b[0m\u001b[0mreplace_weights\u001b[0m\u001b[0;34m(\u001b[0m\u001b[0mnew_weights\u001b[0m\u001b[0;34m)\u001b[0m\u001b[0;34m\u001b[0m\u001b[0;34m\u001b[0m\u001b[0m\n\u001b[0m",
      "\u001b[0;32m~/PySyft/packages/syft/src/syft/core/tensor/nn/model.py\u001b[0m in \u001b[0;36mreplace_weights\u001b[0;34m(self, published_weights)\u001b[0m\n\u001b[1;32m     65\u001b[0m         \u001b[0;32mfor\u001b[0m \u001b[0mi\u001b[0m\u001b[0;34m,\u001b[0m \u001b[0mlayer\u001b[0m \u001b[0;32min\u001b[0m \u001b[0menumerate\u001b[0m\u001b[0;34m(\u001b[0m\u001b[0mself\u001b[0m\u001b[0;34m.\u001b[0m\u001b[0mlayers\u001b[0m\u001b[0;34m)\u001b[0m\u001b[0;34m:\u001b[0m\u001b[0;34m\u001b[0m\u001b[0;34m\u001b[0m\u001b[0m\n\u001b[1;32m     66\u001b[0m             \u001b[0mparams\u001b[0m \u001b[0;34m=\u001b[0m \u001b[0mpublished_weights\u001b[0m\u001b[0;34m[\u001b[0m\u001b[0mstr\u001b[0m\u001b[0;34m(\u001b[0m\u001b[0mlayer\u001b[0m\u001b[0;34m)\u001b[0m \u001b[0;34m+\u001b[0m \u001b[0mstr\u001b[0m\u001b[0;34m(\u001b[0m\u001b[0mi\u001b[0m\u001b[0;34m)\u001b[0m\u001b[0;34m]\u001b[0m\u001b[0;34m\u001b[0m\u001b[0;34m\u001b[0m\u001b[0m\n\u001b[0;32m---> 67\u001b[0;31m             \u001b[0;32mif\u001b[0m \u001b[0mlen\u001b[0m\u001b[0;34m(\u001b[0m\u001b[0mparams\u001b[0m \u001b[0;34m>\u001b[0m \u001b[0;36m0\u001b[0m\u001b[0;34m)\u001b[0m\u001b[0;34m:\u001b[0m\u001b[0;34m\u001b[0m\u001b[0;34m\u001b[0m\u001b[0m\n\u001b[0m\u001b[1;32m     68\u001b[0m                 \u001b[0mlayer\u001b[0m\u001b[0;34m.\u001b[0m\u001b[0mparams\u001b[0m \u001b[0;34m=\u001b[0m \u001b[0mparams\u001b[0m\u001b[0;34m\u001b[0m\u001b[0;34m\u001b[0m\u001b[0m\n\u001b[1;32m     69\u001b[0m         \u001b[0;32mreturn\u001b[0m \u001b[0mself\u001b[0m\u001b[0;34m\u001b[0m\u001b[0;34m\u001b[0m\u001b[0m\n",
      "\u001b[0;32m~/PySyft/packages/syft/src/syft/lib/python/list.py\u001b[0m in \u001b[0;36m__gt__\u001b[0;34m(self, other)\u001b[0m\n\u001b[1;32m     71\u001b[0m \u001b[0;34m\u001b[0m\u001b[0m\n\u001b[1;32m     72\u001b[0m     \u001b[0;32mdef\u001b[0m \u001b[0m__gt__\u001b[0m\u001b[0;34m(\u001b[0m\u001b[0mself\u001b[0m\u001b[0;34m,\u001b[0m \u001b[0mother\u001b[0m\u001b[0;34m:\u001b[0m \u001b[0mAny\u001b[0m\u001b[0;34m)\u001b[0m \u001b[0;34m->\u001b[0m \u001b[0mSyPrimitiveRet\u001b[0m\u001b[0;34m:\u001b[0m\u001b[0;34m\u001b[0m\u001b[0;34m\u001b[0m\u001b[0m\n\u001b[0;32m---> 73\u001b[0;31m         \u001b[0mres\u001b[0m \u001b[0;34m=\u001b[0m \u001b[0msuper\u001b[0m\u001b[0;34m(\u001b[0m\u001b[0;34m)\u001b[0m\u001b[0;34m.\u001b[0m\u001b[0m__gt__\u001b[0m\u001b[0;34m(\u001b[0m\u001b[0mother\u001b[0m\u001b[0;34m)\u001b[0m\u001b[0;34m\u001b[0m\u001b[0;34m\u001b[0m\u001b[0m\n\u001b[0m\u001b[1;32m     74\u001b[0m         \u001b[0;32mreturn\u001b[0m \u001b[0mPrimitiveFactory\u001b[0m\u001b[0;34m.\u001b[0m\u001b[0mgenerate_primitive\u001b[0m\u001b[0;34m(\u001b[0m\u001b[0mvalue\u001b[0m\u001b[0;34m=\u001b[0m\u001b[0mres\u001b[0m\u001b[0;34m)\u001b[0m\u001b[0;34m\u001b[0m\u001b[0;34m\u001b[0m\u001b[0m\n\u001b[1;32m     75\u001b[0m \u001b[0;34m\u001b[0m\u001b[0m\n",
      "\u001b[0;32m~/.pyenv/versions/3.9.4/lib/python3.9/collections/__init__.py\u001b[0m in \u001b[0;36m__gt__\u001b[0;34m(self, other)\u001b[0m\n\u001b[1;32m   1155\u001b[0m \u001b[0;34m\u001b[0m\u001b[0m\n\u001b[1;32m   1156\u001b[0m     \u001b[0;32mdef\u001b[0m \u001b[0m__gt__\u001b[0m\u001b[0;34m(\u001b[0m\u001b[0mself\u001b[0m\u001b[0;34m,\u001b[0m \u001b[0mother\u001b[0m\u001b[0;34m)\u001b[0m\u001b[0;34m:\u001b[0m\u001b[0;34m\u001b[0m\u001b[0;34m\u001b[0m\u001b[0m\n\u001b[0;32m-> 1157\u001b[0;31m         \u001b[0;32mreturn\u001b[0m \u001b[0mself\u001b[0m\u001b[0;34m.\u001b[0m\u001b[0mdata\u001b[0m \u001b[0;34m>\u001b[0m \u001b[0mself\u001b[0m\u001b[0;34m.\u001b[0m\u001b[0m__cast\u001b[0m\u001b[0;34m(\u001b[0m\u001b[0mother\u001b[0m\u001b[0;34m)\u001b[0m\u001b[0;34m\u001b[0m\u001b[0;34m\u001b[0m\u001b[0m\n\u001b[0m\u001b[1;32m   1158\u001b[0m \u001b[0;34m\u001b[0m\u001b[0m\n\u001b[1;32m   1159\u001b[0m     \u001b[0;32mdef\u001b[0m \u001b[0m__ge__\u001b[0m\u001b[0;34m(\u001b[0m\u001b[0mself\u001b[0m\u001b[0;34m,\u001b[0m \u001b[0mother\u001b[0m\u001b[0;34m)\u001b[0m\u001b[0;34m:\u001b[0m\u001b[0;34m\u001b[0m\u001b[0;34m\u001b[0m\u001b[0m\n",
      "\u001b[0;31mTypeError\u001b[0m: '>' not supported between instances of 'list' and 'int'"
     ]
    }
   ],
   "source": [
    "# TRAINING PARAMS\n",
    "n_epochs = 1\n",
    "batch_size = 2\n",
    "input_shape = (2,3,50,50)\n",
    "model = initialize_model()\n",
    "\n",
    "for address in tqdm(domain_addresses):\n",
    "    domain = sy.login(email=username, password=pw, port=address)  # change to URL when running on 100\n",
    "    \n",
    "    if len(domain.datasets) == 0:\n",
    "        print(f\"Error on domain = {domain.name} with address = {address}\")\n",
    "    \n",
    "    X_train = domain.datasets[-1][\"train_images\"][:2]\n",
    "    y_train = domain.datasets[-1][\"train_labels\"][:2]\n",
    "    input_shape = X_train.public_shape\n",
    "    \n",
    "    # Do a single epoch\n",
    "    model_ptr = model.send(domain,send_to_blob_storage=False)\n",
    "    run_status = model_ptr.step(X_train, y_train)\n",
    "    while(not run_status.exists):\n",
    "        time.sleep(10)\n",
    "    \n",
    "    # Publish Model Weights\n",
    "    published_obj = model_ptr.publish(sigma=1e4)  # PB spent with 1e3 = 690k, thus 1e4 sigma -> 6.9k which is within PB limit of 9999\n",
    "    while(not published_obj.exists):\n",
    "        time.sleep(2)\n",
    "    new_weights = published_obj.get_copy()\n",
    "    \n",
    "    # Update weights and move onto next domain node\n",
    "    model = initialize_model()  # replacing weights into existing model causes a NotImplementedError\n",
    "    model.replace_weights(new_weights)    "
   ]
  },
  {
   "cell_type": "code",
   "execution_count": 5,
   "id": "adcc7ad8-81d0-4590-b842-6bf4e2683a28",
   "metadata": {},
   "outputs": [
    {
     "name": "stdout",
     "output_type": "stream",
     "text": [
      "['Convolution0', 'BatchNorm1', 'MaxPool2', 'Convolution3', 'BatchNorm4', 'MaxPool5', 'AvgPool6', 'Flatten7', 'Linear8']\n"
     ]
    }
   ],
   "source": [
    "new_model = model.replace_weights(new_weights)"
   ]
  },
  {
   "cell_type": "code",
   "execution_count": 6,
   "id": "9b4af871-31cd-4985-a65b-bee2d54dda7e",
   "metadata": {},
   "outputs": [
    {
     "data": {
      "text/plain": [
       "<syft.core.tensor.nn.model.Model at 0x7fe456f83760>"
      ]
     },
     "execution_count": 6,
     "metadata": {},
     "output_type": "execute_result"
    }
   ],
   "source": [
    "new_model"
   ]
  }
 ],
 "metadata": {
  "kernelspec": {
   "display_name": "Python 3 (ipykernel)",
   "language": "python",
   "name": "python3"
  },
  "language_info": {
   "codemirror_mode": {
    "name": "ipython",
    "version": 3
   },
   "file_extension": ".py",
   "mimetype": "text/x-python",
   "name": "python",
   "nbconvert_exporter": "python",
   "pygments_lexer": "ipython3",
   "version": "3.9.4"
  }
 },
 "nbformat": 4,
 "nbformat_minor": 5
}
