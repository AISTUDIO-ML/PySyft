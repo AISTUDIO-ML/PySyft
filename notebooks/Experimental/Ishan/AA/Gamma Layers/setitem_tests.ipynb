{
 "cells": [
  {
   "cell_type": "code",
   "execution_count": 1,
   "id": "ec62bf3b-bea4-45a9-85dd-cacc0f44a512",
   "metadata": {},
   "outputs": [
    {
     "name": "stderr",
     "output_type": "stream",
     "text": [
      "/home/e/anaconda3/envs/Hagrid/lib/python3.9/site-packages/tqdm/auto.py:22: TqdmWarning: IProgress not found. Please update jupyter and ipywidgets. See https://ipywidgets.readthedocs.io/en/stable/user_install.html\n",
      "  from .autonotebook import tqdm as notebook_tqdm\n",
      "/home/e/PycharmProjects/PySyft/packages/syft/src/syft/core/common/serde/serializable.py:105: UserWarning: __attr_allowlist__ not defined for type Activation, even if it uses recursive serde, defaulting on the empty list.\n",
      "  warnings.warn(\n",
      "/home/e/PycharmProjects/PySyft/packages/syft/src/syft/core/common/serde/serializable.py:105: UserWarning: __attr_allowlist__ not defined for type Linear, even if it uses recursive serde, defaulting on the empty list.\n",
      "  warnings.warn(\n",
      "/home/e/PycharmProjects/PySyft/packages/syft/src/syft/core/common/serde/serializable.py:105: UserWarning: __attr_allowlist__ not defined for type BatchNorm, even if it uses recursive serde, defaulting on the empty list.\n",
      "  warnings.warn(\n",
      "/home/e/PycharmProjects/PySyft/packages/syft/src/syft/core/common/serde/serializable.py:105: UserWarning: __attr_allowlist__ not defined for type AvgPool, even if it uses recursive serde, defaulting on the empty list.\n",
      "  warnings.warn(\n",
      "/home/e/PycharmProjects/PySyft/packages/syft/src/syft/core/common/serde/serializable.py:105: UserWarning: __attr_allowlist__ not defined for type MaxPool, even if it uses recursive serde, defaulting on the empty list.\n",
      "  warnings.warn(\n",
      "/home/e/PycharmProjects/PySyft/packages/syft/src/syft/core/common/serde/serializable.py:105: UserWarning: __attr_allowlist__ not defined for type Loss, even if it uses recursive serde, defaulting on the empty list.\n",
      "  warnings.warn(\n",
      "/home/e/PycharmProjects/PySyft/packages/syft/src/syft/core/common/serde/serializable.py:105: UserWarning: __attr_allowlist__ not defined for type Optimizer, even if it uses recursive serde, defaulting on the empty list.\n",
      "  warnings.warn(\n"
     ]
    }
   ],
   "source": [
    "from syft import DataSubjectList"
   ]
  },
  {
   "cell_type": "code",
   "execution_count": 2,
   "id": "db7405bf-bded-48ee-8ea4-1451f6256030",
   "metadata": {},
   "outputs": [],
   "source": [
    "import numpy as np"
   ]
  },
  {
   "cell_type": "code",
   "execution_count": 3,
   "id": "fee2cae2-43f3-49ba-8bbd-08f8be72434e",
   "metadata": {},
   "outputs": [],
   "source": [
    "dsl = DataSubjectList(one_hot_lookup=np.arange(10, 20), data_subjects_indexed=np.random.choice(np.arange(10), (10,10)))"
   ]
  },
  {
   "cell_type": "code",
   "execution_count": 4,
   "id": "5fc44b35-50ab-412a-8b4b-e71e3ae280d5",
   "metadata": {},
   "outputs": [
    {
     "data": {
      "text/plain": [
       "array([10, 11, 12, 13, 14, 15, 16, 17, 18, 19])"
      ]
     },
     "execution_count": 4,
     "metadata": {},
     "output_type": "execute_result"
    }
   ],
   "source": [
    "dsl.one_hot_lookup"
   ]
  },
  {
   "cell_type": "code",
   "execution_count": 5,
   "id": "dd38a840-89ae-4fd6-aa06-e3babd75e462",
   "metadata": {},
   "outputs": [
    {
     "data": {
      "text/plain": [
       "array([[4, 1, 7, 0, 6, 5, 4, 8, 0, 8],\n",
       "       [4, 8, 1, 2, 8, 8, 3, 2, 5, 4],\n",
       "       [5, 9, 3, 2, 9, 9, 9, 5, 8, 3],\n",
       "       [2, 8, 9, 1, 8, 3, 8, 9, 7, 2],\n",
       "       [0, 9, 8, 6, 7, 1, 0, 7, 3, 3],\n",
       "       [2, 0, 5, 0, 7, 4, 7, 0, 3, 6],\n",
       "       [1, 1, 9, 3, 4, 7, 0, 2, 5, 5],\n",
       "       [8, 1, 9, 5, 8, 8, 5, 4, 7, 4],\n",
       "       [2, 4, 6, 1, 7, 3, 0, 8, 9, 4],\n",
       "       [1, 9, 2, 2, 1, 0, 2, 7, 0, 4]])"
      ]
     },
     "execution_count": 5,
     "metadata": {},
     "output_type": "execute_result"
    }
   ],
   "source": [
    "dsl.data_subjects_indexed"
   ]
  },
  {
   "cell_type": "code",
   "execution_count": 6,
   "id": "a42ecc1a-3db9-4453-a229-c0e1026b04c7",
   "metadata": {},
   "outputs": [
    {
     "data": {
      "text/plain": [
       "array([10, 11, 14, 15, 16, 17, 18])"
      ]
     },
     "execution_count": 6,
     "metadata": {},
     "output_type": "execute_result"
    }
   ],
   "source": [
    "dsl[0].one_hot_lookup"
   ]
  },
  {
   "cell_type": "code",
   "execution_count": 7,
   "id": "8c2d31ea-e211-4acb-976b-bd5002bd39ca",
   "metadata": {},
   "outputs": [
    {
     "data": {
      "text/plain": [
       "array([4, 1, 7, 0, 6, 5, 4, 8, 0, 8])"
      ]
     },
     "execution_count": 7,
     "metadata": {},
     "output_type": "execute_result"
    }
   ],
   "source": [
    "dsl[0].data_subjects_indexed"
   ]
  },
  {
   "cell_type": "code",
   "execution_count": 8,
   "id": "1eae584d-a297-4fb3-b356-c1fbd5d539e3",
   "metadata": {},
   "outputs": [
    {
     "data": {
      "text/plain": [
       "array([10, 11, 14, 15, 16, 17, 18])"
      ]
     },
     "execution_count": 8,
     "metadata": {},
     "output_type": "execute_result"
    }
   ],
   "source": [
    "np.unique(dsl[0].one_hot_lookup)"
   ]
  },
  {
   "cell_type": "code",
   "execution_count": 9,
   "id": "1001c57a-c814-488c-a060-b475437b0920",
   "metadata": {},
   "outputs": [
    {
     "data": {
      "text/plain": [
       "array([0, 1, 4, 5, 6, 7, 8])"
      ]
     },
     "execution_count": 9,
     "metadata": {},
     "output_type": "execute_result"
    }
   ],
   "source": [
    "np.unique(dsl.data_subjects_indexed[0])"
   ]
  },
  {
   "cell_type": "code",
   "execution_count": 10,
   "id": "7a0578e9-7aeb-411c-80dc-ed3793c8a766",
   "metadata": {},
   "outputs": [
    {
     "data": {
      "text/plain": [
       "array([14])"
      ]
     },
     "execution_count": 10,
     "metadata": {},
     "output_type": "execute_result"
    }
   ],
   "source": [
    "dsl[0, 0].one_hot_lookup"
   ]
  },
  {
   "cell_type": "code",
   "execution_count": 11,
   "id": "c59b691c-5749-4b78-b850-9666013d5e7b",
   "metadata": {},
   "outputs": [
    {
     "data": {
      "text/plain": [
       "4"
      ]
     },
     "execution_count": 11,
     "metadata": {},
     "output_type": "execute_result"
    }
   ],
   "source": [
    "dsl[0, 0].data_subjects_indexed"
   ]
  },
  {
   "cell_type": "code",
   "execution_count": 12,
   "id": "3af18860-d617-4d3f-82ea-e4193caed646",
   "metadata": {},
   "outputs": [],
   "source": [
    "dsl[0, 0] = DataSubjectList(one_hot_lookup=np.array([10]), data_subjects_indexed=np.array([0]))"
   ]
  },
  {
   "cell_type": "code",
   "execution_count": 13,
   "id": "fa5ce78a-02d6-4cf7-beed-8120fcc0fd9e",
   "metadata": {},
   "outputs": [
    {
     "data": {
      "text/plain": [
       "array([10, 11, 12, 13, 14, 15, 16, 17, 18, 19])"
      ]
     },
     "execution_count": 13,
     "metadata": {},
     "output_type": "execute_result"
    }
   ],
   "source": [
    "dsl.one_hot_lookup"
   ]
  },
  {
   "cell_type": "code",
   "execution_count": 14,
   "id": "87204cff-bbe5-4be2-a0a9-ea5e9d82262b",
   "metadata": {},
   "outputs": [
    {
     "data": {
      "text/plain": [
       "array([[0, 1, 7, 0, 6, 5, 4, 8, 0, 8],\n",
       "       [4, 8, 1, 2, 8, 8, 3, 2, 5, 4],\n",
       "       [5, 9, 3, 2, 9, 9, 9, 5, 8, 3],\n",
       "       [2, 8, 9, 1, 8, 3, 8, 9, 7, 2],\n",
       "       [0, 9, 8, 6, 7, 1, 0, 7, 3, 3],\n",
       "       [2, 0, 5, 0, 7, 4, 7, 0, 3, 6],\n",
       "       [1, 1, 9, 3, 4, 7, 0, 2, 5, 5],\n",
       "       [8, 1, 9, 5, 8, 8, 5, 4, 7, 4],\n",
       "       [2, 4, 6, 1, 7, 3, 0, 8, 9, 4],\n",
       "       [1, 9, 2, 2, 1, 0, 2, 7, 0, 4]])"
      ]
     },
     "execution_count": 14,
     "metadata": {},
     "output_type": "execute_result"
    }
   ],
   "source": [
    "dsl.data_subjects_indexed"
   ]
  },
  {
   "cell_type": "code",
   "execution_count": 15,
   "id": "9eec79be-642d-49c3-a82a-fb15d4177dc4",
   "metadata": {},
   "outputs": [],
   "source": [
    "dsl[0] = DataSubjectList(one_hot_lookup=np.array([10]), data_subjects_indexed=np.zeros_like(dsl.data_subjects_indexed[0]))"
   ]
  },
  {
   "cell_type": "code",
   "execution_count": 16,
   "id": "3294059e-54ef-489b-a8d9-bfd42628a582",
   "metadata": {},
   "outputs": [
    {
     "data": {
      "text/plain": [
       "array([[0, 0, 0, 0, 0, 0, 0, 0, 0, 0],\n",
       "       [4, 8, 1, 2, 8, 8, 3, 2, 5, 4],\n",
       "       [5, 9, 3, 2, 9, 9, 9, 5, 8, 3],\n",
       "       [2, 8, 9, 1, 8, 3, 8, 9, 7, 2],\n",
       "       [0, 9, 8, 6, 7, 1, 0, 7, 3, 3],\n",
       "       [2, 0, 5, 0, 7, 4, 7, 0, 3, 6],\n",
       "       [1, 1, 9, 3, 4, 7, 0, 2, 5, 5],\n",
       "       [8, 1, 9, 5, 8, 8, 5, 4, 7, 4],\n",
       "       [2, 4, 6, 1, 7, 3, 0, 8, 9, 4],\n",
       "       [1, 9, 2, 2, 1, 0, 2, 7, 0, 4]])"
      ]
     },
     "execution_count": 16,
     "metadata": {},
     "output_type": "execute_result"
    }
   ],
   "source": [
    "dsl.data_subjects_indexed"
   ]
  },
  {
   "cell_type": "code",
   "execution_count": 17,
   "id": "9c90a7fb-2991-46ca-bc6e-e7ee137f9a2a",
   "metadata": {},
   "outputs": [
    {
     "data": {
      "text/plain": [
       "array([False, False, False,  True])"
      ]
     },
     "execution_count": 17,
     "metadata": {},
     "output_type": "execute_result"
    }
   ],
   "source": [
    "a = np.array([1,2,3,4])\n",
    "b = np.array([5,6,7,4])\n",
    "np.isin(a, b)"
   ]
  },
  {
   "cell_type": "code",
   "execution_count": 18,
   "id": "9445d74f-4daf-49e5-a100-75987ef940e9",
   "metadata": {},
   "outputs": [
    {
     "data": {
      "text/plain": [
       "array([1, 2, 3, 4, 5, 6, 7, 4])"
      ]
     },
     "execution_count": 18,
     "metadata": {},
     "output_type": "execute_result"
    }
   ],
   "source": [
    "np.append(a,b)"
   ]
  },
  {
   "cell_type": "code",
   "execution_count": 19,
   "id": "cfb97721-d60f-4af8-a05f-bc3f845b9620",
   "metadata": {},
   "outputs": [],
   "source": [
    "overlapping_indices = np.isin(a, b)\n",
    "unique_indices = (overlapping_indices == False).nonzero()[0]  # noqa: E712"
   ]
  },
  {
   "cell_type": "code",
   "execution_count": 20,
   "id": "17452537-d9aa-4628-ab6a-3ad51ebceab9",
   "metadata": {},
   "outputs": [
    {
     "data": {
      "text/plain": [
       "array([0, 1, 2])"
      ]
     },
     "execution_count": 20,
     "metadata": {},
     "output_type": "execute_result"
    }
   ],
   "source": [
    "unique_indices"
   ]
  },
  {
   "cell_type": "code",
   "execution_count": 21,
   "id": "94f52c28-856f-4cd4-aa4e-d61626f3ee2c",
   "metadata": {},
   "outputs": [
    {
     "data": {
      "text/plain": [
       "array([False, False, False,  True])"
      ]
     },
     "execution_count": 21,
     "metadata": {},
     "output_type": "execute_result"
    }
   ],
   "source": [
    "search = overlapping_indices == True\n",
    "search"
   ]
  },
  {
   "cell_type": "code",
   "execution_count": 22,
   "id": "8b31f408-c090-463a-9a0e-55f4c75df4b8",
   "metadata": {},
   "outputs": [
    {
     "data": {
      "text/plain": [
       "array([0, 1, 2])"
      ]
     },
     "execution_count": 22,
     "metadata": {},
     "output_type": "execute_result"
    }
   ],
   "source": [
    "np.invert(search).nonzero()[0]"
   ]
  },
  {
   "cell_type": "code",
   "execution_count": null,
   "id": "e12c9acd-6f3f-48bd-acc7-5d989785e171",
   "metadata": {},
   "outputs": [],
   "source": []
  }
 ],
 "metadata": {
  "kernelspec": {
   "display_name": "Python 3 (ipykernel)",
   "language": "python",
   "name": "python3"
  },
  "language_info": {
   "codemirror_mode": {
    "name": "ipython",
    "version": 3
   },
   "file_extension": ".py",
   "mimetype": "text/x-python",
   "name": "python",
   "nbconvert_exporter": "python",
   "pygments_lexer": "ipython3",
   "version": "3.9.7"
  }
 },
 "nbformat": 4,
 "nbformat_minor": 5
}
