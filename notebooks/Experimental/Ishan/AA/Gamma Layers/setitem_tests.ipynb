{
 "cells": [
  {
   "cell_type": "code",
   "execution_count": 1,
   "id": "ec62bf3b-bea4-45a9-85dd-cacc0f44a512",
   "metadata": {},
   "outputs": [
    {
     "name": "stderr",
     "output_type": "stream",
     "text": [
      "/home/e/anaconda3/envs/Hagrid/lib/python3.9/site-packages/tqdm/auto.py:22: TqdmWarning: IProgress not found. Please update jupyter and ipywidgets. See https://ipywidgets.readthedocs.io/en/stable/user_install.html\n",
      "  from .autonotebook import tqdm as notebook_tqdm\n"
     ]
    }
   ],
   "source": [
    "from syft import DataSubjectList"
   ]
  },
  {
   "cell_type": "code",
   "execution_count": 2,
   "id": "db7405bf-bded-48ee-8ea4-1451f6256030",
   "metadata": {},
   "outputs": [],
   "source": [
    "import numpy as np"
   ]
  },
  {
   "cell_type": "code",
   "execution_count": 3,
   "id": "7984c216-1803-4540-8574-b9fbab151aa0",
   "metadata": {},
   "outputs": [],
   "source": [
    "from syft import DataSubjectList"
   ]
  },
  {
   "cell_type": "code",
   "execution_count": 4,
   "id": "ebae53e0-ae88-47f8-9dfa-c9839fef2daa",
   "metadata": {},
   "outputs": [
    {
     "data": {
      "text/plain": [
       "array([[[1., 1., 1., 1., 1.]],\n",
       "\n",
       "       [[1., 1., 1., 1., 1.]]])"
      ]
     },
     "execution_count": 4,
     "metadata": {},
     "output_type": "execute_result"
    }
   ],
   "source": [
    "a = np.ones((2, 1, 5))\n",
    "a"
   ]
  },
  {
   "cell_type": "code",
   "execution_count": 5,
   "id": "756a9989-b0dc-4c36-8c0a-cd810dc6f13b",
   "metadata": {},
   "outputs": [
    {
     "data": {
      "text/plain": [
       "array([[[1.]],\n",
       "\n",
       "       [[1.]],\n",
       "\n",
       "       [[1.]],\n",
       "\n",
       "       [[1.]],\n",
       "\n",
       "       [[1.]],\n",
       "\n",
       "       [[1.]],\n",
       "\n",
       "       [[1.]],\n",
       "\n",
       "       [[1.]],\n",
       "\n",
       "       [[1.]],\n",
       "\n",
       "       [[1.]]])"
      ]
     },
     "execution_count": 5,
     "metadata": {},
     "output_type": "execute_result"
    }
   ],
   "source": [
    "b = np.ones((10, 1, 1))\n",
    "b"
   ]
  },
  {
   "cell_type": "code",
   "execution_count": 6,
   "id": "b53a356e-6bb6-4d5d-a81e-5adbaa59a9b2",
   "metadata": {},
   "outputs": [
    {
     "data": {
      "text/plain": [
       "10"
      ]
     },
     "execution_count": 6,
     "metadata": {},
     "output_type": "execute_result"
    }
   ],
   "source": [
    "len(b)"
   ]
  },
  {
   "cell_type": "markdown",
   "id": "d494ca64-8558-430d-b2c8-bb0530ac87f9",
   "metadata": {},
   "source": [
    "(2, 1, 5) and (3, 1, 1) -> (2, 1, 5) -> (max(shape[0], shape[1]))\n",
    "\n",
    "\n",
    "if len(a) < len(b) -> we have to create a bigger array\n",
    "if len(a) == len(b) -> it fits!!!!\n",
    "if len(a) > len(b) -> append some NaNs at the end of b\n",
    "(3, 1, 5) and (2, 1, 1) -> (3, 1, 5)\n",
    "ds1\n",
    "ds2\n",
    "NaN\n",
    "\n",
    "\n",
    "\n",
    "(3, 50, 50) and "
   ]
  },
  {
   "cell_type": "markdown",
   "id": "fb049066-8aa5-4795-a5ec-1cddec28decf",
   "metadata": {},
   "source": []
  },
  {
   "cell_type": "code",
   "execution_count": 7,
   "id": "f0ab0634-1cec-4e61-8cb5-d93a76d7f6f9",
   "metadata": {},
   "outputs": [],
   "source": [
    "dsl = DataSubjectList.from_objs(np.random.choice([10, 11, 12], (5, 5)))"
   ]
  },
  {
   "cell_type": "code",
   "execution_count": 8,
   "id": "c3370e4e-1aaf-4aa9-b5dc-153594f67b6a",
   "metadata": {},
   "outputs": [
    {
     "data": {
      "text/plain": [
       "(array([10, 11, 12]), (5, 5))"
      ]
     },
     "execution_count": 8,
     "metadata": {},
     "output_type": "execute_result"
    }
   ],
   "source": [
    "dsl.one_hot_lookup, dsl.data_subjects_indexed.shape"
   ]
  },
  {
   "cell_type": "markdown",
   "id": "ed7e0e62-6d52-4054-925a-855c18af616a",
   "metadata": {},
   "source": [
    "dsl1 - > (5, 5)\n",
    "dsl2 -> (3, 5)\n",
    "index -> 0\n",
    "\n",
    "dsl1.data_subjects_indexed.shape -> (1, 5)\n",
    "dsl2 -> (3, 5)\n",
    "\n",
    "output -> (3, 5, 5)\n",
    "\n",
    "INPUT:\n",
    "array([[1, 0, 1, 2, 0],\n",
    "       [1, 0, 0, 0, 1],\n",
    "       [0, 0, 2, 0, 1],\n",
    "       [2, 0, 2, 1, 0],\n",
    "       [2, 2, 1, 2, 0]])\n",
    "      \n",
    "OUTPUT:\n",
    "array([[6, 6, 6, 6, 6],\n",
    "       [1, 0, 0, 0, 1],\n",
    "       [0, 0, 2, 0, 1],\n",
    "       [2, 0, 2, 1, 0],\n",
    "       [2, 2, 1, 2, 0]])\n",
    "\n",
    "array([[7, 7, 7, 7, 7],\n",
    "       [NAN, NAN, NAN, NAN, NAN],\n",
    "       [NAN, NAN, NAN, NAN, NAN],\n",
    "       [NAN, NAN, NAN, NAN, NAN],\n",
    "       [NAN, NAN, NAN, NAN, NAN]])\n",
    "\n",
    "array([[8, 8, 8, 8, 8],\n",
    "       [NAN, NAN, NAN, NAN, NAN],\n",
    "       [NAN, NAN, NAN, NAN, NAN],\n",
    "       [NAN, NAN, NAN, NAN, NAN],\n",
    "       [NAN, NAN, NAN, NAN, NAN]])\n",
    "\n",
    "\n",
    "\n",
    "INPUT\n",
    "\n",
    "child = [1, 2, 3]\n",
    "dsl.dsi.shape != child.shape -> GammaTensor\n",
    "(max(unique_data_subjects_per_data_point), 1, 3)\n",
    "\n",
    "child = [1 2, 3\n",
    "         4, 5, 6]\n",
    "dsl.dsi.shape == child.shape -> PhiTensor\n",
    "\n",
    "(0, 0, 0;\n",
    "1, 1, 1)\n",
    "\n",
    "(6, 6, 6,\n",
    "7, 7, 7)\n",
    "\n",
    "index = 0"
   ]
  },
  {
   "cell_type": "code",
   "execution_count": 176,
   "id": "cfcf991c-9f62-480d-bf52-a3a353a01ce0",
   "metadata": {},
   "outputs": [],
   "source": [
    "def get_output_shape(shape1, shape2):\n",
    "    if len(shape1) > len(shape2) or len(shape2) - len(shape1) > 1:\n",
    "        raise NotImplementedError\n",
    "        \n",
    "    first_dim = max(shape1[0], shape2[0]) if len(shape1) == len(shape2) else shape2[0]\n",
    "    other_dims = shape1 if len(shape1) < len(shape2) else shape1[1:]\n",
    "    output_size = (first_dim, *other_dims)\n",
    "    return output_size\n",
    "\n",
    "\n",
    "def insert(dsl1: DataSubjectList, dsl2: DataSubjectList, index) -> DataSubjectList:\n",
    "    \n",
    "    output_shape = get_output_shape(dsl1.shape, dsl2.shape)\n",
    "    \n",
    "    # TODO: Broadcasting with [1] over multiple indices?\n",
    "    dsl1_len = dsl1.shape[0] if len(dsl1.shape) == len(dsl2.shape) else 1\n",
    "    dsl2_len = dsl2.shape[0]\n",
    "    \n",
    "    \n",
    "    if dsl1_len < dsl2_len:\n",
    "        # We need to create a bigger array\n",
    "        bigger_array = np.full(output_shape, np.nan)\n",
    "        \n",
    "        # Fill current dsl1 values into this bigger_array\n",
    "        # TODO: Ask Madhava if there's a smarter/vectorized way to do this\n",
    "        if dsl1_len == 1:\n",
    "            bigger_array[0] = dsl1.data_subjects_indexed\n",
    "        else:\n",
    "            for i in range(dsl1_len):\n",
    "                bigger_array[i] = dsl1[i]\n",
    "\n",
    "        output_dsl = DataSubjectList(one_hot_lookup=dsl1.one_hot_lookup, data_subjects_indexed=bigger_array)\n",
    "        # bigger_array[:, index] = dsl2.data_subjects_indexed.squeeze()\n",
    "        dsl2_copy = dsl2.copy()\n",
    "        dsl2_copy.data_subjects_indexed = dsl2_copy.data_subjects_indexed.squeeze()\n",
    "        output_dsl[:, index] = dsl2_copy\n",
    "        return output_dsl\n",
    "        \n",
    "    elif dsl1_len == dsl2_len:\n",
    "        # it fits perfectly\n",
    "        output_dsl = dsl1.copy()\n",
    "        output_dsl[index] = dsl2\n",
    "        return output_dsl\n",
    "    else:\n",
    "        # add some nans\n",
    "        extra_nans = np.array([np.nan] * (dsl1_len - dsl2_len) * np.prod(dsl2.shape[1:])).reshape((dsl1_len - dsl2_len, *dsl2.shape[1:]))\n",
    "        array_to_append = np.concatenate((dsl2.data_subjects_indexed, extra_nans)).squeeze()\n",
    "        new_dsl = dsl2.copy()\n",
    "        new_dsl.data_subjects_indexed = array_to_append\n",
    "        \n",
    "        output_dsl = dsl1.copy()\n",
    "        output_dsl[:, index] = new_dsl\n",
    "        return output_dsl\n",
    "        "
   ]
  },
  {
   "cell_type": "code",
   "execution_count": 177,
   "id": "6150b687-d0da-44d5-b9d7-c95905d8a081",
   "metadata": {},
   "outputs": [],
   "source": [
    "def test(dsl1_shape, dsl2_shape, index) -> DataSubjectList:\n",
    "    dsl1 = DataSubjectList.from_objs(np.random.choice([80, 90, 100], size=dsl1_shape))\n",
    "    dsl2 = DataSubjectList.from_objs(np.random.choice([50, 60, 70], size=dsl2_shape))\n",
    "    # print(dsl1.one_hot_lookup, dsl1.data_subjects_indexed.shape)\n",
    "    # print(dsl2.one_hot_lookup, dsl2.data_subjects_indexed.shape)\n",
    "    \n",
    "    output_dsl = insert(dsl1=dsl1, dsl2=dsl2, index=index)\n",
    "    # print(output_dsl.data_subjects_indexed)\n",
    "    return output_dsl"
   ]
  },
  {
   "cell_type": "code",
   "execution_count": 178,
   "id": "88764074-5e94-4474-8ed1-5f2e302e778f",
   "metadata": {},
   "outputs": [],
   "source": [
    "res = test((5, 5), (3, 1, 5), index=0)"
   ]
  },
  {
   "cell_type": "code",
   "execution_count": 179,
   "id": "a3621c17-2c4c-4f85-8c69-1b12784cfd42",
   "metadata": {},
   "outputs": [],
   "source": [
    "res = test((5, 5), (3, 1, 5), index=2)"
   ]
  },
  {
   "cell_type": "code",
   "execution_count": 180,
   "id": "46722fa8-a1d8-4a0a-a597-38161759a0e3",
   "metadata": {},
   "outputs": [],
   "source": [
    "res = test((5, 5), (3, 1, 5), index=-1)"
   ]
  },
  {
   "cell_type": "code",
   "execution_count": 181,
   "id": "810c26d2-f5fa-461f-b93f-e4c2a83d9eb2",
   "metadata": {},
   "outputs": [],
   "source": [
    "res = test((3, 5, 5), (2, 1, 5), index=0)"
   ]
  },
  {
   "cell_type": "code",
   "execution_count": 182,
   "id": "d2b7a64b-777b-4115-847f-04b8779e6d95",
   "metadata": {},
   "outputs": [],
   "source": [
    "res = test((5, 5), (3, 2, 5), index=[0, 1])"
   ]
  },
  {
   "cell_type": "code",
   "execution_count": 183,
   "id": "c97dfa8d-3b15-4b4f-9d8f-44393a365816",
   "metadata": {},
   "outputs": [
    {
     "data": {
      "text/plain": [
       "array([ 80,  90, 100,  50,  60,  70])"
      ]
     },
     "execution_count": 183,
     "metadata": {},
     "output_type": "execute_result"
    }
   ],
   "source": [
    "res.one_hot_lookup"
   ]
  },
  {
   "cell_type": "code",
   "execution_count": null,
   "id": "fe83be45-75d7-45a4-9e7a-f1500e191209",
   "metadata": {},
   "outputs": [],
   "source": []
  },
  {
   "cell_type": "code",
   "execution_count": null,
   "id": "9e7092bc-8a56-40fd-8abe-d21d54e9e8e3",
   "metadata": {},
   "outputs": [],
   "source": []
  }
 ],
 "metadata": {
  "kernelspec": {
   "display_name": "Python 3 (ipykernel)",
   "language": "python",
   "name": "python3"
  },
  "language_info": {
   "codemirror_mode": {
    "name": "ipython",
    "version": 3
   },
   "file_extension": ".py",
   "mimetype": "text/x-python",
   "name": "python",
   "nbconvert_exporter": "python",
   "pygments_lexer": "ipython3",
   "version": "3.9.7"
  }
 },
 "nbformat": 4,
 "nbformat_minor": 5
}
