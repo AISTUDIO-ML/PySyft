{
 "cells": [
  {
   "cell_type": "code",
   "execution_count": 1,
   "id": "ec62bf3b-bea4-45a9-85dd-cacc0f44a512",
   "metadata": {},
   "outputs": [
    {
     "name": "stderr",
     "output_type": "stream",
     "text": [
      "/home/e/anaconda3/envs/Hagrid/lib/python3.9/site-packages/tqdm/auto.py:22: TqdmWarning: IProgress not found. Please update jupyter and ipywidgets. See https://ipywidgets.readthedocs.io/en/stable/user_install.html\n",
      "  from .autonotebook import tqdm as notebook_tqdm\n"
     ]
    }
   ],
   "source": [
    "from syft import DataSubjectList"
   ]
  },
  {
   "cell_type": "code",
   "execution_count": 2,
   "id": "db7405bf-bded-48ee-8ea4-1451f6256030",
   "metadata": {},
   "outputs": [],
   "source": [
    "import numpy as np"
   ]
  },
  {
   "cell_type": "code",
   "execution_count": 3,
   "id": "7984c216-1803-4540-8574-b9fbab151aa0",
   "metadata": {},
   "outputs": [],
   "source": [
    "from syft import DataSubjectList"
   ]
  },
  {
   "cell_type": "code",
   "execution_count": 4,
   "id": "ebae53e0-ae88-47f8-9dfa-c9839fef2daa",
   "metadata": {},
   "outputs": [
    {
     "data": {
      "text/plain": [
       "array([[[1., 1., 1., 1., 1.]],\n",
       "\n",
       "       [[1., 1., 1., 1., 1.]]])"
      ]
     },
     "execution_count": 4,
     "metadata": {},
     "output_type": "execute_result"
    }
   ],
   "source": [
    "a = np.ones((2, 1, 5))\n",
    "a"
   ]
  },
  {
   "cell_type": "code",
   "execution_count": 5,
   "id": "756a9989-b0dc-4c36-8c0a-cd810dc6f13b",
   "metadata": {},
   "outputs": [
    {
     "data": {
      "text/plain": [
       "array([[[1.]],\n",
       "\n",
       "       [[1.]],\n",
       "\n",
       "       [[1.]],\n",
       "\n",
       "       [[1.]],\n",
       "\n",
       "       [[1.]],\n",
       "\n",
       "       [[1.]],\n",
       "\n",
       "       [[1.]],\n",
       "\n",
       "       [[1.]],\n",
       "\n",
       "       [[1.]],\n",
       "\n",
       "       [[1.]]])"
      ]
     },
     "execution_count": 5,
     "metadata": {},
     "output_type": "execute_result"
    }
   ],
   "source": [
    "b = np.ones((10, 1, 1))\n",
    "b"
   ]
  },
  {
   "cell_type": "code",
   "execution_count": 6,
   "id": "b53a356e-6bb6-4d5d-a81e-5adbaa59a9b2",
   "metadata": {},
   "outputs": [
    {
     "data": {
      "text/plain": [
       "10"
      ]
     },
     "execution_count": 6,
     "metadata": {},
     "output_type": "execute_result"
    }
   ],
   "source": [
    "len(b)"
   ]
  },
  {
   "cell_type": "markdown",
   "id": "d494ca64-8558-430d-b2c8-bb0530ac87f9",
   "metadata": {},
   "source": [
    "(2, 1, 5) and (3, 1, 1) -> (2, 1, 5) -> (max(shape[0], shape[1]))\n",
    "\n",
    "\n",
    "if len(a) < len(b) -> we have to create a bigger array\n",
    "if len(a) == len(b) -> it fits!!!!\n",
    "if len(a) > len(b) -> append some NaNs at the end of b\n",
    "(3, 1, 5) and (2, 1, 1) -> (3, 1, 5)\n",
    "ds1\n",
    "ds2\n",
    "NaN\n",
    "\n",
    "\n",
    "\n",
    "(3, 50, 50) and "
   ]
  },
  {
   "cell_type": "markdown",
   "id": "fb049066-8aa5-4795-a5ec-1cddec28decf",
   "metadata": {},
   "source": []
  },
  {
   "cell_type": "code",
   "execution_count": 7,
   "id": "f0ab0634-1cec-4e61-8cb5-d93a76d7f6f9",
   "metadata": {},
   "outputs": [],
   "source": [
    "dsl = DataSubjectList.from_objs(np.random.choice([10, 11, 12], (5, 5)))"
   ]
  },
  {
   "cell_type": "code",
   "execution_count": 8,
   "id": "c3370e4e-1aaf-4aa9-b5dc-153594f67b6a",
   "metadata": {},
   "outputs": [
    {
     "data": {
      "text/plain": [
       "(array([10, 11, 12]), (5, 5))"
      ]
     },
     "execution_count": 8,
     "metadata": {},
     "output_type": "execute_result"
    }
   ],
   "source": [
    "dsl.one_hot_lookup, dsl.data_subjects_indexed.shape"
   ]
  },
  {
   "cell_type": "markdown",
   "id": "ed7e0e62-6d52-4054-925a-855c18af616a",
   "metadata": {},
   "source": [
    "dsl1 - > (5, 5)\n",
    "dsl2 -> (3, 5)\n",
    "index -> 0\n",
    "\n",
    "dsl1.data_subjects_indexed.shape -> (1, 5)\n",
    "dsl2 -> (3, 5)\n",
    "\n",
    "output -> (3, 5, 5)\n",
    "\n",
    "INPUT:\n",
    "array([[1, 0, 1, 2, 0],\n",
    "       [1, 0, 0, 0, 1],\n",
    "       [0, 0, 2, 0, 1],\n",
    "       [2, 0, 2, 1, 0],\n",
    "       [2, 2, 1, 2, 0]])\n",
    "      \n",
    "OUTPUT:\n",
    "array([[6, 6, 6, 6, 6],\n",
    "       [1, 0, 0, 0, 1],\n",
    "       [0, 0, 2, 0, 1],\n",
    "       [2, 0, 2, 1, 0],\n",
    "       [2, 2, 1, 2, 0]])\n",
    "\n",
    "array([[7, 7, 7, 7, 7],\n",
    "       [NAN, NAN, NAN, NAN, NAN],\n",
    "       [NAN, NAN, NAN, NAN, NAN],\n",
    "       [NAN, NAN, NAN, NAN, NAN],\n",
    "       [NAN, NAN, NAN, NAN, NAN]])\n",
    "\n",
    "array([[8, 8, 8, 8, 8],\n",
    "       [NAN, NAN, NAN, NAN, NAN],\n",
    "       [NAN, NAN, NAN, NAN, NAN],\n",
    "       [NAN, NAN, NAN, NAN, NAN],\n",
    "       [NAN, NAN, NAN, NAN, NAN]])\n",
    "\n",
    "\n",
    "\n",
    "INPUT\n",
    "\n",
    "child = [1, 2, 3]\n",
    "dsl.dsi.shape != child.shape -> GammaTensor\n",
    "(max(unique_data_subjects_per_data_point), 1, 3)\n",
    "\n",
    "child = [1 2, 3\n",
    "         4, 5, 6]\n",
    "dsl.dsi.shape == child.shape -> PhiTensor\n",
    "\n",
    "(0, 0, 0;\n",
    "1, 1, 1)\n",
    "\n",
    "(6, 6, 6,\n",
    "7, 7, 7)\n",
    "\n",
    "index = 0"
   ]
  },
  {
   "cell_type": "code",
   "execution_count": 61,
   "id": "cfcf991c-9f62-480d-bf52-a3a353a01ce0",
   "metadata": {},
   "outputs": [],
   "source": [
    "def get_output_shape(shape1, shape2):\n",
    "    if len(shape1) > len(shape2) or len(shape2) - len(shape1) > 1:\n",
    "        print(shape1, shape2)\n",
    "        raise NotImplementedError\n",
    "        \n",
    "    first_dim = max(shape1[0], shape2[0]) if len(shape1) == len(shape2) else shape2[0]\n",
    "    other_dims = shape1 if len(shape1) < len(shape2) else shape1[1:]\n",
    "    output_size = (first_dim, *other_dims)\n",
    "    return output_size\n",
    "\n",
    "\n",
    "def insert(dsl1: DataSubjectList, dsl2: DataSubjectList, index) -> DataSubjectList:\n",
    "    \n",
    "    output_shape = get_output_shape(dsl1.shape, dsl2.shape)\n",
    "    \n",
    "    # TODO: Broadcasting with [1] over multiple indices?\n",
    "    dsl1_len = dsl1.shape[0] if len(dsl1.shape) == len(dsl2.shape) else 1\n",
    "    dsl2_len = dsl2.shape[0]\n",
    "    \n",
    "    \n",
    "    if dsl1_len < dsl2_len:\n",
    "        print(\"if\")\n",
    "        # We need to create a bigger array\n",
    "        bigger_array = np.full(output_shape, np.nan)\n",
    "        \n",
    "        # Fill current dsl1 values into this bigger_array\n",
    "        # TODO: Ask Madhava if there's a smarter/vectorized way to do this\n",
    "        if dsl1_len == 1:\n",
    "            bigger_array[0] = dsl1.data_subjects_indexed\n",
    "        else:\n",
    "            for i in range(dsl1_len):\n",
    "                bigger_array[i] = dsl1[i]\n",
    "\n",
    "        output_dsl = DataSubjectList(one_hot_lookup=dsl1.one_hot_lookup, data_subjects_indexed=bigger_array)\n",
    "        bigger_array[:, index] = dsl2.data_subjects_indexed.squeeze()\n",
    "        return output_dsl\n",
    "        \n",
    "    elif dsl1_len == dsl2_len:\n",
    "        print(\"elif\")\n",
    "        # it fits perfectly\n",
    "        output_dsl = dsl1.copy()\n",
    "        output_dsl[index] = dsl2\n",
    "        return output_dsl\n",
    "    else:\n",
    "        print(\"else\")\n",
    "        # add some nans\n",
    "        extra_nans = np.array([np.nan] * (dsl1_len - dsl2_len) * np.prod(dsl2.shape[1:])).reshape((dsl1_len - dsl2_len, *dsl2.shape[1:]))\n",
    "        array_to_append = np.append(dsl2.data_subjects_indexed, extra_nans)\n",
    "        \n",
    "        output_dsl = dsl1.copy()\n",
    "        output_dsl[index] = array_to_append\n",
    "        return output_dsl\n",
    "        "
   ]
  },
  {
   "cell_type": "code",
   "execution_count": 10,
   "id": "3a5248a3-d050-4589-a36b-23151e310d55",
   "metadata": {},
   "outputs": [
    {
     "data": {
      "text/plain": [
       "5"
      ]
     },
     "execution_count": 10,
     "metadata": {},
     "output_type": "execute_result"
    }
   ],
   "source": [
    "len(dsl)"
   ]
  },
  {
   "cell_type": "code",
   "execution_count": 11,
   "id": "dad64ffb-10f9-4984-8a47-7ca252794ce6",
   "metadata": {},
   "outputs": [
    {
     "data": {
      "text/plain": [
       "(array([10, 11, 12]), (5, 5))"
      ]
     },
     "execution_count": 11,
     "metadata": {},
     "output_type": "execute_result"
    }
   ],
   "source": [
    "dsl.one_hot_lookup, dsl.data_subjects_indexed.shape"
   ]
  },
  {
   "cell_type": "code",
   "execution_count": 12,
   "id": "81c2b12e-b452-4298-aaa4-7a8f31c5780c",
   "metadata": {},
   "outputs": [
    {
     "data": {
      "text/plain": [
       "(array([50, 60, 70]), (2, 1, 5))"
      ]
     },
     "execution_count": 12,
     "metadata": {},
     "output_type": "execute_result"
    }
   ],
   "source": [
    "dsl2 = DataSubjectList.from_objs(np.random.choice([50, 60, 70], size=(2, 1, 5)))\n",
    "dsl2.one_hot_lookup, dsl2.data_subjects_indexed.shape "
   ]
  },
  {
   "cell_type": "code",
   "execution_count": 13,
   "id": "a6d42132-cab0-40f2-b05d-258449db8777",
   "metadata": {},
   "outputs": [],
   "source": [
    "output_dsl = insert(dsl1=dsl, dsl2=dsl2, index=0)"
   ]
  },
  {
   "cell_type": "code",
   "execution_count": 14,
   "id": "b3aec04d-58b9-4722-aa34-4e91e8c5400e",
   "metadata": {},
   "outputs": [
    {
     "data": {
      "text/plain": [
       "array([[[ 1.,  1.,  1.,  2.,  2.],\n",
       "        [ 0.,  2.,  0.,  2.,  2.],\n",
       "        [ 2.,  1.,  0.,  2.,  1.],\n",
       "        [ 2.,  0.,  0.,  2.,  2.],\n",
       "        [ 1.,  1.,  1.,  1.,  0.]],\n",
       "\n",
       "       [[ 2.,  2.,  0.,  1.,  0.],\n",
       "        [nan, nan, nan, nan, nan],\n",
       "        [nan, nan, nan, nan, nan],\n",
       "        [nan, nan, nan, nan, nan],\n",
       "        [nan, nan, nan, nan, nan]]])"
      ]
     },
     "execution_count": 14,
     "metadata": {},
     "output_type": "execute_result"
    }
   ],
   "source": [
    "output_dsl"
   ]
  },
  {
   "cell_type": "code",
   "execution_count": 15,
   "id": "f853d8d5-530c-42d3-9ee0-6e01b7e53d4a",
   "metadata": {},
   "outputs": [
    {
     "data": {
      "text/plain": [
       "(5,)"
      ]
     },
     "execution_count": 15,
     "metadata": {},
     "output_type": "execute_result"
    }
   ],
   "source": [
    "dsl[0].shape"
   ]
  },
  {
   "cell_type": "code",
   "execution_count": 16,
   "id": "43253d30-c70e-41e9-a095-4080bf98d15b",
   "metadata": {},
   "outputs": [
    {
     "data": {
      "text/plain": [
       "array([[[4.64495799e-310, 0.00000000e+000, 1.39387552e-258,\n",
       "         6.01347002e-154, 5.50438989e+257],\n",
       "        [9.18149118e+170, 3.17095857e+180, 2.58686482e+161,\n",
       "         6.01718289e+175, 2.41623980e+198],\n",
       "        [5.29274285e+199, 4.94142262e+257, 5.98182169e-154,\n",
       "         1.72965980e+156, 6.13357581e-095],\n",
       "        [1.10640382e+200, 4.73784579e+164, 5.30482732e+180,\n",
       "         3.17095864e+180, 2.44085715e-154],\n",
       "        [1.79805224e+044, 3.94655105e+180, 7.03542624e+199,\n",
       "         1.10181113e+155, 9.77135008e-153]],\n",
       "\n",
       "       [[2.86530675e+161, 2.28569998e-152, 7.39678251e+247,\n",
       "         6.01347002e-154, 4.72883470e+164],\n",
       "        [3.28097882e-085, 1.14489732e+243, 1.50818256e+161,\n",
       "         5.11495729e+199, 4.24664805e+175],\n",
       "        [4.26137297e+257, 6.01346953e-154, 1.27734658e-152,\n",
       "         5.99265804e+175, 1.69593624e-152],\n",
       "        [4.78111609e+180, 5.46090425e+241, 1.81450395e-152,\n",
       "         2.86752279e+161, 1.87650139e-152],\n",
       "        [6.01347002e-154, 1.12179665e+224, 1.02584502e+200,\n",
       "         1.45518257e-152, 4.95263826e+223]]])"
      ]
     },
     "execution_count": 16,
     "metadata": {},
     "output_type": "execute_result"
    }
   ],
   "source": [
    "big_array = np.empty((2,5,5))\n",
    "big_array"
   ]
  },
  {
   "cell_type": "code",
   "execution_count": 17,
   "id": "2e6ae3a6-054a-4331-9242-ef3377562f03",
   "metadata": {},
   "outputs": [],
   "source": [
    "big_array[0] = dsl.data_subjects_indexed"
   ]
  },
  {
   "cell_type": "code",
   "execution_count": 18,
   "id": "c20129be-d243-4fab-970c-e6fd7302b01c",
   "metadata": {},
   "outputs": [
    {
     "data": {
      "text/plain": [
       "array([[[0.00000000e+000, 0.00000000e+000, 1.00000000e+000,\n",
       "         0.00000000e+000, 1.00000000e+000],\n",
       "        [0.00000000e+000, 2.00000000e+000, 0.00000000e+000,\n",
       "         2.00000000e+000, 2.00000000e+000],\n",
       "        [2.00000000e+000, 1.00000000e+000, 0.00000000e+000,\n",
       "         2.00000000e+000, 1.00000000e+000],\n",
       "        [2.00000000e+000, 0.00000000e+000, 0.00000000e+000,\n",
       "         2.00000000e+000, 2.00000000e+000],\n",
       "        [1.00000000e+000, 1.00000000e+000, 1.00000000e+000,\n",
       "         1.00000000e+000, 0.00000000e+000]],\n",
       "\n",
       "       [[2.86530675e+161, 2.28569998e-152, 7.39678251e+247,\n",
       "         6.01347002e-154, 4.72883470e+164],\n",
       "        [3.28097882e-085, 1.14489732e+243, 1.50818256e+161,\n",
       "         5.11495729e+199, 4.24664805e+175],\n",
       "        [4.26137297e+257, 6.01346953e-154, 1.27734658e-152,\n",
       "         5.99265804e+175, 1.69593624e-152],\n",
       "        [4.78111609e+180, 5.46090425e+241, 1.81450395e-152,\n",
       "         2.86752279e+161, 1.87650139e-152],\n",
       "        [6.01347002e-154, 1.12179665e+224, 1.02584502e+200,\n",
       "         1.45518257e-152, 4.95263826e+223]]])"
      ]
     },
     "execution_count": 18,
     "metadata": {},
     "output_type": "execute_result"
    }
   ],
   "source": [
    "big_array"
   ]
  },
  {
   "cell_type": "code",
   "execution_count": 19,
   "id": "b79a491d-98ae-491d-83fb-2af9312a2fa8",
   "metadata": {},
   "outputs": [
    {
     "data": {
      "text/plain": [
       "array([[[1, 1, 1, 2, 2]],\n",
       "\n",
       "       [[2, 2, 0, 1, 0]]])"
      ]
     },
     "execution_count": 19,
     "metadata": {},
     "output_type": "execute_result"
    }
   ],
   "source": [
    "dsl2.data_subjects_indexed"
   ]
  },
  {
   "cell_type": "code",
   "execution_count": 20,
   "id": "f068b813-095b-4058-a4e5-0ca4c1475b44",
   "metadata": {},
   "outputs": [
    {
     "data": {
      "text/plain": [
       "(2, 5)"
      ]
     },
     "execution_count": 20,
     "metadata": {},
     "output_type": "execute_result"
    }
   ],
   "source": [
    "big_array[:, 0, :].shape"
   ]
  },
  {
   "cell_type": "code",
   "execution_count": 21,
   "id": "0d2e3929-01fe-4010-8f6d-b66c33d7f4cb",
   "metadata": {},
   "outputs": [],
   "source": [
    "big_array[:, 0, :] = dsl2.data_subjects_indexed.squeeze()"
   ]
  },
  {
   "cell_type": "code",
   "execution_count": 22,
   "id": "53900579-855b-4cab-8431-7c1d47037ac3",
   "metadata": {},
   "outputs": [
    {
     "data": {
      "text/plain": [
       "array([[[1.00000000e+000, 1.00000000e+000, 1.00000000e+000,\n",
       "         2.00000000e+000, 2.00000000e+000],\n",
       "        [0.00000000e+000, 2.00000000e+000, 0.00000000e+000,\n",
       "         2.00000000e+000, 2.00000000e+000],\n",
       "        [2.00000000e+000, 1.00000000e+000, 0.00000000e+000,\n",
       "         2.00000000e+000, 1.00000000e+000],\n",
       "        [2.00000000e+000, 0.00000000e+000, 0.00000000e+000,\n",
       "         2.00000000e+000, 2.00000000e+000],\n",
       "        [1.00000000e+000, 1.00000000e+000, 1.00000000e+000,\n",
       "         1.00000000e+000, 0.00000000e+000]],\n",
       "\n",
       "       [[2.00000000e+000, 2.00000000e+000, 0.00000000e+000,\n",
       "         1.00000000e+000, 0.00000000e+000],\n",
       "        [3.28097882e-085, 1.14489732e+243, 1.50818256e+161,\n",
       "         5.11495729e+199, 4.24664805e+175],\n",
       "        [4.26137297e+257, 6.01346953e-154, 1.27734658e-152,\n",
       "         5.99265804e+175, 1.69593624e-152],\n",
       "        [4.78111609e+180, 5.46090425e+241, 1.81450395e-152,\n",
       "         2.86752279e+161, 1.87650139e-152],\n",
       "        [6.01347002e-154, 1.12179665e+224, 1.02584502e+200,\n",
       "         1.45518257e-152, 4.95263826e+223]]])"
      ]
     },
     "execution_count": 22,
     "metadata": {},
     "output_type": "execute_result"
    }
   ],
   "source": [
    "big_array"
   ]
  },
  {
   "cell_type": "code",
   "execution_count": 23,
   "id": "5d00b7eb-4bcb-47f1-aaa5-02ba0e21f589",
   "metadata": {},
   "outputs": [
    {
     "data": {
      "text/plain": [
       "(2, 5)"
      ]
     },
     "execution_count": 23,
     "metadata": {},
     "output_type": "execute_result"
    }
   ],
   "source": [
    "index = 0\n",
    "big_array[:, index].shape"
   ]
  },
  {
   "cell_type": "code",
   "execution_count": 24,
   "id": "baaf0083-74c3-44f9-807d-dc54e96268ad",
   "metadata": {},
   "outputs": [
    {
     "data": {
      "text/plain": [
       "array([[[1.00000000e+000, 1.00000000e+000, 1.00000000e+000,\n",
       "         2.00000000e+000, 2.00000000e+000],\n",
       "        [0.00000000e+000, 2.00000000e+000, 0.00000000e+000,\n",
       "         2.00000000e+000, 2.00000000e+000]],\n",
       "\n",
       "       [[2.00000000e+000, 2.00000000e+000, 0.00000000e+000,\n",
       "         1.00000000e+000, 0.00000000e+000],\n",
       "        [3.28097882e-085, 1.14489732e+243, 1.50818256e+161,\n",
       "         5.11495729e+199, 4.24664805e+175]]])"
      ]
     },
     "execution_count": 24,
     "metadata": {},
     "output_type": "execute_result"
    }
   ],
   "source": [
    "index = [0, 1]\n",
    "big_array[:, index, :]"
   ]
  },
  {
   "cell_type": "code",
   "execution_count": 25,
   "id": "7f9e0631-3bbf-4a39-8910-77a2f8981b09",
   "metadata": {},
   "outputs": [
    {
     "data": {
      "text/plain": [
       "array([[[1.00000000e+000, 1.00000000e+000, 1.00000000e+000,\n",
       "         2.00000000e+000, 2.00000000e+000],\n",
       "        [0.00000000e+000, 2.00000000e+000, 0.00000000e+000,\n",
       "         2.00000000e+000, 2.00000000e+000],\n",
       "        [2.00000000e+000, 1.00000000e+000, 0.00000000e+000,\n",
       "         2.00000000e+000, 1.00000000e+000],\n",
       "        [2.00000000e+000, 0.00000000e+000, 0.00000000e+000,\n",
       "         2.00000000e+000, 2.00000000e+000],\n",
       "        [1.00000000e+000, 1.00000000e+000, 1.00000000e+000,\n",
       "         1.00000000e+000, 0.00000000e+000]],\n",
       "\n",
       "       [[2.00000000e+000, 2.00000000e+000, 0.00000000e+000,\n",
       "         1.00000000e+000, 0.00000000e+000],\n",
       "        [3.28097882e-085, 1.14489732e+243, 1.50818256e+161,\n",
       "         5.11495729e+199, 4.24664805e+175],\n",
       "        [4.26137297e+257, 6.01346953e-154, 1.27734658e-152,\n",
       "         5.99265804e+175, 1.69593624e-152],\n",
       "        [4.78111609e+180, 5.46090425e+241, 1.81450395e-152,\n",
       "         2.86752279e+161, 1.87650139e-152],\n",
       "        [6.01347002e-154, 1.12179665e+224, 1.02584502e+200,\n",
       "         1.45518257e-152, 4.95263826e+223]]])"
      ]
     },
     "execution_count": 25,
     "metadata": {},
     "output_type": "execute_result"
    }
   ],
   "source": [
    "big_array"
   ]
  },
  {
   "cell_type": "code",
   "execution_count": 26,
   "id": "d46fe664-7a3d-4a09-86b9-1eeeff52c0e4",
   "metadata": {},
   "outputs": [],
   "source": [
    "arr = np.ones((1, 1, 5))"
   ]
  },
  {
   "cell_type": "code",
   "execution_count": 27,
   "id": "2d79b9f2-0480-4d00-8cb2-9854237aab3f",
   "metadata": {},
   "outputs": [
    {
     "data": {
      "text/plain": [
       "(5,)"
      ]
     },
     "execution_count": 27,
     "metadata": {},
     "output_type": "execute_result"
    }
   ],
   "source": [
    "arr.squeeze().shape"
   ]
  },
  {
   "cell_type": "code",
   "execution_count": 28,
   "id": "22f48681-8229-42b8-848e-ea8c12666a22",
   "metadata": {},
   "outputs": [
    {
     "data": {
      "text/plain": [
       "(5,)"
      ]
     },
     "execution_count": 28,
     "metadata": {},
     "output_type": "execute_result"
    }
   ],
   "source": [
    "dsl[0].data_subjects_indexed.shape"
   ]
  },
  {
   "cell_type": "code",
   "execution_count": 29,
   "id": "04478c7b-7001-49d9-bdd6-d343c95b6b1b",
   "metadata": {},
   "outputs": [],
   "source": [
    "test = dsl.copy()"
   ]
  },
  {
   "cell_type": "code",
   "execution_count": 30,
   "id": "d9d8beaf-3c77-4dd7-b1c9-75928a4c81da",
   "metadata": {},
   "outputs": [
    {
     "data": {
      "text/plain": [
       "array([[0, 0, 1, 0, 1],\n",
       "       [0, 2, 0, 2, 2],\n",
       "       [2, 1, 0, 2, 1],\n",
       "       [2, 0, 0, 2, 2],\n",
       "       [1, 1, 1, 1, 0]])"
      ]
     },
     "execution_count": 30,
     "metadata": {},
     "output_type": "execute_result"
    }
   ],
   "source": [
    "test.data_subjects_indexed"
   ]
  },
  {
   "cell_type": "code",
   "execution_count": 31,
   "id": "51748c6d-e7cb-4127-95f9-97cca799ca0b",
   "metadata": {},
   "outputs": [],
   "source": [
    "sq =arr.squeeze()\n",
    "test.data_subjects_indexed[0] = sq"
   ]
  },
  {
   "cell_type": "code",
   "execution_count": 32,
   "id": "bd938792-dd15-4410-a332-979216df3aa9",
   "metadata": {},
   "outputs": [
    {
     "data": {
      "text/plain": [
       "array([[1, 1, 1, 1, 1],\n",
       "       [0, 2, 0, 2, 2],\n",
       "       [2, 1, 0, 2, 1],\n",
       "       [2, 0, 0, 2, 2],\n",
       "       [1, 1, 1, 1, 0]])"
      ]
     },
     "execution_count": 32,
     "metadata": {},
     "output_type": "execute_result"
    }
   ],
   "source": [
    "test.data_subjects_indexed"
   ]
  },
  {
   "cell_type": "code",
   "execution_count": 33,
   "id": "3e6ee39b-aac0-450d-8ebe-e608b4b39673",
   "metadata": {},
   "outputs": [
    {
     "data": {
      "text/plain": [
       "array([1., 1., 1., 1., 1.])"
      ]
     },
     "execution_count": 33,
     "metadata": {},
     "output_type": "execute_result"
    }
   ],
   "source": [
    "sq"
   ]
  },
  {
   "cell_type": "code",
   "execution_count": 34,
   "id": "45863a4c-e10a-43ab-abb8-5190df789b8b",
   "metadata": {},
   "outputs": [],
   "source": [
    "dsl2 = DataSubjectList.from_objs(np.random.choice([50, 60, 70], size=(1, 1, 5)))"
   ]
  },
  {
   "cell_type": "code",
   "execution_count": 35,
   "id": "efdd53c7-9c1e-42f3-92f1-e2de62c147d6",
   "metadata": {},
   "outputs": [],
   "source": [
    "output_dsl = insert(dsl1=dsl, dsl2=dsl2, index=0)"
   ]
  },
  {
   "cell_type": "code",
   "execution_count": 36,
   "id": "61021052-9f7f-4dec-aa5a-632ee1d9ab7a",
   "metadata": {},
   "outputs": [
    {
     "data": {
      "text/plain": [
       "array([[3, 4, 4, 4, 4],\n",
       "       [0, 2, 0, 2, 2],\n",
       "       [2, 1, 0, 2, 1],\n",
       "       [2, 0, 0, 2, 2],\n",
       "       [1, 1, 1, 1, 0]])"
      ]
     },
     "execution_count": 36,
     "metadata": {},
     "output_type": "execute_result"
    }
   ],
   "source": [
    "output_dsl.data_subjects_indexed"
   ]
  },
  {
   "cell_type": "code",
   "execution_count": 39,
   "id": "d262f236-106f-44ae-a615-15a751ac9a40",
   "metadata": {},
   "outputs": [
    {
     "data": {
      "text/plain": [
       "array([10, 11, 12, 60, 70])"
      ]
     },
     "execution_count": 39,
     "metadata": {},
     "output_type": "execute_result"
    }
   ],
   "source": [
    "output_dsl.one_hot_lookup"
   ]
  },
  {
   "cell_type": "code",
   "execution_count": 37,
   "id": "1def748d-5a58-4e40-8974-b2523ca93269",
   "metadata": {},
   "outputs": [
    {
     "data": {
      "text/plain": [
       "array([[[0, 1, 1, 1, 1]]])"
      ]
     },
     "execution_count": 37,
     "metadata": {},
     "output_type": "execute_result"
    }
   ],
   "source": [
    "dsl2.data_subjects_indexed"
   ]
  },
  {
   "cell_type": "code",
   "execution_count": 38,
   "id": "d9c7baf3-0afc-4c71-8ff1-b82afeab1308",
   "metadata": {},
   "outputs": [
    {
     "data": {
      "text/plain": [
       "array([60, 70])"
      ]
     },
     "execution_count": 38,
     "metadata": {},
     "output_type": "execute_result"
    }
   ],
   "source": [
    "dsl2.one_hot_lookup"
   ]
  },
  {
   "cell_type": "code",
   "execution_count": 41,
   "id": "f545d85c-f709-4ac5-be41-613462443c2a",
   "metadata": {},
   "outputs": [],
   "source": [
    "arr2 = np.ones((5,5)).squeeze()"
   ]
  },
  {
   "cell_type": "code",
   "execution_count": 42,
   "id": "f5053769-f2c5-4ce3-87da-5320152dbd8f",
   "metadata": {},
   "outputs": [
    {
     "data": {
      "text/plain": [
       "(5, 5)"
      ]
     },
     "execution_count": 42,
     "metadata": {},
     "output_type": "execute_result"
    }
   ],
   "source": [
    "arr2.shape"
   ]
  },
  {
   "cell_type": "code",
   "execution_count": 62,
   "id": "6150b687-d0da-44d5-b9d7-c95905d8a081",
   "metadata": {},
   "outputs": [],
   "source": [
    "def test(dsl1_shape, dsl2_shape, index) -> DataSubjectList:\n",
    "    dsl1 = DataSubjectList.from_objs(np.random.choice([80, 90, 100], size=dsl1_shape))\n",
    "    dsl2 = DataSubjectList.from_objs(np.random.choice([50, 60, 70], size=dsl2_shape))\n",
    "    print(dsl1.one_hot_lookup, dsl1.data_subjects_indexed.shape)\n",
    "    print(dsl2.one_hot_lookup, dsl2.data_subjects_indexed.shape)\n",
    "    \n",
    "    output_dsl = insert(dsl1=dsl, dsl2=dsl2, index=index)\n",
    "    return output_dsl"
   ]
  },
  {
   "cell_type": "code",
   "execution_count": 63,
   "id": "88764074-5e94-4474-8ed1-5f2e302e778f",
   "metadata": {},
   "outputs": [
    {
     "name": "stdout",
     "output_type": "stream",
     "text": [
      "[ 80  90 100] (5, 5)\n",
      "[50 60 70] (3, 1, 5)\n",
      "if\n"
     ]
    }
   ],
   "source": [
    "res = test((5, 5), (3, 1, 5), index=0)"
   ]
  },
  {
   "cell_type": "code",
   "execution_count": 64,
   "id": "60813b47-7bbb-4ec8-8288-f68ee86239e3",
   "metadata": {},
   "outputs": [
    {
     "data": {
      "text/plain": [
       "array([[[ 1.,  0.,  0.,  2.,  0.],\n",
       "        [ 0.,  2.,  0.,  2.,  2.],\n",
       "        [ 2.,  1.,  0.,  2.,  1.],\n",
       "        [ 2.,  0.,  0.,  2.,  2.],\n",
       "        [ 1.,  1.,  1.,  1.,  0.]],\n",
       "\n",
       "       [[ 2.,  0.,  1.,  1.,  2.],\n",
       "        [nan, nan, nan, nan, nan],\n",
       "        [nan, nan, nan, nan, nan],\n",
       "        [nan, nan, nan, nan, nan],\n",
       "        [nan, nan, nan, nan, nan]],\n",
       "\n",
       "       [[ 1.,  1.,  1.,  0.,  2.],\n",
       "        [nan, nan, nan, nan, nan],\n",
       "        [nan, nan, nan, nan, nan],\n",
       "        [nan, nan, nan, nan, nan],\n",
       "        [nan, nan, nan, nan, nan]]])"
      ]
     },
     "execution_count": 64,
     "metadata": {},
     "output_type": "execute_result"
    }
   ],
   "source": [
    "res.data_subjects_indexed"
   ]
  },
  {
   "cell_type": "code",
   "execution_count": 65,
   "id": "a3621c17-2c4c-4f85-8c69-1b12784cfd42",
   "metadata": {},
   "outputs": [
    {
     "name": "stdout",
     "output_type": "stream",
     "text": [
      "[ 80  90 100] (5, 5)\n",
      "[50 60 70] (3, 1, 5)\n",
      "if\n"
     ]
    }
   ],
   "source": [
    "res = test((5, 5), (3, 1, 5), index=2)"
   ]
  },
  {
   "cell_type": "code",
   "execution_count": 66,
   "id": "9639d83f-3264-41f9-a5ce-e09591dc147f",
   "metadata": {},
   "outputs": [
    {
     "data": {
      "text/plain": [
       "array([[[ 0.,  0.,  1.,  0.,  1.],\n",
       "        [ 0.,  2.,  0.,  2.,  2.],\n",
       "        [ 2.,  1.,  2.,  1.,  2.],\n",
       "        [ 2.,  0.,  0.,  2.,  2.],\n",
       "        [ 1.,  1.,  1.,  1.,  0.]],\n",
       "\n",
       "       [[nan, nan, nan, nan, nan],\n",
       "        [nan, nan, nan, nan, nan],\n",
       "        [ 2.,  2.,  2.,  0.,  0.],\n",
       "        [nan, nan, nan, nan, nan],\n",
       "        [nan, nan, nan, nan, nan]],\n",
       "\n",
       "       [[nan, nan, nan, nan, nan],\n",
       "        [nan, nan, nan, nan, nan],\n",
       "        [ 1.,  0.,  0.,  1.,  0.],\n",
       "        [nan, nan, nan, nan, nan],\n",
       "        [nan, nan, nan, nan, nan]]])"
      ]
     },
     "execution_count": 66,
     "metadata": {},
     "output_type": "execute_result"
    }
   ],
   "source": [
    "res.data_subjects_indexed"
   ]
  },
  {
   "cell_type": "code",
   "execution_count": 68,
   "id": "46722fa8-a1d8-4a0a-a597-38161759a0e3",
   "metadata": {},
   "outputs": [
    {
     "name": "stdout",
     "output_type": "stream",
     "text": [
      "[ 80  90 100] (5, 5)\n",
      "[50 60 70] (3, 1, 5)\n",
      "if\n"
     ]
    }
   ],
   "source": [
    "res = test((5, 5), (3, 1, 5), index=-1)"
   ]
  },
  {
   "cell_type": "code",
   "execution_count": 69,
   "id": "9070bde0-7dd7-4d00-9dd6-17a917abd7d4",
   "metadata": {},
   "outputs": [
    {
     "data": {
      "text/plain": [
       "array([[[ 0.,  0.,  1.,  0.,  1.],\n",
       "        [ 0.,  2.,  0.,  2.,  2.],\n",
       "        [ 2.,  1.,  0.,  2.,  1.],\n",
       "        [ 2.,  0.,  0.,  2.,  2.],\n",
       "        [ 0.,  2.,  2.,  1.,  0.]],\n",
       "\n",
       "       [[nan, nan, nan, nan, nan],\n",
       "        [nan, nan, nan, nan, nan],\n",
       "        [nan, nan, nan, nan, nan],\n",
       "        [nan, nan, nan, nan, nan],\n",
       "        [ 2.,  0.,  1.,  2.,  2.]],\n",
       "\n",
       "       [[nan, nan, nan, nan, nan],\n",
       "        [nan, nan, nan, nan, nan],\n",
       "        [nan, nan, nan, nan, nan],\n",
       "        [nan, nan, nan, nan, nan],\n",
       "        [ 2.,  0.,  2.,  0.,  2.]]])"
      ]
     },
     "execution_count": 69,
     "metadata": {},
     "output_type": "execute_result"
    }
   ],
   "source": [
    "res.data_subjects_indexed"
   ]
  },
  {
   "cell_type": "code",
   "execution_count": null,
   "id": "810c26d2-f5fa-461f-b93f-e4c2a83d9eb2",
   "metadata": {},
   "outputs": [],
   "source": []
  }
 ],
 "metadata": {
  "kernelspec": {
   "display_name": "Python 3 (ipykernel)",
   "language": "python",
   "name": "python3"
  },
  "language_info": {
   "codemirror_mode": {
    "name": "ipython",
    "version": 3
   },
   "file_extension": ".py",
   "mimetype": "text/x-python",
   "name": "python",
   "nbconvert_exporter": "python",
   "pygments_lexer": "ipython3",
   "version": "3.9.7"
  }
 },
 "nbformat": 4,
 "nbformat_minor": 5
}
