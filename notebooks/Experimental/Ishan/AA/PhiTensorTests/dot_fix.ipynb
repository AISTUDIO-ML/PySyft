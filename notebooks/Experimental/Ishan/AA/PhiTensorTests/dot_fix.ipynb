{
 "cells": [
  {
   "cell_type": "code",
   "execution_count": 1,
   "id": "dabf4d41-824a-4ec1-99a0-56c450610a72",
   "metadata": {},
   "outputs": [],
   "source": [
    "import numpy as np"
   ]
  },
  {
   "cell_type": "code",
   "execution_count": 2,
   "id": "45700d52-30c6-428f-a6c9-00e08be667d3",
   "metadata": {},
   "outputs": [
    {
     "data": {
      "text/plain": [
       "()"
      ]
     },
     "execution_count": 2,
     "metadata": {},
     "output_type": "execute_result"
    }
   ],
   "source": [
    "# 1D\n",
    "a = np.ones(5)\n",
    "b = np.ones(5)\n",
    "\n",
    "a.dot(b).shape"
   ]
  },
  {
   "cell_type": "code",
   "execution_count": 3,
   "id": "5207b03c-30d4-44c7-b8d1-634644e8679a",
   "metadata": {},
   "outputs": [
    {
     "data": {
      "text/plain": [
       "(5, 7)"
      ]
     },
     "execution_count": 3,
     "metadata": {},
     "output_type": "execute_result"
    }
   ],
   "source": [
    "# 2D\n",
    "a = np.ones((5, 6))\n",
    "b = np.ones((6, 7))\n",
    "\n",
    "a.dot(b).shape"
   ]
  },
  {
   "cell_type": "code",
   "execution_count": 4,
   "id": "d1bcd722-8aa9-46f8-a8cf-b337060bc3a3",
   "metadata": {},
   "outputs": [
    {
     "data": {
      "text/plain": [
       "(5,)"
      ]
     },
     "execution_count": 4,
     "metadata": {},
     "output_type": "execute_result"
    }
   ],
   "source": [
    "# 2D x 1D\n",
    "a = np.ones((5, 6))\n",
    "b = np.ones((6))\n",
    "\n",
    "a.dot(b).shape"
   ]
  },
  {
   "cell_type": "code",
   "execution_count": 5,
   "id": "59078b8b-cecc-40d2-ba82-e1c0b06efdd0",
   "metadata": {},
   "outputs": [
    {
     "data": {
      "text/plain": [
       "(2, 3, 5)"
      ]
     },
     "execution_count": 5,
     "metadata": {},
     "output_type": "execute_result"
    }
   ],
   "source": [
    "# 3D x 2D\n",
    "a = np.ones((2,3,4))\n",
    "b = np.ones((4, 5))\n",
    "\n",
    "a.dot(b).shape"
   ]
  },
  {
   "cell_type": "code",
   "execution_count": 6,
   "id": "32596f83-172e-4158-9627-356516c2a882",
   "metadata": {},
   "outputs": [
    {
     "data": {
      "text/plain": [
       "(2, 3, 6, 7)"
      ]
     },
     "execution_count": 6,
     "metadata": {},
     "output_type": "execute_result"
    }
   ],
   "source": [
    "# 3D\n",
    "a = np.ones((2,3,4))\n",
    "b = np.ones((6,4,7))\n",
    "\n",
    "a.dot(b).shape"
   ]
  },
  {
   "cell_type": "code",
   "execution_count": 7,
   "id": "2fcc3caf-edce-43c2-8ffe-60ab8afbd113",
   "metadata": {},
   "outputs": [],
   "source": [
    "def dsl_ops(array1: np.ndarray, array2: np.ndarray):\n",
    "    return np.concatenate((array1, array2))"
   ]
  },
  {
   "cell_type": "code",
   "execution_count": 8,
   "id": "1a9721c8-79ad-4c70-83a6-c75c80aa4f6c",
   "metadata": {},
   "outputs": [
    {
     "data": {
      "text/plain": [
       "(6, 50, 50)"
      ]
     },
     "execution_count": 8,
     "metadata": {},
     "output_type": "execute_result"
    }
   ],
   "source": [
    "dsl_ops(np.ones((3, 50, 50)), np.ones((3, 50, 50))).shape"
   ]
  },
  {
   "cell_type": "code",
   "execution_count": 9,
   "id": "f69d092b-b2fa-4ccf-8918-460e771aa1b9",
   "metadata": {},
   "outputs": [
    {
     "data": {
      "text/plain": [
       "(3, 50)"
      ]
     },
     "execution_count": 9,
     "metadata": {},
     "output_type": "execute_result"
    }
   ],
   "source": [
    "np.ones((3, 50, 50)).sum(1).shape"
   ]
  },
  {
   "cell_type": "markdown",
   "id": "385d4b87-7555-4533-98f3-4bcc1a366895",
   "metadata": {},
   "source": [
    "1D arrays- equal to mul\n",
    "\n",
    "\n",
    "2D arrays- equivalent to matmul\n",
    "\n",
    "\n",
    "We need two things to work for dot product- multiplication of arrays, and sum of arrays.\n"
   ]
  },
  {
   "cell_type": "code",
   "execution_count": 10,
   "id": "787cef62-1794-4dc8-8616-1fba4388383e",
   "metadata": {},
   "outputs": [],
   "source": [
    "def dsl_sum_op(array1: np.ndarray, target_shape: tuple):\n",
    "    \"\"\" Ideally we could use this when using an array slice \"\"\"\n",
    "    return array1.reshape((-1, *target_shape))"
   ]
  },
  {
   "cell_type": "code",
   "execution_count": 11,
   "id": "3b34a3a0-c8c0-4735-92c6-5e45ac01b93a",
   "metadata": {},
   "outputs": [
    {
     "data": {
      "text/plain": [
       "(50, 3, 50)"
      ]
     },
     "execution_count": 11,
     "metadata": {},
     "output_type": "execute_result"
    }
   ],
   "source": [
    "dsl_sum_op(np.ones((3, 50, 50)), (3, 50)).shape"
   ]
  },
  {
   "cell_type": "code",
   "execution_count": 12,
   "id": "f9e55d5f-9401-4729-a528-673037621869",
   "metadata": {},
   "outputs": [
    {
     "data": {
      "text/plain": [
       "array([[0, 0, 6, 2, 2, 3, 2, 1, 4, 0],\n",
       "       [3, 1, 0, 3, 2, 5, 4, 6, 5, 4],\n",
       "       [4, 1, 4, 5, 4, 4, 3, 6, 1, 2],\n",
       "       [5, 2, 6, 6, 3, 2, 1, 1, 5, 4],\n",
       "       [0, 1, 4, 6, 4, 6, 1, 4, 0, 4],\n",
       "       [3, 2, 3, 0, 3, 4, 1, 5, 1, 5],\n",
       "       [4, 6, 3, 1, 3, 6, 6, 3, 0, 3],\n",
       "       [5, 6, 0, 6, 2, 2, 6, 1, 2, 6],\n",
       "       [6, 6, 3, 0, 3, 5, 2, 0, 6, 6],\n",
       "       [2, 4, 2, 0, 4, 1, 4, 5, 1, 2]])"
      ]
     },
     "execution_count": 12,
     "metadata": {},
     "output_type": "execute_result"
    }
   ],
   "source": [
    "dsl = np.random.choice(np.arange(7), (10, 10))\n",
    "dsl"
   ]
  },
  {
   "cell_type": "code",
   "execution_count": 13,
   "id": "0dc8530d-70f8-4e6e-bfc5-f790e2f64b7a",
   "metadata": {},
   "outputs": [
    {
     "data": {
      "text/plain": [
       "(array([20, 33, 34, 35, 30, 27, 35, 36, 37, 25]), (10,))"
      ]
     },
     "execution_count": 13,
     "metadata": {},
     "output_type": "execute_result"
    }
   ],
   "source": [
    "# Sum of first row, second row, etc\n",
    "dsl.sum(axis=1), dsl.sum(axis=1).shape"
   ]
  },
  {
   "cell_type": "code",
   "execution_count": 14,
   "id": "99221228-2957-4d16-ba2d-f50955a52739",
   "metadata": {},
   "outputs": [
    {
     "data": {
      "text/plain": [
       "(10, 10)"
      ]
     },
     "execution_count": 14,
     "metadata": {},
     "output_type": "execute_result"
    }
   ],
   "source": [
    "dsl_sum_op(dsl, dsl.sum(axis=1).shape).shape"
   ]
  },
  {
   "cell_type": "code",
   "execution_count": 15,
   "id": "99be3347-1d4b-46ae-8f4a-09ef4814f0b0",
   "metadata": {},
   "outputs": [
    {
     "data": {
      "text/plain": [
       "((100,), ())"
      ]
     },
     "execution_count": 15,
     "metadata": {},
     "output_type": "execute_result"
    }
   ],
   "source": [
    "dsl_sum_op(dsl, dsl.sum().shape).shape, dsl.sum().shape"
   ]
  },
  {
   "cell_type": "code",
   "execution_count": 16,
   "id": "97645dae-8115-4982-a6be-d3b6d5670411",
   "metadata": {},
   "outputs": [
    {
     "name": "stderr",
     "output_type": "stream",
     "text": [
      "/home/e/anaconda3/envs/Hagrid/lib/python3.9/site-packages/tqdm/auto.py:22: TqdmWarning: IProgress not found. Please update jupyter and ipywidgets. See https://ipywidgets.readthedocs.io/en/stable/user_install.html\n",
      "  from .autonotebook import tqdm as notebook_tqdm\n"
     ]
    }
   ],
   "source": [
    "from syft import PhiTensor, DataSubjectList"
   ]
  },
  {
   "cell_type": "code",
   "execution_count": 17,
   "id": "45eefac7-2eff-4d24-9e2c-7b6350fd0dd8",
   "metadata": {},
   "outputs": [],
   "source": [
    "pt = PhiTensor(\n",
    "    child=np.ones((50, 50)), \n",
    "    data_subjects=DataSubjectList.from_objs(np.random.choice(np.arange(100), (3, 50, 50))), \n",
    "    min_vals=0, \n",
    "    max_vals=1\n",
    ")"
   ]
  },
  {
   "cell_type": "code",
   "execution_count": 18,
   "id": "2e8510d2-74fb-4855-90aa-1af47f8b6ae5",
   "metadata": {},
   "outputs": [
    {
     "data": {
      "text/plain": [
       "<syft.core.adp.data_subject_list.DataSubjectList at 0x7f660c18dc40>"
      ]
     },
     "execution_count": 18,
     "metadata": {},
     "output_type": "execute_result"
    }
   ],
   "source": [
    "DataSubjectList.from_objs(np.random.choice(np.arange(100), (3, 50, 50)))"
   ]
  },
  {
   "cell_type": "code",
   "execution_count": 19,
   "id": "f8fbad36-d699-404f-a3c1-45d218e1f186",
   "metadata": {},
   "outputs": [
    {
     "data": {
      "text/plain": [
       "<syft.core.adp.data_subject_list.DataSubjectList at 0x7f66b80b6460>"
      ]
     },
     "execution_count": 19,
     "metadata": {},
     "output_type": "execute_result"
    }
   ],
   "source": [
    "pt.data_subjects"
   ]
  },
  {
   "cell_type": "code",
   "execution_count": 20,
   "id": "82dc0ed2-b4b4-4522-b36a-9f300d93721f",
   "metadata": {},
   "outputs": [],
   "source": [
    "res = pt.sum()"
   ]
  },
  {
   "cell_type": "code",
   "execution_count": 21,
   "id": "6def67bf-c7b6-4027-a3c4-2c38a5286c99",
   "metadata": {},
   "outputs": [
    {
     "data": {
      "text/plain": [
       "(7500,)"
      ]
     },
     "execution_count": 21,
     "metadata": {},
     "output_type": "execute_result"
    }
   ],
   "source": [
    "res.data_subjects.shape"
   ]
  },
  {
   "cell_type": "code",
   "execution_count": 22,
   "id": "5e640905-39a3-4d41-9d80-e753698a8584",
   "metadata": {},
   "outputs": [
    {
     "data": {
      "text/plain": [
       "()"
      ]
     },
     "execution_count": 22,
     "metadata": {},
     "output_type": "execute_result"
    }
   ],
   "source": [
    "res.shape"
   ]
  },
  {
   "cell_type": "code",
   "execution_count": 23,
   "id": "345ccbf7-1028-4352-b040-570d4e293ecd",
   "metadata": {},
   "outputs": [],
   "source": [
    "res = pt.sum(axis=1)"
   ]
  },
  {
   "cell_type": "code",
   "execution_count": 24,
   "id": "42b1aa0a-5e03-463a-b4d6-2ef7a91c7456",
   "metadata": {},
   "outputs": [
    {
     "data": {
      "text/plain": [
       "(150, 50)"
      ]
     },
     "execution_count": 24,
     "metadata": {},
     "output_type": "execute_result"
    }
   ],
   "source": [
    "res.data_subjects.shape"
   ]
  },
  {
   "cell_type": "code",
   "execution_count": 25,
   "id": "bd6456ac-2b66-45dd-9a64-3e6725100d5d",
   "metadata": {},
   "outputs": [
    {
     "data": {
      "text/plain": [
       "(50,)"
      ]
     },
     "execution_count": 25,
     "metadata": {},
     "output_type": "execute_result"
    }
   ],
   "source": [
    "res.shape"
   ]
  },
  {
   "cell_type": "code",
   "execution_count": 26,
   "id": "2e70f926-a416-4a65-beee-68e55e00b599",
   "metadata": {},
   "outputs": [
    {
     "data": {
      "text/plain": [
       "(50, 50)"
      ]
     },
     "execution_count": 26,
     "metadata": {},
     "output_type": "execute_result"
    }
   ],
   "source": [
    "gt = pt.gamma\n",
    "gt.shape"
   ]
  },
  {
   "cell_type": "code",
   "execution_count": 27,
   "id": "51778420-39be-4ea4-a863-eb9ba5ab9554",
   "metadata": {},
   "outputs": [
    {
     "name": "stdout",
     "output_type": "stream",
     "text": [
      "()\n"
     ]
    }
   ],
   "source": [
    "res = gt.sum()"
   ]
  },
  {
   "cell_type": "code",
   "execution_count": 28,
   "id": "4677c696-6595-4fac-804b-4a8d98b62d0c",
   "metadata": {},
   "outputs": [
    {
     "data": {
      "text/plain": [
       "()"
      ]
     },
     "execution_count": 28,
     "metadata": {},
     "output_type": "execute_result"
    }
   ],
   "source": [
    "res.child.shape"
   ]
  },
  {
   "cell_type": "code",
   "execution_count": 29,
   "id": "bd72dc19-a49c-499d-8c93-91e86b9c51cf",
   "metadata": {},
   "outputs": [
    {
     "data": {
      "text/plain": [
       "(7500,)"
      ]
     },
     "execution_count": 29,
     "metadata": {},
     "output_type": "execute_result"
    }
   ],
   "source": [
    "res.data_subjects.shape"
   ]
  },
  {
   "cell_type": "code",
   "execution_count": 30,
   "id": "fc173837-ff91-422c-8dfb-c8f02830b66a",
   "metadata": {},
   "outputs": [
    {
     "data": {
      "text/plain": [
       "()"
      ]
     },
     "execution_count": 30,
     "metadata": {},
     "output_type": "execute_result"
    }
   ],
   "source": [
    "res.shape"
   ]
  },
  {
   "cell_type": "code",
   "execution_count": 31,
   "id": "91aa6be0-ef2f-4024-9c6c-565dade4cc16",
   "metadata": {},
   "outputs": [
    {
     "name": "stdout",
     "output_type": "stream",
     "text": [
      "(50,)\n"
     ]
    }
   ],
   "source": [
    "res = pt.gamma.sum(axis=1)"
   ]
  },
  {
   "cell_type": "code",
   "execution_count": 32,
   "id": "579d11a3-e77b-4086-b747-39afcc9fbbc5",
   "metadata": {},
   "outputs": [
    {
     "data": {
      "text/plain": [
       "(150, 50)"
      ]
     },
     "execution_count": 32,
     "metadata": {},
     "output_type": "execute_result"
    }
   ],
   "source": [
    "res.data_subjects.shape"
   ]
  },
  {
   "cell_type": "code",
   "execution_count": 33,
   "id": "e9d02bd2-ae22-4cee-9c3c-e9234c201a16",
   "metadata": {},
   "outputs": [
    {
     "data": {
      "text/plain": [
       "(50,)"
      ]
     },
     "execution_count": 33,
     "metadata": {},
     "output_type": "execute_result"
    }
   ],
   "source": [
    "res.shape"
   ]
  },
  {
   "cell_type": "code",
   "execution_count": null,
   "id": "f6dd7bb9-cc25-4260-bd7f-f544b8d0603f",
   "metadata": {},
   "outputs": [],
   "source": [
    "def dot(dsl1: DataSubjectList, dsl2: DataSubjectList, target_shape):\n",
    "    final_shape = "
   ]
  },
  {
   "cell_type": "code",
   "execution_count": null,
   "id": "a09c7a29-d8af-42bd-91c9-d92e51850f25",
   "metadata": {},
   "outputs": [],
   "source": [
    "def multiplication(dsl1: DataSubjectList, dsl2: DataSubjectList):\n",
    "    output_ds = DataSubjectList(\n",
    "        one_hot_lookup=np.array([]),\n",
    "        data_subjects_indexed=np.empty(())"
   ]
  },
  {
   "cell_type": "code",
   "execution_count": null,
   "id": "5a2ff438-a622-49de-a562-76d73297deec",
   "metadata": {},
   "outputs": [],
   "source": []
  }
 ],
 "metadata": {
  "kernelspec": {
   "display_name": "Python 3 (ipykernel)",
   "language": "python",
   "name": "python3"
  },
  "language_info": {
   "codemirror_mode": {
    "name": "ipython",
    "version": 3
   },
   "file_extension": ".py",
   "mimetype": "text/x-python",
   "name": "python",
   "nbconvert_exporter": "python",
   "pygments_lexer": "ipython3",
   "version": "3.9.7"
  }
 },
 "nbformat": 4,
 "nbformat_minor": 5
}
