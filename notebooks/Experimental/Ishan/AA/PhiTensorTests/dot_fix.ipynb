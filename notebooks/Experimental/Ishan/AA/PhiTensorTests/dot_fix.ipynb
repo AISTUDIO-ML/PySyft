{
 "cells": [
  {
   "cell_type": "code",
   "execution_count": 34,
   "id": "43250c8e-b49a-44a3-be89-1acff8913504",
   "metadata": {},
   "outputs": [],
   "source": [
    "from syft import PhiTensor, GammaTensor, DataSubjectList, lazyrepeatarray"
   ]
  },
  {
   "cell_type": "code",
   "execution_count": 1,
   "id": "608ee42d-c7ed-475a-a41a-a103a47b7184",
   "metadata": {},
   "outputs": [],
   "source": [
    "import numpy as np"
   ]
  },
  {
   "cell_type": "code",
   "execution_count": 109,
   "id": "6e281a0d-1150-44ff-97b5-ed3ae99fb71b",
   "metadata": {},
   "outputs": [],
   "source": [
    "def dot(dsl1: DataSubjectList, dsl2: DataSubjectList):\n",
    "    \"\"\"\n",
    "    a/b: \n",
    "    0D/0D -> multiplication\n",
    "    1D/1D -> multiplication\n",
    "    1D/other -> sum product over last axis \n",
    "    2D/2D -> matmul\n",
    "    higher -> sum product over axis=-1 of a, axis=-2 of b\n",
    "    \n",
    "    dot(a, b)[i,j,k,m] = sum(a[i,j,:] * b[k,:,m])\n",
    "    \"\"\"\n",
    "    \n",
    "    dsl1_target_shape = (*dsl1.shape[1:-1], 1, 1)\n",
    "    dsl2_target_shape = (1, 1, *dsl2.shape[1:-2], dsl2.shape[-1])\n",
    "    \n",
    "    print(\"Target shapes: \", dsl1_target_shape, dsl2_target_shape)\n",
    "\n",
    "    summed_dsl1 = dsl1.sum(target_shape=dsl1_target_shape)\n",
    "    summed_dsl2 = dsl2.sum(target_shape=dsl2_target_shape)\n",
    "    print(\"summed shapes: \", summed_dsl1.shape, summed_dsl2.shape)\n",
    "\n",
    "    # We need to project these data subject arrays to their entire row/column respectively\n",
    "    \n",
    "    dsl1_projection = np.ones((*summed_dsl1.shape[:-2], *summed_dsl2.shape[-2:])) \n",
    "    dsl2_projection = np.ones((summed_dsl2.shape[0], *summed_dsl1.shape[1:-2], *summed_dsl2.shape[-2:]))  #*summed_dsl2.shape[1:-2],\n",
    "    projection = np.ones((*summed_dsl1.shape[:-2], *summed_dsl2.shape[-2:]))\n",
    "    print(projection.shape)\n",
    "    print(\"Projection shape: \", dsl1_projection.shape, dsl2_projection.shape)\n",
    "    \n",
    "    summed_dsl1.data_subjects_indexed = dsl1_projection * summed_dsl1.data_subjects_indexed\n",
    "    summed_dsl2.data_subjects_indexed = dsl2_projection * summed_dsl2.data_subjects_indexed\n",
    "    \n",
    "    print(\"summed shapes after projection: \", summed_dsl1.shape, summed_dsl2.shape)\n",
    "    \n",
    "    output_ds = DataSubjectList.combine_dsi(summed_dsl1, summed_dsl2)\n",
    "    print(\"output shape: \", output_ds.shape)\n",
    "    \n",
    "    # This gets rid of redundant (repeating) DSL slices.\n",
    "    output_ds.data_subjects_indexed = np.unique(output_ds.data_subjects_indexed, axis=0)\n",
    "    print(\"output shape after np.unique: \", output_ds.shape)\n",
    "    return output_ds"
   ]
  },
  {
   "cell_type": "code",
   "execution_count": 110,
   "id": "cc752c00-fc19-4198-99b0-39cd9382cd29",
   "metadata": {},
   "outputs": [
    {
     "name": "stdout",
     "output_type": "stream",
     "text": [
      "dsls starting shape:  (2, 3, 4, 54) (2, 3, 54, 7)\n",
      "Target shapes:  (3, 4, 1, 1) (1, 1, 3, 7)\n",
      "summed shapes:  (108, 3, 4, 1, 1) (108, 1, 1, 3, 7)\n",
      "(108, 3, 4, 3, 7)\n",
      "Projection shape:  (108, 3, 4, 3, 7) (108, 3, 4, 3, 7)\n",
      "summed shapes after projection:  (108, 3, 4, 3, 7) (108, 3, 4, 3, 7)\n",
      "output shape:  (216, 3, 4, 3, 7)\n",
      "output shape after np.unique:  (4, 3, 4, 3, 7)\n"
     ]
    },
    {
     "data": {
      "text/plain": [
       "(4, 3, 4, 3, 7)"
      ]
     },
     "execution_count": 110,
     "metadata": {},
     "output_type": "execute_result"
    }
   ],
   "source": [
    "from syft import GammaTensor, lazyrepeatarray\n",
    "\n",
    "def test_dot():\n",
    "    \n",
    "    # 2, 3, 4, 54\n",
    "    gt1 = GammaTensor(\n",
    "        child=np.random.random((3, 4, 54)), \n",
    "        data_subjects=DataSubjectList.from_objs(\n",
    "            np.concatenate((\n",
    "                np.random.choice([\"Ishan\"], (1, 3, 4, 54)),\n",
    "                np.random.choice([\"John Cena\"], (1, 3, 4, 54))\n",
    "            )),\n",
    "        ),\n",
    "        min_vals=lazyrepeatarray(0, (3, 4, 54)) , \n",
    "        max_vals=lazyrepeatarray(1, (3, 4, 54))\n",
    "    )\n",
    "    \n",
    "    # 2, 3, 54, 7\n",
    "    gt2 = GammaTensor(\n",
    "        child=np.random.random((3, 54, 7)), \n",
    "        data_subjects=DataSubjectList.from_objs(\n",
    "            np.concatenate(( \n",
    "                np.random.choice([\"Hulk Hogan\"], (1, 3, 54, 7)),\n",
    "                np.random.choice([\"Potato\"], (1, 3, 54, 7))\n",
    "            )),\n",
    "        ),\n",
    "        min_vals=lazyrepeatarray(0, (3, 54, 7)) , \n",
    "        max_vals=lazyrepeatarray(1, (3, 54, 7))\n",
    "    )\n",
    "    print(\"dsls starting shape: \", gt1.data_subjects.shape, gt2.data_subjects.shape)\n",
    "    return dot(gt1.data_subjects, gt2.data_subjects)\n",
    "\n",
    "res3d = test_dot()\n",
    "res3d.shape  # ideally: (4, 3, 4, 3, 7)"
   ]
  },
  {
   "cell_type": "code",
   "execution_count": 78,
   "id": "c90c731b-f3cf-43ab-9d2b-3de0be46c43a",
   "metadata": {},
   "outputs": [
    {
     "name": "stdout",
     "output_type": "stream",
     "text": [
      "dsls starting shape:  (2, 4, 54) (2, 54, 7)\n",
      "Target shapes:  (4, 1) (1, 7)\n",
      "summed shapes:  (108, 4, 1) (108, 1, 7)\n",
      "Projection shape:  (108, 4, 7) (108, 4, 7)\n",
      "summed shapes after projection:  (108, 4, 7) (108, 4, 7)\n",
      "output shape:  (216, 4, 7)\n",
      "output shape after np.unique:  (4, 4, 7)\n"
     ]
    },
    {
     "data": {
      "text/plain": [
       "(4, 4, 7)"
      ]
     },
     "execution_count": 78,
     "metadata": {},
     "output_type": "execute_result"
    }
   ],
   "source": [
    "from syft import GammaTensor, lazyrepeatarray\n",
    "\n",
    "def test_dot():\n",
    "    \n",
    "    # 2, 4, 54\n",
    "    gt1 = GammaTensor(\n",
    "        child=np.random.random((4, 54)), \n",
    "        data_subjects=DataSubjectList.from_objs(\n",
    "            np.concatenate((\n",
    "                np.random.choice([\"Ishan\"], (1, 4, 54)),\n",
    "                np.random.choice([\"John Cena\"], (1, 4, 54))\n",
    "            )),\n",
    "        ),\n",
    "        min_vals=lazyrepeatarray(0, (4, 54)) , \n",
    "        max_vals=lazyrepeatarray(1, (4, 54))\n",
    "    )\n",
    "    \n",
    "    # 2, 54, 7\n",
    "    gt2 = GammaTensor(\n",
    "        child=np.random.random(( 54, 7)), \n",
    "        data_subjects=DataSubjectList.from_objs(\n",
    "            np.concatenate(( \n",
    "                np.random.choice([\"Hulk Hogan\"], (1,  54, 7)),\n",
    "                np.random.choice([\"Potato\"], (1, 54, 7))\n",
    "            )),\n",
    "        ),\n",
    "        min_vals=lazyrepeatarray(0, (54, 7)) , \n",
    "        max_vals=lazyrepeatarray(1, (54, 7))\n",
    "    )\n",
    "    print(\"dsls starting shape: \", gt1.data_subjects.shape, gt2.data_subjects.shape)\n",
    "    return dot(gt1.data_subjects, gt2.data_subjects)\n",
    "\n",
    "res3d = test_dot()\n",
    "res3d.shape  # ideally: (4, 4, 7)"
   ]
  },
  {
   "cell_type": "markdown",
   "id": "7a54bcef-cfe0-4091-a8d4-95e63a1ea1fd",
   "metadata": {},
   "source": [
    "<hr>\n",
    "<hr>\n",
    "\n",
    "\n",
    "## Dot Examples"
   ]
  },
  {
   "cell_type": "code",
   "execution_count": 35,
   "id": "45700d52-30c6-428f-a6c9-00e08be667d3",
   "metadata": {},
   "outputs": [
    {
     "data": {
      "text/plain": [
       "()"
      ]
     },
     "execution_count": 35,
     "metadata": {},
     "output_type": "execute_result"
    }
   ],
   "source": [
    "# 1D\n",
    "a = np.ones(5)\n",
    "b = np.ones(5)\n",
    "\n",
    "a.dot(b).shape"
   ]
  },
  {
   "cell_type": "code",
   "execution_count": 39,
   "id": "ef390372-721d-4cd1-8db0-8c05b8f1482f",
   "metadata": {},
   "outputs": [
    {
     "data": {
      "text/plain": [
       "30.0"
      ]
     },
     "execution_count": 39,
     "metadata": {},
     "output_type": "execute_result"
    }
   ],
   "source": [
    "# 1D\n",
    "a = np.ones(5) * 2\n",
    "b = np.ones(5) * 3\n",
    "\n",
    "a.dot(b)"
   ]
  },
  {
   "cell_type": "code",
   "execution_count": 3,
   "id": "5207b03c-30d4-44c7-b8d1-634644e8679a",
   "metadata": {},
   "outputs": [
    {
     "data": {
      "text/plain": [
       "(5, 7)"
      ]
     },
     "execution_count": 3,
     "metadata": {},
     "output_type": "execute_result"
    }
   ],
   "source": [
    "# 2D\n",
    "a = np.ones((5, 6))\n",
    "b = np.ones((6, 7))\n",
    "\n",
    "a.dot(b).shape"
   ]
  },
  {
   "cell_type": "code",
   "execution_count": 4,
   "id": "d1bcd722-8aa9-46f8-a8cf-b337060bc3a3",
   "metadata": {},
   "outputs": [
    {
     "data": {
      "text/plain": [
       "(5,)"
      ]
     },
     "execution_count": 4,
     "metadata": {},
     "output_type": "execute_result"
    }
   ],
   "source": [
    "# 2D x 1D\n",
    "a = np.ones((5, 6))\n",
    "b = np.ones((6))\n",
    "\n",
    "a.dot(b).shape"
   ]
  },
  {
   "cell_type": "code",
   "execution_count": 5,
   "id": "59078b8b-cecc-40d2-ba82-e1c0b06efdd0",
   "metadata": {},
   "outputs": [
    {
     "data": {
      "text/plain": [
       "(2, 3, 5)"
      ]
     },
     "execution_count": 5,
     "metadata": {},
     "output_type": "execute_result"
    }
   ],
   "source": [
    "# 3D x 2D\n",
    "a = np.ones((2,3,4))\n",
    "b = np.ones((4, 5))\n",
    "\n",
    "a.dot(b).shape"
   ]
  },
  {
   "cell_type": "code",
   "execution_count": 6,
   "id": "32596f83-172e-4158-9627-356516c2a882",
   "metadata": {},
   "outputs": [
    {
     "data": {
      "text/plain": [
       "(2, 3, 6, 7)"
      ]
     },
     "execution_count": 6,
     "metadata": {},
     "output_type": "execute_result"
    }
   ],
   "source": [
    "# 3D\n",
    "a = np.ones((2,3,4))\n",
    "b = np.ones((6,4,7))\n",
    "\n",
    "a.dot(b).shape"
   ]
  },
  {
   "cell_type": "code",
   "execution_count": 79,
   "id": "12e7a75b-da5d-4f8f-b4ce-c16991fc4343",
   "metadata": {},
   "outputs": [
    {
     "data": {
      "text/plain": [
       "(3, 4, 3, 7)"
      ]
     },
     "execution_count": 79,
     "metadata": {},
     "output_type": "execute_result"
    }
   ],
   "source": [
    "# 3D\n",
    "a = np.ones((3, 4, 54))\n",
    "b = np.ones((3, 54, 7))\n",
    "\n",
    "a.dot(b).shape"
   ]
  },
  {
   "cell_type": "code",
   "execution_count": 62,
   "id": "481f7d82-774d-4136-a659-292a6c4dc5e6",
   "metadata": {},
   "outputs": [
    {
     "data": {
      "text/plain": [
       "(2, 3, 4, 5, 7, 8, 9, 10)"
      ]
     },
     "execution_count": 62,
     "metadata": {},
     "output_type": "execute_result"
    }
   ],
   "source": [
    "# 3D\n",
    "a = np.ones((2,3,4,5,6))\n",
    "b = np.ones((7,8,9,6,10))\n",
    "\n",
    "a.dot(b).shape"
   ]
  },
  {
   "cell_type": "code",
   "execution_count": 77,
   "id": "ec56ca49-853e-45e9-8541-aead302ae24c",
   "metadata": {},
   "outputs": [
    {
     "data": {
      "text/plain": [
       "(4, 7)"
      ]
     },
     "execution_count": 77,
     "metadata": {},
     "output_type": "execute_result"
    }
   ],
   "source": [
    "# 3D\n",
    "a = np.ones((4,54))\n",
    "b = np.ones((54,7))\n",
    "\n",
    "a.dot(b).shape"
   ]
  },
  {
   "cell_type": "code",
   "execution_count": 71,
   "id": "cb3b39fc-e269-4587-882a-8311db7792e4",
   "metadata": {},
   "outputs": [
    {
     "data": {
      "text/plain": [
       "array([[[[1., 1., 1., ..., 1., 1., 1.],\n",
       "         [1., 1., 1., ..., 1., 1., 1.],\n",
       "         [1., 1., 1., ..., 1., 1., 1.],\n",
       "         [1., 1., 1., ..., 1., 1., 1.]],\n",
       "\n",
       "        [[1., 1., 1., ..., 1., 1., 1.],\n",
       "         [1., 1., 1., ..., 1., 1., 1.],\n",
       "         [1., 1., 1., ..., 1., 1., 1.],\n",
       "         [1., 1., 1., ..., 1., 1., 1.]],\n",
       "\n",
       "        [[1., 1., 1., ..., 1., 1., 1.],\n",
       "         [1., 1., 1., ..., 1., 1., 1.],\n",
       "         [1., 1., 1., ..., 1., 1., 1.],\n",
       "         [1., 1., 1., ..., 1., 1., 1.]]],\n",
       "\n",
       "\n",
       "       [[[1., 1., 1., ..., 1., 1., 1.],\n",
       "         [1., 1., 1., ..., 1., 1., 1.],\n",
       "         [1., 1., 1., ..., 1., 1., 1.],\n",
       "         [1., 1., 1., ..., 1., 1., 1.]],\n",
       "\n",
       "        [[1., 1., 1., ..., 1., 1., 1.],\n",
       "         [1., 1., 1., ..., 1., 1., 1.],\n",
       "         [1., 1., 1., ..., 1., 1., 1.],\n",
       "         [1., 1., 1., ..., 1., 1., 1.]],\n",
       "\n",
       "        [[1., 1., 1., ..., 1., 1., 1.],\n",
       "         [1., 1., 1., ..., 1., 1., 1.],\n",
       "         [1., 1., 1., ..., 1., 1., 1.],\n",
       "         [1., 1., 1., ..., 1., 1., 1.]]],\n",
       "\n",
       "\n",
       "       [[[1., 1., 1., ..., 1., 1., 1.],\n",
       "         [1., 1., 1., ..., 1., 1., 1.],\n",
       "         [1., 1., 1., ..., 1., 1., 1.],\n",
       "         [1., 1., 1., ..., 1., 1., 1.]],\n",
       "\n",
       "        [[1., 1., 1., ..., 1., 1., 1.],\n",
       "         [1., 1., 1., ..., 1., 1., 1.],\n",
       "         [1., 1., 1., ..., 1., 1., 1.],\n",
       "         [1., 1., 1., ..., 1., 1., 1.]],\n",
       "\n",
       "        [[1., 1., 1., ..., 1., 1., 1.],\n",
       "         [1., 1., 1., ..., 1., 1., 1.],\n",
       "         [1., 1., 1., ..., 1., 1., 1.],\n",
       "         [1., 1., 1., ..., 1., 1., 1.]]],\n",
       "\n",
       "\n",
       "       ...,\n",
       "\n",
       "\n",
       "       [[[1., 1., 1., ..., 1., 1., 1.],\n",
       "         [1., 1., 1., ..., 1., 1., 1.],\n",
       "         [1., 1., 1., ..., 1., 1., 1.],\n",
       "         [1., 1., 1., ..., 1., 1., 1.]],\n",
       "\n",
       "        [[1., 1., 1., ..., 1., 1., 1.],\n",
       "         [1., 1., 1., ..., 1., 1., 1.],\n",
       "         [1., 1., 1., ..., 1., 1., 1.],\n",
       "         [1., 1., 1., ..., 1., 1., 1.]],\n",
       "\n",
       "        [[1., 1., 1., ..., 1., 1., 1.],\n",
       "         [1., 1., 1., ..., 1., 1., 1.],\n",
       "         [1., 1., 1., ..., 1., 1., 1.],\n",
       "         [1., 1., 1., ..., 1., 1., 1.]]],\n",
       "\n",
       "\n",
       "       [[[1., 1., 1., ..., 1., 1., 1.],\n",
       "         [1., 1., 1., ..., 1., 1., 1.],\n",
       "         [1., 1., 1., ..., 1., 1., 1.],\n",
       "         [1., 1., 1., ..., 1., 1., 1.]],\n",
       "\n",
       "        [[1., 1., 1., ..., 1., 1., 1.],\n",
       "         [1., 1., 1., ..., 1., 1., 1.],\n",
       "         [1., 1., 1., ..., 1., 1., 1.],\n",
       "         [1., 1., 1., ..., 1., 1., 1.]],\n",
       "\n",
       "        [[1., 1., 1., ..., 1., 1., 1.],\n",
       "         [1., 1., 1., ..., 1., 1., 1.],\n",
       "         [1., 1., 1., ..., 1., 1., 1.],\n",
       "         [1., 1., 1., ..., 1., 1., 1.]]],\n",
       "\n",
       "\n",
       "       [[[1., 1., 1., ..., 1., 1., 1.],\n",
       "         [1., 1., 1., ..., 1., 1., 1.],\n",
       "         [1., 1., 1., ..., 1., 1., 1.],\n",
       "         [1., 1., 1., ..., 1., 1., 1.]],\n",
       "\n",
       "        [[1., 1., 1., ..., 1., 1., 1.],\n",
       "         [1., 1., 1., ..., 1., 1., 1.],\n",
       "         [1., 1., 1., ..., 1., 1., 1.],\n",
       "         [1., 1., 1., ..., 1., 1., 1.]],\n",
       "\n",
       "        [[1., 1., 1., ..., 1., 1., 1.],\n",
       "         [1., 1., 1., ..., 1., 1., 1.],\n",
       "         [1., 1., 1., ..., 1., 1., 1.],\n",
       "         [1., 1., 1., ..., 1., 1., 1.]]]])"
      ]
     },
     "execution_count": 71,
     "metadata": {},
     "output_type": "execute_result"
    }
   ],
   "source": [
    "np.ones((108,3,4,7)) * np.ones((108,3,4,1))"
   ]
  },
  {
   "cell_type": "code",
   "execution_count": 80,
   "id": "2bb6d572-1107-4b66-9ce9-cfb2f3ba6e9f",
   "metadata": {},
   "outputs": [
    {
     "data": {
      "text/plain": [
       "array([[0.66356864, 0.66356864, 0.66356864, 0.66356864, 0.66356864,\n",
       "        0.66356864, 0.66356864],\n",
       "       [0.99916254, 0.99916254, 0.99916254, 0.99916254, 0.99916254,\n",
       "        0.99916254, 0.99916254],\n",
       "       [0.00654393, 0.00654393, 0.00654393, 0.00654393, 0.00654393,\n",
       "        0.00654393, 0.00654393],\n",
       "       [0.43288016, 0.43288016, 0.43288016, 0.43288016, 0.43288016,\n",
       "        0.43288016, 0.43288016]])"
      ]
     },
     "execution_count": 80,
     "metadata": {},
     "output_type": "execute_result"
    }
   ],
   "source": [
    "np.random.random((4, 1)) * np.ones((4, 7))"
   ]
  },
  {
   "cell_type": "code",
   "execution_count": null,
   "id": "dce2726e-1494-436a-8f11-79a60256b7f8",
   "metadata": {},
   "outputs": [],
   "source": []
  }
 ],
 "metadata": {
  "kernelspec": {
   "display_name": "Python 3 (ipykernel)",
   "language": "python",
   "name": "python3"
  },
  "language_info": {
   "codemirror_mode": {
    "name": "ipython",
    "version": 3
   },
   "file_extension": ".py",
   "mimetype": "text/x-python",
   "name": "python",
   "nbconvert_exporter": "python",
   "pygments_lexer": "ipython3",
   "version": "3.9.7"
  }
 },
 "nbformat": 4,
 "nbformat_minor": 5
}
