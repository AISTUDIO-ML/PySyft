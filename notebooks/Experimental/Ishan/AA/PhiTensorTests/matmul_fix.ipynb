{
 "cells": [
  {
   "cell_type": "code",
   "execution_count": 1,
   "id": "492572e3-9678-45aa-8671-4c2863db0006",
   "metadata": {},
   "outputs": [
    {
     "name": "stderr",
     "output_type": "stream",
     "text": [
      "/home/e/anaconda3/envs/Hagrid/lib/python3.9/site-packages/tqdm/auto.py:22: TqdmWarning: IProgress not found. Please update jupyter and ipywidgets. See https://ipywidgets.readthedocs.io/en/stable/user_install.html\n",
      "  from .autonotebook import tqdm as notebook_tqdm\n"
     ]
    }
   ],
   "source": [
    "from syft import PhiTensor, DataSubjectList\n",
    "import numpy as np\n",
    "from syft import nn"
   ]
  },
  {
   "cell_type": "code",
   "execution_count": 2,
   "id": "8ad3aacb-c375-4f9a-8939-34745922a997",
   "metadata": {},
   "outputs": [],
   "source": [
    "pt = PhiTensor(\n",
    "    child=np.ones((50, 50)), \n",
    "    data_subjects=DataSubjectList.from_objs(np.ones((3, 50, 50))* 85), \n",
    "    min_vals=0, \n",
    "    max_vals=1\n",
    ")"
   ]
  },
  {
   "cell_type": "code",
   "execution_count": 3,
   "id": "f7a33e05-9355-4d77-a8c4-da1a4e89ac7c",
   "metadata": {},
   "outputs": [],
   "source": [
    "pt2 = pt = PhiTensor(\n",
    "    child=np.ones((50, 50)), \n",
    "    data_subjects=DataSubjectList.from_objs(np.ones((3, 50, 50))* 86), \n",
    "    min_vals=0, \n",
    "    max_vals=1\n",
    ")"
   ]
  },
  {
   "cell_type": "code",
   "execution_count": 4,
   "id": "ad854d99-243a-4eab-9201-ee1800d688ae",
   "metadata": {},
   "outputs": [
    {
     "data": {
      "text/plain": [
       "(3, 50, 50)"
      ]
     },
     "execution_count": 4,
     "metadata": {},
     "output_type": "execute_result"
    }
   ],
   "source": [
    "pt.data_subjects.shape"
   ]
  },
  {
   "cell_type": "code",
   "execution_count": 5,
   "id": "6dbd24bf-c74d-4208-8ebb-e7c9db957e9d",
   "metadata": {},
   "outputs": [
    {
     "data": {
      "text/plain": [
       "(3, 50, 50)"
      ]
     },
     "execution_count": 5,
     "metadata": {},
     "output_type": "execute_result"
    }
   ],
   "source": [
    "pt.transpose((1,0)).data_subjects.shape"
   ]
  },
  {
   "cell_type": "code",
   "execution_count": 6,
   "id": "61bf11a7-4036-4bbb-9347-1f2fe94a2910",
   "metadata": {},
   "outputs": [
    {
     "data": {
      "text/plain": [
       "<lazyrepeatarray data: 0 -> shape: (50, 50)>"
      ]
     },
     "execution_count": 6,
     "metadata": {},
     "output_type": "execute_result"
    }
   ],
   "source": [
    "pt.min_vals"
   ]
  },
  {
   "cell_type": "code",
   "execution_count": 7,
   "id": "e9862709-ef8c-4979-90e7-3347640793fb",
   "metadata": {},
   "outputs": [],
   "source": [
    "res = pt @ pt2"
   ]
  },
  {
   "cell_type": "code",
   "execution_count": 8,
   "id": "0b0269c6-6c5c-4df5-b530-370890ced35c",
   "metadata": {},
   "outputs": [
    {
     "data": {
      "text/plain": [
       "syft.core.tensor.autodp.gamma_tensor.GammaTensor"
      ]
     },
     "execution_count": 8,
     "metadata": {},
     "output_type": "execute_result"
    }
   ],
   "source": [
    "type(res)"
   ]
  },
  {
   "cell_type": "code",
   "execution_count": 9,
   "id": "2d64158e-d25a-456b-9736-8b0ebd210237",
   "metadata": {},
   "outputs": [
    {
     "data": {
      "text/plain": [
       "array([[[0, 0, 0, ..., 0, 0, 0],\n",
       "        [0, 0, 0, ..., 0, 0, 0],\n",
       "        [0, 0, 0, ..., 0, 0, 0],\n",
       "        ...,\n",
       "        [0, 0, 0, ..., 0, 0, 0],\n",
       "        [0, 0, 0, ..., 0, 0, 0],\n",
       "        [0, 0, 0, ..., 0, 0, 0]],\n",
       "\n",
       "       [[0, 0, 0, ..., 0, 0, 0],\n",
       "        [0, 0, 0, ..., 0, 0, 0],\n",
       "        [0, 0, 0, ..., 0, 0, 0],\n",
       "        ...,\n",
       "        [0, 0, 0, ..., 0, 0, 0],\n",
       "        [0, 0, 0, ..., 0, 0, 0],\n",
       "        [0, 0, 0, ..., 0, 0, 0]],\n",
       "\n",
       "       [[0, 0, 0, ..., 0, 0, 0],\n",
       "        [0, 0, 0, ..., 0, 0, 0],\n",
       "        [0, 0, 0, ..., 0, 0, 0],\n",
       "        ...,\n",
       "        [0, 0, 0, ..., 0, 0, 0],\n",
       "        [0, 0, 0, ..., 0, 0, 0],\n",
       "        [0, 0, 0, ..., 0, 0, 0]]])"
      ]
     },
     "execution_count": 9,
     "metadata": {},
     "output_type": "execute_result"
    }
   ],
   "source": [
    "res.data_subjects.data_subjects_indexed"
   ]
  },
  {
   "cell_type": "code",
   "execution_count": 10,
   "id": "573e58a3-3927-41ad-8800-4622835855bb",
   "metadata": {},
   "outputs": [
    {
     "ename": "SyntaxError",
     "evalue": "invalid syntax (2271897115.py, line 6)",
     "output_type": "error",
     "traceback": [
      "\u001b[0;36m  File \u001b[0;32m\"/tmp/ipykernel_65827/2271897115.py\"\u001b[0;36m, line \u001b[0;32m6\u001b[0m\n\u001b[0;31m    data_subjects_indexed=)\u001b[0m\n\u001b[0m                          ^\u001b[0m\n\u001b[0;31mSyntaxError\u001b[0m\u001b[0;31m:\u001b[0m invalid syntax\n"
     ]
    }
   ],
   "source": [
    "def matmul_dsl(dsl1: DataSubjectList, dsl2: DataSubjectList) -> DataSubjectList:\n",
    "    if len(dsl1.one_hot_lookup) == 1 and len(dsl2.one_hot_lookup) == 1:\n",
    "        \n",
    "        return DataSubjectList(\n",
    "            one_hot_lookup=np.concatenate((dsl1.one_hot_lookup, dsl2.one_hot_lookup)),\n",
    "            data_subjects_indexed=)"
   ]
  },
  {
   "cell_type": "code",
   "execution_count": null,
   "id": "f70495f7-67b8-4476-afe0-9fbba59cfc14",
   "metadata": {},
   "outputs": [],
   "source": [
    "def transpose(*args):\n",
    "    v = []\n",
    "    for i in args[0]:\n",
    "        v.append(i + 1)\n",
    "    # # v = [i + 1  for i in args]\n",
    "    print((0, *[i + 1 for i in args[0]]))"
   ]
  },
  {
   "cell_type": "code",
   "execution_count": null,
   "id": "cd5d300c-e31d-41c8-846e-a7532ac0ef37",
   "metadata": {},
   "outputs": [],
   "source": [
    "transpose((3, 0, 1, 2))"
   ]
  },
  {
   "cell_type": "code",
   "execution_count": 11,
   "id": "58bc6ebc-584f-47d1-97d8-070724160a36",
   "metadata": {},
   "outputs": [
    {
     "data": {
      "text/plain": [
       "(50, 50)"
      ]
     },
     "execution_count": 11,
     "metadata": {},
     "output_type": "execute_result"
    }
   ],
   "source": [
    "pt.shape"
   ]
  },
  {
   "cell_type": "code",
   "execution_count": 16,
   "id": "335f0e11-85de-4029-847f-df76348c113a",
   "metadata": {},
   "outputs": [
    {
     "ename": "IndexError",
     "evalue": "index 4 is out of bounds for axis 0 with size 3",
     "output_type": "error",
     "traceback": [
      "\u001b[0;31m---------------------------------------------------------------------------\u001b[0m",
      "\u001b[0;31mIndexError\u001b[0m                                Traceback (most recent call last)",
      "\u001b[0;32m/tmp/ipykernel_65827/704247409.py\u001b[0m in \u001b[0;36m<module>\u001b[0;34m\u001b[0m\n\u001b[0;32m----> 1\u001b[0;31m \u001b[0mpt\u001b[0m\u001b[0;34m[\u001b[0m\u001b[0;36m4\u001b[0m\u001b[0;34m,\u001b[0m \u001b[0mrange\u001b[0m\u001b[0;34m(\u001b[0m\u001b[0;36m5\u001b[0m\u001b[0;34m)\u001b[0m\u001b[0;34m]\u001b[0m\u001b[0;34m.\u001b[0m\u001b[0mshape\u001b[0m\u001b[0;34m\u001b[0m\u001b[0;34m\u001b[0m\u001b[0m\n\u001b[0m",
      "\u001b[0;32m~/PycharmProjects/PySyft/packages/syft/src/syft/core/tensor/autodp/phi_tensor.py\u001b[0m in \u001b[0;36m__getitem__\u001b[0;34m(self, item)\u001b[0m\n\u001b[1;32m   1113\u001b[0m                 data_subjects=DataSubjectList(\n\u001b[1;32m   1114\u001b[0m                     \u001b[0mone_hot_lookup\u001b[0m\u001b[0;34m=\u001b[0m\u001b[0mself\u001b[0m\u001b[0;34m.\u001b[0m\u001b[0mdata_subjects\u001b[0m\u001b[0;34m.\u001b[0m\u001b[0mone_hot_lookup\u001b[0m\u001b[0;34m,\u001b[0m\u001b[0;34m\u001b[0m\u001b[0;34m\u001b[0m\u001b[0m\n\u001b[0;32m-> 1115\u001b[0;31m                     data_subjects_indexed=self.data_subjects.data_subjects_indexed[\n\u001b[0m\u001b[1;32m   1116\u001b[0m                         \u001b[0mitem\u001b[0m\u001b[0;34m\u001b[0m\u001b[0;34m\u001b[0m\u001b[0m\n\u001b[1;32m   1117\u001b[0m                     ],\n",
      "\u001b[0;31mIndexError\u001b[0m: index 4 is out of bounds for axis 0 with size 3"
     ]
    }
   ],
   "source": [
    "pt[4, range(5)].shape"
   ]
  },
  {
   "cell_type": "code",
   "execution_count": 17,
   "id": "79c5a8df-9da4-41e4-8819-347c1a887d29",
   "metadata": {},
   "outputs": [
    {
     "data": {
      "text/plain": [
       "array([[0.36563592, 0.35021514, 0.85405306, 0.66786969, 0.27231544],\n",
       "       [0.88286685, 0.6751053 , 0.982616  , 0.06695986, 0.32359927],\n",
       "       [0.67388746, 0.46030775, 0.51858374, 0.18527289, 0.42502409],\n",
       "       [0.88378691, 0.94493565, 0.12290539, 0.14932294, 0.09662647],\n",
       "       [0.56339991, 0.82544021, 0.82310523, 0.69126586, 0.41417338]])"
      ]
     },
     "execution_count": 17,
     "metadata": {},
     "output_type": "execute_result"
    }
   ],
   "source": [
    "d = np.random.random((5,5))\n",
    "d"
   ]
  },
  {
   "cell_type": "code",
   "execution_count": 18,
   "id": "c01d6e30-794b-46eb-8466-9637b316cc66",
   "metadata": {},
   "outputs": [
    {
     "data": {
      "text/plain": [
       "array([3, 3, 1, 4, 2])"
      ]
     },
     "execution_count": 18,
     "metadata": {},
     "output_type": "execute_result"
    }
   ],
   "source": [
    "d.argmax(axis=0)"
   ]
  },
  {
   "cell_type": "code",
   "execution_count": 19,
   "id": "c9d60bc1-c4af-4bef-9a2a-d725ff160ed3",
   "metadata": {},
   "outputs": [
    {
     "data": {
      "text/plain": [
       "7"
      ]
     },
     "execution_count": 19,
     "metadata": {},
     "output_type": "execute_result"
    }
   ],
   "source": [
    "d.argmax()"
   ]
  },
  {
   "cell_type": "code",
   "execution_count": 20,
   "id": "77c08a97-f082-4460-9511-a12776497014",
   "metadata": {},
   "outputs": [
    {
     "data": {
      "text/plain": [
       "array([2, 2, 0, 1, 1])"
      ]
     },
     "execution_count": 20,
     "metadata": {},
     "output_type": "execute_result"
    }
   ],
   "source": [
    "d.argmax(axis=1)"
   ]
  },
  {
   "cell_type": "code",
   "execution_count": 21,
   "id": "a5b511b1-bd7f-49df-bea7-97606b701161",
   "metadata": {},
   "outputs": [
    {
     "data": {
      "text/plain": [
       "array([0.88378691, 0.94493565, 0.982616  , 0.69126586, 0.42502409])"
      ]
     },
     "execution_count": 21,
     "metadata": {},
     "output_type": "execute_result"
    }
   ],
   "source": [
    "d[d.argmax(axis=0), range(d.argmax(axis=0).size)]"
   ]
  },
  {
   "cell_type": "code",
   "execution_count": 22,
   "id": "7a8ed180-2b8b-49bb-b655-472db64d3ec7",
   "metadata": {},
   "outputs": [],
   "source": [
    "from syft import lazyrepeatarray as lra\n",
    "min_d = lra(7, (5,5))"
   ]
  },
  {
   "cell_type": "code",
   "execution_count": 27,
   "id": "60e51468-4e8f-426f-a5f2-be46068fc81f",
   "metadata": {},
   "outputs": [
    {
     "data": {
      "text/plain": [
       "<lazyrepeatarray data: 7 -> shape: (5,)>"
      ]
     },
     "execution_count": 27,
     "metadata": {},
     "output_type": "execute_result"
    }
   ],
   "source": [
    "min_d[d.argmax(axis=0), range(d.argmax(axis=0).size)]"
   ]
  },
  {
   "cell_type": "code",
   "execution_count": null,
   "id": "993bb745-7953-49c4-b6cf-fa944f8562d8",
   "metadata": {},
   "outputs": [],
   "source": []
  }
 ],
 "metadata": {
  "kernelspec": {
   "display_name": "Python 3 (ipykernel)",
   "language": "python",
   "name": "python3"
  },
  "language_info": {
   "codemirror_mode": {
    "name": "ipython",
    "version": 3
   },
   "file_extension": ".py",
   "mimetype": "text/x-python",
   "name": "python",
   "nbconvert_exporter": "python",
   "pygments_lexer": "ipython3",
   "version": "3.9.7"
  }
 },
 "nbformat": 4,
 "nbformat_minor": 5
}
