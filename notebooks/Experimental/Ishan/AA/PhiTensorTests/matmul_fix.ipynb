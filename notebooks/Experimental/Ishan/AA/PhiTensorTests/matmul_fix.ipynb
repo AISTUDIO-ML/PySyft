{
 "cells": [
  {
   "cell_type": "code",
   "execution_count": 1,
   "id": "492572e3-9678-45aa-8671-4c2863db0006",
   "metadata": {},
   "outputs": [
    {
     "name": "stderr",
     "output_type": "stream",
     "text": [
      "/home/e/anaconda3/envs/Hagrid/lib/python3.9/site-packages/tqdm/auto.py:22: TqdmWarning: IProgress not found. Please update jupyter and ipywidgets. See https://ipywidgets.readthedocs.io/en/stable/user_install.html\n",
      "  from .autonotebook import tqdm as notebook_tqdm\n"
     ]
    }
   ],
   "source": [
    "from syft import PhiTensor, DataSubjectList\n",
    "import numpy as np\n",
    "from syft import nn"
   ]
  },
  {
   "cell_type": "code",
   "execution_count": 2,
   "id": "8ad3aacb-c375-4f9a-8939-34745922a997",
   "metadata": {},
   "outputs": [],
   "source": [
    "pt = PhiTensor(\n",
    "    child=np.ones((50, 50)), \n",
    "    data_subjects=DataSubjectList.from_objs(np.ones((50, 50))* 75), \n",
    "    min_vals=0, \n",
    "    max_vals=1\n",
    ")"
   ]
  },
  {
   "cell_type": "code",
   "execution_count": 3,
   "id": "f7a33e05-9355-4d77-a8c4-da1a4e89ac7c",
   "metadata": {},
   "outputs": [],
   "source": [
    "pt2 = PhiTensor(\n",
    "    child=np.ones((50, 50)), \n",
    "    data_subjects=DataSubjectList.from_objs(np.ones((50, 50))* 6), \n",
    "    min_vals=0, \n",
    "    max_vals=1\n",
    ")"
   ]
  },
  {
   "cell_type": "code",
   "execution_count": 4,
   "id": "34f23c25-0f30-40ab-a2f6-9cf9754861bf",
   "metadata": {},
   "outputs": [],
   "source": [
    "res = pt - pt2"
   ]
  },
  {
   "cell_type": "code",
   "execution_count": 5,
   "id": "41e0e2bf-7108-4d63-ae00-bf25660d0e8a",
   "metadata": {},
   "outputs": [
    {
     "data": {
      "text/plain": [
       "(100, 50)"
      ]
     },
     "execution_count": 5,
     "metadata": {},
     "output_type": "execute_result"
    }
   ],
   "source": [
    "res.data_subjects.shape"
   ]
  },
  {
   "cell_type": "code",
   "execution_count": 6,
   "id": "86bb732e-5201-40e4-b339-191bb1d15ad5",
   "metadata": {},
   "outputs": [
    {
     "data": {
      "text/plain": [
       "array([75.,  6.])"
      ]
     },
     "execution_count": 6,
     "metadata": {},
     "output_type": "execute_result"
    }
   ],
   "source": [
    "res.data_subjects.one_hot_lookup"
   ]
  },
  {
   "cell_type": "code",
   "execution_count": 7,
   "id": "57726c4b-d290-43aa-a62f-f657f598b646",
   "metadata": {},
   "outputs": [
    {
     "name": "stdout",
     "output_type": "stream",
     "text": [
      "<class 'numpy.ndarray'> <class 'numpy.ndarray'>\n"
     ]
    }
   ],
   "source": [
    "res = pt @ pt2"
   ]
  },
  {
   "cell_type": "code",
   "execution_count": 8,
   "id": "df28c4b9-3e59-4f1a-96ec-3f8551cefa27",
   "metadata": {},
   "outputs": [
    {
     "data": {
      "text/plain": [
       "((50, 50), (2, 50, 50))"
      ]
     },
     "execution_count": 8,
     "metadata": {},
     "output_type": "execute_result"
    }
   ],
   "source": [
    "res.shape, res.data_subjects.shape"
   ]
  },
  {
   "cell_type": "code",
   "execution_count": 9,
   "id": "b1378529-5ef6-4fb1-957e-c6d2c5844245",
   "metadata": {},
   "outputs": [
    {
     "data": {
      "text/plain": [
       "array([[50., 50., 50., ..., 50., 50., 50.],\n",
       "       [50., 50., 50., ..., 50., 50., 50.],\n",
       "       [50., 50., 50., ..., 50., 50., 50.],\n",
       "       ...,\n",
       "       [50., 50., 50., ..., 50., 50., 50.],\n",
       "       [50., 50., 50., ..., 50., 50., 50.],\n",
       "       [50., 50., 50., ..., 50., 50., 50.]])"
      ]
     },
     "execution_count": 9,
     "metadata": {},
     "output_type": "execute_result"
    }
   ],
   "source": [
    "np.dot(pt.child, pt2.child)"
   ]
  },
  {
   "cell_type": "code",
   "execution_count": 10,
   "id": "993bb745-7953-49c4-b6cf-fa944f8562d8",
   "metadata": {},
   "outputs": [],
   "source": [
    "import numpy as np\n",
    "dsi1 = np.ones((3, 50, 50))\n",
    "dsi2 = np.ones((2, 50, 50))"
   ]
  },
  {
   "cell_type": "code",
   "execution_count": 11,
   "id": "91a16181-14d1-407e-b5cd-79fe8cff624b",
   "metadata": {},
   "outputs": [],
   "source": [
    "res = np.concatenate((dsi1, dsi2))"
   ]
  },
  {
   "cell_type": "code",
   "execution_count": 12,
   "id": "2a2c90cf-b4f5-47b5-ac73-320a336f529c",
   "metadata": {},
   "outputs": [
    {
     "data": {
      "text/plain": [
       "(5, 50, 50)"
      ]
     },
     "execution_count": 12,
     "metadata": {},
     "output_type": "execute_result"
    }
   ],
   "source": [
    "res.shape"
   ]
  },
  {
   "cell_type": "code",
   "execution_count": 13,
   "id": "a88284a5-50ca-4d5b-937a-0ad0976ad164",
   "metadata": {},
   "outputs": [
    {
     "data": {
      "text/plain": [
       "(array([6.]), array([75.]))"
      ]
     },
     "execution_count": 13,
     "metadata": {},
     "output_type": "execute_result"
    }
   ],
   "source": [
    "pt2.data_subjects.one_hot_lookup, pt.data_subjects.one_hot_lookup, "
   ]
  },
  {
   "cell_type": "code",
   "execution_count": 14,
   "id": "397f1669-3b2e-4be9-a939-3307a8386c8f",
   "metadata": {},
   "outputs": [],
   "source": [
    "def combine_dsi(dsl1: DataSubjectList, dsl2: DataSubjectList):\n",
    "    dsl1_dims = len(dsl1.shape)\n",
    "    dsl2_dims = len(dsl2.shape)\n",
    "    if dsl1_dims == dsl2_dims:\n",
    "        output_shape = (dsl1.shape[0] + dsl2.shape[0], *dsl1.shape[1:])\n",
    "    elif dsl1_dims - dsl2_dims == 1:\n",
    "        dsl2.data_subjects_indexed = np.expand_dims(dsl2.data_subjects_indexed, 0)\n",
    "        output_shape = (dsl1.shape[0] + dsl2.shape[0], *dsl1.shape[1:])\n",
    "    elif dsl2_dims - dsl1_dims == 1:\n",
    "        dsl1.data_subjects_indexed = np.expand_dims(dsl1.data_subjects_indexed, 0)\n",
    "        output_shape = (dsl1.shape[0] + dsl2.shape[0], *dsl1.shape[1:])\n",
    "    else:\n",
    "        raise Exception(f\"Shapes of DSLs incompatible- are they meant to be broadcasted: {dsl1.shape}, {dsl2.shape}\")\n",
    "    \n",
    "    output_dsl = DataSubjectList(one_hot_lookup=np.array([]),\n",
    "                                 data_subjects_indexed=np.empty(output_shape))\n",
    "    \n",
    "    output_dsl[:dsl1.shape[0]] = dsl1\n",
    "    output_dsl[dsl1.shape[0]:] = dsl2\n",
    "    return output_dsl"
   ]
  },
  {
   "cell_type": "code",
   "execution_count": 15,
   "id": "7e96dc78-4959-4064-92c9-ab811045a29b",
   "metadata": {},
   "outputs": [],
   "source": [
    "res = combine_dsi(pt.data_subjects, pt2.data_subjects[0])"
   ]
  },
  {
   "cell_type": "code",
   "execution_count": 16,
   "id": "9c24cafd-eb67-4cfc-b359-d94158f0a048",
   "metadata": {},
   "outputs": [],
   "source": [
    "res2 = DataSubjectList.combine(pt.data_subjects, pt2.data_subjects)"
   ]
  },
  {
   "cell_type": "code",
   "execution_count": 17,
   "id": "d80bda32-68e7-4818-8cb1-9103f7c2e46a",
   "metadata": {},
   "outputs": [
    {
     "data": {
      "text/plain": [
       "(2, 50, 50)"
      ]
     },
     "execution_count": 17,
     "metadata": {},
     "output_type": "execute_result"
    }
   ],
   "source": [
    "res2.shape"
   ]
  },
  {
   "cell_type": "code",
   "execution_count": 18,
   "id": "dba58d94-9cbe-449a-8143-73e6bae1f143",
   "metadata": {},
   "outputs": [
    {
     "data": {
      "text/plain": [
       "(51, 50)"
      ]
     },
     "execution_count": 18,
     "metadata": {},
     "output_type": "execute_result"
    }
   ],
   "source": [
    "res.shape"
   ]
  },
  {
   "cell_type": "code",
   "execution_count": 19,
   "id": "f072971f-5a01-4d4c-9a2d-19c67de298d5",
   "metadata": {},
   "outputs": [
    {
     "data": {
      "text/plain": [
       "array([75.,  6.])"
      ]
     },
     "execution_count": 19,
     "metadata": {},
     "output_type": "execute_result"
    }
   ],
   "source": [
    "res.one_hot_lookup"
   ]
  },
  {
   "cell_type": "code",
   "execution_count": 20,
   "id": "6e50ed15-75d8-4104-b25b-8cb80a290079",
   "metadata": {},
   "outputs": [
    {
     "data": {
      "text/plain": [
       "1"
      ]
     },
     "execution_count": 20,
     "metadata": {},
     "output_type": "execute_result"
    }
   ],
   "source": [
    "np.empty(()).size"
   ]
  },
  {
   "cell_type": "code",
   "execution_count": 21,
   "id": "58ab424c-a777-4d14-b9e6-9ef3f4f681a5",
   "metadata": {},
   "outputs": [
    {
     "data": {
      "text/plain": [
       "0"
      ]
     },
     "execution_count": 21,
     "metadata": {},
     "output_type": "execute_result"
    }
   ],
   "source": [
    "np.array([]).size"
   ]
  },
  {
   "cell_type": "code",
   "execution_count": 22,
   "id": "ca8633c3-62c6-4fca-bdd2-89442e7638d4",
   "metadata": {},
   "outputs": [
    {
     "data": {
      "text/plain": [
       "0"
      ]
     },
     "execution_count": 22,
     "metadata": {},
     "output_type": "execute_result"
    }
   ],
   "source": [
    "len(np.array([]))"
   ]
  },
  {
   "cell_type": "code",
   "execution_count": 23,
   "id": "0c980144-4965-4a74-8f92-c98522f72a08",
   "metadata": {},
   "outputs": [],
   "source": [
    "import numpy as np"
   ]
  },
  {
   "cell_type": "code",
   "execution_count": 24,
   "id": "6ea535d5-fd45-4e7c-8957-a5bb432df820",
   "metadata": {},
   "outputs": [
    {
     "data": {
      "text/plain": [
       "(1, 50, 50)"
      ]
     },
     "execution_count": 24,
     "metadata": {},
     "output_type": "execute_result"
    }
   ],
   "source": [
    "dsl = np.expand_dims(np.ones((50,50)), axis=0)\n",
    "dsl.shape"
   ]
  },
  {
   "cell_type": "code",
   "execution_count": 25,
   "id": "6682deef-7c45-46c8-8a92-ff7cbffe8747",
   "metadata": {},
   "outputs": [
    {
     "data": {
      "text/plain": [
       "(1, 50)"
      ]
     },
     "execution_count": 25,
     "metadata": {},
     "output_type": "execute_result"
    }
   ],
   "source": [
    "dsl.sum(axis=1).shape"
   ]
  },
  {
   "cell_type": "code",
   "execution_count": 26,
   "id": "cc3d7edb-34df-4b08-9aa6-e1d625d58e94",
   "metadata": {},
   "outputs": [
    {
     "data": {
      "text/plain": [
       "(3, 46, 54)"
      ]
     },
     "execution_count": 26,
     "metadata": {},
     "output_type": "execute_result"
    }
   ],
   "source": [
    "dsl = np.ones((3, 46,54))\n",
    "dsl.shape"
   ]
  },
  {
   "cell_type": "code",
   "execution_count": 27,
   "id": "74db0b32-72d9-4efd-8d10-accd8870acfb",
   "metadata": {},
   "outputs": [
    {
     "name": "stdout",
     "output_type": "stream",
     "text": [
      "[[46. 46. 46. 46. 46. 46. 46. 46. 46. 46. 46. 46. 46. 46. 46. 46. 46. 46.\n",
      "  46. 46. 46. 46. 46. 46. 46. 46. 46. 46. 46. 46. 46. 46. 46. 46. 46. 46.\n",
      "  46. 46. 46. 46. 46. 46. 46. 46. 46. 46. 46. 46. 46. 46. 46. 46. 46. 46.]\n",
      " [46. 46. 46. 46. 46. 46. 46. 46. 46. 46. 46. 46. 46. 46. 46. 46. 46. 46.\n",
      "  46. 46. 46. 46. 46. 46. 46. 46. 46. 46. 46. 46. 46. 46. 46. 46. 46. 46.\n",
      "  46. 46. 46. 46. 46. 46. 46. 46. 46. 46. 46. 46. 46. 46. 46. 46. 46. 46.]\n",
      " [46. 46. 46. 46. 46. 46. 46. 46. 46. 46. 46. 46. 46. 46. 46. 46. 46. 46.\n",
      "  46. 46. 46. 46. 46. 46. 46. 46. 46. 46. 46. 46. 46. 46. 46. 46. 46. 46.\n",
      "  46. 46. 46. 46. 46. 46. 46. 46. 46. 46. 46. 46. 46. 46. 46. 46. 46. 46.]]\n"
     ]
    },
    {
     "data": {
      "text/plain": [
       "(3, 54)"
      ]
     },
     "execution_count": 27,
     "metadata": {},
     "output_type": "execute_result"
    }
   ],
   "source": [
    "print((dsl.sum(axis=1)))\n",
    "\n",
    "dsl.sum(axis=1).shape"
   ]
  },
  {
   "cell_type": "code",
   "execution_count": 28,
   "id": "4c5b455e-4ac9-44ec-bcae-5959d5ae82b3",
   "metadata": {},
   "outputs": [
    {
     "name": "stdout",
     "output_type": "stream",
     "text": [
      "Hi\n"
     ]
    }
   ],
   "source": [
    "if not np.array([5]) == np.array([6]):\n",
    "    print(\"Hi\")"
   ]
  },
  {
   "cell_type": "code",
   "execution_count": 29,
   "id": "d16dad29-2fe9-4724-a27e-732806341873",
   "metadata": {},
   "outputs": [
    {
     "name": "stdout",
     "output_type": "stream",
     "text": [
      "[[['A' 'C' 'C' 'B' 'D']\n",
      "  ['A' 'E' 'D' 'F' 'A']\n",
      "  ['B' 'C' 'B' 'C' 'D']\n",
      "  ['E' 'D' 'A' 'B' 'F']\n",
      "  ['E' 'D' 'E' 'B' 'B']]\n",
      "\n",
      " [['E' 'C' 'B' 'D' 'A']\n",
      "  ['C' 'F' 'D' 'E' 'A']\n",
      "  ['F' 'D' 'D' 'F' 'E']\n",
      "  ['A' 'E' 'E' 'E' 'F']\n",
      "  ['B' 'B' 'E' 'B' 'F']]]\n"
     ]
    },
    {
     "data": {
      "text/plain": [
       "(10, 5)"
      ]
     },
     "execution_count": 29,
     "metadata": {},
     "output_type": "execute_result"
    }
   ],
   "source": [
    "a = np.random.choice([\"A\", \"B\", \"C\", \"D\", \"E\", \"F\"],(2, 5,5))\n",
    "print(a)\n",
    "a.reshape((-1, a.shape[1])).shape"
   ]
  },
  {
   "cell_type": "code",
   "execution_count": 30,
   "id": "6ccde633-1bc8-40af-9849-4cebf394aa98",
   "metadata": {},
   "outputs": [
    {
     "data": {
      "text/plain": [
       "array([[[0.07785305, 0.32329597, 0.99889023, ..., 0.75414862,\n",
       "         0.4149849 , 0.4900831 ],\n",
       "        [0.07785305, 0.32329597, 0.99889023, ..., 0.75414862,\n",
       "         0.4149849 , 0.4900831 ],\n",
       "        [0.07785305, 0.32329597, 0.99889023, ..., 0.75414862,\n",
       "         0.4149849 , 0.4900831 ],\n",
       "        ...,\n",
       "        [0.07785305, 0.32329597, 0.99889023, ..., 0.75414862,\n",
       "         0.4149849 , 0.4900831 ],\n",
       "        [0.07785305, 0.32329597, 0.99889023, ..., 0.75414862,\n",
       "         0.4149849 , 0.4900831 ],\n",
       "        [0.07785305, 0.32329597, 0.99889023, ..., 0.75414862,\n",
       "         0.4149849 , 0.4900831 ]],\n",
       "\n",
       "       [[0.07785305, 0.32329597, 0.99889023, ..., 0.75414862,\n",
       "         0.4149849 , 0.4900831 ],\n",
       "        [0.07785305, 0.32329597, 0.99889023, ..., 0.75414862,\n",
       "         0.4149849 , 0.4900831 ],\n",
       "        [0.07785305, 0.32329597, 0.99889023, ..., 0.75414862,\n",
       "         0.4149849 , 0.4900831 ],\n",
       "        ...,\n",
       "        [0.07785305, 0.32329597, 0.99889023, ..., 0.75414862,\n",
       "         0.4149849 , 0.4900831 ],\n",
       "        [0.07785305, 0.32329597, 0.99889023, ..., 0.75414862,\n",
       "         0.4149849 , 0.4900831 ],\n",
       "        [0.07785305, 0.32329597, 0.99889023, ..., 0.75414862,\n",
       "         0.4149849 , 0.4900831 ]],\n",
       "\n",
       "       [[0.07785305, 0.32329597, 0.99889023, ..., 0.75414862,\n",
       "         0.4149849 , 0.4900831 ],\n",
       "        [0.07785305, 0.32329597, 0.99889023, ..., 0.75414862,\n",
       "         0.4149849 , 0.4900831 ],\n",
       "        [0.07785305, 0.32329597, 0.99889023, ..., 0.75414862,\n",
       "         0.4149849 , 0.4900831 ],\n",
       "        ...,\n",
       "        [0.07785305, 0.32329597, 0.99889023, ..., 0.75414862,\n",
       "         0.4149849 , 0.4900831 ],\n",
       "        [0.07785305, 0.32329597, 0.99889023, ..., 0.75414862,\n",
       "         0.4149849 , 0.4900831 ],\n",
       "        [0.07785305, 0.32329597, 0.99889023, ..., 0.75414862,\n",
       "         0.4149849 , 0.4900831 ]]])"
      ]
     },
     "execution_count": 30,
     "metadata": {},
     "output_type": "execute_result"
    }
   ],
   "source": [
    "np.ones((3, 46, 46)) * np.random.random((46))"
   ]
  },
  {
   "cell_type": "code",
   "execution_count": 31,
   "id": "f5cc1664-b4aa-4fd3-b191-2e6bbba30c32",
   "metadata": {},
   "outputs": [],
   "source": [
    "def matmul(dsl1: DataSubjectList, dsl2: DataSubjectList):\n",
    "    dsl1_len = len(dsl1.shape)\n",
    "    dsl2_len = len(dsl2.shape)\n",
    "    print(dsl2.shape)\n",
    "    dsl1_target_shape = (*dsl1.shape[:-1], 1) if dsl1_len == 2 else (*dsl1.shape[1:-1], 1)\n",
    "    dsl2_target_shape = (1, *dsl2.shape[:-3], dsl2.shape[-1]) if dsl2_len == 2 else (*dsl2.shape[1:-2], 1, dsl2.shape[-1])\n",
    "    \n",
    "    print(\"target_shapes\", dsl1_target_shape, dsl2_target_shape)\n",
    "    \n",
    "#     if dsl1_len == 3:\n",
    "#         dsl1_target_shape = (dsl1.shape[1], 1) # *dsl1.shape[:2]\n",
    "#         dsl2_target_shape = (1, dsl2.shape[-1]) # dsl2.shape[0], \n",
    "#     elif dsl1_len == 2:\n",
    "#         dsl1_target_shape = tuple([dsl1.shape[0], 1])\n",
    "#         dsl2_target_shape = tuple([1, dsl2.shape[-1]])\n",
    "#     else:\n",
    "#         raise NotImplementedError\n",
    "\n",
    "    summed_dsl1 = dsl1.sum(target_shape=dsl1_target_shape)\n",
    "    summed_dsl2 = dsl2.sum(target_shape=dsl2_target_shape)\n",
    "    print(\"summed_ds\", summed_dsl1.shape, summed_dsl2.shape)\n",
    "    \n",
    "    # We need to project these data subject arrays to their entire row/column respectively\n",
    "    summed_dsl1.data_subjects_indexed = np.ones((*summed_dsl1.shape[:-1], summed_dsl2.shape[-1])) * summed_dsl1.data_subjects_indexed\n",
    "    summed_dsl2.data_subjects_indexed = np.ones((*summed_dsl2.shape[:-2], summed_dsl1.shape[-2], summed_dsl2.shape[-1])) * summed_dsl2.data_subjects_indexed\n",
    "    \n",
    "    output_ds = DataSubjectList.combine_dsi(summed_dsl1, summed_dsl2)\n",
    "    output_ds.data_subjects_indexed = np.unique(output_ds.data_subjects_indexed, axis=0)\n",
    "    return output_ds"
   ]
  },
  {
   "cell_type": "code",
   "execution_count": 32,
   "id": "4e6e46f7-78ef-4038-92f5-c95a95a426cf",
   "metadata": {},
   "outputs": [
    {
     "name": "stdout",
     "output_type": "stream",
     "text": [
      "(4, 54) (54, 7)\n",
      "(54, 7)\n",
      "target_shapes (4, 1) (1, 7)\n",
      "summed_ds (54, 4, 1) (54, 1, 7)\n"
     ]
    },
    {
     "data": {
      "text/plain": [
       "(2, 4, 7)"
      ]
     },
     "execution_count": 32,
     "metadata": {},
     "output_type": "execute_result"
    }
   ],
   "source": [
    "def test_matmul_2d():\n",
    "    pt1 = PhiTensor(\n",
    "        child=np.random.random((4, 54)), \n",
    "        data_subjects=DataSubjectList.from_objs(np.random.choice([\"Ishan\"], (4, 54))), \n",
    "        min_vals=0, \n",
    "        max_vals=1\n",
    "    )\n",
    "\n",
    "    pt2 = PhiTensor(\n",
    "        child=np.random.random((54, 7)), \n",
    "        data_subjects=DataSubjectList.from_objs(np.random.choice([\"John Cena\"], (54, 7))), \n",
    "        min_vals=0, \n",
    "        max_vals=1\n",
    "    )\n",
    "    print(pt1.data_subjects.shape, pt2.data_subjects.shape)\n",
    "    return matmul(pt1.data_subjects, pt2.data_subjects)\n",
    "\n",
    "test_matmul_2d().shape"
   ]
  },
  {
   "cell_type": "code",
   "execution_count": 33,
   "id": "824155b7-399a-4e35-a9a8-29d34f236adf",
   "metadata": {},
   "outputs": [
    {
     "name": "stdout",
     "output_type": "stream",
     "text": [
      "(2, 4, 54) (2, 54, 7)\n",
      "(2, 54, 7)\n",
      "target_shapes (4, 1) (1, 7)\n",
      "summed_ds (108, 4, 1) (108, 1, 7)\n"
     ]
    },
    {
     "data": {
      "text/plain": [
       "(4, 4, 7)"
      ]
     },
     "execution_count": 33,
     "metadata": {},
     "output_type": "execute_result"
    }
   ],
   "source": [
    "from syft import GammaTensor, lazyrepeatarray\n",
    "\n",
    "def test_matmul_3d():\n",
    "    \n",
    "    # (2, 4, 54)\n",
    "    gt1 = GammaTensor(\n",
    "        child=np.random.random((4, 54)), \n",
    "        data_subjects=DataSubjectList.from_objs(\n",
    "            np.concatenate((\n",
    "                np.random.choice([\"Ishan\"], (1, 4, 54)),\n",
    "                np.random.choice([\"John Cena\"], (1, 4, 54))\n",
    "            )),\n",
    "        ),\n",
    "        min_vals=lazyrepeatarray(0, (4, 54)) , \n",
    "        max_vals=lazyrepeatarray(1, (4, 54))\n",
    "    )\n",
    "\n",
    "    gt2 = GammaTensor(\n",
    "        child=np.random.random((54, 7)), \n",
    "        data_subjects=DataSubjectList.from_objs(\n",
    "            np.concatenate(( \n",
    "                np.random.choice([\"Hulk Hogan\"], (1, 54, 7)),\n",
    "                np.random.choice([\"Potato\"], (1, 54, 7))\n",
    "            )),\n",
    "        ),\n",
    "        min_vals=lazyrepeatarray(0, (54, 7)) , \n",
    "        max_vals=lazyrepeatarray(1, (54, 7))\n",
    "    )\n",
    "    print(gt1.data_subjects.shape, gt2.data_subjects.shape)\n",
    "    return matmul(gt1.data_subjects, gt2.data_subjects)\n",
    "\n",
    "res3d = test_matmul_3d()\n",
    "res3d.shape"
   ]
  },
  {
   "cell_type": "code",
   "execution_count": 34,
   "id": "b90833ec-f488-49e6-a8ff-4d6177c4cbd1",
   "metadata": {},
   "outputs": [
    {
     "data": {
      "text/plain": [
       "array([[0., 0., 0., 0., 0., 0., 0.],\n",
       "       [0., 0., 0., 0., 0., 0., 0.],\n",
       "       [0., 0., 0., 0., 0., 0., 0.],\n",
       "       [0., 0., 0., 0., 0., 0., 0.]])"
      ]
     },
     "execution_count": 34,
     "metadata": {},
     "output_type": "execute_result"
    }
   ],
   "source": [
    "res3d.data_subjects_indexed[0]"
   ]
  },
  {
   "cell_type": "code",
   "execution_count": 35,
   "id": "121fd148-9f74-44c5-9f69-4969d2049cfd",
   "metadata": {},
   "outputs": [
    {
     "data": {
      "text/plain": [
       "array([[0., 0., 0., 0., 0., 0., 0., 0., 0., 0., 0., 0., 0., 0., 0., 0.,\n",
       "        0., 0., 0., 0., 0., 0., 0., 0., 0., 0., 0., 0., 0., 0., 0., 0.,\n",
       "        0., 0., 0., 0., 0., 0., 0., 0., 0., 0., 0., 0., 0., 0., 0., 0.,\n",
       "        0., 0.],\n",
       "       [1., 1., 1., 1., 1., 1., 1., 1., 1., 1., 1., 1., 1., 1., 1., 1.,\n",
       "        1., 1., 1., 1., 1., 1., 1., 1., 1., 1., 1., 1., 1., 1., 1., 1.,\n",
       "        1., 1., 1., 1., 1., 1., 1., 1., 1., 1., 1., 1., 1., 1., 1., 1.,\n",
       "        1., 1.]])"
      ]
     },
     "execution_count": 35,
     "metadata": {},
     "output_type": "execute_result"
    }
   ],
   "source": [
    "np.unique(res.data_subjects_indexed, axis=0)"
   ]
  },
  {
   "cell_type": "code",
   "execution_count": 36,
   "id": "3d6b5f5a-0031-47f7-afb2-29f1ed6d4835",
   "metadata": {},
   "outputs": [
    {
     "data": {
      "text/plain": [
       "array([75.,  6.])"
      ]
     },
     "execution_count": 36,
     "metadata": {},
     "output_type": "execute_result"
    }
   ],
   "source": [
    "res.one_hot_lookup"
   ]
  },
  {
   "cell_type": "code",
   "execution_count": 37,
   "id": "d97344a6-ff4a-419e-875c-cfa73a47963f",
   "metadata": {},
   "outputs": [
    {
     "data": {
      "text/plain": [
       "array([0., 0., 0., 0., 0., 0., 0., 0., 0., 0., 0., 0., 0., 0., 0., 0., 0.,\n",
       "       0., 0., 0., 0., 0., 0., 0., 0., 0., 0., 0., 0., 0., 0., 0., 0., 0.,\n",
       "       0., 0., 0., 0., 0., 0., 0., 0., 0., 0., 0., 0., 0., 0., 0., 0.])"
      ]
     },
     "execution_count": 37,
     "metadata": {},
     "output_type": "execute_result"
    }
   ],
   "source": [
    "res.data_subjects_indexed[0]"
   ]
  },
  {
   "cell_type": "code",
   "execution_count": 38,
   "id": "39223083-e7d7-4a67-bce7-aff237846ab5",
   "metadata": {},
   "outputs": [],
   "source": [
    "other = np.ones((54, 5))\n",
    "\n",
    "fake_dsl = DataSubjectList(one_hot_lookup=np.array([]), data_subjects_indexed=np.empty_like(other))"
   ]
  },
  {
   "cell_type": "code",
   "execution_count": 41,
   "id": "f46b7a6d-43b9-4e1c-a548-78a302be261f",
   "metadata": {},
   "outputs": [
    {
     "name": "stdout",
     "output_type": "stream",
     "text": [
      "dsls starting shape:  (2, 3, 4, 54) (2, 3, 54, 7)\n",
      "(2, 3, 54, 7)\n",
      "target_shapes (3, 4, 1) (3, 1, 7)\n",
      "summed_ds (108, 3, 4, 1) (108, 3, 1, 7)\n"
     ]
    },
    {
     "data": {
      "text/plain": [
       "(4, 3, 4, 7)"
      ]
     },
     "execution_count": 41,
     "metadata": {},
     "output_type": "execute_result"
    }
   ],
   "source": [
    "from syft import GammaTensor, lazyrepeatarray\n",
    "\n",
    "def test_dot_matmul():\n",
    "    \n",
    "    # 2, 3, 4, 54\n",
    "    gt1 = GammaTensor(\n",
    "        child=np.random.random((3, 4, 54)), \n",
    "        data_subjects=DataSubjectList.from_objs(\n",
    "            np.concatenate((\n",
    "                np.random.choice([\"Ishan\"], (1, 3, 4, 54)),\n",
    "                np.random.choice([\"John Cena\"], (1, 3, 4, 54))\n",
    "            )),\n",
    "        ),\n",
    "        min_vals=lazyrepeatarray(0, (3, 4, 54)) , \n",
    "        max_vals=lazyrepeatarray(1, (3, 4, 54))\n",
    "    )\n",
    "    \n",
    "    # 2, 3, 54, 7\n",
    "    gt2 = GammaTensor(\n",
    "        child=np.random.random((3, 54, 7)), \n",
    "        data_subjects=DataSubjectList.from_objs(\n",
    "            np.concatenate(( \n",
    "                np.random.choice([\"Hulk Hogan\"], (1, 3, 54, 7)),\n",
    "                np.random.choice([\"Potato\"], (1, 3, 54, 7))\n",
    "            )),\n",
    "        ),\n",
    "        min_vals=lazyrepeatarray(0, (3, 54, 7)) , \n",
    "        max_vals=lazyrepeatarray(1, (3, 54, 7))\n",
    "    )\n",
    "    print(\"dsls starting shape: \", gt1.data_subjects.shape, gt2.data_subjects.shape)\n",
    "    return matmul(gt1.data_subjects, gt2.data_subjects)\n",
    "\n",
    "res3d = test_dot_matmul()\n",
    "res3d.shape  # ideally: (4, 3, 4, 3, 7)"
   ]
  },
  {
   "cell_type": "code",
   "execution_count": 42,
   "id": "5fdc15ac-db10-40fc-8c0c-608f45d45996",
   "metadata": {},
   "outputs": [],
   "source": [
    "gt1 = GammaTensor(\n",
    "    child=np.random.random((3, 4, 54)), \n",
    "    data_subjects=DataSubjectList.from_objs(\n",
    "        np.concatenate((\n",
    "            np.random.choice([\"Ishan\"], (1, 3, 4, 54)),\n",
    "            np.random.choice([\"John Cena\"], (1, 3, 4, 54))\n",
    "        )),\n",
    "    ),\n",
    "    min_vals=lazyrepeatarray(0, (3, 4, 54)) , \n",
    "    max_vals=lazyrepeatarray(1, (3, 4, 54))\n",
    ")\n",
    "\n",
    "# 2, 3, 54, 7\n",
    "gt2 = GammaTensor(\n",
    "    child=np.random.random((3, 54, 7)), \n",
    "    data_subjects=DataSubjectList.from_objs(\n",
    "        np.concatenate(( \n",
    "            np.random.choice([\"Hulk Hogan\"], (1, 3, 54, 7)),\n",
    "            np.random.choice([\"Potato\"], (1, 3, 54, 7))\n",
    "        )),\n",
    "    ),\n",
    "    min_vals=lazyrepeatarray(0, (3, 54, 7)) , \n",
    "    max_vals=lazyrepeatarray(1, (3, 54, 7))\n",
    ")"
   ]
  },
  {
   "cell_type": "code",
   "execution_count": 43,
   "id": "44bdf376-8ed2-4bf4-bfa9-c05c2740599a",
   "metadata": {},
   "outputs": [
    {
     "ename": "NotImplementedError",
     "evalue": "",
     "output_type": "error",
     "traceback": [
      "\u001b[0;31m---------------------------------------------------------------------------\u001b[0m",
      "\u001b[0;31mNotImplementedError\u001b[0m                       Traceback (most recent call last)",
      "\u001b[0;32m/tmp/ipykernel_26326/934459739.py\u001b[0m in \u001b[0;36m<module>\u001b[0;34m\u001b[0m\n\u001b[0;32m----> 1\u001b[0;31m \u001b[0mgt1\u001b[0m \u001b[0;34m@\u001b[0m \u001b[0mgt2\u001b[0m\u001b[0;34m\u001b[0m\u001b[0;34m\u001b[0m\u001b[0m\n\u001b[0m",
      "\u001b[0;32m~/PycharmProjects/PySyft/packages/syft/src/syft/core/tensor/autodp/gamma_tensor.py\u001b[0m in \u001b[0;36m__matmul__\u001b[0;34m(self, other)\u001b[0m\n\u001b[1;32m   1316\u001b[0m             \u001b[0mmin_val\u001b[0m \u001b[0;34m=\u001b[0m \u001b[0mself\u001b[0m\u001b[0;34m.\u001b[0m\u001b[0mmin_vals\u001b[0m\u001b[0;34m.\u001b[0m\u001b[0m__matmul__\u001b[0m\u001b[0;34m(\u001b[0m\u001b[0mother\u001b[0m\u001b[0;34m.\u001b[0m\u001b[0mmin_vals\u001b[0m\u001b[0;34m)\u001b[0m\u001b[0;34m\u001b[0m\u001b[0;34m\u001b[0m\u001b[0m\n\u001b[1;32m   1317\u001b[0m             \u001b[0mmax_val\u001b[0m \u001b[0;34m=\u001b[0m \u001b[0mself\u001b[0m\u001b[0;34m.\u001b[0m\u001b[0mmax_vals\u001b[0m\u001b[0;34m.\u001b[0m\u001b[0m__matmul__\u001b[0m\u001b[0;34m(\u001b[0m\u001b[0mother\u001b[0m\u001b[0;34m.\u001b[0m\u001b[0mmax_vals\u001b[0m\u001b[0;34m)\u001b[0m\u001b[0;34m\u001b[0m\u001b[0;34m\u001b[0m\u001b[0m\n\u001b[0;32m-> 1318\u001b[0;31m             \u001b[0moutput_ds\u001b[0m \u001b[0;34m=\u001b[0m \u001b[0mDataSubjectList\u001b[0m\u001b[0;34m.\u001b[0m\u001b[0mmatmul\u001b[0m\u001b[0;34m(\u001b[0m\u001b[0mself\u001b[0m\u001b[0;34m.\u001b[0m\u001b[0mdata_subjects\u001b[0m\u001b[0;34m,\u001b[0m \u001b[0mother\u001b[0m\u001b[0;34m.\u001b[0m\u001b[0mdata_subjects\u001b[0m\u001b[0;34m)\u001b[0m\u001b[0;34m\u001b[0m\u001b[0;34m\u001b[0m\u001b[0m\n\u001b[0m\u001b[1;32m   1319\u001b[0m \u001b[0;34m\u001b[0m\u001b[0m\n\u001b[1;32m   1320\u001b[0m         \u001b[0;32melse\u001b[0m\u001b[0;34m:\u001b[0m\u001b[0;34m\u001b[0m\u001b[0;34m\u001b[0m\u001b[0m\n",
      "\u001b[0;32m~/PycharmProjects/PySyft/packages/syft/src/syft/core/adp/data_subject_list.py\u001b[0m in \u001b[0;36mmatmul\u001b[0;34m(dsl1, dsl2)\u001b[0m\n\u001b[1;32m    208\u001b[0m             \u001b[0mdsl2_target_shape\u001b[0m \u001b[0;34m=\u001b[0m \u001b[0mtuple\u001b[0m\u001b[0;34m(\u001b[0m\u001b[0;34m[\u001b[0m\u001b[0;36m1\u001b[0m\u001b[0;34m,\u001b[0m \u001b[0mdsl2\u001b[0m\u001b[0;34m.\u001b[0m\u001b[0mshape\u001b[0m\u001b[0;34m[\u001b[0m\u001b[0;34m-\u001b[0m\u001b[0;36m1\u001b[0m\u001b[0;34m]\u001b[0m\u001b[0;34m]\u001b[0m\u001b[0;34m)\u001b[0m\u001b[0;34m\u001b[0m\u001b[0;34m\u001b[0m\u001b[0m\n\u001b[1;32m    209\u001b[0m         \u001b[0;32melse\u001b[0m\u001b[0;34m:\u001b[0m\u001b[0;34m\u001b[0m\u001b[0;34m\u001b[0m\u001b[0m\n\u001b[0;32m--> 210\u001b[0;31m             \u001b[0;32mraise\u001b[0m \u001b[0mNotImplementedError\u001b[0m\u001b[0;34m\u001b[0m\u001b[0;34m\u001b[0m\u001b[0m\n\u001b[0m\u001b[1;32m    211\u001b[0m \u001b[0;34m\u001b[0m\u001b[0m\n\u001b[1;32m    212\u001b[0m         \u001b[0msummed_dsl1\u001b[0m \u001b[0;34m=\u001b[0m \u001b[0mdsl1\u001b[0m\u001b[0;34m.\u001b[0m\u001b[0msum\u001b[0m\u001b[0;34m(\u001b[0m\u001b[0mtarget_shape\u001b[0m\u001b[0;34m=\u001b[0m\u001b[0mdsl1_target_shape\u001b[0m\u001b[0;34m)\u001b[0m\u001b[0;34m\u001b[0m\u001b[0;34m\u001b[0m\u001b[0m\n",
      "\u001b[0;31mNotImplementedError\u001b[0m: "
     ]
    }
   ],
   "source": [
    "gt1 @ gt2"
   ]
  },
  {
   "cell_type": "code",
   "execution_count": 44,
   "id": "230c3635-720f-43e2-9276-ab67e5fc47ae",
   "metadata": {},
   "outputs": [
    {
     "data": {
      "text/plain": [
       "((3, 4, 54), (3, 54, 7))"
      ]
     },
     "execution_count": 44,
     "metadata": {},
     "output_type": "execute_result"
    }
   ],
   "source": [
    "gt1.shape, gt2.shape"
   ]
  },
  {
   "cell_type": "code",
   "execution_count": 45,
   "id": "03485edd-c556-47a6-bce8-3f63f297d342",
   "metadata": {},
   "outputs": [
    {
     "ename": "NotImplementedError",
     "evalue": "",
     "output_type": "error",
     "traceback": [
      "\u001b[0;31m---------------------------------------------------------------------------\u001b[0m",
      "\u001b[0;31mNotImplementedError\u001b[0m                       Traceback (most recent call last)",
      "\u001b[0;32m/tmp/ipykernel_26326/1746176367.py\u001b[0m in \u001b[0;36m<module>\u001b[0;34m\u001b[0m\n\u001b[0;32m----> 1\u001b[0;31m \u001b[0mDataSubjectList\u001b[0m\u001b[0;34m.\u001b[0m\u001b[0mmatmul\u001b[0m\u001b[0;34m(\u001b[0m\u001b[0mgt1\u001b[0m\u001b[0;34m.\u001b[0m\u001b[0mdata_subjects\u001b[0m\u001b[0;34m,\u001b[0m \u001b[0mgt2\u001b[0m\u001b[0;34m.\u001b[0m\u001b[0mdata_subjects\u001b[0m\u001b[0;34m)\u001b[0m\u001b[0;34m\u001b[0m\u001b[0;34m\u001b[0m\u001b[0m\n\u001b[0m",
      "\u001b[0;32m~/PycharmProjects/PySyft/packages/syft/src/syft/core/adp/data_subject_list.py\u001b[0m in \u001b[0;36mmatmul\u001b[0;34m(dsl1, dsl2)\u001b[0m\n\u001b[1;32m    208\u001b[0m             \u001b[0mdsl2_target_shape\u001b[0m \u001b[0;34m=\u001b[0m \u001b[0mtuple\u001b[0m\u001b[0;34m(\u001b[0m\u001b[0;34m[\u001b[0m\u001b[0;36m1\u001b[0m\u001b[0;34m,\u001b[0m \u001b[0mdsl2\u001b[0m\u001b[0;34m.\u001b[0m\u001b[0mshape\u001b[0m\u001b[0;34m[\u001b[0m\u001b[0;34m-\u001b[0m\u001b[0;36m1\u001b[0m\u001b[0;34m]\u001b[0m\u001b[0;34m]\u001b[0m\u001b[0;34m)\u001b[0m\u001b[0;34m\u001b[0m\u001b[0;34m\u001b[0m\u001b[0m\n\u001b[1;32m    209\u001b[0m         \u001b[0;32melse\u001b[0m\u001b[0;34m:\u001b[0m\u001b[0;34m\u001b[0m\u001b[0;34m\u001b[0m\u001b[0m\n\u001b[0;32m--> 210\u001b[0;31m             \u001b[0;32mraise\u001b[0m \u001b[0mNotImplementedError\u001b[0m\u001b[0;34m\u001b[0m\u001b[0;34m\u001b[0m\u001b[0m\n\u001b[0m\u001b[1;32m    211\u001b[0m \u001b[0;34m\u001b[0m\u001b[0m\n\u001b[1;32m    212\u001b[0m         \u001b[0msummed_dsl1\u001b[0m \u001b[0;34m=\u001b[0m \u001b[0mdsl1\u001b[0m\u001b[0;34m.\u001b[0m\u001b[0msum\u001b[0m\u001b[0;34m(\u001b[0m\u001b[0mtarget_shape\u001b[0m\u001b[0;34m=\u001b[0m\u001b[0mdsl1_target_shape\u001b[0m\u001b[0;34m)\u001b[0m\u001b[0;34m\u001b[0m\u001b[0;34m\u001b[0m\u001b[0m\n",
      "\u001b[0;31mNotImplementedError\u001b[0m: "
     ]
    }
   ],
   "source": [
    "DataSubjectList.matmul(gt1.data_subjects, gt2.data_subjects)"
   ]
  },
  {
   "cell_type": "code",
   "execution_count": null,
   "id": "2f595eba-ebf7-4c68-ba08-3fc314cbae71",
   "metadata": {},
   "outputs": [],
   "source": []
  }
 ],
 "metadata": {
  "kernelspec": {
   "display_name": "Python 3 (ipykernel)",
   "language": "python",
   "name": "python3"
  },
  "language_info": {
   "codemirror_mode": {
    "name": "ipython",
    "version": 3
   },
   "file_extension": ".py",
   "mimetype": "text/x-python",
   "name": "python",
   "nbconvert_exporter": "python",
   "pygments_lexer": "ipython3",
   "version": "3.9.7"
  }
 },
 "nbformat": 4,
 "nbformat_minor": 5
}
