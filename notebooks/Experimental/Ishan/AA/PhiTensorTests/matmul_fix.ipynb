{
 "cells": [
  {
   "cell_type": "code",
   "execution_count": 92,
   "id": "492572e3-9678-45aa-8671-4c2863db0006",
   "metadata": {},
   "outputs": [],
   "source": [
    "from syft import PhiTensor, DataSubjectList\n",
    "import numpy as np\n",
    "from syft import nn"
   ]
  },
  {
   "cell_type": "code",
   "execution_count": 97,
   "id": "8ad3aacb-c375-4f9a-8939-34745922a997",
   "metadata": {},
   "outputs": [],
   "source": [
    "pt = PhiTensor(\n",
    "    child=np.ones((50, 50)), \n",
    "    data_subjects=DataSubjectList.from_objs(np.ones((50, 50))* 85), \n",
    "    min_vals=0, \n",
    "    max_vals=1\n",
    ")"
   ]
  },
  {
   "cell_type": "code",
   "execution_count": 103,
   "id": "f7a33e05-9355-4d77-a8c4-da1a4e89ac7c",
   "metadata": {},
   "outputs": [],
   "source": [
    "pt2 = pt = PhiTensor(\n",
    "    child=np.ones((50, 50)), \n",
    "    data_subjects=DataSubjectList.from_objs(np.ones((50, 50))* 86), \n",
    "    min_vals=0, \n",
    "    max_vals=1\n",
    ")"
   ]
  },
  {
   "cell_type": "code",
   "execution_count": 104,
   "id": "61bf11a7-4036-4bbb-9347-1f2fe94a2910",
   "metadata": {},
   "outputs": [
    {
     "data": {
      "text/plain": [
       "<lazyrepeatarray data: 0 -> shape: (50, 50)>"
      ]
     },
     "execution_count": 104,
     "metadata": {},
     "output_type": "execute_result"
    }
   ],
   "source": [
    "pt.min_vals"
   ]
  },
  {
   "cell_type": "code",
   "execution_count": 105,
   "id": "e9862709-ef8c-4979-90e7-3347640793fb",
   "metadata": {},
   "outputs": [],
   "source": [
    "res = pt @ pt2"
   ]
  },
  {
   "cell_type": "code",
   "execution_count": 107,
   "id": "0b0269c6-6c5c-4df5-b530-370890ced35c",
   "metadata": {},
   "outputs": [
    {
     "data": {
      "text/plain": [
       "syft.core.tensor.autodp.phi_tensor.PhiTensor"
      ]
     },
     "execution_count": 107,
     "metadata": {},
     "output_type": "execute_result"
    }
   ],
   "source": [
    "type(res)"
   ]
  },
  {
   "cell_type": "code",
   "execution_count": 106,
   "id": "2d64158e-d25a-456b-9736-8b0ebd210237",
   "metadata": {},
   "outputs": [
    {
     "data": {
      "text/plain": [
       "array([[0, 0, 0, ..., 0, 0, 0],\n",
       "       [0, 0, 0, ..., 0, 0, 0],\n",
       "       [0, 0, 0, ..., 0, 0, 0],\n",
       "       ...,\n",
       "       [0, 0, 0, ..., 0, 0, 0],\n",
       "       [0, 0, 0, ..., 0, 0, 0],\n",
       "       [0, 0, 0, ..., 0, 0, 0]])"
      ]
     },
     "execution_count": 106,
     "metadata": {},
     "output_type": "execute_result"
    }
   ],
   "source": [
    "res.data_subjects.data_subjects_indexed"
   ]
  },
  {
   "cell_type": "code",
   "execution_count": null,
   "id": "573e58a3-3927-41ad-8800-4622835855bb",
   "metadata": {},
   "outputs": [],
   "source": [
    "def matmul_dsl(dsl1: DataSubjectList, dsl2: DataSubjectList) -> DataSubjectList:\n",
    "    if len(dsl1.one_hot_lookup) == 1 and len(dsl2.one_hot_lookup) == 1:\n",
    "        \n",
    "        return DataSubjectList(\n",
    "            one_hot_lookup=np.concatenate((dsl1.one_hot_lookup, dsl2.one_hot_lookup)),\n",
    "            data_subjects_indexed=)"
   ]
  }
 ],
 "metadata": {
  "kernelspec": {
   "display_name": "Python 3 (ipykernel)",
   "language": "python",
   "name": "python3"
  },
  "language_info": {
   "codemirror_mode": {
    "name": "ipython",
    "version": 3
   },
   "file_extension": ".py",
   "mimetype": "text/x-python",
   "name": "python",
   "nbconvert_exporter": "python",
   "pygments_lexer": "ipython3",
   "version": "3.9.7"
  }
 },
 "nbformat": 4,
 "nbformat_minor": 5
}
