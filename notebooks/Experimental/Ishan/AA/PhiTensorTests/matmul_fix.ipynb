{
 "cells": [
  {
   "cell_type": "code",
   "execution_count": 1,
   "id": "492572e3-9678-45aa-8671-4c2863db0006",
   "metadata": {},
   "outputs": [
    {
     "name": "stderr",
     "output_type": "stream",
     "text": [
      "/home/e/anaconda3/envs/Hagrid/lib/python3.9/site-packages/tqdm/auto.py:22: TqdmWarning: IProgress not found. Please update jupyter and ipywidgets. See https://ipywidgets.readthedocs.io/en/stable/user_install.html\n",
      "  from .autonotebook import tqdm as notebook_tqdm\n"
     ]
    }
   ],
   "source": [
    "from syft import PhiTensor, DataSubjectList\n",
    "import numpy as np\n",
    "from syft import nn"
   ]
  },
  {
   "cell_type": "code",
   "execution_count": 2,
   "id": "8ad3aacb-c375-4f9a-8939-34745922a997",
   "metadata": {},
   "outputs": [],
   "source": [
    "pt = PhiTensor(\n",
    "    child=np.ones((50, 50)), \n",
    "    data_subjects=DataSubjectList.from_objs(np.ones((3, 50, 50))* 75), \n",
    "    min_vals=0, \n",
    "    max_vals=1\n",
    ")"
   ]
  },
  {
   "cell_type": "code",
   "execution_count": 3,
   "id": "f7a33e05-9355-4d77-a8c4-da1a4e89ac7c",
   "metadata": {},
   "outputs": [],
   "source": [
    "pt2 = PhiTensor(\n",
    "    child=np.ones((50, 50)), \n",
    "    data_subjects=DataSubjectList.from_objs(np.ones((3, 50, 50))* 6), \n",
    "    min_vals=0, \n",
    "    max_vals=1\n",
    ")"
   ]
  },
  {
   "cell_type": "code",
   "execution_count": 8,
   "id": "34f23c25-0f30-40ab-a2f6-9cf9754861bf",
   "metadata": {},
   "outputs": [],
   "source": [
    "res = pt - pt2"
   ]
  },
  {
   "cell_type": "code",
   "execution_count": 9,
   "id": "41e0e2bf-7108-4d63-ae00-bf25660d0e8a",
   "metadata": {},
   "outputs": [
    {
     "data": {
      "text/plain": [
       "(6, 50, 50)"
      ]
     },
     "execution_count": 9,
     "metadata": {},
     "output_type": "execute_result"
    }
   ],
   "source": [
    "res.data_subjects.shape"
   ]
  },
  {
   "cell_type": "code",
   "execution_count": 10,
   "id": "573e58a3-3927-41ad-8800-4622835855bb",
   "metadata": {},
   "outputs": [
    {
     "ename": "SyntaxError",
     "evalue": "invalid syntax (2271897115.py, line 6)",
     "output_type": "error",
     "traceback": [
      "\u001b[0;36m  File \u001b[0;32m\"/tmp/ipykernel_65827/2271897115.py\"\u001b[0;36m, line \u001b[0;32m6\u001b[0m\n\u001b[0;31m    data_subjects_indexed=)\u001b[0m\n\u001b[0m                          ^\u001b[0m\n\u001b[0;31mSyntaxError\u001b[0m\u001b[0;31m:\u001b[0m invalid syntax\n"
     ]
    }
   ],
   "source": [
    "def matmul_dsl(dsl1: DataSubjectList, dsl2: DataSubjectList) -> DataSubjectList:\n",
    "    if len(dsl1.one_hot_lookup) == 1 and len(dsl2.one_hot_lookup) == 1:\n",
    "        \n",
    "        return DataSubjectList(\n",
    "            one_hot_lookup=np.concatenate((dsl1.one_hot_lookup, dsl2.one_hot_lookup)),\n",
    "            data_subjects_indexed=)"
   ]
  },
  {
   "cell_type": "code",
   "execution_count": 10,
   "id": "b1378529-5ef6-4fb1-957e-c6d2c5844245",
   "metadata": {},
   "outputs": [
    {
     "data": {
      "text/plain": [
       "array([[50., 50., 50., ..., 50., 50., 50.],\n",
       "       [50., 50., 50., ..., 50., 50., 50.],\n",
       "       [50., 50., 50., ..., 50., 50., 50.],\n",
       "       ...,\n",
       "       [50., 50., 50., ..., 50., 50., 50.],\n",
       "       [50., 50., 50., ..., 50., 50., 50.],\n",
       "       [50., 50., 50., ..., 50., 50., 50.]])"
      ]
     },
     "execution_count": 10,
     "metadata": {},
     "output_type": "execute_result"
    }
   ],
   "source": [
    "np.dot(pt.child, pt2.child)"
   ]
  },
  {
   "cell_type": "code",
   "execution_count": null,
   "id": "356ed240-bd9e-410d-a951-7be1c586b528",
   "metadata": {},
   "outputs": [],
   "source": [
    "def dot(dsl1, dsl2)"
   ]
  },
  {
   "cell_type": "code",
   "execution_count": 2,
   "id": "993bb745-7953-49c4-b6cf-fa944f8562d8",
   "metadata": {},
   "outputs": [],
   "source": [
    "import numpy as np\n",
    "dsi1 = np.ones((3, 50, 50))\n",
    "dsi2 = np.ones((2, 50, 50))"
   ]
  },
  {
   "cell_type": "code",
   "execution_count": 13,
   "id": "91a16181-14d1-407e-b5cd-79fe8cff624b",
   "metadata": {},
   "outputs": [],
   "source": [
    "res = np.concatenate((dsi1, dsi2))"
   ]
  },
  {
   "cell_type": "code",
   "execution_count": 14,
   "id": "2a2c90cf-b4f5-47b5-ac73-320a336f529c",
   "metadata": {},
   "outputs": [
    {
     "data": {
      "text/plain": [
       "(5, 50, 50)"
      ]
     },
     "execution_count": 14,
     "metadata": {},
     "output_type": "execute_result"
    }
   ],
   "source": [
    "res.shape"
   ]
  },
  {
   "cell_type": "code",
   "execution_count": 9,
   "id": "a88284a5-50ca-4d5b-937a-0ad0976ad164",
   "metadata": {},
   "outputs": [
    {
     "data": {
      "text/plain": [
       "(array([6.]), array([75.]))"
      ]
     },
     "execution_count": 9,
     "metadata": {},
     "output_type": "execute_result"
    }
   ],
   "source": [
    "pt2.data_subjects.one_hot_lookup, pt.data_subjects.one_hot_lookup, "
   ]
  },
  {
   "cell_type": "code",
   "execution_count": 10,
   "id": "397f1669-3b2e-4be9-a939-3307a8386c8f",
   "metadata": {},
   "outputs": [],
   "source": [
    "def combine_dsi(dsl1: DataSubjectList, dsl2: DataSubjectList):\n",
    "    dsl1_dims = len(dsl1.shape)\n",
    "    dsl2_dims = len(dsl2.shape)\n",
    "    if dsl1_dims == dsl2_dims:\n",
    "        output_shape = (dsl1.shape[0] + dsl2.shape[0], *dsl1.shape[1:])\n",
    "    elif dsl1_dims - dsl2_dims == 1:\n",
    "        dsl2.data_subjects_indexed = np.expand_dims(dsl2.data_subjects_indexed, 0)\n",
    "        output_shape = (dsl1.shape[0] + dsl2.shape[0], *dsl1.shape[1:])\n",
    "    elif dsl2_dims - dsl1_dims == 1:\n",
    "        dsl1.data_subjects_indexed = np.expand_dims(dsl1.data_subjects_indexed, 0)\n",
    "        output_shape = (dsl1.shape[0] + dsl2.shape[0], *dsl1.shape[1:])\n",
    "    else:\n",
    "        raise Exception(f\"Shapes of DSLs incompatible- are they meant to be broadcasted: {dsl1.shape}, {dsl2.shape}\")\n",
    "    \n",
    "    output_dsl = DataSubjectList(one_hot_lookup=np.array([]),\n",
    "                                 data_subjects_indexed=np.empty(output_shape))\n",
    "    \n",
    "    output_dsl[:dsl1.shape[0]] = dsl1\n",
    "    output_dsl[dsl1.shape[0]:] = dsl2\n",
    "    return output_dsl"
   ]
  },
  {
   "cell_type": "code",
   "execution_count": 11,
   "id": "7e96dc78-4959-4064-92c9-ab811045a29b",
   "metadata": {},
   "outputs": [
    {
     "name": "stdout",
     "output_type": "stream",
     "text": [
      "no overlapping DS\n",
      "[75.]\n",
      "[75.]\n",
      "no overlapping DS\n",
      "[6.]\n",
      "[75.  6.]\n"
     ]
    }
   ],
   "source": [
    "res = combine_dsi(pt.data_subjects, pt2.data_subjects[0])"
   ]
  },
  {
   "cell_type": "code",
   "execution_count": 15,
   "id": "9c24cafd-eb67-4cfc-b359-d94158f0a048",
   "metadata": {},
   "outputs": [],
   "source": [
    "res2 = DataSubjectList.combine(pt.data_subjects, pt2.data_subjects)"
   ]
  },
  {
   "cell_type": "code",
   "execution_count": 16,
   "id": "d80bda32-68e7-4818-8cb1-9103f7c2e46a",
   "metadata": {},
   "outputs": [
    {
     "data": {
      "text/plain": [
       "(2, 3, 50, 50)"
      ]
     },
     "execution_count": 16,
     "metadata": {},
     "output_type": "execute_result"
    }
   ],
   "source": [
    "res2.shape"
   ]
  },
  {
   "cell_type": "code",
   "execution_count": 12,
   "id": "dba58d94-9cbe-449a-8143-73e6bae1f143",
   "metadata": {},
   "outputs": [
    {
     "data": {
      "text/plain": [
       "(4, 50, 50)"
      ]
     },
     "execution_count": 12,
     "metadata": {},
     "output_type": "execute_result"
    }
   ],
   "source": [
    "res.shape"
   ]
  },
  {
   "cell_type": "code",
   "execution_count": 13,
   "id": "f072971f-5a01-4d4c-9a2d-19c67de298d5",
   "metadata": {},
   "outputs": [
    {
     "data": {
      "text/plain": [
       "array([75.,  6.])"
      ]
     },
     "execution_count": 13,
     "metadata": {},
     "output_type": "execute_result"
    }
   ],
   "source": [
    "res.one_hot_lookup"
   ]
  },
  {
   "cell_type": "code",
   "execution_count": 45,
   "id": "6e50ed15-75d8-4104-b25b-8cb80a290079",
   "metadata": {},
   "outputs": [
    {
     "data": {
      "text/plain": [
       "1"
      ]
     },
     "execution_count": 45,
     "metadata": {},
     "output_type": "execute_result"
    }
   ],
   "source": [
    "np.empty(()).size"
   ]
  },
  {
   "cell_type": "code",
   "execution_count": 47,
   "id": "58ab424c-a777-4d14-b9e6-9ef3f4f681a5",
   "metadata": {},
   "outputs": [
    {
     "data": {
      "text/plain": [
       "0"
      ]
     },
     "execution_count": 47,
     "metadata": {},
     "output_type": "execute_result"
    }
   ],
   "source": [
    "np.array([]).size"
   ]
  },
  {
   "cell_type": "code",
   "execution_count": 59,
   "id": "ca8633c3-62c6-4fca-bdd2-89442e7638d4",
   "metadata": {},
   "outputs": [
    {
     "data": {
      "text/plain": [
       "0"
      ]
     },
     "execution_count": 59,
     "metadata": {},
     "output_type": "execute_result"
    }
   ],
   "source": [
    "len(np.array([]))"
   ]
  },
  {
   "cell_type": "code",
   "execution_count": 2,
   "id": "0c980144-4965-4a74-8f92-c98522f72a08",
   "metadata": {},
   "outputs": [],
   "source": [
    "import numpy as np"
   ]
  },
  {
   "cell_type": "code",
   "execution_count": 5,
   "id": "6ea535d5-fd45-4e7c-8957-a5bb432df820",
   "metadata": {},
   "outputs": [
    {
     "data": {
      "text/plain": [
       "(1, 50, 50)"
      ]
     },
     "execution_count": 5,
     "metadata": {},
     "output_type": "execute_result"
    }
   ],
   "source": [
    "np.expand_dims(np.ones((50,50)), axis=0).shape"
   ]
  },
  {
   "cell_type": "code",
   "execution_count": null,
   "id": "f5cc1664-b4aa-4fd3-b191-2e6bbba30c32",
   "metadata": {},
   "outputs": [],
   "source": []
  }
 ],
 "metadata": {
  "kernelspec": {
   "display_name": "Python 3 (ipykernel)",
   "language": "python",
   "name": "python3"
  },
  "language_info": {
   "codemirror_mode": {
    "name": "ipython",
    "version": 3
   },
   "file_extension": ".py",
   "mimetype": "text/x-python",
   "name": "python",
   "nbconvert_exporter": "python",
   "pygments_lexer": "ipython3",
   "version": "3.9.7"
  }
 },
 "nbformat": 4,
 "nbformat_minor": 5
}
