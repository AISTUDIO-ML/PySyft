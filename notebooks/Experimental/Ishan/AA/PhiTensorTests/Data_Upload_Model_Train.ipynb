{
 "cells": [
  {
   "cell_type": "code",
   "execution_count": 1,
   "id": "e403ad85-3e53-465c-a630-5a2f46692f14",
   "metadata": {},
   "outputs": [
    {
     "name": "stdout",
     "output_type": "stream",
     "text": [
      "Syft is imported\n"
     ]
    }
   ],
   "source": [
    "%load_ext autoreload\n",
    "%autoreload 2\n",
    "# run this cell\n",
    "import syft as sy\n",
    "from utils import *\n",
    "from syft import NewDataSubject\n",
    "print(\"Syft is imported\")\n",
    "import numpy as np\n",
    "from syft.core.adp.data_subject_list import dslarraytonumpyutf8,numpyutf8todslarray"
   ]
  },
  {
   "cell_type": "code",
   "execution_count": 10,
   "id": "f819df30-8f4f-46b1-9af4-1131e8990605",
   "metadata": {},
   "outputs": [],
   "source": [
    "\n",
    "a =  np.array([NewDataSubject([\"rasswanth\"])])"
   ]
  },
  {
   "cell_type": "code",
   "execution_count": 5,
   "id": "40000f09-6662-4891-a40d-24e274658c82",
   "metadata": {},
   "outputs": [],
   "source": [
    "b = np.array([\"rasswanth\"],dtype=str)"
   ]
  },
  {
   "cell_type": "code",
   "execution_count": 8,
   "id": "99d20c0b-a596-4547-81a6-94d66baa5c95",
   "metadata": {},
   "outputs": [],
   "source": [
    "\n",
    "import pyarrow as  pa"
   ]
  },
  {
   "cell_type": "code",
   "execution_count": 12,
   "id": "2c47679d-3a22-46c5-9b40-e66b41a106cc",
   "metadata": {},
   "outputs": [
    {
     "data": {
      "text/plain": [
       "<pyarrow.lib.StringArray object at 0x7efd11b68ee0>\n",
       "[\n",
       "  \"rasswanth\"\n",
       "]"
      ]
     },
     "execution_count": 12,
     "metadata": {},
     "output_type": "execute_result"
    }
   ],
   "source": [
    "pa.array(b)"
   ]
  },
  {
   "cell_type": "code",
   "execution_count": null,
   "id": "04b38279-ce5c-4257-ae54-771ab6650dc7",
   "metadata": {},
   "outputs": [],
   "source": [
    "domain_client = sy.login(\n",
    "    port=8081,\n",
    "    email=\"info@openmined.org\",\n",
    "    password=\"changethis\"\n",
    ")"
   ]
  },
  {
   "cell_type": "code",
   "execution_count": null,
   "id": "e1cb609a-e618-4c1e-ad27-fd4cf9e05602",
   "metadata": {},
   "outputs": [],
   "source": [
    "MY_DATASET_URL = \"https://raw.githubusercontent.com/OpenMined/datasets/main/BreastCancerDataset/subsets/BreastCancerDataset-02ec48b840824b1ea3e1f5d11c45314b.pkl\"\n",
    "dataset = download_dataset(MY_DATASET_URL)"
   ]
  },
  {
   "cell_type": "code",
   "execution_count": null,
   "id": "8aa3c8e4-3672-4213-b877-e8211bb511e7",
   "metadata": {},
   "outputs": [],
   "source": [
    "dataset.head()"
   ]
  },
  {
   "cell_type": "code",
   "execution_count": null,
   "id": "6738dcbd",
   "metadata": {},
   "outputs": [],
   "source": [
    "# run this cell\n",
    "train, val, test = split_and_preprocess_dataset(data=dataset)"
   ]
  },
  {
   "cell_type": "code",
   "execution_count": null,
   "id": "c9f4f75f-a4b6-4337-8bc7-147ace57a14f",
   "metadata": {},
   "outputs": [],
   "source": [
    "# run this cell\n",
    "data_subjects_image = np.ones(train[\"images\"].shape).astype(object)\n",
    "for i,patient in enumerate(train[\"patient_ids\"]):\n",
    "    data_subjects_image[i] = NewDataSubject([str(patient)])\n",
    "\n",
    "data_subjects_labels = np.ones(train[\"labels\"].shape).astype(object)\n",
    "for i,patient in enumerate(train[\"patient_ids\"]):\n",
    "    data_subjects_labels[i] = NewDataSubject([str(patient)])\n",
    "\n",
    "    \n",
    "train_image_data = sy.Tensor(train[\"images\"]).annotated_with_dp_metadata(\n",
    "    min_val=0, max_val=255, data_subjects=data_subjects_image\n",
    ")\n",
    "train_label_data = sy.Tensor(train[\"labels\"]).annotated_with_dp_metadata(\n",
    "    min_val=0, max_val=1, data_subjects=data_subjects_labels\n",
    ")"
   ]
  },
  {
   "cell_type": "code",
   "execution_count": null,
   "id": "1c484423-2e61-4d6e-95a8-ba846f04e798",
   "metadata": {},
   "outputs": [],
   "source": [
    "# data_subjects = DataSubjectList.from_series(val[\"patient_ids\"])\n",
    "# val_image_data = sy.Tensor(val[\"images\"]).annotated_with_dp_metadata(\n",
    "#     min_val=0, max_val=255, data_subjects=data_subjects\n",
    "# )\n",
    "# val_label_data = sy.Tensor(val[\"labels\"]).annotated_with_dp_metadata(\n",
    "#     min_val=0, max_val=1, data_subjects=data_subjects\n",
    "# )"
   ]
  },
  {
   "cell_type": "code",
   "execution_count": null,
   "id": "8f3029e9-26fd-45c6-a21c-a105ca90bdbd",
   "metadata": {},
   "outputs": [],
   "source": [
    "# data_subjects = DataSubjectList.from_series(test[\"patient_ids\"])\n",
    "# test_image_data = sy.Tensor(test[\"images\"]).annotated_with_dp_metadata(\n",
    "#     min_val=0, max_val=255, data_subjects=data_subjects\n",
    "# )\n",
    "# test_label_data = sy.Tensor(test[\"labels\"]).annotated_with_dp_metadata(\n",
    "#     min_val=0, max_val=1, data_subjects=data_subjects\n",
    "# )"
   ]
  },
  {
   "cell_type": "code",
   "execution_count": null,
   "id": "90900d1e-9e67-4c76-93d7-ea605a059c0d",
   "metadata": {},
   "outputs": [],
   "source": [
    "# run this cell\n",
    "domain_client.load_dataset(\n",
    "    name=\"BreastCancerDataset\",\n",
    "    assets={\n",
    "        \"train_images\": train_image_data,\n",
    "        \"train_labels\": train_label_data,\n",
    "        # \"val_images\": val_image_data,\n",
    "        # \"val_labels\": val_label_data,\n",
    "        # \"test_images\": test_image_data,\n",
    "        # \"test_labels\": test_label_data,\n",
    "    },\n",
    "    description=\"Invasive Ductal Carcinoma (IDC) is the most common subtype of all breast cancers. \\\n",
    "    The modified dataset consisted of 162 whole mount slide images of Breast Cancer (BCa) specimens scanned at 40x. \\\n",
    "    Patches of size 50 x 50 were extracted from the original image. The labels 0 is non-IDC and 1 is IDC.\"\n",
    ")"
   ]
  },
  {
   "cell_type": "code",
   "execution_count": null,
   "id": "7e1bcb0f-3c6b-4bf6-b7ed-2ee4b2b16d62",
   "metadata": {},
   "outputs": [],
   "source": [
    "# run this cell\n",
    "t = domain_client.datasets[-1][\"train_images\"]"
   ]
  },
  {
   "cell_type": "code",
   "execution_count": null,
   "id": "5f8ec290-309f-40dc-9cb1-8024029834a1",
   "metadata": {},
   "outputs": [],
   "source": [
    "t.data_subjects.shape"
   ]
  },
  {
   "cell_type": "code",
   "execution_count": null,
   "id": "994921bb-9e75-47bd-9e87-75db22fb6609",
   "metadata": {},
   "outputs": [],
   "source": [
    "t  = domain_client.datasets[-1][\"train_labels\"]"
   ]
  },
  {
   "cell_type": "code",
   "execution_count": null,
   "id": "86ad6974-100c-48c3-b5ad-63b1a8da9b8f",
   "metadata": {},
   "outputs": [],
   "source": [
    "t.shape"
   ]
  },
  {
   "cell_type": "markdown",
   "id": "ec09d9c2-4016-4362-805b-d5e6da71e209",
   "metadata": {},
   "source": [
    "<br /><br />"
   ]
  }
 ],
 "metadata": {
  "interpreter": {
   "hash": "630449982b6186a6531308cd76ed4d510e9db65154e43844c2906c6a20ad2a6d"
  },
  "kernelspec": {
   "display_name": "Python 3 (ipykernel)",
   "language": "python",
   "name": "python3"
  },
  "language_info": {
   "codemirror_mode": {
    "name": "ipython",
    "version": 3
   },
   "file_extension": ".py",
   "mimetype": "text/x-python",
   "name": "python",
   "nbconvert_exporter": "python",
   "pygments_lexer": "ipython3",
   "version": "3.9.4"
  },
  "toc-autonumbering": false
 },
 "nbformat": 4,
 "nbformat_minor": 5
}
