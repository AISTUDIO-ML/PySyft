{
 "cells": [
  {
   "cell_type": "code",
   "execution_count": 1,
   "id": "200977e8-0c3f-4fc4-817c-b8d5189a32d6",
   "metadata": {},
   "outputs": [],
   "source": [
    "from syft import PhiTensor, GammaTensor"
   ]
  },
  {
   "cell_type": "code",
   "execution_count": 2,
   "id": "ace4cb08-b633-4b06-858d-00e5be2a179b",
   "metadata": {},
   "outputs": [],
   "source": [
    "import numpy as np"
   ]
  },
  {
   "cell_type": "code",
   "execution_count": 3,
   "id": "2d42e713-0e3c-42e6-ad87-c1743a3f33f3",
   "metadata": {},
   "outputs": [],
   "source": [
    "from syft import NewDataSubject"
   ]
  },
  {
   "cell_type": "code",
   "execution_count": 14,
   "id": "1daad4df-21b0-40dc-8dcf-8aa6bf05f18b",
   "metadata": {},
   "outputs": [],
   "source": [
    "pt = PhiTensor(child=np.ones((5,5), dtype=np.int64), data_subjects=NewDataSubject.from_objs((np.ones((10,10)))), min_vals=0, max_vals=1)"
   ]
  },
  {
   "cell_type": "code",
   "execution_count": 15,
   "id": "b6aa054b-60d1-4c87-87ab-7d8393191b2b",
   "metadata": {},
   "outputs": [],
   "source": [
    "pt2 = PhiTensor(child=np.ones((5,5), dtype=np.int64), data_subjects=NewDataSubject.from_objs((np.zeros((10,10)))), min_vals=0, max_vals=1)"
   ]
  },
  {
   "cell_type": "code",
   "execution_count": 16,
   "id": "ab084fa4-223c-4e1c-af85-f876bdcc0563",
   "metadata": {},
   "outputs": [],
   "source": [
    "res = pt + pt2"
   ]
  },
  {
   "cell_type": "code",
   "execution_count": 12,
   "id": "61c688f6-70a5-4108-a097-98f59a3e9d17",
   "metadata": {},
   "outputs": [
    {
     "name": "stdout",
     "output_type": "stream",
     "text": [
      "Creating new Ledger\n"
     ]
    }
   ],
   "source": [
    "from syft.core.adp.data_subject_ledger import DataSubjectLedger\n",
    "from syft.core.adp.ledger_store import DictLedgerStore\n",
    "from typing import Any\n",
    "\n",
    "\n",
    "ledger_store = DictLedgerStore()\n",
    "user_key = b\"1231\"\n",
    "ledger = DataSubjectLedger.get_or_create(store=ledger_store, user_key=user_key)\n",
    "\n",
    "def get_budget_for_user(*args: Any, **kwargs: Any) -> float:\n",
    "    return 999999\n",
    "\n",
    "def deduct_epsilon_for_user(*args: Any, **kwargs: Any) -> bool:\n",
    "    return True"
   ]
  },
  {
   "cell_type": "code",
   "execution_count": 17,
   "id": "55e13af3-86cd-4309-a138-c9814c233c3c",
   "metadata": {},
   "outputs": [
    {
     "name": "stderr",
     "output_type": "stream",
     "text": [
      "  0%|                                                     | 0/2 [00:00<?, ?it/s]WARNING:absl:No GPU/TPU found, falling back to CPU. (Set TF_CPP_MIN_LOG_LEVEL=0 and rerun for more info.)\n",
      "  0%|                                                     | 0/2 [00:00<?, ?it/s]\n"
     ]
    },
    {
     "ename": "AttributeError",
     "evalue": "'numpy.ndarray' object has no attribute 'data_subjects_indexed'",
     "output_type": "error",
     "traceback": [
      "\u001b[0;31m---------------------------------------------------------------------------\u001b[0m",
      "\u001b[0;31mAttributeError\u001b[0m                            Traceback (most recent call last)",
      "\u001b[0;32m/tmp/ipykernel_23775/3146882919.py\u001b[0m in \u001b[0;36m<module>\u001b[0;34m\u001b[0m\n\u001b[1;32m      2\u001b[0m     \u001b[0;32mreturn\u001b[0m \u001b[0;36m999999\u001b[0m\u001b[0;34m\u001b[0m\u001b[0;34m\u001b[0m\u001b[0m\n\u001b[1;32m      3\u001b[0m \u001b[0;34m\u001b[0m\u001b[0m\n\u001b[0;32m----> 4\u001b[0;31m \u001b[0mres\u001b[0m\u001b[0;34m.\u001b[0m\u001b[0mpublish\u001b[0m\u001b[0;34m(\u001b[0m\u001b[0mget_budget_for_user\u001b[0m\u001b[0;34m=\u001b[0m\u001b[0mget_budget_for_user\u001b[0m\u001b[0;34m,\u001b[0m \u001b[0mdeduct_epsilon_for_user\u001b[0m\u001b[0;34m=\u001b[0m\u001b[0mdeduct_epsilon_for_user\u001b[0m\u001b[0;34m,\u001b[0m \u001b[0mledger\u001b[0m\u001b[0;34m=\u001b[0m\u001b[0mledger\u001b[0m\u001b[0;34m,\u001b[0m \u001b[0msigma\u001b[0m\u001b[0;34m=\u001b[0m\u001b[0;36m0.5\u001b[0m\u001b[0;34m)\u001b[0m\u001b[0;34m\u001b[0m\u001b[0;34m\u001b[0m\u001b[0m\n\u001b[0m",
      "\u001b[0;32m~/PycharmProjects/PySyft/packages/syft/src/syft/core/tensor/autodp/gamma_tensor.py\u001b[0m in \u001b[0;36mpublish\u001b[0;34m(self, get_budget_for_user, deduct_epsilon_for_user, ledger, sigma)\u001b[0m\n\u001b[1;32m   2095\u001b[0m             \u001b[0mself\u001b[0m\u001b[0;34m.\u001b[0m\u001b[0mstate\u001b[0m\u001b[0;34m[\u001b[0m\u001b[0mself\u001b[0m\u001b[0;34m.\u001b[0m\u001b[0mid\u001b[0m\u001b[0;34m]\u001b[0m \u001b[0;34m=\u001b[0m \u001b[0mself\u001b[0m\u001b[0;34m\u001b[0m\u001b[0;34m\u001b[0m\u001b[0m\n\u001b[1;32m   2096\u001b[0m \u001b[0;34m\u001b[0m\u001b[0m\n\u001b[0;32m-> 2097\u001b[0;31m         return vectorized_publish(\n\u001b[0m\u001b[1;32m   2098\u001b[0m             \u001b[0mmin_vals\u001b[0m\u001b[0;34m=\u001b[0m\u001b[0mself\u001b[0m\u001b[0;34m.\u001b[0m\u001b[0mmin_vals\u001b[0m\u001b[0;34m,\u001b[0m\u001b[0;34m\u001b[0m\u001b[0;34m\u001b[0m\u001b[0m\n\u001b[1;32m   2099\u001b[0m             \u001b[0mmax_vals\u001b[0m\u001b[0;34m=\u001b[0m\u001b[0mself\u001b[0m\u001b[0;34m.\u001b[0m\u001b[0mmax_vals\u001b[0m\u001b[0;34m,\u001b[0m\u001b[0;34m\u001b[0m\u001b[0;34m\u001b[0m\u001b[0m\n",
      "\u001b[0;32m~/PycharmProjects/PySyft/packages/syft/src/syft/core/adp/vectorized_publish.py\u001b[0m in \u001b[0;36mvectorized_publish\u001b[0;34m(min_vals, max_vals, state_tree, data_subjects, ledger, get_budget_for_user, deduct_epsilon_for_user, is_linear, sigma, output_func)\u001b[0m\n\u001b[1;32m    137\u001b[0m             \u001b[0;31m# raise Exception(\"gamma_tensor.lipschitz_bound property would be used here\")\u001b[0m\u001b[0;34m\u001b[0m\u001b[0;34m\u001b[0m\u001b[0m\n\u001b[1;32m    138\u001b[0m \u001b[0;34m\u001b[0m\u001b[0m\n\u001b[0;32m--> 139\u001b[0;31m         \u001b[0minput_entities\u001b[0m \u001b[0;34m=\u001b[0m \u001b[0minput_tensor\u001b[0m\u001b[0;34m.\u001b[0m\u001b[0mdata_subjects\u001b[0m\u001b[0;34m.\u001b[0m\u001b[0mdata_subjects_indexed\u001b[0m\u001b[0;34m\u001b[0m\u001b[0;34m\u001b[0m\u001b[0m\n\u001b[0m\u001b[1;32m    140\u001b[0m         \u001b[0;31m# data_subjects.data_subjects_indexed[0].reshape(-1)\u001b[0m\u001b[0;34m\u001b[0m\u001b[0;34m\u001b[0m\u001b[0m\n\u001b[1;32m    141\u001b[0m         \u001b[0;31m# t2 = time()\u001b[0m\u001b[0;34m\u001b[0m\u001b[0;34m\u001b[0m\u001b[0m\n",
      "\u001b[0;31mAttributeError\u001b[0m: 'numpy.ndarray' object has no attribute 'data_subjects_indexed'"
     ]
    }
   ],
   "source": [
    "def get_budget():\n",
    "    return 999999\n",
    "\n",
    "res.publish(get_budget_for_user=get_budget_for_user, deduct_epsilon_for_user=deduct_epsilon_for_user, ledger=ledger, sigma=0.5)"
   ]
  },
  {
   "cell_type": "code",
   "execution_count": null,
   "id": "05480e64-af2b-4d13-bd63-957a50b93038",
   "metadata": {},
   "outputs": [],
   "source": []
  }
 ],
 "metadata": {
  "kernelspec": {
   "display_name": "Python 3 (ipykernel)",
   "language": "python",
   "name": "python3"
  },
  "language_info": {
   "codemirror_mode": {
    "name": "ipython",
    "version": 3
   },
   "file_extension": ".py",
   "mimetype": "text/x-python",
   "name": "python",
   "nbconvert_exporter": "python",
   "pygments_lexer": "ipython3",
   "version": "3.9.7"
  }
 },
 "nbformat": 4,
 "nbformat_minor": 5
}
