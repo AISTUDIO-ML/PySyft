{
 "cells": [
  {
   "cell_type": "code",
   "execution_count": 1,
   "id": "200977e8-0c3f-4fc4-817c-b8d5189a32d6",
   "metadata": {},
   "outputs": [
    {
     "name": "stderr",
     "output_type": "stream",
     "text": [
      "/home/e/anaconda3/envs/Hagrid/lib/python3.9/site-packages/tqdm/auto.py:22: TqdmWarning: IProgress not found. Please update jupyter and ipywidgets. See https://ipywidgets.readthedocs.io/en/stable/user_install.html\n",
      "  from .autonotebook import tqdm as notebook_tqdm\n"
     ]
    }
   ],
   "source": [
    "from syft import PhiTensor, GammaTensor"
   ]
  },
  {
   "cell_type": "code",
   "execution_count": 2,
   "id": "ace4cb08-b633-4b06-858d-00e5be2a179b",
   "metadata": {},
   "outputs": [],
   "source": [
    "import numpy as np"
   ]
  },
  {
   "cell_type": "code",
   "execution_count": 3,
   "id": "2d42e713-0e3c-42e6-ad87-c1743a3f33f3",
   "metadata": {},
   "outputs": [],
   "source": [
    "from syft import NewDataSubject"
   ]
  },
  {
   "cell_type": "code",
   "execution_count": 4,
   "id": "1daad4df-21b0-40dc-8dcf-8aa6bf05f18b",
   "metadata": {},
   "outputs": [],
   "source": [
    "pt = PhiTensor(child=np.ones((5,5), dtype=np.int64), data_subjects=NewDataSubject.from_objs((np.ones((10,10)))), min_vals=0, max_vals=1)"
   ]
  },
  {
   "cell_type": "code",
   "execution_count": 5,
   "id": "b6aa054b-60d1-4c87-87ab-7d8393191b2b",
   "metadata": {},
   "outputs": [],
   "source": [
    "pt2 = PhiTensor(child=np.ones((5,5), dtype=np.int64), data_subjects=NewDataSubject.from_objs((np.zeros((10,10)))), min_vals=0, max_vals=1)"
   ]
  },
  {
   "cell_type": "code",
   "execution_count": 6,
   "id": "ab084fa4-223c-4e1c-af85-f876bdcc0563",
   "metadata": {},
   "outputs": [],
   "source": [
    "res = pt + pt2"
   ]
  },
  {
   "cell_type": "code",
   "execution_count": 7,
   "id": "cf0680cc-9eec-4936-bd61-c2a0b0978bf4",
   "metadata": {},
   "outputs": [],
   "source": [
    "from syft import DataSubjectList\n",
    "dsl = DataSubjectList.from_objs(res.data_subjects)"
   ]
  },
  {
   "cell_type": "code",
   "execution_count": 8,
   "id": "61267c61-0ada-4dc4-bb96-bcfc0b90c840",
   "metadata": {},
   "outputs": [
    {
     "data": {
      "text/plain": [
       "array([[99, 41, 69, 33, 18, 49, 70, 64, 14, 37],\n",
       "       [ 7, 45, 22, 53, 71, 60, 29, 67,  5, 35],\n",
       "       [16, 39,  2, 43, 20, 47,  9, 51, 24, 55],\n",
       "       [72, 58, 27, 62, 12, 66, 31, 74, 76, 78],\n",
       "       [80, 82, 84, 86, 88, 90, 92, 94, 96, 98],\n",
       "       [ 8, 46, 21, 48,  4, 50, 23, 52, 11, 54],\n",
       "       [26, 57, 73, 56, 25, 59, 10, 61, 28, 63],\n",
       "       [ 3, 65, 30, 13, 32, 68,  0, 75, 34, 77],\n",
       "       [15, 79, 36, 81,  6, 83, 38, 85, 17, 87],\n",
       "       [40, 89,  1, 91, 42, 93, 19, 95, 44, 97]])"
      ]
     },
     "execution_count": 8,
     "metadata": {},
     "output_type": "execute_result"
    }
   ],
   "source": [
    "dsl.data_subjects_indexed"
   ]
  },
  {
   "cell_type": "code",
   "execution_count": 9,
   "id": "20d79380-1491-4a51-92d0-486c6a4eedb7",
   "metadata": {},
   "outputs": [
    {
     "data": {
      "text/plain": [
       "4"
      ]
     },
     "execution_count": 9,
     "metadata": {},
     "output_type": "execute_result"
    }
   ],
   "source": [
    "len(set((1,2,3,4)))"
   ]
  },
  {
   "cell_type": "code",
   "execution_count": 10,
   "id": "5de22d5e-c6da-498e-83fd-1bb7ba52a38e",
   "metadata": {},
   "outputs": [
    {
     "data": {
      "text/plain": [
       "10"
      ]
     },
     "execution_count": 10,
     "metadata": {},
     "output_type": "execute_result"
    }
   ],
   "source": [
    "len(res.data_subjects)"
   ]
  },
  {
   "cell_type": "code",
   "execution_count": 11,
   "id": "5fdb861d-c981-4940-929a-95a16d467bc1",
   "metadata": {},
   "outputs": [
    {
     "data": {
      "text/plain": [
       "array([[2, 2, 2, 2, 2, 2, 2, 2, 2, 2],\n",
       "       [2, 2, 2, 2, 2, 2, 2, 2, 2, 2],\n",
       "       [2, 2, 2, 2, 2, 2, 2, 2, 2, 2],\n",
       "       [2, 2, 2, 2, 2, 2, 2, 2, 2, 2],\n",
       "       [2, 2, 2, 2, 2, 2, 2, 2, 2, 2],\n",
       "       [2, 2, 2, 2, 2, 2, 2, 2, 2, 2],\n",
       "       [2, 2, 2, 2, 2, 2, 2, 2, 2, 2],\n",
       "       [2, 2, 2, 2, 2, 2, 2, 2, 2, 2],\n",
       "       [2, 2, 2, 2, 2, 2, 2, 2, 2, 2],\n",
       "       [2, 2, 2, 2, 2, 2, 2, 2, 2, 2]])"
      ]
     },
     "execution_count": 11,
     "metadata": {},
     "output_type": "execute_result"
    }
   ],
   "source": [
    "vectorized_len = np.vectorize(len)\n",
    "vectorized_len(res.data_subjects)"
   ]
  },
  {
   "cell_type": "code",
   "execution_count": 12,
   "id": "1a9b7011-e56e-48bb-9413-98fd77cbae52",
   "metadata": {},
   "outputs": [],
   "source": [
    "def convert_new_to_old_dsl(new_dsl: np.ndarray) -> DataSubjectList:\n",
    "    pass"
   ]
  },
  {
   "cell_type": "code",
   "execution_count": 13,
   "id": "61c688f6-70a5-4108-a097-98f59a3e9d17",
   "metadata": {},
   "outputs": [
    {
     "name": "stdout",
     "output_type": "stream",
     "text": [
      "Creating new Ledger\n"
     ]
    }
   ],
   "source": [
    "from syft.core.adp.data_subject_ledger import DataSubjectLedger\n",
    "from syft.core.adp.ledger_store import DictLedgerStore\n",
    "from typing import Any\n",
    "\n",
    "\n",
    "ledger_store = DictLedgerStore()\n",
    "user_key = b\"1231\"\n",
    "ledger = DataSubjectLedger.get_or_create(store=ledger_store, user_key=user_key)\n",
    "\n",
    "def get_budget_for_user(*args: Any, **kwargs: Any) -> float:\n",
    "    return 999999\n",
    "\n",
    "def deduct_epsilon_for_user(*args: Any, **kwargs: Any) -> bool:\n",
    "    return True"
   ]
  },
  {
   "cell_type": "code",
   "execution_count": 14,
   "id": "55e13af3-86cd-4309-a138-c9814c233c3c",
   "metadata": {},
   "outputs": [
    {
     "name": "stderr",
     "output_type": "stream",
     "text": [
      "  0%|                                                                                                                                                                   | 0/2 [00:00<?, ?it/s]WARNING:absl:No GPU/TPU found, falling back to CPU. (Set TF_CPP_MIN_LOG_LEVEL=0 and rerun for more info.)\n"
     ]
    },
    {
     "name": "stdout",
     "output_type": "stream",
     "text": [
      "rdp constants [50. 50. 50. 50. 50. 50. 50. 50. 50. 50. 50. 50. 50. 50. 50. 50. 50. 50.\n",
      " 50. 50. 50. 50. 50. 50. 50.]\n"
     ]
    },
    {
     "name": "stderr",
     "output_type": "stream",
     "text": [
      "/home/e/anaconda3/envs/Hagrid/lib/python3.9/site-packages/jax/interpreters/mlir.py:512: UserWarning: Some donated buffers were not usable: ShapedArray(float64[25]), ShapedArray(int64[5,5]).\n",
      "Donation is not implemented for cpu.\n",
      "See an explanation at https://jax.readthedocs.io/en/latest/faq.html#buffer-donation.\n",
      "  warnings.warn(f\"Some donated buffers were not usable: {', '.join(unused_donations)}.\\n{msg}\")\n",
      "100%|███████████████████████████████████████████████████████████████████████████████████████████████████████████████████████████████████████████████████████████| 2/2 [00:00<00:00,  6.71it/s]\n"
     ]
    },
    {
     "name": "stdout",
     "output_type": "stream",
     "text": [
      "Epsilon spend  [99.16982083 99.16982083 99.16982083 99.16982083 99.16982083 99.16982083\n",
      " 99.16982083 99.16982083 99.16982083 99.16982083 99.16982083 99.16982083\n",
      " 99.16982083 99.16982083 99.16982083 99.16982083 99.16982083 99.16982083\n",
      " 99.16982083 99.16982083 99.16982083 99.16982083 99.16982083 99.16982083\n",
      " 99.16982083]\n",
      "Highest possible spend  99.16982082691798\n",
      "Attemping to spend epsilon: 99.16982082691798. Try: 0\n",
      "got user budget 999999.0 epsilon_spent 99.16982082691798\n",
      "rdp constants [50. 50. 50. 50. 50. 50. 50. 50. 50. 50. 50. 50. 50. 50. 50. 50. 50. 50.\n",
      " 50. 50. 50. 50. 50. 50. 50.]\n",
      "Epsilon spend  [99.16982083 99.16982083 99.16982083 99.16982083 99.16982083 99.16982083\n",
      " 99.16982083 99.16982083 99.16982083 99.16982083 99.16982083 99.16982083\n",
      " 99.16982083 99.16982083 99.16982083 99.16982083 99.16982083 99.16982083\n",
      " 99.16982083 99.16982083 99.16982083 99.16982083 99.16982083 99.16982083\n",
      " 99.16982083]\n",
      "Highest possible spend  99.16982082691798\n",
      "Attemping to spend epsilon: 99.16982082691798. Try: 0\n",
      "got user budget 999999.0 epsilon_spent 99.16982082691798\n",
      "We have filtered all the input tensors. Now to compute the result:\n",
      "Filtered inputs  [array([[1, 1, 1, 1, 1],\n",
      "       [1, 1, 1, 1, 1],\n",
      "       [1, 1, 1, 1, 1],\n",
      "       [1, 1, 1, 1, 1],\n",
      "       [1, 1, 1, 1, 1]]), array([[1, 1, 1, 1, 1],\n",
      "       [1, 1, 1, 1, 1],\n",
      "       [1, 1, 1, 1, 1],\n",
      "       [1, 1, 1, 1, 1],\n",
      "       [1, 1, 1, 1, 1]])]\n"
     ]
    },
    {
     "ename": "TypeError",
     "evalue": "Argument '[[NewDataSubject: {1.0} NewDataSubject: {1.0} NewDataSubject: {1.0}\n  NewDataSubject: {1.0} NewDataSubject: {1.0} NewDataSubject: {1.0}\n  NewDataSubject: {1.0} NewDataSubject: {1.0} NewDataSubject: {1.0}\n  NewDataSubject: {1.0}]\n [NewDataSubject: {1.0} NewDataSubject: {1.0} NewDataSubject: {1.0}\n  NewDataSubject: {1.0} NewDataSubject: {1.0} NewDataSubject: {1.0}\n  NewDataSubject: {1.0} NewDataSubject: {1.0} NewDataSubject: {1.0}\n  NewDataSubject: {1.0}]\n [NewDataSubject: {1.0} NewDataSubject: {1.0} NewDataSubject: {1.0}\n  NewDataSubject: {1.0} NewDataSubject: {1.0} NewDataSubject: {1.0}\n  NewDataSubject: {1.0} NewDataSubject: {1.0} NewDataSubject: {1.0}\n  NewDataSubject: {1.0}]\n [NewDataSubject: {1.0} NewDataSubject: {1.0} NewDataSubject: {1.0}\n  NewDataSubject: {1.0} NewDataSubject: {1.0} NewDataSubject: {1.0}\n  NewDataSubject: {1.0} NewDataSubject: {1.0} NewDataSubject: {1.0}\n  NewDataSubject: {1.0}]\n [NewDataSubject: {1.0} NewDataSubject: {1.0} NewDataSubject: {1.0}\n  NewDataSubject: {1.0} NewDataSubject: {1.0} NewDataSubject: {1.0}\n  NewDataSubject: {1.0} NewDataSubject: {1.0} NewDataSubject: {1.0}\n  NewDataSubject: {1.0}]\n [NewDataSubject: {1.0} NewDataSubject: {1.0} NewDataSubject: {1.0}\n  NewDataSubject: {1.0} NewDataSubject: {1.0} NewDataSubject: {1.0}\n  NewDataSubject: {1.0} NewDataSubject: {1.0} NewDataSubject: {1.0}\n  NewDataSubject: {1.0}]\n [NewDataSubject: {1.0} NewDataSubject: {1.0} NewDataSubject: {1.0}\n  NewDataSubject: {1.0} NewDataSubject: {1.0} NewDataSubject: {1.0}\n  NewDataSubject: {1.0} NewDataSubject: {1.0} NewDataSubject: {1.0}\n  NewDataSubject: {1.0}]\n [NewDataSubject: {1.0} NewDataSubject: {1.0} NewDataSubject: {1.0}\n  NewDataSubject: {1.0} NewDataSubject: {1.0} NewDataSubject: {1.0}\n  NewDataSubject: {1.0} NewDataSubject: {1.0} NewDataSubject: {1.0}\n  NewDataSubject: {1.0}]\n [NewDataSubject: {1.0} NewDataSubject: {1.0} NewDataSubject: {1.0}\n  NewDataSubject: {1.0} NewDataSubject: {1.0} NewDataSubject: {1.0}\n  NewDataSubject: {1.0} NewDataSubject: {1.0} NewDataSubject: {1.0}\n  NewDataSubject: {1.0}]\n [NewDataSubject: {1.0} NewDataSubject: {1.0} NewDataSubject: {1.0}\n  NewDataSubject: {1.0} NewDataSubject: {1.0} NewDataSubject: {1.0}\n  NewDataSubject: {1.0} NewDataSubject: {1.0} NewDataSubject: {1.0}\n  NewDataSubject: {1.0}]]' of type <class 'numpy.ndarray'> is not a valid JAX type.",
     "output_type": "error",
     "traceback": [
      "\u001b[0;31m---------------------------------------------------------------------------\u001b[0m",
      "\u001b[0;31mTypeError\u001b[0m                                 Traceback (most recent call last)",
      "\u001b[0;32m/tmp/ipykernel_11925/3146882919.py\u001b[0m in \u001b[0;36m<module>\u001b[0;34m\u001b[0m\n\u001b[1;32m      2\u001b[0m     \u001b[0;32mreturn\u001b[0m \u001b[0;36m999999\u001b[0m\u001b[0;34m\u001b[0m\u001b[0;34m\u001b[0m\u001b[0m\n\u001b[1;32m      3\u001b[0m \u001b[0;34m\u001b[0m\u001b[0m\n\u001b[0;32m----> 4\u001b[0;31m \u001b[0mres\u001b[0m\u001b[0;34m.\u001b[0m\u001b[0mpublish\u001b[0m\u001b[0;34m(\u001b[0m\u001b[0mget_budget_for_user\u001b[0m\u001b[0;34m=\u001b[0m\u001b[0mget_budget_for_user\u001b[0m\u001b[0;34m,\u001b[0m \u001b[0mdeduct_epsilon_for_user\u001b[0m\u001b[0;34m=\u001b[0m\u001b[0mdeduct_epsilon_for_user\u001b[0m\u001b[0;34m,\u001b[0m \u001b[0mledger\u001b[0m\u001b[0;34m=\u001b[0m\u001b[0mledger\u001b[0m\u001b[0;34m,\u001b[0m \u001b[0msigma\u001b[0m\u001b[0;34m=\u001b[0m\u001b[0;36m0.5\u001b[0m\u001b[0;34m)\u001b[0m\u001b[0;34m\u001b[0m\u001b[0;34m\u001b[0m\u001b[0m\n\u001b[0m",
      "\u001b[0;32m~/PycharmProjects/PySyft/packages/syft/src/syft/core/tensor/autodp/gamma_tensor.py\u001b[0m in \u001b[0;36mpublish\u001b[0;34m(self, get_budget_for_user, deduct_epsilon_for_user, ledger, sigma)\u001b[0m\n\u001b[1;32m   2095\u001b[0m             \u001b[0mself\u001b[0m\u001b[0;34m.\u001b[0m\u001b[0mstate\u001b[0m\u001b[0;34m[\u001b[0m\u001b[0mself\u001b[0m\u001b[0;34m.\u001b[0m\u001b[0mid\u001b[0m\u001b[0;34m]\u001b[0m \u001b[0;34m=\u001b[0m \u001b[0mself\u001b[0m\u001b[0;34m\u001b[0m\u001b[0;34m\u001b[0m\u001b[0m\n\u001b[1;32m   2096\u001b[0m \u001b[0;34m\u001b[0m\u001b[0m\n\u001b[0;32m-> 2097\u001b[0;31m         return vectorized_publish(\n\u001b[0m\u001b[1;32m   2098\u001b[0m             \u001b[0mmin_vals\u001b[0m\u001b[0;34m=\u001b[0m\u001b[0mself\u001b[0m\u001b[0;34m.\u001b[0m\u001b[0mmin_vals\u001b[0m\u001b[0;34m,\u001b[0m\u001b[0;34m\u001b[0m\u001b[0;34m\u001b[0m\u001b[0m\n\u001b[1;32m   2099\u001b[0m             \u001b[0mmax_vals\u001b[0m\u001b[0;34m=\u001b[0m\u001b[0mself\u001b[0m\u001b[0;34m.\u001b[0m\u001b[0mmax_vals\u001b[0m\u001b[0;34m,\u001b[0m\u001b[0;34m\u001b[0m\u001b[0;34m\u001b[0m\u001b[0m\n",
      "\u001b[0;32m~/PycharmProjects/PySyft/packages/syft/src/syft/core/adp/vectorized_publish.py\u001b[0m in \u001b[0;36mvectorized_publish\u001b[0;34m(min_vals, max_vals, state_tree, data_subjects, ledger, get_budget_for_user, deduct_epsilon_for_user, is_linear, sigma, output_func)\u001b[0m\n\u001b[1;32m    197\u001b[0m     \u001b[0;31m# noise = secrets.SystemRandom().gauss(0, sigma)\u001b[0m\u001b[0;34m\u001b[0m\u001b[0;34m\u001b[0m\u001b[0m\n\u001b[1;32m    198\u001b[0m     \u001b[0mprint\u001b[0m\u001b[0;34m(\u001b[0m\u001b[0;34m\"Filtered inputs \"\u001b[0m\u001b[0;34m,\u001b[0m \u001b[0mfiltered_inputs\u001b[0m\u001b[0;34m)\u001b[0m\u001b[0;34m\u001b[0m\u001b[0;34m\u001b[0m\u001b[0m\n\u001b[0;32m--> 199\u001b[0;31m     \u001b[0moriginal_output\u001b[0m \u001b[0;34m=\u001b[0m \u001b[0mnp\u001b[0m\u001b[0;34m.\u001b[0m\u001b[0masarray\u001b[0m\u001b[0;34m(\u001b[0m\u001b[0moutput_func\u001b[0m\u001b[0;34m(\u001b[0m\u001b[0mfiltered_inputs\u001b[0m\u001b[0;34m)\u001b[0m\u001b[0;34m)\u001b[0m\u001b[0;34m\u001b[0m\u001b[0;34m\u001b[0m\u001b[0m\n\u001b[0m\u001b[1;32m    200\u001b[0m     \u001b[0mprint\u001b[0m\u001b[0;34m(\u001b[0m\u001b[0;34m\"original output (before noise:\"\u001b[0m\u001b[0;34m,\u001b[0m \u001b[0moriginal_output\u001b[0m\u001b[0;34m)\u001b[0m\u001b[0;34m\u001b[0m\u001b[0;34m\u001b[0m\u001b[0m\n\u001b[1;32m    201\u001b[0m     noise = np.asarray(\n",
      "\u001b[0;32m~/PycharmProjects/PySyft/packages/syft/src/syft/core/tensor/autodp/gamma_tensor.py\u001b[0m in \u001b[0;36m_add\u001b[0;34m(state)\u001b[0m\n\u001b[1;32m   1162\u001b[0m \u001b[0;34m\u001b[0m\u001b[0m\n\u001b[1;32m   1163\u001b[0m             \u001b[0;32mdef\u001b[0m \u001b[0m_add\u001b[0m\u001b[0;34m(\u001b[0m\u001b[0mstate\u001b[0m\u001b[0;34m:\u001b[0m \u001b[0mdict\u001b[0m\u001b[0;34m)\u001b[0m \u001b[0;34m->\u001b[0m \u001b[0mjax\u001b[0m\u001b[0;34m.\u001b[0m\u001b[0mnumpy\u001b[0m\u001b[0;34m.\u001b[0m\u001b[0mDeviceArray\u001b[0m\u001b[0;34m:\u001b[0m\u001b[0;34m\u001b[0m\u001b[0;34m\u001b[0m\u001b[0m\n\u001b[0;32m-> 1164\u001b[0;31m                 \u001b[0;32mreturn\u001b[0m \u001b[0mjnp\u001b[0m\u001b[0;34m.\u001b[0m\u001b[0madd\u001b[0m\u001b[0;34m(\u001b[0m\u001b[0mself\u001b[0m\u001b[0;34m.\u001b[0m\u001b[0mrun\u001b[0m\u001b[0;34m(\u001b[0m\u001b[0mstate\u001b[0m\u001b[0;34m)\u001b[0m\u001b[0;34m,\u001b[0m \u001b[0mother\u001b[0m\u001b[0;34m.\u001b[0m\u001b[0mrun\u001b[0m\u001b[0;34m(\u001b[0m\u001b[0mstate\u001b[0m\u001b[0;34m)\u001b[0m\u001b[0;34m)\u001b[0m\u001b[0;34m\u001b[0m\u001b[0;34m\u001b[0m\u001b[0m\n\u001b[0m\u001b[1;32m   1165\u001b[0m \u001b[0;34m\u001b[0m\u001b[0m\n\u001b[1;32m   1166\u001b[0m             \u001b[0;31m# print(\"this is the other.state\", other.state)\u001b[0m\u001b[0;34m\u001b[0m\u001b[0;34m\u001b[0m\u001b[0m\n",
      "    \u001b[0;31m[... skipping hidden 2 frame]\u001b[0m\n",
      "\u001b[0;32m~/anaconda3/envs/Hagrid/lib/python3.9/site-packages/jax/_src/api.py\u001b[0m in \u001b[0;36m_check_arg\u001b[0;34m(arg)\u001b[0m\n\u001b[1;32m   2839\u001b[0m \u001b[0;32mdef\u001b[0m \u001b[0m_check_arg\u001b[0m\u001b[0;34m(\u001b[0m\u001b[0marg\u001b[0m\u001b[0;34m)\u001b[0m\u001b[0;34m:\u001b[0m\u001b[0;34m\u001b[0m\u001b[0;34m\u001b[0m\u001b[0m\n\u001b[1;32m   2840\u001b[0m   \u001b[0;32mif\u001b[0m \u001b[0;32mnot\u001b[0m \u001b[0;34m(\u001b[0m\u001b[0misinstance\u001b[0m\u001b[0;34m(\u001b[0m\u001b[0marg\u001b[0m\u001b[0;34m,\u001b[0m \u001b[0mcore\u001b[0m\u001b[0;34m.\u001b[0m\u001b[0mTracer\u001b[0m\u001b[0;34m)\u001b[0m \u001b[0;32mor\u001b[0m \u001b[0m_valid_jaxtype\u001b[0m\u001b[0;34m(\u001b[0m\u001b[0marg\u001b[0m\u001b[0;34m)\u001b[0m\u001b[0;34m)\u001b[0m\u001b[0;34m:\u001b[0m\u001b[0;34m\u001b[0m\u001b[0;34m\u001b[0m\u001b[0m\n\u001b[0;32m-> 2841\u001b[0;31m     \u001b[0;32mraise\u001b[0m \u001b[0mTypeError\u001b[0m\u001b[0;34m(\u001b[0m\u001b[0;34mf\"Argument '{arg}' of type {type(arg)} is not a valid JAX type.\"\u001b[0m\u001b[0;34m)\u001b[0m\u001b[0;34m\u001b[0m\u001b[0;34m\u001b[0m\u001b[0m\n\u001b[0m\u001b[1;32m   2842\u001b[0m \u001b[0;34m\u001b[0m\u001b[0m\n\u001b[1;32m   2843\u001b[0m \u001b[0;31m# TODO(mattjj,necula): this duplicates code in core.valid_jaxtype, but one\u001b[0m\u001b[0;34m\u001b[0m\u001b[0;34m\u001b[0m\u001b[0m\n",
      "\u001b[0;31mTypeError\u001b[0m: Argument '[[NewDataSubject: {1.0} NewDataSubject: {1.0} NewDataSubject: {1.0}\n  NewDataSubject: {1.0} NewDataSubject: {1.0} NewDataSubject: {1.0}\n  NewDataSubject: {1.0} NewDataSubject: {1.0} NewDataSubject: {1.0}\n  NewDataSubject: {1.0}]\n [NewDataSubject: {1.0} NewDataSubject: {1.0} NewDataSubject: {1.0}\n  NewDataSubject: {1.0} NewDataSubject: {1.0} NewDataSubject: {1.0}\n  NewDataSubject: {1.0} NewDataSubject: {1.0} NewDataSubject: {1.0}\n  NewDataSubject: {1.0}]\n [NewDataSubject: {1.0} NewDataSubject: {1.0} NewDataSubject: {1.0}\n  NewDataSubject: {1.0} NewDataSubject: {1.0} NewDataSubject: {1.0}\n  NewDataSubject: {1.0} NewDataSubject: {1.0} NewDataSubject: {1.0}\n  NewDataSubject: {1.0}]\n [NewDataSubject: {1.0} NewDataSubject: {1.0} NewDataSubject: {1.0}\n  NewDataSubject: {1.0} NewDataSubject: {1.0} NewDataSubject: {1.0}\n  NewDataSubject: {1.0} NewDataSubject: {1.0} NewDataSubject: {1.0}\n  NewDataSubject: {1.0}]\n [NewDataSubject: {1.0} NewDataSubject: {1.0} NewDataSubject: {1.0}\n  NewDataSubject: {1.0} NewDataSubject: {1.0} NewDataSubject: {1.0}\n  NewDataSubject: {1.0} NewDataSubject: {1.0} NewDataSubject: {1.0}\n  NewDataSubject: {1.0}]\n [NewDataSubject: {1.0} NewDataSubject: {1.0} NewDataSubject: {1.0}\n  NewDataSubject: {1.0} NewDataSubject: {1.0} NewDataSubject: {1.0}\n  NewDataSubject: {1.0} NewDataSubject: {1.0} NewDataSubject: {1.0}\n  NewDataSubject: {1.0}]\n [NewDataSubject: {1.0} NewDataSubject: {1.0} NewDataSubject: {1.0}\n  NewDataSubject: {1.0} NewDataSubject: {1.0} NewDataSubject: {1.0}\n  NewDataSubject: {1.0} NewDataSubject: {1.0} NewDataSubject: {1.0}\n  NewDataSubject: {1.0}]\n [NewDataSubject: {1.0} NewDataSubject: {1.0} NewDataSubject: {1.0}\n  NewDataSubject: {1.0} NewDataSubject: {1.0} NewDataSubject: {1.0}\n  NewDataSubject: {1.0} NewDataSubject: {1.0} NewDataSubject: {1.0}\n  NewDataSubject: {1.0}]\n [NewDataSubject: {1.0} NewDataSubject: {1.0} NewDataSubject: {1.0}\n  NewDataSubject: {1.0} NewDataSubject: {1.0} NewDataSubject: {1.0}\n  NewDataSubject: {1.0} NewDataSubject: {1.0} NewDataSubject: {1.0}\n  NewDataSubject: {1.0}]\n [NewDataSubject: {1.0} NewDataSubject: {1.0} NewDataSubject: {1.0}\n  NewDataSubject: {1.0} NewDataSubject: {1.0} NewDataSubject: {1.0}\n  NewDataSubject: {1.0} NewDataSubject: {1.0} NewDataSubject: {1.0}\n  NewDataSubject: {1.0}]]' of type <class 'numpy.ndarray'> is not a valid JAX type."
     ]
    }
   ],
   "source": [
    "def get_budget():\n",
    "    return 999999\n",
    "\n",
    "res.publish(get_budget_for_user=get_budget_for_user, deduct_epsilon_for_user=deduct_epsilon_for_user, ledger=ledger, sigma=0.5)"
   ]
  },
  {
   "cell_type": "code",
   "execution_count": null,
   "id": "05480e64-af2b-4d13-bd63-957a50b93038",
   "metadata": {},
   "outputs": [],
   "source": []
  }
 ],
 "metadata": {
  "kernelspec": {
   "display_name": "Python 3 (ipykernel)",
   "language": "python",
   "name": "python3"
  },
  "language_info": {
   "codemirror_mode": {
    "name": "ipython",
    "version": 3
   },
   "file_extension": ".py",
   "mimetype": "text/x-python",
   "name": "python",
   "nbconvert_exporter": "python",
   "pygments_lexer": "ipython3",
   "version": "3.9.7"
  }
 },
 "nbformat": 4,
 "nbformat_minor": 5
}
