{
 "cells": [
  {
   "cell_type": "markdown",
   "id": "061ddbac",
   "metadata": {},
   "source": [
    "### Setup domain:\n",
    "\n",
    "notebooks/Experimental/Ishan/AA/setup-data.ipynb"
   ]
  },
  {
   "cell_type": "code",
   "execution_count": 6,
   "id": "55d8a7d4",
   "metadata": {},
   "outputs": [],
   "source": [
    "# %load_ext autoreload\n",
    "# %autoreload 2\n",
    "import syft as sy"
   ]
  },
  {
   "cell_type": "code",
   "execution_count": 7,
   "id": "1d4a4305",
   "metadata": {},
   "outputs": [
    {
     "name": "stdout",
     "output_type": "stream",
     "text": [
      "WARNING: CHANGE YOUR USERNAME AND PASSWORD!!! \n",
      "\n",
      "Anyone can login as an admin to your node right now because your password is still the default PySyft username and password!!!\n",
      "\n",
      "Connecting to localhost... done! \t Logging into mystifying_sophia... done!\n"
     ]
    }
   ],
   "source": [
    "domain = sy.login(email=\"info@openmined.org\", password=\"changethis\", port=8081)"
   ]
  },
  {
   "cell_type": "code",
   "execution_count": 8,
   "id": "d453eaf2-ad75-43bc-a50d-7ecb031f300b",
   "metadata": {},
   "outputs": [
    {
     "data": {
      "text/html": [
       "<style>\n",
       "                #myInput {\n",
       "                  background-position: 10px 12px; /* Position the search icon */\n",
       "                  background-repeat: no-repeat; /* Do not repeat the icon image */\n",
       "                  background-color: #bbb;\n",
       "                  width: 98%; /* Full-width */\n",
       "                  font-size: 14px; /* Increase font-size */\n",
       "                  padding: 12px 20px 12px 40px; /* Add some padding */\n",
       "                  border: 1px solid #ddd; /* Add a grey border */\n",
       "                  margin-bottom: 12px; /* Add some space below the input */\n",
       "                }\n",
       "\n",
       "                #myTable {\n",
       "                  border-collapse: collapse; /* Collapse borders */\n",
       "                  width: 100%; /* Full-width */\n",
       "                  border: 1px solid #ddd; /* Add a grey border */\n",
       "                  font-size: 14px; /* Increase font-size */\n",
       "                }\n",
       "\n",
       "                #myTable th, #myTable td {\n",
       "                  text-align: left; /* Left-align text */\n",
       "                  padding: 10px; /* Add padding */\n",
       "                }\n",
       "\n",
       "                #myTable tr {\n",
       "                  /* Add a bottom border to all table rows */\n",
       "                  border-bottom: 1px solid #ddd;\n",
       "                }\n",
       "\n",
       "                #myTable tr.header, #myTable tr:hover {\n",
       "                  /* Add a grey background color to the table header and on hover */\n",
       "                  background-color: #777;\n",
       "                }\n",
       "                </style>\n",
       "\n",
       "                <table id=\"myTable\" style=\"width:1000px\">\n",
       "                  <tr class=\"header\">\n",
       "                    <th style=\"width:30px\">Idx</th>\n",
       "                    <th style=\"width:20%;\">Name</th>\n",
       "                    <th style=\"width:35%;\">Description</th>\n",
       "                    <th style=\"width:20%;\">Assets</th>\n",
       "                    <th style=\"width:300px;\">Id</th>\n",
       "                  </tr>\n",
       "                \n",
       "\n",
       "          <tr>\n",
       "            <td>[0]</td>\n",
       "            <td>BreastCancerDataset</td>\n",
       "            <td>Invasive Ductal Carcinoma (IDC) is the most common subtype of all breast cancers.     The modified dataset consisted of 162 whole mount slide images of Breast Cancer (BCa) specimens scanned at 40x.     Patches of size 50 x 50 were extracted from the original image. The labels 0 is non-IDC and 1 is IDC.</td>\n",
       "            <td>[\"train_images\"] -> <class 'syft.core.tensor.tensor.Tensor'><br /><br />[\"train_labels\"] -> <class 'syft.core.tensor.tensor.Tensor'><br /><br /></td>\n",
       "            <td>54221bf7-51b4-4d9d-b027-da3c05c9606b</td>\n",
       "          </tr>\n",
       "\n",
       "          <tr>\n",
       "            <td>[1]</td>\n",
       "            <td>BreastCancerDataset</td>\n",
       "            <td>Invasive Ductal Carcinoma (IDC) is the most common subtype of all breast cancers.     The modified dataset consisted of 162 whole mount slide images of Breast Cancer (BCa) specimens scanned at 40x.     Patches of size 50 x 50 were extracted from the original image. The labels 0 is non-IDC and 1 is IDC.</td>\n",
       "            <td>[\"train_images\"] -> <class 'syft.core.tensor.tensor.Tensor'><br /><br />[\"train_labels\"] -> <class 'syft.core.tensor.tensor.Tensor'><br /><br /></td>\n",
       "            <td>51637532-544f-4628-a3a1-83aebb05be87</td>\n",
       "          </tr>\n",
       "        </table>\n",
       "\n",
       "        <script>\n",
       "        function myFunction() {\n",
       "          // Declare variables\n",
       "          var input, filter, table, tr, td, i, txtValue;\n",
       "          input = document.getElementById(\"myInput\");\n",
       "          filter = input.value.toUpperCase();\n",
       "          table = document.getElementById(\"myTable\");\n",
       "          tr = table.getElementsByTagName(\"tr\");\n",
       "\n",
       "          // Loop through all table rows, and hide those who don't match the search query\n",
       "          for (i = 0; i < tr.length; i++) {\n",
       "            name_td = tr[i].getElementsByTagName(\"td\")[1];\n",
       "            desc_td = tr[i].getElementsByTagName(\"td\")[2];\n",
       "            asset_td = tr[i].getElementsByTagName(\"td\")[3];\n",
       "            id_td = tr[i].getElementsByTagName(\"td\")[4];\n",
       "            if (name_td || desc_td || asset_td || id_td) {\n",
       "              name_txtValue = name_td.textContent || name_td.innerText;\n",
       "              desc_txtValue = desc_td.textContent || name_td.innerText;\n",
       "              asset_txtValue = asset_td.textContent || name_td.innerText;\n",
       "              id_txtValue = id_td.textContent || name_td.innerText;\n",
       "              name_bool = name_txtValue.toUpperCase().indexOf(filter) > -1;\n",
       "              desc_bool = desc_txtValue.toUpperCase().indexOf(filter) > -1;\n",
       "              asset_bool = asset_txtValue.toUpperCase().indexOf(filter) > -1;\n",
       "              id_bool = id_txtValue.toUpperCase().indexOf(filter) > -1;\n",
       "              if (name_bool || desc_bool || asset_bool || id_bool) {\n",
       "                tr[i].style.display = \"\";\n",
       "              } else {\n",
       "                tr[i].style.display = \"none\";\n",
       "              }\n",
       "            }\n",
       "          }\n",
       "        }\n",
       "        </script>"
      ],
      "text/plain": [
       "<syft.core.node.common.client_manager.dataset_api.DatasetRequestAPI at 0x7fca6a9fe730>"
      ]
     },
     "execution_count": 8,
     "metadata": {},
     "output_type": "execute_result"
    }
   ],
   "source": [
    "domain.datasets"
   ]
  },
  {
   "cell_type": "code",
   "execution_count": 9,
   "id": "3597cfcc",
   "metadata": {},
   "outputs": [],
   "source": [
    "X_train = domain.datasets[-1][\"train_images\"][:2]\n",
    "y_train = domain.datasets[-1][\"train_labels\"][:2]"
   ]
  },
  {
   "cell_type": "code",
   "execution_count": 10,
   "id": "8dee4acf",
   "metadata": {},
   "outputs": [],
   "source": [
    "input_shape = X_train[:2].public_shape"
   ]
  },
  {
   "cell_type": "code",
   "execution_count": 11,
   "id": "add2d90a-bcf7-4b12-ba36-9d215f6c1d6e",
   "metadata": {},
   "outputs": [
    {
     "data": {
      "text/plain": [
       "(2, 3, 50, 50)"
      ]
     },
     "execution_count": 11,
     "metadata": {},
     "output_type": "execute_result"
    }
   ],
   "source": [
    "input_shape"
   ]
  },
  {
   "cell_type": "code",
   "execution_count": 12,
   "id": "130e941a",
   "metadata": {},
   "outputs": [],
   "source": [
    "# input_shape = (100, 3, 50, 50)"
   ]
  },
  {
   "cell_type": "code",
   "execution_count": 13,
   "id": "5b8a96ba",
   "metadata": {},
   "outputs": [],
   "source": [
    "from syft import nn"
   ]
  },
  {
   "cell_type": "code",
   "execution_count": 14,
   "id": "c8742d1f",
   "metadata": {},
   "outputs": [],
   "source": [
    "model = nn.Model()\n",
    "\n",
    "# Layer 1\n",
    "model.add(nn.Convolution(nb_filter=32, filter_size=3, padding=2, input_shape=input_shape))\n",
    "model.add(nn.BatchNorm(activation=nn.leaky_ReLU()))\n",
    "model.add(nn.MaxPool(pool_size=2, stride=2))\n",
    "\n",
    "# # Layer 2\n",
    "# model.add(nn.Convolution(nb_filter=64, filter_size=3, padding=2))\n",
    "# model.add(nn.BatchNorm(activation=nn.leaky_ReLU()))\n",
    "# model.add(nn.MaxPool(pool_size=2, stride=2))\n",
    "\n",
    "# # Layer 3\n",
    "# model.add(nn.Convolution(nb_filter=128, filter_size=3, padding=2))\n",
    "# model.add(nn.BatchNorm(activation=nn.leaky_ReLU()))\n",
    "# model.add(nn.MaxPool(pool_size=2, stride=2))\n",
    "\n",
    "# # Layer 4\n",
    "# model.add(nn.Convolution(nb_filter=256, filter_size=3, padding=2))\n",
    "# model.add(nn.BatchNorm(activation=nn.leaky_ReLU()))\n",
    "# model.add(nn.MaxPool(pool_size=2, stride=2))\n",
    "\n",
    "# Layer 5\n",
    "# model.add(nn.Convolution(nb_filter=512, filter_size=3, padding=2))\n",
    "# model.add(nn.BatchNorm(activation=nn.leaky_ReLU()))\n",
    "# model.add(nn.MaxPool(pool_size=2, stride=2))\n",
    "\n",
    "# Layer 6\n",
    "model.add(nn.AvgPool(1))\n",
    "\n",
    "# Layer 7\n",
    "model.add(nn.Flatten())\n",
    "\n",
    "# Layer 8\n",
    "model.add(nn.Linear(2, 512))"
   ]
  },
  {
   "cell_type": "code",
   "execution_count": 15,
   "id": "bd55504c",
   "metadata": {},
   "outputs": [],
   "source": [
    "model.compile()"
   ]
  },
  {
   "cell_type": "code",
   "execution_count": 16,
   "id": "54e98eed-a49b-4da0-8b2a-8b94259ab71b",
   "metadata": {},
   "outputs": [
    {
     "data": {
      "text/plain": [
       "[<syft.core.tensor.nn.layers.convolution.Convolution at 0x7fca6a9fe880>,\n",
       " <syft.core.tensor.nn.layers.normalization.BatchNorm at 0x7fca69ab4a90>,\n",
       " <syft.core.tensor.nn.layers.pooling.MaxPool at 0x7fca6a9fea00>,\n",
       " <syft.core.tensor.nn.layers.pooling.AvgPool at 0x7fca69ab4670>,\n",
       " <syft.core.tensor.nn.layers.reshaping.Flatten at 0x7fca69ab47c0>,\n",
       " <syft.core.tensor.nn.layers.linear.Linear at 0x7fca70a77e20>]"
      ]
     },
     "execution_count": 16,
     "metadata": {},
     "output_type": "execute_result"
    }
   ],
   "source": [
    "model.layers"
   ]
  },
  {
   "cell_type": "code",
   "execution_count": 17,
   "id": "93bf7138",
   "metadata": {},
   "outputs": [],
   "source": [
    "model_ptr = model.send(domain,send_to_blob_storage=False)"
   ]
  },
  {
   "cell_type": "code",
   "execution_count": 13,
   "id": "610acad0",
   "metadata": {},
   "outputs": [],
   "source": [
    "# model_ptr.fit(X_train, y_train, shuffle=False, max_iter=1,batch_size=2)"
   ]
  },
  {
   "cell_type": "code",
   "execution_count": 17,
   "id": "e0c20760",
   "metadata": {},
   "outputs": [],
   "source": [
    "x_batch, y_batch = X_train[:2], y_train[:2]"
   ]
  },
  {
   "cell_type": "code",
   "execution_count": 18,
   "id": "89394a0f",
   "metadata": {},
   "outputs": [],
   "source": [
    "status = model_ptr.step(x_batch, y_batch)"
   ]
  },
  {
   "cell_type": "code",
   "execution_count": 19,
   "id": "4d193d8c",
   "metadata": {},
   "outputs": [
    {
     "data": {
      "text/plain": [
       "False"
      ]
     },
     "execution_count": 19,
     "metadata": {},
     "output_type": "execute_result"
    }
   ],
   "source": [
    "status.exists"
   ]
  },
  {
   "cell_type": "code",
   "execution_count": 1,
   "id": "1d809e94",
   "metadata": {},
   "outputs": [],
   "source": [
    "# import time\n",
    "\n",
    "# while(not curr_loss.exists):\n",
    "#     time.sleep(10)\n",
    "# print(\"Training completed.\")"
   ]
  },
  {
   "cell_type": "code",
   "execution_count": 18,
   "id": "94f59081",
   "metadata": {},
   "outputs": [
    {
     "name": "stderr",
     "output_type": "stream",
     "text": [
      "\r",
      "  0%|                                                                                                                                                                                                       | 0/1 [00:00<?, ?it/s]"
     ]
    },
    {
     "name": "stdout",
     "output_type": "stream",
     "text": [
      "Epoch: 0\n"
     ]
    },
    {
     "name": "stderr",
     "output_type": "stream",
     "text": [
      "100%|███████████████████████████████████████████████████████████████████████████████████████████████████████████████████████████████████████████████████████████████████████████████████████████████| 1/1 [01:00<00:00, 60.24s/it]"
     ]
    },
    {
     "name": "stdout",
     "output_type": "stream",
     "text": [
      "Epoch completed.\n"
     ]
    },
    {
     "name": "stderr",
     "output_type": "stream",
     "text": [
      "\n"
     ]
    }
   ],
   "source": [
    "import time\n",
    "from tqdm import tqdm\n",
    "n_epochs = 1\n",
    "batch_size = 2\n",
    "for epoch in tqdm(range(n_epochs)):\n",
    "    print(f\"Epoch: {epoch}\")\n",
    "    total_images = X_train.public_shape[0]\n",
    "    start_idx = 0\n",
    "    while(start_idx < total_images):\n",
    "        end_idx = start_idx+batch_size\n",
    "        x_batch = X_train[start_idx:end_idx]\n",
    "        y_batch = y_train[start_idx:end_idx]\n",
    "        run_status = model_ptr.step(x_batch, y_batch)\n",
    "        while(not run_status.exists):\n",
    "            time.sleep(10)\n",
    "        print(\"Epoch completed.\")\n",
    "        start_idx += batch_size"
   ]
  },
  {
   "cell_type": "code",
   "execution_count": null,
   "id": "84a5c960",
   "metadata": {},
   "outputs": [],
   "source": [
    "# Need to implement download_weights\n",
    "model_ptr.download_weights(sigma=1000)"
   ]
  }
 ],
 "metadata": {
  "kernelspec": {
   "display_name": "Python 3 (ipykernel)",
   "language": "python",
   "name": "python3"
  },
  "language_info": {
   "codemirror_mode": {
    "name": "ipython",
    "version": 3
   },
   "file_extension": ".py",
   "mimetype": "text/x-python",
   "name": "python",
   "nbconvert_exporter": "python",
   "pygments_lexer": "ipython3",
   "version": "3.9.7"
  }
 },
 "nbformat": 4,
 "nbformat_minor": 5
}
