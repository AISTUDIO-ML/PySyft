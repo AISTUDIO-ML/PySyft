{
 "cells": [
  {
   "cell_type": "markdown",
   "id": "061ddbac",
   "metadata": {},
   "source": [
    "### Setup domain:\n",
    "\n",
    "notebooks/Experimental/Ishan/AA/setup-data.ipynb"
   ]
  },
  {
   "cell_type": "code",
   "execution_count": 1,
   "id": "55d8a7d4",
   "metadata": {},
   "outputs": [],
   "source": [
    "%load_ext autoreload\n",
    "%autoreload 2\n",
    "import syft as sy"
   ]
  },
  {
   "cell_type": "code",
   "execution_count": 2,
   "id": "1d4a4305",
   "metadata": {},
   "outputs": [
    {
     "name": "stdout",
     "output_type": "stream",
     "text": [
      "WARNING: CHANGE YOUR USERNAME AND PASSWORD!!! \n",
      "\n",
      "Anyone can login as an admin to your node right now because your password is still the default PySyft username and password!!!\n",
      "\n",
      "Connecting to localhost... done! \t Logging into canada... done!\n"
     ]
    }
   ],
   "source": [
    "domain = sy.login(email=\"info@openmined.org\", password=\"changethis\", port=8081)"
   ]
  },
  {
   "cell_type": "code",
   "execution_count": 3,
   "id": "d453eaf2-ad75-43bc-a50d-7ecb031f300b",
   "metadata": {},
   "outputs": [
    {
     "data": {
      "text/html": [
       "<style>\n",
       "                #myInput {\n",
       "                  background-position: 10px 12px; /* Position the search icon */\n",
       "                  background-repeat: no-repeat; /* Do not repeat the icon image */\n",
       "                  background-color: #bbb;\n",
       "                  width: 98%; /* Full-width */\n",
       "                  font-size: 14px; /* Increase font-size */\n",
       "                  padding: 12px 20px 12px 40px; /* Add some padding */\n",
       "                  border: 1px solid #ddd; /* Add a grey border */\n",
       "                  margin-bottom: 12px; /* Add some space below the input */\n",
       "                }\n",
       "\n",
       "                #myTable {\n",
       "                  border-collapse: collapse; /* Collapse borders */\n",
       "                  width: 100%; /* Full-width */\n",
       "                  border: 1px solid #ddd; /* Add a grey border */\n",
       "                  font-size: 14px; /* Increase font-size */\n",
       "                }\n",
       "\n",
       "                #myTable th, #myTable td {\n",
       "                  text-align: left; /* Left-align text */\n",
       "                  padding: 10px; /* Add padding */\n",
       "                }\n",
       "\n",
       "                #myTable tr {\n",
       "                  /* Add a bottom border to all table rows */\n",
       "                  border-bottom: 1px solid #ddd;\n",
       "                }\n",
       "\n",
       "                #myTable tr.header, #myTable tr:hover {\n",
       "                  /* Add a grey background color to the table header and on hover */\n",
       "                  background-color: #777;\n",
       "                }\n",
       "                </style>\n",
       "\n",
       "                <table id=\"myTable\" style=\"width:1000px\">\n",
       "                  <tr class=\"header\">\n",
       "                    <th style=\"width:30px\">Idx</th>\n",
       "                    <th style=\"width:20%;\">Name</th>\n",
       "                    <th style=\"width:35%;\">Description</th>\n",
       "                    <th style=\"width:20%;\">Assets</th>\n",
       "                    <th style=\"width:300px;\">Id</th>\n",
       "                  </tr>\n",
       "                \n",
       "\n",
       "          <tr>\n",
       "            <td>[0]</td>\n",
       "            <td>BreastCancerDataset</td>\n",
       "            <td>Invasive Ductal Carcinoma (IDC) is the most common subtype of all breast cancers.     The modified dataset consisted of 162 whole mount slide images of Breast Cancer (BCa) specimens scanned at 40x.     Patches of size 50 x 50 were extracted from the original image. The labels 0 is non-IDC and 1 is IDC.</td>\n",
       "            <td>[\"train_images\"] -> <class 'syft.core.tensor.tensor.Tensor'><br /><br />[\"train_labels\"] -> <class 'syft.core.tensor.tensor.Tensor'><br /><br /></td>\n",
       "            <td>8b482acb-cead-465f-8cf9-9045352b6076</td>\n",
       "          </tr>\n",
       "\n",
       "          <tr>\n",
       "            <td>[1]</td>\n",
       "            <td>BreastCancerDataset</td>\n",
       "            <td>Invasive Ductal Carcinoma (IDC) is the most common subtype of all breast cancers.     The modified dataset consisted of 162 whole mount slide images of Breast Cancer (BCa) specimens scanned at 40x.     Patches of size 50 x 50 were extracted from the original image. The labels 0 is non-IDC and 1 is IDC.</td>\n",
       "            <td>[\"train_images\"] -> <class 'syft.core.tensor.tensor.Tensor'><br /><br />[\"train_labels\"] -> <class 'syft.core.tensor.tensor.Tensor'><br /><br /></td>\n",
       "            <td>66184e50-38e0-4b2f-be64-a22e781f9600</td>\n",
       "          </tr>\n",
       "        </table>\n",
       "\n",
       "        <script>\n",
       "        function myFunction() {\n",
       "          // Declare variables\n",
       "          var input, filter, table, tr, td, i, txtValue;\n",
       "          input = document.getElementById(\"myInput\");\n",
       "          filter = input.value.toUpperCase();\n",
       "          table = document.getElementById(\"myTable\");\n",
       "          tr = table.getElementsByTagName(\"tr\");\n",
       "\n",
       "          // Loop through all table rows, and hide those who don't match the search query\n",
       "          for (i = 0; i < tr.length; i++) {\n",
       "            name_td = tr[i].getElementsByTagName(\"td\")[1];\n",
       "            desc_td = tr[i].getElementsByTagName(\"td\")[2];\n",
       "            asset_td = tr[i].getElementsByTagName(\"td\")[3];\n",
       "            id_td = tr[i].getElementsByTagName(\"td\")[4];\n",
       "            if (name_td || desc_td || asset_td || id_td) {\n",
       "              name_txtValue = name_td.textContent || name_td.innerText;\n",
       "              desc_txtValue = desc_td.textContent || name_td.innerText;\n",
       "              asset_txtValue = asset_td.textContent || name_td.innerText;\n",
       "              id_txtValue = id_td.textContent || name_td.innerText;\n",
       "              name_bool = name_txtValue.toUpperCase().indexOf(filter) > -1;\n",
       "              desc_bool = desc_txtValue.toUpperCase().indexOf(filter) > -1;\n",
       "              asset_bool = asset_txtValue.toUpperCase().indexOf(filter) > -1;\n",
       "              id_bool = id_txtValue.toUpperCase().indexOf(filter) > -1;\n",
       "              if (name_bool || desc_bool || asset_bool || id_bool) {\n",
       "                tr[i].style.display = \"\";\n",
       "              } else {\n",
       "                tr[i].style.display = \"none\";\n",
       "              }\n",
       "            }\n",
       "          }\n",
       "        }\n",
       "        </script>"
      ],
      "text/plain": [
       "<syft.core.node.common.client_manager.dataset_api.DatasetRequestAPI at 0x7f16d2bf7610>"
      ]
     },
     "execution_count": 3,
     "metadata": {},
     "output_type": "execute_result"
    }
   ],
   "source": [
    "domain.datasets"
   ]
  },
  {
   "cell_type": "code",
   "execution_count": 4,
   "id": "3597cfcc",
   "metadata": {},
   "outputs": [],
   "source": [
    "X_train = domain.datasets[-1][\"train_images\"]\n",
    "y_train = domain.datasets[-1][\"train_labels\"]"
   ]
  },
  {
   "cell_type": "code",
   "execution_count": 5,
   "id": "8dee4acf",
   "metadata": {},
   "outputs": [],
   "source": [
    "input_shape = X_train.public_shape"
   ]
  },
  {
   "cell_type": "code",
   "execution_count": 6,
   "id": "add2d90a-bcf7-4b12-ba36-9d215f6c1d6e",
   "metadata": {},
   "outputs": [
    {
     "data": {
      "text/plain": [
       "(2231, 3, 50, 50)"
      ]
     },
     "execution_count": 6,
     "metadata": {},
     "output_type": "execute_result"
    }
   ],
   "source": [
    "input_shape"
   ]
  },
  {
   "cell_type": "code",
   "execution_count": null,
   "id": "130e941a",
   "metadata": {},
   "outputs": [],
   "source": [
    "# input_shape = (100, 3, 50, 50)"
   ]
  },
  {
   "cell_type": "code",
   "execution_count": 7,
   "id": "5b8a96ba",
   "metadata": {},
   "outputs": [],
   "source": [
    "from syft import nn"
   ]
  },
  {
   "cell_type": "code",
   "execution_count": 8,
   "id": "c8742d1f",
   "metadata": {},
   "outputs": [],
   "source": [
    "model = nn.Model()\n",
    "\n",
    "# Layer 1\n",
    "model.add(nn.Convolution(nb_filter=32, filter_size=3, padding=2, input_shape=input_shape))\n",
    "model.add(nn.BatchNorm(activation=nn.leaky_ReLU()))\n",
    "model.add(nn.MaxPool(pool_size=2, stride=2))\n",
    "\n",
    "# Layer 2\n",
    "model.add(nn.Convolution(nb_filter=64, filter_size=3, padding=2))\n",
    "model.add(nn.BatchNorm(activation=nn.leaky_ReLU()))\n",
    "model.add(nn.MaxPool(pool_size=2, stride=2))\n",
    "\n",
    "# Layer 3\n",
    "model.add(nn.Convolution(nb_filter=128, filter_size=3, padding=2))\n",
    "model.add(nn.BatchNorm(activation=nn.leaky_ReLU()))\n",
    "model.add(nn.MaxPool(pool_size=2, stride=2))\n",
    "\n",
    "# Layer 4\n",
    "model.add(nn.Convolution(nb_filter=256, filter_size=3, padding=2))\n",
    "model.add(nn.BatchNorm(activation=nn.leaky_ReLU()))\n",
    "model.add(nn.MaxPool(pool_size=2, stride=2))\n",
    "\n",
    "# Layer 5\n",
    "model.add(nn.Convolution(nb_filter=512, filter_size=3, padding=2))\n",
    "model.add(nn.BatchNorm(activation=nn.leaky_ReLU()))\n",
    "model.add(nn.MaxPool(pool_size=2, stride=2))\n",
    "\n",
    "# Layer 6\n",
    "model.add(nn.AvgPool(7))\n",
    "\n",
    "# Layer 7\n",
    "model.add(nn.Flatten())\n",
    "\n",
    "# Layer 8\n",
    "model.add(nn.Linear(2, 512))"
   ]
  },
  {
   "cell_type": "code",
   "execution_count": 9,
   "id": "bd55504c",
   "metadata": {},
   "outputs": [],
   "source": [
    "model.compile()"
   ]
  },
  {
   "cell_type": "code",
   "execution_count": 10,
   "id": "54e98eed-a49b-4da0-8b2a-8b94259ab71b",
   "metadata": {},
   "outputs": [
    {
     "data": {
      "text/plain": [
       "[<syft.core.tensor.nn.layers.convolution.Convolution at 0x7f16cbf54730>,\n",
       " <syft.core.tensor.nn.layers.normalization.BatchNorm at 0x7f16cbf549d0>,\n",
       " <syft.core.tensor.nn.layers.pooling.MaxPool at 0x7f16cbf54970>,\n",
       " <syft.core.tensor.nn.layers.convolution.Convolution at 0x7f16cbf54a00>,\n",
       " <syft.core.tensor.nn.layers.normalization.BatchNorm at 0x7f16cbf54af0>,\n",
       " <syft.core.tensor.nn.layers.pooling.MaxPool at 0x7f16cbf54a30>,\n",
       " <syft.core.tensor.nn.layers.convolution.Convolution at 0x7f16cbf54b20>,\n",
       " <syft.core.tensor.nn.layers.normalization.BatchNorm at 0x7f16cbf68310>,\n",
       " <syft.core.tensor.nn.layers.pooling.MaxPool at 0x7f16cbf54b50>,\n",
       " <syft.core.tensor.nn.layers.convolution.Convolution at 0x7f16cbf682e0>,\n",
       " <syft.core.tensor.nn.layers.normalization.BatchNorm at 0x7f16cbf681f0>,\n",
       " <syft.core.tensor.nn.layers.pooling.MaxPool at 0x7f16cbf682b0>,\n",
       " <syft.core.tensor.nn.layers.convolution.Convolution at 0x7f16cbf681c0>,\n",
       " <syft.core.tensor.nn.layers.normalization.BatchNorm at 0x7f16cbf680d0>,\n",
       " <syft.core.tensor.nn.layers.pooling.MaxPool at 0x7f16cbf68190>,\n",
       " <syft.core.tensor.nn.layers.pooling.AvgPool at 0x7f16cbf680a0>,\n",
       " <syft.core.tensor.nn.layers.reshaping.Flatten at 0x7f16cbf68100>,\n",
       " <syft.core.tensor.nn.layers.linear.Linear at 0x7f16cbf68eb0>]"
      ]
     },
     "execution_count": 10,
     "metadata": {},
     "output_type": "execute_result"
    }
   ],
   "source": [
    "model.layers"
   ]
  },
  {
   "cell_type": "code",
   "execution_count": 12,
   "id": "93bf7138",
   "metadata": {},
   "outputs": [],
   "source": [
    "model_ptr = model.send(domain,send_to_blob_storage=False)"
   ]
  },
  {
   "cell_type": "code",
   "execution_count": 14,
   "id": "610acad0",
   "metadata": {},
   "outputs": [
    {
     "data": {
      "text/plain": [
       "<_SyNonePointer -> canada:39a0a8e245424f11b21f75f22d285457>"
      ]
     },
     "execution_count": 14,
     "metadata": {},
     "output_type": "execute_result"
    }
   ],
   "source": [
    "model_ptr.fit(X_train, y_train, shuffle=False, max_iter=1)"
   ]
  },
  {
   "cell_type": "code",
   "execution_count": null,
   "id": "84a5c960",
   "metadata": {},
   "outputs": [],
   "source": [
    "# Need to implement download_weights\n",
    "model_ptr.download_weights(sigma=1000)"
   ]
  },
  {
   "cell_type": "code",
   "execution_count": 19,
   "id": "1e1613b3-5ed5-4a7d-b02b-a00b6566dc1e",
   "metadata": {},
   "outputs": [],
   "source": [
    "import numpy as np"
   ]
  },
  {
   "cell_type": "code",
   "execution_count": 15,
   "id": "1b42b44b",
   "metadata": {},
   "outputs": [],
   "source": [
    "dsl = X_train.data_subjects"
   ]
  },
  {
   "cell_type": "code",
   "execution_count": 16,
   "id": "419c3dbd-dba2-4f29-93e9-23a89e8e4b68",
   "metadata": {},
   "outputs": [],
   "source": [
    "ser = dsl.tobytes()"
   ]
  },
  {
   "cell_type": "code",
   "execution_count": 20,
   "id": "26f1f360-ecc5-44b4-9c5a-59e61e2c9b33",
   "metadata": {},
   "outputs": [],
   "source": [
    "de = np.frombuffer(ser)"
   ]
  },
  {
   "cell_type": "code",
   "execution_count": 22,
   "id": "ead7fdb6-e0cb-4f94-bf03-362ee74164be",
   "metadata": {},
   "outputs": [
    {
     "data": {
      "text/plain": [
       "(16732500,)"
      ]
     },
     "execution_count": 22,
     "metadata": {},
     "output_type": "execute_result"
    }
   ],
   "source": [
    "de.shape"
   ]
  }
 ],
 "metadata": {
  "kernelspec": {
   "display_name": "Python 3 (ipykernel)",
   "language": "python",
   "name": "python3"
  },
  "language_info": {
   "codemirror_mode": {
    "name": "ipython",
    "version": 3
   },
   "file_extension": ".py",
   "mimetype": "text/x-python",
   "name": "python",
   "nbconvert_exporter": "python",
   "pygments_lexer": "ipython3",
   "version": "3.9.4"
  }
 },
 "nbformat": 4,
 "nbformat_minor": 5
}
