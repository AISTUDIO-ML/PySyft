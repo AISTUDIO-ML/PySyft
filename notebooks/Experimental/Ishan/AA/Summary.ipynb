{
 "cells": [
  {
   "cell_type": "markdown",
   "id": "413aa824-3ed9-4e76-ada5-6dd1332fd1fa",
   "metadata": {},
   "source": [
    "Steps:\n",
    "- Train model(s) without PySyft to validate it works on the dataset\n",
    "- Train model locally with DP tensors, without publishing to ensure all ops are supported\n",
    "- Training on 1 dataset split to see progress \n",
    "- Adding sanity tests to the Publish system to make sure it's working as intended\n",
    "- Testing model training with Publish system\n",
    "\n",
    "Brownie points: \n",
    "- SMPC averaging still gets us to a functional model"
   ]
  },
  {
   "cell_type": "code",
   "execution_count": null,
   "id": "63132139-045c-4144-8e84-ed290f3f55c1",
   "metadata": {},
   "outputs": [],
   "source": []
  }
 ],
 "metadata": {
  "kernelspec": {
   "display_name": "Python 3 (ipykernel)",
   "language": "python",
   "name": "python3"
  },
  "language_info": {
   "codemirror_mode": {
    "name": "ipython",
    "version": 3
   },
   "file_extension": ".py",
   "mimetype": "text/x-python",
   "name": "python",
   "nbconvert_exporter": "python",
   "pygments_lexer": "ipython3",
   "version": "3.9.7"
  }
 },
 "nbformat": 4,
 "nbformat_minor": 5
}
