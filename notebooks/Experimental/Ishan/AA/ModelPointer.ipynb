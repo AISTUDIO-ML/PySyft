{
 "cells": [
  {
   "cell_type": "code",
   "execution_count": 1,
   "id": "741702ba",
   "metadata": {},
   "outputs": [
    {
     "name": "stderr",
     "output_type": "stream",
     "text": [
      "/home/shubham/anaconda3/envs/syft/lib/python3.9/site-packages/tqdm/auto.py:22: TqdmWarning: IProgress not found. Please update jupyter and ipywidgets. See https://ipywidgets.readthedocs.io/en/stable/user_install.html\n",
      "  from .autonotebook import tqdm as notebook_tqdm\n",
      "/home/shubham/PySyft/packages/syft/src/syft/core/common/serde/serializable.py:105: UserWarning: __attr_allowlist__ not defined for type Activation, even if it uses recursive serde, defaulting on the empty list.\n",
      "  warnings.warn(\n",
      "/home/shubham/PySyft/packages/syft/src/syft/core/common/serde/serializable.py:105: UserWarning: __attr_allowlist__ not defined for type Linear, even if it uses recursive serde, defaulting on the empty list.\n",
      "  warnings.warn(\n",
      "/home/shubham/PySyft/packages/syft/src/syft/core/common/serde/serializable.py:105: UserWarning: __attr_allowlist__ not defined for type BatchNorm, even if it uses recursive serde, defaulting on the empty list.\n",
      "  warnings.warn(\n",
      "/home/shubham/PySyft/packages/syft/src/syft/core/common/serde/serializable.py:105: UserWarning: __attr_allowlist__ not defined for type AvgPool, even if it uses recursive serde, defaulting on the empty list.\n",
      "  warnings.warn(\n",
      "/home/shubham/PySyft/packages/syft/src/syft/core/common/serde/serializable.py:105: UserWarning: __attr_allowlist__ not defined for type MaxPool, even if it uses recursive serde, defaulting on the empty list.\n",
      "  warnings.warn(\n",
      "/home/shubham/PySyft/packages/syft/src/syft/core/common/serde/serializable.py:105: UserWarning: __attr_allowlist__ not defined for type Loss, even if it uses recursive serde, defaulting on the empty list.\n",
      "  warnings.warn(\n",
      "/home/shubham/PySyft/packages/syft/src/syft/core/common/serde/serializable.py:105: UserWarning: __attr_allowlist__ not defined for type Optimizer, even if it uses recursive serde, defaulting on the empty list.\n",
      "  warnings.warn(\n"
     ]
    }
   ],
   "source": [
    "import syft as sy"
   ]
  },
  {
   "cell_type": "code",
   "execution_count": 2,
   "id": "88e54c20",
   "metadata": {},
   "outputs": [
    {
     "name": "stdout",
     "output_type": "stream",
     "text": [
      "WARNING: CHANGE YOUR USERNAME AND PASSWORD!!! \n",
      "\n",
      "Anyone can login as an admin to your node right now because your password is still the default PySyft username and password!!!\n",
      "\n",
      "Connecting to localhost... done! \t Logging into mystifying_sophia... done!\n"
     ]
    }
   ],
   "source": [
    "domain_client = sy.login(email=\"info@openmined.org\", password=\"changethis\", port=8081)"
   ]
  },
  {
   "cell_type": "code",
   "execution_count": 3,
   "id": "5a662a69",
   "metadata": {},
   "outputs": [],
   "source": [
    "from syft.core.tensor import nn"
   ]
  },
  {
   "cell_type": "code",
   "execution_count": 4,
   "id": "1590f15f",
   "metadata": {},
   "outputs": [],
   "source": [
    "# net = nn.Model()\n",
    "\n",
    "# # Layer 1\n",
    "# net.add(nn.Convolution(32, (3, 3), input_shape=(100, 3, 50, 50)))\n",
    "# net.add(nn.BatchNorm())\n",
    "# net.add(nn.MaxPool((2, 2)))\n",
    "\n",
    "# # Layer 2\n",
    "# net.add(nn.Convolution(64, (3, 3)))\n",
    "# net.add(nn.BatchNorm())\n",
    "# net.add(nn.MaxPool((2, 2)))\n",
    "\n",
    "# # Layer 3\n",
    "# net.add(nn.Convolution(128, (3, 3)))\n",
    "# net.add(nn.BatchNorm())\n",
    "# net.add(nn.MaxPool((2, 2)))\n",
    "\n",
    "# # Layer 4\n",
    "# net.add(nn.Convolution(256, (3, 3)))\n",
    "# net.add(nn.BatchNorm())\n",
    "# net.add(nn.MaxPool((2, 2)))\n",
    "\n",
    "# # Layer 5\n",
    "# net.add(nn.Convolution(512, (3, 3)))\n",
    "# net.add(nn.BatchNorm())\n",
    "# net.add(nn.MaxPool((2, 2)))\n",
    "\n",
    "# # Final Layers\n",
    "# net.add(nn.AvgPool(5))\n",
    "# net.add(nn.Linear(512 * 1 * 1, 2))"
   ]
  },
  {
   "cell_type": "code",
   "execution_count": 5,
   "id": "425409ab",
   "metadata": {},
   "outputs": [],
   "source": [
    "net = nn.Model()\n",
    "net.add(nn.Convolution(1, (3, 3), input_shape=(None, 1, 28, 28)))\n",
    "net.add(nn.MaxPool((2, 2)))\n",
    "net.add(nn.Convolution(2, (4, 4)))\n",
    "net.add(nn.MaxPool((2, 2)))\n",
    "net.compile()"
   ]
  },
  {
   "cell_type": "code",
   "execution_count": 6,
   "id": "0b34dfcd",
   "metadata": {
    "scrolled": true
   },
   "outputs": [],
   "source": [
    "model_ser = sy.serialize(net, to_bytes=True)"
   ]
  },
  {
   "cell_type": "code",
   "execution_count": 8,
   "id": "eba8106f",
   "metadata": {},
   "outputs": [],
   "source": [
    "model_deser = sy.deserialize(model_ser, from_bytes=True)"
   ]
  },
  {
   "cell_type": "code",
   "execution_count": 9,
   "id": "b2f017b8",
   "metadata": {},
   "outputs": [
    {
     "data": {
      "text/plain": [
       "(array([[[[-0.55988933,  0.05404875,  0.0816701 ],\n",
       "          [ 0.39861192, -0.23402954,  0.01944147],\n",
       "          [-0.12694135, -0.26377245,  0.33427181]]]]),\n",
       " array([0.]))"
      ]
     },
     "execution_count": 9,
     "metadata": {},
     "output_type": "execute_result"
    }
   ],
   "source": [
    "net.layers[0].params"
   ]
  },
  {
   "cell_type": "code",
   "execution_count": 11,
   "id": "0af76dab",
   "metadata": {},
   "outputs": [
    {
     "data": {
      "text/plain": [
       "(array([[[[-0.55988933,  0.05404875,  0.0816701 ],\n",
       "          [ 0.39861192, -0.23402954,  0.01944147],\n",
       "          [-0.12694135, -0.26377245,  0.33427181]]]]),\n",
       " array([0.]))"
      ]
     },
     "execution_count": 11,
     "metadata": {},
     "output_type": "execute_result"
    }
   ],
   "source": [
    "model_deser.layers[0].params"
   ]
  },
  {
   "cell_type": "code",
   "execution_count": 11,
   "id": "5c6a5ef3",
   "metadata": {},
   "outputs": [],
   "source": [
    "model_ptr = net.send(domain_client)"
   ]
  },
  {
   "cell_type": "code",
   "execution_count": 9,
   "id": "4d31b5f7",
   "metadata": {},
   "outputs": [],
   "source": [
    "m=model_ptr.get()"
   ]
  },
  {
   "cell_type": "code",
   "execution_count": 10,
   "id": "19e7e6c8",
   "metadata": {},
   "outputs": [
    {
     "data": {
      "text/plain": [
       "(array([[[[-0.45464367, -0.25529376,  0.01966389],\n",
       "          [-0.04916009,  0.43891278,  0.30711791],\n",
       "          [-0.56897862, -0.28735674,  0.3634129 ]]]]),\n",
       " array([0.]))"
      ]
     },
     "execution_count": 10,
     "metadata": {},
     "output_type": "execute_result"
    }
   ],
   "source": [
    "m.layers[0].params"
   ]
  },
  {
   "cell_type": "code",
   "execution_count": 9,
   "id": "d696e59d",
   "metadata": {},
   "outputs": [
    {
     "data": {
      "text/plain": [
       "<UID: a27369cd5c274e7d996a6dd7cc61364a>"
      ]
     },
     "execution_count": 9,
     "metadata": {},
     "output_type": "execute_result"
    }
   ],
   "source": [
    "model_ptr.fit()"
   ]
  },
  {
   "cell_type": "code",
   "execution_count": null,
   "id": "f5926c2f",
   "metadata": {},
   "outputs": [],
   "source": []
  },
  {
   "cell_type": "code",
   "execution_count": 11,
   "id": "f6e1997e",
   "metadata": {},
   "outputs": [],
   "source": []
  },
  {
   "cell_type": "code",
   "execution_count": null,
   "id": "d9d267b3",
   "metadata": {},
   "outputs": [],
   "source": []
  }
 ],
 "metadata": {
  "kernelspec": {
   "display_name": "Python 3 (ipykernel)",
   "language": "python",
   "name": "python3"
  },
  "language_info": {
   "codemirror_mode": {
    "name": "ipython",
    "version": 3
   },
   "file_extension": ".py",
   "mimetype": "text/x-python",
   "name": "python",
   "nbconvert_exporter": "python",
   "pygments_lexer": "ipython3",
   "version": "3.9.7"
  }
 },
 "nbformat": 4,
 "nbformat_minor": 5
}
