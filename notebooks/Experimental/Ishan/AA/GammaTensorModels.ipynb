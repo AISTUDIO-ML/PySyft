{
 "cells": [
  {
   "cell_type": "code",
   "execution_count": 1,
   "id": "98e68085-5cbe-4692-a5de-b29e49072b21",
   "metadata": {},
   "outputs": [
    {
     "name": "stderr",
     "output_type": "stream",
     "text": [
      "/opt/anaconda3/envs/Hagrid/lib/python3.8/site-packages/tqdm/auto.py:22: TqdmWarning: IProgress not found. Please update jupyter and ipywidgets. See https://ipywidgets.readthedocs.io/en/stable/user_install.html\n",
      "  from .autonotebook import tqdm as notebook_tqdm\n"
     ]
    }
   ],
   "source": [
    "from syft import nn\n",
    "from syft import PhiTensor\n",
    "from syft import GammaTensor\n",
    "from syft import DataSubjectList\n",
    "import numpy as np"
   ]
  },
  {
   "cell_type": "markdown",
   "id": "b4bcf6e4-0cc2-4bd5-9a63-2e5015338089",
   "metadata": {},
   "source": [
    "## Test out utils functions"
   ]
  },
  {
   "cell_type": "code",
   "execution_count": 2,
   "id": "81332613-de25-4cda-9604-8d69f16b13d2",
   "metadata": {},
   "outputs": [],
   "source": [
    "from jax import numpy as jnp"
   ]
  },
  {
   "cell_type": "code",
   "execution_count": 3,
   "id": "e4cdc4cb-1247-4c03-8f93-9d1030270638",
   "metadata": {},
   "outputs": [
    {
     "name": "stderr",
     "output_type": "stream",
     "text": [
      "WARNING:absl:No GPU/TPU found, falling back to CPU. (Set TF_CPP_MIN_LOG_LEVEL=0 and rerun for more info.)\n"
     ]
    },
    {
     "data": {
      "text/plain": [
       "array([0., 0., 0., 0., 0.])"
      ]
     },
     "execution_count": 3,
     "metadata": {},
     "output_type": "execute_result"
    }
   ],
   "source": [
    "np.log(jnp.ones(5))"
   ]
  },
  {
   "cell_type": "code",
   "execution_count": 4,
   "id": "614a0860-a695-4721-8ce8-4cd1cb8a35ca",
   "metadata": {},
   "outputs": [
    {
     "data": {
      "text/plain": [
       "1.0"
      ]
     },
     "execution_count": 4,
     "metadata": {},
     "output_type": "execute_result"
    }
   ],
   "source": [
    "np.log(np.e)"
   ]
  },
  {
   "cell_type": "code",
   "execution_count": 5,
   "id": "1ca4afa3-4934-48b0-b152-244f679158f5",
   "metadata": {},
   "outputs": [],
   "source": [
    "dsl = DataSubjectList(one_hot_lookup=np.array([0,1]), data_subjects_indexed=np.concatenate((np.zeros(10), np.ones(10))))"
   ]
  },
  {
   "cell_type": "code",
   "execution_count": 6,
   "id": "85938558-57f8-4abd-a3e6-c5f77a728928",
   "metadata": {},
   "outputs": [
    {
     "data": {
      "text/plain": [
       "array([0., 0., 0., 0., 0., 0., 0., 0., 0., 0.])"
      ]
     },
     "execution_count": 6,
     "metadata": {},
     "output_type": "execute_result"
    }
   ],
   "source": [
    "np.log(np.ones(10))"
   ]
  },
  {
   "cell_type": "code",
   "execution_count": 7,
   "id": "6f99d78f-f760-46ca-aba2-a773d10ea13c",
   "metadata": {},
   "outputs": [],
   "source": [
    "gt = GammaTensor(child=np.ones(10)*np.e,data_subjects=dsl ,min_val=1, max_val=5)"
   ]
  },
  {
   "cell_type": "code",
   "execution_count": 8,
   "id": "ceecc364-61b9-4c70-9bf1-104517d293e7",
   "metadata": {},
   "outputs": [
    {
     "data": {
      "text/plain": [
       "GammaTensor(child=array([1., 1., 1., 1., 1., 1., 1., 1., 1., 1.]), data_subjects=<syft.core.adp.data_subject_list.DataSubjectList object at 0x7feeb3549ee0>, min_val=<lazyrepeatarray data: 0.0 -> shape: (10,)>, max_val=<lazyrepeatarray data: 1.6094379124341003 -> shape: (10,)>, is_linear=True, func=<function GammaTensor.log.<locals>._log at 0x7feeb35859d0>, id='1103955744', state={'908042406': GammaTensor(child=array([2.71828183, 2.71828183, 2.71828183, 2.71828183, 2.71828183,\n",
       "       2.71828183, 2.71828183, 2.71828183, 2.71828183, 2.71828183]), data_subjects=<syft.core.adp.data_subject_list.DataSubjectList object at 0x7feeb3549ee0>, min_val=1, max_val=5, is_linear=True, func=<function no_op at 0x7feeb2878040>, id='908042406', state={})})"
      ]
     },
     "execution_count": 8,
     "metadata": {},
     "output_type": "execute_result"
    }
   ],
   "source": [
    "gt.log()"
   ]
  },
  {
   "cell_type": "code",
   "execution_count": 9,
   "id": "620209e8-0e86-40b4-9687-aa19af48746a",
   "metadata": {},
   "outputs": [
    {
     "data": {
      "text/plain": [
       "GammaTensor(child=array([1., 1., 1., 1., 1., 1., 1., 1., 1., 1.]), data_subjects=<syft.core.adp.data_subject_list.DataSubjectList object at 0x7feeb3549ee0>, min_val=<lazyrepeatarray data: 0.0 -> shape: (10,)>, max_val=<lazyrepeatarray data: 1.6094379124341003 -> shape: (10,)>, is_linear=True, func=<function GammaTensor.log.<locals>._log at 0x7feeb3585d30>, id='2045560941', state={'908042406': GammaTensor(child=array([2.71828183, 2.71828183, 2.71828183, 2.71828183, 2.71828183,\n",
       "       2.71828183, 2.71828183, 2.71828183, 2.71828183, 2.71828183]), data_subjects=<syft.core.adp.data_subject_list.DataSubjectList object at 0x7feeb3549ee0>, min_val=1, max_val=5, is_linear=True, func=<function no_op at 0x7feeb2878040>, id='908042406', state={})})"
      ]
     },
     "execution_count": 9,
     "metadata": {},
     "output_type": "execute_result"
    }
   ],
   "source": [
    "nn.utils.dp_log(gt)"
   ]
  },
  {
   "cell_type": "code",
   "execution_count": 10,
   "id": "fac6df79-1570-4674-b8bc-d228bc6e25dd",
   "metadata": {},
   "outputs": [
    {
     "data": {
      "text/plain": [
       "GammaTensor(child=array([0., 0., 0., 0., 0., 0., 0., 0., 0., 0.]), data_subjects=<syft.core.adp.data_subject_list.DataSubjectList object at 0x7feeb3587880>, min_val=<lazyrepeatarray data: 0.0 -> shape: (10,)>, max_val=<lazyrepeatarray data: 0.0 -> shape: (10,)>, is_linear=True, func=<function no_op at 0x7feeb2878040>, id='944352444', state={})"
      ]
     },
     "execution_count": 10,
     "metadata": {},
     "output_type": "execute_result"
    }
   ],
   "source": [
    "nn.utils.dp_zeros(gt.shape, gt.data_subjects)"
   ]
  },
  {
   "cell_type": "markdown",
   "id": "d505e07e-1eae-44ec-ae70-05a17275d29a",
   "metadata": {},
   "source": [
    "## DataSubjectList Combination tests\n",
    "\n",
    "\n",
    "**Case 1: Non-overlapping DSL**"
   ]
  },
  {
   "cell_type": "code",
   "execution_count": 20,
   "id": "d5d7e49d-3f87-4e34-b3c5-45991c364623",
   "metadata": {},
   "outputs": [],
   "source": [
    "dsl1 = DataSubjectList(\n",
    "    one_hot_lookup=np.arange(10),\n",
    "    data_subjects_indexed=np.random.choice(np.arange(10), size=(10, 10))\n",
    ")"
   ]
  },
  {
   "cell_type": "code",
   "execution_count": 27,
   "id": "4cc45131-6c0b-4e55-ad59-67b4456cb44b",
   "metadata": {},
   "outputs": [],
   "source": [
    "w = np.arange(100, 110)\n",
    "dsl2 = DataSubjectList(\n",
    "    one_hot_lookup = w,\n",
    "    data_subjects_indexed=np.random.choice(np.arange(len(w)), size=(10, 10))\n",
    ")"
   ]
  },
  {
   "cell_type": "code",
   "execution_count": 28,
   "id": "9de9fb89-5b4a-4a23-aa7d-99be6884922c",
   "metadata": {},
   "outputs": [
    {
     "data": {
      "text/plain": [
       "(array([0, 1, 2, 3, 4, 5, 6, 7, 8, 9]),\n",
       " array([100, 101, 102, 103, 104, 105, 106, 107, 108, 109]))"
      ]
     },
     "execution_count": 28,
     "metadata": {},
     "output_type": "execute_result"
    }
   ],
   "source": [
    "dsl1.one_hot_lookup, dsl2.one_hot_lookup"
   ]
  },
  {
   "cell_type": "code",
   "execution_count": 29,
   "id": "a4e5ab9a-d264-4e7f-9d8c-012973787842",
   "metadata": {},
   "outputs": [
    {
     "data": {
      "text/plain": [
       "array([[1, 3, 8, 3, 9, 2, 9, 3, 6, 1],\n",
       "       [6, 7, 6, 7, 5, 9, 0, 3, 7, 5],\n",
       "       [7, 8, 4, 2, 6, 9, 8, 3, 9, 5],\n",
       "       [6, 6, 5, 9, 3, 4, 5, 9, 8, 7],\n",
       "       [1, 1, 4, 1, 5, 7, 1, 8, 7, 9],\n",
       "       [1, 4, 0, 2, 1, 5, 1, 5, 7, 6],\n",
       "       [3, 4, 8, 9, 4, 5, 4, 8, 1, 7],\n",
       "       [2, 7, 4, 6, 0, 5, 7, 9, 4, 4],\n",
       "       [2, 0, 5, 5, 1, 6, 4, 0, 3, 6],\n",
       "       [0, 3, 3, 7, 6, 1, 4, 5, 0, 6]])"
      ]
     },
     "execution_count": 29,
     "metadata": {},
     "output_type": "execute_result"
    }
   ],
   "source": [
    "dsl1.data_subjects_indexed"
   ]
  },
  {
   "cell_type": "code",
   "execution_count": 30,
   "id": "56aa3bf4-0133-475c-b087-523ac5261658",
   "metadata": {},
   "outputs": [
    {
     "data": {
      "text/plain": [
       "array([[4, 9, 5, 6, 2, 0, 9, 2, 1, 1],\n",
       "       [1, 3, 1, 6, 5, 6, 6, 2, 9, 7],\n",
       "       [5, 0, 0, 3, 9, 9, 0, 6, 4, 9],\n",
       "       [9, 5, 0, 0, 0, 5, 0, 1, 5, 2],\n",
       "       [5, 1, 6, 1, 9, 0, 8, 8, 6, 5],\n",
       "       [8, 9, 2, 7, 8, 1, 6, 7, 3, 0],\n",
       "       [6, 3, 6, 4, 7, 5, 0, 4, 1, 5],\n",
       "       [0, 5, 1, 7, 9, 6, 5, 9, 6, 6],\n",
       "       [6, 7, 1, 7, 5, 0, 7, 9, 2, 7],\n",
       "       [7, 4, 2, 8, 7, 3, 6, 8, 6, 0]])"
      ]
     },
     "execution_count": 30,
     "metadata": {},
     "output_type": "execute_result"
    }
   ],
   "source": [
    "dsl2.data_subjects_indexed"
   ]
  },
  {
   "cell_type": "code",
   "execution_count": 31,
   "id": "0a79132b-6199-48b8-a9ca-e9cfeaf14dc5",
   "metadata": {},
   "outputs": [],
   "source": [
    "dsl3 = DataSubjectList.combine(dsl1, dsl2)"
   ]
  },
  {
   "cell_type": "code",
   "execution_count": 32,
   "id": "e33f2b53-287c-470b-aede-b2098e3655ab",
   "metadata": {},
   "outputs": [
    {
     "data": {
      "text/plain": [
       "array([  0,   1,   2,   3,   4,   5,   6,   7,   8,   9, 100, 101, 102,\n",
       "       103, 104, 105, 106, 107, 108, 109])"
      ]
     },
     "execution_count": 32,
     "metadata": {},
     "output_type": "execute_result"
    }
   ],
   "source": [
    "dsl3.one_hot_lookup"
   ]
  },
  {
   "cell_type": "markdown",
   "id": "4e00d4b0-73f9-4a4a-a6db-60467505f3f2",
   "metadata": {},
   "source": [
    "**Case 2: Fully overlapping DSL**"
   ]
  },
  {
   "cell_type": "code",
   "execution_count": 33,
   "id": "049f4222-0078-4ae2-b718-8cb81bda00e2",
   "metadata": {},
   "outputs": [],
   "source": [
    "dsl4 = DataSubjectList.combine(dsl1, dsl1)"
   ]
  },
  {
   "cell_type": "code",
   "execution_count": 34,
   "id": "c8082219-0680-434d-ac23-1ff267e59239",
   "metadata": {},
   "outputs": [
    {
     "data": {
      "text/plain": [
       "True"
      ]
     },
     "execution_count": 34,
     "metadata": {},
     "output_type": "execute_result"
    }
   ],
   "source": [
    "dsl4 == dsl1"
   ]
  },
  {
   "cell_type": "code",
   "execution_count": 36,
   "id": "6f603c83-5f21-4c8a-8c4a-51f763669caa",
   "metadata": {},
   "outputs": [
    {
     "data": {
      "text/plain": [
       "True"
      ]
     },
     "execution_count": 36,
     "metadata": {},
     "output_type": "execute_result"
    }
   ],
   "source": [
    "(dsl4.data_subjects_indexed == dsl1.data_subjects_indexed).all()"
   ]
  },
  {
   "cell_type": "markdown",
   "id": "9e4895a2-d2af-44e7-8456-2f675f2dbd6c",
   "metadata": {},
   "source": [
    "**Case 3: Partially overlapping DSL**"
   ]
  },
  {
   "cell_type": "code",
   "execution_count": 20,
   "id": "5d36e25e-2be2-490f-9955-e0900fff47d2",
   "metadata": {},
   "outputs": [],
   "source": [
    "dsl1 = DataSubjectList(\n",
    "    one_hot_lookup=np.arange(10),\n",
    "    data_subjects_indexed=np.random.choice(np.arange(10), size=(10, 10))\n",
    ")"
   ]
  },
  {
   "cell_type": "code",
   "execution_count": 38,
   "id": "2e53b648-0ce8-46b7-aca3-75e3891a5c9b",
   "metadata": {},
   "outputs": [],
   "source": [
    "w = np.arange(7, 17)\n",
    "dsl5 = DataSubjectList(\n",
    "    one_hot_lookup = w,\n",
    "    data_subjects_indexed=np.random.choice(np.arange(len(w)), size=(10, 10))\n",
    ")"
   ]
  },
  {
   "cell_type": "code",
   "execution_count": 39,
   "id": "f5c3a343-cf70-4ef1-8ea9-ac146fc8272d",
   "metadata": {},
   "outputs": [
    {
     "data": {
      "text/plain": [
       "(array([0, 1, 2, 3, 4, 5, 6, 7, 8, 9]),\n",
       " array([ 7,  8,  9, 10, 11, 12, 13, 14, 15, 16]))"
      ]
     },
     "execution_count": 39,
     "metadata": {},
     "output_type": "execute_result"
    }
   ],
   "source": [
    "dsl1.one_hot_lookup, dsl5.one_hot_lookup"
   ]
  },
  {
   "cell_type": "code",
   "execution_count": 43,
   "id": "2c83b9cb-fd18-4a29-ad1e-ef0724a35615",
   "metadata": {},
   "outputs": [
    {
     "data": {
      "text/plain": [
       "array([[8, 7, 8, 4, 7, 7, 8, 5, 7, 5],\n",
       "       [3, 6, 5, 5, 2, 6, 3, 5, 9, 6],\n",
       "       [0, 6, 8, 7, 6, 9, 3, 5, 9, 4],\n",
       "       [7, 3, 8, 4, 0, 0, 9, 4, 4, 7],\n",
       "       [5, 9, 9, 0, 1, 8, 6, 9, 0, 6],\n",
       "       [9, 4, 8, 1, 5, 6, 8, 1, 5, 2],\n",
       "       [1, 8, 9, 7, 4, 1, 5, 5, 1, 7],\n",
       "       [2, 6, 0, 4, 2, 5, 8, 1, 0, 4],\n",
       "       [0, 6, 7, 3, 8, 1, 9, 4, 3, 7],\n",
       "       [8, 1, 8, 4, 4, 9, 9, 3, 6, 7]])"
      ]
     },
     "execution_count": 43,
     "metadata": {},
     "output_type": "execute_result"
    }
   ],
   "source": [
    "dsl5.data_subjects_indexed"
   ]
  },
  {
   "cell_type": "code",
   "execution_count": 40,
   "id": "c2fb215f-22eb-4e93-b2d9-8533c2fcda2a",
   "metadata": {},
   "outputs": [],
   "source": [
    "dsl6 = DataSubjectList.combine(dsl1, dsl5)"
   ]
  },
  {
   "cell_type": "code",
   "execution_count": 41,
   "id": "ecc46f8f-054b-4f2f-962b-c67a77831d04",
   "metadata": {},
   "outputs": [
    {
     "data": {
      "text/plain": [
       "array([ 0,  1,  2,  3,  4,  5,  6,  7,  8,  9, 10, 11, 12, 13, 14, 15, 16])"
      ]
     },
     "execution_count": 41,
     "metadata": {},
     "output_type": "execute_result"
    }
   ],
   "source": [
    "dsl6.one_hot_lookup"
   ]
  },
  {
   "cell_type": "code",
   "execution_count": 42,
   "id": "12b237ec-3862-4b44-aa43-30364421b5f2",
   "metadata": {},
   "outputs": [
    {
     "data": {
      "text/plain": [
       "array([[[ 1,  3,  8,  3,  9,  2,  9,  3,  6,  1],\n",
       "        [ 6,  7,  6,  7,  5,  9,  0,  3,  7,  5],\n",
       "        [ 7,  8,  4,  2,  6,  9,  8,  3,  9,  5],\n",
       "        [ 6,  6,  5,  9,  3,  4,  5,  9,  8,  7],\n",
       "        [ 1,  1,  4,  1,  5,  7,  1,  8,  7,  9],\n",
       "        [ 1,  4,  0,  2,  1,  5,  1,  5,  7,  6],\n",
       "        [ 3,  4,  8,  9,  4,  5,  4,  8,  1,  7],\n",
       "        [ 2,  7,  4,  6,  0,  5,  7,  9,  4,  4],\n",
       "        [ 2,  0,  5,  5,  1,  6,  4,  0,  3,  6],\n",
       "        [ 0,  3,  3,  7,  6,  1,  4,  5,  0,  6]],\n",
       "\n",
       "       [[15, 14, 15, 11, 14, 14, 15, 12, 14, 12],\n",
       "        [10, 13, 12, 12,  9, 13, 10, 12, 16, 13],\n",
       "        [ 7, 13, 15, 14, 13, 16, 10, 12, 16, 11],\n",
       "        [14, 10, 15, 11,  7,  7, 16, 11, 11, 14],\n",
       "        [12, 16, 16,  7,  8, 15, 13, 16,  7, 13],\n",
       "        [16, 11, 15,  8, 12, 13, 15,  8, 12,  9],\n",
       "        [ 8, 15, 16, 14, 11,  8, 12, 12,  8, 14],\n",
       "        [ 9, 13,  7, 11,  9, 12, 15,  8,  7, 11],\n",
       "        [ 7, 13, 14, 10, 15,  8, 16, 11, 10, 14],\n",
       "        [15,  8, 15, 11, 11, 16, 16, 10, 13, 14]]])"
      ]
     },
     "execution_count": 42,
     "metadata": {},
     "output_type": "execute_result"
    }
   ],
   "source": [
    "dsl6.data_subjects_indexed"
   ]
  },
  {
   "cell_type": "code",
   "execution_count": 46,
   "id": "1092c956-914f-4fd9-868d-e316e538f382",
   "metadata": {},
   "outputs": [
    {
     "data": {
      "text/plain": [
       "True"
      ]
     },
     "execution_count": 46,
     "metadata": {},
     "output_type": "execute_result"
    }
   ],
   "source": [
    "(dsl6.data_subjects_indexed[0] == dsl1.data_subjects_indexed).all()"
   ]
  },
  {
   "cell_type": "code",
   "execution_count": null,
   "id": "24556b5f-11c2-4fd2-b48b-3ddece5ee2b5",
   "metadata": {},
   "outputs": [],
   "source": []
  }
 ],
 "metadata": {
  "kernelspec": {
   "display_name": "Hagrid",
   "language": "python",
   "name": "hagrid"
  },
  "language_info": {
   "codemirror_mode": {
    "name": "ipython",
    "version": 3
   },
   "file_extension": ".py",
   "mimetype": "text/x-python",
   "name": "python",
   "nbconvert_exporter": "python",
   "pygments_lexer": "ipython3",
   "version": "3.8.10"
  }
 },
 "nbformat": 4,
 "nbformat_minor": 5
}
