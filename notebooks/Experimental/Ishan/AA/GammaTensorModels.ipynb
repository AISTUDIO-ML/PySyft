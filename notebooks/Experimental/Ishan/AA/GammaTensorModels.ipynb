{
 "cells": [
  {
   "cell_type": "code",
   "execution_count": 1,
   "id": "98e68085-5cbe-4692-a5de-b29e49072b21",
   "metadata": {},
   "outputs": [
    {
     "name": "stderr",
     "output_type": "stream",
     "text": [
      "/opt/anaconda3/envs/Hagrid/lib/python3.8/site-packages/tqdm/auto.py:22: TqdmWarning: IProgress not found. Please update jupyter and ipywidgets. See https://ipywidgets.readthedocs.io/en/stable/user_install.html\n",
      "  from .autonotebook import tqdm as notebook_tqdm\n"
     ]
    }
   ],
   "source": [
    "from syft import nn\n",
    "from syft import PhiTensor\n",
    "from syft import GammaTensor\n",
    "from syft import DataSubjectList\n",
    "import numpy as np"
   ]
  },
  {
   "cell_type": "code",
   "execution_count": 2,
   "id": "81332613-de25-4cda-9604-8d69f16b13d2",
   "metadata": {},
   "outputs": [],
   "source": [
    "from jax import numpy as jnp"
   ]
  },
  {
   "cell_type": "code",
   "execution_count": 3,
   "id": "e4cdc4cb-1247-4c03-8f93-9d1030270638",
   "metadata": {},
   "outputs": [
    {
     "name": "stderr",
     "output_type": "stream",
     "text": [
      "WARNING:absl:No GPU/TPU found, falling back to CPU. (Set TF_CPP_MIN_LOG_LEVEL=0 and rerun for more info.)\n"
     ]
    },
    {
     "data": {
      "text/plain": [
       "array([0., 0., 0., 0., 0.])"
      ]
     },
     "execution_count": 3,
     "metadata": {},
     "output_type": "execute_result"
    }
   ],
   "source": [
    "np.log(jnp.ones(5))"
   ]
  },
  {
   "cell_type": "code",
   "execution_count": 4,
   "id": "614a0860-a695-4721-8ce8-4cd1cb8a35ca",
   "metadata": {},
   "outputs": [
    {
     "data": {
      "text/plain": [
       "1.0"
      ]
     },
     "execution_count": 4,
     "metadata": {},
     "output_type": "execute_result"
    }
   ],
   "source": [
    "np.log(np.e)"
   ]
  },
  {
   "cell_type": "code",
   "execution_count": 5,
   "id": "1ca4afa3-4934-48b0-b152-244f679158f5",
   "metadata": {},
   "outputs": [],
   "source": [
    "dsl = DataSubjectList(one_hot_lookup=np.array([0,1]), data_subjects_indexed=np.concatenate((np.zeros(10), np.ones(10))))"
   ]
  },
  {
   "cell_type": "code",
   "execution_count": 6,
   "id": "85938558-57f8-4abd-a3e6-c5f77a728928",
   "metadata": {},
   "outputs": [
    {
     "data": {
      "text/plain": [
       "array([0., 0., 0., 0., 0., 0., 0., 0., 0., 0.])"
      ]
     },
     "execution_count": 6,
     "metadata": {},
     "output_type": "execute_result"
    }
   ],
   "source": [
    "np.log(np.ones(10))"
   ]
  },
  {
   "cell_type": "code",
   "execution_count": 7,
   "id": "6f99d78f-f760-46ca-aba2-a773d10ea13c",
   "metadata": {},
   "outputs": [],
   "source": [
    "gt = GammaTensor(child=np.ones(10)*np.e,data_subjects=dsl ,min_val=1, max_val=5)"
   ]
  },
  {
   "cell_type": "code",
   "execution_count": 8,
   "id": "ceecc364-61b9-4c70-9bf1-104517d293e7",
   "metadata": {},
   "outputs": [
    {
     "data": {
      "text/plain": [
       "GammaTensor(child=array([1., 1., 1., 1., 1., 1., 1., 1., 1., 1.]), data_subjects=<syft.core.adp.data_subject_list.DataSubjectList object at 0x7fb8afc8eeb0>, min_val=<lazyrepeatarray data: 0.0 -> shape: (10,)>, max_val=<lazyrepeatarray data: 1.6094379124341003 -> shape: (10,)>, is_linear=True, func=<function GammaTensor.log.<locals>._log at 0x7fb8afcc11f0>, id='1962967889', state={'1698737550': GammaTensor(child=array([2.71828183, 2.71828183, 2.71828183, 2.71828183, 2.71828183,\n",
       "       2.71828183, 2.71828183, 2.71828183, 2.71828183, 2.71828183]), data_subjects=<syft.core.adp.data_subject_list.DataSubjectList object at 0x7fb8afc8eeb0>, min_val=1, max_val=5, is_linear=True, func=<function no_op at 0x7fb8af0b00d0>, id='1698737550', state={})})"
      ]
     },
     "execution_count": 8,
     "metadata": {},
     "output_type": "execute_result"
    }
   ],
   "source": [
    "gt.log()"
   ]
  },
  {
   "cell_type": "code",
   "execution_count": 12,
   "id": "620209e8-0e86-40b4-9687-aa19af48746a",
   "metadata": {},
   "outputs": [
    {
     "ename": "ValueError",
     "evalue": "The truth value of an array with more than one element is ambiguous. Use a.any() or a.all()",
     "output_type": "error",
     "traceback": [
      "\u001b[0;31m---------------------------------------------------------------------------\u001b[0m",
      "\u001b[0;31mValueError\u001b[0m                                Traceback (most recent call last)",
      "Input \u001b[0;32mIn [12]\u001b[0m, in \u001b[0;36m<cell line: 2>\u001b[0;34m()\u001b[0m\n\u001b[1;32m      1\u001b[0m res \u001b[38;5;241m=\u001b[39m nn\u001b[38;5;241m.\u001b[39mutils\u001b[38;5;241m.\u001b[39mdp_log(gt)\n\u001b[0;32m----> 2\u001b[0m \u001b[38;5;28;01massert\u001b[39;00m \u001b[43mres\u001b[49m\u001b[43m \u001b[49m\u001b[38;5;241;43m==\u001b[39;49m\u001b[43m \u001b[49m\u001b[43mgt\u001b[49m\u001b[38;5;241;43m.\u001b[39;49m\u001b[43mlog\u001b[49m\u001b[43m(\u001b[49m\u001b[43m)\u001b[49m\n",
      "File \u001b[0;32m<string>:4\u001b[0m, in \u001b[0;36m__eq__\u001b[0;34m(self, other)\u001b[0m\n",
      "\u001b[0;31mValueError\u001b[0m: The truth value of an array with more than one element is ambiguous. Use a.any() or a.all()"
     ]
    }
   ],
   "source": [
    "res = nn.utils.dp_log(gt)\n",
    "assert res == gt.log()"
   ]
  },
  {
   "cell_type": "code",
   "execution_count": 10,
   "id": "fac6df79-1570-4674-b8bc-d228bc6e25dd",
   "metadata": {},
   "outputs": [
    {
     "data": {
      "text/plain": [
       "GammaTensor(child=array([1., 1., 1., 1., 1., 1., 1., 1., 1., 1.]), data_subjects=<syft.core.adp.data_subject_list.DataSubjectList object at 0x7fb8afc8eeb0>, min_val=<lazyrepeatarray data: 0.0 -> shape: (10,)>, max_val=<lazyrepeatarray data: 1.6094379124341003 -> shape: (10,)>, is_linear=True, func=<function GammaTensor.log.<locals>._log at 0x7fb8afcc1790>, id='1020109359', state={'1698737550': GammaTensor(child=array([2.71828183, 2.71828183, 2.71828183, 2.71828183, 2.71828183,\n",
       "       2.71828183, 2.71828183, 2.71828183, 2.71828183, 2.71828183]), data_subjects=<syft.core.adp.data_subject_list.DataSubjectList object at 0x7fb8afc8eeb0>, min_val=1, max_val=5, is_linear=True, func=<function no_op at 0x7fb8af0b00d0>, id='1698737550', state={})})"
      ]
     },
     "execution_count": 10,
     "metadata": {},
     "output_type": "execute_result"
    }
   ],
   "source": []
  },
  {
   "cell_type": "code",
   "execution_count": null,
   "id": "d5d7e49d-3f87-4e34-b3c5-45991c364623",
   "metadata": {},
   "outputs": [],
   "source": []
  }
 ],
 "metadata": {
  "kernelspec": {
   "display_name": "Hagrid",
   "language": "python",
   "name": "hagrid"
  },
  "language_info": {
   "codemirror_mode": {
    "name": "ipython",
    "version": 3
   },
   "file_extension": ".py",
   "mimetype": "text/x-python",
   "name": "python",
   "nbconvert_exporter": "python",
   "pygments_lexer": "ipython3",
   "version": "3.8.10"
  }
 },
 "nbformat": 4,
 "nbformat_minor": 5
}
