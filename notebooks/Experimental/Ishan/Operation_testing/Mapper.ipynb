{
 "cells": [
  {
   "cell_type": "code",
   "execution_count": 1,
   "id": "93dd41c2-a097-4368-a5d2-30da257697da",
   "metadata": {},
   "outputs": [
    {
     "name": "stderr",
     "output_type": "stream",
     "text": [
      "/home/e/anaconda3/envs/Hagrid/lib/python3.9/site-packages/tqdm/auto.py:22: TqdmWarning: IProgress not found. Please update jupyter and ipywidgets. See https://ipywidgets.readthedocs.io/en/stable/user_install.html\n",
      "  from .autonotebook import tqdm as notebook_tqdm\n"
     ]
    }
   ],
   "source": [
    "from syft import GammaTensor"
   ]
  },
  {
   "cell_type": "code",
   "execution_count": 2,
   "id": "2dab52e1-f473-407e-9a99-dc658182018c",
   "metadata": {},
   "outputs": [],
   "source": [
    "import numpy as np"
   ]
  },
  {
   "cell_type": "code",
   "execution_count": 3,
   "id": "c0807964-ad60-4521-813f-3cf2f7744086",
   "metadata": {},
   "outputs": [],
   "source": [
    "from syft import DataSubjectArray, lazyrepeatarray"
   ]
  },
  {
   "cell_type": "code",
   "execution_count": 4,
   "id": "0b33d39a-9765-40f2-8611-ace7d438f760",
   "metadata": {},
   "outputs": [],
   "source": [
    "gt = GammaTensor(\n",
    "    child=np.random.random((5,5)),\n",
    "    data_subjects=DataSubjectArray.from_objs(np.random.choice([0,1], (5,5))),\n",
    "    min_vals=lazyrepeatarray(0, (5,5)),\n",
    "    max_vals=lazyrepeatarray(1, (5,5))\n",
    ")"
   ]
  },
  {
   "cell_type": "code",
   "execution_count": 5,
   "id": "59b8e416-e7ae-4ae7-8227-9644fe834583",
   "metadata": {},
   "outputs": [
    {
     "name": "stdout",
     "output_type": "stream",
     "text": [
      "Creating new Ledger\n"
     ]
    }
   ],
   "source": [
    "from syft.core.adp.data_subject_ledger import DataSubjectLedger\n",
    "from syft.core.adp.ledger_store import DictLedgerStore\n",
    "from typing import Any\n",
    "\n",
    "\n",
    "ledger_store = DictLedgerStore()\n",
    "user_key = b\"1231\"\n",
    "ledger = DataSubjectLedger.get_or_create(store=ledger_store, user_key=user_key)\n",
    "\n",
    "def get_budget_for_user(*args: Any, **kwargs: Any) -> float:\n",
    "    return 999999\n",
    "\n",
    "def deduct_epsilon_for_user(*args: Any, **kwargs: Any) -> bool:\n",
    "    return True"
   ]
  },
  {
   "cell_type": "code",
   "execution_count": 6,
   "id": "f01404e1-15c8-4232-a83b-4bb07364006a",
   "metadata": {},
   "outputs": [
    {
     "name": "stderr",
     "output_type": "stream",
     "text": [
      "  0%|                                                                                                                                                                   | 0/1 [00:00<?, ?it/s]WARNING:absl:No GPU/TPU found, falling back to CPU. (Set TF_CPP_MIN_LOG_LEVEL=0 and rerun for more info.)\n"
     ]
    },
    {
     "name": "stdout",
     "output_type": "stream",
     "text": [
      "rdp constants [16.03958188 16.03958188 16.03958188 16.03958188 16.03958188 16.03958188\n",
      " 16.03958188 16.03958188 16.03958188 16.03958188 16.03958188 16.03958188\n",
      " 16.03958188 16.03958188 16.03958188 16.03958188 16.03958188 16.03958188\n",
      " 16.03958188 16.03958188 16.03958188 16.03958188 16.03958188 16.03958188\n",
      " 16.03958188]\n"
     ]
    },
    {
     "name": "stderr",
     "output_type": "stream",
     "text": [
      "100%|███████████████████████████████████████████████████████████████████████████████████████████████████████████████████████████████████████████████████████████| 1/1 [00:00<00:00,  4.02it/s]"
     ]
    },
    {
     "name": "stdout",
     "output_type": "stream",
     "text": [
      "Epsilon spend  [42.44425881 42.44425881 42.44425881 42.44425881 42.44425881 42.44425881\n",
      " 42.44425881 42.44425881 42.44425881 42.44425881 42.44425881 42.44425881\n",
      " 42.44425881 42.44425881 42.44425881 42.44425881 42.44425881 42.44425881\n",
      " 42.44425881 42.44425881 42.44425881 42.44425881 42.44425881 42.44425881\n",
      " 42.44425881]\n",
      "Highest possible spend  42.44425880816819\n",
      "Attemping to spend epsilon: 42.44425880816819. Try: 0\n",
      "got user budget 999999.0 epsilon_spent 42.44425880816819\n",
      "We have filtered all the input tensors. Now to compute the result:\n",
      "Filtered inputs  <class 'list'> <class 'numpy.ndarray'> [array([[0.00342912, 0.39250698, 0.81022724, 0.68956364, 0.52842375],\n",
      "       [0.24805546, 0.93623502, 0.05384707, 0.0444038 , 0.36433398],\n",
      "       [0.88135909, 0.55010365, 0.2849269 , 0.17091435, 0.01743584],\n",
      "       [0.92189059, 0.02313669, 0.85803434, 0.82823427, 0.25535682],\n",
      "       [0.79844813, 0.38662538, 0.09616048, 0.51398156, 0.88909653]])]\n",
      "Converted DSLs\n",
      "original output (before noise: [[[0.00342912 0.39250698 0.81022724 0.68956364 0.52842375]\n",
      "  [0.24805546 0.93623502 0.05384707 0.0444038  0.36433398]\n",
      "  [0.88135909 0.55010365 0.2849269  0.17091435 0.01743584]\n",
      "  [0.92189059 0.02313669 0.85803434 0.82823427 0.25535682]\n",
      "  [0.79844813 0.38662538 0.09616048 0.51398156 0.88909653]]]\n",
      "noise:  [[[ 0.34436226  0.20485744  0.3567231   0.55436617  0.15287326]\n",
      "  [ 0.61239305  0.56135938  0.015613    0.77187445  1.23864892]\n",
      "  [-0.18768449  0.10849412  0.25276757 -0.22275265 -0.68357743]\n",
      "  [-0.11110016  0.54151372 -0.7381701   0.16467194 -0.63958822]\n",
      "  [-0.78096464 -0.36146548 -1.48235064  0.44940306  0.05491586]]]\n",
      "got output [[[ 0.34779137  0.59736442  1.16695034  1.24392981  0.681297  ]\n",
      "  [ 0.86044851  1.49759439  0.06946007  0.81627825  1.6029829 ]\n",
      "  [ 0.69367459  0.65859777  0.53769447 -0.0518383  -0.6661416 ]\n",
      "  [ 0.81079043  0.56465041  0.11986424  0.99290621 -0.3842314 ]\n",
      "  [ 0.01748349  0.0251599  -1.38619016  0.96338463  0.94401239]]] <class 'numpy.ndarray'> float64\n"
     ]
    },
    {
     "name": "stderr",
     "output_type": "stream",
     "text": [
      "\n"
     ]
    },
    {
     "data": {
      "text/plain": [
       "array([[ 0.34779137,  0.59736442,  1.16695034,  1.24392981,  0.681297  ],\n",
       "       [ 0.86044851,  1.49759439,  0.06946007,  0.81627825,  1.6029829 ],\n",
       "       [ 0.69367459,  0.65859777,  0.53769447, -0.0518383 , -0.6661416 ],\n",
       "       [ 0.81079043,  0.56465041,  0.11986424,  0.99290621, -0.3842314 ],\n",
       "       [ 0.01748349,  0.0251599 , -1.38619016,  0.96338463,  0.94401239]])"
      ]
     },
     "execution_count": 6,
     "metadata": {},
     "output_type": "execute_result"
    }
   ],
   "source": [
    "gt.publish(\n",
    "    get_budget_for_user=get_budget_for_user,\n",
    "    deduct_epsilon_for_user=deduct_epsilon_for_user,\n",
    "    ledger=ledger,\n",
    "    sigma=0.5\n",
    ")"
   ]
  },
  {
   "cell_type": "code",
   "execution_count": null,
   "id": "cc93f24a-a167-455f-9067-5ceb61530698",
   "metadata": {},
   "outputs": [],
   "source": []
  }
 ],
 "metadata": {
  "kernelspec": {
   "display_name": "Python 3 (ipykernel)",
   "language": "python",
   "name": "python3"
  },
  "language_info": {
   "codemirror_mode": {
    "name": "ipython",
    "version": 3
   },
   "file_extension": ".py",
   "mimetype": "text/x-python",
   "name": "python",
   "nbconvert_exporter": "python",
   "pygments_lexer": "ipython3",
   "version": "3.9.7"
  }
 },
 "nbformat": 4,
 "nbformat_minor": 5
}
