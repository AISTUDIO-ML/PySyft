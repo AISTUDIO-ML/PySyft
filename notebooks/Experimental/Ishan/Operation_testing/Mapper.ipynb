{
 "cells": [
  {
   "cell_type": "code",
   "execution_count": 1,
   "id": "93dd41c2-a097-4368-a5d2-30da257697da",
   "metadata": {},
   "outputs": [
    {
     "name": "stderr",
     "output_type": "stream",
     "text": [
      "/home/e/anaconda3/envs/Hagrid/lib/python3.9/site-packages/tqdm/auto.py:22: TqdmWarning: IProgress not found. Please update jupyter and ipywidgets. See https://ipywidgets.readthedocs.io/en/stable/user_install.html\n",
      "  from .autonotebook import tqdm as notebook_tqdm\n"
     ]
    }
   ],
   "source": [
    "from syft import GammaTensor"
   ]
  },
  {
   "cell_type": "code",
   "execution_count": 2,
   "id": "2dab52e1-f473-407e-9a99-dc658182018c",
   "metadata": {},
   "outputs": [],
   "source": [
    "import numpy as np"
   ]
  },
  {
   "cell_type": "code",
   "execution_count": 3,
   "id": "c0807964-ad60-4521-813f-3cf2f7744086",
   "metadata": {},
   "outputs": [],
   "source": [
    "from syft import DataSubjectArray, lazyrepeatarray"
   ]
  },
  {
   "cell_type": "code",
   "execution_count": 4,
   "id": "0b33d39a-9765-40f2-8611-ace7d438f760",
   "metadata": {},
   "outputs": [],
   "source": [
    "gt = GammaTensor(\n",
    "    child=np.random.random((5,5)),\n",
    "    data_subjects=DataSubjectArray.from_objs(np.random.choice([0,1], (5,5))),\n",
    "    min_vals=lazyrepeatarray(0, (5,5)),\n",
    "    max_vals=lazyrepeatarray(1, (5,5))\n",
    ")"
   ]
  },
  {
   "cell_type": "code",
   "execution_count": 5,
   "id": "59b8e416-e7ae-4ae7-8227-9644fe834583",
   "metadata": {},
   "outputs": [
    {
     "name": "stdout",
     "output_type": "stream",
     "text": [
      "Creating new Ledger\n"
     ]
    }
   ],
   "source": [
    "from syft.core.adp.data_subject_ledger import DataSubjectLedger\n",
    "from syft.core.adp.ledger_store import DictLedgerStore\n",
    "from typing import Any\n",
    "\n",
    "\n",
    "ledger_store = DictLedgerStore()\n",
    "user_key = b\"1231\"\n",
    "ledger = DataSubjectLedger.get_or_create(store=ledger_store, user_key=user_key)\n",
    "\n",
    "def get_budget_for_user(*args: Any, **kwargs: Any) -> float:\n",
    "    return 999999\n",
    "\n",
    "def deduct_epsilon_for_user(*args: Any, **kwargs: Any) -> bool:\n",
    "    return True"
   ]
  },
  {
   "cell_type": "code",
   "execution_count": 6,
   "id": "f01404e1-15c8-4232-a83b-4bb07364006a",
   "metadata": {},
   "outputs": [
    {
     "name": "stderr",
     "output_type": "stream",
     "text": [
      "  0%|                                                                                                                                                                   | 0/1 [00:00<?, ?it/s]WARNING:absl:No GPU/TPU found, falling back to CPU. (Set TF_CPP_MIN_LOG_LEVEL=0 and rerun for more info.)\n"
     ]
    },
    {
     "name": "stdout",
     "output_type": "stream",
     "text": [
      "rdp constants [16.03958188 16.03958188 16.03958188 16.03958188 16.03958188 16.03958188\n",
      " 16.03958188 16.03958188 16.03958188 16.03958188 16.03958188 16.03958188\n",
      " 16.03958188 16.03958188 16.03958188 16.03958188 16.03958188 16.03958188\n",
      " 16.03958188 16.03958188 16.03958188 16.03958188 16.03958188 16.03958188\n",
      " 16.03958188]\n"
     ]
    },
    {
     "name": "stderr",
     "output_type": "stream",
     "text": [
      "100%|███████████████████████████████████████████████████████████████████████████████████████████████████████████████████████████████████████████████████████████| 1/1 [00:00<00:00,  4.02it/s]"
     ]
    },
    {
     "name": "stdout",
     "output_type": "stream",
     "text": [
      "Epsilon spend  [42.44425881 42.44425881 42.44425881 42.44425881 42.44425881 42.44425881\n",
      " 42.44425881 42.44425881 42.44425881 42.44425881 42.44425881 42.44425881\n",
      " 42.44425881 42.44425881 42.44425881 42.44425881 42.44425881 42.44425881\n",
      " 42.44425881 42.44425881 42.44425881 42.44425881 42.44425881 42.44425881\n",
      " 42.44425881]\n",
      "Highest possible spend  42.44425880816819\n",
      "Attemping to spend epsilon: 42.44425880816819. Try: 0\n",
      "got user budget 999999.0 epsilon_spent 42.44425880816819\n",
      "We have filtered all the input tensors. Now to compute the result:\n",
      "Filtered inputs  <class 'list'> <class 'numpy.ndarray'> [array([[0.00342912, 0.39250698, 0.81022724, 0.68956364, 0.52842375],\n",
      "       [0.24805546, 0.93623502, 0.05384707, 0.0444038 , 0.36433398],\n",
      "       [0.88135909, 0.55010365, 0.2849269 , 0.17091435, 0.01743584],\n",
      "       [0.92189059, 0.02313669, 0.85803434, 0.82823427, 0.25535682],\n",
      "       [0.79844813, 0.38662538, 0.09616048, 0.51398156, 0.88909653]])]\n",
      "Converted DSLs\n",
      "original output (before noise: [[[0.00342912 0.39250698 0.81022724 0.68956364 0.52842375]\n",
      "  [0.24805546 0.93623502 0.05384707 0.0444038  0.36433398]\n",
      "  [0.88135909 0.55010365 0.2849269  0.17091435 0.01743584]\n",
      "  [0.92189059 0.02313669 0.85803434 0.82823427 0.25535682]\n",
      "  [0.79844813 0.38662538 0.09616048 0.51398156 0.88909653]]]\n",
      "noise:  [[[ 0.34436226  0.20485744  0.3567231   0.55436617  0.15287326]\n",
      "  [ 0.61239305  0.56135938  0.015613    0.77187445  1.23864892]\n",
      "  [-0.18768449  0.10849412  0.25276757 -0.22275265 -0.68357743]\n",
      "  [-0.11110016  0.54151372 -0.7381701   0.16467194 -0.63958822]\n",
      "  [-0.78096464 -0.36146548 -1.48235064  0.44940306  0.05491586]]]\n",
      "got output [[[ 0.34779137  0.59736442  1.16695034  1.24392981  0.681297  ]\n",
      "  [ 0.86044851  1.49759439  0.06946007  0.81627825  1.6029829 ]\n",
      "  [ 0.69367459  0.65859777  0.53769447 -0.0518383  -0.6661416 ]\n",
      "  [ 0.81079043  0.56465041  0.11986424  0.99290621 -0.3842314 ]\n",
      "  [ 0.01748349  0.0251599  -1.38619016  0.96338463  0.94401239]]] <class 'numpy.ndarray'> float64\n"
     ]
    },
    {
     "name": "stderr",
     "output_type": "stream",
     "text": [
      "\n"
     ]
    },
    {
     "data": {
      "text/plain": [
       "array([[ 0.34779137,  0.59736442,  1.16695034,  1.24392981,  0.681297  ],\n",
       "       [ 0.86044851,  1.49759439,  0.06946007,  0.81627825,  1.6029829 ],\n",
       "       [ 0.69367459,  0.65859777,  0.53769447, -0.0518383 , -0.6661416 ],\n",
       "       [ 0.81079043,  0.56465041,  0.11986424,  0.99290621, -0.3842314 ],\n",
       "       [ 0.01748349,  0.0251599 , -1.38619016,  0.96338463,  0.94401239]])"
      ]
     },
     "execution_count": 6,
     "metadata": {},
     "output_type": "execute_result"
    }
   ],
   "source": [
    "gt.publish(\n",
    "    get_budget_for_user=get_budget_for_user,\n",
    "    deduct_epsilon_for_user=deduct_epsilon_for_user,\n",
    "    ledger=ledger,\n",
    "    sigma=0.5\n",
    ")"
   ]
  },
  {
   "cell_type": "code",
   "execution_count": 8,
   "id": "cc93f24a-a167-455f-9067-5ceb61530698",
   "metadata": {},
   "outputs": [
    {
     "ename": "AttributeError",
     "evalue": "'GammaTensor' object has no attribute 'func'",
     "output_type": "error",
     "traceback": [
      "\u001b[0;31m---------------------------------------------------------------------------\u001b[0m",
      "\u001b[0;31mAttributeError\u001b[0m                            Traceback (most recent call last)",
      "\u001b[0;32m/tmp/ipykernel_45711/1192988425.py\u001b[0m in \u001b[0;36m<module>\u001b[0;34m\u001b[0m\n\u001b[0;32m----> 1\u001b[0;31m \u001b[0mgt\u001b[0m\u001b[0;34m.\u001b[0m\u001b[0mrun\u001b[0m\u001b[0;34m(\u001b[0m\u001b[0;34m[\u001b[0m\u001b[0mnp\u001b[0m\u001b[0;34m.\u001b[0m\u001b[0mones\u001b[0m\u001b[0;34m(\u001b[0m\u001b[0;36m5\u001b[0m\u001b[0;34m)\u001b[0m\u001b[0;34m]\u001b[0m\u001b[0;34m)\u001b[0m\u001b[0;34m\u001b[0m\u001b[0;34m\u001b[0m\u001b[0m\n\u001b[0m",
      "\u001b[0;32m~/PycharmProjects/PySyft/packages/syft/src/syft/core/tensor/autodp/gamma_tensor.py\u001b[0m in \u001b[0;36mrun\u001b[0;34m(self, state)\u001b[0m\n\u001b[1;32m   1160\u001b[0m             \u001b[0;32mreturn\u001b[0m \u001b[0mself\u001b[0m\u001b[0;34m\u001b[0m\u001b[0;34m\u001b[0m\u001b[0m\n\u001b[1;32m   1161\u001b[0m         \u001b[0;32mreturn\u001b[0m \u001b[0mself\u001b[0m\u001b[0;34m.\u001b[0m\u001b[0mfunc\u001b[0m\u001b[0;34m(\u001b[0m\u001b[0mstate\u001b[0m\u001b[0;34m)\u001b[0m\u001b[0;34m\u001b[0m\u001b[0;34m\u001b[0m\u001b[0m\n\u001b[0;32m-> 1162\u001b[0;31m \u001b[0;34m\u001b[0m\u001b[0m\n\u001b[0m\u001b[1;32m   1163\u001b[0m     \u001b[0;32mdef\u001b[0m \u001b[0m__add__\u001b[0m\u001b[0;34m(\u001b[0m\u001b[0mself\u001b[0m\u001b[0;34m,\u001b[0m \u001b[0mother\u001b[0m\u001b[0;34m:\u001b[0m \u001b[0mAny\u001b[0m\u001b[0;34m)\u001b[0m \u001b[0;34m->\u001b[0m \u001b[0mGammaTensor\u001b[0m\u001b[0;34m:\u001b[0m\u001b[0;34m\u001b[0m\u001b[0;34m\u001b[0m\u001b[0m\n\u001b[1;32m   1164\u001b[0m         \u001b[0;31m# relative\u001b[0m\u001b[0;34m\u001b[0m\u001b[0;34m\u001b[0m\u001b[0m\n",
      "\u001b[0;31mAttributeError\u001b[0m: 'GammaTensor' object has no attribute 'func'"
     ]
    }
   ],
   "source": [
    "gt.run([np.ones(5)])"
   ]
  },
  {
   "cell_type": "code",
   "execution_count": 12,
   "id": "b8e28394-6543-4b95-b636-f3743f18fc59",
   "metadata": {},
   "outputs": [
    {
     "data": {
      "text/plain": [
       "{0: array([0., 0., 0., 0., 0., 0., 0., 0., 0., 0.]),\n",
       " 1: array([1., 1., 1., 1., 1., 1., 1., 1., 1., 1.]),\n",
       " 2: array([4., 4., 4., 4., 4., 4., 4., 4., 4., 4.]),\n",
       " 3: array([9., 9., 9., 9., 9., 9., 9., 9., 9., 9.]),\n",
       " 4: array([16., 16., 16., 16., 16., 16., 16., 16., 16., 16.]),\n",
       " 5: array([25., 25., 25., 25., 25., 25., 25., 25., 25., 25.]),\n",
       " 6: array([36., 36., 36., 36., 36., 36., 36., 36., 36., 36.]),\n",
       " 7: array([49., 49., 49., 49., 49., 49., 49., 49., 49., 49.]),\n",
       " 8: array([64., 64., 64., 64., 64., 64., 64., 64., 64., 64.]),\n",
       " 9: array([81., 81., 81., 81., 81., 81., 81., 81., 81., 81.])}"
      ]
     },
     "execution_count": 12,
     "metadata": {},
     "output_type": "execute_result"
    }
   ],
   "source": [
    "a = dict()\n",
    "for i in range(10):\n",
    "    a[i] = np.ones(10) * i**2\n",
    "a"
   ]
  },
  {
   "cell_type": "code",
   "execution_count": 13,
   "id": "c8b49ad4-2192-47a6-b82e-95662cf20762",
   "metadata": {},
   "outputs": [],
   "source": [
    "b = a.copy()"
   ]
  },
  {
   "cell_type": "code",
   "execution_count": 14,
   "id": "f593b191-a20b-4826-ab73-c6810be43a82",
   "metadata": {},
   "outputs": [
    {
     "data": {
      "text/plain": [
       "{0: array([0., 0., 0., 0., 0., 0., 0., 0., 0., 0.]),\n",
       " 1: array([1., 1., 1., 1., 1., 1., 1., 1., 1., 1.]),\n",
       " 2: array([4., 4., 4., 4., 4., 4., 4., 4., 4., 4.]),\n",
       " 3: array([9., 9., 9., 9., 9., 9., 9., 9., 9., 9.]),\n",
       " 4: array([16., 16., 16., 16., 16., 16., 16., 16., 16., 16.]),\n",
       " 5: array([25., 25., 25., 25., 25., 25., 25., 25., 25., 25.]),\n",
       " 6: array([36., 36., 36., 36., 36., 36., 36., 36., 36., 36.]),\n",
       " 7: array([49., 49., 49., 49., 49., 49., 49., 49., 49., 49.]),\n",
       " 8: array([64., 64., 64., 64., 64., 64., 64., 64., 64., 64.]),\n",
       " 9: array([81., 81., 81., 81., 81., 81., 81., 81., 81., 81.])}"
      ]
     },
     "execution_count": 14,
     "metadata": {},
     "output_type": "execute_result"
    }
   ],
   "source": [
    "b"
   ]
  },
  {
   "cell_type": "code",
   "execution_count": 15,
   "id": "09ee25d0-3fbd-472d-b9bd-1154832a02ed",
   "metadata": {},
   "outputs": [],
   "source": [
    "b[0] = b[0] * 0 + 7"
   ]
  },
  {
   "cell_type": "code",
   "execution_count": 16,
   "id": "1742aefd-9068-49c0-9fb2-68d79c2aa76c",
   "metadata": {},
   "outputs": [
    {
     "data": {
      "text/plain": [
       "{0: array([7., 7., 7., 7., 7., 7., 7., 7., 7., 7.]),\n",
       " 1: array([1., 1., 1., 1., 1., 1., 1., 1., 1., 1.]),\n",
       " 2: array([4., 4., 4., 4., 4., 4., 4., 4., 4., 4.]),\n",
       " 3: array([9., 9., 9., 9., 9., 9., 9., 9., 9., 9.]),\n",
       " 4: array([16., 16., 16., 16., 16., 16., 16., 16., 16., 16.]),\n",
       " 5: array([25., 25., 25., 25., 25., 25., 25., 25., 25., 25.]),\n",
       " 6: array([36., 36., 36., 36., 36., 36., 36., 36., 36., 36.]),\n",
       " 7: array([49., 49., 49., 49., 49., 49., 49., 49., 49., 49.]),\n",
       " 8: array([64., 64., 64., 64., 64., 64., 64., 64., 64., 64.]),\n",
       " 9: array([81., 81., 81., 81., 81., 81., 81., 81., 81., 81.])}"
      ]
     },
     "execution_count": 16,
     "metadata": {},
     "output_type": "execute_result"
    }
   ],
   "source": [
    "b"
   ]
  },
  {
   "cell_type": "code",
   "execution_count": 17,
   "id": "83697306-950a-4501-83db-ecdc6979a209",
   "metadata": {},
   "outputs": [
    {
     "data": {
      "text/plain": [
       "{0: array([0., 0., 0., 0., 0., 0., 0., 0., 0., 0.]),\n",
       " 1: array([1., 1., 1., 1., 1., 1., 1., 1., 1., 1.]),\n",
       " 2: array([4., 4., 4., 4., 4., 4., 4., 4., 4., 4.]),\n",
       " 3: array([9., 9., 9., 9., 9., 9., 9., 9., 9., 9.]),\n",
       " 4: array([16., 16., 16., 16., 16., 16., 16., 16., 16., 16.]),\n",
       " 5: array([25., 25., 25., 25., 25., 25., 25., 25., 25., 25.]),\n",
       " 6: array([36., 36., 36., 36., 36., 36., 36., 36., 36., 36.]),\n",
       " 7: array([49., 49., 49., 49., 49., 49., 49., 49., 49., 49.]),\n",
       " 8: array([64., 64., 64., 64., 64., 64., 64., 64., 64., 64.]),\n",
       " 9: array([81., 81., 81., 81., 81., 81., 81., 81., 81., 81.])}"
      ]
     },
     "execution_count": 17,
     "metadata": {},
     "output_type": "execute_result"
    }
   ],
   "source": [
    "a"
   ]
  },
  {
   "cell_type": "code",
   "execution_count": null,
   "id": "ca2daaeb-b69c-4eb1-8960-ce896d432e33",
   "metadata": {},
   "outputs": [],
   "source": []
  }
 ],
 "metadata": {
  "kernelspec": {
   "display_name": "Python 3 (ipykernel)",
   "language": "python",
   "name": "python3"
  },
  "language_info": {
   "codemirror_mode": {
    "name": "ipython",
    "version": 3
   },
   "file_extension": ".py",
   "mimetype": "text/x-python",
   "name": "python",
   "nbconvert_exporter": "python",
   "pygments_lexer": "ipython3",
   "version": "3.9.7"
  }
 },
 "nbformat": 4,
 "nbformat_minor": 5
}
