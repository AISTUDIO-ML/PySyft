{
 "cells": [
  {
   "cell_type": "code",
   "execution_count": 1,
   "id": "cebdbd55-8adb-4b7a-ac57-c36b37f792bf",
   "metadata": {},
   "outputs": [],
   "source": [
    "import numpy as np"
   ]
  },
  {
   "cell_type": "code",
   "execution_count": 2,
   "id": "f108ab7f-21f6-42f0-93a7-90490289a6e0",
   "metadata": {},
   "outputs": [],
   "source": [
    "a = np.ones((5,5))"
   ]
  },
  {
   "cell_type": "code",
   "execution_count": 3,
   "id": "d0dd6c36-0493-4e62-883c-5bc1825238bf",
   "metadata": {},
   "outputs": [
    {
     "data": {
      "text/plain": [
       "array([[1., 1., 1., 1., 1.],\n",
       "       [1., 1., 1., 1., 1.],\n",
       "       [1., 1., 1., 1., 1.],\n",
       "       [1., 1., 1., 1., 1.],\n",
       "       [1., 1., 1., 1., 1.]])"
      ]
     },
     "execution_count": 3,
     "metadata": {},
     "output_type": "execute_result"
    }
   ],
   "source": [
    "a"
   ]
  },
  {
   "cell_type": "code",
   "execution_count": 10,
   "id": "47a3e02f-62df-4d1c-bfc0-0ff70e771628",
   "metadata": {},
   "outputs": [
    {
     "data": {
      "text/plain": [
       "(125,)"
      ]
     },
     "execution_count": 10,
     "metadata": {},
     "output_type": "execute_result"
    }
   ],
   "source": [
    "a.repeat(5).shape"
   ]
  },
  {
   "cell_type": "code",
   "execution_count": 5,
   "id": "3f29b183-eeac-4de4-92cb-4b6d73303fe9",
   "metadata": {},
   "outputs": [],
   "source": [
    "from syft import DataSubjectArray"
   ]
  },
  {
   "cell_type": "code",
   "execution_count": 6,
   "id": "01619fec-9984-497c-a07f-3731c4a8c20e",
   "metadata": {},
   "outputs": [],
   "source": [
    "b = DataSubjectArray.from_objs(np.random.choice([\"A\", \"B\"], size=(5,5)))"
   ]
  },
  {
   "cell_type": "code",
   "execution_count": 7,
   "id": "05b6fb01-a3ed-487f-b198-bf2c7b38597f",
   "metadata": {},
   "outputs": [
    {
     "data": {
      "text/plain": [
       "array([[DataSubjectArray: {'A'}, DataSubjectArray: {'B'},\n",
       "        DataSubjectArray: {'B'}, DataSubjectArray: {'B'},\n",
       "        DataSubjectArray: {'B'}],\n",
       "       [DataSubjectArray: {'A'}, DataSubjectArray: {'A'},\n",
       "        DataSubjectArray: {'A'}, DataSubjectArray: {'B'},\n",
       "        DataSubjectArray: {'B'}],\n",
       "       [DataSubjectArray: {'A'}, DataSubjectArray: {'A'},\n",
       "        DataSubjectArray: {'A'}, DataSubjectArray: {'A'},\n",
       "        DataSubjectArray: {'B'}],\n",
       "       [DataSubjectArray: {'B'}, DataSubjectArray: {'A'},\n",
       "        DataSubjectArray: {'A'}, DataSubjectArray: {'A'},\n",
       "        DataSubjectArray: {'B'}],\n",
       "       [DataSubjectArray: {'B'}, DataSubjectArray: {'A'},\n",
       "        DataSubjectArray: {'A'}, DataSubjectArray: {'B'},\n",
       "        DataSubjectArray: {'B'}]], dtype=object)"
      ]
     },
     "execution_count": 7,
     "metadata": {},
     "output_type": "execute_result"
    }
   ],
   "source": [
    "b"
   ]
  },
  {
   "cell_type": "code",
   "execution_count": 9,
   "id": "1bde0258-7fac-4cfc-a2db-38fe32afea94",
   "metadata": {},
   "outputs": [
    {
     "data": {
      "text/plain": [
       "(125,)"
      ]
     },
     "execution_count": 9,
     "metadata": {},
     "output_type": "execute_result"
    }
   ],
   "source": [
    "b.repeat(5).shape"
   ]
  },
  {
   "cell_type": "code",
   "execution_count": 16,
   "id": "10258d70-1f71-46fa-b74b-f11bd0ea0850",
   "metadata": {},
   "outputs": [],
   "source": [
    "class Potato:\n",
    "    def __init__(self, value=5):\n",
    "        self.value = value\n",
    "    \n",
    "    def __mul__(self, a):\n",
    "        return Potato(self.value * a)\n",
    "    \n",
    "    def __neg__(self):\n",
    "        return self * -1"
   ]
  },
  {
   "cell_type": "code",
   "execution_count": 17,
   "id": "2e13647b-35f9-4e22-b5be-7d94e49a05ae",
   "metadata": {},
   "outputs": [],
   "source": [
    "c = Potato(3)"
   ]
  },
  {
   "cell_type": "code",
   "execution_count": 19,
   "id": "df598388-073c-43bd-b754-1d6c4e686c37",
   "metadata": {},
   "outputs": [
    {
     "data": {
      "text/plain": [
       "-3"
      ]
     },
     "execution_count": 19,
     "metadata": {},
     "output_type": "execute_result"
    }
   ],
   "source": [
    "-c.value"
   ]
  },
  {
   "cell_type": "code",
   "execution_count": 26,
   "id": "44b07ab4-e1dd-4def-bda9-6071a48dd1cf",
   "metadata": {},
   "outputs": [
    {
     "data": {
      "text/plain": [
       "array([DataSubjectArray: {'B'}], dtype=object)"
      ]
     },
     "execution_count": 26,
     "metadata": {},
     "output_type": "execute_result"
    }
   ],
   "source": [
    "b.take([1], mode='raise')"
   ]
  },
  {
   "cell_type": "code",
   "execution_count": null,
   "id": "8d96cd2e-800f-4c7a-bcdf-91c62453e819",
   "metadata": {},
   "outputs": [],
   "source": []
  }
 ],
 "metadata": {
  "kernelspec": {
   "display_name": "Python 3 (ipykernel)",
   "language": "python",
   "name": "python3"
  },
  "language_info": {
   "codemirror_mode": {
    "name": "ipython",
    "version": 3
   },
   "file_extension": ".py",
   "mimetype": "text/x-python",
   "name": "python",
   "nbconvert_exporter": "python",
   "pygments_lexer": "ipython3",
   "version": "3.9.7"
  }
 },
 "nbformat": 4,
 "nbformat_minor": 5
}
