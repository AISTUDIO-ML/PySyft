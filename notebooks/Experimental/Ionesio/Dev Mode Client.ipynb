{
 "cells": [
  {
   "cell_type": "markdown",
   "id": "b601f50c",
   "metadata": {},
   "source": [
    "# Testing Syft Client in dev mode\n",
    "This notebook aims to give a brief explanation on  how to set Domain/Network Syft Client to work in dev mode."
   ]
  },
  {
   "cell_type": "code",
   "execution_count": 5,
   "id": "04a55fbe",
   "metadata": {},
   "outputs": [
    {
     "name": "stdout",
     "output_type": "stream",
     "text": [
      "The autoreload extension is already loaded. To reload it, use:\n",
      "  %reload_ext autoreload\n"
     ]
    }
   ],
   "source": [
    "%load_ext autoreload\n",
    "%autoreload 2"
   ]
  },
  {
   "cell_type": "code",
   "execution_count": 6,
   "id": "940cb9fa",
   "metadata": {},
   "outputs": [],
   "source": [
    "import syft as sy"
   ]
  },
  {
   "cell_type": "code",
   "execution_count": 7,
   "id": "c32e2546",
   "metadata": {},
   "outputs": [
    {
     "name": "stdout",
     "output_type": "stream",
     "text": [
      "WARNING: CHANGE YOUR USERNAME AND PASSWORD!!! \n",
      "\n",
      "Anyone can login as an admin to your node right now because your password is still the default PySyft username and password!!!\n",
      "\n",
      "Connecting to localhost... done! \t Logging into wonderful_russell... done!\n"
     ]
    }
   ],
   "source": [
    "domain = sy.login(email=\"info@openmined.org\",\n",
    "             password=\"changethis\",\n",
    "             port=8081,\n",
    "             dev_mode=False)"
   ]
  },
  {
   "cell_type": "code",
   "execution_count": null,
   "id": "aa7aad9c",
   "metadata": {},
   "outputs": [],
   "source": [
    "domain.dev_mode"
   ]
  },
  {
   "cell_type": "markdown",
   "id": "0f3d666f",
   "metadata": {},
   "source": [
    "# Sending a message with dev_mode = False\n",
    "It uses the old message struct and will not trace the client log in Jaeger UI"
   ]
  },
  {
   "cell_type": "code",
   "execution_count": 8,
   "id": "a3f634ac",
   "metadata": {},
   "outputs": [
    {
     "name": "stdout",
     "output_type": "stream",
     "text": [
      "User created successfully!\n"
     ]
    }
   ],
   "source": [
    "domain.users.create(email=\"user@openmined.org\", password=\"testing123\", name=\"User1\")"
   ]
  },
  {
   "cell_type": "markdown",
   "id": "d89f3bda",
   "metadata": {},
   "source": [
    "# Sending a message with dev_mode = True\n",
    "It uses the new message struct and will trace the client log in jaeger UI"
   ]
  },
  {
   "cell_type": "code",
   "execution_count": 9,
   "id": "d2dff060",
   "metadata": {},
   "outputs": [],
   "source": [
    "domain.dev_mode = True"
   ]
  },
  {
   "cell_type": "code",
   "execution_count": 10,
   "id": "129790fd",
   "metadata": {},
   "outputs": [
    {
     "name": "stdout",
     "output_type": "stream",
     "text": [
      "Class Path ...  syft.core.node.common.node_service.user_manager.new_user_messages\n",
      "Class Path ...  CreateUserMessage\n",
      "Class Path ...  CreateUserMessage\n",
      "Inside of the tracer ....  <opentelemetry.sdk.trace.Tracer object at 0x7fbbc7ca6370>\n",
      "User created successfully!\n"
     ]
    }
   ],
   "source": [
    "domain.users.create(email=\"user2@openminedd.org\", password=\"testing123\", name=\"User2\")"
   ]
  },
  {
   "cell_type": "code",
   "execution_count": null,
   "id": "2772e10f",
   "metadata": {},
   "outputs": [],
   "source": [
    "array_ptr = array.send(domain, pointable=True, send_to_blob_storage=True)"
   ]
  },
  {
   "cell_type": "code",
   "execution_count": null,
   "id": "b8ea9f1b",
   "metadata": {},
   "outputs": [],
   "source": [
    "array_ptr.get()"
   ]
  }
 ],
 "metadata": {
  "kernelspec": {
   "display_name": "Python 3 (ipykernel)",
   "language": "python",
   "name": "python3"
  },
  "language_info": {
   "codemirror_mode": {
    "name": "ipython",
    "version": 3
   },
   "file_extension": ".py",
   "mimetype": "text/x-python",
   "name": "python",
   "nbconvert_exporter": "python",
   "pygments_lexer": "ipython3",
   "version": "3.8.10"
  }
 },
 "nbformat": 4,
 "nbformat_minor": 5
}
