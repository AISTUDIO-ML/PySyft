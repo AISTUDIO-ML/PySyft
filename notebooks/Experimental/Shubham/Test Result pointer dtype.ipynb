{
 "cells": [
  {
   "cell_type": "code",
   "execution_count": 2,
   "id": "375c1943",
   "metadata": {},
   "outputs": [],
   "source": [
    "import syft as sy\n",
    "import numpy as np"
   ]
  },
  {
   "cell_type": "code",
   "execution_count": 3,
   "id": "3d4cb25a",
   "metadata": {},
   "outputs": [
    {
     "name": "stdout",
     "output_type": "stream",
     "text": [
      "\u001b[93mWARNING:\u001b[0m CHANGE YOUR USERNAME AND PASSWORD!!! \n",
      "\n",
      "Anyone can login as an admin to your node right now because your password is still the default PySyft username and password!!!\n",
      "\n",
      "Connecting to localhost... done! \t Logging into canada... done!\n"
     ]
    }
   ],
   "source": [
    "domain_client = sy.login(email=\"info@openmined.org\", password=\"changethis\", port=8081)"
   ]
  },
  {
   "cell_type": "code",
   "execution_count": 4,
   "id": "8855f4a2",
   "metadata": {},
   "outputs": [
    {
     "name": "stderr",
     "output_type": "stream",
     "text": [
      "[2022-11-30T17:13:15.078446+0530][CRITICAL][logger]][99589] You can't create a new User using this email!\n"
     ]
    },
    {
     "name": "stdout",
     "output_type": "stream",
     "text": [
      "failing to create user You can't create a new User using this email!\n",
      "Ignoring: user with email:joker@test.com already exists\n"
     ]
    },
    {
     "data": {
      "text/plain": [
       "{'name': 'Joker',\n",
       " 'email': 'joker@test.com',\n",
       " 'password': 'test',\n",
       " 'url': 'localhost'}"
      ]
     },
     "execution_count": 4,
     "metadata": {},
     "output_type": "execute_result"
    }
   ],
   "source": [
    "domain_client.create_user(name=\"Joker\", email=\"joker@test.com\", password=\"test\", budget=99999)"
   ]
  },
  {
   "cell_type": "code",
   "execution_count": 5,
   "id": "3db69e77",
   "metadata": {},
   "outputs": [
    {
     "name": "stderr",
     "output_type": "stream",
     "text": [
      "kj/filesystem-disk-unix.c++:1690: warning: PWD environment variable doesn't match current directory; pwd = /home/shubham/PySyft\n"
     ]
    },
    {
     "name": "stdout",
     "output_type": "stream",
     "text": [
      "Tensor annotated with DP Metadata!\n",
      "You can upload this Tensor to a domain node by calling `<domain_client>.load_dataset` and passing in this tensor as an asset.\n"
     ]
    },
    {
     "name": "stderr",
     "output_type": "stream",
     "text": [
      "Uploading `d9d8c2fe702f43d29756240ad18e82c1`: 100%|\u001b[32m███████████████████\u001b[0m| 1/1 [00:00<00:00, 70.57it/s]\u001b[0m\n"
     ]
    }
   ],
   "source": [
    "data1 = np.random.randint(1, 1000, (10000))\n",
    "\n",
    "dataset1 = sy.Tensor(data1).annotate_with_dp_metadata(-1, 10000, data_subjects=\"Jim\")\n",
    "data1_ptr = dataset1.send(domain_client)"
   ]
  },
  {
   "cell_type": "code",
   "execution_count": 6,
   "id": "8d466c9c",
   "metadata": {},
   "outputs": [
    {
     "data": {
      "text/plain": [
       "<UID: d9d8c2fe702f43d29756240ad18e82c1>"
      ]
     },
     "execution_count": 6,
     "metadata": {},
     "output_type": "execute_result"
    }
   ],
   "source": [
    "data1_ptr.id_at_location"
   ]
  },
  {
   "cell_type": "code",
   "execution_count": 7,
   "id": "666f10fd",
   "metadata": {},
   "outputs": [
    {
     "name": "stdout",
     "output_type": "stream",
     "text": [
      "Connecting to localhost... done! \t Logging into canada... done!\n"
     ]
    }
   ],
   "source": [
    "ds_client = sy.login(email=\"joker@test.com\", password=\"test\", port=8081)\n",
    "\n",
    "data1_ptr_ds = ds_client.store[data1_ptr.id_at_location]"
   ]
  },
  {
   "cell_type": "code",
   "execution_count": 8,
   "id": "c8a17fce",
   "metadata": {},
   "outputs": [],
   "source": [
    "data_val_gt_100 = data1_ptr_ds > 100"
   ]
  },
  {
   "cell_type": "code",
   "execution_count": 11,
   "id": "e0a79548",
   "metadata": {},
   "outputs": [
    {
     "data": {
      "text/plain": [
       "(dtype('bool'), (10000,))"
      ]
     },
     "execution_count": 11,
     "metadata": {},
     "output_type": "execute_result"
    }
   ],
   "source": [
    "data_val_gt_100.public_dtype, data_val_gt_100.public_shape"
   ]
  },
  {
   "cell_type": "code",
   "execution_count": 13,
   "id": "ed6e36a9",
   "metadata": {},
   "outputs": [
    {
     "data": {
      "text/plain": [
       "(dtype('int64'), (10000,))"
      ]
     },
     "execution_count": 13,
     "metadata": {},
     "output_type": "execute_result"
    }
   ],
   "source": [
    "data1_ptr_ds.public_dtype, data1_ptr_ds.public_shape"
   ]
  },
  {
   "cell_type": "code",
   "execution_count": 14,
   "id": "c4340d6a",
   "metadata": {},
   "outputs": [],
   "source": [
    "data1_ptr_ds = data1_ptr_ds + 50.12"
   ]
  },
  {
   "cell_type": "code",
   "execution_count": 22,
   "id": "ac6d8e1a",
   "metadata": {},
   "outputs": [],
   "source": [
    "mean_val = data1_ptr_ds.mean(keepdims=True)"
   ]
  },
  {
   "cell_type": "code",
   "execution_count": 23,
   "id": "0ed6ff96",
   "metadata": {},
   "outputs": [
    {
     "data": {
      "text/plain": [
       "(dtype('float64'), (1,))"
      ]
     },
     "execution_count": 23,
     "metadata": {},
     "output_type": "execute_result"
    }
   ],
   "source": [
    "mean_val.public_dtype, mean_val.public_shape"
   ]
  },
  {
   "cell_type": "code",
   "execution_count": 25,
   "id": "2e15452d",
   "metadata": {},
   "outputs": [],
   "source": [
    "x = mean_val > 0"
   ]
  },
  {
   "cell_type": "code",
   "execution_count": 28,
   "id": "e00fda9e",
   "metadata": {},
   "outputs": [
    {
     "data": {
      "text/plain": [
       "(dtype('bool'), (1,))"
      ]
     },
     "execution_count": 28,
     "metadata": {},
     "output_type": "execute_result"
    }
   ],
   "source": [
    "x.public_dtype, x.public_shape"
   ]
  },
  {
   "cell_type": "code",
   "execution_count": null,
   "id": "f88038bf",
   "metadata": {},
   "outputs": [],
   "source": []
  }
 ],
 "metadata": {
  "kernelspec": {
   "display_name": "Python 3 (ipykernel)",
   "language": "python",
   "name": "python3"
  },
  "language_info": {
   "codemirror_mode": {
    "name": "ipython",
    "version": 3
   },
   "file_extension": ".py",
   "mimetype": "text/x-python",
   "name": "python",
   "nbconvert_exporter": "python",
   "pygments_lexer": "ipython3",
   "version": "3.9.7"
  }
 },
 "nbformat": 4,
 "nbformat_minor": 5
}
