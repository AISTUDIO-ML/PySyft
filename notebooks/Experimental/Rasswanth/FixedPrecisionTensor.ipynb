{
 "cells": [
  {
   "cell_type": "code",
   "execution_count": 8,
   "id": "2732f58f-a186-4a18-a8f1-c92d0bf37a43",
   "metadata": {},
   "outputs": [],
   "source": [
    "from syft.core.tensor.passthrough import PassthroughTensor\n",
    "from typing import Union,Optional,Any,Tuple\n",
    "import numpy as np\n",
    "from syft.core.tensor.config import DEFAULT_INT_NUMPY_TYPE\n",
    "from syft.core.tensor.config import DEFAULT_FLOAT_NUMPY_TYPE\n"
   ]
  },
  {
   "cell_type": "code",
   "execution_count": 20,
   "id": "5d44d612-f025-43c5-ad19-64a2d612554e",
   "metadata": {},
   "outputs": [],
   "source": [
    "class FixedPrecisionTensor(PassthroughTensor):\n",
    "    def __init__(\n",
    "        self,\n",
    "        value: Union[int, float, np.ndarray] = None,\n",
    "        base: int = 2,\n",
    "        precision: int = 16,\n",
    "    ) -> None:\n",
    "        self._base = base\n",
    "        self._precision = precision\n",
    "        self._scale = base**precision\n",
    "        if value is not None:\n",
    "            super().__init__(self.encode(value))\n",
    "        else:\n",
    "            super().__init__(None)\n",
    "\n",
    "    def encode(self, value: Union[int, float, np.ndarray]) -> np.ndarray:\n",
    "        encoded_value = np.array(self._scale * value, DEFAULT_INT_NUMPY_TYPE)\n",
    "        return encoded_value\n",
    "\n",
    "    @property\n",
    "    def dtype(self) -> np.dtype:\n",
    "        return getattr(self.child, \"dtype\", None)\n",
    "\n",
    "    @property\n",
    "    def shape(self) -> Optional[Tuple[int, ...]]:\n",
    "        return getattr(self.child, \"shape\", None)\n",
    "\n",
    "    def decode(self) -> Any:\n",
    "        value = self.child\n",
    "\n",
    "        correction = (value < 0).astype(DEFAULT_INT_NUMPY_TYPE)\n",
    "\n",
    "        dividend = np.trunc(value / self._scale - correction)\n",
    "        remainder = value % self._scale\n",
    "        remainder += (\n",
    "            (remainder == 0).astype(DEFAULT_INT_NUMPY_TYPE) * self._scale * correction\n",
    "        )\n",
    "        value = (\n",
    "            dividend.astype(DEFAULT_FLOAT_NUMPY_TYPE)\n",
    "            + remainder.astype(DEFAULT_FLOAT_NUMPY_TYPE) / self._scale\n",
    "        )\n",
    "        return value\n",
    "\n",
    "    def sanity_check(\n",
    "        self, other: Union[\"FixedPrecisionTensor\", int, float, np.ndarray]\n",
    "    ) -> \"FixedPrecisionTensor\":\n",
    "        if isinstance(other, \"FixedPrecisionTensor\"):\n",
    "            if self.base != other.base or self.precision != other.precision:\n",
    "                raise ValueError(\n",
    "                    f\"Base:{self.base,other.base} and Precision: \"\n",
    "                    + f\"{self.precision, other.precision} should be same for \"\n",
    "                    + \"computation on FixedPrecisionTensor\"\n",
    "                )\n",
    "        elif isinstance(other, (int,float,np.ndarray)):\n",
    "            other = FixedPrecisionTensor(\n",
    "                value=other, base=self.base, precision=self.precision\n",
    "            )\n",
    "        else:\n",
    "            raise ValueError(f\"Invalid type for FixedPrecisionTensor: {type(other)}\")\n",
    "\n",
    "        return other\n",
    "\n",
    "    def __add__(self, other: Any) -> \"FixedPrecisionTensor\":\n",
    "        res = FixedPrecisionTensor(base=self._base, precision=self._precision)\n",
    "        other = self.sanity_check(other)\n",
    "        res.child = self.child + other.child\n",
    "        return res\n",
    "\n",
    "    def __sub__(self, other: Any) -> \"FixedPrecisionTensor\":\n",
    "        res = FixedPrecisionTensor(base=self._base, precision=self._precision)\n",
    "        other = self.sanity_check(other)\n",
    "        res.child = self.child - other.child\n",
    "        return res\n",
    "\n",
    "    def __mul__(self, other: Any) -> \"FixedPrecisionTensor\":\n",
    "        res = FixedPrecisionTensor(base=self._base, precision=self._precision)\n",
    "        other = self.sanity_check(other)\n",
    "        res.child = self.child * other.child\n",
    "        res = res / self.scale\n",
    "        return res\n",
    "    \n",
    "    def __truediv__(\n",
    "        self, other: Union[int, np.integer, \"FixedPrecisionTensor\"]\n",
    "    ) -> \"FixedPrecisionTensor\":\n",
    "        if isinstance(other, FixedPrecisionTensor):\n",
    "            raise ValueError(\"We do not support Private Division yet.\")\n",
    "\n",
    "        res = FixedPrecisionTensor(base=self._base, precision=self._precision)\n",
    "        if isinstance(self.child, np.ndarray) or np.isscalar(self.child):\n",
    "            res.child = np.trunc(self.child / other).astype(DEFAULT_INT_NUMPY_TYPE)\n",
    "        else:\n",
    "            res.child = self.child / other\n",
    "        return res\n",
    "\n",
    "        "
   ]
  },
  {
   "cell_type": "code",
   "execution_count": 97,
   "id": "09f942e3-f9b9-4e81-b580-9a37cc76dad4",
   "metadata": {},
   "outputs": [],
   "source": [
    "float_val = 0.5654564\n",
    "val = np.array([float_val])\n"
   ]
  },
  {
   "cell_type": "code",
   "execution_count": 98,
   "id": "1d97b62a-698a-4948-a3ec-b0dcff8ec93c",
   "metadata": {},
   "outputs": [],
   "source": [
    "a = FixedPrecisionTensor(val)"
   ]
  },
  {
   "cell_type": "code",
   "execution_count": 99,
   "id": "00f6da0a-f74e-4ce3-bc0f-29f6ec0e6842",
   "metadata": {},
   "outputs": [
    {
     "data": {
      "text/plain": [
       "FixedPrecisionTensor(child=[37057])"
      ]
     },
     "execution_count": 99,
     "metadata": {},
     "output_type": "execute_result"
    }
   ],
   "source": [
    "a"
   ]
  },
  {
   "cell_type": "code",
   "execution_count": 100,
   "id": "a37e1f06-b50d-4899-a940-0e83fddf2af6",
   "metadata": {},
   "outputs": [
    {
     "data": {
      "text/plain": [
       "array([0.56544495])"
      ]
     },
     "execution_count": 100,
     "metadata": {},
     "output_type": "execute_result"
    }
   ],
   "source": [
    "a.decode()"
   ]
  }
 ],
 "metadata": {
  "kernelspec": {
   "display_name": "Python 3 (ipykernel)",
   "language": "python",
   "name": "python3"
  },
  "language_info": {
   "codemirror_mode": {
    "name": "ipython",
    "version": 3
   },
   "file_extension": ".py",
   "mimetype": "text/x-python",
   "name": "python",
   "nbconvert_exporter": "python",
   "pygments_lexer": "ipython3",
   "version": "3.9.4"
  }
 },
 "nbformat": 4,
 "nbformat_minor": 5
}
