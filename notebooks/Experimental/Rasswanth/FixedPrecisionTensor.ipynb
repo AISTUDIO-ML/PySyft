{
 "cells": [
  {
   "cell_type": "code",
   "execution_count": 1,
   "id": "2732f58f-a186-4a18-a8f1-c92d0bf37a43",
   "metadata": {},
   "outputs": [
    {
     "name": "stderr",
     "output_type": "stream",
     "text": [
      "/home/azureuser/.local/share/virtualenvs/python39-2vM0bQN-/lib/python3.9/site-packages/tqdm/auto.py:22: TqdmWarning: IProgress not found. Please update jupyter and ipywidgets. See https://ipywidgets.readthedocs.io/en/stable/user_install.html\n",
      "  from .autonotebook import tqdm as notebook_tqdm\n"
     ]
    }
   ],
   "source": [
    "from syft.core.tensor.passthrough import PassthroughTensor\n",
    "from typing import Union,Optional,Any,Tuple\n",
    "import numpy as np\n",
    "from syft.core.tensor.config import DEFAULT_INT_NUMPY_TYPE\n",
    "from syft.core.tensor.config import DEFAULT_FLOAT_NUMPY_TYPE\n"
   ]
  },
  {
   "cell_type": "code",
   "execution_count": 3,
   "id": "5d44d612-f025-43c5-ad19-64a2d612554e",
   "metadata": {},
   "outputs": [],
   "source": [
    "class FixedPrecisionTensor(PassthroughTensor):\n",
    "    def __init__(\n",
    "        self,\n",
    "        value: Union[int, float, np.ndarray] = None,\n",
    "        base: int = 2,\n",
    "        precision: int = 16,\n",
    "    ) -> None:\n",
    "        self._base = base\n",
    "        self._precision = precision\n",
    "        self._scale = base**precision\n",
    "        if value is not None:\n",
    "            super().__init__(self.encode(value))\n",
    "        else:\n",
    "            super().__init__(None)\n",
    "\n",
    "    def encode(self, value: Union[int, float, np.ndarray]) -> np.ndarray:\n",
    "        encoded_value = np.array(self._scale * value, DEFAULT_INT_NUMPY_TYPE)\n",
    "        return encoded_value\n",
    "\n",
    "    @property\n",
    "    def dtype(self) -> np.dtype:\n",
    "        return getattr(self.child, \"dtype\", None)\n",
    "\n",
    "    @property\n",
    "    def shape(self) -> Optional[Tuple[int, ...]]:\n",
    "        return getattr(self.child, \"shape\", None)\n",
    "\n",
    "    def decode(self) -> Any:\n",
    "        value = self.child\n",
    "        scale = self._scale\n",
    "\n",
    "        correction = (value < 0).astype(DEFAULT_INT_NUMPY_TYPE)\n",
    "\n",
    "        dividend = np.trunc(value / scale - correction)\n",
    "        remainder = value % scale\n",
    "        remainder += (\n",
    "            (remainder == 0).astype(DEFAULT_INT_NUMPY_TYPE) * scale * correction\n",
    "        )\n",
    "        value = (\n",
    "            dividend.astype(DEFAULT_FLOAT_NUMPY_TYPE)\n",
    "            + remainder.astype(DEFAULT_FLOAT_NUMPY_TYPE) / scale\n",
    "        )\n",
    "        return value\n",
    "\n",
    "    def sanity_check(\n",
    "        self, other: Union[\"FixedPrecisionTensor\", int, float, np.ndarray]\n",
    "    ) -> \"FixedPrecisionTensor\":\n",
    "        if isinstance(other, FixedPrecisionTensor):\n",
    "            if self._base != other._base or self._precision != other._precision:\n",
    "                raise ValueError(\n",
    "                    f\"Base:{self.base,other.base} and Precision: \"\n",
    "                    + f\"{self.precision, other.precision} should be same for \"\n",
    "                    + \"computation on FixedPrecisionTensor\"\n",
    "                )\n",
    "        elif isinstance(other, (int,float,np.ndarray)):\n",
    "            other = FixedPrecisionTensor(\n",
    "                value=other, base=self._base, precision=self._precision\n",
    "            )\n",
    "        else:\n",
    "            raise ValueError(f\"Invalid type for FixedPrecisionTensor: {type(other)}\")\n",
    "\n",
    "        return other\n",
    "\n",
    "    def __add__(self, other: Any):\n",
    "        res = FixedPrecisionTensor(base=self._base, precision=self._precision)\n",
    "        other = self.sanity_check(other)\n",
    "        res.child = self.child + other.child\n",
    "        return res\n",
    "\n",
    "    def __sub__(self, other: Any):\n",
    "        res = FixedPrecisionTensor(base=self._base, precision=self._precision)\n",
    "        other = self.sanity_check(other)\n",
    "        res.child = self.child - other.child\n",
    "        return res\n",
    "\n",
    "    def __mul__(self, other: Any): \n",
    "        res = FixedPrecisionTensor(base=self._base, precision=self._precision)\n",
    "        other = self.sanity_check(other)\n",
    "        res.child = self.child * other.child\n",
    "        res = res / self._scale\n",
    "        return res\n",
    "\n",
    "    def __lt__(self, other: Any):\n",
    "        other = self.sanity_check(other)\n",
    "        value = (self.child < other.child) * 1\n",
    "\n",
    "        res = FixedPrecisionTensor(\n",
    "            value=value, base=self._base, precision=self._precision\n",
    "        )\n",
    "        return res\n",
    "\n",
    "    def __gt__(self, other: Any):\n",
    "        other = self.sanity_check(other)\n",
    "        value = (self.child > other.child) * 1\n",
    "        res = FixedPrecisionTensor(\n",
    "            value=value, base=self._base, precision=self._precision\n",
    "        )\n",
    "        return res\n",
    "\n",
    "    def __truediv__(\n",
    "        self, other: Union[int, np.integer, \"FixedPrecisionTensor\"]\n",
    "    ) -> \"FixedPrecisionTensor\":\n",
    "        if isinstance(other, FixedPrecisionTensor):\n",
    "            raise ValueError(\"We do not support Private Division yet.\")\n",
    "\n",
    "        res = FixedPrecisionTensor(base=self._base, precision=self._precision)\n",
    "        if isinstance(self.child, np.ndarray) or np.isscalar(self.child):\n",
    "            res.child = np.trunc(self.child / other).astype(DEFAULT_INT_NUMPY_TYPE)\n",
    "        else:\n",
    "            res.child = self.child / other\n",
    "        return res\n",
    "\n",
    "        "
   ]
  },
  {
   "cell_type": "code",
   "execution_count": 4,
   "id": "a99e0bce-237b-4f67-9491-13a1f0f8474a",
   "metadata": {},
   "outputs": [],
   "source": [
    "def sign(data):\n",
    "    return (data>0) + (data<0)*-1\n",
    "\n",
    "def modulus(data):\n",
    "    return sign(data) * data\n",
    "\n",
    "def exp(value, iterations = 8):\n",
    "    result = (value / 2**iterations) + 1\n",
    "    for _ in range(iterations):\n",
    "        result = result * result\n",
    "    return result\n",
    "\n",
    "def log(data, iterations = 2, exp_iterations = 8):\n",
    "    y = data / 31 + 1.59 - 20 * exp((-2 * data - 1.4), iterations=exp_iterations)\n",
    "\n",
    "    # 6th order Householder iterations\n",
    "    for i in range(iterations):\n",
    "        h = [1 - data * exp((-1 * y), iterations=exp_iterations)]\n",
    "        for j in range(1, 5):\n",
    "            h.append(h[-1] * h[0])\n",
    "\n",
    "        y -= h[0] * (1 + h[0] / 2 + h[1] / 3 + h[2] / 4 + h[3] / 5 + h[4] / 6)\n",
    "\n",
    "    return y\n",
    "\n",
    "\n",
    "def reciprocal(data, method = \"NR\", nr_iters = 10):\n",
    "    method = method.lower()\n",
    "    if method == \"nr\":\n",
    "        new_data = modulus(data)\n",
    "        result = exp(new_data * -1 + 0.5) * 3 + 0.003\n",
    "        for i in range(nr_iters):\n",
    "            result = result * 2 - result * result * new_data\n",
    "        return result * sign(data)\n",
    "    elif method == \"log\":\n",
    "        new_data = modulus(data)\n",
    "        return exp(-1 * log(new_data)) * sign(data)\n",
    "    else:\n",
    "        raise ValueError(f\"Invalid method {method} given for reciprocal function\")\n",
    "\n",
    "\n"
   ]
  },
  {
   "cell_type": "code",
   "execution_count": 55,
   "id": "09f942e3-f9b9-4e81-b580-9a37cc76dad4",
   "metadata": {},
   "outputs": [],
   "source": [
    "val = np.array([-2154,-3154,-5614,-7518])\n"
   ]
  },
  {
   "cell_type": "code",
   "execution_count": 56,
   "id": "1d97b62a-698a-4948-a3ec-b0dcff8ec93c",
   "metadata": {},
   "outputs": [],
   "source": [
    "a = FixedPrecisionTensor(val)"
   ]
  },
  {
   "cell_type": "code",
   "execution_count": 57,
   "id": "00f6da0a-f74e-4ce3-bc0f-29f6ec0e6842",
   "metadata": {},
   "outputs": [
    {
     "data": {
      "text/plain": [
       "FixedPrecisionTensor(child=[-141164544 -206700544 -367919104 -492699648])"
      ]
     },
     "execution_count": 57,
     "metadata": {},
     "output_type": "execute_result"
    }
   ],
   "source": [
    "a"
   ]
  },
  {
   "cell_type": "code",
   "execution_count": 58,
   "id": "4ab32749-0a7e-4298-86c0-f8fd28971d56",
   "metadata": {},
   "outputs": [
    {
     "data": {
      "text/plain": [
       "array([-2154., -3154., -5614., -7518.])"
      ]
     },
     "execution_count": 58,
     "metadata": {},
     "output_type": "execute_result"
    }
   ],
   "source": [
    "a.decode()"
   ]
  },
  {
   "cell_type": "code",
   "execution_count": 59,
   "id": "b89c0afc-f6cb-4361-a018-0f9d3d9ecfb9",
   "metadata": {},
   "outputs": [
    {
     "data": {
      "text/plain": [
       "array([-1.13315451e+07, -1.17961730e+09,  1.49793323e+09, -3.33832374e+07])"
      ]
     },
     "execution_count": 59,
     "metadata": {},
     "output_type": "execute_result"
    }
   ],
   "source": [
    "reciprocal(a).decode()"
   ]
  },
  {
   "cell_type": "code",
   "execution_count": 40,
   "id": "0656d5ae-6107-4da5-98d5-8306c2ae28a7",
   "metadata": {},
   "outputs": [
    {
     "data": {
      "text/plain": [
       "array([ 0.00046425, -0.00031706,  0.00017813, -0.00013301])"
      ]
     },
     "execution_count": 40,
     "metadata": {},
     "output_type": "execute_result"
    }
   ],
   "source": [
    "1/val"
   ]
  },
  {
   "cell_type": "code",
   "execution_count": 46,
   "id": "1bdd58bd-8917-41fd-86a0-630b0bfad7f7",
   "metadata": {},
   "outputs": [],
   "source": [
    "new_data = modulus(a)\n",
    "# result = exp(new_data * -1 + 0.5) * 3 + 0.003\n",
    "result = 3 * exp((2 * new_data-1)*-1) + 0.003"
   ]
  },
  {
   "cell_type": "code",
   "execution_count": 50,
   "id": "4a196ee4-1666-4bbd-9c5d-aaf541aaf8c2",
   "metadata": {},
   "outputs": [
    {
     "data": {
      "text/plain": [
       "2621867017208110857291278646274757833211428251255572119667240856128689859399967597712701449540498702686528012029570221268104406033856895404835653389828332998407065448122619523201130842673994127983631115031360198512870417510041732087342228812898057254663393396381482407931849193438026565408952286452216349898494859674247283552617173642549493707906614081953874823532621970844112340813968948171522563474938937617953781459396078648018289743901613088748540468750755478262312096444327164053458687952496362375276274447747448345518292599380467806650757224411640931683375968501388566930703594293583757984396572562873200458373170942241638564389578408653225984"
      ]
     },
     "execution_count": 50,
     "metadata": {},
     "output_type": "execute_result"
    }
   ],
   "source": [
    "2**2154"
   ]
  },
  {
   "cell_type": "code",
   "execution_count": 60,
   "id": "c7b935b1-236e-4433-9e63-b579210975ca",
   "metadata": {},
   "outputs": [
    {
     "data": {
      "text/plain": [
       "-2154"
      ]
     },
     "execution_count": 60,
     "metadata": {},
     "output_type": "execute_result"
    }
   ],
   "source": []
  },
  {
   "cell_type": "code",
   "execution_count": null,
   "id": "ab6aa97e-436b-41f9-9e23-0a6501ab9448",
   "metadata": {},
   "outputs": [],
   "source": []
  }
 ],
 "metadata": {
  "kernelspec": {
   "display_name": "Python 3 (ipykernel)",
   "language": "python",
   "name": "python3"
  },
  "language_info": {
   "codemirror_mode": {
    "name": "ipython",
    "version": 3
   },
   "file_extension": ".py",
   "mimetype": "text/x-python",
   "name": "python",
   "nbconvert_exporter": "python",
   "pygments_lexer": "ipython3",
   "version": "3.9.4"
  }
 },
 "nbformat": 4,
 "nbformat_minor": 5
}
