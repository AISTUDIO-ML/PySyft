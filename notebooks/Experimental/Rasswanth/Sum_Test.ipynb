{
 "cells": [
  {
   "cell_type": "code",
   "execution_count": 1,
   "id": "949c1b92-0d6d-440e-affc-176e99ff9dd0",
   "metadata": {},
   "outputs": [],
   "source": [
    "%load_ext autoreload\n",
    "%autoreload 2\n",
    "import syft as sy\n",
    "import numpy as np\n",
    "import torch"
   ]
  },
  {
   "cell_type": "code",
   "execution_count": null,
   "id": "dda7b293-9bf2-44b6-8b83-f63d88f73d86",
   "metadata": {},
   "outputs": [],
   "source": [
    "a =  torch.arange(4 * 5 * 6).view(4,5,6)"
   ]
  },
  {
   "cell_type": "code",
   "execution_count": null,
   "id": "2fe1988f-2aec-42ec-bb7a-976df45cd569",
   "metadata": {},
   "outputs": [],
   "source": [
    "torch.sum(a,(2,1))"
   ]
  },
  {
   "cell_type": "code",
   "execution_count": null,
   "id": "fd5253c0-e123-4cea-a3c1-37ec28f0f41f",
   "metadata": {},
   "outputs": [],
   "source": [
    "b = np.arange(4 * 5 * 6).reshape((4,5,6))"
   ]
  },
  {
   "cell_type": "code",
   "execution_count": null,
   "id": "4b96862d-0b5d-4b5b-840b-d5ec25201e20",
   "metadata": {},
   "outputs": [],
   "source": [
    "print(b.sum.__doc__)"
   ]
  },
  {
   "cell_type": "code",
   "execution_count": null,
   "id": "4f15d0b6-ab3f-49f2-aee9-f20343914ac2",
   "metadata": {},
   "outputs": [],
   "source": [
    "b.sum((2,1))"
   ]
  },
  {
   "cell_type": "code",
   "execution_count": 2,
   "id": "35b0764e-d2e9-4c4a-ae56-2008c36fb2fc",
   "metadata": {},
   "outputs": [
    {
     "name": "stdout",
     "output_type": "stream",
     "text": [
      "WARNING: CHANGE YOUR USERNAME AND PASSWORD!!! \n",
      "\n",
      "Anyone can login as an admin to your node right now because your password is still the default PySyft username and password!!!\n",
      "\n",
      "Connecting to localhost... done! \t Logging into canada... done!\n",
      "WARNING: CHANGE YOUR USERNAME AND PASSWORD!!! \n",
      "\n",
      "Anyone can login as an admin to your node right now because your password is still the default PySyft username and password!!!\n",
      "\n",
      "Connecting to localhost... done! \t Logging into italy... done!\n"
     ]
    }
   ],
   "source": [
    "ca = sy.login(email=\"info@openmined.org\",password=\"changethis\",port=8081)\n",
    "it = sy.login(email=\"info@openmined.org\",password=\"changethis\",port=8082)"
   ]
  },
  {
   "cell_type": "code",
   "execution_count": 3,
   "id": "e0e46caf-9402-4908-9cd4-fa1294171843",
   "metadata": {},
   "outputs": [],
   "source": [
    "data  = np.arange(4 * 5 * 6).reshape((4,5,6))\n",
    "phi_tensor = sy.Tensor(data).private(min_val=0,max_val=100, data_subjects=[\"natsu\"]*data.shape[0])"
   ]
  },
  {
   "cell_type": "code",
   "execution_count": null,
   "id": "dd26662d-1750-4389-8d30-7f0b122b3a80",
   "metadata": {},
   "outputs": [],
   "source": [
    "ptr = phi_tensor.send(ca)"
   ]
  },
  {
   "cell_type": "code",
   "execution_count": null,
   "id": "3f0e9e0c-7d34-4b91-a034-bb77719234b0",
   "metadata": {},
   "outputs": [],
   "source": [
    "res = ptr.sum((2,1))"
   ]
  },
  {
   "cell_type": "code",
   "execution_count": null,
   "id": "cf3847b4-1cb6-4799-a4fc-03d66481c3f3",
   "metadata": {},
   "outputs": [],
   "source": [
    "v = res.get_copy()"
   ]
  },
  {
   "cell_type": "code",
   "execution_count": null,
   "id": "3af19d97-b366-44fb-a48e-3bdcff2761a9",
   "metadata": {},
   "outputs": [],
   "source": [
    "res.shape"
   ]
  },
  {
   "cell_type": "code",
   "execution_count": 4,
   "id": "5937f21d-1dc0-468f-a48f-38ed606c29a1",
   "metadata": {},
   "outputs": [],
   "source": [
    "gamma_tensor  = sy.Tensor(phi_tensor.child.gamma)"
   ]
  },
  {
   "cell_type": "code",
   "execution_count": 8,
   "id": "5ca7ffef-06ab-4179-94c6-e037ec9f8d97",
   "metadata": {},
   "outputs": [
    {
     "name": "stderr",
     "output_type": "stream",
     "text": [
      "kj/filesystem-disk-unix.c++:1690: warning: PWD environment variable doesn't match current directory; pwd = /home/azureuser/PySyft\n",
      "Uploading `c1f5cf20335247f5aa0faa7af66ea7e5`: 100%|\u001b[32m██████████████████\u001b[0m| 1/1 [00:00<00:00, 222.23it/s]\u001b[0m\n"
     ]
    }
   ],
   "source": [
    "gamma_ptr = gamma_tensor.send(ca)"
   ]
  },
  {
   "cell_type": "code",
   "execution_count": 10,
   "id": "7502d818-89b9-4c48-8bac-5fbf5de356e6",
   "metadata": {},
   "outputs": [],
   "source": [
    "gamma_re = gamma_ptr.sum((2,1))"
   ]
  },
  {
   "cell_type": "code",
   "execution_count": 11,
   "id": "9f3d62ec-f9c7-4bbb-b802-028f55326dd8",
   "metadata": {},
   "outputs": [],
   "source": [
    "v1 = gamma_re.get_copy()"
   ]
  },
  {
   "cell_type": "code",
   "execution_count": 17,
   "id": "dad7efc8-eff1-41d5-8160-7608ca924923",
   "metadata": {},
   "outputs": [
    {
     "data": {
      "text/plain": [
       "<lazyrepeatarray data: [3000 3000 3000 3000] -> shape: (4,)>"
      ]
     },
     "execution_count": 17,
     "metadata": {},
     "output_type": "execute_result"
    }
   ],
   "source": []
  }
 ],
 "metadata": {
  "kernelspec": {
   "display_name": "Python 3 (ipykernel)",
   "language": "python",
   "name": "python3"
  },
  "language_info": {
   "codemirror_mode": {
    "name": "ipython",
    "version": 3
   },
   "file_extension": ".py",
   "mimetype": "text/x-python",
   "name": "python",
   "nbconvert_exporter": "python",
   "pygments_lexer": "ipython3",
   "version": "3.9.4"
  }
 },
 "nbformat": 4,
 "nbformat_minor": 5
}
