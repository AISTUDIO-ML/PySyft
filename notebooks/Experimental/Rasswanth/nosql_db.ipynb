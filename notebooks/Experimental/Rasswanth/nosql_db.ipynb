{
 "cells": [
  {
   "cell_type": "code",
   "execution_count": 1,
   "id": "e7b7788c-6988-42d0-baf1-c21a7c595c96",
   "metadata": {},
   "outputs": [
    {
     "name": "stderr",
     "output_type": "stream",
     "text": [
      "/Users/rasswanth/PySyft/.tox/syft.jupyter/lib/python3.9/site-packages/jax/_src/lib/__init__.py:33: UserWarning: JAX on Mac ARM machines is experimental and minimally tested. Please see https://github.com/google/jax/issues/5501 in the event of problems.\n",
      "  warnings.warn(\"JAX on Mac ARM machines is experimental and minimally tested. \"\n"
     ]
    }
   ],
   "source": [
    "%load_ext autoreload\n",
    "%autoreload 2\n",
    "import syft as sy\n",
    "from pymongo import MongoClient\n",
    "from nacl.signing import SigningKey\n",
    "from nacl.encoding import HexEncoder\n",
    "from syft.core.node.common.node_table.user import NoSQLSyftUser"
   ]
  },
  {
   "cell_type": "code",
   "execution_count": 2,
   "id": "c3e76a4b-5379-4bb1-932b-fe1f5e32a003",
   "metadata": {},
   "outputs": [],
   "source": [
    "key = SigningKey.generate()"
   ]
  },
  {
   "cell_type": "code",
   "execution_count": 3,
   "id": "a71083c1-0fed-4ecf-8930-cb60dcf7b156",
   "metadata": {},
   "outputs": [],
   "source": [
    "user = NoSQLSyftUser(name=\"Natsu\", email=\"natsu@fairy.tail\",budget=5.5,hashed_password=\"go\",salt=\"lkj\",private_key=key,role={\"admin\":[\"can_write\"]})"
   ]
  },
  {
   "cell_type": "code",
   "execution_count": 4,
   "id": "50bf333e-bbcb-45ec-8141-29070971d08f",
   "metadata": {},
   "outputs": [
    {
     "data": {
      "text/plain": [
       "NoSQLSyftUser(id=<UID: d8157a3bfd894a77b17307197481fd05>, email='natsu@fairy.tail', name='Natsu', budget=5.5, hashed_password='go', salt='lkj', private_key=<nacl.signing.SigningKey object at 0x10793bfa0>, verify_key=None, role={'admin': ['can_write']}, added_by=None, website=None, institution=None, daa_pdf=None, created_at=None)"
      ]
     },
     "execution_count": 4,
     "metadata": {},
     "output_type": "execute_result"
    }
   ],
   "source": [
    "user"
   ]
  },
  {
   "cell_type": "code",
   "execution_count": 5,
   "id": "63b7279b-6322-4549-a748-871d1ffe2b8c",
   "metadata": {},
   "outputs": [],
   "source": [
    "\n",
    "client = MongoClient(host='localhost', port=49703, username=\"root\", password=\"example\", uuidRepresentation=\"standard\")"
   ]
  },
  {
   "cell_type": "code",
   "execution_count": 6,
   "id": "d625cd44-92d2-4da1-974f-752b3ecd81e4",
   "metadata": {},
   "outputs": [],
   "source": [
    "db = client[\"app\"]"
   ]
  },
  {
   "cell_type": "code",
   "execution_count": 7,
   "id": "cf15c49a-960e-4da8-8688-d3138ca90859",
   "metadata": {},
   "outputs": [
    {
     "data": {
      "text/plain": [
       "['users', 'syft_users']"
      ]
     },
     "execution_count": 7,
     "metadata": {},
     "output_type": "execute_result"
    }
   ],
   "source": [
    "db.list_collection_names()"
   ]
  },
  {
   "cell_type": "code",
   "execution_count": 8,
   "id": "d1cf588c-2e59-4698-9740-2153a9774c2c",
   "metadata": {},
   "outputs": [],
   "source": [
    "collection = db[\"syft_users\"]\n"
   ]
  },
  {
   "cell_type": "code",
   "execution_count": 15,
   "id": "716e9111-5a5d-4632-bccb-6f080a4fe256",
   "metadata": {},
   "outputs": [
    {
     "data": {
      "text/plain": [
       "6"
      ]
     },
     "execution_count": 15,
     "metadata": {},
     "output_type": "execute_result"
    }
   ],
   "source": [
    "collection.count_documents(filter={})"
   ]
  },
  {
   "cell_type": "code",
   "execution_count": 10,
   "id": "1183cb41-78ae-4e6a-b806-b4480d19e324",
   "metadata": {},
   "outputs": [],
   "source": [
    "\n",
    "from syft.core.node.common.node_manager.user_manager import NoSQLUserManager"
   ]
  },
  {
   "cell_type": "code",
   "execution_count": 11,
   "id": "061429ba-9a72-46e4-b1ba-a560d6731b8f",
   "metadata": {},
   "outputs": [],
   "source": [
    "user_manager = NoSQLUserManager(db)"
   ]
  },
  {
   "cell_type": "code",
   "execution_count": 12,
   "id": "8a137f0b-b853-46c6-8d97-67eec477c9f3",
   "metadata": {
    "tags": []
   },
   "outputs": [
    {
     "data": {
      "text/plain": [
       "{'email': 'natsu@fairy.tail',\n",
       " '_id': UUID('d8157a3b-fd89-4a77-b173-07197481fd05'),\n",
       " '__canonical_name__': 'SyftUser',\n",
       " '__version__': 1,\n",
       " '__blob__': b'\\n\\tprotobuf:\\x12\\x14syft.lib.python.Dict\\x1a\\xc7\\x10\\n=\\n\\tprotobuf:\\x12\\x16syft.lib.python.String\\x1a\\x18\\n\\x02id\\x12\\x12\\n\\x10\\x9f\\xc2WTW\\xd1H0\\x9b\\xd3\\x94,\\xaa1w\\xa1\\n@\\n\\tprotobuf:\\x12\\x16syft.lib.python.String\\x1a\\x1b\\n\\x05email\\x12\\x12\\n\\x10$\\xbc\\x1bW}\\xbbA\\xe6\\xa7\\x94?!N\\xf3\\xf3\\x01\\n?\\n\\tprotobuf:\\x12\\x16syft.lib.python.String\\x1a\\x1a\\n\\x04name\\x12\\x12\\n\\x10n\\xc5\\x86\\x06\\x85\\xe9A\\xef\\xae\\x9b\\x13!\\xc5\\xa0@_\\nA\\n\\tprotobuf:\\x12\\x16syft.lib.python.String\\x1a\\x1c\\n\\x06budget\\x12\\x12\\n\\x10\\xe2kN\\x8aV\\xe7J\\xb5\\xa9\\xeaA\\xf2wQ\\x1b\\xa7\\nJ\\n\\tprotobuf:\\x12\\x16syft.lib.python.String\\x1a%\\n\\x0fhashed_password\\x12\\x12\\n\\x10\\x83\\x11\\xc6\\x95^\\xd2A\\xf3\\xa2\\x16\\xab\\x0c\\xees\\xf6\\xf4\\n?\\n\\tprotobuf:\\x12\\x16syft.lib.python.String\\x1a\\x1a\\n\\x04salt\\x12\\x12\\n\\x10\\xd2S\\xe6\\xcc\\xcayI\\x02\\xb9\\xd1\\xa8\\xf0NM\\xfa\\xcc\\nF\\n\\tprotobuf:\\x12\\x16syft.lib.python.String\\x1a!\\n\\x0bprivate_key\\x12\\x12\\n\\x10\\xd9T\\xd6\\x86\\xd3\\x9c@\\xe0\\x9b\\x97\\xb5KA\\xb2<\\x97\\nE\\n\\tprotobuf:\\x12\\x16syft.lib.python.String\\x1a \\n\\nverify_key\\x12\\x12\\n\\x10\\x0b\\x88\\x0c\\\\Y\\x8bI\\xe1\\x9f\\xdf.U\\xe3\\xf0\\xc7\\xcc\\n?\\n\\tprotobuf:\\x12\\x16syft.lib.python.String\\x1a\\x1a\\n\\x04role\\x12\\x12\\n\\x10\\xfd\\xeb>}\\x00\\xddK\\xb6\\x80P\\xe3&\\xe46\\xa6\\x0c\\nC\\n\\tprotobuf:\\x12\\x16syft.lib.python.String\\x1a\\x1e\\n\\x08added_by\\x12\\x12\\n\\x10h\\xb6q\\x0f<@A\\xad\\xaeXO\\x8f\\x8d\\xf0\\x87/\\nB\\n\\tprotobuf:\\x12\\x16syft.lib.python.String\\x1a\\x1d\\n\\x07website\\x12\\x12\\n\\x10\\xd74xj\\x1d\\xea@w\\xa9;:-n\\xd1\\x05\"\\nF\\n\\tprotobuf:\\x12\\x16syft.lib.python.String\\x1a!\\n\\x0binstitution\\x12\\x12\\n\\x10\\x81\\x11C\\x16y\\x1dA \\xaa\\x11\\r\\xcf\\xe9\\xd2\\xc4\\xd6\\nB\\n\\tprotobuf:\\x12\\x16syft.lib.python.String\\x1a\\x1d\\n\\x07daa_pdf\\x12\\x12\\n\\x10\\x05G\\xaa\\x04\"\\xedG-\\xb8\\xbd\\xd9I\\x99\\xeb\\x03\\x99\\nE\\n\\tprotobuf:\\x12\\x16syft.lib.python.String\\x1a \\n\\ncreated_at\\x12\\x12\\n\\x10\\x84\\xfc0-\\xaf\\xd5C\\xc0\\x8e\\x95\\xe8\\xfd\\xda\\xf4\\xe1\\xc3\\x129\\n\\tprotobuf:\\x12\\x18syft.core.common.uid.UID\\x1a\\x12\\n\\x10\\xd8\\x15z;\\xfd\\x89Jw\\xb1s\\x07\\x19t\\x81\\xfd\\x05\\x12K\\n\\tprotobuf:\\x12\\x16syft.lib.python.String\\x1a&\\n\\x10natsu@fairy.tail\\x12\\x12\\n\\x10\\x15\\xc1\\xb5G\\xae#H=\\xa5S?\\xb8B%\\xdci\\x12@\\n\\tprotobuf:\\x12\\x16syft.lib.python.String\\x1a\\x1b\\n\\x05Natsu\\x12\\x12\\n\\x10>p\\xf7\\xd7e\\xbd@\\x83\\xb8LC\\xd3\\x8a\\xc7!\\xa1\\x12A\\n\\tprotobuf:\\x12\\x15syft.lib.python.Float\\x1a\\x1d\\t\\x00\\x00\\x00\\x00\\x00\\x00\\x16@\\x12\\x12\\n\\x10s\\x1a`n\\xa4CB1\\xb7\\x12\\x9a\\x17h\\xdf4\\xed\\x12=\\n\\tprotobuf:\\x12\\x16syft.lib.python.String\\x1a\\x18\\n\\x02go\\x12\\x12\\n\\x100]\\xebGI\\xefK\\x0f\\x98T\\x08\\xf1\\x11\\xe7`f\\x12>\\n\\tprotobuf:\\x12\\x16syft.lib.python.String\\x1a\\x19\\n\\x03lkj\\x12\\x12\\n\\x10\"\\xfe\\xd0\\xd3\\xd2\\xefN\\xb4\\x95\\xaa\\xcf;\\xeaZ\\x88f\\x12}\\n\\tprotobuf:\\x12,syft.wrappers.nacl.signing.SigningKeyWrapper\\x1aB\\n@27ad0ee6bff4a48807d2d3dc12a6feb5cd6fc91e67fd79e025a4b4dc8b97069f\\x12:\\n\\tprotobuf:\\x12\\x17syft.lib.python._SyNone\\x1a\\x14\\n\\x12\\n\\x10\\xdf%\\xbb\\xcf7\\xfaA\\xf7\\xaab\\xe2\\x04Lx\\xc0\\xcb\\x12\\xff\\x01\\n\\tprotobuf:\\x12\\x14syft.lib.python.Dict\\x1a\\xdb\\x01\\n@\\n\\tprotobuf:\\x12\\x16syft.lib.python.String\\x1a\\x1b\\n\\x05admin\\x12\\x12\\n\\x10\\xf0\\x85\\t/!\\xb0Da\\x81\\x87\\x82\\x99=.\\xfb[\\x12\\x82\\x01\\n\\tprotobuf:\\x12\\x19syft.lib.python.list.List\\x1aZ\\nD\\n\\tprotobuf:\\x12\\x16syft.lib.python.String\\x1a\\x1f\\n\\tcan_write\\x12\\x12\\n\\x10v\\x87.\\x11\\xb3\\xd5C6\\xa2=\\xa9\\xc8\\x14\\x9f&\\x98\\x12\\x12\\n\\x10|\\xdeQ(H@E\\xa4\\x9f\\x95\\x06\\xcd\\x03\\xaf^\\xa4\\x1a\\x12\\n\\x10\\xbd(J\\x00\\xe1hD \\xa2]\\x1e\\xa3\\xcb\\x8a\\xa3\\xbb\\x12:\\n\\tprotobuf:\\x12\\x17syft.lib.python._SyNone\\x1a\\x14\\n\\x12\\n\\x10\\xdf%\\xbb\\xcf7\\xfaA\\xf7\\xaab\\xe2\\x04Lx\\xc0\\xcb\\x12:\\n\\tprotobuf:\\x12\\x17syft.lib.python._SyNone\\x1a\\x14\\n\\x12\\n\\x10\\xdf%\\xbb\\xcf7\\xfaA\\xf7\\xaab\\xe2\\x04Lx\\xc0\\xcb\\x12:\\n\\tprotobuf:\\x12\\x17syft.lib.python._SyNone\\x1a\\x14\\n\\x12\\n\\x10\\xdf%\\xbb\\xcf7\\xfaA\\xf7\\xaab\\xe2\\x04Lx\\xc0\\xcb\\x12:\\n\\tprotobuf:\\x12\\x17syft.lib.python._SyNone\\x1a\\x14\\n\\x12\\n\\x10\\xdf%\\xbb\\xcf7\\xfaA\\xf7\\xaab\\xe2\\x04Lx\\xc0\\xcb\\x12:\\n\\tprotobuf:\\x12\\x17syft.lib.python._SyNone\\x1a\\x14\\n\\x12\\n\\x10\\xdf%\\xbb\\xcf7\\xfaA\\xf7\\xaab\\xe2\\x04Lx\\xc0\\xcb\\x1a\\x12\\n\\x10\\xf8\\xe1\\xfa%\\x13\\xba@\\x1a\\xb62\\xeb*\\xa1\\xbf\\xb4`'}"
      ]
     },
     "execution_count": 12,
     "metadata": {},
     "output_type": "execute_result"
    }
   ],
   "source": [
    "user.to_mongo()"
   ]
  },
  {
   "cell_type": "code",
   "execution_count": 13,
   "id": "70ba00e2-d5e4-4ba5-9467-d12be7c935e4",
   "metadata": {},
   "outputs": [],
   "source": [
    "user_manager.add(user)"
   ]
  },
  {
   "cell_type": "code",
   "execution_count": 16,
   "id": "d8e93ebd-ae15-44e8-a643-816cecaa60ec",
   "metadata": {},
   "outputs": [
    {
     "data": {
      "text/plain": [
       "6"
      ]
     },
     "execution_count": 16,
     "metadata": {},
     "output_type": "execute_result"
    }
   ],
   "source": [
    "len(user_manager)"
   ]
  },
  {
   "cell_type": "code",
   "execution_count": null,
   "id": "e3d18e3c-10cd-4bec-8c39-fb13d19f9866",
   "metadata": {},
   "outputs": [],
   "source": [
    "natsu = user_manager.find_one({\"email\": \"natsu@fairy.tail\"})"
   ]
  },
  {
   "cell_type": "code",
   "execution_count": null,
   "id": "51339865-6f5f-4b3e-8f94-833bd9b1474f",
   "metadata": {},
   "outputs": [],
   "source": [
    "natsu"
   ]
  },
  {
   "cell_type": "code",
   "execution_count": null,
   "id": "7decf43c-c5cd-4260-b181-fc9e91adcb52",
   "metadata": {},
   "outputs": [],
   "source": [
    "user_manager.drop()"
   ]
  },
  {
   "cell_type": "code",
   "execution_count": null,
   "id": "38be17f0-949b-4eb1-80fb-bf3432cbb8d9",
   "metadata": {},
   "outputs": [],
   "source": [
    "import syft as sy"
   ]
  }
 ],
 "metadata": {
  "kernelspec": {
   "display_name": "Python 3 (ipykernel)",
   "language": "python",
   "name": "python3"
  },
  "language_info": {
   "codemirror_mode": {
    "name": "ipython",
    "version": 3
   },
   "file_extension": ".py",
   "mimetype": "text/x-python",
   "name": "python",
   "nbconvert_exporter": "python",
   "pygments_lexer": "ipython3",
   "version": "3.9.13"
  }
 },
 "nbformat": 4,
 "nbformat_minor": 5
}
