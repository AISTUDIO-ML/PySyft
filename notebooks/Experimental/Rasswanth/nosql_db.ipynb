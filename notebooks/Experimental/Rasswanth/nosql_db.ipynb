{
 "cells": [
  {
   "cell_type": "code",
   "execution_count": 1,
   "id": "e7b7788c-6988-42d0-baf1-c21a7c595c96",
   "metadata": {},
   "outputs": [
    {
     "name": "stderr",
     "output_type": "stream",
     "text": [
      "/Users/rasswanth/PySyft/.tox/syft.jupyter/lib/python3.9/site-packages/jax/_src/lib/__init__.py:33: UserWarning: JAX on Mac ARM machines is experimental and minimally tested. Please see https://github.com/google/jax/issues/5501 in the event of problems.\n",
      "  warnings.warn(\"JAX on Mac ARM machines is experimental and minimally tested. \"\n"
     ]
    }
   ],
   "source": [
    "%load_ext autoreload\n",
    "%autoreload 2\n",
    "import syft as sy\n",
    "from pymongo import MongoClient"
   ]
  },
  {
   "cell_type": "code",
   "execution_count": 2,
   "id": "fe3302d1-31f5-4ad9-9213-376e68802426",
   "metadata": {},
   "outputs": [],
   "source": [
    "from syft.core.node.common.node_table.user import NoSQLSyftUser"
   ]
  },
  {
   "cell_type": "code",
   "execution_count": 3,
   "id": "a71083c1-0fed-4ecf-8930-cb60dcf7b156",
   "metadata": {},
   "outputs": [],
   "source": [
    "user = NoSQLSyftUser(name=\"Natsu\", email=\"natsu@fairy.tail\")"
   ]
  },
  {
   "cell_type": "code",
   "execution_count": 4,
   "id": "a0e8ad37-6d89-494d-917c-0ba8ec65df8a",
   "metadata": {},
   "outputs": [
    {
     "data": {
      "text/plain": [
       "NoSQLSyftUser(id=<UID: 63025b30d5a24962a12eb17631035206>, email='natsu@fairy.tail', name='Natsu')"
      ]
     },
     "execution_count": 4,
     "metadata": {},
     "output_type": "execute_result"
    }
   ],
   "source": [
    "user"
   ]
  },
  {
   "cell_type": "code",
   "execution_count": null,
   "id": "63b7279b-6322-4549-a748-871d1ffe2b8c",
   "metadata": {},
   "outputs": [],
   "source": [
    "\n",
    "client = MongoClient(host='localhost', port=49975, username=\"root\", password=\"example\", uuidRepresentation=\"standard\")"
   ]
  },
  {
   "cell_type": "code",
   "execution_count": null,
   "id": "d625cd44-92d2-4da1-974f-752b3ecd81e4",
   "metadata": {},
   "outputs": [],
   "source": [
    "db = client[\"app\"]"
   ]
  },
  {
   "cell_type": "code",
   "execution_count": null,
   "id": "d1cf588c-2e59-4698-9740-2153a9774c2c",
   "metadata": {},
   "outputs": [],
   "source": [
    "collection = db[\"users\"]"
   ]
  },
  {
   "cell_type": "code",
   "execution_count": null,
   "id": "1183cb41-78ae-4e6a-b806-b4480d19e324",
   "metadata": {},
   "outputs": [],
   "source": [
    "from syft.core.node.common.node_manager.user_manager import NoSQLUserManager"
   ]
  },
  {
   "cell_type": "code",
   "execution_count": null,
   "id": "061429ba-9a72-46e4-b1ba-a560d6731b8f",
   "metadata": {},
   "outputs": [],
   "source": [
    "user_manager = NoSQLUserManager(db)"
   ]
  },
  {
   "cell_type": "code",
   "execution_count": null,
   "id": "8a137f0b-b853-46c6-8d97-67eec477c9f3",
   "metadata": {
    "tags": []
   },
   "outputs": [],
   "source": [
    "user_manager.add(user)"
   ]
  },
  {
   "cell_type": "code",
   "execution_count": null,
   "id": "759ef42f-a790-4ed0-8180-4dbd6987c142",
   "metadata": {},
   "outputs": [],
   "source": [
    "user"
   ]
  },
  {
   "cell_type": "code",
   "execution_count": null,
   "id": "70ba00e2-d5e4-4ba5-9467-d12be7c935e4",
   "metadata": {},
   "outputs": [],
   "source": [
    "user_manager"
   ]
  },
  {
   "cell_type": "code",
   "execution_count": null,
   "id": "e3d18e3c-10cd-4bec-8c39-fb13d19f9866",
   "metadata": {},
   "outputs": [],
   "source": [
    "madhava = user_manager.find_one({\"name\": \"Natsu\"})"
   ]
  },
  {
   "cell_type": "code",
   "execution_count": null,
   "id": "51339865-6f5f-4b3e-8f94-833bd9b1474f",
   "metadata": {},
   "outputs": [],
   "source": [
    "madhava"
   ]
  },
  {
   "cell_type": "code",
   "execution_count": null,
   "id": "7decf43c-c5cd-4260-b181-fc9e91adcb52",
   "metadata": {},
   "outputs": [],
   "source": [
    "user_manager.drop()"
   ]
  }
 ],
 "metadata": {
  "kernelspec": {
   "display_name": "Python 3 (ipykernel)",
   "language": "python",
   "name": "python3"
  },
  "language_info": {
   "codemirror_mode": {
    "name": "ipython",
    "version": 3
   },
   "file_extension": ".py",
   "mimetype": "text/x-python",
   "name": "python",
   "nbconvert_exporter": "python",
   "pygments_lexer": "ipython3",
   "version": "3.9.13"
  }
 },
 "nbformat": 4,
 "nbformat_minor": 5
}
