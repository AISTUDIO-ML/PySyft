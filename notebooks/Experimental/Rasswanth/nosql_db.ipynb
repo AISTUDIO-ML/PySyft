{
 "cells": [
  {
   "cell_type": "code",
   "execution_count": 1,
   "id": "e7b7788c-6988-42d0-baf1-c21a7c595c96",
   "metadata": {},
   "outputs": [
    {
     "name": "stderr",
     "output_type": "stream",
     "text": [
      "/Users/rasswanth/PySyft/.tox/syft.jupyter/lib/python3.9/site-packages/jax/_src/lib/__init__.py:33: UserWarning: JAX on Mac ARM machines is experimental and minimally tested. Please see https://github.com/google/jax/issues/5501 in the event of problems.\n",
      "  warnings.warn(\"JAX on Mac ARM machines is experimental and minimally tested. \"\n"
     ]
    }
   ],
   "source": [
    "%load_ext autoreload\n",
    "%autoreload 2\n",
    "import syft as sy\n",
    "from pymongo import MongoClient\n",
    "from nacl.signing import SigningKey\n",
    "from nacl.signing import VerifyKey\n",
    "from nacl.encoding import HexEncoder\n",
    "from syft.core.node.common.node_table.user import NoSQLSyftUser\n",
    "from syft.core.node.common.node_manager.role_manager import NewRoleManager\n",
    "from syft.core.node.common.node_manager.user_manager import NoSQLUserManager\n",
    "from nacl.encoding import HexEncoder"
   ]
  },
  {
   "cell_type": "code",
   "execution_count": 2,
   "id": "468458e8-4d18-4f66-999f-111723e405df",
   "metadata": {},
   "outputs": [],
   "source": [
    "role = NewRoleManager()"
   ]
  },
  {
   "cell_type": "code",
   "execution_count": 3,
   "id": "63b7279b-6322-4549-a748-871d1ffe2b8c",
   "metadata": {},
   "outputs": [],
   "source": [
    "\n",
    "client = MongoClient(host='localhost', port=55218, username=\"root\", password=\"example\", uuidRepresentation=\"standard\")"
   ]
  },
  {
   "cell_type": "code",
   "execution_count": 4,
   "id": "f2f5849f-8974-43ea-87c9-9b6abf16e243",
   "metadata": {},
   "outputs": [
    {
     "name": "stdout",
     "output_type": "stream",
     "text": [
      "Valid DB\n"
     ]
    }
   ],
   "source": [
    "if client.server_info():\n",
    "    print(\"Valid DB\")"
   ]
  },
  {
   "cell_type": "code",
   "execution_count": 5,
   "id": "d625cd44-92d2-4da1-974f-752b3ecd81e4",
   "metadata": {},
   "outputs": [],
   "source": [
    "db = client[\"app\"]"
   ]
  },
  {
   "cell_type": "code",
   "execution_count": 6,
   "id": "cf15c49a-960e-4da8-8688-d3138ca90859",
   "metadata": {},
   "outputs": [
    {
     "data": {
      "text/plain": [
       "['syft_users']"
      ]
     },
     "execution_count": 6,
     "metadata": {},
     "output_type": "execute_result"
    }
   ],
   "source": [
    "db.list_collection_names()"
   ]
  },
  {
   "cell_type": "code",
   "execution_count": 7,
   "id": "d1cf588c-2e59-4698-9740-2153a9774c2c",
   "metadata": {},
   "outputs": [],
   "source": [
    "collection = db[\"syft_users\"]\n"
   ]
  },
  {
   "cell_type": "code",
   "execution_count": 8,
   "id": "061429ba-9a72-46e4-b1ba-a560d6731b8f",
   "metadata": {},
   "outputs": [],
   "source": [
    "user_manager = NoSQLUserManager(db)"
   ]
  },
  {
   "cell_type": "code",
   "execution_count": 9,
   "id": "30f2f85b-1676-4604-b273-5cf249d49d11",
   "metadata": {},
   "outputs": [],
   "source": [
    "signing_key = SigningKey.generate()\n",
    "verify_key = signing_key.verify_key"
   ]
  },
  {
   "cell_type": "code",
   "execution_count": 10,
   "id": "304038d7-b314-40a9-815a-fbefc144c0fd",
   "metadata": {},
   "outputs": [],
   "source": [
    "_node_private_key = signing_key.encode(encoder=HexEncoder).decode(\"utf-8\")  # type: ignore\n",
    "_verify_key = signing_key.verify_key.encode(encoder=HexEncoder).decode(\"utf-8\")"
   ]
  },
  {
   "cell_type": "code",
   "execution_count": 11,
   "id": "1b4360a9-4940-4921-a7ce-285245ebf66f",
   "metadata": {},
   "outputs": [
    {
     "data": {
      "text/plain": [
       "NoSQLSyftUser(id=<UID: 29ad56c2500448129218541a40b3a8b2>, email='mystogen@fairy.tail', name='mystogen', budget=5.5, hashed_password='VPX3vD8TjyYvupRirNDq64980M/uosa', salt='$2b$12$WSR7/KcN8SeS3NqAEHFFJe', private_key='2530d43f79d2dfed6a66d22c16a60a6bfd3b2b68beaf140c28823796b14fa39c', verify_key='ba31db63265f53d772f4e3b1bfde71213e003335e4e4439fb13e26af8304cd74', role={'name': 'Owner', 'can_make_data_requests': True, 'can_triage_data_requests': True, 'can_manage_privacy_budget': True, 'can_create_users': True, 'can_manage_users': True, 'can_edit_roles': True, 'can_manage_infrastructure': True, 'can_upload_data': True, 'can_upload_legal_document': True, 'can_edit_domain_settings': True}, added_by=None, website=None, institution=None, daa_pdf=None, created_at='2022-08-31 14:17:32.385428', id_int=3)"
      ]
     },
     "execution_count": 11,
     "metadata": {},
     "output_type": "execute_result"
    }
   ],
   "source": [
    "user_manager.signup(name=\"mystogen\",email=\"mystogen@fairy.tail\",password=\"erza\",role = role.owner_role,budget=5.5,private_key=_node_private_key,verify_key=_verify_key)"
   ]
  },
  {
   "cell_type": "code",
   "execution_count": null,
   "id": "e3d18e3c-10cd-4bec-8c39-fb13d19f9866",
   "metadata": {},
   "outputs": [],
   "source": [
    "zerek = user_manager.find_one({\"email\": \"mystogen@fairy.tail\"})"
   ]
  },
  {
   "cell_type": "code",
   "execution_count": null,
   "id": "25be798f-fee7-45a1-87c6-ebb015bd59d5",
   "metadata": {},
   "outputs": [],
   "source": [
    "zerek"
   ]
  },
  {
   "cell_type": "code",
   "execution_count": null,
   "id": "7cb7116b-d3ea-4d34-8669-5c82c7a78c41",
   "metadata": {},
   "outputs": [],
   "source": [
    "user_manager.drop()"
   ]
  },
  {
   "cell_type": "code",
   "execution_count": null,
   "id": "7decf43c-c5cd-4260-b181-fc9e91adcb52",
   "metadata": {},
   "outputs": [],
   "source": [
    "# to delete all documents in the table.\n",
    "# user_manager.drop()"
   ]
  },
  {
   "cell_type": "code",
   "execution_count": null,
   "id": "72727c6c-4708-4c5b-b593-4ae4cda49eb0",
   "metadata": {},
   "outputs": [],
   "source": [
    "import syft as sy "
   ]
  },
  {
   "cell_type": "code",
   "execution_count": null,
   "id": "362722e5-3c39-415b-81e3-90e636d912ac",
   "metadata": {},
   "outputs": [],
   "source": [
    "canada = sy.login(email=\"info@openmined.org\",password=\"changethis\",port=8081)"
   ]
  },
  {
   "cell_type": "code",
   "execution_count": null,
   "id": "8412d31a-c762-4ccc-a46b-faf30c43e4e9",
   "metadata": {},
   "outputs": [],
   "source": [
    "canada"
   ]
  }
 ],
 "metadata": {
  "kernelspec": {
   "display_name": "Python 3 (ipykernel)",
   "language": "python",
   "name": "python3"
  },
  "language_info": {
   "codemirror_mode": {
    "name": "ipython",
    "version": 3
   },
   "file_extension": ".py",
   "mimetype": "text/x-python",
   "name": "python",
   "nbconvert_exporter": "python",
   "pygments_lexer": "ipython3",
   "version": "3.9.13"
  }
 },
 "nbformat": 4,
 "nbformat_minor": 5
}
