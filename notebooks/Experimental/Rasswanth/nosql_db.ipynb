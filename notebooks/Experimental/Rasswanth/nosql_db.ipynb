{
 "cells": [
  {
   "cell_type": "code",
   "execution_count": 1,
   "id": "e7b7788c-6988-42d0-baf1-c21a7c595c96",
   "metadata": {},
   "outputs": [
    {
     "name": "stderr",
     "output_type": "stream",
     "text": [
      "/Users/rasswanth/PySyft/.tox/syft.jupyter/lib/python3.9/site-packages/jax/_src/lib/__init__.py:33: UserWarning: JAX on Mac ARM machines is experimental and minimally tested. Please see https://github.com/google/jax/issues/5501 in the event of problems.\n",
      "  warnings.warn(\"JAX on Mac ARM machines is experimental and minimally tested. \"\n"
     ]
    }
   ],
   "source": [
    "%load_ext autoreload\n",
    "%autoreload 2\n",
    "import syft as sy\n",
    "from pymongo import MongoClient\n",
    "from nacl.signing import SigningKey\n",
    "from nacl.encoding import HexEncoder\n",
    "from syft.core.node.common.node_table.user import NoSQLSyftUser"
   ]
  },
  {
   "cell_type": "code",
   "execution_count": 2,
   "id": "c3e76a4b-5379-4bb1-932b-fe1f5e32a003",
   "metadata": {},
   "outputs": [],
   "source": [
    "key = SigningKey.generate()"
   ]
  },
  {
   "cell_type": "code",
   "execution_count": 7,
   "id": "a71083c1-0fed-4ecf-8930-cb60dcf7b156",
   "metadata": {},
   "outputs": [],
   "source": [
    "user = NoSQLSyftUser(name=\"Grey\", email=\"grey@fairy.tail\",budget=5.5,hashed_password=\"go\",salt=\"lkj\",private_key=key,role={\"admin\":[\"can_write\"]})"
   ]
  },
  {
   "cell_type": "code",
   "execution_count": 8,
   "id": "63b7279b-6322-4549-a748-871d1ffe2b8c",
   "metadata": {},
   "outputs": [],
   "source": [
    "\n",
    "client = MongoClient(host='localhost', port=51374, username=\"root\", password=\"example\", uuidRepresentation=\"standard\")"
   ]
  },
  {
   "cell_type": "code",
   "execution_count": 9,
   "id": "d625cd44-92d2-4da1-974f-752b3ecd81e4",
   "metadata": {},
   "outputs": [],
   "source": [
    "db = client[\"app\"]"
   ]
  },
  {
   "cell_type": "code",
   "execution_count": 10,
   "id": "cf15c49a-960e-4da8-8688-d3138ca90859",
   "metadata": {},
   "outputs": [
    {
     "data": {
      "text/plain": [
       "['users', 'syft_users']"
      ]
     },
     "execution_count": 10,
     "metadata": {},
     "output_type": "execute_result"
    }
   ],
   "source": [
    "db.list_collection_names()"
   ]
  },
  {
   "cell_type": "code",
   "execution_count": null,
   "id": "d1cf588c-2e59-4698-9740-2153a9774c2c",
   "metadata": {},
   "outputs": [],
   "source": [
    "collection = db[\"users\"]\n"
   ]
  },
  {
   "cell_type": "code",
   "execution_count": 11,
   "id": "1183cb41-78ae-4e6a-b806-b4480d19e324",
   "metadata": {},
   "outputs": [],
   "source": [
    "\n",
    "from syft.core.node.common.node_manager.user_manager import NoSQLUserManager"
   ]
  },
  {
   "cell_type": "code",
   "execution_count": 12,
   "id": "061429ba-9a72-46e4-b1ba-a560d6731b8f",
   "metadata": {},
   "outputs": [],
   "source": [
    "user_manager = NoSQLUserManager(db)"
   ]
  },
  {
   "cell_type": "code",
   "execution_count": 13,
   "id": "8a137f0b-b853-46c6-8d97-67eec477c9f3",
   "metadata": {
    "tags": []
   },
   "outputs": [
    {
     "data": {
      "text/plain": [
       "{'email': 'grey@fairy.tail',\n",
       " '_id': UUID('59b78d28-5804-4b71-b0d1-1d859cc2ad9c'),\n",
       " '__canonical_name__': 'SyftUser',\n",
       " '__version__': 1,\n",
       " '__blob__': b\"\\n\\tprotobuf:\\x12\\x14syft.lib.python.Dict\\x1a\\xc5\\x10\\n=\\n\\tprotobuf:\\x12\\x16syft.lib.python.String\\x1a\\x18\\n\\x02id\\x12\\x12\\n\\x10\\x90\\x85\\xdb\\xf4a\\x07G\\xcc\\x8c\\x8d\\xac\\xbf\\xe3X\\xed\\x8e\\n@\\n\\tprotobuf:\\x12\\x16syft.lib.python.String\\x1a\\x1b\\n\\x05email\\x12\\x12\\n\\x10!$1\\xf3\\x8e\\x80K\\xd8\\x93\\x00\\xeeyE\\xbcMf\\n?\\n\\tprotobuf:\\x12\\x16syft.lib.python.String\\x1a\\x1a\\n\\x04name\\x12\\x12\\n\\x10XY\\xee\\xb8\\xd88OG\\xab2\\xd2\\xaa\\x06e\\x99:\\nA\\n\\tprotobuf:\\x12\\x16syft.lib.python.String\\x1a\\x1c\\n\\x06budget\\x12\\x12\\n\\x10~\\xb0\\xdbm\\xeb\\xb7A\\x1d\\xa8\\xceg\\x8b\\x1e\\x89\\xf1\\xcd\\nJ\\n\\tprotobuf:\\x12\\x16syft.lib.python.String\\x1a%\\n\\x0fhashed_password\\x12\\x12\\n\\x10a\\xfd\\x8eC\\xbbBM}\\x84u\\xcf\\x84\\xe2\\xa8\\xaf\\xc1\\n?\\n\\tprotobuf:\\x12\\x16syft.lib.python.String\\x1a\\x1a\\n\\x04salt\\x12\\x12\\n\\x10x2\\xb1\\xa3l\\x9eA\\x99\\x814q\\xbd\\xf9\\xa2\\x99\\x88\\nF\\n\\tprotobuf:\\x12\\x16syft.lib.python.String\\x1a!\\n\\x0bprivate_key\\x12\\x12\\n\\x10\\xc1\\xf9\\xa4\\r\\xdc&Fx\\xa7\\xd5+\\xbc\\xd6BK\\x1a\\nE\\n\\tprotobuf:\\x12\\x16syft.lib.python.String\\x1a \\n\\nverify_key\\x12\\x12\\n\\x10\\x91y\\xd9\\xcd_\\x9aG\\xda\\xa1\\xb1_\\xd7M&cF\\n?\\n\\tprotobuf:\\x12\\x16syft.lib.python.String\\x1a\\x1a\\n\\x04role\\x12\\x12\\n\\x10\\x16!\\xaf\\xf8\\xc7\\x1eJ\\xf6\\x97>\\x00\\xcf\\xca\\xfak\\xa9\\nC\\n\\tprotobuf:\\x12\\x16syft.lib.python.String\\x1a\\x1e\\n\\x08added_by\\x12\\x12\\n\\x10Xx\\xae\\xa2W\\xd6CC\\x997\\xfe\\x90{of\\xf9\\nB\\n\\tprotobuf:\\x12\\x16syft.lib.python.String\\x1a\\x1d\\n\\x07website\\x12\\x12\\n\\x10\\xa5\\xd42\\x8d\\xce\\xe6N\\x7f\\x90\\x89\\x08k\\xaa\\x83\\xdaC\\nF\\n\\tprotobuf:\\x12\\x16syft.lib.python.String\\x1a!\\n\\x0binstitution\\x12\\x12\\n\\x10\\xbd\\xa8\\xba[\\x11\\x10J\\xd2\\x9d\\xc7\\xd8\\x17\\xfd\\xe4\\xc0\\r\\nB\\n\\tprotobuf:\\x12\\x16syft.lib.python.String\\x1a\\x1d\\n\\x07daa_pdf\\x12\\x12\\n\\x10\\x80\\xb7\\xa6H\\x88TGr\\x98\\x00\\xe2lt\\xfeP\\x8c\\nE\\n\\tprotobuf:\\x12\\x16syft.lib.python.String\\x1a \\n\\ncreated_at\\x12\\x12\\n\\x10\\x1f\\xcdOz\\x80\\xb5FK\\xae0\\x85!\\xc8\\x02\\xf3y\\x129\\n\\tprotobuf:\\x12\\x18syft.core.common.uid.UID\\x1a\\x12\\n\\x10Y\\xb7\\x8d(X\\x04Kq\\xb0\\xd1\\x1d\\x85\\x9c\\xc2\\xad\\x9c\\x12J\\n\\tprotobuf:\\x12\\x16syft.lib.python.String\\x1a%\\n\\x0fgrey@fairy.tail\\x12\\x12\\n\\x10\\xfe\\x8d\\x8f\\xc45\\x89F\\xda\\x92\\xc9s!7\\xf4\\xca\\x0e\\x12?\\n\\tprotobuf:\\x12\\x16syft.lib.python.String\\x1a\\x1a\\n\\x04Grey\\x12\\x12\\n\\x10\\xffT\\xe9hWjB\\xbd\\xb2\\xe9\\x97\\xeb\\x85\\xad\\xd0\\x9a\\x12A\\n\\tprotobuf:\\x12\\x15syft.lib.python.Float\\x1a\\x1d\\t\\x00\\x00\\x00\\x00\\x00\\x00\\x16@\\x12\\x12\\n\\x10\\x07bp\\xaa\\xba\\x01G\\x9a\\x8e\\xe1\\xb8L\\xeeR\\x9a\\x86\\x12=\\n\\tprotobuf:\\x12\\x16syft.lib.python.String\\x1a\\x18\\n\\x02go\\x12\\x12\\n\\x10(\\x96\\xc3r\\x9coGl\\x9b\\xad7\\x85\\x9b\\x85[S\\x12>\\n\\tprotobuf:\\x12\\x16syft.lib.python.String\\x1a\\x19\\n\\x03lkj\\x12\\x12\\n\\x10\\xba\\x85)\\x7f\\xdc\\xd5L\\xba\\x91\\xfc\\x89\\xd3\\x07\\x9a\\x1e\\x14\\x12}\\n\\tprotobuf:\\x12,syft.wrappers.nacl.signing.SigningKeyWrapper\\x1aB\\n@c47b0f4c1e534b50ae76443d1c400d34ed92e97e6c72c776acc832a8d1e8ae9d\\x12:\\n\\tprotobuf:\\x12\\x17syft.lib.python._SyNone\\x1a\\x14\\n\\x12\\n\\x10\\xd3\\xf4\\xdfcT\\x08J\\x7f\\x9dc\\xa1\\xc7-\\x87s!\\x12\\xff\\x01\\n\\tprotobuf:\\x12\\x14syft.lib.python.Dict\\x1a\\xdb\\x01\\n@\\n\\tprotobuf:\\x12\\x16syft.lib.python.String\\x1a\\x1b\\n\\x05admin\\x12\\x12\\n\\x10\\xb6)\\x1c\\xb6\\xb6\\x99@\\x13\\x89\\x13d\\xdd\\xb9}0\\xa8\\x12\\x82\\x01\\n\\tprotobuf:\\x12\\x19syft.lib.python.list.List\\x1aZ\\nD\\n\\tprotobuf:\\x12\\x16syft.lib.python.String\\x1a\\x1f\\n\\tcan_write\\x12\\x12\\n\\x10\\x08r'\\x180#N\\xcf\\xbe\\xcfq\\xc4\\xc3N#\\xcf\\x12\\x12\\n\\x10\\x9f\\x0bd\\x9a?\\x17LG\\xb4\\x0c\\xc8\\x83\\xa8\\xb2x`\\x1a\\x12\\n\\x10\\x01\\x19\\x0c\\r\\xf6\\xabDN\\x80~j\\x7f\\x1e\\xc5<\\x01\\x12:\\n\\tprotobuf:\\x12\\x17syft.lib.python._SyNone\\x1a\\x14\\n\\x12\\n\\x10\\xd3\\xf4\\xdfcT\\x08J\\x7f\\x9dc\\xa1\\xc7-\\x87s!\\x12:\\n\\tprotobuf:\\x12\\x17syft.lib.python._SyNone\\x1a\\x14\\n\\x12\\n\\x10\\xd3\\xf4\\xdfcT\\x08J\\x7f\\x9dc\\xa1\\xc7-\\x87s!\\x12:\\n\\tprotobuf:\\x12\\x17syft.lib.python._SyNone\\x1a\\x14\\n\\x12\\n\\x10\\xd3\\xf4\\xdfcT\\x08J\\x7f\\x9dc\\xa1\\xc7-\\x87s!\\x12:\\n\\tprotobuf:\\x12\\x17syft.lib.python._SyNone\\x1a\\x14\\n\\x12\\n\\x10\\xd3\\xf4\\xdfcT\\x08J\\x7f\\x9dc\\xa1\\xc7-\\x87s!\\x12:\\n\\tprotobuf:\\x12\\x17syft.lib.python._SyNone\\x1a\\x14\\n\\x12\\n\\x10\\xd3\\xf4\\xdfcT\\x08J\\x7f\\x9dc\\xa1\\xc7-\\x87s!\\x1a\\x12\\n\\x10w\\x1d\\x15\\x81\\x91\\xaaN\\x90\\xa4\\x8f\\xb8i\\xdayf\\x95\"}"
      ]
     },
     "execution_count": 13,
     "metadata": {},
     "output_type": "execute_result"
    }
   ],
   "source": [
    "user.to_mongo()"
   ]
  },
  {
   "cell_type": "code",
   "execution_count": 14,
   "id": "759ef42f-a790-4ed0-8180-4dbd6987c142",
   "metadata": {},
   "outputs": [
    {
     "data": {
      "text/plain": [
       "NoSQLSyftUser(id=<UID: 59b78d2858044b71b0d11d859cc2ad9c>, email='grey@fairy.tail', name='Grey', budget=5.5, hashed_password='go', salt='lkj', private_key=<nacl.signing.SigningKey object at 0x105ad89d0>, verify_key=None, role={'admin': ['can_write']}, added_by=None, website=None, institution=None, daa_pdf=None, created_at=None)"
      ]
     },
     "execution_count": 14,
     "metadata": {},
     "output_type": "execute_result"
    }
   ],
   "source": [
    "user"
   ]
  },
  {
   "cell_type": "code",
   "execution_count": 15,
   "id": "70ba00e2-d5e4-4ba5-9467-d12be7c935e4",
   "metadata": {},
   "outputs": [],
   "source": [
    "user_manager.add(user)"
   ]
  },
  {
   "cell_type": "code",
   "execution_count": 16,
   "id": "e3d18e3c-10cd-4bec-8c39-fb13d19f9866",
   "metadata": {},
   "outputs": [],
   "source": [
    "grey = user_manager.find_one({\"email\": \"grey@fairy.tail\"})"
   ]
  },
  {
   "cell_type": "code",
   "execution_count": 17,
   "id": "51339865-6f5f-4b3e-8f94-833bd9b1474f",
   "metadata": {},
   "outputs": [
    {
     "data": {
      "text/plain": [
       "NoSQLSyftUser(id=<UID: 7ae58c27f1724ddf923e9518db9d2b19>, email='grey@fairy.tail', name='Grey', budget=5.5, hashed_password='go', salt='lkj', private_key=<nacl.signing.SigningKey object at 0x295f20eb0>, verify_key=None, role={'admin': ['can_write']}, added_by=None, website=None, institution=None, daa_pdf=None, created_at=None)"
      ]
     },
     "execution_count": 17,
     "metadata": {},
     "output_type": "execute_result"
    }
   ],
   "source": [
    "grey"
   ]
  },
  {
   "cell_type": "code",
   "execution_count": null,
   "id": "7decf43c-c5cd-4260-b181-fc9e91adcb52",
   "metadata": {},
   "outputs": [],
   "source": [
    "user_manager.drop()"
   ]
  }
 ],
 "metadata": {
  "kernelspec": {
   "display_name": "Python 3 (ipykernel)",
   "language": "python",
   "name": "python3"
  },
  "language_info": {
   "codemirror_mode": {
    "name": "ipython",
    "version": 3
   },
   "file_extension": ".py",
   "mimetype": "text/x-python",
   "name": "python",
   "nbconvert_exporter": "python",
   "pygments_lexer": "ipython3",
   "version": "3.9.13"
  }
 },
 "nbformat": 4,
 "nbformat_minor": 5
}
