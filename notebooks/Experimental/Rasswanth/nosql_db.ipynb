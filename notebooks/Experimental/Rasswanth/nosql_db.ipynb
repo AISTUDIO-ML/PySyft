{
 "cells": [
  {
   "cell_type": "code",
   "execution_count": 1,
   "id": "e7b7788c-6988-42d0-baf1-c21a7c595c96",
   "metadata": {},
   "outputs": [
    {
     "name": "stderr",
     "output_type": "stream",
     "text": [
      "/Users/rasswanth/PySyft/.tox/syft.jupyter/lib/python3.9/site-packages/jax/_src/lib/__init__.py:33: UserWarning: JAX on Mac ARM machines is experimental and minimally tested. Please see https://github.com/google/jax/issues/5501 in the event of problems.\n",
      "  warnings.warn(\"JAX on Mac ARM machines is experimental and minimally tested. \"\n"
     ]
    }
   ],
   "source": [
    "%load_ext autoreload\n",
    "%autoreload 2\n",
    "import syft as sy\n",
    "import numpy as np\n",
    "from pymongo import MongoClient\n",
    "from nacl.signing import SigningKey\n",
    "from syft import PhiTensor\n",
    "from nacl.signing import VerifyKey\n",
    "from nacl.encoding import HexEncoder\n",
    "from syft.core.node.common.node_table.user import NoSQLSyftUser\n",
    "from syft.core.node.common.node_manager.role_manager import NewRoleManager\n",
    "from syft.core.node.common.node_manager.user_manager import NoSQLUserManager\n",
    "from nacl.encoding import HexEncoder"
   ]
  },
  {
   "cell_type": "code",
   "execution_count": 2,
   "id": "468458e8-4d18-4f66-999f-111723e405df",
   "metadata": {},
   "outputs": [],
   "source": [
    "role = NewRoleManager()"
   ]
  },
  {
   "cell_type": "code",
   "execution_count": 3,
   "id": "63b7279b-6322-4549-a748-871d1ffe2b8c",
   "metadata": {},
   "outputs": [],
   "source": [
    "\n",
    "client = MongoClient(host='localhost', port=49596, username=\"root\", password=\"example\", uuidRepresentation=\"standard\")"
   ]
  },
  {
   "cell_type": "code",
   "execution_count": 4,
   "id": "f2f5849f-8974-43ea-87c9-9b6abf16e243",
   "metadata": {},
   "outputs": [
    {
     "name": "stdout",
     "output_type": "stream",
     "text": [
      "Valid DB\n"
     ]
    }
   ],
   "source": [
    "if client.server_info():\n",
    "    print(\"Valid DB\")"
   ]
  },
  {
   "cell_type": "code",
   "execution_count": 5,
   "id": "d625cd44-92d2-4da1-974f-752b3ecd81e4",
   "metadata": {},
   "outputs": [],
   "source": [
    "db = client[\"app\"]"
   ]
  },
  {
   "cell_type": "code",
   "execution_count": 6,
   "id": "cf15c49a-960e-4da8-8688-d3138ca90859",
   "metadata": {},
   "outputs": [
    {
     "data": {
      "text/plain": [
       "['syft_users']"
      ]
     },
     "execution_count": 6,
     "metadata": {},
     "output_type": "execute_result"
    }
   ],
   "source": [
    "db.list_collection_names()"
   ]
  },
  {
   "cell_type": "code",
   "execution_count": 7,
   "id": "d1cf588c-2e59-4698-9740-2153a9774c2c",
   "metadata": {},
   "outputs": [],
   "source": [
    "collection = db[\"syft_users\"]\n"
   ]
  },
  {
   "cell_type": "code",
   "execution_count": 8,
   "id": "061429ba-9a72-46e4-b1ba-a560d6731b8f",
   "metadata": {},
   "outputs": [],
   "source": [
    "user_manager = NoSQLUserManager(db)"
   ]
  },
  {
   "cell_type": "code",
   "execution_count": null,
   "id": "30f2f85b-1676-4604-b273-5cf249d49d11",
   "metadata": {},
   "outputs": [],
   "source": [
    "signing_key = SigningKey.generate()\n",
    "verify_key = signing_key.verify_key"
   ]
  },
  {
   "cell_type": "code",
   "execution_count": null,
   "id": "304038d7-b314-40a9-815a-fbefc144c0fd",
   "metadata": {},
   "outputs": [],
   "source": [
    "_node_private_key = signing_key.encode(encoder=HexEncoder).decode(\"utf-8\")  # type: ignore\n",
    "_verify_key = signing_key.verify_key.encode(encoder=HexEncoder).decode(\"utf-8\")"
   ]
  },
  {
   "cell_type": "code",
   "execution_count": null,
   "id": "1b4360a9-4940-4921-a7ce-285245ebf66f",
   "metadata": {},
   "outputs": [],
   "source": [
    "user_manager.signup(name=\"mystogen\",email=\"mystogen@fairy.tail\",password=\"erza\",role = role.owner_role,budget=5.5,private_key=_node_private_key,verify_key=_verify_key)"
   ]
  },
  {
   "cell_type": "code",
   "execution_count": null,
   "id": "e3d18e3c-10cd-4bec-8c39-fb13d19f9866",
   "metadata": {},
   "outputs": [],
   "source": [
    "zerek = user_manager.find_one({\"email\": \"mystogen@fairy.tail\"})"
   ]
  },
  {
   "cell_type": "code",
   "execution_count": null,
   "id": "25be798f-fee7-45a1-87c6-ebb015bd59d5",
   "metadata": {},
   "outputs": [],
   "source": [
    "zerek"
   ]
  },
  {
   "cell_type": "code",
   "execution_count": null,
   "id": "7cb7116b-d3ea-4d34-8669-5c82c7a78c41",
   "metadata": {},
   "outputs": [],
   "source": [
    "user_manager.drop()"
   ]
  },
  {
   "cell_type": "code",
   "execution_count": null,
   "id": "609470d9-c55b-4538-83cc-7bdd82beb1e0",
   "metadata": {},
   "outputs": [],
   "source": [
    "for user in user_manager.all():\n",
    "    print(user)\n",
    "    print(\"\\n\"*5)"
   ]
  },
  {
   "cell_type": "code",
   "execution_count": null,
   "id": "7decf43c-c5cd-4260-b181-fc9e91adcb52",
   "metadata": {},
   "outputs": [],
   "source": [
    "# to delete all documents in the table.\n",
    "# user_manager.drop()"
   ]
  },
  {
   "cell_type": "code",
   "execution_count": null,
   "id": "01e3a800-4570-4669-8fe7-2d1b0acd6033",
   "metadata": {},
   "outputs": [],
   "source": [
    "verify_key = VerifyKey(\"725d5435741e75258ceaa07666f108f1adad085c640617633b74770c43fb83d0\",encoder=HexEncoder)"
   ]
  },
  {
   "cell_type": "code",
   "execution_count": null,
   "id": "d48b6241-4294-40c2-bdba-7981f9b77787",
   "metadata": {},
   "outputs": [],
   "source": [
    "verify_key"
   ]
  },
  {
   "cell_type": "code",
   "execution_count": null,
   "id": "fa5e90ee-ee4e-46a5-a2a8-e3514db3ab4d",
   "metadata": {},
   "outputs": [],
   "source": [
    "from syft.core.node.common.node_table.utils import syft_object_to_json"
   ]
  },
  {
   "cell_type": "code",
   "execution_count": null,
   "id": "05a09e5f-80a4-4cc0-a301-656ec896b03d",
   "metadata": {},
   "outputs": [],
   "source": [
    "json  = syft_object_to_json(user_manager.get_user(verify_key))"
   ]
  },
  {
   "cell_type": "code",
   "execution_count": null,
   "id": "ea2b9567-bf3b-4d8a-a25c-4a24b86f98b5",
   "metadata": {},
   "outputs": [],
   "source": [
    "json[\"role\"] = json[\"role\"].get(\"name\",None)"
   ]
  },
  {
   "cell_type": "code",
   "execution_count": null,
   "id": "4e3e58a6-3310-4ec4-b162-87c3eb628c47",
   "metadata": {},
   "outputs": [],
   "source": [
    "del json[\"private_key\"]"
   ]
  },
  {
   "cell_type": "code",
   "execution_count": null,
   "id": "56476c1b-e3e3-4b98-92c2-44f61e1da535",
   "metadata": {},
   "outputs": [],
   "source": [
    "user_manager.get_budget_for_user(verify_key=verify_key)"
   ]
  },
  {
   "cell_type": "code",
   "execution_count": null,
   "id": "da82b448-0f6f-48dc-8cd6-228e473b822d",
   "metadata": {},
   "outputs": [],
   "source": [
    "user_manager.get_user(verify_key)"
   ]
  },
  {
   "cell_type": "code",
   "execution_count": null,
   "id": "cc5f2ee7-c974-4807-ac66-d101b8b74880",
   "metadata": {},
   "outputs": [],
   "source": [
    "user_manager.can_triage_requests(verify_key)"
   ]
  },
  {
   "cell_type": "code",
   "execution_count": null,
   "id": "62ac5a5b-83c3-4322-a235-a8c8e1f2a4bf",
   "metadata": {},
   "outputs": [],
   "source": [
    "user_manager.get_user(verify_key).role"
   ]
  },
  {
   "cell_type": "code",
   "execution_count": null,
   "id": "0f22d440-bf2c-4a98-9f47-61d47832b8d4",
   "metadata": {},
   "outputs": [],
   "source": []
  },
  {
   "cell_type": "code",
   "execution_count": null,
   "id": "c97eb783-1e75-4d3f-a4e5-1a04d0eaa54b",
   "metadata": {},
   "outputs": [],
   "source": []
  },
  {
   "cell_type": "code",
   "execution_count": null,
   "id": "00212a31-1347-4820-b868-f148bccd7103",
   "metadata": {},
   "outputs": [],
   "source": []
  },
  {
   "cell_type": "code",
   "execution_count": null,
   "id": "a700e8d2-2d03-4e62-8537-1814ea76f195",
   "metadata": {},
   "outputs": [],
   "source": []
  },
  {
   "cell_type": "code",
   "execution_count": 9,
   "id": "13ad6884-8cba-4a4c-81fd-0901130fd719",
   "metadata": {},
   "outputs": [],
   "source": [
    "###User Login Test"
   ]
  },
  {
   "cell_type": "code",
   "execution_count": 10,
   "id": "362722e5-3c39-415b-81e3-90e636d912ac",
   "metadata": {},
   "outputs": [
    {
     "name": "stdout",
     "output_type": "stream",
     "text": [
      "WARNING: CHANGE YOUR USERNAME AND PASSWORD!!! \n",
      "\n",
      "Anyone can login as an admin to your node right now because your password is still the default PySyft username and password!!!\n",
      "\n",
      "Connecting to localhost... done! \t Logging into canada... done!\n"
     ]
    }
   ],
   "source": [
    "canada = sy.login(email=\"info@openmined.org\",password=\"changethis\",port=8081)"
   ]
  },
  {
   "cell_type": "code",
   "execution_count": 14,
   "id": "8412d31a-c762-4ccc-a46b-faf30c43e4e9",
   "metadata": {},
   "outputs": [
    {
     "data": {
      "text/html": [
       "<div>\n",
       "<style scoped>\n",
       "    .dataframe tbody tr th:only-of-type {\n",
       "        vertical-align: middle;\n",
       "    }\n",
       "\n",
       "    .dataframe tbody tr th {\n",
       "        vertical-align: top;\n",
       "    }\n",
       "\n",
       "    .dataframe thead th {\n",
       "        text-align: right;\n",
       "    }\n",
       "</style>\n",
       "<table border=\"1\" class=\"dataframe\">\n",
       "  <thead>\n",
       "    <tr style=\"text-align: right;\">\n",
       "      <th></th>\n",
       "      <th>email</th>\n",
       "      <th>name</th>\n",
       "      <th>budget</th>\n",
       "      <th>verify_key</th>\n",
       "      <th>role</th>\n",
       "      <th>added_by</th>\n",
       "      <th>website</th>\n",
       "      <th>institution</th>\n",
       "      <th>daa_pdf</th>\n",
       "      <th>created_at</th>\n",
       "      <th>id_int</th>\n",
       "      <th>budget_spent</th>\n",
       "    </tr>\n",
       "  </thead>\n",
       "  <tbody>\n",
       "    <tr>\n",
       "      <th>0</th>\n",
       "      <td>info@openmined.org</td>\n",
       "      <td>Jane Doe</td>\n",
       "      <td>5.55</td>\n",
       "      <td>725d5435741e75258ceaa07666f108f1adad085c640617...</td>\n",
       "      <td>Owner</td>\n",
       "      <td>None</td>\n",
       "      <td>None</td>\n",
       "      <td>None</td>\n",
       "      <td>None</td>\n",
       "      <td>2022-09-01 01:53:24.709879</td>\n",
       "      <td>1</td>\n",
       "      <td>5.55</td>\n",
       "    </tr>\n",
       "    <tr>\n",
       "      <th>1</th>\n",
       "      <td>info@openmined.org</td>\n",
       "      <td>Jane Doe</td>\n",
       "      <td>5.55</td>\n",
       "      <td>6ac04c1806410df2a3262b1a7e0f49605d185bac847e36...</td>\n",
       "      <td>Owner</td>\n",
       "      <td>None</td>\n",
       "      <td>None</td>\n",
       "      <td>None</td>\n",
       "      <td>None</td>\n",
       "      <td>2022-09-01 01:53:24.759955</td>\n",
       "      <td>2</td>\n",
       "      <td>5.55</td>\n",
       "    </tr>\n",
       "    <tr>\n",
       "      <th>2</th>\n",
       "      <td>info@openmined.org</td>\n",
       "      <td>Jane Doe</td>\n",
       "      <td>5.55</td>\n",
       "      <td>2ae6bce9c44d95f1ae59a0b564192b93fc23e663ac596a...</td>\n",
       "      <td>Owner</td>\n",
       "      <td>None</td>\n",
       "      <td>None</td>\n",
       "      <td>None</td>\n",
       "      <td>None</td>\n",
       "      <td>2022-09-01 01:53:24.807928</td>\n",
       "      <td>3</td>\n",
       "      <td>5.55</td>\n",
       "    </tr>\n",
       "  </tbody>\n",
       "</table>\n",
       "</div>"
      ],
      "text/plain": [
       "<syft.core.node.common.client_manager.user_api.UserRequestAPI at 0x298855c40>"
      ]
     },
     "execution_count": 14,
     "metadata": {},
     "output_type": "execute_result"
    }
   ],
   "source": [
    "canada.users"
   ]
  },
  {
   "cell_type": "code",
   "execution_count": null,
   "id": "6473e9cb-5a30-4f9d-921e-1f860c75a1fb",
   "metadata": {},
   "outputs": [],
   "source": [
    "data = sy.Tensor(np.array([1,2,3]))"
   ]
  },
  {
   "cell_type": "code",
   "execution_count": null,
   "id": "905ca8c7-941f-4b43-9927-7f3dea88b421",
   "metadata": {},
   "outputs": [],
   "source": [
    "phi_tensor = data.private(min_val=0,max_val=3,data_subjects=np.array([\"zerek\"]*3))"
   ]
  },
  {
   "cell_type": "code",
   "execution_count": null,
   "id": "85d3c81f-7438-4b0e-8f70-a3b82d89b269",
   "metadata": {},
   "outputs": [],
   "source": [
    "phi_tensor"
   ]
  },
  {
   "cell_type": "code",
   "execution_count": null,
   "id": "0c26743d-1816-4950-8b44-e37eeabc767f",
   "metadata": {},
   "outputs": [],
   "source": [
    "phi_ptr = phi_tensor.send(canada)"
   ]
  },
  {
   "cell_type": "code",
   "execution_count": null,
   "id": "93b317be-386c-49cd-acf2-0aba609335c1",
   "metadata": {},
   "outputs": [],
   "source": [
    "pub_res = phi_ptr.publish(sigma=1e5)"
   ]
  },
  {
   "cell_type": "code",
   "execution_count": null,
   "id": "d2a61eaa-624a-4839-b5dc-eb473486d514",
   "metadata": {},
   "outputs": [],
   "source": [
    "pub_res.get_copy()"
   ]
  },
  {
   "cell_type": "code",
   "execution_count": null,
   "id": "b7988793-2489-44a6-a89c-1ae8c37e326f",
   "metadata": {},
   "outputs": [],
   "source": [
    "canada.users"
   ]
  }
 ],
 "metadata": {
  "kernelspec": {
   "display_name": "Python 3 (ipykernel)",
   "language": "python",
   "name": "python3"
  },
  "language_info": {
   "codemirror_mode": {
    "name": "ipython",
    "version": 3
   },
   "file_extension": ".py",
   "mimetype": "text/x-python",
   "name": "python",
   "nbconvert_exporter": "python",
   "pygments_lexer": "ipython3",
   "version": "3.9.13"
  }
 },
 "nbformat": 4,
 "nbformat_minor": 5
}
