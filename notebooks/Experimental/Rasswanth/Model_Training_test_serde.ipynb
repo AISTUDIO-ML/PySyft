{
 "cells": [
  {
   "cell_type": "code",
   "execution_count": 1,
   "id": "4e74d87c-024d-48e1-8075-e6b6edc2dc5f",
   "metadata": {},
   "outputs": [
    {
     "name": "stderr",
     "output_type": "stream",
     "text": [
      "/home/azureuser/PySyft/packages/syft/src/syft/core/common/serde/serializable.py:105: UserWarning: __attr_allowlist__ not defined for type Activation, even if it uses recursive serde, defaulting on the empty list.\n",
      "  warnings.warn(\n",
      "/home/azureuser/PySyft/packages/syft/src/syft/core/common/serde/serializable.py:105: UserWarning: __attr_allowlist__ not defined for type BatchNorm, even if it uses recursive serde, defaulting on the empty list.\n",
      "  warnings.warn(\n",
      "/home/azureuser/PySyft/packages/syft/src/syft/core/common/serde/serializable.py:105: UserWarning: __attr_allowlist__ not defined for type AvgPool, even if it uses recursive serde, defaulting on the empty list.\n",
      "  warnings.warn(\n",
      "/home/azureuser/PySyft/packages/syft/src/syft/core/common/serde/serializable.py:105: UserWarning: __attr_allowlist__ not defined for type MaxPool, even if it uses recursive serde, defaulting on the empty list.\n",
      "  warnings.warn(\n",
      "/home/azureuser/PySyft/packages/syft/src/syft/core/common/serde/serializable.py:105: UserWarning: __attr_allowlist__ not defined for type Loss, even if it uses recursive serde, defaulting on the empty list.\n",
      "  warnings.warn(\n",
      "/home/azureuser/PySyft/packages/syft/src/syft/core/common/serde/serializable.py:105: UserWarning: __attr_allowlist__ not defined for type Optimizer, even if it uses recursive serde, defaulting on the empty list.\n",
      "  warnings.warn(\n"
     ]
    }
   ],
   "source": [
    "%load_ext autoreload\n",
    "%autoreload 2\n",
    "import syft as sy"
   ]
  },
  {
   "cell_type": "code",
   "execution_count": 8,
   "id": "82909175-d8cf-44ce-93f4-ff7181526100",
   "metadata": {},
   "outputs": [],
   "source": [
    "from syft.core.tensor.nn.layers.normalization import BatchNorm"
   ]
  },
  {
   "cell_type": "code",
   "execution_count": 11,
   "id": "38682c71-0f0e-47bd-b586-aa124ca93b16",
   "metadata": {},
   "outputs": [],
   "source": [
    "b= BatchNorm()"
   ]
  },
  {
   "cell_type": "code",
   "execution_count": 13,
   "id": "228cc35e-a590-47f9-a514-bf0727c25152",
   "metadata": {},
   "outputs": [
    {
     "data": {
      "text/plain": [
       "fields_name: \"epsilon\"\n",
       "fields_name: \"momentum\"\n",
       "fields_name: \"axis\"\n",
       "fields_name: \"activation\"\n",
       "fields_name: \"beta\"\n",
       "fields_name: \"dbeta\"\n",
       "fields_name: \"gamma\"\n",
       "fields_name: \"dgamma\"\n",
       "fields_name: \"cache\"\n",
       "fields_name: \"input_shape\"\n",
       "fields_name: \"out_shape\"\n",
       "fields_data: \"\\n\\tprotobuf:\\022\\025syft.lib.python.Float\\032\\035\\t\\215\\355\\265\\240\\367\\306\\260>\\022\\022\\n\\020\\335\\347x\\313\\3544N\\207\\272\\217\\n\\374\\210\\313\\037\\357\"\n",
       "fields_data: \"\\n\\tprotobuf:\\022\\025syft.lib.python.Float\\032\\035\\t\\315\\314\\314\\314\\314\\314\\354?\\022\\022\\n\\020\\316\\372J\\305\\316=O|\\240\\330iV\\007\\273\\013\\260\"\n",
       "fields_data: \"\\n\\tprotobuf:\\022\\023syft.lib.python.Int\\032\\024\\022\\022\\n\\020l\\262\\037\\344$xH\\243\\260z\\342\\r\\376I9t\"\n",
       "fields_data: \"\\n\\tprotobuf:\\022*syft.core.tensor.nn.activations.leaky_ReLU\\032\\302\\001\\n\\005slope\\n\\014last_forward\\022A\\n\\tprotobuf:\\022\\025syft.lib.python.Float\\032\\035\\t{\\024\\256G\\341z\\204?\\022\\022\\n\\020S<\\264\\245l\\207I\\244\\243vm1\\310\\035A\\212\\022<\\n\\tprotobuf:\\022\\027syft.lib.python._SyNone\\032\\026\\n\\022\\n\\020\\223\\340J}\\225QA\\037\\223:\\333A\\256\\034\\213\\245\\020\\001\\032*syft.core.tensor.nn.activations.leaky_ReLU\"\n",
       "fields_data: \"\\n\\tprotobuf:\\022\\027syft.lib.python._SyNone\\032\\026\\n\\022\\n\\020\\223\\340J}\\225QA\\037\\223:\\333A\\256\\034\\213\\245\\020\\001\"\n",
       "fields_data: \"\\n\\tprotobuf:\\022\\027syft.lib.python._SyNone\\032\\026\\n\\022\\n\\020\\223\\340J}\\225QA\\037\\223:\\333A\\256\\034\\213\\245\\020\\001\"\n",
       "fields_data: \"\\n\\tprotobuf:\\022\\027syft.lib.python._SyNone\\032\\026\\n\\022\\n\\020\\223\\340J}\\225QA\\037\\223:\\333A\\256\\034\\213\\245\\020\\001\"\n",
       "fields_data: \"\\n\\tprotobuf:\\022\\027syft.lib.python._SyNone\\032\\026\\n\\022\\n\\020\\223\\340J}\\225QA\\037\\223:\\333A\\256\\034\\213\\245\\020\\001\"\n",
       "fields_data: \"\\n\\tprotobuf:\\022\\027syft.lib.python._SyNone\\032\\026\\n\\022\\n\\020\\223\\340J}\\225QA\\037\\223:\\333A\\256\\034\\213\\245\\020\\001\"\n",
       "fields_data: \"\\n\\tprotobuf:\\022\\027syft.lib.python._SyNone\\032\\026\\n\\022\\n\\020\\223\\340J}\\225QA\\037\\223:\\333A\\256\\034\\213\\245\\020\\001\"\n",
       "fields_data: \"\\n\\tprotobuf:\\022\\027syft.lib.python._SyNone\\032\\026\\n\\022\\n\\020\\223\\340J}\\225QA\\037\\223:\\333A\\256\\034\\213\\245\\020\\001\"\n",
       "fully_qualified_name: \"syft.core.tensor.nn.layers.normalization.BatchNorm\""
      ]
     },
     "execution_count": 13,
     "metadata": {},
     "output_type": "execute_result"
    }
   ],
   "source": [
    "sy.serialize(b)"
   ]
  },
  {
   "cell_type": "code",
   "execution_count": 15,
   "id": "c8d7fcf6-6d4d-4e17-a598-34de7ab0499c",
   "metadata": {},
   "outputs": [],
   "source": [
    "from syft.core.tensor.nn.layers.pooling import AvgPool"
   ]
  },
  {
   "cell_type": "code",
   "execution_count": 17,
   "id": "2389651c-1229-4dfd-b858-f48f56dad04f",
   "metadata": {},
   "outputs": [],
   "source": [
    "avg = AvgPool(pool_size=(1,1))"
   ]
  },
  {
   "cell_type": "code",
   "execution_count": 20,
   "id": "a8fccaba-c023-4a95-bb71-4dce6b1a7a82",
   "metadata": {},
   "outputs": [
    {
     "data": {
      "text/plain": [
       "(1, 1)"
      ]
     },
     "execution_count": 20,
     "metadata": {},
     "output_type": "execute_result"
    }
   ],
   "source": [
    "sy.deserialize(sy.serialize(avg)).pool_size"
   ]
  },
  {
   "cell_type": "code",
   "execution_count": 21,
   "id": "986ce756-a9ef-4cef-bcfd-786c1ec90634",
   "metadata": {},
   "outputs": [],
   "source": [
    "from syft.core.tensor.nn.layers.pooling import MaxPool"
   ]
  },
  {
   "cell_type": "code",
   "execution_count": 22,
   "id": "c45dfe29-9196-4a48-b010-1ff4730d7572",
   "metadata": {},
   "outputs": [],
   "source": [
    "m = MaxPool((1,2))"
   ]
  },
  {
   "cell_type": "code",
   "execution_count": 24,
   "id": "a8031a4c-2156-4e93-854c-1e9c57cf3978",
   "metadata": {},
   "outputs": [
    {
     "data": {
      "text/plain": [
       "(1, 2)"
      ]
     },
     "execution_count": 24,
     "metadata": {},
     "output_type": "execute_result"
    }
   ],
   "source": [
    "sy.deserialize(sy.serialize(m)).pool_size"
   ]
  },
  {
   "cell_type": "code",
   "execution_count": 27,
   "id": "5fc4eb4e-9d21-4075-b359-800a188304da",
   "metadata": {},
   "outputs": [],
   "source": [
    "from syft.core.tensor.nn.loss import BinaryCrossEntropy"
   ]
  },
  {
   "cell_type": "code",
   "execution_count": 28,
   "id": "8c8501bf-5c4e-411f-8cb9-250d5dd6e877",
   "metadata": {},
   "outputs": [],
   "source": [
    "bce  = BinaryCrossEntropy()"
   ]
  },
  {
   "cell_type": "code",
   "execution_count": 29,
   "id": "56b59c6f-0c32-4092-9c15-832225bde415",
   "metadata": {},
   "outputs": [
    {
     "data": {
      "text/plain": [
       "1e-11"
      ]
     },
     "execution_count": 29,
     "metadata": {},
     "output_type": "execute_result"
    }
   ],
   "source": [
    "sy.deserialize(sy.serialize(bce)).epsilon"
   ]
  },
  {
   "cell_type": "code",
   "execution_count": 31,
   "id": "ca613c0d-2052-47d0-937f-bfbf8454b978",
   "metadata": {},
   "outputs": [],
   "source": [
    "from syft.core.tensor.nn.optimizers import Adamax"
   ]
  },
  {
   "cell_type": "code",
   "execution_count": 32,
   "id": "8143c8d0-2a12-4620-843a-c8b11497a843",
   "metadata": {},
   "outputs": [],
   "source": [
    "ada = Adamax()"
   ]
  },
  {
   "cell_type": "code",
   "execution_count": 38,
   "id": "9ad90d96-7176-4009-9398-8699bfbe2d01",
   "metadata": {},
   "outputs": [],
   "source": [
    "sy.deserialize(sy.serialize(ada)).vs"
   ]
  }
 ],
 "metadata": {
  "kernelspec": {
   "display_name": "Python 3 (ipykernel)",
   "language": "python",
   "name": "python3"
  },
  "language_info": {
   "codemirror_mode": {
    "name": "ipython",
    "version": 3
   },
   "file_extension": ".py",
   "mimetype": "text/x-python",
   "name": "python",
   "nbconvert_exporter": "python",
   "pygments_lexer": "ipython3",
   "version": "3.9.4"
  }
 },
 "nbformat": 4,
 "nbformat_minor": 5
}
