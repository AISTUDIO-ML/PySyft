{
 "cells": [
  {
   "cell_type": "code",
   "execution_count": 1,
   "id": "39ac81b7-c51a-4f38-bd5a-fcf52bf6d8cc",
   "metadata": {},
   "outputs": [
    {
     "name": "stderr",
     "output_type": "stream",
     "text": [
      "/home/azureuser/.local/share/virtualenvs/python39-2vM0bQN-/lib/python3.9/site-packages/tqdm/auto.py:22: TqdmWarning: IProgress not found. Please update jupyter and ipywidgets. See https://ipywidgets.readthedocs.io/en/stable/user_install.html\n",
      "  from .autonotebook import tqdm as notebook_tqdm\n"
     ]
    },
    {
     "name": "stdout",
     "output_type": "stream",
     "text": [
      "You're running syft version: 0.7.0-beta.20\n"
     ]
    }
   ],
   "source": [
    "# install syft if we are on google colab\n",
    "%load_ext autoreload\n",
    "%autoreload 2\n",
    "import syft as sy\n",
    "print(f\"You're running syft version: {sy.__version__}\")\n",
    "import numpy as np\n",
    "import pandas as pd\n",
    "from matplotlib import pyplot as plt\n",
    "from sklearn import preprocessing\n",
    "from syft.core.tensor.autodp.gamma_tensor import GammaTensor\n",
    "from tqdm import tqdm\n",
    "import time"
   ]
  },
  {
   "cell_type": "code",
   "execution_count": 2,
   "id": "52a04982",
   "metadata": {},
   "outputs": [
    {
     "name": "stdout",
     "output_type": "stream",
     "text": [
      "WARNING: CHANGE YOUR USERNAME AND PASSWORD!!! \n",
      "\n",
      "Anyone can login as an admin to your node right now because your password is still the default PySyft username and password!!!\n",
      "\n",
      "Connecting to localhost... done! \t Logging into canada... done!\n"
     ]
    }
   ],
   "source": [
    "domain_client = sy.login(email='info@openmined.org', password='changethis',port = 8081)"
   ]
  },
  {
   "cell_type": "code",
   "execution_count": 3,
   "id": "fc139e5b-a73d-4bf8-bc0f-9184e0aba7e4",
   "metadata": {},
   "outputs": [],
   "source": [
    "data = domain_client.datasets[-1]\n",
    "\n",
    "X_train = data[\"train_images\"]\n",
    "Y_train = data[\"train_labels\"]\n",
    "\n",
    "X_dev = data[\"train_images\"]\n",
    "Y_dev = data[\"train_labels\"]\n",
    "\n",
    "m,n = X_train.public_shape"
   ]
  },
  {
   "cell_type": "code",
   "execution_count": 4,
   "metadata": {},
   "outputs": [
    {
     "name": "stderr",
     "output_type": "stream",
     "text": [
      "/home/azureuser/PySyft/packages/syft/src/syft/core/tensor/smpc/utils.py:75: RuntimeWarning: invalid value encountered in true_divide\n",
      "  res = (getattr(np.empty(x_shape), op_str)(np.empty(y_shape))).shape\n"
     ]
    }
   ],
   "source": [
    "# Preprocess the images\n",
    "\n",
    "X_train = X_train.T\n",
    "X_train = X_train / 255.0\n",
    "\n",
    "X_dev = X_dev.T\n",
    "X_dev = X_dev / 255.0"
   ]
  },
  {
   "cell_type": "code",
   "execution_count": 5,
   "id": "0b8aa572-db50-4730-a175-94287da1b75d",
   "metadata": {},
   "outputs": [],
   "source": [
    "\n",
    "def init_params():\n",
    "    W1 = np.random.rand(6, 4096) - 0.5\n",
    "    b1 = np.random.rand(6, 1) - 0.5\n",
    "    W2 = np.random.rand(6, 6) - 0.5\n",
    "    b2 = np.random.rand(6, 1) - 0.5\n",
    "    return W1, b1, W2, b2\n",
    "\n",
    "def ReLU(Z):\n",
    "    return Z*(Z>0)\n",
    "\n",
    "def softmax(Z):\n",
    "    exp_cache = Z.exp()\n",
    "    inv =  (exp_cache.sum().reciprocal())\n",
    "    A = exp_cache * inv\n",
    "    return A\n",
    "    \n",
    "def forward_prop(W1, b1, W2, b2, X):    \n",
    "    Z1 = X.__rmatmul__(W1) + b1\n",
    "    A1 = ReLU(Z1)\n",
    "    Z2 = A1.__rmatmul__(W2) + b2\n",
    "    A2 = softmax(Z2) \n",
    "    return Z1, A1, Z2, A2\n",
    "\n",
    "\n",
    "def ReLU_deriv(Z):\n",
    "    return Z > 0\n",
    "\n",
    "def one_hot(Y):\n",
    "    one_hot_Y = np.zeros((Y.size, Y.max() + 1))\n",
    "    one_hot_Y[np.arange(Y.size),Y] = 1\n",
    "    one_hot_Y = one_hot_Y.T\n",
    "    return one_hot_Y\n",
    "\n",
    "def backward_prop(Z1, A1, Z2, A2, W1, W2, X, Y):\n",
    "    one_hot_Y = Y.one_hot()\n",
    "    dZ2 = A2 - one_hot_Y\n",
    "    dW2 = dZ2@(A1.T) * (1/m)\n",
    "    db2 = dZ2.sum() * (1/m)\n",
    "    dZ1 = dZ2.__rmatmul__(W2.T) * ReLU_deriv(Z1)\n",
    "    dW1 = dZ1@(X.T) * (1/m)\n",
    "    db1 = dZ1.sum()*(1/m)\n",
    "    return dW1, db1, dW2, db2\n",
    "\n",
    "def update_params(W1, b1, W2, b2, dW1, db1, dW2, db2, alpha):\n",
    "    W1 = (dW1 * alpha - W1) * -1\n",
    "    b1 = (db1 * alpha - b1) * -1\n",
    "    W2 = (dW2 * alpha - W2) * -1\n",
    "    b2 = (db2 * alpha - b2) * -1\n",
    "    return W1, b1, W2, b2\n",
    "\n",
    "\n",
    "def get_predictions(A2):\n",
    "    return np.argmax(A2, 0)\n",
    "\n",
    "def get_accuracy(predictions, Y):\n",
    "    return np.sum(predictions == Y) / Y.size\n",
    "\n",
    "def gradient_descent(X, Y, alpha, iterations):\n",
    "    W1, b1, W2, b2 = init_params()\n",
    "    print(\"[INFO]: Starting training!\\n\")\n",
    "    for i in tqdm(range(iterations)):\n",
    "        Z1, A1, Z2, A2 = forward_prop(W1, b1, W2, b2, X)\n",
    "        dW1, db1, dW2, db2 = backward_prop(Z1, A1, Z2, A2, W1, W2, X, Y)\n",
    "        W1, b1, W2, b2 = update_params(W1, b1, W2, b2, dW1, db1, dW2, db2, alpha)\n",
    "        # if i % 40 == 0:\n",
    "        #     print(\"Predicition will be availabe in the next iteration.....Thank you for your support.\")\n",
    "        #     # predictions = get_predictions(A2)\n",
    "        #     # print(\"Iteration: \", i, \" Accuracy : \" ,get_accuracy(predictions, Y))\n",
    "    # return Z1, A1, Z2, A2,W1,W2\n",
    "    return W1, b1, W2, b2"
   ]
  },
  {
   "cell_type": "code",
   "execution_count": 6,
   "id": "482bcf5e-a8fe-471c-8a24-f6533b91148a",
   "metadata": {},
   "outputs": [
    {
     "name": "stdout",
     "output_type": "stream",
     "text": [
      "[INFO]: Starting training!\n",
      "\n"
     ]
    },
    {
     "name": "stderr",
     "output_type": "stream",
     "text": [
      "  0%|          | 0/1 [00:00<?, ?it/s]/home/azureuser/PySyft/packages/syft/src/syft/core/tensor/smpc/utils.py:75: RuntimeWarning: overflow encountered in multiply\n",
      "  res = (getattr(np.empty(x_shape), op_str)(np.empty(y_shape))).shape\n",
      "/home/azureuser/PySyft/packages/syft/src/syft/core/tensor/smpc/utils.py:75: RuntimeWarning: invalid value encountered in subtract\n",
      "  res = (getattr(np.empty(x_shape), op_str)(np.empty(y_shape))).shape\n",
      "100%|██████████| 1/1 [00:01<00:00,  1.14s/it]\n"
     ]
    }
   ],
   "source": [
    "W1, b1, W2, b2 = gradient_descent(X_train, Y_train, 0.10, 1)"
   ]
  },
  {
   "cell_type": "code",
   "execution_count": null,
   "metadata": {},
   "outputs": [],
   "source": [
    "W1.get_copy()"
   ]
  },
  {
   "cell_type": "code",
   "execution_count": null,
   "metadata": {},
   "outputs": [],
   "source": [
    "b1.get_copy()"
   ]
  },
  {
   "cell_type": "code",
   "execution_count": null,
   "metadata": {},
   "outputs": [],
   "source": [
    "W2.get_copy()"
   ]
  },
  {
   "cell_type": "code",
   "execution_count": null,
   "metadata": {},
   "outputs": [],
   "source": [
    "b2.get_copy()"
   ]
  }
 ],
 "metadata": {
  "interpreter": {
   "hash": "630449982b6186a6531308cd76ed4d510e9db65154e43844c2906c6a20ad2a6d"
  },
  "kernelspec": {
   "display_name": "Python 3.9.4 64-bit ('python39-2vM0bQN-': pipenv)",
   "name": "python3"
  },
  "language_info": {
   "codemirror_mode": {
    "name": "ipython",
    "version": 3
   },
   "file_extension": ".py",
   "mimetype": "text/x-python",
   "name": "python",
   "nbconvert_exporter": "python",
   "pygments_lexer": "ipython3",
   "version": "3.9.4"
  }
 },
 "nbformat": 4,
 "nbformat_minor": 5
}
