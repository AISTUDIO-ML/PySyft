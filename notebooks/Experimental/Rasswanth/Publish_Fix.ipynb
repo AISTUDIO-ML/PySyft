{
 "cells": [
  {
   "cell_type": "code",
   "execution_count": 1,
   "id": "7309bef0-3ecc-46d4-b7a1-72e19d86d0c9",
   "metadata": {},
   "outputs": [
    {
     "name": "stderr",
     "output_type": "stream",
     "text": [
      "/Users/rasswanth/PySyft/.tox/syft.jupyter/lib/python3.9/site-packages/jax/_src/lib/__init__.py:33: UserWarning: JAX on Mac ARM machines is experimental and minimally tested. Please see https://github.com/google/jax/issues/5501 in the event of problems.\n",
      "  warnings.warn(\"JAX on Mac ARM machines is experimental and minimally tested. \"\n"
     ]
    }
   ],
   "source": [
    "import syft as sy\n",
    "from syft import PhiTensor\n",
    "import numpy as np\n",
    "from syft.core.adp.data_subject_list import DataSubjectArray"
   ]
  },
  {
   "cell_type": "code",
   "execution_count": 2,
   "id": "d940c4f5-c0db-4fdb-b3c6-2ceb23e29864",
   "metadata": {},
   "outputs": [
    {
     "name": "stdout",
     "output_type": "stream",
     "text": [
      "WARNING: CHANGE YOUR USERNAME AND PASSWORD!!! \n",
      "\n",
      "Anyone can login as an admin to your node right now because your password is still the default PySyft username and password!!!\n",
      "\n",
      "Connecting to localhost... done! \t Logging into canada... done!\n",
      "WARNING: CHANGE YOUR USERNAME AND PASSWORD!!! \n",
      "\n",
      "Anyone can login as an admin to your node right now because your password is still the default PySyft username and password!!!\n",
      "\n",
      "Connecting to localhost... done! \t Logging into italy... done!\n"
     ]
    }
   ],
   "source": [
    "ca  = sy.login(email=\"info@openmined.org\", password=\"changethis\",port= 8081)\n",
    "it  = sy.login(email=\"info@openmined.org\", password=\"changethis\",port= 8082)"
   ]
  },
  {
   "cell_type": "code",
   "execution_count": 53,
   "id": "2630914a-ebf2-4ed8-902d-81bc301f375b",
   "metadata": {},
   "outputs": [
    {
     "data": {
      "text/plain": [
       "9999999.0"
      ]
     },
     "execution_count": 53,
     "metadata": {},
     "output_type": "execute_result"
    }
   ],
   "source": [
    "from syft.core.node.common.node_service.user_manager.user_messages import (\n",
    "    UpdateUserMessage,\n",
    ")\n",
    "\n",
    "# Upgrade admins budget\n",
    "content = {\"user_id\": 1, \"budget\": 9_999_999}\n",
    "ca._perform_grid_request(grid_msg=UpdateUserMessage, content=content)\n",
    "\n",
    "ca.privacy_budget"
   ]
  },
  {
   "cell_type": "code",
   "execution_count": 3,
   "id": "1c7421af-5e58-4542-9f58-83587968b796",
   "metadata": {},
   "outputs": [
    {
     "name": "stdout",
     "output_type": "stream",
     "text": [
      "Tensor annotated with DP Metadata\n"
     ]
    }
   ],
   "source": [
    "data = np.array([1,2,3])\n",
    "data_subject = DataSubjectArray([\"Natsu\"])\n",
    "tensor = sy.Tensor(data).annotated_with_dp_metadata(min_val=0,max_val=5, data_subjects = np.array([data_subject,data_subject,data_subject]))"
   ]
  },
  {
   "cell_type": "code",
   "execution_count": 4,
   "id": "379ee184-0261-4bb8-8b1e-3cc1e6ab7e64",
   "metadata": {},
   "outputs": [
    {
     "data": {
      "text/plain": [
       "Tensor(child=PhiTensor(child=[1 2 3], min_vals=<lazyrepeatarray data: [0] -> shape: (3,)>, max_vals=<lazyrepeatarray data: [5] -> shape: (3,)>))"
      ]
     },
     "execution_count": 4,
     "metadata": {},
     "output_type": "execute_result"
    }
   ],
   "source": [
    "tensor"
   ]
  },
  {
   "cell_type": "code",
   "execution_count": 57,
   "id": "296297f8-fc24-4a3d-a884-9fff0aa5eedb",
   "metadata": {},
   "outputs": [
    {
     "name": "stderr",
     "output_type": "stream",
     "text": [
      "Uploading `2cab37064fe94861b8bd8c5f48b4855f`: 100%|\u001b[32m██████████████████\u001b[0m| 1/1 [00:00<00:00, 111.76it/s]\u001b[0m\n",
      "Uploading `d65f620f537a4a10a31871d9443b2a0b`: 100%|\u001b[32m███████████████████\u001b[0m| 1/1 [00:00<00:00,  4.67it/s]\u001b[0m\n"
     ]
    }
   ],
   "source": [
    "ptr_ca = tensor.send(ca)\n",
    "ptr_it = tensor.send(it)"
   ]
  },
  {
   "cell_type": "code",
   "execution_count": 54,
   "id": "eca0d213-ff75-43e7-94c9-7f40f7c9277a",
   "metadata": {},
   "outputs": [],
   "source": [
    "prev_budget = ca.privacy_budget\n",
    "pub_res = ptr.publish(sigma=2)"
   ]
  },
  {
   "cell_type": "code",
   "execution_count": 55,
   "id": "ff2f30d2-b7f9-473d-98ad-783f5a0b1093",
   "metadata": {},
   "outputs": [
    {
     "name": "stdout",
     "output_type": "stream",
     "text": [
      "Current Budget:  9,999,992.421334408\n",
      "Difference:      696,220.8359077605\n"
     ]
    }
   ],
   "source": [
    "curr_budget = ca.privacy_budget\n",
    "print(\"Current Budget: \",\"{:,}\".format(curr_budget))\n",
    "spent = prev_budget -curr_budget\n",
    "print(\"Difference:     \",\"{:,}\".format(diff))"
   ]
  },
  {
   "cell_type": "code",
   "execution_count": 56,
   "id": "887b6c1c-73a3-4cf9-8140-466feb503326",
   "metadata": {},
   "outputs": [
    {
     "data": {
      "text/plain": [
       "array([2.59528177, 1.0104449 , 0.85338571])"
      ]
     },
     "execution_count": 56,
     "metadata": {},
     "output_type": "execute_result"
    }
   ],
   "source": [
    "pub_res.get_copy()"
   ]
  },
  {
   "cell_type": "code",
   "execution_count": 58,
   "id": "57f4f8ff-3e5f-40a9-86e0-36b578bd2b26",
   "metadata": {},
   "outputs": [],
   "source": [
    "mpc = ptr_ca + ptr_it"
   ]
  },
  {
   "cell_type": "code",
   "execution_count": 79,
   "id": "9f0f8f3f-0698-41fb-b6eb-e4333f14887a",
   "metadata": {},
   "outputs": [
    {
     "data": {
      "text/plain": [
       "-4.796277988189004"
      ]
     },
     "execution_count": 79,
     "metadata": {},
     "output_type": "execute_result"
    }
   ],
   "source": [
    "secrets.SystemRandom().gauss(0,2)"
   ]
  }
 ],
 "metadata": {
  "kernelspec": {
   "display_name": "Python 3 (ipykernel)",
   "language": "python",
   "name": "python3"
  },
  "language_info": {
   "codemirror_mode": {
    "name": "ipython",
    "version": 3
   },
   "file_extension": ".py",
   "mimetype": "text/x-python",
   "name": "python",
   "nbconvert_exporter": "python",
   "pygments_lexer": "ipython3",
   "version": "3.9.13"
  }
 },
 "nbformat": 4,
 "nbformat_minor": 5
}
