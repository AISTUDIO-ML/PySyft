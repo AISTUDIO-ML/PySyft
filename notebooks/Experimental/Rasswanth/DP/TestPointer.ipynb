{
 "cells": [
  {
   "cell_type": "code",
   "execution_count": 1,
   "id": "bc3ed4c3-9f91-489e-8016-cd9f643f730c",
   "metadata": {},
   "outputs": [],
   "source": [
    "import syft as sy\n",
    "import numpy as np"
   ]
  },
  {
   "cell_type": "code",
   "execution_count": 2,
   "id": "63545187-b50d-4070-a1b7-296e25d03499",
   "metadata": {},
   "outputs": [
    {
     "name": "stdout",
     "output_type": "stream",
     "text": [
      "WARNING: CHANGE YOUR USERNAME AND PASSWORD!!! \n",
      "\n",
      "Anyone can login as an admin to your node right now because your password is still the default PySyft username and password!!!\n",
      "\n",
      "Connecting to localhost... done! \t Logging into canada... done!\n"
     ]
    }
   ],
   "source": [
    "domain = sy.login(email=\"info@openmined.org\", password=\"changethis\", port=8081)"
   ]
  },
  {
   "cell_type": "code",
   "execution_count": 3,
   "id": "eb6895d4-7ba6-48b1-8213-44240718dc66",
   "metadata": {},
   "outputs": [],
   "source": [
    "domain.datasets.purge(skip_check=True)"
   ]
  },
  {
   "cell_type": "code",
   "execution_count": 4,
   "id": "af4e219e-d2b8-4cf4-8629-0c68a5511817",
   "metadata": {},
   "outputs": [
    {
     "name": "stdout",
     "output_type": "stream",
     "text": [
      "Loading dataset... uploading...🚀                                                                                                                                             "
     ]
    },
    {
     "name": "stderr",
     "output_type": "stream",
     "text": [
      "Uploading `phi`: 100%|\u001b[32m████████████████████████████████████████████████\u001b[0m| 1/1 [00:00<00:00, 47.70it/s]\u001b[0m\n",
      "Uploading `gamma`: 100%|\u001b[32m█████████████████████████████████████████████\u001b[0m| 1/1 [00:00<00:00, 112.25it/s]\u001b[0m"
     ]
    },
    {
     "name": "stdout",
     "output_type": "stream",
     "text": [
      "Dataset is uploaded successfully !!! 🎉\n",
      "\n",
      "Run `<your client variable>.datasets` to see your new dataset loaded into your machine!\n"
     ]
    },
    {
     "name": "stderr",
     "output_type": "stream",
     "text": [
      "\n"
     ]
    }
   ],
   "source": [
    "if len(domain.datasets) == 0:\n",
    "    data = np.random.random((5, 5))\n",
    "    gt_dsa = np.random.choice([\"Bob\", \"Billy\", \"Brandon\"], (5, 5))\n",
    "    pt_dsa = np.random.choice([\"Joe\"], (5, 5))\n",
    "    gamma_tensor = sy.Tensor(data).private(min_val=0, max_val=1, data_subjects=gt_dsa)\n",
    "    phi_tensor = sy.Tensor(data).private(min_val=0, max_val=1, data_subjects=pt_dsa)\n",
    "\n",
    "    domain.load_dataset(\n",
    "        assets={\n",
    "            \"phi\": phi_tensor, \n",
    "            \"gamma\": gamma_tensor\n",
    "        }, \n",
    "        name=\"Test dataset\", \n",
    "        description=\"Descr.\"\n",
    "    )\n",
    "else:\n",
    "    domain.datasets"
   ]
  },
  {
   "cell_type": "code",
   "execution_count": 5,
   "id": "75d56548-97f3-4ec7-8847-8250003e3bdf",
   "metadata": {},
   "outputs": [],
   "source": [
    "phi = domain.datasets[-1][\"phi\"]"
   ]
  },
  {
   "cell_type": "code",
   "execution_count": 6,
   "id": "2ada1ce4-3353-41e5-8dec-268955472ac7",
   "metadata": {},
   "outputs": [],
   "source": [
    "data = phi.get_copy().child"
   ]
  },
  {
   "cell_type": "code",
   "execution_count": 7,
   "id": "4bbd6f5d-f881-46da-a9be-e18923353f65",
   "metadata": {},
   "outputs": [
    {
     "data": {
      "text/plain": [
       "PhiTensor(child=[[0.03445739 0.05045582 0.11216455 0.05436907 0.04090008]\n",
       " [0.12135692 0.77332168 0.11848589 0.08549033 0.12139599]\n",
       " [0.00456922 0.1308994  0.12947295 0.14246791 0.06770181]\n",
       " [0.19274018 0.00709868 0.39005407 0.59303286 0.08426103]\n",
       " [0.00913838 0.09195079 0.66773577 0.15589606 0.01884897]], min_vals=<lazyrepeatarray data: 0 -> shape: (5, 5)>, max_vals=<lazyrepeatarray data: [1] -> shape: (5, 5)>)"
      ]
     },
     "execution_count": 7,
     "metadata": {},
     "output_type": "execute_result"
    }
   ],
   "source": [
    "data**2"
   ]
  },
  {
   "cell_type": "code",
   "execution_count": 8,
   "id": "d0200c73-dd72-40e9-b2bc-890fab610f99",
   "metadata": {},
   "outputs": [],
   "source": [
    "res = phi**2"
   ]
  },
  {
   "cell_type": "code",
   "execution_count": 9,
   "id": "3642ed02-ecf8-4823-b7ea-8d2b134eee17",
   "metadata": {},
   "outputs": [
    {
     "data": {
      "text/plain": [
       "Tensor(child=PhiTensor(child=[[0.03445739 0.05045582 0.11216455 0.05436907 0.04090008]\n",
       " [0.12135692 0.77332168 0.11848589 0.08549033 0.12139599]\n",
       " [0.00456922 0.1308994  0.12947295 0.14246791 0.06770181]\n",
       " [0.19274018 0.00709868 0.39005407 0.59303286 0.08426103]\n",
       " [0.00913838 0.09195079 0.66773577 0.15589606 0.01884897]], min_vals=<lazyrepeatarray data: 0 -> shape: (5, 5)>, max_vals=<lazyrepeatarray data: [1] -> shape: (5, 5)>))"
      ]
     },
     "execution_count": 9,
     "metadata": {},
     "output_type": "execute_result"
    }
   ],
   "source": [
    "res.get_copy()"
   ]
  },
  {
   "cell_type": "code",
   "execution_count": 10,
   "id": "335ed21d-2be7-4d42-a3d2-937bde0ecc3c",
   "metadata": {},
   "outputs": [
    {
     "data": {
      "text/plain": [
       "Tensor(child=PhiTensor(child=[[0.18562702 0.22462374 0.33490976 0.23317175 0.20223769]\n",
       " [0.3483632  0.8793871  0.34421779 0.2923873  0.34841927]\n",
       " [0.06759604 0.36180022 0.35982349 0.37744922 0.26019571]\n",
       " [0.43902184 0.08425366 0.62454309 0.77008627 0.2902775 ]\n",
       " [0.09559486 0.30323389 0.81715101 0.39483675 0.13729155]], min_vals=<lazyrepeatarray data: [0] -> shape: (5, 5)>, max_vals=<lazyrepeatarray data: [1] -> shape: (5, 5)>))"
      ]
     },
     "execution_count": 10,
     "metadata": {},
     "output_type": "execute_result"
    }
   ],
   "source": [
    "phi.get_copy()"
   ]
  },
  {
   "cell_type": "code",
   "execution_count": null,
   "id": "50fc1ff8-1fb7-4a04-bdf4-3fa6a42866c4",
   "metadata": {},
   "outputs": [],
   "source": [
    "phi_res = phi.get_copy()\n",
    "print(phi_res.child.child, phi_res.child.data_subjects.sum(), phi_res.child.min_vals, phi_res.child.max_vals)"
   ]
  },
  {
   "cell_type": "code",
   "execution_count": 11,
   "id": "82fb98fc-5092-48af-8c20-1f3e535293b1",
   "metadata": {},
   "outputs": [],
   "source": [
    "gamma = domain.datasets[-1][\"gamma\"]"
   ]
  },
  {
   "cell_type": "code",
   "execution_count": 12,
   "id": "90bda047-b1d0-46bd-a788-818319a0d227",
   "metadata": {},
   "outputs": [],
   "source": [
    "data = gamma.get_copy().child"
   ]
  },
  {
   "cell_type": "code",
   "execution_count": 13,
   "id": "2c80b82c-65a1-448a-9796-1f3d9229ca6b",
   "metadata": {},
   "outputs": [
    {
     "name": "stdout",
     "output_type": "stream",
     "text": [
      "[[0.03445739 0.05045582 0.11216455 0.05436907 0.04090008]\n",
      " [0.12135692 0.77332168 0.11848589 0.08549033 0.12139599]\n",
      " [0.00456922 0.1308994  0.12947295 0.14246791 0.06770181]\n",
      " [0.19274018 0.00709868 0.39005407 0.59303286 0.08426103]\n",
      " [0.00913838 0.09195079 0.66773577 0.15589606 0.01884897]]\n",
      "<lazyrepeatarray data: 0 -> shape: (5, 5)>\n",
      "<lazyrepeatarray data: [1] -> shape: (5, 5)>\n"
     ]
    }
   ],
   "source": [
    "local_res = data**2\n",
    "print(local_res.child)\n",
    "print(local_res.min_vals)\n",
    "print(local_res.max_vals)"
   ]
  },
  {
   "cell_type": "code",
   "execution_count": 14,
   "id": "0eaca9a7-2126-4800-aa74-840cd2bc4404",
   "metadata": {},
   "outputs": [],
   "source": [
    "res = gamma**2"
   ]
  },
  {
   "cell_type": "code",
   "execution_count": 15,
   "id": "0d7bf3ad-6927-4748-939d-1bfe2455ac8f",
   "metadata": {},
   "outputs": [
    {
     "name": "stdout",
     "output_type": "stream",
     "text": [
      "[[0.03445739 0.05045582 0.11216455 0.05436907 0.04090008]\n",
      " [0.12135692 0.77332168 0.11848589 0.08549033 0.12139599]\n",
      " [0.00456922 0.1308994  0.12947295 0.14246791 0.06770181]\n",
      " [0.19274018 0.00709868 0.39005407 0.59303286 0.08426103]\n",
      " [0.00913838 0.09195079 0.66773577 0.15589606 0.01884897]]\n",
      "<lazyrepeatarray data: 0 -> shape: (5, 5)>\n",
      "<lazyrepeatarray data: [1] -> shape: (5, 5)>\n"
     ]
    }
   ],
   "source": [
    "final_res = res.get_copy().child\n",
    "print(final_res.child)\n",
    "print(final_res.min_vals)\n",
    "print(final_res.max_vals)"
   ]
  },
  {
   "cell_type": "code",
   "execution_count": null,
   "id": "fac511f2-2648-4147-b635-464d1f7649a2",
   "metadata": {},
   "outputs": [],
   "source": [
    "data.data_subjects **2"
   ]
  },
  {
   "cell_type": "code",
   "execution_count": null,
   "id": "16fc8a48-763b-4bc6-9a28-5a6442482e33",
   "metadata": {},
   "outputs": [],
   "source": [
    "np.arange(6)"
   ]
  }
 ],
 "metadata": {
  "kernelspec": {
   "display_name": "Python 3 (ipykernel)",
   "language": "python",
   "name": "python3"
  },
  "language_info": {
   "codemirror_mode": {
    "name": "ipython",
    "version": 3
   },
   "file_extension": ".py",
   "mimetype": "text/x-python",
   "name": "python",
   "nbconvert_exporter": "python",
   "pygments_lexer": "ipython3",
   "version": "3.9.13"
  }
 },
 "nbformat": 4,
 "nbformat_minor": 5
}
