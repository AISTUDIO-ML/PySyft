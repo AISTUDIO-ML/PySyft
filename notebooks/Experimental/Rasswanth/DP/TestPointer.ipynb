{
 "cells": [
  {
   "cell_type": "code",
   "execution_count": 1,
   "id": "bc3ed4c3-9f91-489e-8016-cd9f643f730c",
   "metadata": {},
   "outputs": [],
   "source": [
    "import syft as sy\n",
    "import numpy as np"
   ]
  },
  {
   "cell_type": "code",
   "execution_count": 2,
   "id": "63545187-b50d-4070-a1b7-296e25d03499",
   "metadata": {},
   "outputs": [
    {
     "name": "stdout",
     "output_type": "stream",
     "text": [
      "WARNING: CHANGE YOUR USERNAME AND PASSWORD!!! \n",
      "\n",
      "Anyone can login as an admin to your node right now because your password is still the default PySyft username and password!!!\n",
      "\n",
      "Connecting to localhost... done! \t Logging into canada... done!\n"
     ]
    }
   ],
   "source": [
    "domain = sy.login(email=\"info@openmined.org\", password=\"changethis\", port=8081)"
   ]
  },
  {
   "cell_type": "code",
   "execution_count": 3,
   "id": "eb6895d4-7ba6-48b1-8213-44240718dc66",
   "metadata": {},
   "outputs": [],
   "source": [
    "domain.datasets.purge(skip_check=True)"
   ]
  },
  {
   "cell_type": "code",
   "execution_count": 4,
   "id": "af4e219e-d2b8-4cf4-8629-0c68a5511817",
   "metadata": {},
   "outputs": [
    {
     "name": "stdout",
     "output_type": "stream",
     "text": [
      "Loading dataset... uploading...🚀                                                                                                                                             "
     ]
    },
    {
     "name": "stderr",
     "output_type": "stream",
     "text": [
      "Uploading `phi`: 100%|\u001b[32m████████████████████████████████████████████████\u001b[0m| 1/1 [00:00<00:00, 88.66it/s]\u001b[0m\n",
      "Uploading `gamma`: 100%|\u001b[32m█████████████████████████████████████████████\u001b[0m| 1/1 [00:00<00:00, 139.32it/s]\u001b[0m"
     ]
    },
    {
     "name": "stdout",
     "output_type": "stream",
     "text": [
      "Dataset is uploaded successfully !!! 🎉\n",
      "\n",
      "Run `<your client variable>.datasets` to see your new dataset loaded into your machine!\n"
     ]
    },
    {
     "name": "stderr",
     "output_type": "stream",
     "text": [
      "\n"
     ]
    }
   ],
   "source": [
    "if len(domain.datasets) == 0:\n",
    "    data = np.random.random((5, 5))\n",
    "    gt_dsa = np.random.choice([\"Bob\", \"Billy\", \"Brandon\"], (5, 5))\n",
    "    pt_dsa = np.random.choice([\"Joe\"], (5, 5))\n",
    "    gamma_tensor = sy.Tensor(data).private(min_val=0, max_val=1, data_subjects=gt_dsa)\n",
    "    phi_tensor = sy.Tensor(data).private(min_val=0, max_val=1, data_subjects=pt_dsa)\n",
    "\n",
    "    domain.load_dataset(\n",
    "        assets={\n",
    "            \"phi\": phi_tensor, \n",
    "            \"gamma\": gamma_tensor\n",
    "        }, \n",
    "        name=\"Test dataset\", \n",
    "        description=\"Descr.\"\n",
    "    )\n",
    "else:\n",
    "    domain.datasets"
   ]
  },
  {
   "cell_type": "code",
   "execution_count": 5,
   "id": "75d56548-97f3-4ec7-8847-8250003e3bdf",
   "metadata": {},
   "outputs": [],
   "source": [
    "phi = domain.datasets[-1][\"phi\"]"
   ]
  },
  {
   "cell_type": "code",
   "execution_count": 6,
   "id": "2ada1ce4-3353-41e5-8dec-268955472ac7",
   "metadata": {},
   "outputs": [],
   "source": [
    "data = phi.get_copy().child"
   ]
  },
  {
   "cell_type": "code",
   "execution_count": 7,
   "id": "4bbd6f5d-f881-46da-a9be-e18923353f65",
   "metadata": {},
   "outputs": [
    {
     "name": "stderr",
     "output_type": "stream",
     "text": [
      "/Users/rasswanth/PySyft/packages/syft/src/syft/core/tensor/autodp/phi_tensor.py:2871: RuntimeWarning: divide by zero encountered in floor_divide\n",
      "  min_min = self.min_vals.data // other.min_vals.data\n",
      "/Users/rasswanth/PySyft/packages/syft/src/syft/core/tensor/autodp/phi_tensor.py:2873: RuntimeWarning: divide by zero encountered in floor_divide\n",
      "  max_min = self.max_vals.data // other.min_vals.data\n"
     ]
    },
    {
     "data": {
      "text/plain": [
       "PhiTensor(child=[[1. 1. 1. 1. 1.]\n",
       " [1. 1. 1. 1. 1.]\n",
       " [1. 1. 1. 1. 1.]\n",
       " [1. 1. 1. 1. 1.]\n",
       " [1. 1. 1. 1. 1.]], min_vals=<lazyrepeatarray data: [0] -> shape: (5, 5)>, max_vals=<lazyrepeatarray data: [1] -> shape: (5, 5)>)"
      ]
     },
     "execution_count": 7,
     "metadata": {},
     "output_type": "execute_result"
    }
   ],
   "source": [
    "data//data"
   ]
  },
  {
   "cell_type": "code",
   "execution_count": 8,
   "id": "d0200c73-dd72-40e9-b2bc-890fab610f99",
   "metadata": {},
   "outputs": [
    {
     "name": "stderr",
     "output_type": "stream",
     "text": [
      "/Users/rasswanth/PySyft/packages/syft/src/syft/core/tensor/lazy_repeat_array.py:212: RuntimeWarning: divide by zero encountered in floor_divide\n",
      "  return self.__class__(data=self.data // other.data, shape=self.shape)\n"
     ]
    }
   ],
   "source": [
    "res = phi//phi"
   ]
  },
  {
   "cell_type": "code",
   "execution_count": 9,
   "id": "3642ed02-ecf8-4823-b7ea-8d2b134eee17",
   "metadata": {},
   "outputs": [
    {
     "data": {
      "text/plain": [
       "Tensor(child=PhiTensor(child=[[1. 1. 1. 1. 1.]\n",
       " [1. 1. 1. 1. 1.]\n",
       " [1. 1. 1. 1. 1.]\n",
       " [1. 1. 1. 1. 1.]\n",
       " [1. 1. 1. 1. 1.]], min_vals=<lazyrepeatarray data: [0] -> shape: (5, 5)>, max_vals=<lazyrepeatarray data: [1] -> shape: (5, 5)>))"
      ]
     },
     "execution_count": 9,
     "metadata": {},
     "output_type": "execute_result"
    }
   ],
   "source": [
    "res.get_copy()"
   ]
  },
  {
   "cell_type": "code",
   "execution_count": 10,
   "id": "335ed21d-2be7-4d42-a3d2-937bde0ecc3c",
   "metadata": {},
   "outputs": [
    {
     "data": {
      "text/plain": [
       "Tensor(child=PhiTensor(child=[[0.06468493 0.14997954 0.20649089 0.22461705 0.84255737]\n",
       " [0.64469158 0.84759673 0.57895809 0.87734141 0.52062476]\n",
       " [0.08955554 0.63137593 0.16988962 0.95861889 0.10079708]\n",
       " [0.21855769 0.60517886 0.68151371 0.13608255 0.44989138]\n",
       " [0.36328337 0.59083746 0.93861341 0.36223995 0.96805267]], min_vals=<lazyrepeatarray data: [0] -> shape: (5, 5)>, max_vals=<lazyrepeatarray data: [1] -> shape: (5, 5)>))"
      ]
     },
     "execution_count": 10,
     "metadata": {},
     "output_type": "execute_result"
    }
   ],
   "source": [
    "phi.get_copy()"
   ]
  },
  {
   "cell_type": "code",
   "execution_count": null,
   "id": "50fc1ff8-1fb7-4a04-bdf4-3fa6a42866c4",
   "metadata": {},
   "outputs": [],
   "source": [
    "phi_res = phi.get_copy()\n",
    "print(phi_res.child.child, phi_res.child.data_subjects.sum(), phi_res.child.min_vals, phi_res.child.max_vals)"
   ]
  },
  {
   "cell_type": "code",
   "execution_count": 11,
   "id": "82fb98fc-5092-48af-8c20-1f3e535293b1",
   "metadata": {},
   "outputs": [],
   "source": [
    "gamma = domain.datasets[-1][\"gamma\"]"
   ]
  },
  {
   "cell_type": "code",
   "execution_count": 12,
   "id": "90bda047-b1d0-46bd-a788-818319a0d227",
   "metadata": {},
   "outputs": [],
   "source": [
    "data = gamma.get_copy().child"
   ]
  },
  {
   "cell_type": "code",
   "execution_count": 13,
   "id": "2c80b82c-65a1-448a-9796-1f3d9229ca6b",
   "metadata": {},
   "outputs": [
    {
     "name": "stdout",
     "output_type": "stream",
     "text": [
      "[[1. 1. 1. 1. 1.]\n",
      " [1. 1. 1. 1. 1.]\n",
      " [1. 1. 1. 1. 1.]\n",
      " [1. 1. 1. 1. 1.]\n",
      " [1. 1. 1. 1. 1.]]\n",
      "<lazyrepeatarray data: [0] -> shape: (5, 5)>\n",
      "<lazyrepeatarray data: [1] -> shape: (5, 5)>\n"
     ]
    },
    {
     "name": "stderr",
     "output_type": "stream",
     "text": [
      "/Users/rasswanth/PySyft/packages/syft/src/syft/core/tensor/autodp/gamma_tensor.py:3083: RuntimeWarning: divide by zero encountered in floor_divide\n",
      "  min_min = self.min_vals.data // other.min_vals.data\n",
      "/Users/rasswanth/PySyft/packages/syft/src/syft/core/tensor/autodp/gamma_tensor.py:3085: RuntimeWarning: divide by zero encountered in floor_divide\n",
      "  max_min = self.max_vals.data // other.min_vals.data\n"
     ]
    }
   ],
   "source": [
    "local_res = data//data\n",
    "print(local_res.child)\n",
    "print(local_res.min_vals)\n",
    "print(local_res.max_vals)"
   ]
  },
  {
   "cell_type": "code",
   "execution_count": 14,
   "id": "0eaca9a7-2126-4800-aa74-840cd2bc4404",
   "metadata": {},
   "outputs": [],
   "source": [
    "res = gamma//gamma"
   ]
  },
  {
   "cell_type": "code",
   "execution_count": 15,
   "id": "0d7bf3ad-6927-4748-939d-1bfe2455ac8f",
   "metadata": {},
   "outputs": [
    {
     "name": "stdout",
     "output_type": "stream",
     "text": [
      "[[1. 1. 1. 1. 1.]\n",
      " [1. 1. 1. 1. 1.]\n",
      " [1. 1. 1. 1. 1.]\n",
      " [1. 1. 1. 1. 1.]\n",
      " [1. 1. 1. 1. 1.]]\n",
      "<lazyrepeatarray data: [0] -> shape: (5, 5)>\n",
      "<lazyrepeatarray data: [1] -> shape: (5, 5)>\n"
     ]
    }
   ],
   "source": [
    "final_res = res.get_copy().child\n",
    "print(final_res.child)\n",
    "print(final_res.min_vals)\n",
    "print(final_res.max_vals)"
   ]
  },
  {
   "cell_type": "code",
   "execution_count": null,
   "id": "fac511f2-2648-4147-b635-464d1f7649a2",
   "metadata": {},
   "outputs": [],
   "source": [
    "data.data_subjects **2"
   ]
  },
  {
   "cell_type": "code",
   "execution_count": null,
   "id": "16fc8a48-763b-4bc6-9a28-5a6442482e33",
   "metadata": {},
   "outputs": [],
   "source": [
    "np.arange(6)"
   ]
  }
 ],
 "metadata": {
  "kernelspec": {
   "display_name": "Python 3 (ipykernel)",
   "language": "python",
   "name": "python3"
  },
  "language_info": {
   "codemirror_mode": {
    "name": "ipython",
    "version": 3
   },
   "file_extension": ".py",
   "mimetype": "text/x-python",
   "name": "python",
   "nbconvert_exporter": "python",
   "pygments_lexer": "ipython3",
   "version": "3.9.13"
  }
 },
 "nbformat": 4,
 "nbformat_minor": 5
}
