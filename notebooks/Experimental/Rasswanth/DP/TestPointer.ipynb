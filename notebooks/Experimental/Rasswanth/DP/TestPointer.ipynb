{
 "cells": [
  {
   "cell_type": "code",
   "execution_count": 139,
   "id": "bc3ed4c3-9f91-489e-8016-cd9f643f730c",
   "metadata": {},
   "outputs": [],
   "source": [
    "import syft as sy\n",
    "import numpy as np"
   ]
  },
  {
   "cell_type": "code",
   "execution_count": 140,
   "id": "63545187-b50d-4070-a1b7-296e25d03499",
   "metadata": {},
   "outputs": [
    {
     "name": "stdout",
     "output_type": "stream",
     "text": [
      "WARNING: CHANGE YOUR USERNAME AND PASSWORD!!! \n",
      "\n",
      "Anyone can login as an admin to your node right now because your password is still the default PySyft username and password!!!\n",
      "\n",
      "Connecting to localhost... done! \t Logging into canada... done!\n"
     ]
    }
   ],
   "source": [
    "domain = sy.login(email=\"info@openmined.org\", password=\"changethis\", port=8081)"
   ]
  },
  {
   "cell_type": "code",
   "execution_count": 141,
   "id": "eb6895d4-7ba6-48b1-8213-44240718dc66",
   "metadata": {},
   "outputs": [],
   "source": [
    "domain.datasets.purge(skip_check=True)"
   ]
  },
  {
   "cell_type": "code",
   "execution_count": 142,
   "id": "af4e219e-d2b8-4cf4-8629-0c68a5511817",
   "metadata": {},
   "outputs": [
    {
     "name": "stdout",
     "output_type": "stream",
     "text": [
      "Loading dataset... uploading...🚀                                                                                                                                             "
     ]
    },
    {
     "name": "stderr",
     "output_type": "stream",
     "text": [
      "Uploading `phi`: 100%|\u001b[32m████████████████████████████████████████████████\u001b[0m| 1/1 [00:00<00:00,  4.69it/s]\u001b[0m\n",
      "Uploading `gamma`: 100%|\u001b[32m█████████████████████████████████████████████\u001b[0m| 1/1 [00:00<00:00, 135.28it/s]\u001b[0m"
     ]
    },
    {
     "name": "stdout",
     "output_type": "stream",
     "text": [
      "Dataset is uploaded successfully !!! 🎉\n",
      "\n",
      "Run `<your client variable>.datasets` to see your new dataset loaded into your machine!\n"
     ]
    },
    {
     "name": "stderr",
     "output_type": "stream",
     "text": [
      "\n"
     ]
    }
   ],
   "source": [
    "if len(domain.datasets) == 0:\n",
    "    data = np.random.random((5, 5))\n",
    "    gt_dsa = np.random.choice([\"Bob\", \"Billy\", \"Brandon\"], (5, 5))\n",
    "    pt_dsa = np.random.choice([\"Joe\"], (5, 5))\n",
    "    gamma_tensor = sy.Tensor(data).private(min_val=0, max_val=1, data_subjects=gt_dsa)\n",
    "    phi_tensor = sy.Tensor(data).private(min_val=0, max_val=1, data_subjects=pt_dsa)\n",
    "\n",
    "    domain.load_dataset(\n",
    "        assets={\n",
    "            \"phi\": phi_tensor, \n",
    "            \"gamma\": gamma_tensor\n",
    "        }, \n",
    "        name=\"Test dataset\", \n",
    "        description=\"Descr.\"\n",
    "    )\n",
    "else:\n",
    "    domain.datasets"
   ]
  },
  {
   "cell_type": "code",
   "execution_count": null,
   "id": "75d56548-97f3-4ec7-8847-8250003e3bdf",
   "metadata": {},
   "outputs": [],
   "source": [
    "phi = domain.datasets[-1][\"phi\"]"
   ]
  },
  {
   "cell_type": "code",
   "execution_count": null,
   "id": "2ada1ce4-3353-41e5-8dec-268955472ac7",
   "metadata": {},
   "outputs": [],
   "source": [
    "data = phi.get_copy().child"
   ]
  },
  {
   "cell_type": "code",
   "execution_count": null,
   "id": "4bbd6f5d-f881-46da-a9be-e18923353f65",
   "metadata": {},
   "outputs": [],
   "source": [
    "data.var()"
   ]
  },
  {
   "cell_type": "code",
   "execution_count": null,
   "id": "d0200c73-dd72-40e9-b2bc-890fab610f99",
   "metadata": {},
   "outputs": [],
   "source": [
    "res = phi.var()"
   ]
  },
  {
   "cell_type": "code",
   "execution_count": null,
   "id": "3642ed02-ecf8-4823-b7ea-8d2b134eee17",
   "metadata": {},
   "outputs": [],
   "source": [
    "res.get_copy()"
   ]
  },
  {
   "cell_type": "code",
   "execution_count": null,
   "id": "335ed21d-2be7-4d42-a3d2-937bde0ecc3c",
   "metadata": {},
   "outputs": [],
   "source": [
    "phi.get_copy()"
   ]
  },
  {
   "cell_type": "code",
   "execution_count": null,
   "id": "50fc1ff8-1fb7-4a04-bdf4-3fa6a42866c4",
   "metadata": {},
   "outputs": [],
   "source": [
    "phi_res = phi.get_copy()\n",
    "print(phi_res.child.child, phi_res.child.data_subjects.sum(), phi_res.child.min_vals, phi_res.child.max_vals)"
   ]
  },
  {
   "cell_type": "code",
   "execution_count": null,
   "id": "82fb98fc-5092-48af-8c20-1f3e535293b1",
   "metadata": {},
   "outputs": [],
   "source": [
    "gamma = domain.datasets[-1][\"gamma\"]"
   ]
  },
  {
   "cell_type": "code",
   "execution_count": null,
   "id": "90bda047-b1d0-46bd-a788-818319a0d227",
   "metadata": {},
   "outputs": [],
   "source": [
    "data = gamma.get_copy().child"
   ]
  },
  {
   "cell_type": "code",
   "execution_count": null,
   "id": "2c80b82c-65a1-448a-9796-1f3d9229ca6b",
   "metadata": {},
   "outputs": [],
   "source": [
    "local_res = data.var()\n",
    "print(local_res.child)\n",
    "print(local_res.min_vals)\n",
    "print(local_res.max_vals)"
   ]
  },
  {
   "cell_type": "code",
   "execution_count": null,
   "id": "0eaca9a7-2126-4800-aa74-840cd2bc4404",
   "metadata": {},
   "outputs": [],
   "source": [
    "res = gamma.var()"
   ]
  },
  {
   "cell_type": "code",
   "execution_count": null,
   "id": "0d7bf3ad-6927-4748-939d-1bfe2455ac8f",
   "metadata": {},
   "outputs": [],
   "source": [
    "final_res = res.get_copy().child\n",
    "print(final_res.child)\n",
    "print(final_res.min_vals)\n",
    "print(final_res.max_vals)"
   ]
  },
  {
   "cell_type": "code",
   "execution_count": null,
   "id": "fac511f2-2648-4147-b635-464d1f7649a2",
   "metadata": {},
   "outputs": [],
   "source": [
    "data.data_subjects **2"
   ]
  },
  {
   "cell_type": "code",
   "execution_count": null,
   "id": "16fc8a48-763b-4bc6-9a28-5a6442482e33",
   "metadata": {},
   "outputs": [],
   "source": [
    "np.arange(6)"
   ]
  },
  {
   "cell_type": "code",
   "execution_count": 22,
   "id": "63a44651-b72f-4ec4-a42e-7e7c21e4e6b9",
   "metadata": {},
   "outputs": [],
   "source": [
    "a = np.array([[1,2,3],[4,5,6],[7,8,9]])"
   ]
  },
  {
   "cell_type": "code",
   "execution_count": 23,
   "id": "c4af7e3a-eec4-46f7-9113-29a04322926d",
   "metadata": {},
   "outputs": [],
   "source": [
    "b = np.zeros_like(a)"
   ]
  },
  {
   "cell_type": "code",
   "execution_count": 18,
   "id": "3c7271b4-581b-4f0c-811b-671d7fc0cd1c",
   "metadata": {},
   "outputs": [
    {
     "data": {
      "text/plain": [
       "(array([0, 0, 0, 1, 1, 1, 2, 2, 2]), array([0, 1, 2, 0, 1, 2, 0, 1, 2]))"
      ]
     },
     "execution_count": 18,
     "metadata": {},
     "output_type": "execute_result"
    }
   ],
   "source": [
    "np.nonzero(a)"
   ]
  },
  {
   "cell_type": "code",
   "execution_count": 15,
   "id": "94dc07c1-f0e5-431e-98d4-f6ec4286c2a4",
   "metadata": {},
   "outputs": [
    {
     "data": {
      "text/plain": [
       "(array([], dtype=int64), array([], dtype=int64))"
      ]
     },
     "execution_count": 15,
     "metadata": {},
     "output_type": "execute_result"
    }
   ],
   "source": [
    "np.nonzero(b)"
   ]
  },
  {
   "cell_type": "code",
   "execution_count": 26,
   "id": "c7df35e3-8015-4307-aa2d-a2739e7a3f86",
   "metadata": {},
   "outputs": [
    {
     "data": {
      "text/plain": [
       "array([1, 2, 3, 4, 5, 6, 7, 8, 9])"
      ]
     },
     "execution_count": 26,
     "metadata": {},
     "output_type": "execute_result"
    }
   ],
   "source": [
    "a[b==0]"
   ]
  },
  {
   "cell_type": "code",
   "execution_count": 52,
   "id": "a95846c8-a809-4092-af4c-5b3110b974ba",
   "metadata": {},
   "outputs": [
    {
     "data": {
      "text/plain": [
       "array([[0.        , 0.65425555, 0.90183526, 0.32423296, 0.85203014],\n",
       "       [0.81910149, 0.07025482, 0.90045027, 0.89573172, 0.13746083],\n",
       "       [0.96624862, 0.17163451, 0.56727644, 0.36086826, 0.12779498],\n",
       "       [0.54708224, 0.56680297, 0.32675086, 0.26507013, 0.22166813],\n",
       "       [0.40211835, 0.60959716, 0.36486352, 0.36936472, 0.05491295]])"
      ]
     },
     "execution_count": 52,
     "metadata": {},
     "output_type": "execute_result"
    }
   ],
   "source": [
    "phi_tensor.child.child"
   ]
  },
  {
   "cell_type": "code",
   "execution_count": 140,
   "id": "8983619f-af90-46f1-bbbd-b5731b08c828",
   "metadata": {},
   "outputs": [],
   "source": [
    "child = np.array([[1,2]])\n",
    "data_subjects = np.array([[sy.DataSubjectArray([\"natsu\"]),sy.DataSubjectArray([\"zerek\"])]])"
   ]
  },
  {
   "cell_type": "code",
   "execution_count": 118,
   "id": "d22053d7-5387-4065-b61f-b6c355e9b9d3",
   "metadata": {},
   "outputs": [],
   "source": [
    "child = phi_tensor.child.child\n",
    "data_subjects = phi_tensor.child.data_subjects"
   ]
  },
  {
   "cell_type": "code",
   "execution_count": 138,
   "id": "0ac8a6bb-f91b-4902-8682-b3f924bb7d24",
   "metadata": {},
   "outputs": [
    {
     "data": {
      "text/plain": [
       "(1, 2)"
      ]
     },
     "execution_count": 138,
     "metadata": {},
     "output_type": "execute_result"
    }
   ],
   "source": [
    "child.shape"
   ]
  },
  {
   "cell_type": "code",
   "execution_count": 141,
   "id": "740b1a47-4f33-4d92-b334-78915d34e8db",
   "metadata": {},
   "outputs": [
    {
     "data": {
      "text/plain": [
       "array([[DataSubjectArray: {'natsu'}, DataSubjectArray: {'zerek'}]],\n",
       "      dtype=object)"
      ]
     },
     "execution_count": 141,
     "metadata": {},
     "output_type": "execute_result"
    }
   ],
   "source": [
    "data_subjects"
   ]
  },
  {
   "cell_type": "code",
   "execution_count": 145,
   "id": "14215e71-7c1b-4abd-b61f-ce8e4c90c5ff",
   "metadata": {},
   "outputs": [],
   "source": [
    "out_child = np.array(np.nonzero(child))\n",
    "no_axis = len(child.shape)\n",
    "selected_data_subjects = np.repeat(np.array([data_subjects[child != 0]]),no_axis,axis=0)\n",
    "# out_data_subjects = selected_data_subjects.reshape(-1, no_axis).transpose()"
   ]
  },
  {
   "cell_type": "code",
   "execution_count": 146,
   "id": "1ca11bb3-4552-4a9f-a5fa-4595ba7d54a3",
   "metadata": {},
   "outputs": [
    {
     "data": {
      "text/plain": [
       "array([[DataSubjectArray: {'natsu'}, DataSubjectArray: {'zerek'}],\n",
       "       [DataSubjectArray: {'natsu'}, DataSubjectArray: {'zerek'}]],\n",
       "      dtype=object)"
      ]
     },
     "execution_count": 146,
     "metadata": {},
     "output_type": "execute_result"
    }
   ],
   "source": [
    "selected_data_subjects"
   ]
  },
  {
   "cell_type": "code",
   "execution_count": 115,
   "id": "79962e22-11ba-465c-9a8d-366aef700587",
   "metadata": {},
   "outputs": [
    {
     "data": {
      "text/plain": [
       "array([[DataSubjectArray: {'natsu'}, DataSubjectArray: {'zerek'}]],\n",
       "      dtype=object)"
      ]
     },
     "execution_count": 115,
     "metadata": {},
     "output_type": "execute_result"
    }
   ],
   "source": [
    "selected_data_subjects.reshape(-1,1).transpose()"
   ]
  },
  {
   "cell_type": "code",
   "execution_count": 72,
   "id": "d49e68f4-533a-4c75-8d4c-43cfecef0f09",
   "metadata": {},
   "outputs": [],
   "source": [
    "out_child = np.array(np.nonzero(child))"
   ]
  },
  {
   "cell_type": "code",
   "execution_count": 83,
   "id": "d887d6c4-b09e-4da9-b02e-c61b1d355a88",
   "metadata": {},
   "outputs": [
    {
     "data": {
      "text/plain": [
       "array([[0, 1]])"
      ]
     },
     "execution_count": 83,
     "metadata": {},
     "output_type": "execute_result"
    }
   ],
   "source": [
    "out_child"
   ]
  },
  {
   "cell_type": "code",
   "execution_count": 59,
   "id": "926c9aa2-ce7d-4d94-a0f6-02fc232a1494",
   "metadata": {},
   "outputs": [
    {
     "data": {
      "text/plain": [
       "array([DataSubjectArray: {'Joe'}, DataSubjectArray: {'Joe'},\n",
       "       DataSubjectArray: {'Joe'}, DataSubjectArray: {'Joe'},\n",
       "       DataSubjectArray: {'Joe'}, DataSubjectArray: {'Joe'},\n",
       "       DataSubjectArray: {'Joe'}, DataSubjectArray: {'Joe'},\n",
       "       DataSubjectArray: {'Joe'}, DataSubjectArray: {'Joe'},\n",
       "       DataSubjectArray: {'Joe'}, DataSubjectArray: {'Joe'},\n",
       "       DataSubjectArray: {'Joe'}, DataSubjectArray: {'Joe'},\n",
       "       DataSubjectArray: {'Joe'}, DataSubjectArray: {'Joe'},\n",
       "       DataSubjectArray: {'Joe'}, DataSubjectArray: {'Joe'},\n",
       "       DataSubjectArray: {'Joe'}, DataSubjectArray: {'Joe'},\n",
       "       DataSubjectArray: {'Joe'}, DataSubjectArray: {'Joe'},\n",
       "       DataSubjectArray: {'Joe'}, DataSubjectArray: {'Joe'}], dtype=object)"
      ]
     },
     "execution_count": 59,
     "metadata": {},
     "output_type": "execute_result"
    }
   ],
   "source": [
    "phi_tensor.child.data_subjects[phi_tensor.child.child!=0]"
   ]
  },
  {
   "cell_type": "code",
   "execution_count": 86,
   "id": "c9909466-0ff5-423d-b486-43aaf942989c",
   "metadata": {},
   "outputs": [],
   "source": [
    "phi_tensor.child.child =10000"
   ]
  },
  {
   "cell_type": "code",
   "execution_count": 97,
   "id": "f1f047a4-a56f-4488-af4c-d757f12a7b5c",
   "metadata": {},
   "outputs": [],
   "source": [
    "phi_tensor.child.child = np.repeat(np.array([10000]),25).reshape(5,5)"
   ]
  },
  {
   "cell_type": "code",
   "execution_count": 116,
   "id": "cd091b0d-da95-46df-99b4-080261241101",
   "metadata": {},
   "outputs": [],
   "source": [
    "import numpy as np"
   ]
  },
  {
   "cell_type": "code",
   "execution_count": 127,
   "id": "614c4105-ec96-4bcf-b0f5-4b1d90777494",
   "metadata": {},
   "outputs": [],
   "source": [
    "a = np.array([[1,2,3],[4,5,6]])"
   ]
  },
  {
   "cell_type": "code",
   "execution_count": 138,
   "id": "9bbf12fb-acbf-4fa6-9f40-7cc2ed870669",
   "metadata": {},
   "outputs": [
    {
     "data": {
      "text/plain": [
       "5"
      ]
     },
     "execution_count": 138,
     "metadata": {},
     "output_type": "execute_result"
    }
   ],
   "source": [
    "a.ptp()"
   ]
  },
  {
   "cell_type": "code",
   "execution_count": 146,
   "id": "870b05ad-0777-4b72-a878-5e0c56aca4e6",
   "metadata": {},
   "outputs": [
    {
     "data": {
      "text/plain": [
       "PhiTensor(child=0.9570132629588448, min_vals=<lazyrepeatarray data: 0 -> shape: ()>, max_vals=<lazyrepeatarray data: [1] -> shape: ()>)"
      ]
     },
     "execution_count": 146,
     "metadata": {},
     "output_type": "execute_result"
    }
   ],
   "source": [
    "phi_tensor.child.ptp()"
   ]
  }
 ],
 "metadata": {
  "kernelspec": {
   "display_name": "Python 3 (ipykernel)",
   "language": "python",
   "name": "python3"
  },
  "language_info": {
   "codemirror_mode": {
    "name": "ipython",
    "version": 3
   },
   "file_extension": ".py",
   "mimetype": "text/x-python",
   "name": "python",
   "nbconvert_exporter": "python",
   "pygments_lexer": "ipython3",
   "version": "3.9.13"
  }
 },
 "nbformat": 4,
 "nbformat_minor": 5
}
