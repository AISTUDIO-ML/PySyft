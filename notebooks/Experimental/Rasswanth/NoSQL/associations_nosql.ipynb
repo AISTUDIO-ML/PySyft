{
 "cells": [
  {
   "cell_type": "code",
   "execution_count": 1,
   "id": "414d575a-25d3-4ac6-b58f-fb54ff53399b",
   "metadata": {},
   "outputs": [
    {
     "name": "stderr",
     "output_type": "stream",
     "text": [
      "/Users/rasswanth/PySyft/.tox/syft.jupyter/lib/python3.9/site-packages/jax/_src/lib/__init__.py:33: UserWarning: JAX on Mac ARM machines is experimental and minimally tested. Please see https://github.com/google/jax/issues/5501 in the event of problems.\n",
      "  warnings.warn(\"JAX on Mac ARM machines is experimental and minimally tested. \"\n"
     ]
    }
   ],
   "source": [
    "import syft as sy"
   ]
  },
  {
   "cell_type": "code",
   "execution_count": 2,
   "id": "b1caf5e6-e484-4a77-ac36-4f3485202813",
   "metadata": {},
   "outputs": [
    {
     "name": "stdout",
     "output_type": "stream",
     "text": [
      "WARNING: CHANGE YOUR USERNAME AND PASSWORD!!! \n",
      "\n",
      "Anyone can login as an admin to your node right now because your password is still the default PySyft username and password!!!\n",
      "\n",
      "Connecting to localhost... done! \t Logging into canada... done!\n",
      "WARNING: CHANGE YOUR USERNAME AND PASSWORD!!! \n",
      "\n",
      "Anyone can login as an admin to your node right now because your password is still the default PySyft username and password!!!\n",
      "\n",
      "Connecting to localhost... done! \t Logging into test_network_1... done!\n"
     ]
    }
   ],
   "source": [
    "domain = sy.login(email=\"info@openmined.org\", password=\"changethis\",port=8081)\n",
    "network = sy.login(email=\"info@openmined.org\", password=\"changethis\",port=9081)"
   ]
  },
  {
   "cell_type": "code",
   "execution_count": 3,
   "id": "3c7e9485-949b-453b-9365-676e42f0e520",
   "metadata": {},
   "outputs": [
    {
     "name": "stdout",
     "output_type": "stream",
     "text": [
      "1/3 Joining Network\n",
      "2/3 Secure VPN Connected\n",
      "ConnectionTimeoutError: Node was not able to process your request in time.  Retrying 3  ...\n",
      "3/3 Network Registration Complete\n"
     ]
    }
   ],
   "source": [
    "domain.apply_to_network(network)"
   ]
  },
  {
   "cell_type": "code",
   "execution_count": 6,
   "id": "7a706fbc-3e3f-47b9-888e-1d37ab547ae5",
   "metadata": {},
   "outputs": [
    {
     "name": "stdout",
     "output_type": "stream",
     "text": [
      "WARNING: CHANGE YOUR USERNAME AND PASSWORD!!! \n",
      "\n",
      "Anyone can login as an admin to your node right now because your password is still the default PySyft username and password!!!\n",
      "\n",
      "Connecting to localhost... done! \t Logging into italy... done!\n"
     ]
    }
   ],
   "source": [
    "italy = sy.login(email=\"info@openmined.org\", password=\"changethis\",port=8082)"
   ]
  },
  {
   "cell_type": "code",
   "execution_count": 7,
   "id": "fc85f2d3-2037-48bc-b69a-54cca0cd0c47",
   "metadata": {},
   "outputs": [
    {
     "name": "stdout",
     "output_type": "stream",
     "text": [
      "1/3 Joining Network\n",
      "2/3 Secure VPN Connected\n",
      "ConnectionTimeoutError: Node was not able to process your request in time.  Retrying 3  ...\n",
      "3/3 Network Registration Complete\n"
     ]
    }
   ],
   "source": [
    "italy.apply_to_network(network)"
   ]
  },
  {
   "cell_type": "code",
   "execution_count": 10,
   "id": "8c2ce89f-b1c4-4f8e-a163-a5e5be8d3e9c",
   "metadata": {},
   "outputs": [
    {
     "data": {
      "text/plain": [
       "{'status': 'ok',\n",
       " 'connected': True,\n",
       " 'host': {'ip': '100.64.0.2',\n",
       "  'hostname': 'test-network-1',\n",
       "  'network': 'omnet',\n",
       "  'os': 'linux',\n",
       "  'connection_info': '-',\n",
       "  'connection_status': 'n/a',\n",
       "  'connection_type': 'n/a'},\n",
       " 'peers': [{'ip': '100.64.0.1',\n",
       "   'hostname': 'canada',\n",
       "   'network': 'omnet',\n",
       "   'os': 'linux',\n",
       "   'connection_info': 'active; relay \"blr\"; offline, tx 2640 rx 3616',\n",
       "   'connection_status': 'active',\n",
       "   'connection_type': 'relay'},\n",
       "  {'ip': '100.64.0.3',\n",
       "   'hostname': 'italy',\n",
       "   'network': 'omnet',\n",
       "   'os': 'linux',\n",
       "   'connection_info': 'active; relay \"blr\"; offline, tx 2528 rx 4244',\n",
       "   'connection_status': 'active',\n",
       "   'connection_type': 'relay'}]}"
      ]
     },
     "execution_count": 10,
     "metadata": {},
     "output_type": "execute_result"
    }
   ],
   "source": [
    "network.vpn_status()"
   ]
  },
  {
   "cell_type": "code",
   "execution_count": 12,
   "id": "1f02190f-63c0-4e33-9205-86c9215209a7",
   "metadata": {},
   "outputs": [
    {
     "data": {
      "text/plain": [
       "<DomainClient - canada: <UID: afa511a6b82749fbb557445960e9af55>>"
      ]
     },
     "execution_count": 12,
     "metadata": {},
     "output_type": "execute_result"
    }
   ],
   "source": [
    "domain"
   ]
  },
  {
   "cell_type": "code",
   "execution_count": null,
   "id": "c0894f0f-2312-4342-9a5c-b93888ac210f",
   "metadata": {},
   "outputs": [],
   "source": [
    "network.vpn_status()"
   ]
  },
  {
   "cell_type": "code",
   "execution_count": null,
   "id": "d7e51811-0e92-4c83-938f-8ea476395e5a",
   "metadata": {},
   "outputs": [],
   "source": [
    "network.association[1].accept()"
   ]
  },
  {
   "cell_type": "code",
   "execution_count": null,
   "id": "351f9716-e0ed-48f4-bb0c-5f8ace0032f1",
   "metadata": {},
   "outputs": [],
   "source": [
    "network.association.all()"
   ]
  },
  {
   "cell_type": "code",
   "execution_count": null,
   "id": "7cfb7deb-e5ff-4e19-8641-f590d7a9b0c1",
   "metadata": {},
   "outputs": [],
   "source": [
    "network.association[1].accept()"
   ]
  },
  {
   "cell_type": "code",
   "execution_count": null,
   "id": "c7613958-3f7f-4c7a-8fba-800b0dcf4917",
   "metadata": {},
   "outputs": [],
   "source": [
    "domain.association[1].accept()"
   ]
  },
  {
   "cell_type": "code",
   "execution_count": null,
   "id": "c926df20-fd9d-44f9-b226-9bba978b34cd",
   "metadata": {},
   "outputs": [],
   "source": [
    "domain.vpn_status()"
   ]
  },
  {
   "cell_type": "code",
   "execution_count": null,
   "id": "0703beb7-f3b5-4278-b359-4ab85bb77f9e",
   "metadata": {},
   "outputs": [],
   "source": [
    "network.version"
   ]
  },
  {
   "cell_type": "code",
   "execution_count": null,
   "id": "9418af37-47c0-4595-92bd-ac69f3daba35",
   "metadata": {},
   "outputs": [],
   "source": [
    "domain.version"
   ]
  },
  {
   "cell_type": "code",
   "execution_count": null,
   "id": "cc82f288-1b78-45cf-9df2-cca4eaed0dd5",
   "metadata": {},
   "outputs": [],
   "source": [
    "domain.vpn_status()"
   ]
  },
  {
   "cell_type": "code",
   "execution_count": null,
   "id": "c62608fa-03be-42af-9baf-0c5143c720cc",
   "metadata": {},
   "outputs": [],
   "source": [
    "italy = sy.login(email=\"info@openmined.org\", password=\"changethis\",port=8082)\n"
   ]
  },
  {
   "cell_type": "code",
   "execution_count": null,
   "id": "6cca5e26-4d43-4ec9-800e-966e34f6e672",
   "metadata": {},
   "outputs": [],
   "source": [
    "italy.apply_to_network(network)"
   ]
  },
  {
   "cell_type": "code",
   "execution_count": null,
   "id": "317560a1-1343-451a-bfcf-e7e147a7a48a",
   "metadata": {},
   "outputs": [],
   "source": [
    "italy.vpn_status()"
   ]
  },
  {
   "cell_type": "code",
   "execution_count": null,
   "id": "bba447a0-c658-45fc-8166-f4361f069f7b",
   "metadata": {},
   "outputs": [],
   "source": [
    "network.vpn_status()"
   ]
  }
 ],
 "metadata": {
  "kernelspec": {
   "display_name": "Python 3 (ipykernel)",
   "language": "python",
   "name": "python3"
  },
  "language_info": {
   "codemirror_mode": {
    "name": "ipython",
    "version": 3
   },
   "file_extension": ".py",
   "mimetype": "text/x-python",
   "name": "python",
   "nbconvert_exporter": "python",
   "pygments_lexer": "ipython3",
   "version": "3.9.13"
  }
 },
 "nbformat": 4,
 "nbformat_minor": 5
}
