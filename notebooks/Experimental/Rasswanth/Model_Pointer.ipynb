{
 "cells": [
  {
   "cell_type": "code",
   "execution_count": 1,
   "id": "15add2e6-8190-4228-820b-e12af67c78e6",
   "metadata": {},
   "outputs": [],
   "source": [
    "import syft as sy\n",
    "from syft.core.tensor import nn"
   ]
  },
  {
   "cell_type": "code",
   "execution_count": 2,
   "id": "3058665a-8f08-4d20-9624-0bce1f55fb75",
   "metadata": {},
   "outputs": [],
   "source": [
    "net = nn.Model()\n",
    "net.add(nn.Convolution(1, (3, 3), input_shape=(None, 1, 28, 28)))\n",
    "\n",
    "net.add(nn.MaxPool((2, 2)))\n",
    "net.add(nn.Convolution(2, (4, 4)))\n",
    "\n",
    "net.add(nn.MaxPool((2, 2)))\n",
    "\n",
    "net.compile()"
   ]
  },
  {
   "cell_type": "code",
   "execution_count": 3,
   "id": "60c8741c-404f-4f18-ade8-8257a97f4fea",
   "metadata": {},
   "outputs": [
    {
     "name": "stdout",
     "output_type": "stream",
     "text": [
      "WARNING: CHANGE YOUR USERNAME AND PASSWORD!!! \n",
      "\n",
      "Anyone can login as an admin to your node right now because your password is still the default PySyft username and password!!!\n",
      "\n",
      "Connecting to localhost... done! \t Logging into canada... done!\n"
     ]
    }
   ],
   "source": [
    "domain = sy.login(email=\"info@openmined.org\",password=\"changethis\",port=8081)"
   ]
  },
  {
   "cell_type": "code",
   "execution_count": 4,
   "id": "056da3aa-80f4-4268-af37-7267e95f5cba",
   "metadata": {},
   "outputs": [],
   "source": [
    "ptr = net.send(domain)"
   ]
  },
  {
   "cell_type": "code",
   "execution_count": 15,
   "id": "dfdf466c-50f4-40d7-9ca0-3bc8fce4321f",
   "metadata": {},
   "outputs": [
    {
     "data": {
      "text/plain": [
       "<ModelPointer -> canada:8146190ff20047f3a6528813898fb8ab>"
      ]
     },
     "execution_count": 15,
     "metadata": {},
     "output_type": "execute_result"
    }
   ],
   "source": [
    "ptr"
   ]
  },
  {
   "cell_type": "code",
   "execution_count": 14,
   "id": "abcb0fdf-8478-49d0-adb9-02e0ea840dee",
   "metadata": {},
   "outputs": [
    {
     "data": {
      "text/plain": [
       "<ModelPointer -> canada:8146190ff20047f3a6528813898fb8ab>"
      ]
     },
     "execution_count": 14,
     "metadata": {},
     "output_type": "execute_result"
    }
   ],
   "source": [
    "ptr"
   ]
  }
 ],
 "metadata": {
  "kernelspec": {
   "display_name": "Python 3 (ipykernel)",
   "language": "python",
   "name": "python3"
  },
  "language_info": {
   "codemirror_mode": {
    "name": "ipython",
    "version": 3
   },
   "file_extension": ".py",
   "mimetype": "text/x-python",
   "name": "python",
   "nbconvert_exporter": "python",
   "pygments_lexer": "ipython3",
   "version": "3.9.4"
  }
 },
 "nbformat": 4,
 "nbformat_minor": 5
}
