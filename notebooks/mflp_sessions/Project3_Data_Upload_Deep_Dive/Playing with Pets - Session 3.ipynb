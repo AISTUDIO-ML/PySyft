{
 "cells": [
  {
   "cell_type": "markdown",
   "id": "8caf8a43",
   "metadata": {},
   "source": [
    "### Playing with PETs\n",
    "\n",
    "In the previous sessions we have a brief introduction on how to launch a domain/network and do basic computations on private data.\n",
    "\n",
    "In todays session we will dive more in detail on what is takes to upload a dataset."
   ]
  },
  {
   "cell_type": "markdown",
   "id": "e05f1dbd",
   "metadata": {},
   "source": [
    "### Prerequisites\n",
    "\n",
    "- conda or miniconda installed. We can refer to [this link](https://docs.anaconda.com/anaconda/install/) to install conda.\n",
    "- Python  3.7 or higher. If we have conda already installed but have a lower Python version installed, then we can create a new virtual environment as follows:\n",
    "    - `conda create -n pysyft python=3.9`\n",
    "    - `conda activate pysyft`\n",
    "- Jupyter notebook or jupyterlab.\n",
    "    - To install jupyter notebook - `conda install jupyter` or `pip install notebook`\n",
    "    - To install jupyterlab - `conda install -c conda-forge jupyterlab` or `pip install jupyterlab`\n",
    "    \n",
    "Please refer to the [PySyft documentation](https://openmined.github.io/PySyft/getting_started/index.html) for more detailed OSwise installation instructions."
   ]
  },
  {
   "cell_type": "markdown",
   "id": "61eb77b5",
   "metadata": {},
   "source": [
    "### HAGRID CLI Tool\n",
    "\n",
    "Hagrid is a command line tool used to deploy a Domain or Network node."
   ]
  },
  {
   "cell_type": "code",
   "execution_count": null,
   "id": "2c18d2bb",
   "metadata": {},
   "outputs": [],
   "source": [
    "!pip install hagrid"
   ]
  },
  {
   "cell_type": "code",
   "execution_count": 2,
   "id": "0601f089",
   "metadata": {},
   "outputs": [
    {
     "name": "stdout",
     "output_type": "stream",
     "text": [
      "\u001b[1;31mHA\u001b[0m\u001b[1;35mGrid\u001b[0m! 🧙 \u001b[1;31mEDITABLE DEV MODE\u001b[0m 🚨\r\n",
      "┏━━━━━━━━━━━━━━━━━━━━━┳━━━━━━━┓\r\n",
      "┃\u001b[1m \u001b[0m\u001b[1mDependency         \u001b[0m\u001b[1m \u001b[0m┃\u001b[1m \u001b[0m\u001b[1mFound\u001b[0m\u001b[1m \u001b[0m┃\r\n",
      "┡━━━━━━━━━━━━━━━━━━━━━╇━━━━━━━┩\r\n",
      "│\u001b[35m \u001b[0m\u001b[35m📘 ansible-playbook\u001b[0m\u001b[35m \u001b[0m│    ✅ │\r\n",
      "│\u001b[35m \u001b[0m\u001b[35m🐳 docker          \u001b[0m\u001b[35m \u001b[0m│    ✅ │\r\n",
      "│\u001b[35m \u001b[0m\u001b[35m📁 git             \u001b[0m\u001b[35m \u001b[0m│    ✅ │\r\n",
      "└─────────────────────┴───────┘\r\n",
      "Usage: hagrid \u001b[1m[\u001b[0mOPTIONS\u001b[1m]\u001b[0m COMMAND \u001b[1m[\u001b[0mARGS\u001b[1m]\u001b[0m\u001b[33m...\u001b[0m\r\n",
      "\r\n",
      "Options:\r\n",
      "  --help  Show this message and exit.\r\n",
      "\r\n",
      "Commands:\r\n",
      "  check       Check health of an IP address/addresses or a resource group\r\n",
      "  clean       Restore some part of the hagrid installation or deployment...\r\n",
      "  debug       Show HAGrid debug information\r\n",
      "  land        Stop a running PyGrid domain/network node.\r\n",
      "  launch      Start a new PyGrid domain/network node!\r\n",
      "  quickstart  Launch a Syft + Jupyter Session with a Notebook URL / Path\r\n",
      "  ssh         SSH into the IP address or a resource group\r\n",
      "  version     Show HAGrid info\r\n"
     ]
    }
   ],
   "source": [
    "!hagrid"
   ]
  },
  {
   "cell_type": "markdown",
   "id": "ba2f4b35",
   "metadata": {},
   "source": [
    "### Install syft"
   ]
  },
  {
   "cell_type": "code",
   "execution_count": null,
   "id": "0b80eef5",
   "metadata": {},
   "outputs": [],
   "source": [
    "!pip install syft --pre"
   ]
  },
  {
   "cell_type": "markdown",
   "id": "a8b283e3",
   "metadata": {},
   "source": [
    "### Launch a Domain Node"
   ]
  },
  {
   "cell_type": "markdown",
   "id": "77ff93b8",
   "metadata": {},
   "source": [
    "We use the launch command to start our private data server. \n",
    "\n",
    "The launch command is follows the given pattern:\n",
    "`hagrid launch {name of the node} {type of the node: domain/network} --tag=latest`.\n",
    "\n",
    "`tag=latest` means that we want to fetch the images (required by the PySyft) with tag=latest from dockerhub.\n",
    "\n",
    "There are a bunch other options or flags which we can pass while launching a node. We can see them as below."
   ]
  },
  {
   "cell_type": "code",
   "execution_count": 2,
   "id": "826081d9",
   "metadata": {},
   "outputs": [
    {
     "name": "stdout",
     "output_type": "stream",
     "text": [
      "Usage: hagrid launch [OPTIONS] [ARGS]...\r\n",
      "\r\n",
      "  Start a new PyGrid domain/network node!\r\n",
      "\r\n",
      "Options:\r\n",
      "  --username TEXT                 Optional: the username for provisioning the\r\n",
      "                                  remote host\r\n",
      "  --key_path TEXT                 Optional: the path to the key file for\r\n",
      "                                  provisioning the remote host\r\n",
      "  --password TEXT                 Optional: the password for provisioning the\r\n",
      "                                  remote host\r\n",
      "  --repo TEXT                     Optional: repo to fetch source from\r\n",
      "  --branch TEXT                   Optional: branch to monitor for updates\r\n",
      "  --tail TEXT                     Optional: don't tail logs on launch\r\n",
      "  --headless TEXT                 Optional: don't start the frontend container\r\n",
      "  --cmd TEXT                      Optional: print the cmd without running it\r\n",
      "  --jupyter                       Optional: enable Jupyter Notebooks\r\n",
      "  --build TEXT                    Optional: enable or disable forcing re-build\r\n",
      "  --provision TEXT                Optional: enable or disable provisioning VMs\r\n",
      "  --node_count INTEGER RANGE      Optional: number of independent nodes/VMs to\r\n",
      "                                  launch  [1<=x<=250]\r\n",
      "  --auth_type [key|password]\r\n",
      "  --ansible_extras TEXT\r\n",
      "  --tls                           Launch with TLS configuration\r\n",
      "  --test                          Launch with test configuration\r\n",
      "  --dev                           Shortcut for development release\r\n",
      "  --release [production|development]\r\n",
      "                                  Optional: choose between production and\r\n",
      "                                  development release\r\n",
      "  --cert_store_path TEXT          Optional: remote path to store and load TLS\r\n",
      "                                  cert and key\r\n",
      "  --upload_tls_cert TEXT          Optional: local path to TLS cert to upload\r\n",
      "                                  and store at --cert_store_path\r\n",
      "  --upload_tls_key TEXT           Optional: local path to TLS private key to\r\n",
      "                                  upload and store at --cert_store_path\r\n",
      "  --use_blob_storage TEXT         Optional: flag to use blob storage\r\n",
      "  --image_name TEXT               Optional: image to use for the VM\r\n",
      "  --tag TEXT                      Optional: container image tag to use\r\n",
      "  --build_src TEXT                Optional: git branch to use for launch /\r\n",
      "                                  build operations\r\n",
      "  --platform TEXT                 Optional: run docker with a different\r\n",
      "                                  platform like linux/arm64\r\n",
      "  --vpn TEXT                      Optional: turn tailscale vpn container on or\r\n",
      "                                  off\r\n",
      "  --silent                        Optional: prevent lots of launch output\r\n",
      "  --help                          Show this message and exit.\r\n"
     ]
    }
   ],
   "source": [
    "!hagrid launch --help"
   ]
  },
  {
   "cell_type": "markdown",
   "id": "6109c7c7",
   "metadata": {},
   "source": [
    "Now if you want to stop the running node or stack, we can use the `hagrid land` command.\n",
    "\n",
    "To stop a particular domain/network node, we can specify the land command followed by the domain/network node name.\n",
    "\n",
    "e.g. if the node is launch as follows:\n",
    "\n",
    "`hagrid launch canada domain --tag=latest`\n",
    "\n",
    "then, we can stop this domain as follows:\n",
    "\n",
    "`hagrid land canada domain`\n",
    "\n",
    "Moreover, if you stop all running domain/network nodes at once, we can call the command\n",
    "\n",
    "`hagrid land all`\n",
    "\n",
    "This kills all the running containers.\n"
   ]
  },
  {
   "cell_type": "markdown",
   "id": "324d4422",
   "metadata": {},
   "source": [
    "### Ctop\n",
    "\n",
    "Ctop is a handy command line tool to view running containers/services. \n",
    "\n",
    "We can type `ctop` in the command line and we can see the list of containers running on the system.\n",
    "We can navigate across different containers using arrow keys and press `q` on the keyboard to exit the tool.\n",
    "\n",
    "\n",
    "For installation details click on the following link:\n",
    "https://github.com/bcicen/ctop"
   ]
  },
  {
   "cell_type": "markdown",
   "id": "8a5cfcc3",
   "metadata": {},
   "source": [
    "### Login into Domain"
   ]
  },
  {
   "cell_type": "code",
   "execution_count": 81,
   "id": "82de3d19",
   "metadata": {},
   "outputs": [],
   "source": [
    "import syft as sy"
   ]
  },
  {
   "cell_type": "code",
   "execution_count": 10,
   "id": "8549d4be",
   "metadata": {},
   "outputs": [],
   "source": [
    "# Run the following cell to see the function signature / parameters that the login function takes.\n",
    "\n",
    "sy.login?"
   ]
  },
  {
   "cell_type": "code",
   "execution_count": 82,
   "id": "4d12f2da",
   "metadata": {},
   "outputs": [
    {
     "name": "stdout",
     "output_type": "stream",
     "text": [
      "WARNING: CHANGE YOUR USERNAME AND PASSWORD!!! \n",
      "\n",
      "Anyone can login as an admin to your node right now because your password is still the default PySyft username and password!!!\n",
      "\n",
      "Connecting to localhost... done! \t Logging into canada... done!\n"
     ]
    }
   ],
   "source": [
    "domain_client = sy.login(url=\"localhost\", port=8081, email=\"info@openmined.org\", password=\"changethis\")"
   ]
  },
  {
   "cell_type": "code",
   "execution_count": 83,
   "id": "43eb2b79",
   "metadata": {},
   "outputs": [
    {
     "data": {
      "text/plain": [
       "'canada'"
      ]
     },
     "execution_count": 83,
     "metadata": {},
     "output_type": "execute_result"
    }
   ],
   "source": [
    "# View name\n",
    "domain_client.name"
   ]
  },
  {
   "cell_type": "code",
   "execution_count": 84,
   "id": "81ba0a94",
   "metadata": {},
   "outputs": [
    {
     "data": {
      "text/html": [
       "(no datasets found)"
      ],
      "text/plain": [
       "<syft.core.node.common.client_manager.dataset_api.DatasetRequestAPI at 0x7fd47d0b7610>"
      ]
     },
     "execution_count": 84,
     "metadata": {},
     "output_type": "execute_result"
    }
   ],
   "source": [
    "# List the datasets present on the domain\n",
    "domain_client.datasets"
   ]
  },
  {
   "cell_type": "code",
   "execution_count": 85,
   "id": "3a3cd6cf",
   "metadata": {},
   "outputs": [
    {
     "data": {
      "text/html": [
       "<div>\n",
       "<style scoped>\n",
       "    .dataframe tbody tr th:only-of-type {\n",
       "        vertical-align: middle;\n",
       "    }\n",
       "\n",
       "    .dataframe tbody tr th {\n",
       "        vertical-align: top;\n",
       "    }\n",
       "\n",
       "    .dataframe thead th {\n",
       "        text-align: right;\n",
       "    }\n",
       "</style>\n",
       "<table border=\"1\" class=\"dataframe\">\n",
       "  <thead>\n",
       "    <tr style=\"text-align: right;\">\n",
       "      <th></th>\n",
       "      <th>id</th>\n",
       "      <th>email</th>\n",
       "      <th>name</th>\n",
       "      <th>budget</th>\n",
       "      <th>verify_key</th>\n",
       "      <th>role</th>\n",
       "      <th>added_by</th>\n",
       "      <th>website</th>\n",
       "      <th>institution</th>\n",
       "      <th>daa_pdf</th>\n",
       "      <th>created_at</th>\n",
       "      <th>budget_spent</th>\n",
       "    </tr>\n",
       "  </thead>\n",
       "  <tbody>\n",
       "    <tr>\n",
       "      <th>0</th>\n",
       "      <td>1</td>\n",
       "      <td>info@openmined.org</td>\n",
       "      <td>Jane Doe</td>\n",
       "      <td>5.55</td>\n",
       "      <td>82ff72f309716dafab2eef6d2dfcec9f784924aeb92848...</td>\n",
       "      <td>Owner</td>\n",
       "      <td>None</td>\n",
       "      <td>None</td>\n",
       "      <td>None</td>\n",
       "      <td>None</td>\n",
       "      <td>2022-08-25 11:34:36.552475</td>\n",
       "      <td>5.55</td>\n",
       "    </tr>\n",
       "  </tbody>\n",
       "</table>\n",
       "</div>"
      ],
      "text/plain": [
       "<syft.core.node.common.client_manager.user_api.UserRequestAPI at 0x7fd47d0b7520>"
      ]
     },
     "execution_count": 85,
     "metadata": {},
     "output_type": "execute_result"
    }
   ],
   "source": [
    "# List the registered users that are there on the domain node\n",
    "domain_client.users"
   ]
  },
  {
   "cell_type": "code",
   "execution_count": 86,
   "id": "455cc0d3",
   "metadata": {},
   "outputs": [
    {
     "data": {
      "text/html": [
       "<div>\n",
       "<style scoped>\n",
       "    .dataframe tbody tr th:only-of-type {\n",
       "        vertical-align: middle;\n",
       "    }\n",
       "\n",
       "    .dataframe tbody tr th {\n",
       "        vertical-align: top;\n",
       "    }\n",
       "\n",
       "    .dataframe thead th {\n",
       "        text-align: right;\n",
       "    }\n",
       "</style>\n",
       "<table border=\"1\" class=\"dataframe\">\n",
       "  <thead>\n",
       "    <tr style=\"text-align: right;\">\n",
       "      <th></th>\n",
       "    </tr>\n",
       "  </thead>\n",
       "  <tbody>\n",
       "  </tbody>\n",
       "</table>\n",
       "</div>"
      ],
      "text/plain": [
       "[]"
      ]
     },
     "execution_count": 86,
     "metadata": {},
     "output_type": "execute_result"
    }
   ],
   "source": [
    "# List variables stored in the domain store\n",
    "domain_client.store"
   ]
  },
  {
   "cell_type": "code",
   "execution_count": 87,
   "id": "6d54a4f0",
   "metadata": {},
   "outputs": [
    {
     "data": {
      "text/plain": [
       "{'status': 'ok', 'connected': False, 'host': {}, 'peers': []}"
      ]
     },
     "execution_count": 87,
     "metadata": {},
     "output_type": "execute_result"
    }
   ],
   "source": [
    "# To check if our current domain is connected to any other node via VPN\n",
    "domain_client.vpn_status()"
   ]
  },
  {
   "cell_type": "markdown",
   "id": "b7a6f252",
   "metadata": {},
   "source": [
    "### Load Dataset"
   ]
  },
  {
   "cell_type": "code",
   "execution_count": 88,
   "id": "6ab35bd7",
   "metadata": {},
   "outputs": [],
   "source": [
    "# Let's say we have a list of students and their total marks\n",
    "\n",
    "import numpy as np\n",
    "import pandas as pd\n",
    "\n",
    "classA = [\n",
    "    {\"StudentName\": \"Bob\", \"TotalMarks\": 65},\n",
    "    {\"StudentName\": \"Alice\", \"TotalMarks\": 75},\n",
    "    {\"StudentName\": \"Sheldon\", \"TotalMarks\": 90},\n",
    "    {\"StudentName\": \"Leonard\", \"TotalMarks\": 80},\n",
    "    {\"StudentName\": \"Amy\", \"TotalMarks\": 95},\n",
    "]\n",
    "\n",
    "classA_df = pd.DataFrame(classA)"
   ]
  },
  {
   "cell_type": "code",
   "execution_count": 89,
   "id": "1902a250",
   "metadata": {},
   "outputs": [
    {
     "data": {
      "text/html": [
       "<div>\n",
       "<style scoped>\n",
       "    .dataframe tbody tr th:only-of-type {\n",
       "        vertical-align: middle;\n",
       "    }\n",
       "\n",
       "    .dataframe tbody tr th {\n",
       "        vertical-align: top;\n",
       "    }\n",
       "\n",
       "    .dataframe thead th {\n",
       "        text-align: right;\n",
       "    }\n",
       "</style>\n",
       "<table border=\"1\" class=\"dataframe\">\n",
       "  <thead>\n",
       "    <tr style=\"text-align: right;\">\n",
       "      <th></th>\n",
       "      <th>StudentName</th>\n",
       "      <th>TotalMarks</th>\n",
       "    </tr>\n",
       "  </thead>\n",
       "  <tbody>\n",
       "    <tr>\n",
       "      <th>0</th>\n",
       "      <td>Bob</td>\n",
       "      <td>65</td>\n",
       "    </tr>\n",
       "    <tr>\n",
       "      <th>1</th>\n",
       "      <td>Alice</td>\n",
       "      <td>75</td>\n",
       "    </tr>\n",
       "    <tr>\n",
       "      <th>2</th>\n",
       "      <td>Sheldon</td>\n",
       "      <td>90</td>\n",
       "    </tr>\n",
       "    <tr>\n",
       "      <th>3</th>\n",
       "      <td>Leonard</td>\n",
       "      <td>80</td>\n",
       "    </tr>\n",
       "    <tr>\n",
       "      <th>4</th>\n",
       "      <td>Amy</td>\n",
       "      <td>95</td>\n",
       "    </tr>\n",
       "  </tbody>\n",
       "</table>\n",
       "</div>"
      ],
      "text/plain": [
       "  StudentName  TotalMarks\n",
       "0         Bob          65\n",
       "1       Alice          75\n",
       "2     Sheldon          90\n",
       "3     Leonard          80\n",
       "4         Amy          95"
      ]
     },
     "execution_count": 89,
     "metadata": {},
     "output_type": "execute_result"
    }
   ],
   "source": [
    "classA_df"
   ]
  },
  {
   "cell_type": "code",
   "execution_count": 90,
   "id": "2ecf563e",
   "metadata": {},
   "outputs": [],
   "source": [
    "# Create a Syft Tensor\n",
    "\n",
    "marks_tensor =  sy.Tensor(np.array(classA_df[\"TotalMarks\"], dtype=np.int64))"
   ]
  },
  {
   "cell_type": "code",
   "execution_count": 91,
   "id": "43efe470",
   "metadata": {},
   "outputs": [
    {
     "data": {
      "text/plain": [
       "(Tensor(child=[65 75 90 80 95]), syft.core.tensor.tensor.Tensor)"
      ]
     },
     "execution_count": 91,
     "metadata": {},
     "output_type": "execute_result"
    }
   ],
   "source": [
    "marks_tensor, type(marks_tensor)"
   ]
  },
  {
   "cell_type": "code",
   "execution_count": 8,
   "id": "6b981e40",
   "metadata": {},
   "outputs": [],
   "source": [
    "# We need to add dp metadata to our marks_tensor,\n",
    "# Let's check the function signature of the method below.\n",
    "\n",
    "marks_tensor.annotated_with_dp_metadata?"
   ]
  },
  {
   "cell_type": "code",
   "execution_count": 92,
   "id": "ec8241de",
   "metadata": {},
   "outputs": [
    {
     "name": "stdout",
     "output_type": "stream",
     "text": [
      "Tensor annotated with DP Metadata\n"
     ]
    }
   ],
   "source": [
    "# Add DP metadata to the marks_tensor\n",
    "\n",
    "dp_annotated_marks_tensor = marks_tensor.annotated_with_dp_metadata(\n",
    "    min_val=0, max_val=100, data_subjects=classA_df[\"StudentName\"].values\n",
    ")"
   ]
  },
  {
   "cell_type": "code",
   "execution_count": 93,
   "id": "2396f7d1",
   "metadata": {},
   "outputs": [
    {
     "data": {
      "text/plain": [
       "array([DataSubjectArray: {'Bob'}, DataSubjectArray: {'Alice'},\n",
       "       DataSubjectArray: {'Sheldon'}, DataSubjectArray: {'Leonard'},\n",
       "       DataSubjectArray: {'Amy'}], dtype=object)"
      ]
     },
     "execution_count": 93,
     "metadata": {},
     "output_type": "execute_result"
    }
   ],
   "source": [
    "dp_annotated_marks_tensor.child.data_subjects"
   ]
  },
  {
   "cell_type": "code",
   "execution_count": 94,
   "id": "a903fb8d",
   "metadata": {},
   "outputs": [
    {
     "data": {
      "text/plain": [
       "(<lazyrepeatarray data: [0] -> shape: (5,)>,\n",
       " <lazyrepeatarray data: [100] -> shape: (5,)>)"
      ]
     },
     "execution_count": 94,
     "metadata": {},
     "output_type": "execute_result"
    }
   ],
   "source": [
    "dp_annotated_marks_tensor.child.min_vals, dp_annotated_marks_tensor.child.max_vals"
   ]
  },
  {
   "cell_type": "code",
   "execution_count": 92,
   "id": "71811f7a",
   "metadata": {},
   "outputs": [],
   "source": [
    "# Next we will upload the marks data to the domain node.\n",
    "# Let's check which method we can use and what is its function signature.\n",
    "\n",
    "domain_client.load_dataset?"
   ]
  },
  {
   "cell_type": "code",
   "execution_count": 95,
   "id": "d8ef7c88",
   "metadata": {},
   "outputs": [
    {
     "name": "stdout",
     "output_type": "stream",
     "text": [
      "Loading dataset...\r",
      "Loading dataset... checking assets...\r",
      "Loading dataset... checking dataset name for uniqueness...\r",
      "Loading dataset... checking dataset name for uniqueness...                                                                                                                    \r",
      "Loading dataset... checking asset types...                              \r",
      "Loading dataset... uploading...🚀                        "
     ]
    },
    {
     "name": "stderr",
     "output_type": "stream",
     "text": [
      "Uploading `Mathematics`: 100%|\u001b[32m████████████████████████████████████████\u001b[0m| 1/1 [00:00<00:00,  4.79it/s]\u001b[0m"
     ]
    },
    {
     "name": "stdout",
     "output_type": "stream",
     "text": [
      "\r",
      "Dataset is uploaded successfully !!! 🎉\n",
      "\n",
      "Run `<your client variable>.datasets` to see your new dataset loaded into your machine!\n"
     ]
    },
    {
     "name": "stderr",
     "output_type": "stream",
     "text": [
      "\n"
     ]
    }
   ],
   "source": [
    "# Upload marks data to the domain\n",
    "\n",
    "domain_client.load_dataset(\n",
    "    assets={\"Mathematics\": dp_annotated_marks_tensor},\n",
    "    name=\"Class A Sem 1 Performance Card\",\n",
    "    description=\"Semeter 1 Performance of class A\",\n",
    ")"
   ]
  },
  {
   "cell_type": "code",
   "execution_count": 96,
   "id": "e9712e29",
   "metadata": {},
   "outputs": [
    {
     "data": {
      "text/html": [
       "<style>\n",
       "                #myInput {\n",
       "                  background-position: 10px 12px; /* Position the search icon */\n",
       "                  background-repeat: no-repeat; /* Do not repeat the icon image */\n",
       "                  background-color: #bbb;\n",
       "                  width: 98%; /* Full-width */\n",
       "                  font-size: 14px; /* Increase font-size */\n",
       "                  padding: 12px 20px 12px 40px; /* Add some padding */\n",
       "                  border: 1px solid #ddd; /* Add a grey border */\n",
       "                  margin-bottom: 12px; /* Add some space below the input */\n",
       "                }\n",
       "\n",
       "                #myTable {\n",
       "                  border-collapse: collapse; /* Collapse borders */\n",
       "                  width: 100%; /* Full-width */\n",
       "                  border: 1px solid #ddd; /* Add a grey border */\n",
       "                  font-size: 14px; /* Increase font-size */\n",
       "                }\n",
       "\n",
       "                #myTable th, #myTable td {\n",
       "                  text-align: left; /* Left-align text */\n",
       "                  padding: 10px; /* Add padding */\n",
       "                }\n",
       "\n",
       "                #myTable tr {\n",
       "                  /* Add a bottom border to all table rows */\n",
       "                  border-bottom: 1px solid #ddd;\n",
       "                }\n",
       "\n",
       "                #myTable tr.header, #myTable tr:hover {\n",
       "                  /* Add a grey background color to the table header and on hover */\n",
       "                  background-color: #777;\n",
       "                }\n",
       "                </style>\n",
       "\n",
       "                <table id=\"myTable\" style=\"width:1000px\">\n",
       "                  <tr class=\"header\">\n",
       "                    <th style=\"width:30px\">Idx</th>\n",
       "                    <th style=\"width:20%;\">Name</th>\n",
       "                    <th style=\"width:35%;\">Description</th>\n",
       "                    <th style=\"width:20%;\">Assets</th>\n",
       "                    <th style=\"width:300px;\">Id</th>\n",
       "                  </tr>\n",
       "                \n",
       "\n",
       "          <tr>\n",
       "            <td>[0]</td>\n",
       "            <td>Class A Sem 1 Performance Card</td>\n",
       "            <td>Semeter 1 Performance of class A</td>\n",
       "            <td>[\"Mathematics\"] -> <class 'syft.core.tensor.tensor.Tensor'><br /><br /></td>\n",
       "            <td>572942ed-f3b1-4b86-81cd-c22ae79f9a23</td>\n",
       "          </tr>\n",
       "        </table>\n",
       "\n",
       "        <script>\n",
       "        function myFunction() {\n",
       "          // Declare variables\n",
       "          var input, filter, table, tr, td, i, txtValue;\n",
       "          input = document.getElementById(\"myInput\");\n",
       "          filter = input.value.toUpperCase();\n",
       "          table = document.getElementById(\"myTable\");\n",
       "          tr = table.getElementsByTagName(\"tr\");\n",
       "\n",
       "          // Loop through all table rows, and hide those who don't match the search query\n",
       "          for (i = 0; i < tr.length; i++) {\n",
       "            name_td = tr[i].getElementsByTagName(\"td\")[1];\n",
       "            desc_td = tr[i].getElementsByTagName(\"td\")[2];\n",
       "            asset_td = tr[i].getElementsByTagName(\"td\")[3];\n",
       "            id_td = tr[i].getElementsByTagName(\"td\")[4];\n",
       "            if (name_td || desc_td || asset_td || id_td) {\n",
       "              name_txtValue = name_td.textContent || name_td.innerText;\n",
       "              desc_txtValue = desc_td.textContent || name_td.innerText;\n",
       "              asset_txtValue = asset_td.textContent || name_td.innerText;\n",
       "              id_txtValue = id_td.textContent || name_td.innerText;\n",
       "              name_bool = name_txtValue.toUpperCase().indexOf(filter) > -1;\n",
       "              desc_bool = desc_txtValue.toUpperCase().indexOf(filter) > -1;\n",
       "              asset_bool = asset_txtValue.toUpperCase().indexOf(filter) > -1;\n",
       "              id_bool = id_txtValue.toUpperCase().indexOf(filter) > -1;\n",
       "              if (name_bool || desc_bool || asset_bool || id_bool) {\n",
       "                tr[i].style.display = \"\";\n",
       "              } else {\n",
       "                tr[i].style.display = \"none\";\n",
       "              }\n",
       "            }\n",
       "          }\n",
       "        }\n",
       "        </script>"
      ],
      "text/plain": [
       "<syft.core.node.common.client_manager.dataset_api.DatasetRequestAPI at 0x7fd47d0b7610>"
      ]
     },
     "execution_count": 96,
     "metadata": {},
     "output_type": "execute_result"
    }
   ],
   "source": [
    "# List available datasets\n",
    "\n",
    "domain_client.datasets"
   ]
  },
  {
   "cell_type": "code",
   "execution_count": 97,
   "id": "b2f954dc",
   "metadata": {},
   "outputs": [
    {
     "name": "stdout",
     "output_type": "stream",
     "text": [
      "Dataset: Class A Sem 1 Performance Card\n",
      "Description: Semeter 1 Performance of class A\n",
      "\n"
     ]
    },
    {
     "data": {
      "text/html": [
       "<style>\n",
       "        #myInput {\n",
       "          background-position: 10px 12px; /* Position the search icon */\n",
       "          background-repeat: no-repeat; /* Do not repeat the icon image */\n",
       "          background-color: #bbb;\n",
       "          width: 98%; /* Full-width */\n",
       "          font-size: 14px; /* Increase font-size */\n",
       "          padding: 12px 20px 12px 40px; /* Add some padding */\n",
       "          border: 1px solid #ddd; /* Add a grey border */\n",
       "          margin-bottom: 12px; /* Add some space below the input */\n",
       "        }\n",
       "\n",
       "        #myTable {\n",
       "          border-collapse: collapse; /* Collapse borders */\n",
       "          width: 50%; /* Full-width */\n",
       "          border: 1px solid #ddd; /* Add a grey border */\n",
       "          font-size: 14px; /* Increase font-size */\n",
       "        }\n",
       "\n",
       "        #myTable th, #myTable td {\n",
       "          text-align: left; /* Left-align text */\n",
       "          padding: 10px; /* Add padding */\n",
       "        }\n",
       "\n",
       "        #myTable tr {\n",
       "          /* Add a bottom border to all table rows */\n",
       "          border-bottom: 1px solid #ddd;\n",
       "        }\n",
       "\n",
       "        #myTable tr.header, #myTable tr:hover {\n",
       "          /* Add a grey background color to the table header and on hover */\n",
       "          background-color: #777;\n",
       "        }\n",
       "        </style>\n",
       "\n",
       "        <table id=\"myTable\">\n",
       "          <tr class=\"header\">\n",
       "            <th style=\"width:15%;\">Asset Key</th>\n",
       "            <th style=\"width:20%;\">Type</th>\n",
       "            <th style=\"width:10%;\">Shape</th>\n",
       "          </tr>\n",
       "        \n",
       "\n",
       "              <tr>\n",
       "            <td>[\"Mathematics\"]</td>\n",
       "            <td><class 'syft.core.tensor.tensor.Tensor'></td>\n",
       "            <td>(5,)</td>\n",
       "          </tr>\n",
       "        </table>\n",
       "\n",
       "        "
      ],
      "text/plain": [
       "<syft.core.node.common.client_manager.dataset_api.Dataset at 0x7fd47f392640>"
      ]
     },
     "execution_count": 97,
     "metadata": {},
     "output_type": "execute_result"
    }
   ],
   "source": [
    "# Select the dataset\n",
    "\n",
    "domain_client.datasets[0]"
   ]
  },
  {
   "cell_type": "code",
   "execution_count": 100,
   "id": "e9a81bcb",
   "metadata": {},
   "outputs": [],
   "source": [
    "# Select the Mathematics marks tensor\n",
    "classA_marks_dataset = domain_client.datasets[0]"
   ]
  },
  {
   "cell_type": "code",
   "execution_count": 101,
   "id": "58b95e14",
   "metadata": {},
   "outputs": [
    {
     "data": {
      "text/plain": [
       "array([36, 75, 53,  7, 84])\n",
       "\n",
       " (The data printed above is synthetic - it's an imitation of the real data.)"
      ]
     },
     "execution_count": 101,
     "metadata": {},
     "output_type": "execute_result"
    }
   ],
   "source": [
    "# View the maths_marks tensor\n",
    "# We can see it lists synthetic data and not the real one.\n",
    "maths_marks = classA_marks_dataset[\"Mathematics\"]\n",
    "maths_marks"
   ]
  },
  {
   "cell_type": "code",
   "execution_count": 105,
   "id": "1292c3a5",
   "metadata": {},
   "outputs": [
    {
     "data": {
      "text/plain": [
       "((5,), 'int64')"
      ]
     },
     "execution_count": 105,
     "metadata": {},
     "output_type": "execute_result"
    }
   ],
   "source": [
    "maths_marks.public_shape, maths_marks.public_dtype"
   ]
  },
  {
   "cell_type": "code",
   "execution_count": 106,
   "id": "a113d94f",
   "metadata": {},
   "outputs": [
    {
     "data": {
      "text/plain": [
       "<UID: 13574c2a804c4d0e8062447ce12c295f>"
      ]
     },
     "execution_count": 106,
     "metadata": {},
     "output_type": "execute_result"
    }
   ],
   "source": [
    "maths_marks.id_at_location"
   ]
  },
  {
   "cell_type": "code",
   "execution_count": 107,
   "id": "08880d66",
   "metadata": {},
   "outputs": [
    {
     "data": {
      "text/html": [
       "<div>\n",
       "<style scoped>\n",
       "    .dataframe tbody tr th:only-of-type {\n",
       "        vertical-align: middle;\n",
       "    }\n",
       "\n",
       "    .dataframe tbody tr th {\n",
       "        vertical-align: top;\n",
       "    }\n",
       "\n",
       "    .dataframe thead th {\n",
       "        text-align: right;\n",
       "    }\n",
       "</style>\n",
       "<table border=\"1\" class=\"dataframe\">\n",
       "  <thead>\n",
       "    <tr style=\"text-align: right;\">\n",
       "      <th></th>\n",
       "      <th>ID</th>\n",
       "      <th>Tags</th>\n",
       "      <th>Description</th>\n",
       "      <th>object_type</th>\n",
       "    </tr>\n",
       "  </thead>\n",
       "  <tbody>\n",
       "    <tr>\n",
       "      <th>0</th>\n",
       "      <td>&lt;UID: 13574c2a804c4d0e8062447ce12c295f&gt;</td>\n",
       "      <td>[#Mathematics]</td>\n",
       "      <td></td>\n",
       "      <td>&lt;class 'syft.core.tensor.tensor.Tensor'&gt;</td>\n",
       "    </tr>\n",
       "  </tbody>\n",
       "</table>\n",
       "</div>"
      ],
      "text/plain": [
       "[array([74, 58, 25,  7, 46])\n",
       "\n",
       " (The data printed above is synthetic - it's an imitation of the real data.)]"
      ]
     },
     "execution_count": 107,
     "metadata": {},
     "output_type": "execute_result"
    }
   ],
   "source": [
    "domain_client.store"
   ]
  },
  {
   "cell_type": "markdown",
   "id": "382a8148",
   "metadata": {},
   "source": [
    "### Now its your turn !!! Go Ahead ..."
   ]
  },
  {
   "cell_type": "markdown",
   "id": "a8c12e88",
   "metadata": {},
   "source": [
    "- launch a domain node\n",
    "- log into the domain\n",
    "- upload a dataset"
   ]
  }
 ],
 "metadata": {
  "kernelspec": {
   "display_name": "Python 3 (ipykernel)",
   "language": "python",
   "name": "python3"
  },
  "language_info": {
   "codemirror_mode": {
    "name": "ipython",
    "version": 3
   },
   "file_extension": ".py",
   "mimetype": "text/x-python",
   "name": "python",
   "nbconvert_exporter": "python",
   "pygments_lexer": "ipython3",
   "version": "3.9.7"
  }
 },
 "nbformat": 4,
 "nbformat_minor": 5
}
