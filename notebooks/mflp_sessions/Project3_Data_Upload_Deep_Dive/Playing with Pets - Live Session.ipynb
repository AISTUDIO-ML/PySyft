{
 "cells": [
  {
   "cell_type": "markdown",
   "id": "a5090d78",
   "metadata": {},
   "source": [
    "### Playing with Pets - Session 3\n",
    "\n",
    "In the previous sessions we have a brief introduction on how to launch a domain/network and do basic computations on private data.\n",
    "\n",
    "In todays session we will dive more in detail on what is takes to upload a dataset.\n",
    "\n",
    "\n",
    "\n",
    "- launch a domain\n",
    "- login\n",
    "    - parameters does login function take\n",
    "- domain_client \n",
    "    - name\n",
    "    - store\n",
    "    - datasets\n",
    "    - vpn_status\n",
    "    - load_datasets\n",
    "- simple dataset ->\n",
    "    - student_id = [1, 2, 3, 4, 5,]\n",
    "    - marks = [10, 10, 10, 10, 10]\n",
    "    - data = pd.DataFrame([student_id, marks], columns=[\"Id\", \"Marks\"])\n",
    "    - data\n",
    "\n",
    "- add dp information to your data ->\n",
    "- .add_dp_metadata(min_vals, max_vals, data_subjects=DataSubjectArray(student_id=[]))\n",
    "    \n",
    "- load_dataset -> upload\n",
    "    - details of load_dataset\n",
    "\n",
    "- datasets\n",
    "- assets"
   ]
  },
  {
   "cell_type": "code",
   "execution_count": null,
   "id": "fed22f80",
   "metadata": {},
   "outputs": [],
   "source": [
    "\n",
    "\n"
   ]
  }
 ],
 "metadata": {
  "kernelspec": {
   "display_name": "Python 3 (ipykernel)",
   "language": "python",
   "name": "python3"
  },
  "language_info": {
   "codemirror_mode": {
    "name": "ipython",
    "version": 3
   },
   "file_extension": ".py",
   "mimetype": "text/x-python",
   "name": "python",
   "nbconvert_exporter": "python",
   "pygments_lexer": "ipython3",
   "version": "3.9.7"
  }
 },
 "nbformat": 4,
 "nbformat_minor": 5
}
