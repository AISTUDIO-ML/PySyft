{
 "cells": [
  {
   "cell_type": "markdown",
   "id": "f378bba2-19b4-469e-a910-3d88f4691b3c",
   "metadata": {},
   "source": [
    "# HAGrid, Provisioning and Deployment"
   ]
  },
  {
   "cell_type": "markdown",
   "id": "7e117a94-e8fd-4d23-bce9-3a3e4ee93051",
   "metadata": {},
   "source": [
    "In this lesson:"
   ]
  },
  {
   "cell_type": "markdown",
   "id": "b0ea9fc7-e614-4381-adb5-9e7967938e5b",
   "metadata": {},
   "source": [
    "## Deployment Tooling"
   ]
  },
  {
   "cell_type": "markdown",
   "id": "a69e86b7-e6a3-4c55-aa16-8c1e954b2df2",
   "metadata": {},
   "source": [
    "HAGrid can deploy to a large variety of targets and by leveraging a variety of tools and formats this can be extended. The goal for `hagrid` is to be your friendly helper in navigating the world of deployment and provisioning the `syft` stack and turn a multitude of complex steps and turn them into a handful of uniform and consistent commands."
   ]
  },
  {
   "cell_type": "markdown",
   "id": "eae0da1c-427f-4149-b32c-5478fcc426dc",
   "metadata": {},
   "source": [
    "## HAGrid Installs ON"
   ]
  },
  {
   "cell_type": "markdown",
   "id": "549b7d7c-41a8-4651-90ed-6fdce50c0f19",
   "metadata": {},
   "source": [
    "- macos\n",
    "- linux\n",
    "- windows\n",
    "- wsl2"
   ]
  },
  {
   "cell_type": "markdown",
   "id": "d97d3728-f945-475b-89bc-95773a5dbbfd",
   "metadata": {},
   "source": [
    "### Python"
   ]
  },
  {
   "cell_type": "markdown",
   "id": "d13349c6-97dc-4201-8012-03401604a1cc",
   "metadata": {},
   "source": [
    "We chose to write `HAGrid` as a python cli tool to utilize the existing skills and tooling in our monorepo, however this brings its own problems to the setup process, namely we require:"
   ]
  },
  {
   "cell_type": "markdown",
   "id": "80dd7c91-b02c-41a7-af64-693342a997f6",
   "metadata": {},
   "source": [
    "- Python 3.7\n",
    "- Console Scripts in `PATH`"
   ]
  },
  {
   "cell_type": "markdown",
   "id": "c49a61a3-dadb-44ed-945c-3e9441f0bc49",
   "metadata": {},
   "source": [
    "Remember in an earlier session when we discussed `PATH`."
   ]
  },
  {
   "cell_type": "markdown",
   "id": "bb31ad28-5f63-44df-8c20-8dc446668f22",
   "metadata": {},
   "source": [
    "### Console Scripts"
   ]
  },
  {
   "cell_type": "markdown",
   "id": "b838529c-f687-4af0-b5db-ed6f5dbcd491",
   "metadata": {},
   "source": [
    "```python\n",
    "# packages/hagrid/setup.py\n",
    "\n",
    "setup(\n",
    "    name=\"hagrid\",\n",
    "    description=\"Happy Automation for Grid\",\n",
    "    long_description=\"HAGrid is the swiss army knife of OpenMined's PySyft and PyGrid.\",\n",
    "    long_description_content_type=\"text/plain\",\n",
    "    version=__version__,\n",
    "    author=\"Andrew Trask <andrew@openmined.org>\",\n",
    "    packages=find_packages(),\n",
    "    package_data=DATA_FILES,\n",
    "    install_requires=packages,\n",
    "    include_package_data=True,\n",
    "    entry_points={\"console_scripts\": [\"hagrid = hagrid.cli:cli\"]},\n",
    ")\n",
    "```"
   ]
  },
  {
   "cell_type": "markdown",
   "id": "e6828e4a-f4cc-4acb-9ba9-1fccc2edbb22",
   "metadata": {},
   "source": [
    "If you notice the part that says `entry_points` this is how you can call a python library as a cli tool. There's just one catch, you need these \"console scripts\" paths to be setup properly."
   ]
  },
  {
   "cell_type": "markdown",
   "id": "7fb6210c-21e7-4591-b6c0-5e61e51f154e",
   "metadata": {},
   "source": [
    "This is something which does not always happen automatically with every python install. Currently it appears that installing `python3` with the Windows Store, does not create this entry to the users `PATH` meaning if they install a python library with a cli tool they can't use it without a bunch of manual steps to edit their `PATH`. \n",
    "\n",
    "Unfortunately, this means there are many more things that can go wrong with Windows and a higher likelihood that Windows users won't know how to easily solve them."
   ]
  },
  {
   "cell_type": "markdown",
   "id": "bf1ec016-87ea-44e7-a29c-dc55c3cc7e96",
   "metadata": {},
   "source": [
    "## Additional Prerequisites"
   ]
  },
  {
   "cell_type": "markdown",
   "id": "29ed4450-1e53-4955-bcb8-81d75eed7588",
   "metadata": {},
   "source": [
    "Currently `HAGrid` also requires:\n",
    "- git\n",
    "- ansible (for cloud vm deployments)"
   ]
  },
  {
   "cell_type": "markdown",
   "id": "5954e21d-651c-46eb-94d1-1339f400180a",
   "metadata": {},
   "source": [
    "### Git"
   ]
  },
  {
   "cell_type": "markdown",
   "id": "1cd2686d-328d-483a-92f2-381a77c7b043",
   "metadata": {},
   "source": [
    "During development the fastest way to ship updated code to deployed nodes was simply to utilise the git repository. Of course the repository is large and this adds the requirement for the system to have `git` installed, which is not installed by default on `Windows`."
   ]
  },
  {
   "cell_type": "markdown",
   "id": "531dfc3c-338b-47ab-ad7c-2b6a3ae99a91",
   "metadata": {},
   "source": [
    "While we do now have `Continuous Deployment` builds of containers going to `dockerhub` there are several files still required to start the stack, namely the `docker-compose` files and several configuration files which can also require customization."
   ]
  },
  {
   "cell_type": "markdown",
   "id": "be7cb4ff-ae52-4be0-986b-5a3376467320",
   "metadata": {},
   "source": [
    "## Templating"
   ]
  },
  {
   "cell_type": "markdown",
   "id": "5635e10e-4d27-4bec-9690-a438218f23f6",
   "metadata": {},
   "source": [
    "We recently introduced a `manifest` format which will allow us to remove the need to have `git` installed while also providing a single group of minimal files required to start a node. This is something which platforms like `kubernetes` have had for a while in the form of `helm` charts, however no such single format exists for `docker compose` and we suspect that `Docker Desktop` will be a popular container platform for many of our users going forward for some time."
   ]
  },
  {
   "cell_type": "markdown",
   "id": "dacf177b-3f8a-478e-a91b-72e2bcc4aa13",
   "metadata": {},
   "source": [
    "## Bootstrapping Problem"
   ]
  },
  {
   "cell_type": "markdown",
   "id": "308c0154-2661-4b22-9d28-91c0fd49a814",
   "metadata": {},
   "source": [
    "One of the hardest issues when providing software intended to run anywhere and everywhere, is normalizing the environment sufficiently that everything just works the majority of the time."
   ]
  },
  {
   "cell_type": "markdown",
   "id": "6ad6c589-fdb4-444f-b560-239f1180df14",
   "metadata": {},
   "source": [
    "This is especially hard given both bugs in legacy versions of software that must be supported and in supporting the multitude of updates to all platforms that are generated nearly daily."
   ]
  },
  {
   "cell_type": "markdown",
   "id": "98ce458b-16e4-441b-96b5-9e9188804f36",
   "metadata": {},
   "source": [
    "Due to all the moving pieces in setting up a `domain` or `network` server, we ended up building a set of tooling to first and foremost help ourselves during development and secondly smooth the setup process for our users who may or may not have the technical know how to configure and deploy container services on their desired target machine."
   ]
  },
  {
   "cell_type": "markdown",
   "id": "e2adc5d8-28c5-463f-bc79-bf1653882244",
   "metadata": {},
   "source": [
    "### Alternatives"
   ]
  },
  {
   "cell_type": "markdown",
   "id": "e8f53fac-05a3-4e63-b348-e9452bfa1c9c",
   "metadata": {},
   "source": [
    "Since the majority of what `HAGrid` does is execute system calls in the terminal and parse their output we could certainly switch this something like `go` or `rust` which would enable small binaries without dependencies, at least on initial install, which could greatly ease the setup process."
   ]
  },
  {
   "cell_type": "markdown",
   "id": "c1b79f62-df86-4941-9b7b-4bb38f04103a",
   "metadata": {},
   "source": [
    "Alternatively, if we can find a way to run some code first we can attempt to do some setup for users to ease this complication. We have experimented with installer scripts like this:"
   ]
  },
  {
   "cell_type": "markdown",
   "id": "dbdcb162-6808-44ee-99c4-6af016bdbaec",
   "metadata": {},
   "source": [
    "`win_bootstrap.py`:\n",
    "https://github.com/OpenMined/PySyft/blob/dev/packages/hagrid/hagrid/win_bootstrap.py"
   ]
  },
  {
   "cell_type": "markdown",
   "id": "38fe54a2-c4a4-484e-b8c2-20ab32fa2f88",
   "metadata": {},
   "source": [
    "This script detects various prerequisite packages including `choco` package manager, and optionally prompts the user to install them with `choco` even working to manually escalate the user permission prompts as Windows lacks the `sudo` of `POSIX` systems.\n",
    "\n",
    "Unfortunately this still requires python so for maximum compatibility it will likely need to be re-written in `powershell` as task for which no human deserves."
   ]
  },
  {
   "cell_type": "markdown",
   "id": "7425d46f-6e99-4359-a787-e29ab95c8536",
   "metadata": {},
   "source": [
    "`install.sh`:  \n",
    "https://github.com/OpenMined/PySyft/blob/dev/packages/hagrid/scripts/install.sh\n",
    "\n",
    "Similarly, in the vein of many popular online installers some early experiments with a shell script that can be curled from the web was started. This should provide sufficient control for auto prompt "
   ]
  },
  {
   "cell_type": "markdown",
   "id": "39999f07-17eb-4867-8b1b-6643d05f3999",
   "metadata": {
    "tags": []
   },
   "source": [
    "## HAGrid Deploys TO"
   ]
  },
  {
   "cell_type": "markdown",
   "id": "682886a7-919b-45b2-ae4a-2f4af05161dc",
   "metadata": {},
   "source": [
    "```\n",
    "docker\n",
    "azure\n",
    "gcp\n",
    "k3d\n",
    "localhost\n",
    "x.x.x.x\n",
    "```"
   ]
  },
  {
   "cell_type": "markdown",
   "id": "e0a5f918-6c18-43aa-9452-e9832541e22c",
   "metadata": {},
   "source": [
    "## deploy to `docker`"
   ]
  },
  {
   "cell_type": "markdown",
   "id": "f42d35ed-d8d5-4c1e-9294-10387489d0d8",
   "metadata": {},
   "source": [
    "So far we have mostly dealt with this target since it is the simplest. Remember, HAGrid takes a small number of options and inputs from the user and translates them into lots of command line commands and network calls as needed to setup and provision a node."
   ]
  },
  {
   "cell_type": "markdown",
   "id": "455507c7-2715-4e08-9a5d-60e019aa10aa",
   "metadata": {},
   "source": [
    "In the case of the target `docker` this uses recent versions of `docker` `docker compose` cli tools to do basically everything."
   ]
  },
  {
   "cell_type": "markdown",
   "id": "dcfe6fc1-2995-4fd3-b890-4fdc12f306d8",
   "metadata": {},
   "source": [
    "This has a few advantages because `docker` provides a consistent interface across many different oses and platforms and also allows us to mount source code directly into the containers for development."
   ]
  },
  {
   "cell_type": "markdown",
   "id": "a92a2637-5858-4029-8bef-a002a86f8df7",
   "metadata": {},
   "source": [
    "For some commands we can pass `--cmd=true` and `hagrid` will print a dry run of what it was going to do. This is a handy way to understand what `hagrid` is really doing."
   ]
  },
  {
   "cell_type": "code",
   "execution_count": 7,
   "id": "86acd50a-a5f9-4f25-8358-a4cbaeb9b0f8",
   "metadata": {},
   "outputs": [
    {
     "name": "stdout",
     "output_type": "stream",
     "text": [
      "\n",
      "\u001b[2K\u001b[32m⠙\u001b[0m \u001b[1;34mChecking for Docker Service\u001b[0m     \n",
      "\u001b[1A\u001b[2K✅ Docker service is running\n",
      "✅ Git 2.37.3\n",
      "✅ Docker 20.10.17\n",
      "✅ Docker Compose 2.7.0\n",
      "\n",
      "\u001b[90m \u001b[90m \u001b[90m \u001b[90m \u001b[90m \u001b[90m \u001b[90m \u001b[90m \u001b[90m \u001b[90m \u001b[90m \u001b[90m \u001b[90m \u001b[90m \u001b[90m \u001b[90m \u001b[90m \u001b[90m \u001b[90m \u001b[90m \u001b[90m \u001b[90m \u001b[90m \u001b[90m \u001b[90m \u001b[90m7\u001b[90m*\u001b[90m{\u001b[90m{\u001b[90m{\u001b[90m{\u001b[90m{\u001b[90ms\u001b[90ml\u001b[90ms\u001b[90m*\u001b[90m{\u001b[90ms\u001b[90ms\u001b[90mc\u001b[90m*\u001b[90m{\u001b[90m{\u001b[90m{\u001b[90m*\u001b[90m{\u001b[90ms\u001b[90m{\u001b[90ms\u001b[90m \u001b[90m \u001b[90m \u001b[90m \u001b[90m \u001b[90m \u001b[90m \u001b[90m \u001b[90m \u001b[90m \u001b[90m \u001b[90m \u001b[90m \u001b[90m \u001b[90m \u001b[90m \u001b[90m \u001b[90m \u001b[90m \u001b[90m \u001b[90m \u001b[90m \u001b[90m \u001b[90m \u001b[90m \u001b[90m \u001b[90m \u001b[90m \u001b[90m \u001b[90m \u001b[90m \u001b[90m \u001b[90m \u001b[90m \n",
      "\u001b[90m \u001b[90m \u001b[90m \u001b[90m \u001b[90m \u001b[90m \u001b[90m \u001b[90m \u001b[90m \u001b[90m \u001b[90m \u001b[90m \u001b[90m \u001b[90m \u001b[90m \u001b[90m \u001b[90m \u001b[90m \u001b[90m \u001b[90m \u001b[90m \u001b[90m \u001b[90m \u001b[90m{\u001b[90m{\u001b[90m{\u001b[90m{\u001b[90m{\u001b[90m*\u001b[90m*\u001b[90m*\u001b[90m*\u001b[90m*\u001b[90mc\u001b[90m<\u001b[90m)\u001b[90ml\u001b[90m|\u001b[90mx\u001b[90mi\u001b[90m<\u001b[90mr\u001b[90mx\u001b[90m{\u001b[90mr\u001b[90m*\u001b[90m{\u001b[90m{\u001b[90m{\u001b[90m{\u001b[90m{\u001b[90ms\u001b[90m \u001b[90m \u001b[90m \u001b[90m \u001b[90m \u001b[90m \u001b[90m \u001b[90m \u001b[90m \u001b[90m \u001b[90m \u001b[90m \u001b[90m \u001b[90m \u001b[90m \u001b[90m \u001b[90m \u001b[90m \u001b[90m \u001b[90m \u001b[90m \u001b[90m \u001b[90m \u001b[90m \u001b[90m \u001b[90m \u001b[90m \u001b[90m \u001b[90m \u001b[90m \u001b[90m \n",
      "\u001b[90m \u001b[90m \u001b[90m \u001b[90m \u001b[90m \u001b[90m \u001b[90m \u001b[90m \u001b[90m \u001b[90m \u001b[90m \u001b[90m \u001b[90m \u001b[90m \u001b[90m \u001b[90m \u001b[90m \u001b[90m \u001b[90m \u001b[90m \u001b[90m \u001b[90m{\u001b[90m{\u001b[90m{\u001b[90m*\u001b[90ms\u001b[90mv\u001b[90m>\u001b[90m\\\u001b[90m>\u001b[90mi\u001b[90m\\\u001b[90m)\u001b[90m/\u001b[90m;\u001b[90m:\u001b[90m=\u001b[90m=\u001b[90mv\u001b[90m{\u001b[90m^\u001b[90m;\u001b[90m\\\u001b[90m>\u001b[90m+\u001b[90mx\u001b[90m%\u001b[90mc\u001b[90ms\u001b[90m*\u001b[90m*\u001b[90m{\u001b[90m{\u001b[90m \u001b[90m \u001b[90m \u001b[90m \u001b[90m \u001b[90m \u001b[90m \u001b[90m \u001b[90m \u001b[90m \u001b[90m \u001b[90m \u001b[90m \u001b[90m \u001b[90m \u001b[90m \u001b[90m \u001b[90m \u001b[90m \u001b[90m \u001b[90m \u001b[90m \u001b[90m \u001b[90m \u001b[90m \u001b[90m \u001b[90m \u001b[90m \u001b[90m \u001b[90m \n",
      "\u001b[90m \u001b[90m \u001b[90m \u001b[90m \u001b[90m \u001b[90m \u001b[90m \u001b[90m \u001b[90m \u001b[90m \u001b[90m \u001b[90m \u001b[90m \u001b[90m \u001b[90m \u001b[90m \u001b[90m \u001b[90m \u001b[90m \u001b[90mI\u001b[90m{\u001b[90m{\u001b[90m*\u001b[90ms\u001b[90ml\u001b[90mv\u001b[90m\\\u001b[90m=\u001b[90m;\u001b[90m=\u001b[90m\\\u001b[90ml\u001b[90m?\u001b[31m7\u001b[31my\u001b[33mS\u001b[37m4\u001b[37mX\u001b[37mZ\u001b[37mG\u001b[37md\u001b[33mm\u001b[31mC\u001b[90ml\u001b[90m\"\u001b[90m/\u001b[90m\"\u001b[90m<\u001b[90ml\u001b[90m{\u001b[90m{\u001b[90m*\u001b[90m{\u001b[90m{\u001b[33mg\u001b[37mR\u001b[37mQ\u001b[90m \u001b[90m \u001b[90m \u001b[90m \u001b[90m \u001b[90m \u001b[90m \u001b[90m \u001b[90m \u001b[90m \u001b[90m \u001b[90m \u001b[90m \u001b[90m \u001b[90m \u001b[90m \u001b[90m \u001b[90m \u001b[90m \u001b[90m \u001b[90m \u001b[90m \u001b[90m \u001b[90m \u001b[90m \u001b[90m \n",
      "\u001b[90m \u001b[90m \u001b[90m \u001b[90m \u001b[90m \u001b[90m \u001b[90m \u001b[90m \u001b[90m \u001b[90m \u001b[90m \u001b[90m \u001b[90m \u001b[90m \u001b[90m \u001b[90m \u001b[90m \u001b[90m \u001b[90m\\\u001b[90mi\u001b[90mx\u001b[90mv\u001b[90m)\u001b[90m>\u001b[90m\\\u001b[90m/\u001b[90m:\u001b[90ml\u001b[31m#\u001b[31m3\u001b[33mq\u001b[33m4\u001b[33mX\u001b[37mY\u001b[37mU\u001b[37m$\u001b[37m$\u001b[37mU\u001b[37mU\u001b[37mU\u001b[37m$\u001b[37m$\u001b[33mY\u001b[33mX\u001b[31mF\u001b[90m*\u001b[90ml\u001b[90m{\u001b[90m{\u001b[90m{\u001b[90m{\u001b[90m{\u001b[90m{\u001b[90m*\u001b[90m[\u001b[31my\u001b[33mV\u001b[33mX\u001b[33mP\u001b[33mP\u001b[33mh\u001b[90m \u001b[90m \u001b[90m \u001b[90m \u001b[90m \u001b[90m \u001b[90m \u001b[90m \u001b[90m \u001b[90m \u001b[90m \u001b[90m \u001b[90m \u001b[90m \u001b[90m \u001b[90m \u001b[90m \u001b[90m \u001b[90m \u001b[90m \u001b[90m \u001b[90m \n",
      "\u001b[90m \u001b[90m \u001b[90m \u001b[90m \u001b[90m \u001b[90m \u001b[90m \u001b[90m \u001b[90m \u001b[90m \u001b[90m \u001b[90m \u001b[90m \u001b[90m \u001b[90m \u001b[90m \u001b[90m\\\u001b[90m<\u001b[90m>\u001b[90mi\u001b[90mi\u001b[90m)\u001b[90m|\u001b[90m,\u001b[90m`\u001b[90m \u001b[90m{\u001b[33mS\u001b[33mX\u001b[33mb\u001b[37mY\u001b[37m&\u001b[37m8\u001b[37mU\u001b[37m8\u001b[37m&\u001b[37m&\u001b[37m&\u001b[37m8\u001b[37m8\u001b[37m8\u001b[33mb\u001b[33mg\u001b[33mg\u001b[33mX\u001b[31mm\u001b[90ml\u001b[90m>\u001b[90mv\u001b[90m%\u001b[90m%\u001b[90m%\u001b[90mx\u001b[90mc\u001b[90ml\u001b[90mr\u001b[90m[\u001b[31m#\u001b[33mp\u001b[33md\u001b[33mE\u001b[33mG\u001b[90m \u001b[90m \u001b[90m \u001b[90m \u001b[90m \u001b[90m \u001b[90m \u001b[90m \u001b[90m \u001b[90m \u001b[90m \u001b[90m \u001b[90m \u001b[90m \u001b[90m \u001b[90m \u001b[90m \u001b[90m \u001b[90m \u001b[90m \u001b[90m \n",
      "\u001b[90m \u001b[90m \u001b[90m \u001b[90m \u001b[90m \u001b[90m \u001b[90m \u001b[90m \u001b[90m \u001b[90m \u001b[90m \u001b[90m \u001b[90m \u001b[90m \u001b[90m \u001b[90mi\u001b[90mv\u001b[90mx\u001b[90m%\u001b[90mv\u001b[90m<\u001b[90m^\u001b[90m`\u001b[90m`\u001b[90m_\u001b[90m{\u001b[33mE\u001b[33mG\u001b[37m&\u001b[37m$\u001b[37m8\u001b[37mU\u001b[37mU\u001b[37mU\u001b[37m8\u001b[37m&\u001b[37m&\u001b[37m&\u001b[37m8\u001b[37m8\u001b[37mU\u001b[37m&\u001b[37mA\u001b[37mO\u001b[37mk\u001b[33mb\u001b[33mS\u001b[90mr\u001b[90m\"\u001b[90m+\u001b[90m+\u001b[90m/\u001b[90m/\u001b[90m|\u001b[90m\\\u001b[90m>\u001b[90mv\u001b[31m7\u001b[33mF\u001b[33mm\u001b[33mE\u001b[33mE\u001b[33mg\u001b[33mh\u001b[90m \u001b[90m \u001b[90m \u001b[90m \u001b[90m \u001b[90m \u001b[90m \u001b[90m \u001b[90m \u001b[90m \u001b[90m \u001b[90m \u001b[90m \u001b[90m \u001b[90m \u001b[90m \u001b[90m \u001b[90m \u001b[90m \n",
      "\u001b[90m \u001b[90m \u001b[90m \u001b[90m \u001b[90m \u001b[90m \u001b[90m \u001b[90m \u001b[90m \u001b[90m \u001b[90m \u001b[90m \u001b[31m\"\u001b[90m%\u001b[90m%\u001b[90m%\u001b[90m%\u001b[90m>\u001b[90m\"\u001b[90m/\u001b[90m=\u001b[90m-\u001b[90m.\u001b[90m+\u001b[90m>\u001b[31m6\u001b[33mb\u001b[33mX\u001b[31m3\u001b[31mu\u001b[31mu\u001b[31mn\u001b[31m6\u001b[33mh\u001b[33mV\u001b[37mb\u001b[37m8\u001b[37mY\u001b[37mb\u001b[33mX\u001b[33mg\u001b[31m2\u001b[31mp\u001b[33mg\u001b[33mh\u001b[33mh\u001b[33mP\u001b[33mV\u001b[90mx\u001b[90m'\u001b[90m+\u001b[90m/\u001b[90m/\u001b[90m/\u001b[90m/\u001b[90m\"\u001b[90m)\u001b[90m<\u001b[31mt\u001b[33mE\u001b[33mP\u001b[33mP\u001b[33mg\u001b[33mg\u001b[33mg\u001b[37mS\u001b[90m \u001b[90m \u001b[90m \u001b[90m \u001b[90m \u001b[90m \u001b[90m \u001b[90m \u001b[90m \u001b[90m \u001b[90m \u001b[90m \u001b[90m \u001b[90m \u001b[90m \u001b[90m \u001b[90m \n",
      "\u001b[90m \u001b[90m \u001b[90m \u001b[90m \u001b[90m \u001b[90m \u001b[90m \u001b[90m \u001b[90m \u001b[90m \u001b[90m \u001b[90m%\u001b[90m%\u001b[90m%\u001b[90mx\u001b[90m%\u001b[90m%\u001b[90m|\u001b[90m=\u001b[90m+\u001b[90m^\u001b[90m`\u001b[90m`\u001b[90m`\u001b[90m%\u001b[33md\u001b[33mX\u001b[31me\u001b[31m#\u001b[33mS\u001b[33mq\u001b[31mf\u001b[31mn\u001b[31mj\u001b[31m[\u001b[33mh\u001b[37m@\u001b[37mD\u001b[37m8\u001b[31m3\u001b[31me\u001b[31mC\u001b[31mL\u001b[31m#\u001b[31mF\u001b[31my\u001b[33mm\u001b[33mk\u001b[33mg\u001b[90m\"\u001b[90m^\u001b[90m/\u001b[90m|\u001b[90m/\u001b[90m/\u001b[90m/\u001b[90m\\\u001b[90m<\u001b[90m\\\u001b[90m?\u001b[33mV\u001b[33mX\u001b[33mE\u001b[33mE\u001b[33mg\u001b[33mE\u001b[90m \u001b[90m \u001b[90m \u001b[90m \u001b[90m \u001b[90m \u001b[90m \u001b[90m \u001b[90m \u001b[90m \u001b[90m \u001b[90m \u001b[90m \u001b[90m \u001b[90m \u001b[90m \u001b[90m \n",
      "\u001b[90m \u001b[90m \u001b[90m \u001b[90m \u001b[90m \u001b[90m \u001b[90m \u001b[90m \u001b[90m \u001b[90m%\u001b[90m%\u001b[90m%\u001b[90mx\u001b[90m%\u001b[90m%\u001b[90m%\u001b[90m%\u001b[90mv\u001b[90m/\u001b[90m+\u001b[90m;\u001b[90m.\u001b[90m.\u001b[90m \u001b[90m%\u001b[33mE\u001b[33mV\u001b[31mL\u001b[31mw\u001b[31mj\u001b[31m3\u001b[31mj\u001b[31mT\u001b[33mm\u001b[33mV\u001b[33mk\u001b[37m@\u001b[37mB\u001b[37mD\u001b[37m8\u001b[33m4\u001b[37mb\u001b[37md\u001b[37md\u001b[37mG\u001b[37mP\u001b[33mP\u001b[37mk\u001b[33mO\u001b[31m!\u001b[90m_\u001b[90m+\u001b[90m|\u001b[90m>\u001b[90m)\u001b[90m\"\u001b[90m\"\u001b[90m>\u001b[90m)\u001b[90m<\u001b[90m{\u001b[33mS\u001b[33mX\u001b[33mE\u001b[33mE\u001b[33mE\u001b[33md\u001b[90m \u001b[90m \u001b[90m \u001b[90m \u001b[90m \u001b[90m \u001b[90m \u001b[90m \u001b[90m \u001b[90m \u001b[90m \u001b[90m \u001b[90m \u001b[90m \u001b[90m \u001b[90m \n",
      "\u001b[90m \u001b[90m \u001b[90m \u001b[90m \u001b[90m \u001b[90m \u001b[90mI\u001b[90m{\u001b[90m%\u001b[90m%\u001b[90mx\u001b[90m%\u001b[90m%\u001b[90m%\u001b[90m%\u001b[90m%\u001b[90m%\u001b[90mv\u001b[90m/\u001b[90m+\u001b[90m;\u001b[90m.\u001b[90m,\u001b[90m.\u001b[90m}\u001b[33mX\u001b[33mP\u001b[37mb\u001b[37mk\u001b[37mk\u001b[37mA\u001b[37mO\u001b[37mk\u001b[37m$\u001b[37mY\u001b[33mS\u001b[31mL\u001b[31mT\u001b[31mJ\u001b[31mn\u001b[33md\u001b[37mA\u001b[37mH\u001b[37mH\u001b[37mD\u001b[37mD\u001b[37mH\u001b[37mK\u001b[33mb\u001b[31m[\u001b[90m-\u001b[90m,\u001b[90m/\u001b[90m>\u001b[90m)\u001b[90m>\u001b[90m<\u001b[90m\\\u001b[90m>\u001b[90m>\u001b[90m<\u001b[90mc\u001b[33mp\u001b[33mP\u001b[33mX\u001b[33mg\u001b[33mg\u001b[33mE\u001b[37mS\u001b[90m \u001b[90m \u001b[90m \u001b[90m \u001b[90m \u001b[90m \u001b[90m \u001b[90m \u001b[90m \u001b[90m \u001b[90m \u001b[90m \u001b[90m \u001b[90m \n",
      "\u001b[90m \u001b[90m \u001b[90m \u001b[90m \u001b[90ms\u001b[90m{\u001b[90m{\u001b[90mc\u001b[90mx\u001b[90m%\u001b[90m%\u001b[90m%\u001b[90m%\u001b[90m%\u001b[90m%\u001b[90mv\u001b[90m\\\u001b[90m\"\u001b[90m+\u001b[90m|\u001b[90m:\u001b[90m`\u001b[90m|\u001b[90m^\u001b[90mr\u001b[33mP\u001b[37mA\u001b[37m8\u001b[37m8\u001b[37mU\u001b[37m$\u001b[37mD\u001b[37mB\u001b[37mA\u001b[31mz\u001b[90m>\u001b[90m'\u001b[90m^\u001b[90m=\u001b[90m^\u001b[90mi\u001b[31me\u001b[33mh\u001b[37mU\u001b[37mK\u001b[37mK\u001b[37mU\u001b[37m8\u001b[37m&\u001b[31mF\u001b[90m'\u001b[90m'\u001b[90m;\u001b[90m|\u001b[90m<\u001b[90m<\u001b[90m>\u001b[90m)\u001b[90m)\u001b[90m>\u001b[90m>\u001b[90m<\u001b[90m%\u001b[31my\u001b[33m4\u001b[33mE\u001b[33mg\u001b[33mX\u001b[33mE\u001b[37mQ\u001b[90m \u001b[90m \u001b[90m \u001b[90m \u001b[90m \u001b[90m \u001b[90m \u001b[90m \u001b[90m \u001b[90m \u001b[90m \u001b[90m \u001b[90m \n",
      "\u001b[90m \u001b[90m \u001b[90m \u001b[90m{\u001b[90m{\u001b[90m{\u001b[90ms\u001b[90m%\u001b[90m%\u001b[90m%\u001b[90m%\u001b[90m%\u001b[90m%\u001b[90m%\u001b[90m%\u001b[90mv\u001b[90m+\u001b[90m=\u001b[90m/\u001b[90m\\\u001b[90m-\u001b[90m:\u001b[90m\\\u001b[90m)\u001b[90m|\u001b[31mz\u001b[33mA\u001b[33mA\u001b[37m&\u001b[37m&\u001b[37m$\u001b[37mY\u001b[31mf\u001b[31m*\u001b[90m)\u001b[90m|\u001b[31m<\u001b[31mr\u001b[31m}\u001b[31m1\u001b[31m!\u001b[31mr\u001b[90mi\u001b[31mj\u001b[33mV\u001b[37mk\u001b[37m@\u001b[37m@\u001b[37m$\u001b[33mg\u001b[90m'\u001b[90m:\u001b[90m:\u001b[90m;\u001b[90m|\u001b[90m\\\u001b[90m\\\u001b[90m\\\u001b[90m<\u001b[90m>\u001b[90m>\u001b[90m>\u001b[90m)\u001b[90mr\u001b[33mh\u001b[33mg\u001b[33mg\u001b[33mg\u001b[33mE\u001b[33mb\u001b[90m \u001b[90m \u001b[90m \u001b[90m \u001b[90m \u001b[90m \u001b[90m \u001b[90m \u001b[90m \u001b[90m \u001b[90m \u001b[90m \u001b[90m \n",
      "\u001b[90m \u001b[90m \u001b[90m \u001b[90m*\u001b[90m{\u001b[90m*\u001b[90mr\u001b[90mv\u001b[90m%\u001b[90m%\u001b[90m%\u001b[90m%\u001b[90m%\u001b[90m%\u001b[90mv\u001b[90m)\u001b[90m=\u001b[90m\"\u001b[90m\"\u001b[90m^\u001b[90m`\u001b[90m\"\u001b[90m\\\u001b[90m)\u001b[90m\"\u001b[31m*\u001b[33mk\u001b[33mO\u001b[33mA\u001b[33mY\u001b[31m2\u001b[31ms\u001b[90m>\u001b[90m%\u001b[31m*\u001b[31m!\u001b[31mT\u001b[31mm\u001b[31mS\u001b[31mh\u001b[31m6\u001b[31my\u001b[31m?\u001b[31ms\u001b[31mJ\u001b[31mC\u001b[31m5\u001b[33mh\u001b[33mg\u001b[31mn\u001b[90m|\u001b[90m:\u001b[90m'\u001b[90m:\u001b[90m,\u001b[90m/\u001b[90m\\\u001b[90m\\\u001b[90m)\u001b[90m\\\u001b[90m<\u001b[90m>\u001b[90m>\u001b[90m\\\u001b[31m7\u001b[33mX\u001b[33mg\u001b[33mg\u001b[33mE\u001b[33mB\u001b[90m \u001b[90m \u001b[90m \u001b[90m \u001b[90m \u001b[90m \u001b[90m \u001b[90m \u001b[90m \u001b[90m \u001b[90m \u001b[90m \u001b[90m \n",
      "\u001b[90m \u001b[90m \u001b[90ms\u001b[90m{\u001b[90m{\u001b[90m{\u001b[90mr\u001b[90m%\u001b[90m%\u001b[90m%\u001b[90m%\u001b[90m%\u001b[90mv\u001b[90m\\\u001b[90m/\u001b[90m/\u001b[90m)\u001b[90m>\u001b[90m;\u001b[90m.\u001b[90m+\u001b[90m\\\u001b[90m)\u001b[90m\\\u001b[90m>\u001b[31m[\u001b[33mY\u001b[33md\u001b[31m#\u001b[31m!\u001b[90mc\u001b[90mr\u001b[31m{\u001b[31m[\u001b[31mn\u001b[31ma\u001b[31m*\u001b[90m{\u001b[90m}\u001b[31mI\u001b[31m[\u001b[31m[\u001b[31m!\u001b[31mL\u001b[31mw\u001b[31mC\u001b[31mJ\u001b[31mJ\u001b[31mn\u001b[90mr\u001b[90ms\u001b[90mv\u001b[90m\"\u001b[90m:\u001b[90m:\u001b[90m:\u001b[90m=\u001b[90m\\\u001b[90m\\\u001b[90m\\\u001b[90m)\u001b[90m\\\u001b[90m<\u001b[90m<\u001b[90m|\u001b[90mt\u001b[33m4\u001b[33mX\u001b[33mP\u001b[33mE\u001b[33mP\u001b[90m \u001b[90m \u001b[90m \u001b[90m \u001b[90m \u001b[90m \u001b[90m \u001b[90m \u001b[90m \u001b[90m \u001b[90m \u001b[90m \n",
      "\u001b[90m \u001b[31m!\u001b[90m{\u001b[90m{\u001b[90m{\u001b[90m*\u001b[90mr\u001b[90m%\u001b[90m%\u001b[90mv\u001b[90mi\u001b[90m%\u001b[90m)\u001b[90m/\u001b[90m|\u001b[90m\\\u001b[90m)\u001b[90m:\u001b[90m.\u001b[90m=\u001b[90m)\u001b[90m\\\u001b[90m)\u001b[90m%\u001b[90mc\u001b[90mc\u001b[31m]\u001b[90ml\u001b[90mx\u001b[90ms\u001b[31m}\u001b[31m}\u001b[31m}\u001b[90ml\u001b[90m|\u001b[90m\\\u001b[90m<\u001b[90m\\\u001b[90m<\u001b[90m<\u001b[90m<\u001b[90m<\u001b[90m<\u001b[90m%\u001b[31m[\u001b[31mo\u001b[31m7\u001b[31me\u001b[90mr\u001b[90mv\u001b[90mc\u001b[90mr\u001b[90ms\u001b[90m>\u001b[90m:\u001b[90m:\u001b[90m:\u001b[90m=\u001b[90m\\\u001b[90m\\\u001b[90m\\\u001b[90m\\\u001b[90m)\u001b[90m\\\u001b[90m\\\u001b[90m|\u001b[90m{\u001b[33mF\u001b[33mX\u001b[33mG\u001b[33mE\u001b[33m$\u001b[90m \u001b[90m \u001b[90m \u001b[90m \u001b[90m \u001b[90m \u001b[90m \u001b[90m \u001b[90m \u001b[90m \u001b[90m \n",
      "\u001b[90m \u001b[90m \u001b[90ms\u001b[90m*\u001b[90m*\u001b[90ms\u001b[90mx\u001b[90mv\u001b[90mi\u001b[90m)\u001b[90mv\u001b[90mi\u001b[90m\"\u001b[90m/\u001b[90m/\u001b[90m^\u001b[90m`\u001b[90m'\u001b[90mr\u001b[90mv\u001b[90m\\\u001b[90m%\u001b[90mc\u001b[90mc\u001b[90mc\u001b[90mx\u001b[90mc\u001b[90m{\u001b[90m}\u001b[31m}\u001b[31m}\u001b[31m}\u001b[31m}\u001b[90m{\u001b[90m)\u001b[90m\\\u001b[90m\"\u001b[90m\"\u001b[90m>\u001b[90m)\u001b[90m>\u001b[90m>\u001b[90m>\u001b[90m>\u001b[90m<\u001b[90m>\u001b[90m>\u001b[90m<\u001b[90m)\u001b[90m\\\u001b[90m\\\u001b[90m>\u001b[90mc\u001b[90mv\u001b[90m,\u001b[90m:\u001b[90m:\u001b[90m:\u001b[90m/\u001b[90m\\\u001b[90m\\\u001b[90m\\\u001b[90m\\\u001b[90m\\\u001b[90m)\u001b[90m%\u001b[90m)\u001b[90mv\u001b[31my\u001b[33mE\u001b[33mE\u001b[33mg\u001b[90m \u001b[90m \u001b[90m \u001b[90m \u001b[90m \u001b[90m \u001b[90m \u001b[90m \u001b[90m \u001b[90m \u001b[90m \n",
      "\u001b[90m \u001b[90m{\u001b[90m*\u001b[90mr\u001b[90mv\u001b[90m>\u001b[90m)\u001b[90m>\u001b[90m>\u001b[90mi\u001b[90m<\u001b[90m/\u001b[90m/\u001b[90m/\u001b[90m=\u001b[90m^\u001b[90m{\u001b[31mj\u001b[31m#\u001b[90m*\u001b[90m%\u001b[90mc\u001b[90mc\u001b[90mc\u001b[90mx\u001b[90ml\u001b[90m}\u001b[31mI\u001b[90m*\u001b[31m*\u001b[31m}\u001b[31m}\u001b[90ms\u001b[31m*\u001b[90m{\u001b[90m>\u001b[90m/\u001b[90m/\u001b[90m)\u001b[90m\\\u001b[90m<\u001b[90m>\u001b[90m>\u001b[90m>\u001b[90m>\u001b[90m>\u001b[90m>\u001b[90m>\u001b[90m<\u001b[90m\\\u001b[90m\\\u001b[90m\\\u001b[90m\\\u001b[90m)\u001b[90m,\u001b[90m:\u001b[90m:\u001b[90m:\u001b[90m:\u001b[90m=\u001b[90m)\u001b[90m\\\u001b[90m\\\u001b[90m\\\u001b[90m)\u001b[90ml\u001b[31m?\u001b[90mx\u001b[31mt\u001b[31m#\u001b[33m4\u001b[37m8\u001b[90m \u001b[90m \u001b[90m \u001b[90m \u001b[90m \u001b[90m \u001b[90m \u001b[90m \u001b[90m \u001b[90m \u001b[90m \n",
      "\u001b[31m?\u001b[90ms\u001b[90m/\u001b[90m;\u001b[90m/\u001b[90m<\u001b[90m<\u001b[90m>\u001b[90m<\u001b[90m|\u001b[90m/\u001b[90m/\u001b[90m+\u001b[90m+\u001b[90mi\u001b[31mt\u001b[31mT\u001b[31mT\u001b[31mu\u001b[31ma\u001b[90ml\u001b[90mc\u001b[90mc\u001b[90mx\u001b[90ml\u001b[90m}\u001b[90m}\u001b[90mc\u001b[90m{\u001b[31m[\u001b[31mI\u001b[31m}\u001b[90m%\u001b[90m>\u001b[90mc\u001b[31mI\u001b[90mx\u001b[90m/\u001b[90m|\u001b[90m)\u001b[90m)\u001b[90m)\u001b[90m\\\u001b[90m\\\u001b[90m<\u001b[90m>\u001b[90m)\u001b[90m)\u001b[90m>\u001b[90m<\u001b[90m\\\u001b[90m\\\u001b[90m\\\u001b[90m\\\u001b[90m;\u001b[90m:\u001b[90m:\u001b[90m:\u001b[90m:\u001b[90m:\u001b[90m;\u001b[90m)\u001b[90m\\\u001b[90m\\\u001b[90m)\u001b[90mc\u001b[31mo\u001b[31ma\u001b[31ma\u001b[31ma\u001b[31mu\u001b[31m7\u001b[90m \u001b[90m \u001b[90m \u001b[90m \u001b[90m \u001b[90m \u001b[90m \u001b[90m \u001b[90m \u001b[90m \u001b[90m \n",
      "\u001b[90m;\u001b[90m_\u001b[90m^\u001b[90m\\\u001b[90m>\u001b[90m>\u001b[90m>\u001b[90m<\u001b[90m/\u001b[90m+\u001b[90m+\u001b[90m=\u001b[90m\\\u001b[90m]\u001b[31mn\u001b[31mT\u001b[31mn\u001b[31mo\u001b[31m?\u001b[31m}\u001b[90mr\u001b[90mx\u001b[90mc\u001b[90mc\u001b[90m*\u001b[31m}\u001b[90m%\u001b[90m<\u001b[31m!\u001b[31ma\u001b[31m1\u001b[31mI\u001b[90m{\u001b[90mc\u001b[90mi\u001b[90mx\u001b[90m%\u001b[90m\"\u001b[90m/\u001b[90m|\u001b[90m)\u001b[90m)\u001b[90m)\u001b[90m)\u001b[90m\"\u001b[90m+\u001b[90m\"\u001b[90m\\\u001b[90m>\u001b[90m)\u001b[90m>\u001b[90m<\u001b[90m\\\u001b[90m\\\u001b[90m\\\u001b[90m/\u001b[90m^\u001b[90m,\u001b[90m:\u001b[90m:\u001b[90m:\u001b[90m^\u001b[90m)\u001b[90m<\u001b[90m\\\u001b[90ml\u001b[31mo\u001b[31me\u001b[31me\u001b[31me\u001b[31ma\u001b[31me\u001b[31ma\u001b[90m \u001b[90m \u001b[90m \u001b[90m \u001b[90m \u001b[90m \u001b[90m \u001b[90m \u001b[90m \u001b[90m \n",
      "\u001b[90m_\u001b[90m=\u001b[90m>\u001b[90m>\u001b[90m>\u001b[90m>\u001b[90m<\u001b[90m/\u001b[90m/\u001b[90m=\u001b[90m|\u001b[90ms\u001b[31mj\u001b[31mT\u001b[31mn\u001b[31mn\u001b[31m7\u001b[90m}\u001b[90m}\u001b[31mI\u001b[90m{\u001b[90mc\u001b[90mx\u001b[90ms\u001b[90m}\u001b[90mc\u001b[90m<\u001b[90m\\\u001b[90mc\u001b[31mt\u001b[31mt\u001b[31m1\u001b[31mI\u001b[31mI\u001b[90m*\u001b[90mv\u001b[90m<\u001b[90m\"\u001b[90m/\u001b[90m/\u001b[90m|\u001b[90m)\u001b[90m)\u001b[90m)\u001b[90m\"\u001b[90m=\u001b[90m=\u001b[90m=\u001b[90m\"\u001b[90m\\\u001b[90m)\u001b[90m>\u001b[90m<\u001b[90m\\\u001b[90m\\\u001b[90m\\\u001b[90m)\u001b[90m/\u001b[90m^\u001b[90m;\u001b[90m:\u001b[90m:\u001b[90m=\u001b[90m>\u001b[90mi\u001b[90mv\u001b[31m!\u001b[31me\u001b[31me\u001b[31me\u001b[31me\u001b[31me\u001b[31me\u001b[31me\u001b[90m \u001b[90m \u001b[90m \u001b[90m \u001b[90m \u001b[90m \u001b[90m \u001b[90m \u001b[90m \n",
      "\u001b[90m;\u001b[90m<\u001b[90m>\u001b[90m>\u001b[90m>\u001b[90m<\u001b[90m/\u001b[90m/\u001b[90m+\u001b[90mc\u001b[31mj\u001b[31mT\u001b[31mT\u001b[31mn\u001b[31mn\u001b[31mT\u001b[31mt\u001b[90m*\u001b[90m}\u001b[90m}\u001b[31mI\u001b[90mr\u001b[90mc\u001b[90mr\u001b[90mv\u001b[90m\\\u001b[90m<\u001b[90m*\u001b[31m1\u001b[31mt\u001b[31mt\u001b[31mt\u001b[31mt\u001b[31m1\u001b[31mt\u001b[31m1\u001b[90mc\u001b[90m/\u001b[90m/\u001b[90m/\u001b[90m\"\u001b[90m|\u001b[90m)\u001b[90m)\u001b[90m\"\u001b[90m=\u001b[90m=\u001b[90m=\u001b[90m=\u001b[90m=\u001b[90m|\u001b[90m>\u001b[90m>\u001b[90m>\u001b[90m<\u001b[90m<\u001b[90m<\u001b[90m)\u001b[90m=\u001b[90m=\u001b[90m^\u001b[90m:\u001b[90m:\u001b[90m|\u001b[90mi\u001b[90mv\u001b[90mv\u001b[90ms\u001b[31m1\u001b[31me\u001b[31me\u001b[31me\u001b[31mo\u001b[31me\u001b[90m \u001b[90m \u001b[90m \u001b[90m \u001b[90m \u001b[90m \u001b[90m \u001b[90m \u001b[90m \n",
      "\u001b[90m+\u001b[90m>\u001b[90m>\u001b[90m>\u001b[90m>\u001b[90m\\\u001b[90m+\u001b[90m/\u001b[90m=\u001b[90m[\u001b[31mJ\u001b[31mn\u001b[31mn\u001b[31mn\u001b[31mn\u001b[31mn\u001b[31m7\u001b[90m}\u001b[31m}\u001b[90m}\u001b[90m{\u001b[90mx\u001b[90mx\u001b[90m>\u001b[90m)\u001b[90mx\u001b[31m]\u001b[31me\u001b[31ma\u001b[31mt\u001b[31mt\u001b[31mt\u001b[31mt\u001b[31mt\u001b[31mt\u001b[31mt\u001b[31ma\u001b[90ms\u001b[90m|\u001b[90m|\u001b[90m|\u001b[90m)\u001b[90m)\u001b[90m)\u001b[90m\"\u001b[90m=\u001b[90m=\u001b[90m=\u001b[90m=\u001b[90m=\u001b[90m=\u001b[90m<\u001b[90m)\u001b[90m)\u001b[90m>\u001b[90m>\u001b[90m>\u001b[90m>\u001b[90m|\u001b[90m=\u001b[90m=\u001b[90m^\u001b[90m:\u001b[90m:\u001b[90m;\u001b[90m|\u001b[90m)\u001b[90mi\u001b[90mv\u001b[31m*\u001b[31ma\u001b[31me\u001b[31m7\u001b[31m[\u001b[90m \u001b[90m \u001b[90m \u001b[90m \u001b[90m \u001b[90m \u001b[90m \u001b[90m \u001b[90m \n",
      "\u001b[90m:\u001b[90m/\u001b[90m>\u001b[90m>\u001b[90m<\u001b[90m/\u001b[90m/\u001b[90m/\u001b[90m+\u001b[90m\\\u001b[90mt\u001b[31mu\u001b[31mT\u001b[31mT\u001b[31mT\u001b[31mT\u001b[31mT\u001b[31mo\u001b[90m{\u001b[90mi\u001b[90m<\u001b[90m<\u001b[90m\\\u001b[90m+\u001b[90m,\u001b[90m^\u001b[90m)\u001b[90mv\u001b[90m*\u001b[31m1\u001b[31mt\u001b[31mt\u001b[31mt\u001b[31mt\u001b[31mt\u001b[31mt\u001b[31mt\u001b[31mt\u001b[90m>\u001b[90m|\u001b[90m)\u001b[90m)\u001b[90m)\u001b[90m)\u001b[90m|\u001b[90m+\u001b[90m=\u001b[90m=\u001b[90m=\u001b[90m=\u001b[90m=\u001b[90m/\u001b[90m)\u001b[90m<\u001b[90m>\u001b[90m>\u001b[90m>\u001b[90m>\u001b[90m/\u001b[90m=\u001b[90m=\u001b[90m=\u001b[90m,\u001b[90m:\u001b[90m:\u001b[90m:\u001b[90m;\u001b[90m|\u001b[90mi\u001b[90mi\u001b[31m?\u001b[31ma\u001b[90ml\u001b[90m^\u001b[90m;\u001b[90m;\u001b[90m,\u001b[90m \u001b[90m \u001b[90m \u001b[90m \u001b[90m \u001b[90m \n",
      "\u001b[90m'\u001b[90m|\u001b[90m\\\u001b[90m\"\u001b[90m^\u001b[90m;\u001b[90m+\u001b[90m/\u001b[90m/\u001b[90m+\u001b[90m+\u001b[90m<\u001b[90ml\u001b[90m}\u001b[90m?\u001b[90m1\u001b[31mj\u001b[31mo\u001b[90m>\u001b[90m<\u001b[90m<\u001b[90m/\u001b[90m:\u001b[90m:\u001b[90m:\u001b[90m:\u001b[90m'\u001b[90m/\u001b[90mc\u001b[31m{\u001b[31m*\u001b[31mI\u001b[31m!\u001b[31m1\u001b[31mt\u001b[31mt\u001b[31m1\u001b[31ma\u001b[31mo\u001b[90m)\u001b[90m|\u001b[90m)\u001b[90m)\u001b[90m)\u001b[90m)\u001b[90m|\u001b[90m/\u001b[90m=\u001b[90m=\u001b[90m=\u001b[90m=\u001b[90m=\u001b[90m=\u001b[90m=\u001b[90m)\u001b[90m)\u001b[90m>\u001b[90m\\\u001b[90m+\u001b[90m=\u001b[90m=\u001b[90m=\u001b[90m,\u001b[90m:\u001b[90m:\u001b[90m:\u001b[90m:\u001b[90m:\u001b[90m^\u001b[90m>\u001b[90mi\u001b[90m\"\u001b[90m;\u001b[90m;\u001b[90m^\u001b[90m^\u001b[90m;\u001b[90m;\u001b[90m;\u001b[90m \u001b[90m \u001b[90m \u001b[90m \n",
      "\u001b[90m:\u001b[90m^\u001b[90m;\u001b[90m;\u001b[90m;\u001b[90m;\u001b[90m;\u001b[90m=\u001b[90m+\u001b[90m/\u001b[90m/\u001b[90m+\u001b[90m=\u001b[90m=\u001b[90m=\u001b[90m+\u001b[90m)\u001b[90mv\u001b[90m<\u001b[90m\\\u001b[90m|\u001b[90m:\u001b[90m:\u001b[90m:\u001b[90m\"\u001b[90m)\u001b[90m)\u001b[31m{\u001b[31m{\u001b[31ms\u001b[31ms\u001b[31ms\u001b[31ms\u001b[31m{\u001b[31mI\u001b[31m[\u001b[31mJ\u001b[37mZ\u001b[37m@\u001b[33mm\u001b[90m)\u001b[90m\"\u001b[90m|\u001b[90m)\u001b[90m)\u001b[90m|\u001b[90m/\u001b[90m=\u001b[90m=\u001b[90m=\u001b[90m=\u001b[90m=\u001b[90m=\u001b[90m=\u001b[90m\"\u001b[90m|\u001b[90m/\u001b[90m=\u001b[90m=\u001b[90m=\u001b[90m^\u001b[90m;\u001b[90m:\u001b[90m:\u001b[90m:\u001b[90m:\u001b[90m:\u001b[90m:\u001b[90m:\u001b[90m;\u001b[90m;\u001b[90m;\u001b[90m;\u001b[90m;\u001b[90m;\u001b[90m;\u001b[90m;\u001b[90m^\u001b[90m;\u001b[90m;\u001b[90m;\u001b[90m \u001b[90m \n",
      "\u001b[90m;\u001b[90m;\u001b[90m;\u001b[90m;\u001b[90m;\u001b[90m;\u001b[90m;\u001b[90m;\u001b[90m^\u001b[90m^\u001b[90m=\u001b[90m=\u001b[90m=\u001b[90m=\u001b[90m^\u001b[90m_\u001b[90m;\u001b[90m:\u001b[90m:\u001b[90m.\u001b[90m+\u001b[90m<\u001b[90m;\u001b[90m;\u001b[90mx\u001b[90mr\u001b[31m{\u001b[31ms\u001b[31ms\u001b[31ms\u001b[31ms\u001b[31ms\u001b[31ms\u001b[31ms\u001b[31mr\u001b[31mI\u001b[37mk\u001b[37mH\u001b[37m@\u001b[37m@\u001b[90m\\\u001b[90m.\u001b[90m,\u001b[90m=\u001b[90m^\u001b[90m^\u001b[90m^\u001b[90m^\u001b[90m^\u001b[90m^\u001b[90m^\u001b[90m^\u001b[90m^\u001b[90m'\u001b[90m+\u001b[90m<\u001b[90m\"\u001b[90m,\u001b[90m:\u001b[90m:\u001b[90m:\u001b[90m:\u001b[90m:\u001b[90m:\u001b[90m:\u001b[90m:\u001b[90m:\u001b[90m:\u001b[90m,\u001b[90m;\u001b[90m;\u001b[90m;\u001b[90m;\u001b[90m;\u001b[90m;\u001b[90m;\u001b[90m;\u001b[90m;\u001b[90m;\u001b[90m^\u001b[90m;\u001b[90m;\u001b[90m,\n",
      "\u001b[90m;\u001b[90m;\u001b[90m;\u001b[90m;\u001b[90m;\u001b[90m;\u001b[90m;\u001b[90m;\u001b[90m;\u001b[90m;\u001b[90m;\u001b[90m;\u001b[90m;\u001b[90m^\u001b[90m,\u001b[90m'\u001b[90m-\u001b[90m \u001b[90m \u001b[90m \u001b[90m`\u001b[90mx\u001b[90m\\\u001b[90m+\u001b[90mc\u001b[90ms\u001b[31ms\u001b[31ms\u001b[31ms\u001b[31ms\u001b[31ms\u001b[31ms\u001b[31ms\u001b[31ms\u001b[31ms\u001b[90mr\u001b[37m4\u001b[37mK\u001b[37m@\u001b[37mH\u001b[31mn\u001b[90m \u001b[90m'\u001b[90m^\u001b[90m^\u001b[90m^\u001b[90m^\u001b[90m^\u001b[90m^\u001b[90m^\u001b[90m^\u001b[90m;\u001b[90m'\u001b[90m:\u001b[90m)\u001b[90mv\u001b[90mv\u001b[90m<\u001b[90m/\u001b[90m=\u001b[90m;\u001b[90m,\u001b[90m:\u001b[90m:\u001b[90m:\u001b[90m:\u001b[90m:\u001b[90m,\u001b[90m;\u001b[90m;\u001b[90m;\u001b[90m;\u001b[90m;\u001b[90m;\u001b[90m;\u001b[90m;\u001b[90m;\u001b[90m;\u001b[90m;\u001b[90m;\u001b[90m;\u001b[90m^\u001b[90m;\n",
      "\u001b[90m;\u001b[90m;\u001b[90m;\u001b[90m;\u001b[90m;\u001b[90m;\u001b[90m;\u001b[90m;\u001b[90m;\u001b[90m;\u001b[90m;\u001b[90m;\u001b[90m;\u001b[90m;\u001b[90m;\u001b[90m^\u001b[90m:\u001b[90m \u001b[90m \u001b[90m \u001b[90m \u001b[90m^\u001b[90m%\u001b[90mx\u001b[90ml\u001b[31ms\u001b[31ms\u001b[31ms\u001b[31ms\u001b[31ms\u001b[31ms\u001b[31ms\u001b[31ms\u001b[31ms\u001b[31ms\u001b[90mr\u001b[33m4\u001b[37mK\u001b[37m@\u001b[37m@\u001b[37m$\u001b[90m7\u001b[90m^\u001b[90m;\u001b[90m^\u001b[90m^\u001b[90m^\u001b[90m^\u001b[90m^\u001b[90m^\u001b[90m;\u001b[90m'\u001b[90m,\u001b[90m>\u001b[90mv\u001b[90mv\u001b[90mv\u001b[90mv\u001b[90mv\u001b[90mv\u001b[90mi\u001b[90m)\u001b[90m\\\u001b[90m;\u001b[90m:\u001b[90m:\u001b[90m:\u001b[90m,\u001b[90m;\u001b[90m;\u001b[90m;\u001b[90m;\u001b[90m;\u001b[90m;\u001b[90m;\u001b[90m;\u001b[90m;\u001b[90m;\u001b[90m;\u001b[90m;\u001b[90m;\u001b[90m;\u001b[90m;\u001b[39m\n",
      "\n",
      " _   _       _     _                 _   _                       _\n",
      "| | | |     | |   | |               | | | |                     | |\n",
      "| |_| | ___ | | __| |   ___  _ __   | |_| | __ _ _ __ _ __ _   _| |\n",
      "|  _  |/ _ \\| |/ _` |  / _ \\| '_ \\  |  _  |/ _` | '__| '__| | | | |\n",
      "| | | | (_) | | (_| | | (_) | | | | | | | | (_| | |  | |  | |_| |_|\n",
      "\\_| |_/\\___/|_|\\__,_|  \\___/|_| |_| \\_| |_/\\__,_|_|  |_|   \\__, (_)\n",
      "                                                            __/ |\n",
      "                                                           |___/\n",
      "        \n",
      "Launching a PyGrid Domain node on port 8081!\n",
      "\n",
      "  - TYPE: domain\n",
      "  - NAME: test_domain\n",
      "  - PORT: 8081\n",
      "  - DOCKER COMPOSE: v2.7.0\n",
      "\n",
      "\n",
      "\n",
      "Current Working Directory:  /Users/madhavajay/dev/PySyft/packages/grid\n",
      "Running: \n",
      " RELEASE=development COMPOSE_DOCKER_CLI_BUILD=1 DOCKER_BUILDKIT=1 HTTP_PORT=8081 HTTPS_PORT=444 TRAEFIK_TAG=51eb25e41d7a4b5351017dcb2feeafcfdde2a743d2407e5b7990b7407e2ea83a DOMAIN_NAME=test_domain NODE_TYPE=domain TRAEFIK_PUBLIC_NETWORK_IS_EXTERNAL=False VERSION=latest-dev VERSION_HASH=c53850c31269cd6000afc37c9af92f63c6c4dca2 USE_BLOB_STORAGE=True STACK_API_KEY=0qkoiw92Ju3jplVcngxbFfj8pjYFBRKeITQW5SCE9YDJOkJd docker compose -p test_domain --profile vpn --profile blob-storage --profile frontend --env-file /Users/madhavajay/dev/PySyft/packages/grid/.envfile --file docker-compose.yml --file docker-compose.build.yml --file docker-compose.dev.yml up -d --build\n",
      "Success!\n",
      "\n",
      "\n",
      "\u001b[0m"
     ]
    }
   ],
   "source": [
    "!hagrid launch test_domain domain to docker:8081 --tag=latest --tail=false --dev --cmd=true"
   ]
  },
  {
   "cell_type": "markdown",
   "id": "0bf43e69-c390-4433-9df3-75824392f574",
   "metadata": {},
   "source": [
    "Lets break up what those commands below are really doing. The first part is a long list of environment variables which are being set before we run our first command."
   ]
  },
  {
   "cell_type": "markdown",
   "id": "f413300b-bc78-4728-a40b-d0cc23ab9c14",
   "metadata": {},
   "source": [
    "```bash\n",
    "RELEASE=development\n",
    "COMPOSE_DOCKER_CLI_BUILD=1\n",
    "DOCKER_BUILDKIT=1\n",
    "HTTP_PORT=8081\n",
    "HTTPS_PORT=444\n",
    "TRAEFIK_TAG=51eb25e41d7a4b5351017dcb2feeafcfdde2a743d2407e5b7990b7407e2ea83a\n",
    "DOMAIN_NAME=test_domain\n",
    "NODE_TYPE=domain\n",
    "TRAEFIK_PUBLIC_NETWORK_IS_EXTERNAL=False\n",
    "VERSION=latest-dev\n",
    "VERSION_HASH=c53850c31269cd6000afc37c9af92f63c6c4dca2\n",
    "USE_BLOB_STORAGE=True\n",
    "STACK_API_KEY=0qkoiw92Ju3jplVcngxbFfj8pjYFBRKeITQW5SCE9YDJOkJd\n",
    "```"
   ]
  },
  {
   "cell_type": "markdown",
   "id": "e181af1e-f72b-442a-8149-7f0d561ad941",
   "metadata": {},
   "source": [
    "Interesting, we can see that by choosing 8081 as our port that is being reflected in the `HTTP_PORT` environment variable. Additionally, the name of our `domain` is being set, the type of node is `domain` and we seem to have `latest-dev` as our version, due to the `--dev` flag."
   ]
  },
  {
   "cell_type": "markdown",
   "id": "462833ac-7dbb-45b8-96ad-b23b20b34b5f",
   "metadata": {},
   "source": [
    "If you aren't familiar with environment variables they are ways to expose `key-value` pairs to applications running on operating systems in a way which does not require the os or the application to implicitly define what they are during application compile time."
   ]
  },
  {
   "cell_type": "markdown",
   "id": "d5abcfe7-0ccd-43c7-954b-1c1163f16039",
   "metadata": {},
   "source": [
    "In `POSIX` operating systems like `linux` and `macOS` these are usually written as `ALL_CAPS=value` by convention. On Windows there are two different syntaxes depending on if you are using `cmd.exe` or `powershell.exe` for powershell it's similar to `POSIX` but with `$env:` prepended like `$env:ALL_CAPS=\"value\"` and some other rules about `SPACING` and `\"quotes\"` around values."
   ]
  },
  {
   "cell_type": "markdown",
   "id": "53c1769e-af06-4601-be25-42fa20c3ce76",
   "metadata": {},
   "source": [
    "```\n",
    "docker compose\n",
    "-p test_domain\n",
    "--profile vpn\n",
    "--profile blob-storage\n",
    "--profile frontend\n",
    "--env-file /Users/madhavajay/dev/PySyft/packages/grid/.envfile\n",
    "--file docker-compose.yml\n",
    "--file docker-compose.build.yml\n",
    "--file docker-compose.dev.yml\n",
    "up -d --build\n",
    "```"
   ]
  },
  {
   "cell_type": "markdown",
   "id": "e77cfadf-b64e-4641-99f2-ca43d9ad6156",
   "metadata": {},
   "source": [
    "Theres quite a lot going on here so lets unpack it one flag at a time."
   ]
  },
  {
   "cell_type": "markdown",
   "id": "aeac229a-2438-48c5-bf7c-4da9a0f4da4c",
   "metadata": {},
   "source": [
    "We are telling `docker compose` to use `-p` (project name) = `test_domain` which will prefix all the container names on the system. This is particularly useful for running more than one stack for development."
   ]
  },
  {
   "cell_type": "markdown",
   "id": "06818f1d-3457-44f0-ae26-a65936dd1253",
   "metadata": {},
   "source": [
    "The next three profiles are a way in `docker compose` to toggle containers on and off based on groupings. In this case we are saying this `domain` will have a `vpn`, `frontend` and `blob-storage`. You can see this by checking the compose files themselves."
   ]
  },
  {
   "cell_type": "markdown",
   "id": "b4bb003a-c5ee-42ca-9e27-d862c5357341",
   "metadata": {},
   "source": [
    "```yaml\n",
    "# packages/grid/docker-compose.yml\n",
    "\n",
    "tailscale:\n",
    "  profiles:\n",
    "    - vpn\n",
    "```"
   ]
  },
  {
   "cell_type": "markdown",
   "id": "9e4f6bad-2429-4f92-95e2-5b8ebe5eaea4",
   "metadata": {},
   "source": [
    "Removing this profile will prevent the deployment of the `tailscale` container for instances where a `firewall` busting `end-to-end` VPN is not desired."
   ]
  },
  {
   "cell_type": "markdown",
   "id": "45520981-7c4a-4686-a795-3d40472a5e35",
   "metadata": {},
   "source": [
    "The next line tells `compose` we want to use a custom environment variable file for this deployment where we can set some variables and secrets. This is a duplicate of the defaults in `packages/grid/.env` and the `ENV` variables that `hagrid` generates on your behalf and puts on the command line."
   ]
  },
  {
   "cell_type": "markdown",
   "id": "65af5832-ddd8-4210-aa72-c4a714d3026f",
   "metadata": {},
   "source": [
    "Unfortunately a version of `docker compose` broke command line `ENV` variables and so this workaround is required to maintain compatibility for now. If you check the `hagrid` source you will see how this file is generated on each run."
   ]
  },
  {
   "cell_type": "markdown",
   "id": "a5a0e0fd-2240-4536-a827-b7b0c74e1fc6",
   "metadata": {},
   "source": [
    "The next three `--file` directives allow for additional compose `YAML` files to be layered on top of the default one `docker-compose.yml`. The way this works is each successive file overwrites all keys that it defines. In this instance because we are using `dev` mode we need `docker-compose.build.yml` and `docker-compose.dev.yml` so help compose know how to build the containers with our local code and how to mount the source code and configuration files for `hot-reloading` and open additional ports."
   ]
  },
  {
   "cell_type": "markdown",
   "id": "4d045f6a-3f07-4657-a67e-de7d39ce9d6d",
   "metadata": {},
   "source": [
    "### Hot Reloading"
   ]
  },
  {
   "cell_type": "markdown",
   "id": "99f72c90-698e-479e-a918-bf2974c32914",
   "metadata": {},
   "source": [
    "Let's see how hot reloading of the `backend` and `syft` is achieved and what some of the implications of it are."
   ]
  },
  {
   "cell_type": "markdown",
   "id": "138b653d-3874-4d80-9353-a8741d6980c0",
   "metadata": {},
   "source": [
    "If you look closely at the `backend.dockerfile` you will notice that we install `syft` in editable mode. This is so that modifications to the `/app/syft` path will result in the syft library itself changing."
   ]
  },
  {
   "cell_type": "markdown",
   "id": "6dfee480-3532-44b6-af92-107ded17eb22",
   "metadata": {},
   "source": [
    "```dockerfile\n",
    "# packages/grid/backend/backend.dockerfile\n",
    "\n",
    "...\n",
    "\n",
    "# install syft\n",
    "RUN --mount=type=cache,target=/root/.cache \\\n",
    "  pip install --user -e /app/syft\n",
    "```"
   ]
  },
  {
   "cell_type": "markdown",
   "id": "a5c6cc14-502d-4951-a802-2d3f44d0a40c",
   "metadata": {},
   "source": [
    "Additionally during this special `docker-compose.dev.yml` file we can then overwrite those internal paths in the container with volume mounts of our local `PySyft` code repo."
   ]
  },
  {
   "cell_type": "markdown",
   "id": "929704a6-7d29-4185-a95d-836bf728f818",
   "metadata": {},
   "source": [
    "```yml\n",
    "# packages/grid/docker-compose.dev.yml\n",
    "\n",
    "backend:\n",
    "    volumes:\n",
    "      - ${RELATIVE_PATH}./backend/grid:/app/grid\n",
    "      - ${RELATIVE_PATH}./backend/alembic:/app/alembic\n",
    "      - ${RELATIVE_PATH}../syft:/app/syft\n",
    "      - ${RELATIVE_PATH}./data/package-cache:/root/.cache\n",
    "    command: /start-reload.sh\n",
    "    environment:\n",
    "      - PROFILE=true\n",
    "      - JAEGER_HOST=docker-host\n",
    "      - JAEGER_PORT=6831\n",
    "```"
   ]
  },
  {
   "cell_type": "markdown",
   "id": "22e6f238-3281-4166-b1f2-a54939fc11c9",
   "metadata": {},
   "source": [
    "We then also replace the `command` with a version which starts our web server with `hot-reloading` using `exec uvicorn --reload`."
   ]
  },
  {
   "cell_type": "markdown",
   "id": "d15d117e-ba3a-4a82-941f-c55b39bb2c51",
   "metadata": {},
   "source": [
    "The final part of the `compose` command is `up -d --build`, where we ask compose to start our stack in `-d` detached mode and force a `--build` since the code may have changed in `dev` mode."
   ]
  },
  {
   "cell_type": "markdown",
   "id": "a907e0b0-66f4-481b-8480-cdbc2e6dbddf",
   "metadata": {},
   "source": [
    "## deploy to `custom ip`"
   ]
  },
  {
   "cell_type": "markdown",
   "id": "7f9bdb02-a0f7-4017-9d4a-09045ee38626",
   "metadata": {},
   "source": [
    "Let's look at a different example to understand a bit more about what `hagrid` can do. What if we don't want to deploy to our `Desktop` machine but somewhere else?"
   ]
  },
  {
   "cell_type": "markdown",
   "id": "72ba42ed-a18b-4037-9964-ad859301b6bf",
   "metadata": {},
   "source": [
    "Well if that `somewhere else` is an existing `linux` server somewhere that supports `ssh` to connect to and issue commands at we can ask `hagrid` to set it up for us."
   ]
  },
  {
   "cell_type": "markdown",
   "id": "1963eaef-ba29-483b-8cc8-c6d94bd01154",
   "metadata": {},
   "source": [
    "The way this works is by leveraging a tool called `ansible` which allows us to define the state in which we want a system to be in and have it run commands called a `playbook` against that machine until it gets into the desired state."
   ]
  },
  {
   "cell_type": "markdown",
   "id": "e13aa0a9-c6e2-4c68-a984-7cb94f9f3f3e",
   "metadata": {},
   "source": [
    "`Ansible` is only available on `linux` and `macos` but it should be automatically installed with `hagrid` if you are on those operating systems. If you are on `Windows` you could try installing `hagrid` into `wsl2` which should provide ansible."
   ]
  },
  {
   "cell_type": "markdown",
   "id": "c864f5ae-0fab-412f-80ce-dc6640b56d4f",
   "metadata": {},
   "source": [
    "Assuming we have the `IP`, and we have login credentials such as a `password` or `ssh-key` for a user on the machine with elevated priviledges we can run:"
   ]
  },
  {
   "cell_type": "code",
   "execution_count": 8,
   "id": "64528fb4-033b-426f-b137-d427d9bd5eb7",
   "metadata": {},
   "outputs": [
    {
     "name": "stdout",
     "output_type": "stream",
     "text": [
      "\n",
      "Username for 100.0.0.1 with sudo privledges? [azureuser]: ^C\n",
      "Error: \n",
      "\n",
      "\n"
     ]
    }
   ],
   "source": [
    "!hagrid launch test_domain domain to 100.0.0.1 --tag=latest --tail=false --cmd=true"
   ]
  },
  {
   "cell_type": "markdown",
   "id": "229c14f0-37d9-4445-a643-93b5601a7fcd",
   "metadata": {},
   "source": [
    "```\n",
    "cd /Users/madhavajay/dev/PySyft/packages/grid;ANSIBLE_CONFIG=/Users/madhavajay/dev/PySyft/packages/grid/ansible.cfg ansible-playbook -i 100.0.0.1, /Users/madhavajay/dev/PySyft/packages/grid/ansible/site.yml --private-key /Users/madhavajay/.ssh/azureuser.pem --user azureuser -e \"node_type='domain'\" -e \"node_name='test_domain'\" -e \"github_repo='OpenMined/PySyft'\" -e \"repo_branch='dev'\" -e \"docker_tag='latest'\" -e \"release='production'\"\n",
    "```"
   ]
  },
  {
   "cell_type": "markdown",
   "id": "d2e17e12-6b78-428c-a4e4-d441dec8e7ac",
   "metadata": {},
   "source": [
    "This command will prompt us for some remaining settings and finally generate this command to run."
   ]
  },
  {
   "cell_type": "markdown",
   "id": "daf711a5-bcca-417d-8064-69d883eb0c63",
   "metadata": {},
   "source": [
    "Let's take a look at how the `ansible` command is built up."
   ]
  },
  {
   "cell_type": "markdown",
   "id": "77cdfd0f-bb08-4e50-9da5-8a63a998f51e",
   "metadata": {},
   "source": [
    "```\n",
    "cd /Users/madhavajay/dev/PySyft/packages/grid;\n",
    "ANSIBLE_CONFIG=/Users/madhavajay/dev/PySyft/packages/grid/ansible.cfg\n",
    "```"
   ]
  },
  {
   "cell_type": "markdown",
   "id": "a77dca31-c5db-48ae-9e89-c5b9ad0968db",
   "metadata": {},
   "source": [
    "First we navigate to the `grid` folder and then pass in an `ENV` variable which tells `ansible` to use a specific configuration file."
   ]
  },
  {
   "cell_type": "markdown",
   "id": "b136f653-769f-4bfc-8dc3-b2dc0f137f35",
   "metadata": {},
   "source": [
    "Next we run `ansible-playbook` against the `IP` we chose with: `ansible-playbook -i 100.0.0.1`. Ansible is used to handling lots of machines at once from an inventory file but here we can tell it how to connect to this one machine."
   ]
  },
  {
   "cell_type": "markdown",
   "id": "431869b8-ea66-4c9b-aaed-e9aa881014a8",
   "metadata": {},
   "source": [
    "The playbook path is passed in here `/Users/madhavajay/dev/PySyft/packages/grid/ansible/site.yml` which provides the instructions on what to do via a series of `roles`."
   ]
  },
  {
   "cell_type": "markdown",
   "id": "bf8e9615-2894-4ccf-9f35-c61be8a9ecc6",
   "metadata": {},
   "source": [
    "In the case of `ssh-key` we pass in the path to it under `--private-key` and the user to log in with as `--user`."
   ]
  },
  {
   "cell_type": "markdown",
   "id": "92db01f4-9c2a-4458-a416-26b232b7bcf5",
   "metadata": {},
   "source": [
    "Finally, a series of `key-value` vars are passed in with the `-e \"key='value'\"` flag allowing us to override defaults found in the `vars.yml` file at `packages/grid/ansible/group_vars/all/vars.yml`."
   ]
  },
  {
   "cell_type": "markdown",
   "id": "a8881f57-9645-42e3-a28b-7fa754c6a7d2",
   "metadata": {},
   "source": [
    "Assuming the `credentials` match ansible will log in and get to work."
   ]
  },
  {
   "cell_type": "markdown",
   "id": "a87e28cd-bd7e-4c2d-af95-9b5e3935079c",
   "metadata": {},
   "source": [
    "The `site.yml` file above lists a handful of roles which the target machine will be setup for."
   ]
  },
  {
   "cell_type": "markdown",
   "id": "2a7a9169-9d7e-4812-a697-c7fb90f012dd",
   "metadata": {},
   "source": [
    "```yml\n",
    "# packages/grid/ansible/site.yml\n",
    "\n",
    "---\n",
    "- hosts: all\n",
    "  gather_facts: False\n",
    "  environment:\n",
    "    LC_ALL: en_US.UTF-8\n",
    "  become: yes\n",
    "  roles:\n",
    "    - node\n",
    "    - jupyter\n",
    "    - containers\n",
    "    - update\n",
    "```"
   ]
  },
  {
   "cell_type": "markdown",
   "id": "b4a9e0bf-e7c3-4110-87d8-41f3e575f265",
   "metadata": {},
   "source": [
    "Here we can see, `node`, `jupyter`, `containers` and `update`."
   ]
  },
  {
   "cell_type": "markdown",
   "id": "971bddbb-59bb-4b8d-8eee-8bcb46050805",
   "metadata": {},
   "source": [
    "If we check the folder structure of `packages/ansible/roles`` we should see:"
   ]
  },
  {
   "cell_type": "markdown",
   "id": "a988a437-b68f-4727-addb-d9d3ee70fe2d",
   "metadata": {},
   "source": [
    "```\n",
    "├── containers\n",
    "│   ├── handlers\n",
    "│   │   └── main.yml\n",
    "│   └── tasks\n",
    "│       ├── containers.yml\n",
    "│       ├── hagrid.yml\n",
    "│       ├── main.yml\n",
    "│       ├── src.yml\n",
    "│       └── tls.yml\n",
    "├── jupyter\n",
    "│   └── tasks\n",
    "│       └── main.yml\n",
    "├── networkm\n",
    "│   └── tasks\n",
    "│       └── main.yml\n",
    "├── node\n",
    "│   ├── handlers\n",
    "│   │   └── main.yml\n",
    "│   └── tasks\n",
    "│       ├── docker.yml\n",
    "│       ├── main.yml\n",
    "│       ├── security.yml\n",
    "│       └── system.yml\n",
    "└── update\n",
    "    └── tasks\n",
    "        └── main.yml\n",
    "```"
   ]
  },
  {
   "cell_type": "markdown",
   "id": "21264f5d-057d-4470-bc44-ed86fbbafb27",
   "metadata": {},
   "source": [
    "Ansible is about convention over configuration so each of those `roles` listed above will match a folder name and inside that folder will be a `tasks` folder with a `main.yml` which will get executed."
   ]
  },
  {
   "cell_type": "markdown",
   "id": "f820feb6-221d-48fc-9ed6-80534dbe7115",
   "metadata": {},
   "source": [
    "```yml\n",
    "# packages/grid/ansible/roles/node/tasks/main.yml\n",
    "---\n",
    "...\n",
    "\n",
    "- name: Install docker\n",
    "  import_tasks: docker.yml\n",
    "  when: deploy_only is not defined and install == \"true\"\n",
    "```"
   ]
  },
  {
   "cell_type": "markdown",
   "id": "7adb2f1f-ac86-40fa-bbd6-54cd2f8d68cd",
   "metadata": {},
   "source": [
    "Here we can see that one of these tasks is to import and run another task for installing `docker`."
   ]
  },
  {
   "cell_type": "markdown",
   "id": "8d2d373a-682e-4608-a0cf-12d90c099fe4",
   "metadata": {},
   "source": [
    "### Ansible Modules"
   ]
  },
  {
   "cell_type": "markdown",
   "id": "dda6b19a-8522-4faf-8ba4-cac11ce54669",
   "metadata": {},
   "source": [
    "One of the beautiful things about `ansible` is that while this has been mostly built and tested for `Ubuntu 20.04` it will be trivial to add support for most other `linux` operating systems as many of the ansible modules already support them, automatically substituting package managers and service runners for us with minimal changes."
   ]
  },
  {
   "cell_type": "code",
   "execution_count": null,
   "id": "7e84e935-f030-4b49-8422-b61e2e9bb0ff",
   "metadata": {},
   "outputs": [],
   "source": []
  },
  {
   "cell_type": "markdown",
   "id": "2d997a7c-2750-4791-bb79-68c5256ef8b3",
   "metadata": {},
   "source": [
    "## deploy to `azure`"
   ]
  },
  {
   "cell_type": "code",
   "execution_count": null,
   "id": "002e3fec-f6c8-4943-bfa5-e87f56d7f191",
   "metadata": {},
   "outputs": [],
   "source": []
  },
  {
   "cell_type": "markdown",
   "id": "737e860e-61d1-4e05-8fce-602b4264c824",
   "metadata": {},
   "source": [
    "## Desktop Deployments"
   ]
  },
  {
   "cell_type": "markdown",
   "id": "6f3333e1-bd63-4ac1-863d-70d73537082f",
   "metadata": {},
   "source": [
    "The important distinctions when considering if a deployment is desktop or not is really related to who is deploying a node, which machine they are running `hagrid` on and what the `os` and `container` host will be."
   ]
  },
  {
   "cell_type": "markdown",
   "id": "df79b0d2-d83b-411d-bfed-dce0ce287450",
   "metadata": {},
   "source": [
    "- MacOS  \n",
    "  Docker Desktop\n",
    "\n",
    "- Windows  \n",
    "  Docker Desktop\n",
    "\n",
    "- Windows WSL2  \n",
    "  Docker Engine\n",
    "\n",
    "- Linux  \n",
    "  Docker Engine"
   ]
  },
  {
   "cell_type": "markdown",
   "id": "a7134ed7-89c0-4c7a-8ae0-e13d143e91fa",
   "metadata": {},
   "source": [
    "Of course other combinations are possible such as running the linux version of `Docker Desktop` on `linux` or possibly even `wsl2` but the principal remains the same."
   ]
  },
  {
   "cell_type": "markdown",
   "id": "8bcf4451-dacd-4bb2-a0bb-877c86cc76e4",
   "metadata": {},
   "source": [
    "## Server Deployments"
   ]
  },
  {
   "cell_type": "code",
   "execution_count": null,
   "id": "22188de3-e0eb-481c-9c13-396065cc7baf",
   "metadata": {},
   "outputs": [],
   "source": []
  },
  {
   "cell_type": "code",
   "execution_count": 1,
   "id": "2b1e15ca-b0ba-42e7-91be-d08fd4527380",
   "metadata": {},
   "outputs": [],
   "source": [
    "## Cake"
   ]
  },
  {
   "cell_type": "code",
   "execution_count": 2,
   "id": "5fbb4aed-f841-49b7-a583-dd2d72ecda23",
   "metadata": {},
   "outputs": [],
   "source": [
    "## Container Hosts"
   ]
  },
  {
   "cell_type": "code",
   "execution_count": null,
   "id": "57857caa-7548-434d-b7dd-52d470938e33",
   "metadata": {},
   "outputs": [],
   "source": [
    "## "
   ]
  },
  {
   "cell_type": "code",
   "execution_count": null,
   "id": "1ff3dc87-d93e-4b89-88ae-290e9d8d5fcf",
   "metadata": {},
   "outputs": [],
   "source": [
    "how the cli tool works\n",
    "bootstrapping issues (especially Windows)\n",
    "python PATH and console-scripts\n",
    "quickstart\n",
    "how to use different versions\n",
    "our target platforms\n",
    "linux containers\n",
    "apple silicon linux/arm64\n",
    "docker\n",
    "kubernetes\n",
    "vms on azure and GCP\n",
    "ansible\n",
    "packer\n",
    "building vms\n",
    "packer\n",
    "vagrant\n",
    "cloud deployment\n",
    "azure\n",
    "gcp\n",
    "IP\n",
    "kubernetes"
   ]
  },
  {
   "cell_type": "code",
   "execution_count": null,
   "id": "856d9594-37f1-427b-854d-429ecf0a83ab",
   "metadata": {},
   "outputs": [],
   "source": [
    "Homework\n",
    "test out quickstart\n",
    "try a bunch of tutorials?"
   ]
  }
 ],
 "metadata": {
  "kernelspec": {
   "display_name": "Python 3 (ipykernel)",
   "language": "python",
   "name": "python3"
  },
  "language_info": {
   "codemirror_mode": {
    "name": "ipython",
    "version": 3
   },
   "file_extension": ".py",
   "mimetype": "text/x-python",
   "name": "python",
   "nbconvert_exporter": "python",
   "pygments_lexer": "ipython3",
   "version": "3.10.4"
  }
 },
 "nbformat": 4,
 "nbformat_minor": 5
}
