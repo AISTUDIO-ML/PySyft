{
 "cells": [
  {
   "cell_type": "markdown",
   "id": "3786febe-14f6-45c6-b18d-f02b22b0179a",
   "metadata": {
    "tags": []
   },
   "source": [
    "# Secure Multi Party Computation (SMPC)  - Session 5"
   ]
  },
  {
   "cell_type": "markdown",
   "id": "23b26711-aec8-41b2-bb21-acc1be5ec6b4",
   "metadata": {},
   "source": [
    "***TODO***: Include quote from StarWars"
   ]
  },
  {
   "cell_type": "markdown",
   "id": "62c40a32-1f10-42e1-b22a-db706e9ef9c0",
   "metadata": {},
   "source": [
    "In this session we cover: \n",
    "- Input Privacy\n",
    "- Overview of SMPC\n",
    "- Security Guarantees\n",
    "- Security Models\n",
    "- Secret Sharing\n",
    "- Arithmetic Secret Sharing\n",
    "- SMPC in PySyft\n",
    "- Public and Private Operations\n",
    "- Async Execution Model\n",
    "- CeleryWorker Execution Pools\n",
    "- GreenThreads\n",
    "- Gevent\n",
    "- Retriable Actions\n",
    "- MPCTensor\n",
    "- ShareTensor\n",
    "- Addition Example\n",
    "- Psedudo Random Generators\n",
    "- Beaver Triples\n",
    "- Private Multiplication\n",
    "- Arithmetc <> Boolean Sharing\n",
    "- Bit Decomposition\n",
    "- Bit Injection\n",
    "- Private Compare\n",
    "- Malicious Security\n",
    "- Future Directions\n",
    "- Alternatives\n",
    "- Trial of Courage\n",
    "- Brain Food\n",
    "- Homework\n",
    "- Bonus Materials"
   ]
  },
  {
   "cell_type": "code",
   "execution_count": null,
   "id": "ea0eccf0-78a8-4d69-b393-b1838ad52223",
   "metadata": {},
   "outputs": [],
   "source": []
  }
 ],
 "metadata": {
  "kernelspec": {
   "display_name": "Python 3 (ipykernel)",
   "language": "python",
   "name": "python3"
  },
  "language_info": {
   "codemirror_mode": {
    "name": "ipython",
    "version": 3
   },
   "file_extension": ".py",
   "mimetype": "text/x-python",
   "name": "python",
   "nbconvert_exporter": "python",
   "pygments_lexer": "ipython3",
   "version": "3.9.13"
  }
 },
 "nbformat": 4,
 "nbformat_minor": 5
}
