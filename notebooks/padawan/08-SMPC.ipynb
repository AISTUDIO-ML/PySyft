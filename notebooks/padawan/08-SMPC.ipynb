{
 "cells": [
  {
   "cell_type": "markdown",
   "id": "3786febe-14f6-45c6-b18d-f02b22b0179a",
   "metadata": {
    "tags": []
   },
   "source": [
    "# Secure Multi Party Computation (SMPC)  - Session 5"
   ]
  },
  {
   "cell_type": "markdown",
   "id": "23b26711-aec8-41b2-bb21-acc1be5ec6b4",
   "metadata": {},
   "source": [
    "***TODO***: Include quote from StarWars"
   ]
  },
  {
   "cell_type": "markdown",
   "id": "62c40a32-1f10-42e1-b22a-db706e9ef9c0",
   "metadata": {},
   "source": [
    "In this session we cover: \n",
    "- Input Privacy\n",
    "- Introduction to SMPC\n",
    "- Security Guarantees\n",
    "- Security Models\n",
    "- Secret Sharing\n",
    "- Arithmetic Secret Sharing\n",
    "- SMPC in PySyft\n",
    "- Async Execution Model\n",
    "- CeleryWorker Execution Pools\n",
    "- GreenThreads\n",
    "- Gevent\n",
    "- Retriable Actions\n",
    "- MPCTensor\n",
    "- ShareTensor\n",
    "- Addition Example\n",
    "- Public and Private Operations\n",
    "- Psedudo Random Generators\n",
    "- Beaver Triples\n",
    "- Private Multiplication\n",
    "- Arithmetc <> Boolean Sharing\n",
    "- Bit Decomposition\n",
    "- Bit Injection\n",
    "- Private Compare\n",
    "- Malicious Security\n",
    "- DP and SMPC\n",
    "- Future Directions\n",
    "- Alternatives\n",
    "- Trial of Courage\n",
    "- Brain Food\n",
    "- Homework\n",
    "- Bonus Materials"
   ]
  },
  {
   "cell_type": "markdown",
   "id": "523974c2-70b7-4989-86fc-34349c591f11",
   "metadata": {},
   "source": [
    "## Input Privacy"
   ]
  },
  {
   "cell_type": "code",
   "execution_count": null,
   "id": "9fdefc9a-f0a7-4ad4-b15b-fb9bea4a1acd",
   "metadata": {},
   "outputs": [],
   "source": []
  },
  {
   "cell_type": "markdown",
   "id": "e3b919f9-9297-460b-838a-888179f4880a",
   "metadata": {},
   "source": [
    "## Introduction to SMPC"
   ]
  },
  {
   "cell_type": "code",
   "execution_count": null,
   "id": "c17e0661-6aa8-4796-a172-e8ec40406a2c",
   "metadata": {},
   "outputs": [],
   "source": [
    "Include millionaire Example"
   ]
  },
  {
   "cell_type": "markdown",
   "id": "630564d4-39fc-4524-a130-5792cdfd37bd",
   "metadata": {},
   "source": [
    "## Security Guarantees"
   ]
  },
  {
   "cell_type": "markdown",
   "id": "b31406ce-7e64-4f99-94f7-b55abc68baea",
   "metadata": {},
   "source": [
    "Explantion of Computational, Information Theoretic settings."
   ]
  },
  {
   "cell_type": "markdown",
   "id": "534d2f6c-32b4-413e-aa86-61a7375a1738",
   "metadata": {},
   "source": [
    "## Security Models"
   ]
  },
  {
   "cell_type": "markdown",
   "id": "38c16b67-5cdd-47f5-8e2a-0f04e1ac0b20",
   "metadata": {},
   "source": [
    "Explanation of semi-honest, malicious and covert security"
   ]
  },
  {
   "cell_type": "markdown",
   "id": "317887be-4591-48c3-ab3f-f01f7c9f2e19",
   "metadata": {},
   "source": [
    "## Secret Sharing"
   ]
  },
  {
   "cell_type": "code",
   "execution_count": null,
   "id": "e396b135-ab2a-4b9b-9a99-7aff75fde928",
   "metadata": {},
   "outputs": [],
   "source": [
    "Various Secret Sharing, like VSS, Shamir's"
   ]
  },
  {
   "cell_type": "markdown",
   "id": "69d018b8-d9b1-45ab-8fb1-861362b7c42c",
   "metadata": {},
   "source": [
    "## Arithmetic Secret Sharing"
   ]
  },
  {
   "cell_type": "code",
   "execution_count": null,
   "id": "eafd96ad-a5dd-45bd-a525-ae4d714348b4",
   "metadata": {},
   "outputs": [],
   "source": []
  },
  {
   "cell_type": "markdown",
   "id": "ca456606-6a67-4753-814c-bdeec50ef646",
   "metadata": {},
   "source": [
    "## SMPC in PySyft"
   ]
  },
  {
   "cell_type": "code",
   "execution_count": null,
   "id": "0d9ab806-6773-46ae-be9e-dfaedd4e8349",
   "metadata": {},
   "outputs": [],
   "source": []
  }
 ],
 "metadata": {
  "kernelspec": {
   "display_name": "Python 3 (ipykernel)",
   "language": "python",
   "name": "python3"
  },
  "language_info": {
   "codemirror_mode": {
    "name": "ipython",
    "version": 3
   },
   "file_extension": ".py",
   "mimetype": "text/x-python",
   "name": "python",
   "nbconvert_exporter": "python",
   "pygments_lexer": "ipython3",
   "version": "3.9.13"
  }
 },
 "nbformat": 4,
 "nbformat_minor": 5
}
