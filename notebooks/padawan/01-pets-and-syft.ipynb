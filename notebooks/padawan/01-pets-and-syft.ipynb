{
 "cells": [
  {
   "cell_type": "markdown",
   "id": "154fd48b-7ed6-494d-b7b4-25eeba0049c2",
   "metadata": {},
   "source": [
    "# Why Data Privacy"
   ]
  },
  {
   "cell_type": "markdown",
   "id": "c53938df-0d47-4175-b64c-21a6cad62e51",
   "metadata": {},
   "source": [
    "In this lesson we will learn about:\n",
    "- PETs\n",
    "- Data Privacy Case\n",
    "- Our Vision for Syft\n",
    "- Input and Output Privacy\n",
    "- Use Cases for PETs\n",
    "- The Zero Copy Problem\n",
    "- Remote Data Science Solution\n",
    "- Challenges\n",
    "- Solutions to those Challenges\n",
    "- The Syft Stack\n",
    "- Technologies we use\n",
    "- Version History\n",
    "- How this Tech Enables the Vision"
   ]
  },
  {
   "cell_type": "code",
   "execution_count": null,
   "id": "5332bd1f-862f-4576-a4fa-f9e5226102a9",
   "metadata": {},
   "outputs": [],
   "source": []
  },
  {
   "cell_type": "markdown",
   "id": "fdbe3b60-d06b-4d15-894e-aa3d2ece96c7",
   "metadata": {},
   "source": [
    "https://en.wikipedia.org/wiki/Data_re-identification"
   ]
  },
  {
   "cell_type": "markdown",
   "id": "b9633806-c5fb-4333-bf23-2922d19da90c",
   "metadata": {},
   "source": [
    "# Netflix Prize"
   ]
  },
  {
   "cell_type": "code",
   "execution_count": null,
   "id": "5cf4f564-2ae8-435f-9a4f-9071db6f992e",
   "metadata": {},
   "outputs": [],
   "source": []
  },
  {
   "cell_type": "markdown",
   "id": "4c355302-aa2c-47f2-b727-72d0df516d95",
   "metadata": {},
   "source": [
    "### How To Break Anonymity of the Netflix Prize Dataset"
   ]
  },
  {
   "cell_type": "markdown",
   "id": "dd7ca6b9-b07d-43c8-8fc1-efc0ab3f68e7",
   "metadata": {},
   "source": [
    "We apply our de-anonymization methodology to the Netflix Prize dataset, which contains anonymous\n",
    "movie ratings of 500,000 subscribers of Netflix, the world’s largest online movie rental service. We\n",
    "demonstrate that an adversary who knows only a little bit about an individual subscriber can easily\n",
    "identify this subscriber’s record in the dataset. Using the Internet Movie Database as the source of\n",
    "background knowledge, we successfully identified the Netflix records of known users, uncovering their\n",
    "apparent political preferences and other potentially sensitive information."
   ]
  },
  {
   "cell_type": "markdown",
   "id": "0007cc20-ea55-4da9-b9d7-b6e7d3fe4a5f",
   "metadata": {},
   "source": [
    "Paper: How To Break Anonymity of the Netflix Prize Dataset\n",
    "https://arxiv.org/abs/cs/0610105"
   ]
  },
  {
   "cell_type": "markdown",
   "id": "e3e56a52-4fb5-4d73-9792-29fd80069b3c",
   "metadata": {},
   "source": [
    "# PETs"
   ]
  },
  {
   "cell_type": "markdown",
   "id": "3e18c501-ef30-45dc-9c47-ea1b6165bde7",
   "metadata": {},
   "source": [
    "- **Homomorphic encryption**  \n",
    "a form of encryption that allows computation on ciphertexts\n",
    "\n",
    "- **Zero-knowledge proof**\n",
    "  a method by which one party (the prover) can prove to another party (the verifier) that they know a value x, without conveying any information apart from the fact that they know the value x\n",
    "  \n",
    "- **Secure multi-party computation**  \n",
    "    a method for parties to jointly compute a function over their inputs while keeping those inputs private\n",
    "    \n",
    "- **Differential privacy**  \n",
    "    an algorithm is constrained so that the results or outputs of a data analysis can't tell if a certain individuals information is being used to analyze and form the results\n",
    "    \n",
    "- **Pseudonymization**  \n",
    "  a data management technique that replaces an individual's identity or personal information with an artificial identifiers known as Pseudonyms. This de-identification method enables contents and fields of information to be covered up so as to deter attacks and hackers from obtaining important information.\n",
    "  \n",
    "\n",
    "- **Federated learning**  \n",
    "  is a machine learning technique that trains models across multiple distributed nodes. Each node houses a local, private dataset"
   ]
  },
  {
   "cell_type": "markdown",
   "id": "451f0b83-8286-40a7-b8eb-9ece5f6ea42f",
   "metadata": {},
   "source": [
    "Source: https://en.wikipedia.org/wiki/Privacy-enhancing_technologies"
   ]
  },
  {
   "cell_type": "markdown",
   "id": "c0ff24d3-d70d-40ac-96fb-be78b9878947",
   "metadata": {},
   "source": [
    "# Input Privacy"
   ]
  },
  {
   "cell_type": "markdown",
   "id": "42fe6e07-2f95-4c37-a8e2-3b160b6080ec",
   "metadata": {},
   "source": [
    "# Output Privacy"
   ]
  },
  {
   "cell_type": "markdown",
   "id": "6bb0ff6d-5d0b-421e-9843-a11c9f3a8f76",
   "metadata": {},
   "source": [
    "# Use Cases\n",
    "- Data Owners\n",
    "- Model Owners"
   ]
  },
  {
   "cell_type": "markdown",
   "id": "5cc2e061-f611-4044-a546-e5bd31b76201",
   "metadata": {},
   "source": [
    "# No Copy"
   ]
  },
  {
   "cell_type": "markdown",
   "id": "38f563c4-3c41-4875-ab97-d42cac6a6ed3",
   "metadata": {},
   "source": [
    "# RPC"
   ]
  },
  {
   "cell_type": "markdown",
   "id": "284f8aec-36ee-4ecc-a425-4d42f82b9da7",
   "metadata": {},
   "source": [
    "# Obstacles"
   ]
  },
  {
   "cell_type": "markdown",
   "id": "8da3c2f5-23c9-4546-8d7e-27e548ed618c",
   "metadata": {},
   "source": [
    "# Why is Secure RPC so hard?"
   ]
  },
  {
   "cell_type": "markdown",
   "id": "71241848-425a-4409-81a4-c318341426f8",
   "metadata": {},
   "source": [
    "# Platform Support"
   ]
  },
  {
   "cell_type": "markdown",
   "id": "2e9a6086-0923-4981-8ec4-22f673390e03",
   "metadata": {},
   "source": [
    "The world has been trending towards running everything in the cloud in the same kinds of enviornments like Linux VMs or Containers. This is great for developers because these become the target development and deployment platforms so much so the term DevOps is synonymous with creating and running code in a consistent environment.\n",
    "\n",
    "Unfortunately with the Zero Copy Problem, and the desire to provide Security the model is somewhat inverted and we actually need to support our users where their data lies. Asking Data and Model owners to just upload their precious data or models to the cloud somewhat defeats the purpose. We want a future where Data can be securely accessed no matter where the physical hardware exists, from servers to home laptops, IoT and Mobile on the Edge."
   ]
  },
  {
   "cell_type": "markdown",
   "id": "9c0657ed-4fec-466f-aea1-753ec6fd6aa8",
   "metadata": {},
   "source": [
    "# Firewalls & NATs"
   ]
  },
  {
   "cell_type": "markdown",
   "id": "440d3e6f-5139-4db8-b04a-02bfb5d213d9",
   "metadata": {},
   "source": [
    "# Programming Languages"
   ]
  },
  {
   "cell_type": "code",
   "execution_count": null,
   "id": "29bdb3c7-1262-4e95-92cf-68eb8f38088c",
   "metadata": {},
   "outputs": [],
   "source": []
  },
  {
   "cell_type": "markdown",
   "id": "4dcb18d7-83e0-42e7-901f-9627c6424ef5",
   "metadata": {},
   "source": [
    "# A PETs shopping list"
   ]
  },
  {
   "cell_type": "markdown",
   "id": "c5622367-2531-422f-9da0-1c740edff107",
   "metadata": {},
   "source": [
    "- Input Privacy - SMPC\n",
    "- Output Privacy - AutoDP\n",
    "- Any Hardware / OS - PyGrid\n",
    "- The Data Science Ecosystem - Python\n",
    "- Behind Firewalls - Tailscale"
   ]
  },
  {
   "cell_type": "markdown",
   "id": "5b5f517f-fe39-4bc9-9188-a1901d3f163d",
   "metadata": {},
   "source": [
    "# Pointers"
   ]
  },
  {
   "cell_type": "markdown",
   "id": "39a0e48c-2eb5-46e1-89e9-6beb13968f4d",
   "metadata": {},
   "source": [
    "# History"
   ]
  },
  {
   "cell_type": "markdown",
   "id": "d839e578-e06b-4e14-a939-04b5bd8c3078",
   "metadata": {},
   "source": [
    "- 0.2\n",
    "  - Pointer system, actions, plans (waiting for each request is slow)\n",
    "  outputs from one become inputs to the next\n",
    "- 0.3 Duet\n",
    "  - p2p connections over aiortc (webrtc) with stun / turn\n",
    "  - reimplement without torch hook and nested tensor chain issues\n",
    "- 0.4: educational course\n",
    "  - introduced 3rd party libraries\n",
    "- 0.5\n",
    "  - monorepo with pygrid\n",
    "  - code to wrap any arbitrary data science library\n",
    "  - Sidecar data is an issue!?"
   ]
  },
  {
   "cell_type": "markdown",
   "id": "b8f8097f-2596-4dd2-b790-48534a6b71a4",
   "metadata": {},
   "source": [
    "# Terminology"
   ]
  },
  {
   "cell_type": "markdown",
   "id": "00594c22-58e2-4064-9c99-ab4a8795716c",
   "metadata": {},
   "source": [
    "# Syft or PySyft"
   ]
  },
  {
   "cell_type": "markdown",
   "id": "ec75529e-23c7-465b-8ee6-4f74e0c84967",
   "metadata": {},
   "source": [
    "# Grid or PyGrid"
   ]
  },
  {
   "cell_type": "markdown",
   "id": "8917d6e4-43c7-460b-b37a-8fafa37009c2",
   "metadata": {},
   "source": [
    "# HAGrid"
   ]
  },
  {
   "cell_type": "markdown",
   "id": "1c44d1ea-1836-447d-bbfb-ad736466597c",
   "metadata": {},
   "source": [
    "# Domain"
   ]
  },
  {
   "cell_type": "code",
   "execution_count": null,
   "id": "66c5bbf2-331c-4efa-8311-692e5791fa9e",
   "metadata": {},
   "outputs": [],
   "source": []
  },
  {
   "cell_type": "markdown",
   "id": "971605e1-b420-4bc5-a0ed-c2b19af9bec2",
   "metadata": {},
   "source": []
  },
  {
   "cell_type": "code",
   "execution_count": null,
   "id": "af7abdfb-5eb6-42a4-bb55-4b6af208e445",
   "metadata": {},
   "outputs": [],
   "source": []
  }
 ],
 "metadata": {
  "kernelspec": {
   "display_name": "Python 3 (ipykernel)",
   "language": "python",
   "name": "python3"
  },
  "language_info": {
   "codemirror_mode": {
    "name": "ipython",
    "version": 3
   },
   "file_extension": ".py",
   "mimetype": "text/x-python",
   "name": "python",
   "nbconvert_exporter": "python",
   "pygments_lexer": "ipython3",
   "version": "3.10.4"
  }
 },
 "nbformat": 4,
 "nbformat_minor": 5
}
