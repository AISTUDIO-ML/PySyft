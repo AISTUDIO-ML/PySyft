{
 "cells": [
  {
   "cell_type": "markdown",
   "id": "154fd48b-7ed6-494d-b7b4-25eeba0049c2",
   "metadata": {},
   "source": [
    "# Motivations for Remote Data Science"
   ]
  },
  {
   "cell_type": "markdown",
   "id": "c53938df-0d47-4175-b64c-21a6cad62e51",
   "metadata": {},
   "source": [
    "In this lesson we cover:\n",
    "\n",
    "- Why Data Privacy\n",
    "- The Netflix Prize\n",
    "- Data Linkage\n",
    "- The Copy Problem\n",
    "- Pareto Optimality\n",
    "- OpenMined's Vision\n",
    "- Popular PETs\n",
    "- Output Privacy\n",
    "- Input Privacy\n",
    "- Remote Data Science\n",
    "- Obstacles\n",
    "- Compute at the Edge\n",
    "- Secure Remote Proceedure Call\n",
    "- Syft + Grid\n",
    "- How many memes can we fit into one notebook"
   ]
  },
  {
   "cell_type": "markdown",
   "id": "289eddfa-0d44-4ca4-9d41-9f5798b460b5",
   "metadata": {},
   "source": [
    "## Why Data Privacy?"
   ]
  },
  {
   "cell_type": "markdown",
   "id": "55ab81b3-325d-4887-a30e-927b99876fa6",
   "metadata": {},
   "source": [
    "You have probably heard of data anonymisation or de-identification. Your personal data in some database, gets used for some kind of summary statistics to help improve the ability to serve you and other customers better. It might even be your medical data being used to teach other doctors about your treatment. The basic idea is, if your name, gender or age are simply removed from the data record, before its used; then no harm can be done to you right?\n"
   ]
  },
  {
   "cell_type": "markdown",
   "id": "7a84618c-b454-4a3d-993a-cfb5d35a50b5",
   "metadata": {},
   "source": [
    "<img src=\"https://i.imgflip.com/6t77jt.jpg\" />"
   ]
  },
  {
   "cell_type": "markdown",
   "id": "5014e94a-4d13-452c-8c91-41dbdceedfe6",
   "metadata": {},
   "source": [
    "<blockquote><strong>🔗 Web Link</strong><br /><a href=\"https://en.wikipedia.org/wiki/Data_re-identification\">https://en.wikipedia.org/wiki/Data_re-identification</a></blockquote>"
   ]
  },
  {
   "cell_type": "markdown",
   "id": "b9633806-c5fb-4333-bf23-2922d19da90c",
   "metadata": {},
   "source": [
    "## The Netflix Prize"
   ]
  },
  {
   "cell_type": "markdown",
   "id": "06ef853c-d270-4d81-9675-27f78fe86ba4",
   "metadata": {},
   "source": [
    "A canonical example of the insufficiency of traditional data anonymisation techniques, would be the the famous case of the Netflix Prize 🍿."
   ]
  },
  {
   "cell_type": "markdown",
   "id": "6644acf5-7479-4aae-b73e-d5e44815012c",
   "metadata": {},
   "source": [
    "In 2007, Netflix ran a public competition a bit like a Kaggle competition, where they provided anonymised data of their users viewing habits, asking prospective data scientists to create collaborative filtering algorithms that could better predict the likelihood that a given user would like a certain film they had not seen before, provided the viewing history of a huge array of users.\n",
    "\n",
    "The data was \"anonymized\" and only provided random UserID and data about which films the user had seen in the dataset.\n",
    "\n",
    "In the paper, “How To Break Anonymity of the Netflix Prize Dataset” authors Arvind Narayanan and Vitaly Shmatikov go on to explain how brilliantly, they managed to reverse engineer and re-identify many of these users.\n",
    "\n",
    "<blockquote>\n",
    "We apply our de-anonymization methodology to the Netflix Prize dataset, which contains anonymous movie ratings of 500,000 subscribers of Netflix, the world’s largest online movie rental service. We demonstrate that an adversary who knows only a little bit about an individual subscriber can easily identify this subscriber’s record in the dataset. Using the Internet Movie Database as the source of background knowledge, we successfully identified the Netflix records of known users, uncovering their apparent political preferences and other potentially sensitive information.\n",
    "</blockquote>\n"
   ]
  },
  {
   "cell_type": "markdown",
   "id": "2bb900e3-b91f-44d7-9f17-21f7a5fd80ed",
   "metadata": {},
   "source": [
    "So, the trick was to use another dataset to cross reference, and in this case they had the perfect dataset; the website `IMDB`, where users publicly rate and review movies. Given the large amount of films available, the unique viewing habits of any given user creates a kind of fingerprint allowing highly probable matches between the two datasets."
   ]
  },
  {
   "cell_type": "markdown",
   "id": "91827e49-d603-47c6-8a18-7b860961728e",
   "metadata": {},
   "source": [
    "Consider that idea for a moment.  \n",
    "\n",
    "Data, about you, which someone else has, can be released either in a public dataset, or even shared privately with a partner organization, and even if they follow the legal requirements of \"anonymization\"; you can potentially still be `re-identified`, given some other dataset about you is available."
   ]
  },
  {
   "cell_type": "markdown",
   "id": "7663901c-a8a2-4794-a7d9-3b2c0a158651",
   "metadata": {},
   "source": [
    "<blockquote><strong>📕 Paper</strong><br /><a href=\"https://arxiv.org/abs/cs/0610105\">How To Break Anonymity of the Netflix Prize Dataset</a></blockquote>"
   ]
  },
  {
   "cell_type": "markdown",
   "id": "0686af1b-6c31-4ea7-b4eb-ee59c79eedcd",
   "metadata": {},
   "source": [
    "<table style=\"border:1px solid gray;\" width=\"100%\"><tr><td align=\"left\" valign=\"top\" width=\"50px;\"><img src=\"data:image/png;base64, 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\" /></td>\n",
    "<td valign=\"top\" align=\"left\"><h3 style=\"margin-top: 5px; margin-bottom:5px;\">Discussion Time ⁉️</h3></td>\n",
    "</tr>\n",
    "<tr style=\"background:none;\">\n",
    "    <td></td>\n",
    "    <td>\n",
    "<p>If you have any questions, feel free to ask.<br />If we don't know the answers now, we will find them out after.</p>\n",
    "    </td>\n",
    "</tr>\n",
    "</table>"
   ]
  },
  {
   "cell_type": "markdown",
   "id": "8c57e80e-6a01-48b8-b7f8-770ed6de4f47",
   "metadata": {},
   "source": [
    "## Data Linkage"
   ]
  },
  {
   "cell_type": "markdown",
   "id": "24a81977-65e8-41e0-b08d-5c9bd407644f",
   "metadata": {},
   "source": [
    "In the journal of `International Data Privacy Law` there is an article from Michèle Finck and Frank Pallas about the significance of these issues through the lens of GDPR law. While GDPR only covers the EU, there is a similar law in California called CCPA, and given that most Tech Companies are multi-national; GDPR has quite significant impacts on the rest of the world."
   ]
  },
  {
   "cell_type": "markdown",
   "id": "9d0ff0f8-eecf-4414-9157-738af11f6791",
   "metadata": {},
   "source": [
    "They state:\n",
    "<blockquote>Today, much economic value is derived from data that is not personal on its face but can be rendered personal if sufficient effort is put in place.</blockquote>"
   ]
  },
  {
   "cell_type": "markdown",
   "id": "737bb795-aae8-4c81-af4d-69a670fcca0a",
   "metadata": {},
   "source": [
    "Put another way, if its data worth working with, it is likely derived from or about people, and if there is sufficient value in doing so, `re-identification` is possible."
   ]
  },
  {
   "cell_type": "markdown",
   "id": "929f2cfa-1fdc-4353-a41b-08540f5d4394",
   "metadata": {},
   "source": [
    "They go onto say:\n",
    "<blockquote>identification through data linkage is essentially unpredictable because it can never be assessed with certainty what data is already available or what data may be released in the future</blockquote>"
   ]
  },
  {
   "cell_type": "markdown",
   "id": "23d651df-2127-423c-9aaa-a0575d7f0d8b",
   "metadata": {},
   "source": [
    "This is the terrifying part.  \n",
    "\n",
    "How can anyone predict what datasets will be created, hacked, leaked or released in the future?"
   ]
  },
  {
   "cell_type": "markdown",
   "id": "bcd3448f-4d9a-4922-a90c-068a04e318f2",
   "metadata": {},
   "source": [
    "<img src=\"https://i.imgflip.com/6tgagg.jpg\" />"
   ]
  },
  {
   "cell_type": "markdown",
   "id": "caf30766-ad13-4e0f-8e45-21d5014527a2",
   "metadata": {},
   "source": [
    "They continue:\n",
    "<blockquote>In fact, in times where data generation continues to accelerate, an entity may have access to a dataset that on its face is anonymous but might then, purposefully or not, subsequently gain access to a dataset containing information that enables reidentification.\n",
    "<br /><br />\n",
    "As a consequence, there is currently ‘a very significant grey area, where a data controller may believe a dataset is anonymised, but a motivated third party will still be able to identify at least some of the individuals from the information released’.</blockquote>"
   ]
  },
  {
   "cell_type": "markdown",
   "id": "41156b6b-8518-4bb3-94f2-1cbdf2813969",
   "metadata": {},
   "source": [
    "In very concrete terms:\n",
    "<blockquote>\n",
    "A hospital releasing data that is ‘anonymised’ from its own perspective (such as for research purposes) cannot reasonably evaluate whether any other party in the world may have additional information allowing for identification.\n",
    "</blockquote>"
   ]
  },
  {
   "cell_type": "markdown",
   "id": "3ead5cce-5aa5-4c85-9adf-7525e3e8f33c",
   "metadata": {},
   "source": [
    "Now you may begin to understand some of the reasons why we have no problems landing robots on Mars, but treatments and cures for diseases seem to come at a snails pace."
   ]
  },
  {
   "cell_type": "markdown",
   "id": "b2f8718a-818c-4c14-9de4-0e4b7b540111",
   "metadata": {},
   "source": [
    "<blockquote> Early examples for such repersonalization of datasets thought to be anonymous\n",
    "include the re-identification of publicly released health data using public voter lists or the re-personalization of publicly released ‘anonymous’ data from a video streaming platform through inference with other data from a public online film review database.\n",
    "<br /><br />\n",
    "More recent research suggests that 99.98 per cent of the population of a US state could be uniquely re-identified within a dataset consisting of 15 demographic factors.</blockquote>"
   ]
  },
  {
   "cell_type": "markdown",
   "id": "be5d617f-43a2-43fe-9d12-b19658de98e7",
   "metadata": {},
   "source": [
    "Of course, if you're okay with a lower probability, that number of factors drops significantly."
   ]
  },
  {
   "cell_type": "markdown",
   "id": "6b024784-f61e-46ba-84e3-2a6a70d8b325",
   "metadata": {},
   "source": [
    "<blockquote>It has been observed above that there can never be an absolute form of anonymization. Rather, a residual risk of identification always remains. </blockquote>"
   ]
  },
  {
   "cell_type": "markdown",
   "id": "3fc3df5d-ce67-42ae-aea0-bf47873a2b45",
   "metadata": {},
   "source": [
    "So this implies we need to be extremely careful who we share our anonymised data with in case they have datasets which allow them to mix and re-identify the anonymised people."
   ]
  },
  {
   "cell_type": "markdown",
   "id": "3525dd47-ce94-4932-8f0b-f6205081c865",
   "metadata": {},
   "source": [
    "But, There’s something more pernicious about the above which some may have picked up. "
   ]
  },
  {
   "cell_type": "markdown",
   "id": "b817ace0-5f3e-4c32-903d-e482e6a81260",
   "metadata": {},
   "source": [
    "Any data,  \n",
    "that is ever collected,  \n",
    "and combined into a dataset;\n",
    "\n",
    "Which was either derived from peoples actions, or is about people, can potentially be used at any time in the future as one of these factors needed to successfully re-identify individuals."
   ]
  },
  {
   "cell_type": "markdown",
   "id": "211b80fc-9e81-4596-a86a-629acc449af1",
   "metadata": {},
   "source": [
    "And since the data were talking about is digital it can be copied infinitely forever without any ability to ever undo that copying, or to know how many copies have been made and by whom."
   ]
  },
  {
   "cell_type": "markdown",
   "id": "847901c2-b3b4-4814-8656-929640011c3e",
   "metadata": {},
   "source": [
    "<table><tr><td><img src=\"https://i.imgflip.com/6tgbgl.jpg\" /></td><td><img src=\"https://i.imgflip.com/6tgbnb.jpg\" /></td></tr></table>"
   ]
  },
  {
   "cell_type": "markdown",
   "id": "7b857184-45bd-4fb5-b17d-587d14c8d575",
   "metadata": {},
   "source": [
    "It doesn’t take much imagination to think of scenarios where datasets are collected about groups of individuals which may at the time seem innocent and later be abused to cause harm. History is littered with examples of authoritarian governments who have come to power and decided to persecute groups of individuals based on their race, religion, gender or sexual preference. Or even more often, commercial enterprises seeking to exploit individuals medical, financial or browser history for profit."
   ]
  },
  {
   "cell_type": "markdown",
   "id": "4e1a0ea5-ff4d-4d6e-8c01-f829f98df01e",
   "metadata": {},
   "source": [
    "Clearly, this is a serious problem which only gets worse the longer we leave it unsolved."
   ]
  },
  {
   "cell_type": "markdown",
   "id": "73bd7d47-4078-4152-8c07-02754c273163",
   "metadata": {},
   "source": [
    "<blockquote><strong>📘 Journal Article</strong><br /><a href=\"https://academic.oup.com/idpl/article/10/1/11/5802594\">They who must not be identified—distinguishing personal from non-personal data under the GDPR</a></blockquote>"
   ]
  },
  {
   "cell_type": "markdown",
   "id": "3b7f3860-ba01-4ea7-9a24-429b631eea5c",
   "metadata": {},
   "source": [
    "<table style=\"border:1px solid gray;\" width=\"100%\"><tr><td align=\"left\" valign=\"top\" width=\"50px;\"><img src=\"data:image/png;base64, iVBORw0KGgoAAAANSUhEUgAAAGQAAAAzCAYAAABhaa0bAAAAmmVYSWZNTQAqAAAACAAGARIAAwAAAAEAAQAAARoABQAAAAEAAABWARsABQAAAAEAAABeASgAAwAAAAEAAgAAATEAAgAAABUAAABmh2kABAAAAAEAAAB8AAAAAAAAAEgAAAABAAAASAAAAAFQaXhlbG1hdG9yIFBybyAyLjQuMwAAAAKgAgAEAAAAAQAAAGSgAwAEAAAAAQAAADMAAAAA1lUt1gAAAAlwSFlzAAALEwAACxMBAJqcGAAAA21pVFh0WE1MOmNvbS5hZG9iZS54bXAAAAAAADx4OnhtcG1ldGEgeG1sbnM6eD0iYWRvYmU6bnM6bWV0YS8iIHg6eG1wdGs9IlhNUCBDb3JlIDYuMC4wIj4KICAgPHJkZjpSREYgeG1sbnM6cmRmPSJodHRwOi8vd3d3LnczLm9yZy8xOTk5LzAyLzIyLXJkZi1zeW50YXgtbnMjIj4KICAgICAgPHJkZjpEZXNjcmlwdGlvbiByZGY6YWJvdXQ9IiIKICAgICAgICAgICAgeG1sbnM6ZXhpZj0iaHR0cDovL25zLmFkb2JlLmNvbS9leGlmLzEuMC8iCiAgICAgICAgICAgIHhtbG5zOnhtcD0iaHR0cDovL25zLmFkb2JlLmNvbS94YXAvMS4wLyIKICAgICAgICAgICAgeG1sbnM6dGlmZj0iaHR0cDovL25zLmFkb2JlLmNvbS90aWZmLzEuMC8iPgogICAgICAgICA8ZXhpZjpQaXhlbFlEaW1lbnNpb24+NTE8L2V4aWY6UGl4ZWxZRGltZW5zaW9uPgogICAgICAgICA8ZXhpZjpQaXhlbFhEaW1lbnNpb24+MTAwPC9leGlmOlBpeGVsWERpbWVuc2lvbj4KICAgICAgICAgPHhtcDpDcmVhdG9yVG9vbD5QaXhlbG1hdG9yIFBybyAyLjQuMzwveG1wOkNyZWF0b3JUb29sPgogICAgICAgICA8eG1wOk1ldGFkYXRhRGF0ZT4yMDIyLTA5LTE2VDEzOjE0OjM2KzEwOjAwPC94bXA6TWV0YWRhdGFEYXRlPgogICAgICAgICA8dGlmZjpYUmVzb2x1dGlvbj43MjAwMDAvMTAwMDA8L3RpZmY6WFJlc29sdXRpb24+CiAgICAgICAgIDx0aWZmOlJlc29sdXRpb25Vbml0PjI8L3RpZmY6UmVzb2x1dGlvblVuaXQ+CiAgICAgICAgIDx0aWZmOllSZXNvbHV0aW9uPjcyMDAwMC8xMDAwMDwvdGlmZjpZUmVzb2x1dGlvbj4KICAgICAgICAgPHRpZmY6T3JpZW50YXRpb24+MTwvdGlmZjpPcmllbnRhdGlvbj4KICAgICAgPC9yZGY6RGVzY3JpcHRpb24+CiAgIDwvcmRmOlJERj4KPC94OnhtcG1ldGE+Crqa1rsAACAASURBVHic1bx5sG3ZXd/3WcOeznzOPXd88+t+/XpSSy2QWi3RQoAQCIgwlCSbYEbHEKeKmNhyTEhwdRFMJkhcximDKhUDFoOkBEIIMci2EEKAhISGVvfrft1vvve+O595z3utlT/26bYEzSSBcVbVrffeva/O3Xt99++3vr/v7/vbgv8A15NPPikffPDBoN32vzZqdr5MaXXeVvaGU25FIfsCYaRwd7wgIEvy38yy+JbWje03velNUyGE+6u+/i9mib/qC/jc9ZtPPqmLxx59e6PZ+U4Z6HWEvux5YaSEwhiDsRVSOBASnEMrhXW2tIK4rKqD2Wj04UCb/+0rv/IbPv7/V2D+gwDkV379V+5tBf7btYre4QXBo0IJYZ3DOoc1BiEUABJAgJSKylQ4HM5YlFIIBFp7FFlsDO4TodA/Hx/kP/fmb37zyV/pzf05118pIL/0Sz+zMk3tf3bmzNm/22l3B6aoRF4VCCmonMOUFWmWUJQVUkIjjPC0j8OBEDjAVBU4h1IapRTgcA48rax28kaZLH55cXD8333Dt37r+K/yXv+s6+UAefF7f2kh/773va/V6rV+yAuj7/K0XkUInLUYa3HO4oTAOUdZFPh+gJASubwsYwxSShwW6xzG1H9KIZBCorXGWoupDEpCEPgumc+fFop3J9Pj933zN3/74V/Wff1FrM8D5D/9tm9bC1c6P+sH4Vaz0zzOTfZs4Ief9pR7uojLI98X48cfD6a/9VvYJ5980n6hv/PXfuNf/UC71/3HxhphygqpBIEfIqRACEFRlSRpSpKllJVBSIkQglajgTWWoizQSqGkpKos4AjDCGstge/hnKh/VuakeYaSkiAImE+n2+PJ/lu+6z/+3ue++K37y1mfB8h3f/d3t5tN/bd83Xgiaoev768ONlaGQ3ytnbHWRmFYlHlxFATBLWftU6Hv3UjT7MgYlybJwguCMCvmxWcbVXXw/tUPpe9/5/vN537+e97znk7Ub/6DIGp8P9ByQBgEJGnK3YMDDkcnCOtYGfQRWtFttTgajamsI/A9Wo0mZVlSliWh75GVBQpJp90hKwryIme6mGEdhJ7PmY11GlGjjhhrEEJiTLk7Pjj8n9tB+5+9853vLP59bvafZf2xZ8jjjz8edbvdv2Ns+aMSEawMVzh1eov+oE9/0OX0qdMgFX7gI5RCK00Y+ORFiTU2row5BJ5TUm47gXXWbVl4TZylm1ZKsOB7mp3tbZ594Rr7dw+YL2ZkaUozCmn1WnQ6A4Yba4ymEwI/ZGtji7QoyMqMKAzIspxmEDI6OmaepBRpxs0b15BK0e93WV0bcubUKe6/736k0hhbESifNImdNPx8sxn+iI8/UrEymZ/ZRCeC60cFq6tE47FN+/3qypUrFcAXkRH+YgC59swf3Ku94Nt/+Id/5D//1NNXumVR4Qc+KysDNjfW6A8HdDsdonaDSoBSComg1WjiNxo02m0aUROlNJ7noaQkzlIWWYJe0tgrLzzP7es3GB2NsEWF8iRZnLIYzcirklYzxIsieoM+QafFyuYG2lNkWY72NaYyLGYLFvM5UkiazQZK+ayvDmmGAcfHB+wfHjNc3+CRBx+m02uihcQTilbUREpSIeRMQialLIxxqiizkbROlnleCtxUST3xtTbz2WTblOVz48n4k+2kev6df+/vpf/eAHnyySflax+6/IuFqd7hRSGT6Zh//lM/zf7+PvP5jHa7xdr6Ku1Wm6gRon0P7WmE0kSNBlGvTXtlwOnNMyil8IKAZhiRZhlCS6os5+r1G9x44Sbz8Zim77OxuYYXKEZ3j0lmCQeHx0xHI4SAdq9Fa3UF3W7ihT5VUdIb9JBOMBlPqBy0m01aUYON4TqB9mk3Q3qDNje3t7l68zaDjS3uPX+KU+sbCKDdaOEcWFMhhQAESZIQpzFaCpRS+J6PpzSdRkRZVWilKLPcxfP5pCiKF6Rzz+Vp8sJsPvt0adzONJkvfH8+LorV8RcaUS8LyDtAtd/+tl+1Wr61Pxzy2OsfR3gBP/8v38v169exZcn9ly/x1976Fn7yZ97DeDJBeR6+79NsNBCez/DUFpvnznHPpYsYIVBCkhY5a4Meu7s7PHvlWY53D1lrdTg+OuZkNOLM6S2yLCNZpERBQJZlTKZT/DCk0W3i9VqsbawhtEdZVigB8SxBCuh3eoxOJsSzOQ89dIl+t8dvffC3OX3uNKcvnGFnMmFluMJ9Z8/R6XaI/BApFUIAtmJ3d5eTkxPKvMBQs73A94n8EN/TGGsJtEZ7GgdEYYgzDt/XFHlpnbUZEBtnR+OD/Z/PCvUjXwgo+uW++X4wb5vsXy8qy2Q2JSkrnviqr+QH/st38Tsf+QiHu3f5m9/6dqbTOd/7Xd/J//hP/inj0ZhBr4fXarM5HNKOWqwEAZPDQ07mC5wSeJ4i0oK9nR2yRUy7EbK9fYcsTkgWC6aTiDjNCD2fw6MjNjfX8AKfWZoglER7PlGjRdRsM5tNyJKUqqoIlUeRLLj27DOkSUaWx1w8fx7Kimc/+TRZmrJ16SKzOOFwMmY4GHA8GaEc2KJgNB5x67nrHNy9i8OCM3Wtg8MPQ7Re1jfGIAQIpaiMw1QGZ6qdKIo+2+70R1GjadbXh0dtP/jQD/zgf/MFlQ0vCwjAytpqNp9njCczqp09jo5PaLQ7vOFrvpqrV57hPT/3MwS+T3+4xdapLfr9Ad/09W/ha976dUgdYJ1DOIexhn/xi+9lb3KCH3n0owbWOE4P13jmM09z+9Zt0jjGGcP+wT5aeyilEYCxlnPnz2GiAKclQbOJ8H2Up9F+gE0LhPKIZzHP3rjB0cFd8iwjmU/Zu3EbVzlCP2C0d4zX6bB173mSrCBOUo5PRsSjCcd3D0nnMyIHLSeZLWakeYoxJQgQUtQszRmcrUFCChCglX6/J72/v3r/o/s/9ZPvfpFRflGHvwZ4xzveob7rO77lvwiC4MuzdB7ffuFmPh2P3rRwFZ/4/U8SpxnPPPs8F85d4OjuXa7eusXVW9s0Q815NPdfupc3veENbJ4+w2g8QWsfRJ2HHfD1b/5K/sXP/QJpVSKkxgsC4tkc5XmAoCorrKkoTUVBQbvVodVuM5/POZ5MufwlDyOUpDfo89DlyzTCkP2jE06mE473T3j6zsdJZnNMVoJ1uKJE+Y7SOYJ2g1MXz3Lx3vNsnj7D7vGI8XTOdDJjfnDExbVVHv6KN9Lvd5lNxjzzmae48txVtre3kcJSmRycQ1gHDtQyza0MB2W3Gb7vLeYDd9/57o+bP3mb/+xLAbzzLW88d+mBB/7v3Tu37792a/vhtc2tV1585BXdLMm5ees2k1mMQ1KUBddv3Gb75m1ODo/JywovavDqRx9lOFxlOplQVRVKSKRWL1XQlTXcvnmTw5Mx7WGfM1tbnDt7ho1uj73dPcIgZGWwAgJa7TbdXh8dBHhhwJkLZ/C7TdrdDo898ioG/R79fp9hr0+eF3R6bdqeZnwyZqXfpzvo0e606a8MaLSarKwP+c6/9W1Yqei22szmc4oy53jvgNfcd4n777kHLwpQStFotrnn/su88lWv4nD3kKLMMDZFKpDCEUYBzUbEg5cv8tVf9SbV63a+ea/5oPfEb3/yQx/6C1I2BNQR8tqH7v2+p5559h+lWdVvD1c4c/Es05MRuzs7jI/HlLmh1+tisaR5gfQkYTvknosXeODCvVRxSuD5NNstGo0WzVaLVrsNQqJ9j9lkxE+/9/2ceeBeqrKi02wQT2ZUac5oNGIynVBkOZWz6CCi3euwurkGQmAkxIsUV1aYvMT3PVorA3r9Hs1mg07YwJYld+7cYX4yIk1TwiCgPxxy+twZ7o5OME7iez4SQScKSUZT7l3fIGoGBEGAH4QorQGLsxDPZrzvF97DrZ3nKcqMbrvNxuoqm1tr3HPxLEHYptlqY4xz8Wz69GK++CdX7mY/9xM/8RP5FwOIArhy5Yr71x/6yEdP9wa/eDI5eVuW5f3FbMFoNCYvckxREY8nzMYTsixHKsnKxpDOsM/qypCN9TUunr/I7u07TCZTPE/jnK2fmaUu1Wq3efUrX8HTL7xAHKccHp1wcHzMyckEi6O32mfl/BbNtQHRoMd9r3iQSgn8IGA6myOtJJ3OeeH6TWbTGRsb6wz6fZI8p91s4gUBYavN0WKGjAJUMyATjlv7e8zjFM/3CYMA7RyuLLF5zrDXpTcY4Hk+1lqcMcznc9I4RUlFVSTc2blDmiR0Gm167Qa+khhToJTF8zRhGIreYHU9jNrf2GTxlq/80vs/+Bsf+dQXLGSqz/3HC9vb09WtzgdEwdsmk2k3SRKkENiqIpnHZFmGRSB9j976Cl4jwAsClBQ0/JBL911i+84d8qzWj6w19SYoRVmUNKIGzSBg+84dnLFgLNJaisqQpgUVjkbUpNlsMZ0uGI9nzBcxG4Mhp05vcf7ee3nwVQ/z2td+CYP+CqsrK7QbTQ5GY/ZOTjDW0et2aHV6OKfxfJ9+p8eg06IZBghjSeZz1rod7jt/gdXVVfIsJU0W5HlOEi+w1lDmBWmSEgQh129cI88yPOUhBZSmpKpyyrKgKgsEDqUVYRQStRqn/LD5ja9/+P6Pf+B3Pr79RQMC8O4nfzS5eN+FN37qqafvS+Z1kVQVFVmeE0YhQRSSVwVKK4IwJAgCqqLkcPsuLT/gvsv388mP/wHOGKJGWIuBeYG1ljzPGHQHPPrww7iiIM8zcmkRvkKFGlsYsjRjNhozPjxicnhIICHNYkbHR+zs3mUxS0iTlMPJmJ3DQ6bJgjRNOTw8YvvONlVaEOcJFktD+8wncxazBZO9I06297hnY4tXPvQIrjLMJmOqokQKqIqCxXyBKUuytEAqAVhuXL9BmqaUpcFYS2UqAq9+yIRwOGepyhKt60IyiMIeUr7mLW984L2/9m8/kf15Afk82vu+d7xDRRv9f/r0Jz769dZa0iShLHK059Fqt2p5RCuKOGY+mhCGAVI4FkaicssDF+8hjRe0221Ojke0Ox187VOVBUWR0ex0iedzwkbIg5fv49FXPsLJ+IQrz13l9z/5acbH45cAzNKEoio49r2aIFhLEIQ0mw2iICAtKhZ5hhd4BNIjS3OqsuJEQqPZQDYCnABVWnCS0A948xOv4/z5CyymY6yrWZOzlrQoKIr6aS/LEqTA932CwKeoLEqHCCFod/toWZGXlvk8w1qDpzVaaabTY1qtHtoLGKwOHvR89WXAr37BEfKrP/uzZ93l8+/7pV/+1bd/4lOfEXv7+yRJgqkMvu/XFNbVjSEEZHmGo24iHe3uowAtJHleMFgZcP36LYo8Yzqd4YcBxhiKNKdIU44PDznY3yeNE3zf5+zpM3z561/P/s4uh0fHnBwdM1/MKMucOI6ZjMZMTsZMRyNclhNPpxzvHXB8cMDx4RGToxOyyYJ4PCGZTMnjmNl0yuRkRDKd44zj0Yce4KEHHiBNEvK8boJ5niZNU0xVIXBIJQmjaElvBUEUsVgsGK6s8nVv/Vpe+/jrWRuuYcqCsrTkpWGxSMjznCLPqMoc5xxaa4n0b7z/Vz7wwS8IkF/4X3/8zK27O7/6ax/44ONPPfec2N7dZb6IMc4iVC0EFmUFOIQUSCVxDpwxLOYLDvb26Hbb3H/fvRwfHbFz9y7Xbtykqgz9fg/f86jKEoejKiuCMCT0ffI8J44XxIsYKQQPPHA/ly9d4Mat2zxw+V6+5qu+gvXVVQYrA3rdHq12m1ajg0MShg2kVLSaDdqtJkWZMU8WxFlKlucs4gWLeYxA8LpXv4rXP/4YWZEjVJ3vpZSMjkdopVgsZoDA2TpClJRoTyOFYH1ri26nw5nzF2i2Oww3Nrl4+UHO33sfvtfks1eew1SWNEtJ4xTnSrSnKHPz3P/16x/6f/68gOj/4fu+7/Sdg6P/9yMf/cTDL1y/wf7RYc2kZP20DFeH7O7cBRb0Ol2scHUXTwjyvGA2nZKmCUWec/W5q1jneO7aDY6PT/B8n+lshrWWlZUBjUaDZruFlJIkjvE9DyElnu8xm81oNBusDNf4Rz/0XxFFDbIsw1lHt9uhMoYwCJnNpySLhFu3bjCfz5Ge5rd/+3e5dv0WcVYglKYsK7I8o9VscP78OR5+8AGOj49qGm4hChskSYzv+8xnczwvoCwKhKilvdwVIAV5keMFPmfPnSWKQtI8Q0qJkopG1OLhRx5ldW2df/PrH+Dq1ausrzWJGprjowN8vzv684IBoD/8zGe+9WQyfeju/gGT6Yx8eWFB4HPu7BmOjo8pTYU1ltl8jsHSCCq0pzHWMB6PiUIfrRWnT22Rpjkf++SnGU2m3N2/y/rqCr1eh7IsMdZQZBntTofV1VUQAu375EUBzhFEIVHUwFrDdDKuz5I8Yzw6xloHSIQUhGHI2Yv34JyjqnKKJOXm7W0219cZrgww1jCbztFK8ZY3PoFzll53hXa3jTGOLE2ZnIyYTRe0Oi3yPCFcalZFUaCUosxzEIK8SPjwb36Qk/GEMIq4/9J9vOax13Kwt8/GqVOsb57ib3zbt3Gwt8OnP/FhglCBE+RF9fQXBMjhaPrY7e07YhHHGGNw1L2N4XBInhVMJjNMVSsDeVngFg6Tl2ilKEyFMRYlNY2wQVGUFEVBM4qobEWS1vm13hxNVRqMNhRFuRQKo7oP7nmYyqC1Jolj5tMp09kMpSS+rqMoTmKccXjaQ0jY2z9g7+CQyWTG6a11Hn/1q3jiiTeweeo0QgiMMcynU5yte+5aSY4OjyiLEmsdRZ4ThB5FnhE1I4SswTWmwlkBnsd0OmJ/f5unnn6a0fEI3w/Y3ztk0O9z5tx5tPKoqgqHYLh+iie+4uvY23mWJElyV3L1D+214M9QzeuiLLbyosAYi3MgpUBJxWw25yA9pCyL5WFeGwzKArAWrXTd464MQiparRadToskSYmiCCEESZoync1RQhNFEQf7B1x+4BLaq88lZwxpmeGcw1nL+GjBIo6xxuIHPtPJlHi+IAwj2p0Ws8mM0WjM01deWLZqLY88dD+vf91rabbaLOYLdm/fJmo0yLIUZx1Ka7I0YzqeMJtNieOUJEkYDleIoohev4uUEqEU45MZRZ7jeR69fp+nn77KA5fP8vZv+ibu7u7xOx/9OGVZIZA45xifnOBHIVIpTFXhnMfW2VdhbaWufObTf/8f/p1vt1WV7Vy5cq164o1vfNtwpfOu73nXD//GnwjIYr6Y4xxC1PBJqeg0muRVQVnWQEGNrZCgtaLX7TDo9SnLijit26lJmjIeT1BS1l9CkhUFaZ5RlCWT6QzP03zs9z7B5uY6jWZEGEaAIwhCjKk4PhohpaAsSw4ODtGqrnWMsYxORkgluHXnDiejY86dO8Njr/kSOr02Ozu7tWZWGoQQzGdz8iKnyDKSJCOOE45PTqiqCiEUUgparRZSCo6PSoyxdLodgiAAAZPxmH/7mx9mdXVIVhja3YjXvu51NBpN7tzZIcsydre36XR7pFmK53kUZUmVFZRVQdRs6nP3XPobQTOg2w9I85xLl09jjfjff+rHnvyq733Xk3+syUJnafJ8O2y8GecoK4PvebRbLVSWkqT/rkuplKQRBKyuDDi9ucGt7V1miwUOx+bGBqc2N5hMZ4xGE7I0QwpJVVXkeUZZ5Qhh8bQkTTOuXLnK+vqQVqsFWJIkZTKdMRj0ODw8ZjSeEPgBQejTaTUoipD5IiZNUnZ2dlkZdLlw9gx5lnL7xvilfsV4PKXbbSOloiwr9g/2mc5mGGsROISQlJWjGYVMJlOstfi+R7fbBmxNxdOc3/3Yx+h2OgwGba5eu8lnnn4WUxle9fADzBYLxuMx5wcXMcv+iKc9JpMJO3fukOcZaxvr5FnBoN/jU5/8BLs7+wxXB8RxviWE+rmf/Z/e9cZv/wc/Fr8sIMPe4LNSK/xFUPudXO36YAxyIhHCoJSi2Whw8dw5Tq2tsnN3h0WyIM1yWq0mzUbE8cmIPMvJ0gxra2uOdbXbo9EIkUKQ5RlZnuMHHos4IU0yoobPbDYnThOms+nSZ2UxpkTic3B0TBiE5EXOjRu3a8IRBrxw/TqtRhPP84jCgKgR4fk+BwfHL5GEOI2x1lJVJQKJVNBqNpbp2dXFoBTsHxxSFgWHR0dcv3UbZw15kbO7u8/BaMSdOzs461jEMWuDmi2WeYnf8qmqils3brK9s8vB4SFlVfKpp64QhR69TofJfMrDD1+mKCzWQBAGj/QvPPhdwD97WUB6ncFV6VFsndryfd8jjROqssKTtTnB931ajYjTp7Y4vbVJtkjRKqDVaBPokGYzQktFnqVLZ6FmNJ3gnK03o6yoqop5vKCqDL7vkeUFUgiSomS2mBEnCWmaAQ4pFVEjoNVsMhz0WRVDjk9O2D+YkiUpYSMkzzPmszlZWqA9j06ryclkihACWxmKsiTPc7QnaUQhSim0UmitUEoRtlu0mi2qqiTwFcfHR3Wr2PfJ0hQBHGcF8zilqCriJEF7uv7cskRKiVSSLEvYv3tAVVXESUpmKjq9Lo88/BA379xhZ3uXdivi3Nktrjz1WbZ3DpgnmT6zvv5D//33fM+//IF3v3v6RwBpaP6g0uqfl0X5PYNOJ1IW2sMmcZzQa7c5dWqLdqtJGi/Y39vHUz4O0Frje5r7L10ky1Lm05yxEBSlYTadkVcVVWWYTGdMpnM21odEQUBeVkgBx6MjyrIiz8uaNDiQSuIHPsPBCv1etwbVQZbnnBydIAUoBVpJpBL4vmZl0K9dLVrha81sNqOcFTSbEWVVUJYVrVYD5xynT21xcjKm3WownU7Y3t0hL3K6nS6tZosw8BFCYY3B8z1CP8AKQRgFnD17Bl9phoMeQRBwsLeHELJWK4xhLgwrr7jMPWfPsHt7m92TEefPnyVNF3z66ef59FMvcHB8jHWOlU5/7ZFLlx8DPvBHAPlXH/vYDPj+Nz/++FPAu5vNpsqLgvW1VYIgYLGISSZTjCmpjGWWpsRZhlaahy9fwtMe83JBGi/IspwkKxhNZ2RFjnNwMhnRH3cJA58gqNPidDYBHEVeUr5IgaOQc2dOMxyucPrMaSpTkcYxt+/s8sK162RZRhjWEev5Gt/38H1NlmVIBb5UFFVJGIb0hMQag6WuLaqqxFqI44ST8YTbOzuMRxMchlarCTjyIiUMfKxz5EXB2toqO3t7TOI5pzY3WR+uYo3h/PmzzOd1tC8Ws1pcdQbVa3H23ns4tbHBhXvuoUhjPvXRT9EKPHb37rK3t0+cpHhaIipjdu+GBy+bsl78Swy/cDIaf/+g132FVIqqMtzd2cW4WiZXUpJVJePFHOMsvU4HJRTjyYw0SYiThCTNiNOctMjr/gIQZxnbd++Cg0G/vzxINZ7W9Lt9hBD0+z0u33cvrU6fXq9LlmXMZhN2d+/ymaeeZjIa42kP7fsordG6Zkr5kqLWBWKJsSCFxPM0QbtBnqUEgUcY9nn2+Wtcu3GTLMvwPY+oEaGUoCwLprMZURSyd3jMfD6j1+mytjrE4PBHASvdHjs7u7zioQd4/vnrlFW9Hw44u3Wa5+/ssvXo/TT8kEWc4nkFX/HWb+DsmQv88nv/D04mM+IkQ2tFIwrpD/rbv/H7n/rsywHykri4s7NjBPZrsjy/XwBJnNBoNjg8GZEVGcZBUZYUVYmnPbbWNuh16s2bjKckScwizYjznMrWNQ2Ac468LJgvYooir22gQUC71abdbrG+NuTc2bOsb27SbLawOGbTKVeeucLVa9e5du0aZVUQNALCMMD3fIQQSKUIgxDf9wHI85J2q0FZVQS+IopCZrMZN+/c4cpzzzGZTBBAEHooX5GkMcliQV4UtR8rSblzZwdhYWVlQFGWdFotlJDM5gvyPCOMIkI/YNDv4vuaQb9Pa9gjbfg88spHWBvUtY3veVjjGKytYYXj7p1tqrJga22Fey6eY2tj7eaV52/85J8YIYCO0+xLNzcDpKdJipS8KDFYkrJEVRUAUkrazSbDlQGLOGbv7l2SJCEpc4rKYJxbWmheBIQ6vG1Ctp8RaI+D42PWN9a4cO4sXujTy3OqqqwdJ55Hnufs7u1z9eoLFEUOsh47cEv2prUmDELWVodLt3uFUl59HWnGrTsnTCYTJuMR3rIIbbZaCCWYTqdU1jCaTLDGEngeUkqsc1RlSWfQYbg65ORkVFfhzjGdTrlw/hyh5xGnKdP5DKUErUEfub7C29729SRZgZCAtQgkWkoQji9/81eQzWb8/kd+j0cvn2EyX5DH2e++HBh/GJCq22nd8D1x6tyZPhfObXD91i7K0+wdHJImCc45OlGb1ZUVptM50+mE0XxGUZYYa7HL2YyXW9ZaCmspq4qkyJmnMXv7B5w6tcWdO7usv3CjzseVYTyZ8vQzzzKbznDC0mhFaF8jlUJ7Ho0wpNkIKcql1jWZsX9wSJ7X6SfPs5csO81mgywvWWQnFHlZF4ymojQGKSQgaTc8kjxH+T6tTocw8Ol0muzv79Nqd8iLjNF4RJKlgKuNHL5P1e2wHkU88/zz7N3dpxKO+y5cYGO4iu+FAAgn+Wt//a9z8YH7SbZv87H3/593/dD7X/4sgLgiyX75+OjgCU9Zrl2/SauzQq835OzWKa5de4E8ywnDBtPZnHm8IM3zepJpicJLYIgXLZH1eIEU9Z+IOoVZa0mzjLwoWCQJO7d36Lfb9Ho9gjBgOp1xdHJMVZV4gYfne3ieD65mNKPJhP3jE8ajKUkak+clpqooyorK1OMLcjnaMFksKKuSaqlpuWUEK6VoNiMaUYMkz3CibkrtHx6xuTZkuNJnb3+Pg+N98ipnMhuhEo/FIsY6S3e4yvluD6U9RocnfPSDH8Jvt5gfj3j01a+i2+vTjCK0rl36Dzz8Sm4qzX333X9NNju3/uDpa38qIChZvlfL9o8mcRk+9prHubW9y3h8CTMGaQAADCNJREFUjKLisS95hGevvsBkkeD5iq5u0XbNf4fm8kYlsubpWr5UxSop8LxaljDWkOc5ZVFgKktZVri8ZDoeMZ1O6vRk6o3XnocUkrIw5F5JnKSYkxOKomCR5uRFSWUMzllqd26tBmNq8MWLD4YQaE+jVD3QI6Qg8DzaURPteQgF2tOsra4u9bcJ505vcOb0FrtHR7RaLaoypygrPF/jhERpRV5mzOcTbjz3Agf7+5TbJZ6Flc11Vq2lGbTwPc08nrM66HPmwjle9/rHvnQWH74O+J0/FZCr28cHr7invdNpt+598J4LfPUbv4yNrVXixRzta76l8U1MxidYa9m+vY3UksWiZg/GVsRxikDQaXXY2FzBScnG5vAlVuJ7HmWRU1UVd27dYTyac3v7gN29PaaTKWlZLNVTixb1eVJVhtJClhUUVUVpau1JKkmjGaCkQiq5LP7qekSpmoV5qvaHKSEIw4jA1zQbEc4Zet0Om8M+wZJgDIa1PH9ydMxwGCFlwBv1o3jaJ4waOGeZjo+YjKfcuH3MwWjCma1VjscnqCLHlTllmlOWOXmeIU1FVWZc/cw1bu/d4qFXvoKH77lMe3XYcOXJdwK/y8uov3/YbC0unTr1O1GgHh8Oe/R7bcLQq6eVlK5v0q9vUAhQStDptCirCqXqmY9Ou4V1JZ6nEVLi+/UoAtT+LN/3cFYTRiHGlJiqZD6dEsdzknxZKFpLsxEShSFl6ahQHJ1MmUwTFklCWZZYW2tjKys9wsAnDEK6nR6tVpN2u0233UB71DWKH9T9lMogdB29VVlQZilOSGaTCXFcO0myNCPPU8oKyrIubsuyoqwqprMFQsg64rSiEzVodVvc2j3g+vYBhydTLt53ic17z7OyvgpJwYf+zYdpDZp8yZe9no2VNVSVo6c7iWeiN33/f/vjH//TAOHc1vpHhK3e0G36hEv6qLVGiNrs7Af1k16nI7X0uCpWhyuUpgRn6bUbBGFAGIZIrcC6pU+2Hmf2vAgl1TLNldQjaSG2cvi+x3y+QMq6D6K1R9Rq0Gq361E1pfG0D84itMBUGcYYrBVUVYUUirIqyJL6cytToKSu+yLW4qxBe5I8SymLCulryjwlTQ1lWZCmCVVhmccZaZrX3dAiJy9L8tIRL2ZUVYmSCk95WCuYxRkncUaj1eXipYs4IdBBSJHm3Lx2nf5ajwv3XqIZNuhHHmstQ7fR/6CqZv/R9z757uSPTVkAWVH0JZbS+Jg4pyzA92rZXfsFZeFRBQawSKkpiwLrcuJkgXOGzbV1ysoQSYXyNBIw2GVjyKK1Rkm9NNOBsaC1jzE1Q8uKEj8IsM5gTUWaJqTZlCxdEPgReZ6htF7OF1a1GdrUGy9E3a2rN76uhdySJuPAWlOnV1P3duIkZrY/Bwd+ECCFZDqeczJZUBQlSRJjTEVVlTgHRV5RFjlZlmOcxFQGkzvS3JIIR7evKdO8Nk5Yy2g8ZToeIcm56yztZoP+xTOUnkZ2qjdUtL8R+IU/KUJkv9PcCTy9uT7oUhUZeZITeBI/qHvfvufjBXWBlhcppioJGwErK3263TYr/T5ra2t4nsRUJUIIlPYwVYkxdeex2WzjBQEgqKqs3jDkcgbQYMoShKsjCsBZEBJram+XNRVKe4gle6vKEiElUdQEJGVZLuX/+iGoe+VuGUkVWmu8ZRozVUmeF6Txgheu7zKbzjgeH1EVtawjpcLhEBLCsIOzUFQleWEojSVLCuKkJLOOdqfDcNBHSsVsNmO6mGPKgm7TZ3VtyIOXL3P+TBffk4RBQKu9ciSkeevffteP/8HLArLabG5kzt6OAs8/szlEuookLnBlgdbgeZoorH2wzXYLrSXdTpuoEbC21kMg6A9WCEIfUxVUVYnv+/h+iJASY0qsMWgvqKUQz8fV1UsdSbaeaLLOoqRAKl1vOmIJTp3702SOMQbfC9BLw0Xdz6mwVfXS6MCLX1LVgkSeZ1RlUacxpWg2mzgHk8mIj/7eZzjaPyEI9bKmgsGw1vPqEQmF5/nkRUWaZYxGYxZJRhrnjCcxWVVfT6/TptVs1T0a4ZhOJngeGOu458J5vvThi2yd6lMUOX7UxVPBFYrWm777B3/w6I8AEnredyilfrrTDDhzao1Ww8fTAc6UOFsfwIHnEzVCms2QdqtJp92i0WygtVcbBby6cra2lqmDKCII6s7g0tSBcy/S0JooOAfO1v18rTRS6ToqAFP/EMSSTgvxElNbeqBQugbOWFsDapbnhRMvdTydsWRZQpIkaK2wtsSYqo5IY0ninKI0SCHQMsDzPUpXj7FVSwm+KEqMccwXKQcHIyazBdNpzHyeUjqIfI9+t0O/16XdCmm2GnUn0RpOTqbkWYHva8JIsbm2wtd+1RsQEspcfEA679v/9n/9owefd4Y47GusBWsF1gqazS7rwy7WFsuNKPC1ptkICUJNp1u7GaOoiV6mEGstZVk3tV5Ud3GurilUXbBBbcA2tsQ5tXyHicLz/Zfe1OCswFqz9AjXko2xFqlU7VT3LGlcjxYES6OE1grU8sUBpqrf8oCkdr4pWl4brSVFUaB1TanjxZxWu8Xq2iZqeW+j4xlpmtdeMmHZ35uwiFOSrO57TOcLpvOUg5MpcVILqUootBKEoUZ7jqgp0bqkEfl0Wi0unt6g1+2itEeRF9w9OOIn3/0evuVvfgP93sZbJOpHnXP/yedGiPC1+nUhxFsiP2Bjtc/50+tsrq/Q6wQEYYBWEs+riyvfV/R6XcrKoKTGGFOzHCkQaJRXnwdK1QMuvh/gB8EyddUHdlXVrEzK2hgtla4BpGZkStaGPOssnvawS0e9tQaEIEtiyipHCo2Udf2hlnJ7/f8sxliEkEipX/LhlkVGUWSUy0aWqSqi5QSvqSyL2YyiqFjEKePpgjhesMgKFnHGbLZgtsiYpzl5aZftYUGoFSvNBv1um06/RSNS+L4mCAJCX9PrdtGeIgw03V6Xza1TFEXJB/71h3jiyx4n8P24Mrzp88RFBPeAozQV88WC0YnCU+BMi/XVAWEzIAgUYRjinKQ0FTgwrqIo6g2uN0UijERrv5Y8sCCgLPOXjNfOLmsCKRFLfYiqfEmG8f0Ap/RLzbC6YKxfRrOcc6hTWmUoqgIpJGoZJS9+htIaTB211tTyijEVxjp83ydepJjKURSG6fyIJCsp8pIszUjSgiwtidOc2XzG8TQhzUqKytQyjF1KqEt3rZISLQUSB9aQ5xXGVpRlRdBv42yJ1gKtl46V0THtTovXvfbVHB7cZTDoN63V//BzAWng6LmlvLFIUo6OBcIpMBZTOVaKkrOnV5nP54BGK7Hsf9eGZmuXEoZMCaMQrT3KosTYOvw9T+GcqvUtqfCVoMpL0AKpXpRearNFlqZo7dXUT6mXMHjxHBKyPlq0qumzknV0WWvBWaplxDpjqSqzLPBKrK1fVuOcxRhHEidMZ3OSrGA6T8jSklmcEicFi0XCIs3IioqiMkstbPn7hUBC3blUiijw6s2mJMtjelHdhZSqvldjLaayRJ0AKQRKSZK0nkOZzxY0Gi3SLH7N5wJigJwld6+MZZJklHbEPF4wnDc5GTfYOzok8gMazRCJIwwCEIJms81oPH2pipZCIpRAS0Vl6xfBNBseQRjg6wA/jLDWQ0pHUdQvkTFVSVHWUSKVBSeWtp16s33fR0owtsL3Q5T263rDOipbII0EAZUx2KpcnoW29oA5V1fiSU6cFXUHNK84GU1ZxAmLOGe6yJgvUhZpSZxnlC+BUD8NdeoT6KUWFgYBoa9oNQO6rRaNho9Wkna7QehpWs0maZbhBUvmZhV7RxNwjm6nQ6vVJIxC9o8OkUqTZWLv886QwJN/1znxYwiUYCmPCEnTVww6HmHgIZTD93zCoFn3EpSiqCqc85eGhgIhLNrzUcuD2Jqqnp8IPULPsrqyQqfdpxH5+GFdXxhjiLOSqiwJfR+o00pWFAR+RBRqkIIgqFUCIdTyTUG1emytRSsPYwxZltUH8lIdjpOcMq+nb/PCEac127KmZD5NyZKSRVExTXKSoqIy9nOAoH6ipcL36w1vRT5rvTZrq0MaoabZCgijECFYWnElwhmUVFhrMNSUfBGndc2TLAi9gDOnT7G61iVLc47GM9JF+R3/H2lrxjG4Oat2AAAAAElFTkSuQmCC\" /></td>\n",
    "<td valign=\"top\" align=\"left\"><h3 style=\"margin-top: 5px; margin-bottom:5px;\">Discussion Time ⁉️</h3></td>\n",
    "</tr>\n",
    "<tr style=\"background:none;\">\n",
    "    <td></td>\n",
    "    <td>\n",
    "<p>If you have any questions, feel free to ask.<br />If we don't know the answers now, we will find them out after.</p>\n",
    "    </td>\n",
    "</tr>\n",
    "</table>"
   ]
  },
  {
   "cell_type": "markdown",
   "id": "5fbcc040-c594-419d-a850-18e3393b47c2",
   "metadata": {},
   "source": [
    "## The Copy Problem"
   ]
  },
  {
   "cell_type": "markdown",
   "id": "0576b696-f6c7-4211-9843-7741188a0a08",
   "metadata": {},
   "source": [
    "This brings us to the copy problem."
   ]
  },
  {
   "cell_type": "markdown",
   "id": "603800aa-baa7-4e72-8ce2-25750d006fa2",
   "metadata": {},
   "source": [
    "Given the fact that data cannot be uncopied and it's not possible to know if it was copied, when provided to someone to use; the only guaranteed way to protect users is to never share data EVER."
   ]
  },
  {
   "cell_type": "markdown",
   "id": "d8745d1d-0bf5-4658-aec5-d390686bb227",
   "metadata": {},
   "source": [
    "<img src=\"https://i.imgflip.com/6tgbwf.jpg\" />"
   ]
  },
  {
   "cell_type": "markdown",
   "id": "3a3b4de9-cc91-45f0-85ac-e6e3453e4a0b",
   "metadata": {},
   "source": [
    "Clearly thats also not a viable solution. We can't have a world where nothing is known about anyone at any stage. The very foundations of our societies are built upon concepts like Identity, Addressability and Accountability."
   ]
  },
  {
   "cell_type": "markdown",
   "id": "f894630c-b160-40a4-9fa0-05ee7b7a250f",
   "metadata": {},
   "source": [
    "Okay so maybe we need some kind of middle ground, where we protect and control some data from some people, but let other data be shared and used by others under certain circumstances?"
   ]
  },
  {
   "cell_type": "markdown",
   "id": "43f06029-a7ae-41ac-abd8-d7f09e5eabc8",
   "metadata": {},
   "source": [
    "## Pareto optimality"
   ]
  },
  {
   "cell_type": "markdown",
   "id": "a46c782b-6a47-434b-9f59-4356d04f0b51",
   "metadata": {},
   "source": [
    "Pareto optimality is a situation where no individual or preference criterion can be made better off without making at least one individual or preference criterion worse off."
   ]
  },
  {
   "cell_type": "markdown",
   "id": "df0c6c0f-c798-4c37-bb5f-0f2193e39574",
   "metadata": {},
   "source": [
    "In other words, it feels as though, to get more out of our digital lives we need to surrender more data about ourselves to get things like:\n",
    "- email alerts (email addresses)\n",
    "- push notifications (app tracking)\n",
    "- 2FA security (mobile numbers)\n",
    "- medical treament (medical records)\n",
    "- online shopping (browser history)\n",
    "- social media (social graph)\n",
    "\n",
    "and if we don't subscribe, in some instances we end up being excluded from participation.\n",
    "\n",
    "Or even worse, we can be ostracized by society and our social groups."
   ]
  },
  {
   "cell_type": "markdown",
   "id": "2ecab817-d066-4177-9bf6-7070e9a6c28e",
   "metadata": {},
   "source": [
    "<blockquote><strong>🔗 Web Link</strong><br /><a href=\"https://en.wikipedia.org/wiki/Pareto_efficiency\">https://en.wikipedia.org/wiki/Pareto_efficiency</a></blockquote>"
   ]
  },
  {
   "cell_type": "markdown",
   "id": "3289d73b-ee15-4d9c-811e-b8ff9ad77bdc",
   "metadata": {},
   "source": [
    "So its hopeless right?\n",
    "We are creating increasingly more data about ourselves both by choice and in most cases without choice, which is being collected, tracked, analysed, then sold (or even hacked) giving governments and corporations increasingly powerful abilities to know more about us than we know ourselves.\n",
    "\n",
    "More and more digital services become essential to our existence. The majority of us use search engines, websites, chat apps and social media in our daily lives for work, for social interactions and even to achieve our most basic human needs of survival.\n"
   ]
  },
  {
   "cell_type": "markdown",
   "id": "4e178f21-fd1d-4f0b-9449-dddcf2d548a5",
   "metadata": {},
   "source": [
    "<img src=\"https://i.imgflip.com/6tgj6c.jpg\" />"
   ]
  },
  {
   "cell_type": "markdown",
   "id": "26a353c2-e184-41d1-aac4-b5c58bfd823c",
   "metadata": {},
   "source": [
    "<table style=\"border:1px solid gray;\" width=\"100%\"><tr><td align=\"left\" valign=\"top\" width=\"50px;\"><img src=\"data:image/png;base64, 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\" /></td>\n",
    "<td valign=\"top\" align=\"left\"><h3 style=\"margin-top: 5px; margin-bottom:5px;\">Discussion Time ⁉️</h3></td>\n",
    "</tr>\n",
    "<tr style=\"background:none;\">\n",
    "    <td></td>\n",
    "    <td>\n",
    "<p>If you have any questions, feel free to ask.<br />If we don't know the answers now, we will find them out after.</p>\n",
    "    </td>\n",
    "</tr>\n",
    "</table>"
   ]
  },
  {
   "cell_type": "markdown",
   "id": "3e850317-c2b2-4909-91e5-15c5ff0db74d",
   "metadata": {},
   "source": [
    "## Our Vision"
   ]
  },
  {
   "cell_type": "markdown",
   "id": "b74d03b0-c930-41d1-bc99-095d7e4ef92c",
   "metadata": {},
   "source": [
    "OpenMined was created to research and implement Privacy Enhancing Technology (PETs) in a way that is accessible and free to use as a global public good. \n",
    "\n",
    "Not only do we currently suffer the negative consequences of data misuse in our lives, but we rarely see the multitude of benefits that are possible with all the data we have been collecting.\n",
    "\n",
    "We truly believe that by breaking the Pareto trade-off, we can unlock 1000x more data in every scientific field."
   ]
  },
  {
   "cell_type": "markdown",
   "id": "c89f5b1f-0b52-4e67-abe6-036c05ce59f7",
   "metadata": {},
   "source": [
    "Imagine it for a moment, if there was a way to safely analyse and cross reference data about billions of humans to do things like, cure cancer or alzheimers, all without losing control of who has a copy of our own data, giving them the unfettered ability to cause future harm."
   ]
  },
  {
   "cell_type": "markdown",
   "id": "ce717aad-dd15-455b-9cc7-add4d71ff0fd",
   "metadata": {},
   "source": [
    "Imagine no longer. "
   ]
  },
  {
   "cell_type": "markdown",
   "id": "1d07694c-9e49-4013-b91d-79947b884782",
   "metadata": {},
   "source": [
    "<img src=\"https://i.imgflip.com/6tkxf4.jpg\" />"
   ]
  },
  {
   "cell_type": "markdown",
   "id": "e3e56a52-4fb5-4d73-9792-29fd80069b3c",
   "metadata": {},
   "source": [
    "## Privacy Enhancing Technology (PETs)"
   ]
  },
  {
   "cell_type": "markdown",
   "id": "5a6f4975-6c3d-44ff-af31-783ad59fee2e",
   "metadata": {},
   "source": [
    "Necessity is the mother of all invention and decades of research into encryption and privacy techniques have resulted in breakthroughs which can smash the Pareto optimality trade-off and prevent the world becoming a data-driven dystopia."
   ]
  },
  {
   "cell_type": "markdown",
   "id": "30087ff7-162c-4aee-8c7f-7df5a914e534",
   "metadata": {},
   "source": [
    "There are many technologies and techniques in the PETs tool chest, but here are a few common ones you may have heard about."
   ]
  },
  {
   "cell_type": "markdown",
   "id": "3e18c501-ef30-45dc-9c47-ea1b6165bde7",
   "metadata": {},
   "source": [
    "- **Homomorphic encryption**  \n",
    "a form of encryption that allows computation on ciphertexts\n",
    "\n",
    "- **Zero-knowledge proof**  \n",
    "  a method by which one party (the prover) can prove to another party (the verifier) that they know a value x, without conveying any information apart from the fact that they know the value x\n",
    "  \n",
    "- **Secure multi-party computation**  \n",
    "    a method for parties to jointly compute a function over their inputs while keeping those inputs private\n",
    "    \n",
    "- **Differential privacy**  \n",
    "    where by an algorithm is constrained so that the results or outputs of a data analysis can't reveal if an individuals information was in the source dataset\n",
    "\n",
    "- **Federated learning**  \n",
    "  is a machine learning technique that trains models across multiple distributed nodes. Each node houses a local, private dataset"
   ]
  },
  {
   "cell_type": "markdown",
   "id": "ee789e31-7f43-4ba3-9f97-be836e0df739",
   "metadata": {},
   "source": [
    "<blockquote><strong>🔗 Web Link</strong><br /><a href=\"https://en.wikipedia.org/wiki/Privacy-enhancing_technologies\">https://en.wikipedia.org/wiki/Privacy-enhancing_technologies</a></blockquote>"
   ]
  },
  {
   "cell_type": "markdown",
   "id": "72cb2642-7be2-49db-bfce-e367cb817321",
   "metadata": {},
   "source": [
    "<table style=\"border:1px solid gray;\" width=\"100%\"><tr><td align=\"left\" valign=\"top\" width=\"50px;\"><img src=\"data:image/png;base64, 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\" /></td>\n",
    "<td valign=\"top\" align=\"left\"><h3 style=\"margin-top: 5px; margin-bottom:5px;\">Discussion Time ⁉️</h3></td>\n",
    "</tr>\n",
    "<tr style=\"background:none;\">\n",
    "    <td></td>\n",
    "    <td>\n",
    "<p>If you have any questions, feel free to ask.<br />If we don't know the answers now, we will find them out after.</p>\n",
    "    </td>\n",
    "</tr>\n",
    "</table>"
   ]
  },
  {
   "cell_type": "markdown",
   "id": "c6c5f779-fc1a-4ef3-8c68-07edff1ba1ca",
   "metadata": {},
   "source": [
    "But these technologies have existed for a long time in various forms and yet this problem is still unsolved.\n",
    "\n",
    "One way to think about PETs is a collection of \"car parts\" which do amazing things like propulsion, suspension, wind protection etc.\n",
    "\n",
    "But you can't drive a bunch of car parts down the road.\n",
    "\n",
    "For that you'll need a car.\n",
    "\n",
    "Lets try building one."
   ]
  },
  {
   "cell_type": "markdown",
   "id": "42fe6e07-2f95-4c37-a8e2-3b160b6080ec",
   "metadata": {},
   "source": [
    "## Output Privacy"
   ]
  },
  {
   "cell_type": "markdown",
   "id": "24f9691f-971a-49cc-9ceb-9df9387936b6",
   "metadata": {},
   "source": [
    "Output Privacy is the process of ensuring that given the ability to perturbate a query (run multiple times with slightly different inputs) an attacker is still unable to know for certain if an individual is within the queried dataset or not."
   ]
  },
  {
   "cell_type": "markdown",
   "id": "3210b1e2-a306-41a4-a772-610f9023c0c6",
   "metadata": {},
   "source": [
    "One way to provide such protection is a technique called Differential Privacy or DP. The technique adds noise to the data in such a way that in aggregate statistics individual data points are protected while said noise can be corrected after the fact to provide an accurate summary statistic."
   ]
  },
  {
   "cell_type": "markdown",
   "id": "36a51aa8-adcc-4010-a176-ff89c6367b93",
   "metadata": {},
   "source": [
    "✅ DP - Protects individuals in the dataset from being identified"
   ]
  },
  {
   "cell_type": "markdown",
   "id": "15801bea-52b6-47a2-9f93-bb3f5d859d1b",
   "metadata": {},
   "source": [
    "👍 Job all done right? Not quite."
   ]
  },
  {
   "cell_type": "markdown",
   "id": "aef04d35-31a0-4e4f-9927-998e82691f09",
   "metadata": {},
   "source": [
    "🤔 Differential privacy is great, but it does require a trade off between privacy and utility, achieved by fine tuning a parameter called ε Epsilon, which acts as a kind of privacy budget. Additionally the privacy revealed on the same Data Subjects is additive and therefore the person allowing the DP query should be trusted to apply the right amount and to stop when certain limits are reached."
   ]
  },
  {
   "cell_type": "markdown",
   "id": "7886a7a1-4c53-4afe-a03e-a08134d29168",
   "metadata": {},
   "source": [
    "Therefore using DP alone, still requires Data Subjects to implicitly trust everyone involved who has access to their data, to add noise to it correctly, and control who gets the slightly noisy results. Additionally, much of the value of datasets comes from combining different sources of data. How can a dataset be created in the first place, without centralization? How can you move data from different sources into one place without centralizing it?"
   ]
  },
  {
   "cell_type": "markdown",
   "id": "c0ff24d3-d70d-40ac-96fb-be78b9878947",
   "metadata": {},
   "source": [
    "## Input Privacy"
   ]
  },
  {
   "cell_type": "markdown",
   "id": "0cbe909a-f6dd-4d1f-8009-61f34158a37a",
   "metadata": {},
   "source": [
    "Input Privacy is the process of ensuring that the data you send into a system is protected. In most instances this is a form of Encryption. Encryption mechanisms have been around for a long time going back to the Caesar Cipher and more recently the notorious Enigma code which may have been decisive in the outcome of World War II.\n"
   ]
  },
  {
   "cell_type": "markdown",
   "id": "d529827a-5fea-43d7-9542-08d5cda3c7e0",
   "metadata": {},
   "source": [
    "But wait, if you send some encrypted data in, you need to decrypt again before you can do anything with it right? So encryption only protects data in transit?\n",
    "\n",
    "Wrong.\n",
    "\n",
    "There are a variety of new encryption mechanisms which allow computation on encrypted data without prior decryption.\n",
    "\n",
    "One such mechanism is known as Homomorphic Encryption (HE) and another related mechanism is known as Secure Multi-Party Computation (SMPC). Due to computational barriers with HE, We will be focusing on SMPC."
   ]
  },
  {
   "cell_type": "markdown",
   "id": "f23e6f52-97a0-433b-a16c-4841ba4b37b4",
   "metadata": {},
   "source": [
    "✅ DP - Protects individuals in the dataset from being identified  \n",
    "✅ SMPC - Safely protects data going into a system while still allowing computation"
   ]
  },
  {
   "cell_type": "markdown",
   "id": "935b15b5-1c4f-420e-aa3a-11375edf2336",
   "metadata": {},
   "source": [
    "👍 Okay, we're done right? Not so fast."
   ]
  },
  {
   "cell_type": "markdown",
   "id": "df74b72f-20d3-400e-afdb-4f7d89c8408a",
   "metadata": {},
   "source": [
    "🤔 Unfortunately these two technologies alone are not silver bullets. DP and SMPC have limitations and given unlimited capability to query data many of these guarantees are broken.\n",
    "\n",
    "- We can't centralize all our data otherwise we create an even more dangerous dataset which can be copied infinitely forever\n",
    "\n",
    "- We can't just give Data Scientists copies of all our data either, otherwise they might just copy it and we would never know\n",
    "\n",
    "- The people charged with protecting your data (Data Owners) and applying DP noise to it, should not be the same people (Data Scientists) who's job it is to extract meaningful value from your data. If they were the same person, their conflict of interest provides too many opportunities for things to go wrong"
   ]
  },
  {
   "cell_type": "markdown",
   "id": "812fb9ef-5910-4a28-be81-7291d9c02313",
   "metadata": {},
   "source": [
    "❓ How could we allow potentially adversarial interactions between Data Scientists who just want to answer their questions, while helping Data Owners do their job and keep your data safe?"
   ]
  },
  {
   "cell_type": "markdown",
   "id": "f5515785-d56f-4eac-b52b-bdf30844330f",
   "metadata": {},
   "source": [
    "<table style=\"border:1px solid gray;\" width=\"100%\"><tr><td align=\"left\" valign=\"top\" width=\"50px;\"><img src=\"data:image/png;base64, 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\" /></td>\n",
    "<td valign=\"top\" align=\"left\"><h3 style=\"margin-top: 5px; margin-bottom:5px;\">Discussion Time ⁉️</h3></td>\n",
    "</tr>\n",
    "<tr style=\"background:none;\">\n",
    "    <td></td>\n",
    "    <td>\n",
    "<p>If you have any questions, feel free to ask.<br />If we don't know the answers now, we will find them out after.</p>\n",
    "    </td>\n",
    "</tr>\n",
    "</table>"
   ]
  },
  {
   "cell_type": "markdown",
   "id": "e7c0539f-31e9-4e13-80bb-a229bc0c5768",
   "metadata": {},
   "source": [
    "<br /><br /><br /><br /><br />\n",
    "<br /><br /><br /><br /><br />\n",
    "<br /><br /><br /><br /><br />"
   ]
  },
  {
   "cell_type": "markdown",
   "id": "c17d195a-ff4f-4a2d-9a24-04d9f1aeaa3f",
   "metadata": {},
   "source": [
    "# Remote Data Science"
   ]
  },
  {
   "cell_type": "markdown",
   "id": "9f49ab10-345e-4951-b059-bd9fff676127",
   "metadata": {},
   "source": [
    "By utilizing PETs, Syft allows a Data Scientist to ask questions about a dataset and, within privacy limits set by the data owner, get answers to those questions, all without obtaining a copy of the data itself."
   ]
  },
  {
   "cell_type": "markdown",
   "id": "b71038b7-5a30-496a-bfb4-cb976a8d6e9d",
   "metadata": {},
   "source": [
    "To allow Data Scientists to work with data at a distance, we add Data Servers which are called Domains and provide a set of Remote Proceedure Call (RPC) APIs to do common data science tasks."
   ]
  },
  {
   "cell_type": "markdown",
   "id": "eeb50e14-8e6d-46f2-adee-d9055672d193",
   "metadata": {},
   "source": [
    "We call this process Remote Data Science. It means in a wide variety of domains across society, the current risks of sharing information (copying data) with someone such as, privacy invasion, IP theft and blackmail will no longer prevent the vast benefits such as innovation, insights and scientific discovery which secure access will provide."
   ]
  },
  {
   "cell_type": "markdown",
   "id": "4b2cc774-d76d-42ea-b9b8-23028fb74815",
   "metadata": {},
   "source": [
    "Okay so how does that work?"
   ]
  },
  {
   "cell_type": "markdown",
   "id": "c83f24da-0267-4700-a60f-5ec4c9cda7d2",
   "metadata": {},
   "source": [
    "✅ DP - Protect individuals in the dataset from being identified  \n",
    "✅ SMPC - Safely protects data going into a system while still allowing computation  \n",
    "✅ RPC - Action at a distance prevents data copying and direct attacks or overuse of DP budget"
   ]
  },
  {
   "cell_type": "markdown",
   "id": "433ce5b0-0d91-4378-b1b3-3f9d9bbedec7",
   "metadata": {},
   "source": [
    "👍 Great, job done!"
   ]
  },
  {
   "cell_type": "markdown",
   "id": "e3cb01b5-2f65-4769-bd1d-8a85d29618b7",
   "metadata": {},
   "source": [
    "..."
   ]
  },
  {
   "cell_type": "markdown",
   "id": "011a5b0b-ebff-467a-b39b-e0b9607c974b",
   "metadata": {},
   "source": [
    "<img src=\"https://i.imgflip.com/6tkv15.jpg\" />"
   ]
  },
  {
   "cell_type": "markdown",
   "id": "284f8aec-36ee-4ecc-a425-4d42f82b9da7",
   "metadata": {},
   "source": [
    "## Obstacles"
   ]
  },
  {
   "cell_type": "markdown",
   "id": "b3cb41e3-11db-4e0a-91f9-79db88fa29e4",
   "metadata": {},
   "source": [
    "The traditional data science model leans heavily on the implicit idea that the Data Scientist is trusted with a copy of the data to look at, inspect and execute against, or in some circumstances can only write code on-site which is then manually reviewed.\n",
    "\n",
    "Moving to a paradigm where existing Data Science tools must be run over a secure network, between multiple different peer servers poses a number of new challenges which are not implicitly solved by the PETs \"car parts\" we have above."
   ]
  },
  {
   "cell_type": "markdown",
   "id": "6254b571-bb14-4c6e-8850-8e4d70ea83db",
   "metadata": {},
   "source": [
    "👜 Heres our shopping list:\n",
    "\n",
    "⬛️ We need somewhere for Data Owners to securely store data  \n",
    "⬛️ We need the place they store their data to not require extraneous copies such as requiring it gets uploaded to the public cloud  \n",
    "⬛️ We need different Datasets to be combineable without copying or centralizing the data  \n",
    "⬛️ We need the Data servers to bi-directionally communicate from any type of Network  \n",
    "⬛️ We need a way for Data Scientists to safely run code on those servers  \n",
    "⬛️ We need this to be compatible with existing Data Science tools and workflows  "
   ]
  },
  {
   "cell_type": "markdown",
   "id": "9ea5fbef-1611-4ff5-9550-48717e4fbb4a",
   "metadata": {},
   "source": [
    "Sounds easy right..."
   ]
  },
  {
   "cell_type": "markdown",
   "id": "2b725057-d2bf-4852-a935-97acca9d0317",
   "metadata": {},
   "source": [
    "## Compute at the Edge"
   ]
  },
  {
   "cell_type": "markdown",
   "id": "836f1396-ecb6-431a-bc10-2992128c9c0b",
   "metadata": {},
   "source": [
    "We talked a lot about not copying data. This is almost the opposite of every other trend that is happening today. More and more our computing devices are storing all their data in the cloud. If the above system is to work, we can't expect Data Owners to just upload their most private and sensitive data of their Data Subjects to some public cloud server they don't physically control, run by another company, beholden to another nations laws; and 🤞 cross our fingers.\n",
    "\n",
    "Additionally the very algorithms (such as SMPC) we are relying on above, require bi-directional communication to be initiated between any and all parties.\n"
   ]
  },
  {
   "cell_type": "markdown",
   "id": "87adfaff-ce4f-4243-9a19-05f444e4459d",
   "metadata": {},
   "source": [
    "Unfortunately, due to the rise in hacking and exploitation of network connections, as well as limitations of IPv4 address space; internet connections are largely limited into two categories.\n",
    "\n",
    "Networks connections which allow bi-directional communications, such as servers who must both respond to incoming client connections, and make additional outbound connections of their own.\n",
    "\n",
    "Network connections which allow only outgoing communications, such as Home or Phone internet connections which Firewall incoming requests and only allow return traffic initiated by the User or Client."
   ]
  },
  {
   "cell_type": "markdown",
   "id": "045ceeae-9e39-4664-b245-1328199b9204",
   "metadata": {},
   "source": [
    "Taken to its fullest conclusion, data should remain as uncentralized and physically protected as possible, and therefore the ability for Data Owners to participate in decentralized Secure Multi-Party Computation (SMPC) should not be prevented by homogenous and restrictive hardware and operating system requirements, or client only network connections."
   ]
  },
  {
   "cell_type": "markdown",
   "id": "4b580044-d0ed-4f24-892e-f176b565d5e8",
   "metadata": {},
   "source": [
    "Okay, 😅 just a few small issues..."
   ]
  },
  {
   "cell_type": "markdown",
   "id": "58a3f599-1a53-40bb-b592-4ab541849ac0",
   "metadata": {},
   "source": [
    "❌ Must allow bi-directional networking otherwise copies must be sent to a server  \n",
    "❌ Must run on the hardware where the data is, not just public cloud linux infrastructure"
   ]
  },
  {
   "cell_type": "markdown",
   "id": "a7d21ae2-93de-443e-bd1b-e89bbd8a3505",
   "metadata": {},
   "source": [
    "<table style=\"border:1px solid gray;\" width=\"100%\"><tr><td align=\"left\" valign=\"top\" width=\"50px;\"><img src=\"data:image/png;base64, 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\" /></td>\n",
    "<td valign=\"top\" align=\"left\"><h3 style=\"margin-top: 5px; margin-bottom:5px;\">Discussion Time ⁉️</h3></td>\n",
    "</tr>\n",
    "<tr style=\"background:none;\">\n",
    "    <td></td>\n",
    "    <td>\n",
    "<p>If you have any questions, feel free to ask.<br />If we don't know the answers now, we will find them out after.</p>\n",
    "    </td>\n",
    "</tr>\n",
    "</table>"
   ]
  },
  {
   "cell_type": "markdown",
   "id": "38f563c4-3c41-4875-ab97-d42cac6a6ed3",
   "metadata": {},
   "source": [
    "## Secure Remote Procedure Call (RPC)"
   ]
  },
  {
   "cell_type": "markdown",
   "id": "a47c1f70-9a1a-422d-bc2c-47dc06f14717",
   "metadata": {},
   "source": [
    "Okay so we can just let the Data Scientist send in their Python code and run it right?"
   ]
  },
  {
   "cell_type": "markdown",
   "id": "184fdcf0-8811-4d3a-a938-e31147b1e9e2",
   "metadata": {},
   "source": [
    "Remote Proceedure Call is the concept of making a request from one machine to another to execute some functionality."
   ]
  },
  {
   "cell_type": "markdown",
   "id": "9b3b7812-003e-4412-8286-0f028e073847",
   "metadata": {},
   "source": [
    "It doesn't take a lot of thinking to realise that allowing any arbitrary code execution to be run by an untrusted party will quickly result in hacking and exploitation. In fact this is how many Data Privacy breaches occur in the first place."
   ]
  },
  {
   "cell_type": "markdown",
   "id": "3d901832-2263-4db0-9d76-f2b519e224f2",
   "metadata": {},
   "source": [
    "It turns out, for reasons we will get into in a later lesson, the ability to store and send arbitrary code in a secure way is an unsolved problem."
   ]
  },
  {
   "cell_type": "markdown",
   "id": "b140875f-e4b5-47a4-8b81-ee1fbde3c635",
   "metadata": {},
   "source": [
    "Most people would be familiar with the concept of Application Programming Interfaces (APIs) for software or web servers. APIs are carefully constructed to provide only the necessary functionality that a user requires, while also providing forms of Authentication and Authorization."
   ]
  },
  {
   "cell_type": "markdown",
   "id": "43107896-dc63-42e7-9a50-e6491879aefd",
   "metadata": {},
   "source": [
    "However, its nearly impossible to anticipate exactly what code and actions a Data Scientist will need to perform to get their job done. Much of a Data Scientists work is exploratory. Additionally, even if we could create an API for every desired action, having to convert and ferry data and code between two environments continuously just to get the job done would be a non starter."
   ]
  },
  {
   "cell_type": "markdown",
   "id": "6aa26a7a-c220-4c0a-9352-5dcc9b30a383",
   "metadata": {},
   "source": [
    "Okay, add 'em to the list 😬"
   ]
  },
  {
   "cell_type": "markdown",
   "id": "04f613ed-f9ac-4da8-bf95-d2b1c5d49a5a",
   "metadata": {},
   "source": [
    "❌ Can't allow any plain code to be sent from Data Scientists to run on a Domain Server  \n",
    "❌ Data Science must be doable with a familiar API and integrate with existing tools  "
   ]
  },
  {
   "cell_type": "markdown",
   "id": "a288e2f3-a845-427a-823f-97131f588f84",
   "metadata": {},
   "source": [
    "<table style=\"border:1px solid gray;\" width=\"100%\"><tr><td align=\"left\" valign=\"top\" width=\"50px;\"><img src=\"data:image/png;base64, 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\" /></td>\n",
    "<td valign=\"top\" align=\"left\"><h3 style=\"margin-top: 5px; margin-bottom:5px;\">Discussion Time ⁉️</h3></td>\n",
    "</tr>\n",
    "<tr style=\"background:none;\">\n",
    "    <td></td>\n",
    "    <td>\n",
    "<p>If you have any questions, feel free to ask.<br />If we don't know the answers now, we will find them out after.</p>\n",
    "    </td>\n",
    "</tr>\n",
    "</table>"
   ]
  },
  {
   "cell_type": "markdown",
   "id": "d381d150-3a04-4e84-94f7-7b5e0d2b476d",
   "metadata": {},
   "source": [
    "And so... 🥁\n",
    "\n",
    "thats what we built."
   ]
  },
  {
   "cell_type": "markdown",
   "id": "922f331e-1365-40ff-8000-ce1f394d4320",
   "metadata": {},
   "source": [
    "## Syft + Grid"
   ]
  },
  {
   "cell_type": "markdown",
   "id": "12578eb7-5be1-484d-a2de-81df6696b5e1",
   "metadata": {},
   "source": [
    "### Syft"
   ]
  },
  {
   "cell_type": "markdown",
   "id": "82d3aaf5-81cf-4d28-b5f8-14550e4f6654",
   "metadata": {},
   "source": [
    "Syft is a set of data serialization and remote code execution APIs which mimic existing popular Data Science tools while working interchangeably with existing popular data types. One of the ways this works is by providing a special Proxy object in Python which acts like a Network Pointer to a remote object on a Domain Server. These Pointers look, act and feel just like real objects, but cannot be copied or viewed without special permissions.\n",
    "\n",
    "✅ Write familiar Data Science code in Python  \n",
    "✅ Execute Data Science operations without sending in Raw Code or Copying data  "
   ]
  },
  {
   "cell_type": "markdown",
   "id": "7a2c2b6e-ee62-47cd-b3c2-653f58cff89a",
   "metadata": {},
   "source": [
    "### Grid"
   ]
  },
  {
   "cell_type": "markdown",
   "id": "61be430f-c144-451a-81bb-c4bca4330011",
   "metadata": {},
   "source": [
    "Meanwhile Grid, is the server component of this architecture which runs a set of containers around the data that you want to protect and safely utilize. By using Containers we can run this on Mac, Windows and Linux meaning Grid comes to where the data lives not the other way around. Additionally, to provide users who either can't open ports for incoming traffic to their Networks or don't know how, we include an optional zero-configuration end to end encrypted VPN which can bypass most basic firewalls."
   ]
  },
  {
   "cell_type": "markdown",
   "id": "14433af0-e265-4a86-9299-f2342a11ba2e",
   "metadata": {},
   "source": [
    "✅ Cross-platform Server running where the data lives  \n",
    "✅ Bi-directional Networking via Optional Firewall Traversal  "
   ]
  },
  {
   "cell_type": "markdown",
   "id": "35603b0c-fef6-416a-abf8-4f5342377369",
   "metadata": {},
   "source": [
    "And this is what it looks like:"
   ]
  },
  {
   "cell_type": "markdown",
   "id": "bd06c15e-a428-4a2c-8da5-38e304256e5a",
   "metadata": {},
   "source": [
    "<img src=\"https://github.com/OpenMined/PySyft/raw/dev/packages/syft/docs/img/header.png\" />"
   ]
  },
  {
   "cell_type": "markdown",
   "id": "526d5f04-93a0-4b51-89fb-ffda521fd0f3",
   "metadata": {},
   "source": [
    "<table style=\"border:1px solid gray;\" width=\"100%\"><tr><td align=\"left\" valign=\"top\" width=\"50px;\"><img src=\"data:image/png;base64, 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\" /></td>\n",
    "<td valign=\"top\" align=\"left\"><h3 style=\"margin-top: 5px; margin-bottom:5px;\">Discussion Time ⁉️</h3></td>\n",
    "</tr>\n",
    "<tr style=\"background:none;\">\n",
    "    <td></td>\n",
    "    <td>\n",
    "<p>If you have any questions, feel free to ask.<br />If we don't know the answers now, we will find them out after.</p>\n",
    "    </td>\n",
    "</tr>\n",
    "</table>"
   ]
  },
  {
   "cell_type": "markdown",
   "id": "ac921eb4-326d-425a-b90a-1d181c81e9a5",
   "metadata": {},
   "source": [
    "<img src=\"https://media.giphy.com/media/26u4lOMA8JKSnL9Uk/giphy.gif\" />"
   ]
  },
  {
   "cell_type": "markdown",
   "id": "c595a430-fb21-482f-9bf9-0450b6dc269d",
   "metadata": {},
   "source": [
    "## 📚 Homework"
   ]
  },
  {
   "cell_type": "markdown",
   "id": "3c362c9f-6c1a-4955-8617-64038a4d12ca",
   "metadata": {},
   "source": [
    "To maximise your understanding of the material, we recommend you review this notebook on your own time."
   ]
  },
  {
   "cell_type": "markdown",
   "id": "29eae82d-3eba-4ee8-89b4-8a51bf0b7a49",
   "metadata": {},
   "source": [
    "While not required we highly recommend you read at least some of these resources:"
   ]
  },
  {
   "cell_type": "markdown",
   "id": "1338d6f2-fcb9-48f8-8797-92cb3c7248e7",
   "metadata": {},
   "source": [
    "<blockquote><strong>📕 Paper</strong><br /><a href=\"https://arxiv.org/abs/cs/0610105\">How To Break Anonymity of the Netflix Prize Dataset</a></blockquote>\n",
    "\n",
    "<blockquote><strong>📘 Journal Article</strong><br /><a href=\"https://academic.oup.com/idpl/article/10/1/11/5802594\">They who must not be identified—distinguishing personal from non-personal data under the GDPR</a></blockquote>\n",
    "\n",
    "<blockquote><strong>🔗 Web Link</strong><br /><a href=\"https://en.wikipedia.org/wiki/Pareto_efficiency\">https://en.wikipedia.org/wiki/Pareto_efficiency</a></blockquote>\n",
    "\n",
    "<blockquote><strong>🔗 Web Link</strong><br /><a href=\"https://en.wikipedia.org/wiki/Privacy-enhancing_technologies\">https://en.wikipedia.org/wiki/Privacy-enhancing_technologies</a></blockquote>"
   ]
  },
  {
   "cell_type": "markdown",
   "id": "7dd9a8fc-215d-4c66-b411-086f6199fc4d",
   "metadata": {},
   "source": [
    "## BONUS\n",
    "\n",
    "Complete Course 1: <a href=\"https://courses.openmined.org/courses/our-privacy-opportunity\">Our Privacy Opportunity</a>\n",
    "\n",
    "NOTE: There is no requirement to complete Course 1 in any time limit during the rest of the Padawan Program."
   ]
  },
  {
   "cell_type": "markdown",
   "id": "c1fc93b4-3e1f-4a1c-be3b-039d4cb843ce",
   "metadata": {},
   "source": [
    "<br /><br /><br />"
   ]
  },
  {
   "cell_type": "markdown",
   "id": "3e97c68d-0053-48c5-bed7-223a789d7825",
   "metadata": {},
   "source": [
    "<table width=\"100%\"><tr><td align=\"left\"><a href=\"00-welcome.ipynb\">Welcome</a></td><td><img src=\"data:image/png;base64, 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\" /></td><td align=\"right\"><a href=\"02-dev-setup.ipynb\">Lesson 2</a></td></tr></table>"
   ]
  },
  {
   "cell_type": "code",
   "execution_count": null,
   "id": "48c1993c-1e0e-4925-b2fb-81f12c82d699",
   "metadata": {},
   "outputs": [],
   "source": []
  }
 ],
 "metadata": {
  "kernelspec": {
   "display_name": "Python 3 (ipykernel)",
   "language": "python",
   "name": "python3"
  },
  "language_info": {
   "codemirror_mode": {
    "name": "ipython",
    "version": 3
   },
   "file_extension": ".py",
   "mimetype": "text/x-python",
   "name": "python",
   "nbconvert_exporter": "python",
   "pygments_lexer": "ipython3",
   "version": "3.10.4"
  }
 },
 "nbformat": 4,
 "nbformat_minor": 5
}
