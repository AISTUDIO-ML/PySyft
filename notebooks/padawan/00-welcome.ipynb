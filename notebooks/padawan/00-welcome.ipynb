{
 "cells": [
  {
   "cell_type": "code",
   "execution_count": 1,
   "id": "c4c98e27-9131-4f50-80e2-33196d9b9b12",
   "metadata": {},
   "outputs": [],
   "source": [
    "# Welcome"
   ]
  },
  {
   "cell_type": "code",
   "execution_count": null,
   "id": "fc61e201-b946-4507-a071-3447e714654c",
   "metadata": {},
   "outputs": [],
   "source": []
  },
  {
   "cell_type": "markdown",
   "id": "fa7ded25-bbc9-4713-9dc5-a93048b08bfb",
   "metadata": {},
   "source": []
  },
  {
   "cell_type": "code",
   "execution_count": null,
   "id": "3cdd631d-049a-46e4-ae22-c6362ddabb07",
   "metadata": {},
   "outputs": [],
   "source": []
  }
 ],
 "metadata": {
  "kernelspec": {
   "display_name": "Python 3 (ipykernel)",
   "language": "python",
   "name": "python3"
  },
  "language_info": {
   "codemirror_mode": {
    "name": "ipython",
    "version": 3
   },
   "file_extension": ".py",
   "mimetype": "text/x-python",
   "name": "python",
   "nbconvert_exporter": "python",
   "pygments_lexer": "ipython3",
   "version": "3.10.4"
  }
 },
 "nbformat": 4,
 "nbformat_minor": 5
}
