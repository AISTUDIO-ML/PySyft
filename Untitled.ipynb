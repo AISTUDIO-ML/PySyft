{
 "cells": [
  {
   "cell_type": "code",
   "execution_count": 1,
   "id": "046396ca-e6b6-4a11-b24a-40a4b80166df",
   "metadata": {},
   "outputs": [],
   "source": [
    "import syft as sy"
   ]
  },
  {
   "cell_type": "code",
   "execution_count": 2,
   "id": "6fb33b7f-fd41-4826-badd-b7b008b2e702",
   "metadata": {},
   "outputs": [
    {
     "name": "stdout",
     "output_type": "stream",
     "text": [
      "WARNING: CHANGE YOUR USERNAME AND PASSWORD!!! \n",
      "\n",
      "Anyone can login as an admin to your node right now because your password is still the default PySyft username and password!!!\n",
      "\n",
      "Connecting to localhost... done! \t Logging into xyz... done!\n"
     ]
    }
   ],
   "source": [
    "admin = sy.login(url=\"localhost\",port=8081,email=\"info@openmined.org\",password=\"changethis\")"
   ]
  },
  {
   "cell_type": "code",
   "execution_count": 3,
   "id": "957ac3b9-9b18-4f91-b06e-99817d01f584",
   "metadata": {},
   "outputs": [
    {
     "data": {
      "text/plain": [
       "5.55"
      ]
     },
     "execution_count": 3,
     "metadata": {},
     "output_type": "execute_result"
    }
   ],
   "source": [
    "admin.privacy_budget"
   ]
  },
  {
   "cell_type": "code",
   "execution_count": 4,
   "id": "e4a615f2-9572-4388-86c9-14fa4c5259cb",
   "metadata": {},
   "outputs": [],
   "source": [
    "import oblv as oblv"
   ]
  },
  {
   "cell_type": "code",
   "execution_count": 5,
   "id": "e0bfeb0e-b398-4703-80d6-827a3fddc39a",
   "metadata": {},
   "outputs": [],
   "source": [
    "import os\n",
    "os.environ[\"USE_NEW_SERVICE\"]=\"False\""
   ]
  },
  {
   "cell_type": "code",
   "execution_count": 6,
   "id": "d39c4218-dcc8-4ba6-804c-d5985be3e33a",
   "metadata": {},
   "outputs": [
    {
     "name": "stdout",
     "output_type": "stream",
     "text": [
      "<class 'syft.core.node.common.client_manager.oblv_api.OblvAPI'>\n"
     ]
    }
   ],
   "source": [
    "print(type(admin.oblv))"
   ]
  },
  {
   "cell_type": "code",
   "execution_count": 7,
   "id": "1d2428d5-4b81-4357-b460-fde71446c4dd",
   "metadata": {},
   "outputs": [
    {
     "name": "stderr",
     "output_type": "stream",
     "text": [
      "[2022-08-02T19:37:11.217591+0530][CRITICAL][logger]][27508] UnknownPrivateException has been triggered.\n"
     ]
    },
    {
     "ename": "UnknownPrivateException",
     "evalue": "UnknownPrivateException has been triggered.",
     "output_type": "error",
     "traceback": [
      "\u001b[1;31m---------------------------------------------------------------------------\u001b[0m",
      "\u001b[1;31mUnknownPrivateException\u001b[0m                   Traceback (most recent call last)",
      "Input \u001b[1;32mIn [7]\u001b[0m, in \u001b[0;36m<cell line: 1>\u001b[1;34m()\u001b[0m\n\u001b[1;32m----> 1\u001b[0m \u001b[43madmin\u001b[49m\u001b[38;5;241;43m.\u001b[39;49m\u001b[43moblv\u001b[49m\u001b[38;5;241;43m.\u001b[39;49m\u001b[43mget\u001b[49m\u001b[43m(\u001b[49m\u001b[43m)\u001b[49m\n",
      "File \u001b[1;32mc:\\users\\bangv\\oblivious\\pysyft\\packages\\syft\\src\\syft\\core\\node\\common\\client_manager\\oblv_api.py:22\u001b[0m, in \u001b[0;36mOblvAPI.get\u001b[1;34m(self, **kwargs)\u001b[0m\n\u001b[0;32m     21\u001b[0m \u001b[38;5;28;01mdef\u001b[39;00m \u001b[38;5;21mget\u001b[39m(\u001b[38;5;28mself\u001b[39m, \u001b[38;5;241m*\u001b[39m\u001b[38;5;241m*\u001b[39mkwargs: Any) \u001b[38;5;241m-\u001b[39m\u001b[38;5;241m>\u001b[39m Any:\n\u001b[1;32m---> 22\u001b[0m     response \u001b[38;5;241m=\u001b[39m \u001b[38;5;28;43mself\u001b[39;49m\u001b[38;5;241;43m.\u001b[39;49m\u001b[43mperform_api_request\u001b[49m\u001b[43m(\u001b[49m\u001b[43msyft_msg\u001b[49m\u001b[38;5;241;43m=\u001b[39;49m\u001b[38;5;28;43mself\u001b[39;49m\u001b[38;5;241;43m.\u001b[39;49m\u001b[43m_get_message\u001b[49m\u001b[43m,\u001b[49m\u001b[43m \u001b[49m\u001b[43mcontent\u001b[49m\u001b[38;5;241;43m=\u001b[39;49m\u001b[43mkwargs\u001b[49m\u001b[43m)\u001b[49m\n\u001b[0;32m     23\u001b[0m     content \u001b[38;5;241m=\u001b[39m \u001b[38;5;28mgetattr\u001b[39m(\n\u001b[0;32m     24\u001b[0m         response, \u001b[38;5;124m\"\u001b[39m\u001b[38;5;124mresponse\u001b[39m\u001b[38;5;124m\"\u001b[39m\n\u001b[0;32m     25\u001b[0m     )\n\u001b[0;32m     26\u001b[0m     \u001b[38;5;28;01mif\u001b[39;00m content \u001b[38;5;129;01mis\u001b[39;00m \u001b[38;5;28;01mNone\u001b[39;00m:\n",
      "File \u001b[1;32mc:\\users\\bangv\\oblivious\\pysyft\\packages\\syft\\src\\syft\\core\\node\\common\\client_manager\\request_api.py:142\u001b[0m, in \u001b[0;36mRequestAPI.perform_api_request\u001b[1;34m(self, syft_msg, content, timeout)\u001b[0m\n\u001b[0;32m    137\u001b[0m content[RequestAPIFields\u001b[38;5;241m.\u001b[39mREPLY_TO] \u001b[38;5;241m=\u001b[39m \u001b[38;5;28mself\u001b[39m\u001b[38;5;241m.\u001b[39mclient\u001b[38;5;241m.\u001b[39maddress\n\u001b[0;32m    139\u001b[0m signed_msg \u001b[38;5;241m=\u001b[39m syft_msg_constructor(\u001b[38;5;241m*\u001b[39m\u001b[38;5;241m*\u001b[39mcontent)\u001b[38;5;241m.\u001b[39msign(\n\u001b[0;32m    140\u001b[0m     signing_key\u001b[38;5;241m=\u001b[39m\u001b[38;5;28mself\u001b[39m\u001b[38;5;241m.\u001b[39mclient\u001b[38;5;241m.\u001b[39msigning_key\n\u001b[0;32m    141\u001b[0m )  \u001b[38;5;66;03m# type: ignore\u001b[39;00m\n\u001b[1;32m--> 142\u001b[0m response \u001b[38;5;241m=\u001b[39m \u001b[38;5;28;43mself\u001b[39;49m\u001b[38;5;241;43m.\u001b[39;49m\u001b[43mclient\u001b[49m\u001b[38;5;241;43m.\u001b[39;49m\u001b[43msend_immediate_msg_with_reply\u001b[49m\u001b[43m(\u001b[49m\n\u001b[0;32m    143\u001b[0m \u001b[43m    \u001b[49m\u001b[43mmsg\u001b[49m\u001b[38;5;241;43m=\u001b[39;49m\u001b[43msigned_msg\u001b[49m\u001b[43m,\u001b[49m\u001b[43m \u001b[49m\u001b[43mtimeout\u001b[49m\u001b[38;5;241;43m=\u001b[39;49m\u001b[43mtimeout\u001b[49m\n\u001b[0;32m    144\u001b[0m \u001b[43m\u001b[49m\u001b[43m)\u001b[49m\n\u001b[0;32m    145\u001b[0m \u001b[38;5;28;01mif\u001b[39;00m \u001b[38;5;28misinstance\u001b[39m(response, ExceptionMessage):\n\u001b[0;32m    146\u001b[0m     \u001b[38;5;28;01mraise\u001b[39;00m response\u001b[38;5;241m.\u001b[39mexception_type\n",
      "File \u001b[1;32mc:\\users\\bangv\\oblivious\\pysyft\\packages\\syft\\src\\syft\\core\\node\\common\\client.py:254\u001b[0m, in \u001b[0;36mClient.send_immediate_msg_with_reply\u001b[1;34m(self, msg, timeout, return_signed, route_index)\u001b[0m\n\u001b[0;32m    252\u001b[0m     exception \u001b[38;5;241m=\u001b[39m exception_msg\u001b[38;5;241m.\u001b[39mexception_type(exception_msg\u001b[38;5;241m.\u001b[39mexception_msg)\n\u001b[0;32m    253\u001b[0m     error(\u001b[38;5;28mstr\u001b[39m(exception))\n\u001b[1;32m--> 254\u001b[0m     \u001b[43mtraceback_and_raise\u001b[49m\u001b[43m(\u001b[49m\u001b[43mexception\u001b[49m\u001b[43m)\u001b[49m\n\u001b[0;32m    255\u001b[0m \u001b[38;5;28;01melse\u001b[39;00m:\n\u001b[0;32m    256\u001b[0m     \u001b[38;5;28;01mif\u001b[39;00m return_signed:\n",
      "File \u001b[1;32mc:\\users\\bangv\\oblivious\\pysyft\\packages\\syft\\src\\syft\\logger.py:70\u001b[0m, in \u001b[0;36mtraceback_and_raise\u001b[1;34m(e, verbose)\u001b[0m\n\u001b[0;32m     68\u001b[0m \u001b[38;5;28;01mif\u001b[39;00m \u001b[38;5;129;01mnot\u001b[39;00m \u001b[38;5;28missubclass\u001b[39m(\u001b[38;5;28mtype\u001b[39m(e), \u001b[38;5;167;01mException\u001b[39;00m):\n\u001b[0;32m     69\u001b[0m     e \u001b[38;5;241m=\u001b[39m \u001b[38;5;167;01mException\u001b[39;00m(e)\n\u001b[1;32m---> 70\u001b[0m \u001b[38;5;28;01mraise\u001b[39;00m e\n",
      "\u001b[1;31mUnknownPrivateException\u001b[0m: UnknownPrivateException has been triggered."
     ]
    }
   ],
   "source": [
    "admin.oblv.get()"
   ]
  },
  {
   "cell_type": "code",
   "execution_count": null,
   "id": "0e080e64-67f9-4216-8fb1-719fe843a2ee",
   "metadata": {},
   "outputs": [],
   "source": []
  },
  {
   "cell_type": "code",
   "execution_count": null,
   "id": "0968a0e2-bab4-4449-9632-388560ef7549",
   "metadata": {},
   "outputs": [],
   "source": []
  },
  {
   "cell_type": "code",
   "execution_count": null,
   "id": "e4de20d2-e39c-481a-9e12-f13be68997e4",
   "metadata": {},
   "outputs": [],
   "source": []
  }
 ],
 "metadata": {
  "kernelspec": {
   "display_name": "Python 3 (ipykernel)",
   "language": "python",
   "name": "python3"
  },
  "language_info": {
   "codemirror_mode": {
    "name": "ipython",
    "version": 3
   },
   "file_extension": ".py",
   "mimetype": "text/x-python",
   "name": "python",
   "nbconvert_exporter": "python",
   "pygments_lexer": "ipython3",
   "version": "3.9.7"
  }
 },
 "nbformat": 4,
 "nbformat_minor": 5
}
